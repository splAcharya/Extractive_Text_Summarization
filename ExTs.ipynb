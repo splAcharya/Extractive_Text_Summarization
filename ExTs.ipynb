{
  "cells": [
    {
      "cell_type": "markdown",
      "metadata": {
        "id": "view-in-github",
        "colab_type": "text"
      },
      "source": [
        "<a href=\"https://colab.research.google.com/github/splAcharya/Extractive_Text_Summarization/blob/main/ExTs.ipynb\" target=\"_parent\"><img src=\"https://colab.research.google.com/assets/colab-badge.svg\" alt=\"Open In Colab\"/></a>"
      ]
    },
    {
      "cell_type": "markdown",
      "id": "objective-being",
      "metadata": {
        "id": "objective-being"
      },
      "source": [
        "# Extractive Text Summarization Of Wikipedia Articles"
      ]
    },
    {
      "cell_type": "code",
      "source": [
        ""
      ],
      "metadata": {
        "id": "j0hIFyNN_2G0"
      },
      "id": "j0hIFyNN_2G0",
      "execution_count": null,
      "outputs": []
    },
    {
      "cell_type": "markdown",
      "source": [
        "## Install Packages (if needed)"
      ],
      "metadata": {
        "id": "valMZEg__23K"
      },
      "id": "valMZEg__23K"
    },
    {
      "cell_type": "code",
      "source": [
        "#gensim\n",
        "!pip install --upgrade gensim\n",
        "\n",
        "#rouge scorer\n",
        "!pip install rouge-score"
      ],
      "metadata": {
        "colab": {
          "base_uri": "https://localhost:8080/",
          "height": 446
        },
        "id": "4bxbiiQG_6-y",
        "outputId": "83567796-cf9e-4b8f-d76d-dedf9b4d9630"
      },
      "id": "4bxbiiQG_6-y",
      "execution_count": 75,
      "outputs": [
        {
          "output_type": "stream",
          "name": "stdout",
          "text": [
            "Requirement already satisfied: gensim in /usr/local/lib/python3.7/dist-packages (3.6.0)\n",
            "Collecting gensim\n",
            "  Downloading gensim-4.1.2-cp37-cp37m-manylinux_2_12_x86_64.manylinux2010_x86_64.whl (24.1 MB)\n",
            "\u001b[K     |████████████████████████████████| 24.1 MB 1.3 MB/s \n",
            "\u001b[?25hRequirement already satisfied: scipy>=0.18.1 in /usr/local/lib/python3.7/dist-packages (from gensim) (1.4.1)\n",
            "Requirement already satisfied: numpy>=1.17.0 in /usr/local/lib/python3.7/dist-packages (from gensim) (1.19.5)\n",
            "Requirement already satisfied: smart-open>=1.8.1 in /usr/local/lib/python3.7/dist-packages (from gensim) (5.2.1)\n",
            "Installing collected packages: gensim\n",
            "  Attempting uninstall: gensim\n",
            "    Found existing installation: gensim 3.6.0\n",
            "    Uninstalling gensim-3.6.0:\n",
            "      Successfully uninstalled gensim-3.6.0\n",
            "Successfully installed gensim-4.1.2\n"
          ]
        },
        {
          "output_type": "display_data",
          "data": {
            "application/vnd.colab-display-data+json": {
              "pip_warning": {
                "packages": [
                  "gensim"
                ]
              }
            }
          },
          "metadata": {}
        },
        {
          "output_type": "stream",
          "name": "stdout",
          "text": [
            "Requirement already satisfied: rouge-score in /usr/local/lib/python3.7/dist-packages (0.0.4)\n",
            "Requirement already satisfied: numpy in /usr/local/lib/python3.7/dist-packages (from rouge-score) (1.19.5)\n",
            "Requirement already satisfied: six>=1.14.0 in /usr/local/lib/python3.7/dist-packages (from rouge-score) (1.15.0)\n",
            "Requirement already satisfied: absl-py in /usr/local/lib/python3.7/dist-packages (from rouge-score) (0.12.0)\n",
            "Requirement already satisfied: nltk in /usr/local/lib/python3.7/dist-packages (from rouge-score) (3.2.5)\n"
          ]
        }
      ]
    },
    {
      "cell_type": "markdown",
      "id": "promotional-protection",
      "metadata": {
        "id": "promotional-protection"
      },
      "source": [
        "## Import Required Libraries"
      ]
    },
    {
      "cell_type": "code",
      "execution_count": 318,
      "id": "urban-python",
      "metadata": {
        "colab": {
          "base_uri": "https://localhost:8080/"
        },
        "id": "urban-python",
        "outputId": "df19dd75-5b37-47d5-b361-f8bb90e9c3e9"
      },
      "outputs": [
        {
          "output_type": "stream",
          "name": "stdout",
          "text": [
            "[nltk_data] Downloading package stopwords to /root/nltk_data...\n",
            "[nltk_data]   Package stopwords is already up-to-date!\n",
            "[nltk_data] Downloading package punkt to /root/nltk_data...\n",
            "[nltk_data]   Package punkt is already up-to-date!\n",
            "[nltk_data] Downloading package wordnet to /root/nltk_data...\n",
            "[nltk_data]   Package wordnet is already up-to-date!\n",
            "Number of Cores: 2\n"
          ]
        }
      ],
      "source": [
        "import time\n",
        "\n",
        "import re\n",
        "\n",
        "import urllib.request\n",
        "from bs4 import BeautifulSoup as bs\n",
        "\n",
        "import string\n",
        "pm_set = set(list(string.punctuation))\n",
        "\n",
        "import nltk\n",
        "from nltk.corpus import stopwords\n",
        "nltk.download(\"stopwords\")\n",
        "nltk.download('punkt')\n",
        "nltk.download('wordnet')\n",
        "sw_set = set(stopwords.words(\"english\"))\n",
        "\n",
        "from nltk.tokenize import sent_tokenize, word_tokenize\n",
        "from nltk.stem.wordnet import WordNetLemmatizer\n",
        "from gensim.models import Word2Vec\n",
        "import gensim.downloader\n",
        "from gensim.models import Phrases\n",
        "\n",
        "import multiprocessing\n",
        "num_cores = multiprocessing.cpu_count()\n",
        "print(f\"Number of Cores: {num_cores}\")\n",
        "\n",
        "from wordcloud import WordCloud\n",
        "from PIL import Image\n",
        "from matplotlib import pyplot as plt\n",
        "import numpy as np\n",
        "\n",
        "from sklearn.utils.extmath import randomized_svd\n",
        "from sklearn.feature_extraction.text import CountVectorizer\n",
        "from sklearn.feature_extraction.text import TfidfVectorizer\n",
        "from sklearn.decomposition import LatentDirichletAllocation as LDA\n",
        "\n",
        "from copy import deepcopy\n",
        "from rouge_score import rouge_scorer\n",
        "import pandas as pd\n",
        "from collections import Counter"
      ]
    },
    {
      "cell_type": "code",
      "execution_count": 1,
      "id": "enabling-ceramic",
      "metadata": {
        "id": "enabling-ceramic"
      },
      "outputs": [],
      "source": [
        ""
      ]
    },
    {
      "cell_type": "code",
      "execution_count": 1,
      "id": "dff747d7-26af-4404-ad54-f79fe8b0920e",
      "metadata": {
        "id": "dff747d7-26af-4404-ad54-f79fe8b0920e"
      },
      "outputs": [],
      "source": [
        ""
      ]
    },
    {
      "cell_type": "markdown",
      "id": "floral-acoustic",
      "metadata": {
        "id": "floral-acoustic"
      },
      "source": [
        "## Function to Webscrapte Wikipedia Article"
      ]
    },
    {
      "cell_type": "code",
      "execution_count": 2,
      "id": "linear-sending",
      "metadata": {
        "id": "linear-sending"
      },
      "outputs": [],
      "source": [
        "def fetch_wikipedia_article(url=\"https://en.wikipedia.org/wiki/USA\"):\n",
        "    scrapped_data = urllib.request.urlopen(url)\n",
        "    article = scrapped_data.read()\n",
        "    parsed_article = bs(article,\"lxml\")\n",
        "    paragraphs = parsed_article.find_all(\"p\")\n",
        "    article_text = \"\"\n",
        "    for p in paragraphs:\n",
        "        article_text += p.text\n",
        "    return article_text"
      ]
    },
    {
      "cell_type": "code",
      "execution_count": 2,
      "id": "introductory-forward",
      "metadata": {
        "id": "introductory-forward"
      },
      "outputs": [],
      "source": [
        ""
      ]
    },
    {
      "cell_type": "markdown",
      "id": "blank-visiting",
      "metadata": {
        "id": "blank-visiting"
      },
      "source": [
        "## Function to Pre-process Web Scraped Wikipedia Article"
      ]
    },
    {
      "cell_type": "code",
      "execution_count": 2,
      "id": "ebf6181f-0b0b-4f4c-9ff2-2dcc37706fe9",
      "metadata": {
        "id": "ebf6181f-0b0b-4f4c-9ff2-2dcc37706fe9"
      },
      "outputs": [],
      "source": [
        ""
      ]
    },
    {
      "cell_type": "code",
      "execution_count": 3,
      "id": "cellular-blend",
      "metadata": {
        "id": "cellular-blend"
      },
      "outputs": [],
      "source": [
        "def preprocess_article(article, min_length = 5):\n",
        "    article_lc = article.lower()#lower case entire article\n",
        "    article_st = sent_tokenize(article_lc)#convert to sentences\n",
        "    lmtzr = WordNetLemmatizer()#instantiate lemmatize\n",
        "    pp_article_st = []\n",
        "    final_article_st = []\n",
        "    for sentence in article_st:\n",
        "        original_sentence = deepcopy(sentence)\n",
        "        #print(sentence)\n",
        "        sentence = re.sub(r\"[\\(.*\\)]\",\" \", sentence)#remove data betweena nd include round backers()\n",
        "        #print(sentence)\n",
        "        sentence = re.sub(r\"\\n\",\"\",sentence) #remove \"\\n\" characters\n",
        "        #print(sentence)\n",
        "        sentence = re.sub(r\"\\[\\d+\\]\",\" \",sentence)#remove refrences [n]\n",
        "        #print(sentence)\n",
        "        sentence = re.sub(r\"\\[.+\\]\",\" \",sentence) #remove anything between [] including []\n",
        "        #print(sentence)\n",
        "        sentence = re.sub(r\"[^a-zA-z0-9]\", \" \", sentence) #remove any non english characters\n",
        "        #print(sentence)\n",
        "        sentence = re.sub(r\"\\s+\",\" \",sentence) #remove any whitespaces, tabs, newline charaacters\n",
        "        #print(sentence)\n",
        "        sentence = [lmtzr.lemmatize(word) for word in word_tokenize(sentence) if word not in sw_set ]\n",
        "        if len(sentence) >= min_length:\n",
        "            sentence = (\" \").join(sentence)\n",
        "            pp_article_st.append(sentence)\n",
        "            final_article_st.append(original_sentence)\n",
        "    return final_article_st, pp_article_st"
      ]
    },
    {
      "cell_type": "code",
      "execution_count": 3,
      "id": "f9c64ab0-ae6b-4398-bda3-8f4c95e0b166",
      "metadata": {
        "id": "f9c64ab0-ae6b-4398-bda3-8f4c95e0b166"
      },
      "outputs": [],
      "source": [
        ""
      ]
    },
    {
      "cell_type": "code",
      "execution_count": 3,
      "id": "instrumental-arbor",
      "metadata": {
        "id": "instrumental-arbor"
      },
      "outputs": [],
      "source": [
        ""
      ]
    },
    {
      "cell_type": "code",
      "execution_count": 3,
      "id": "ed8cbb70-195d-460a-850a-5c4c02c33b3d",
      "metadata": {
        "id": "ed8cbb70-195d-460a-850a-5c4c02c33b3d"
      },
      "outputs": [],
      "source": [
        ""
      ]
    },
    {
      "cell_type": "markdown",
      "id": "matched-costume",
      "metadata": {
        "id": "matched-costume"
      },
      "source": [
        "## Using the two function above to extract Wikipedia Article about USA"
      ]
    },
    {
      "cell_type": "code",
      "execution_count": 4,
      "id": "suffering-perfume",
      "metadata": {
        "id": "suffering-perfume"
      },
      "outputs": [],
      "source": [
        "article_text = fetch_wikipedia_article(\"https://en.wikipedia.org/wiki/USA\")\n",
        "article_st, pp_article_st = preprocess_article(article_text)"
      ]
    },
    {
      "cell_type": "code",
      "execution_count": 5,
      "id": "behind-sleeping",
      "metadata": {
        "id": "behind-sleeping"
      },
      "outputs": [],
      "source": [
        "pp_string = (\" \").join(pp_article_st)"
      ]
    },
    {
      "cell_type": "code",
      "execution_count": 6,
      "id": "bf10d12d-8b17-4375-8d03-356a6c1847a0",
      "metadata": {
        "colab": {
          "base_uri": "https://localhost:8080/",
          "height": 92
        },
        "id": "bf10d12d-8b17-4375-8d03-356a6c1847a0",
        "outputId": "618f5de8-f394-4db8-f6ab-7d8da42e1306"
      },
      "outputs": [
        {
          "output_type": "execute_result",
          "data": {
            "application/vnd.google.colaboratory.intrinsic+json": {
              "type": "string"
            },
            "text/plain": [
              "'\\n\\ncoordinates: .mw-parser-output .geo-default,.mw-parser-output .geo-dms,.mw-parser-output .geo-dec{display:inline}.mw-parser-output .geo-nondefault,.mw-parser-output .geo-multi-punct{display:none}.mw-parser-output .longitude,.mw-parser-output .latitude{white-space:nowrap}40°n 100°w\\ufeff / \\ufeff40°n 100°w\\ufeff / 40; -100\\nthe united states of america (u.s.a. or usa), commonly known as the united states (u.s. or us) or america, is a country primarily located in north america.'"
            ]
          },
          "metadata": {},
          "execution_count": 6
        }
      ],
      "source": [
        "article_st[0]"
      ]
    },
    {
      "cell_type": "code",
      "execution_count": 7,
      "id": "23e7518e-1c1e-405c-89a9-1736e13258d3",
      "metadata": {
        "colab": {
          "base_uri": "https://localhost:8080/"
        },
        "id": "23e7518e-1c1e-405c-89a9-1736e13258d3",
        "outputId": "facf93de-fc1f-4615-a583-4a6290bdfb76"
      },
      "outputs": [
        {
          "output_type": "execute_result",
          "data": {
            "text/plain": [
              "['coordinate mw parser output geo default mw parser output geo dm mw parser output geo dec display inline mw parser output geo nondefault mw parser output geo multi punct display none mw parser output longitude mw parser output latitude white space nowrap 40 n 100 w 40 n 100 w 40 100the united state america u usa commonly known united state u u america country primarily located north america',\n",
              " 'consists 50 state federal district five major unincorporated territory 326 indian reservation minor possession',\n",
              " '3 8 million square mile 9 8 million square kilometer world third fourth largest country total area',\n",
              " 'united state share significant land border canada north mexico south well limited maritime border bahamas cuba russia',\n",
              " 'population 331 million people third populous country world']"
            ]
          },
          "metadata": {},
          "execution_count": 7
        }
      ],
      "source": [
        "pp_article_st[0:5]"
      ]
    },
    {
      "cell_type": "code",
      "execution_count": 7,
      "id": "f5522076-4b14-4ebe-be64-65ca378fea36",
      "metadata": {
        "id": "f5522076-4b14-4ebe-be64-65ca378fea36"
      },
      "outputs": [],
      "source": [
        ""
      ]
    },
    {
      "cell_type": "markdown",
      "id": "patent-opposition",
      "metadata": {
        "id": "patent-opposition"
      },
      "source": [
        "## Generate Word Clouds For Raw and Preprocessed Wikipedia Article about USA"
      ]
    },
    {
      "cell_type": "code",
      "execution_count": 8,
      "id": "presidential-bloom",
      "metadata": {
        "colab": {
          "base_uri": "https://localhost:8080/",
          "height": 482
        },
        "id": "presidential-bloom",
        "outputId": "66b16da5-5bf2-4012-d7c1-36833524916c"
      },
      "outputs": [
        {
          "output_type": "display_data",
          "data": {
            "image/png": "[encoded data removed]",
            "text/plain": [
              "<Figure size 1800x1800 with 2 Axes>"
            ]
          },
          "metadata": {
            "needs_background": "light"
          }
        }
      ],
      "source": [
        "wc_mask = np.array(Image.open(urllib.request.urlopen(\"http://pm1.narvii.com/5750/abb7fdf1f24f9515a1f1d16e6f05d3f03110c51f_00.jpg\")))\n",
        "wc = WordCloud(background_color=\"white\",mask=wc_mask)\n",
        "fig, ax = plt.subplots(1,2,figsize=(25,25))\n",
        "ax[0].imshow(wc.generate(article_text))\n",
        "ax[0].title.set_text(\"Raw\")\n",
        "ax[1].imshow(wc.generate(pp_string))\n",
        "ax[1].title.set_text(\"Preprocessed\")\n",
        "plt.show()"
      ]
    },
    {
      "cell_type": "code",
      "execution_count": 8,
      "id": "engaged-shore",
      "metadata": {
        "id": "engaged-shore"
      },
      "outputs": [],
      "source": [
        ""
      ]
    },
    {
      "cell_type": "markdown",
      "id": "powered-agreement",
      "metadata": {
        "id": "powered-agreement"
      },
      "source": [
        "## Define Number of Lines for Summary, This will also be use as K for LSA"
      ]
    },
    {
      "cell_type": "code",
      "execution_count": 9,
      "id": "everyday-usage",
      "metadata": {
        "id": "everyday-usage"
      },
      "outputs": [],
      "source": [
        "#define the summary length\n",
        "#This could be also though of as number of \n",
        "#import topics to be used in the summary\n",
        "N_LINE = 10"
      ]
    },
    {
      "cell_type": "code",
      "execution_count": 9,
      "id": "dominican-ownership",
      "metadata": {
        "id": "dominican-ownership"
      },
      "outputs": [],
      "source": [
        ""
      ]
    },
    {
      "cell_type": "markdown",
      "id": "sapphire-boutique",
      "metadata": {
        "id": "sapphire-boutique"
      },
      "source": [
        "## Generate Feaure Matrixes and Summaries For UNI-GRAM (1-GRAM) Occurence"
      ]
    },
    {
      "cell_type": "code",
      "execution_count": 10,
      "id": "impossible-advocate",
      "metadata": {
        "id": "impossible-advocate"
      },
      "outputs": [],
      "source": [
        "#1,1(unigrams only)  1,2(unigrams and bigrams) 2,2(bigrams only)\n",
        "count_vectorizer = CountVectorizer(ngram_range=(1,1)) \n",
        "count_vectorizer.fit(pp_article_st)\n",
        "X = count_vectorizer.transform(pp_article_st)"
      ]
    },
    {
      "cell_type": "code",
      "execution_count": 11,
      "id": "conventional-trash",
      "metadata": {
        "id": "conventional-trash"
      },
      "outputs": [],
      "source": [
        "#perform Latent Semantic Analysis (LSA)\n",
        "U, SIGMA, VT = randomized_svd(X,n_components=N_LINE,n_iter=100,random_state=100)"
      ]
    },
    {
      "cell_type": "code",
      "execution_count": 12,
      "id": "unlike-pitch",
      "metadata": {
        "colab": {
          "base_uri": "https://localhost:8080/"
        },
        "id": "unlike-pitch",
        "outputId": "3e14a8bd-bba1-4a84-e2eb-6a83e9fcc8dd"
      },
      "outputs": [
        {
          "output_type": "execute_result",
          "data": {
            "text/plain": [
              "(594, 10)"
            ]
          },
          "metadata": {},
          "execution_count": 12
        }
      ],
      "source": [
        "U.shape #document-topic"
      ]
    },
    {
      "cell_type": "code",
      "execution_count": 13,
      "id": "corporate-armenia",
      "metadata": {
        "colab": {
          "base_uri": "https://localhost:8080/"
        },
        "id": "corporate-armenia",
        "outputId": "bfa29c46-e315-465a-b5af-1ca2c0d7ecf0"
      },
      "outputs": [
        {
          "output_type": "execute_result",
          "data": {
            "text/plain": [
              "(10, 3134)"
            ]
          },
          "metadata": {},
          "execution_count": 13
        }
      ],
      "source": [
        "VT.shape #topic-term"
      ]
    },
    {
      "cell_type": "code",
      "execution_count": 14,
      "id": "reduced-marker",
      "metadata": {
        "colab": {
          "base_uri": "https://localhost:8080/"
        },
        "id": "reduced-marker",
        "outputId": "e78f4ce0-6dea-4081-9989-94ba87ae0f05"
      },
      "outputs": [
        {
          "output_type": "execute_result",
          "data": {
            "text/plain": [
              "(10,)"
            ]
          },
          "metadata": {},
          "execution_count": 14
        }
      ],
      "source": [
        "SIGMA.shape # topic - topic sparse matrix"
      ]
    },
    {
      "cell_type": "code",
      "execution_count": 15,
      "id": "subject-klein",
      "metadata": {
        "id": "subject-klein"
      },
      "outputs": [],
      "source": [
        "scores = np.sqrt(np.dot(U**2,SIGMA**2))"
      ]
    },
    {
      "cell_type": "code",
      "execution_count": 16,
      "id": "attempted-credit",
      "metadata": {
        "colab": {
          "base_uri": "https://localhost:8080/"
        },
        "id": "attempted-credit",
        "outputId": "8962981e-97f3-4646-beac-fb7c5e07701f"
      },
      "outputs": [
        {
          "output_type": "execute_result",
          "data": {
            "text/plain": [
              "(594,)"
            ]
          },
          "metadata": {},
          "execution_count": 16
        }
      ],
      "source": [
        "scores.shape"
      ]
    },
    {
      "cell_type": "code",
      "execution_count": 17,
      "id": "proper-nevada",
      "metadata": {
        "id": "proper-nevada"
      },
      "outputs": [],
      "source": [
        "#get index of highest scores\n",
        "top_scores_index = np.argsort(scores)"
      ]
    },
    {
      "cell_type": "code",
      "execution_count": 18,
      "id": "welsh-midwest",
      "metadata": {
        "id": "welsh-midwest"
      },
      "outputs": [],
      "source": [
        "#sort the indexes in descending order\n",
        "top_scores_index = top_scores_index[::-1]"
      ]
    },
    {
      "cell_type": "code",
      "execution_count": 19,
      "id": "considered-philadelphia",
      "metadata": {
        "id": "considered-philadelphia"
      },
      "outputs": [],
      "source": [
        "#get top N Scores index\n",
        "top_scores_index = top_scores_index[0:N_LINE]"
      ]
    },
    {
      "cell_type": "code",
      "execution_count": 20,
      "id": "final-investigator",
      "metadata": {
        "colab": {
          "base_uri": "https://localhost:8080/"
        },
        "id": "final-investigator",
        "outputId": "924304d8-e67a-4586-b7d9-987d7f955547"
      },
      "outputs": [
        {
          "output_type": "execute_result",
          "data": {
            "text/plain": [
              "array([  0, 464, 447, 569, 274, 431, 345, 470,  11, 141])"
            ]
          },
          "metadata": {},
          "execution_count": 20
        }
      ],
      "source": [
        "top_scores_index"
      ]
    },
    {
      "cell_type": "code",
      "execution_count": 21,
      "id": "bibliographic-sword",
      "metadata": {
        "colab": {
          "base_uri": "https://localhost:8080/"
        },
        "id": "bibliographic-sword",
        "outputId": "e5471d76-23dd-44e9-b744-9efdfdfe66f2"
      },
      "outputs": [
        {
          "output_type": "execute_result",
          "data": {
            "text/plain": [
              "array([15.07242059,  8.14253573,  7.06188269,  6.31216729,  6.02731008,\n",
              "        4.49505203,  4.28672984,  4.2831097 ,  4.24638921,  4.20132391])"
            ]
          },
          "metadata": {},
          "execution_count": 21
        }
      ],
      "source": [
        "scores[top_scores_index]"
      ]
    },
    {
      "cell_type": "code",
      "execution_count": 22,
      "id": "crude-colony",
      "metadata": {
        "id": "crude-colony"
      },
      "outputs": [],
      "source": [
        "article_array = np.array(article_st)"
      ]
    },
    {
      "cell_type": "code",
      "execution_count": 23,
      "id": "outer-humidity",
      "metadata": {
        "id": "outer-humidity"
      },
      "outputs": [],
      "source": [
        "bow_sum = article_array[top_scores_index]"
      ]
    },
    {
      "cell_type": "code",
      "execution_count": 24,
      "id": "intended-camel",
      "metadata": {
        "id": "intended-camel"
      },
      "outputs": [],
      "source": [
        "bow_sum = list(bow_sum)"
      ]
    },
    {
      "cell_type": "code",
      "execution_count": 25,
      "id": "roman-shepherd",
      "metadata": {
        "colab": {
          "base_uri": "https://localhost:8080/"
        },
        "id": "roman-shepherd",
        "outputId": "bfb991b4-f203-4620-f27c-7d2e86cb5baa"
      },
      "outputs": [
        {
          "output_type": "execute_result",
          "data": {
            "text/plain": [
              "10"
            ]
          },
          "metadata": {},
          "execution_count": 25
        }
      ],
      "source": [
        "len(bow_sum)"
      ]
    },
    {
      "cell_type": "code",
      "execution_count": 26,
      "id": "changing-yellow",
      "metadata": {
        "id": "changing-yellow"
      },
      "outputs": [],
      "source": [
        "bow_sum_unigram = (\" \").join(bow_sum)"
      ]
    },
    {
      "cell_type": "code",
      "execution_count": 27,
      "id": "incorrect-thread",
      "metadata": {
        "colab": {
          "base_uri": "https://localhost:8080/",
          "height": 167
        },
        "id": "incorrect-thread",
        "outputId": "a712b444-074f-43c6-a361-bb7b50ba37ab"
      },
      "outputs": [
        {
          "output_type": "execute_result",
          "data": {
            "application/vnd.google.colaboratory.intrinsic+json": {
              "type": "string"
            },
            "text/plain": [
              "'\\n\\ncoordinates: .mw-parser-output .geo-default,.mw-parser-output .geo-dms,.mw-parser-output .geo-dec{display:inline}.mw-parser-output .geo-nondefault,.mw-parser-output .geo-multi-punct{display:none}.mw-parser-output .longitude,.mw-parser-output .latitude{white-space:nowrap}40°n 100°w\\ufeff / \\ufeff40°n 100°w\\ufeff / 40; -100\\nthe united states of america (u.s.a. or usa), commonly known as the united states (u.s. or us) or america, is a country primarily located in north america. [424]\\nthe centers for disease control and prevention (cdc) reported that the united states had an average life expectancy at birth of 77.3 years in 2020 (74.5 years for men and 80.2 years for women), down 1.5 years from 2019. according to provisional figures, this was the lowest average u.s. life expectancy recorded by the cdc since 2003, the first overall decline since 2018, and \"the largest one-year decline since world war ii.\" other languages spoken at home by one million people or more include chinese (2.8 million), tagalog (1.6 million), vietnamese (1.4 million), french (1.3 million), korean (1.1 million), and german (1 million). [530] in soccer (a sport that has gained a footing in the united states since the mid-1990s), the country hosted the 1994 fifa world cup, the men\\'s national soccer team qualified for ten world cups and the women\\'s team has won the fifa women\\'s world cup four times; major league soccer is the sport\\'s highest league in the united states (featuring 23 american and three canadian teams). since the general election of 1856, the major parties have been the democratic party, founded in 1824, and the republican party, founded in 1854. since the civil war, only one third-party presidential candidate—former president theodore roosevelt, running as a progressive in 1912—has won as much as 20% of the popular vote, though the self-financed reform party campaign of ross perot took 18.9% in 1992. [394]\\nin 2017, out of the u.s. foreign-born population, some 45% (20.7 million) were naturalized citizens, 27% (12.3 million) were lawful permanent residents, 6% (2.2 million) were temporary lawful residents, and 23% (10.5 million) were unauthorized immigrants. [303]\\nalthough most nations have abolished capital punishment,[304] it is sanctioned in the united states for certain federal and military crimes, and at the state level in 28 states, though three states have moratoriums on carrying out the penalty imposed by their governors. [430][431]\\nincreasing obesity in the united states and improvements in health and longevity outside the u.s. contributed to lowering the country\\'s rank in life expectancy from 11th in the world in 1987 to 42nd in 2007. in 2017, the united states had the lowest life expectancy among japan, canada, australia, the united kingdom, and seven nations in western europe. the spanish–american war and world war i established the u.s. as a world power, a status confirmed by the outcome of world war ii. [112][113][114]\\nthe united states remained neutral from the outbreak of world war i in 1914 until 1917 when it joined the war as an \"associated power\" alongside the allies of world war i, helping to turn the tide against the central powers.'"
            ]
          },
          "metadata": {},
          "execution_count": 27
        }
      ],
      "source": [
        "bow_sum_unigram"
      ]
    },
    {
      "cell_type": "code",
      "execution_count": 27,
      "id": "explicit-torture",
      "metadata": {
        "id": "explicit-torture"
      },
      "outputs": [],
      "source": [
        ""
      ]
    },
    {
      "cell_type": "code",
      "execution_count": 28,
      "id": "hearing-hammer",
      "metadata": {
        "id": "hearing-hammer"
      },
      "outputs": [],
      "source": [
        "tfidf_vectorizer = TfidfVectorizer(ngram_range=(1,1))\n",
        "tfidf_vectorizer.fit(pp_article_st)\n",
        "X = tfidf_vectorizer.transform(pp_article_st)"
      ]
    },
    {
      "cell_type": "code",
      "execution_count": 29,
      "id": "unexpected-standard",
      "metadata": {
        "id": "unexpected-standard"
      },
      "outputs": [],
      "source": [
        "#perform LSA\n",
        "U, SIGMA, VT = randomized_svd(X,n_components=N_LINE,n_iter=100,random_state=100) "
      ]
    },
    {
      "cell_type": "code",
      "execution_count": 30,
      "id": "egyptian-recycling",
      "metadata": {
        "colab": {
          "base_uri": "https://localhost:8080/"
        },
        "id": "egyptian-recycling",
        "outputId": "77ee1c7d-fe93-4b65-ed41-946e613503df"
      },
      "outputs": [
        {
          "output_type": "execute_result",
          "data": {
            "text/plain": [
              "(594, 10)"
            ]
          },
          "metadata": {},
          "execution_count": 30
        }
      ],
      "source": [
        "U.shape #document-topic"
      ]
    },
    {
      "cell_type": "code",
      "execution_count": 31,
      "id": "handmade-architect",
      "metadata": {
        "colab": {
          "base_uri": "https://localhost:8080/"
        },
        "id": "handmade-architect",
        "outputId": "187753e7-b1cf-4ce5-b43d-84086b2f2aeb"
      },
      "outputs": [
        {
          "output_type": "execute_result",
          "data": {
            "text/plain": [
              "(10, 3134)"
            ]
          },
          "metadata": {},
          "execution_count": 31
        }
      ],
      "source": [
        "VT.shape #topic-term"
      ]
    },
    {
      "cell_type": "code",
      "execution_count": 32,
      "id": "psychological-thanksgiving",
      "metadata": {
        "colab": {
          "base_uri": "https://localhost:8080/"
        },
        "id": "psychological-thanksgiving",
        "outputId": "503c3fc3-e341-4c43-9611-9d21c01fee63"
      },
      "outputs": [
        {
          "output_type": "execute_result",
          "data": {
            "text/plain": [
              "(10,)"
            ]
          },
          "metadata": {},
          "execution_count": 32
        }
      ],
      "source": [
        "SIGMA.shape # topic - topic sparse matrix"
      ]
    },
    {
      "cell_type": "code",
      "execution_count": 33,
      "id": "pretty-running",
      "metadata": {
        "id": "pretty-running"
      },
      "outputs": [],
      "source": [
        "scores = np.sqrt(np.dot(U**2,SIGMA**2))"
      ]
    },
    {
      "cell_type": "code",
      "execution_count": 34,
      "id": "organic-nightlife",
      "metadata": {
        "colab": {
          "base_uri": "https://localhost:8080/"
        },
        "id": "organic-nightlife",
        "outputId": "64dd72ba-ef42-4b23-818d-ce1a3a107727"
      },
      "outputs": [
        {
          "output_type": "execute_result",
          "data": {
            "text/plain": [
              "(594,)"
            ]
          },
          "metadata": {},
          "execution_count": 34
        }
      ],
      "source": [
        "scores.shape"
      ]
    },
    {
      "cell_type": "code",
      "execution_count": 35,
      "id": "welcome-boutique",
      "metadata": {
        "id": "welcome-boutique"
      },
      "outputs": [],
      "source": [
        "#get index of highest scores\n",
        "top_scores_index = np.argsort(scores)"
      ]
    },
    {
      "cell_type": "code",
      "execution_count": 36,
      "id": "photographic-people",
      "metadata": {
        "id": "photographic-people"
      },
      "outputs": [],
      "source": [
        "#sort the indexes in descending order\n",
        "top_scores_index = top_scores_index[::-1]"
      ]
    },
    {
      "cell_type": "code",
      "execution_count": 37,
      "id": "herbal-bumper",
      "metadata": {
        "id": "herbal-bumper"
      },
      "outputs": [],
      "source": [
        "#get top N Scores index\n",
        "top_scores_index = top_scores_index[0:N_LINE]"
      ]
    },
    {
      "cell_type": "code",
      "execution_count": 38,
      "id": "sealed-congo",
      "metadata": {
        "colab": {
          "base_uri": "https://localhost:8080/"
        },
        "id": "sealed-congo",
        "outputId": "44e0e908-f2c8-4c75-e20c-accf06a2c022"
      },
      "outputs": [
        {
          "output_type": "execute_result",
          "data": {
            "text/plain": [
              "array([447, 301, 452, 255,  12, 263,  11, 253,  22,   4])"
            ]
          },
          "metadata": {},
          "execution_count": 38
        }
      ],
      "source": [
        "top_scores_index"
      ]
    },
    {
      "cell_type": "code",
      "execution_count": 39,
      "id": "religious-prayer",
      "metadata": {
        "colab": {
          "base_uri": "https://localhost:8080/"
        },
        "id": "religious-prayer",
        "outputId": "7b7bcb57-fc99-4b54-880c-f4e3196375d3"
      },
      "outputs": [
        {
          "output_type": "execute_result",
          "data": {
            "text/plain": [
              "array([0.76521615, 0.74645143, 0.70740106, 0.68053802, 0.67684239,\n",
              "       0.64977881, 0.62434335, 0.61270339, 0.5989696 , 0.58742961])"
            ]
          },
          "metadata": {},
          "execution_count": 39
        }
      ],
      "source": [
        "scores[top_scores_index]"
      ]
    },
    {
      "cell_type": "code",
      "execution_count": 40,
      "id": "proud-haven",
      "metadata": {
        "id": "proud-haven"
      },
      "outputs": [],
      "source": [
        "article_array = np.array(article_st)"
      ]
    },
    {
      "cell_type": "code",
      "execution_count": 41,
      "id": "desperate-event",
      "metadata": {
        "id": "desperate-event"
      },
      "outputs": [],
      "source": [
        "tfidf_sum = article_array[top_scores_index]"
      ]
    },
    {
      "cell_type": "code",
      "execution_count": 42,
      "id": "comprehensive-williams",
      "metadata": {
        "id": "comprehensive-williams"
      },
      "outputs": [],
      "source": [
        "tfidf_sum = list(tfidf_sum)"
      ]
    },
    {
      "cell_type": "code",
      "execution_count": 43,
      "id": "unusual-sampling",
      "metadata": {
        "colab": {
          "base_uri": "https://localhost:8080/"
        },
        "id": "unusual-sampling",
        "outputId": "0aaa2b65-58ab-4531-f1af-c56c0c4c5d4b"
      },
      "outputs": [
        {
          "output_type": "execute_result",
          "data": {
            "text/plain": [
              "10"
            ]
          },
          "metadata": {},
          "execution_count": 43
        }
      ],
      "source": [
        "len(tfidf_sum)"
      ]
    },
    {
      "cell_type": "code",
      "execution_count": 44,
      "id": "bearing-funeral",
      "metadata": {
        "id": "bearing-funeral"
      },
      "outputs": [],
      "source": [
        "tfidf_sum_unigram = (\" \").join(tfidf_sum)"
      ]
    },
    {
      "cell_type": "code",
      "execution_count": 45,
      "id": "undefined-pittsburgh",
      "metadata": {
        "colab": {
          "base_uri": "https://localhost:8080/",
          "height": 167
        },
        "id": "undefined-pittsburgh",
        "outputId": "343fc9ae-ef31-465f-f892-f686c8633ec9"
      },
      "outputs": [
        {
          "output_type": "execute_result",
          "data": {
            "application/vnd.google.colaboratory.intrinsic+json": {
              "type": "string"
            },
            "text/plain": [
              "\"other languages spoken at home by one million people or more include chinese (2.8 million), tagalog (1.6 million), vietnamese (1.4 million), french (1.3 million), korean (1.1 million), and german (1 million). the united states is one of the few countries in the world to do so. the united states has the world's largest christian population. the district of columbia and the five major u.s. territories do not have senators. during the cold war, the united states fought the korean war and the vietnam war but avoided direct military conflict with the soviet union. [231] the states and the district of columbia choose the president of the united states. the spanish–american war and world war i established the u.s. as a world power, a status confirmed by the outcome of world war ii. the district of columbia and the five major u.s. territories each have one member of congress—these members are not allowed to vote. by value, the united states is the world's largest importer and second-largest exporter of goods. [22] with a population of more than 331 million people, it is the third most populous country in the world.\""
            ]
          },
          "metadata": {},
          "execution_count": 45
        }
      ],
      "source": [
        "tfidf_sum_unigram"
      ]
    },
    {
      "cell_type": "code",
      "execution_count": 45,
      "id": "e0288cc2-5368-497a-b135-a35303bcfcc8",
      "metadata": {
        "id": "e0288cc2-5368-497a-b135-a35303bcfcc8"
      },
      "outputs": [],
      "source": [
        ""
      ]
    },
    {
      "cell_type": "markdown",
      "id": "f3a9e055-3f6e-40ee-ba76-3a1c61ad5b1a",
      "metadata": {
        "id": "f3a9e055-3f6e-40ee-ba76-3a1c61ad5b1a"
      },
      "source": [
        "## TF-IDF LDA Unigram"
      ]
    },
    {
      "cell_type": "code",
      "execution_count": 46,
      "id": "relative-serial",
      "metadata": {
        "colab": {
          "base_uri": "https://localhost:8080/"
        },
        "id": "relative-serial",
        "outputId": "54630071-5b68-489d-f30f-2c524ebd4822"
      },
      "outputs": [
        {
          "output_type": "execute_result",
          "data": {
            "text/plain": [
              "(594, 3134)"
            ]
          },
          "metadata": {},
          "execution_count": 46
        }
      ],
      "source": [
        "tfidf_vectorizer = TfidfVectorizer(ngram_range=(1,1))\n",
        "tfidf_vectorizer.fit(pp_article_st)\n",
        "X = tfidf_vectorizer.transform(pp_article_st)\n",
        "X.shape"
      ]
    },
    {
      "cell_type": "code",
      "execution_count": 47,
      "id": "7191b624-b665-44c0-8aab-ccae163a02e9",
      "metadata": {
        "colab": {
          "base_uri": "https://localhost:8080/"
        },
        "id": "7191b624-b665-44c0-8aab-ccae163a02e9",
        "outputId": "ec743be8-ae10-4383-fb4d-a98de1348f48"
      },
      "outputs": [
        {
          "output_type": "execute_result",
          "data": {
            "text/plain": [
              "LatentDirichletAllocation(max_iter=50, random_state=0)"
            ]
          },
          "metadata": {},
          "execution_count": 47
        }
      ],
      "source": [
        "lda_model = LDA(n_components=N_LINE, random_state=0, max_iter = 50)\n",
        "lda_model.fit(X)"
      ]
    },
    {
      "cell_type": "code",
      "execution_count": 47,
      "id": "a9336625-76f7-4f45-8ae2-008f063a6f50",
      "metadata": {
        "id": "a9336625-76f7-4f45-8ae2-008f063a6f50"
      },
      "outputs": [],
      "source": [
        ""
      ]
    },
    {
      "cell_type": "code",
      "execution_count": 48,
      "id": "c0b50a30-455c-4d0c-aaba-e876e48224e6",
      "metadata": {
        "colab": {
          "base_uri": "https://localhost:8080/"
        },
        "id": "c0b50a30-455c-4d0c-aaba-e876e48224e6",
        "outputId": "af2a2be1-7ccc-47a0-fcb5-929245e5fade"
      },
      "outputs": [
        {
          "output_type": "execute_result",
          "data": {
            "text/plain": [
              "(594, 10)"
            ]
          },
          "metadata": {},
          "execution_count": 48
        }
      ],
      "source": [
        "document_topic = lda_model.transform(X)\n",
        "document_topic.shape #Document Topic"
      ]
    },
    {
      "cell_type": "code",
      "execution_count": 49,
      "id": "76be61b7-1863-4786-825d-5b74a00e1cf8",
      "metadata": {
        "colab": {
          "base_uri": "https://localhost:8080/"
        },
        "id": "76be61b7-1863-4786-825d-5b74a00e1cf8",
        "outputId": "76837726-40a8-4a61-86a4-4fc5f510d6c7"
      },
      "outputs": [
        {
          "output_type": "execute_result",
          "data": {
            "text/plain": [
              "0.9999999999999999"
            ]
          },
          "metadata": {},
          "execution_count": 49
        }
      ],
      "source": [
        "document_topic[0].sum()"
      ]
    },
    {
      "cell_type": "code",
      "execution_count": 49,
      "id": "14c70f0d-6e83-4cc7-a451-9a10ea76ac59",
      "metadata": {
        "id": "14c70f0d-6e83-4cc7-a451-9a10ea76ac59"
      },
      "outputs": [],
      "source": [
        ""
      ]
    },
    {
      "cell_type": "code",
      "execution_count": 50,
      "id": "b63c0290-083d-4047-a1f8-1cd05da13162",
      "metadata": {
        "colab": {
          "base_uri": "https://localhost:8080/"
        },
        "id": "b63c0290-083d-4047-a1f8-1cd05da13162",
        "outputId": "63eecdff-1bd2-4641-a626-ea19babc63db"
      },
      "outputs": [
        {
          "output_type": "stream",
          "name": "stderr",
          "text": [
            "/usr/local/lib/python3.7/dist-packages/sklearn/utils/deprecation.py:87: FutureWarning: Function get_feature_names is deprecated; get_feature_names is deprecated in 1.0 and will be removed in 1.2. Please use get_feature_names_out instead.\n",
            "  warnings.warn(msg, category=FutureWarning)\n"
          ]
        },
        {
          "output_type": "execute_result",
          "data": {
            "text/plain": [
              "(3134,)"
            ]
          },
          "metadata": {},
          "execution_count": 50
        }
      ],
      "source": [
        "vocab = np.array(tfidf_vectorizer.get_feature_names())\n",
        "vocab.shape"
      ]
    },
    {
      "cell_type": "code",
      "execution_count": 51,
      "id": "556e72b2-930c-45ef-8f5c-975393656775",
      "metadata": {
        "colab": {
          "base_uri": "https://localhost:8080/"
        },
        "id": "556e72b2-930c-45ef-8f5c-975393656775",
        "outputId": "e0167adf-103d-4b26-ca7b-421ce82cb234"
      },
      "outputs": [
        {
          "output_type": "execute_result",
          "data": {
            "text/plain": [
              "(10, 3134)"
            ]
          },
          "metadata": {},
          "execution_count": 51
        }
      ],
      "source": [
        "topic_word = lda_model.components_ # topic - word\n",
        "topic_word.shape"
      ]
    },
    {
      "cell_type": "code",
      "execution_count": 52,
      "id": "e3c4d527-05fb-4021-8d29-d9af90539c0a",
      "metadata": {
        "colab": {
          "base_uri": "https://localhost:8080/"
        },
        "id": "e3c4d527-05fb-4021-8d29-d9af90539c0a",
        "outputId": "bea3608b-d5f1-48de-cb75-0be304149d8a"
      },
      "outputs": [
        {
          "output_type": "execute_result",
          "data": {
            "text/plain": [
              "(3134,)"
            ]
          },
          "metadata": {},
          "execution_count": 52
        }
      ],
      "source": [
        "topic_word[0].shape"
      ]
    },
    {
      "cell_type": "code",
      "execution_count": 52,
      "id": "34ab1ae0-decd-49be-a153-86ba3e18c644",
      "metadata": {
        "id": "34ab1ae0-decd-49be-a153-86ba3e18c644"
      },
      "outputs": [],
      "source": [
        ""
      ]
    },
    {
      "cell_type": "code",
      "execution_count": 52,
      "id": "50cc66d5-d8fe-45f3-9a39-cf9dde3c9999",
      "metadata": {
        "id": "50cc66d5-d8fe-45f3-9a39-cf9dde3c9999"
      },
      "outputs": [],
      "source": [
        ""
      ]
    },
    {
      "cell_type": "code",
      "execution_count": 53,
      "id": "067c81a1-1cb4-42f5-9d1e-e8889493bf2d",
      "metadata": {
        "id": "067c81a1-1cb4-42f5-9d1e-e8889493bf2d"
      },
      "outputs": [],
      "source": [
        "top_features_indices = topic_word[0].argsort()[ : -10 - 1 : -1 ] # get indices by argsort() "
      ]
    },
    {
      "cell_type": "code",
      "execution_count": 54,
      "id": "a0ceabfa-074e-4a6c-8654-e11fc688dfbf",
      "metadata": {
        "colab": {
          "base_uri": "https://localhost:8080/"
        },
        "id": "a0ceabfa-074e-4a6c-8654-e11fc688dfbf",
        "outputId": "b9edcc94-fcb8-43e7-cbb3-e2d94bf66dee"
      },
      "outputs": [
        {
          "output_type": "execute_result",
          "data": {
            "text/plain": [
              "(10,)"
            ]
          },
          "metadata": {},
          "execution_count": 54
        }
      ],
      "source": [
        "top_features_indices.shape"
      ]
    },
    {
      "cell_type": "code",
      "execution_count": 55,
      "id": "33ec4fee-89a1-441a-ad67-635def602110",
      "metadata": {
        "colab": {
          "base_uri": "https://localhost:8080/"
        },
        "id": "33ec4fee-89a1-441a-ad67-635def602110",
        "outputId": "fef4d169-88dc-4fbe-869a-47a725938cfc"
      },
      "outputs": [
        {
          "output_type": "execute_result",
          "data": {
            "text/plain": [
              "array(['global', 'american', 'nation', 'state', 'european', 'world',\n",
              "       'united', 'spanish', 'hawaii', '000'], dtype='<U17')"
            ]
          },
          "metadata": {},
          "execution_count": 55
        }
      ],
      "source": [
        "top_features = vocab[top_features_indices] #alternateively: top_features = [vocab[i] for i in top_features_indices]\n",
        "top_features"
      ]
    },
    {
      "cell_type": "code",
      "execution_count": 56,
      "id": "3de8ac35-087d-411d-9b3c-3b29287ac2ec",
      "metadata": {
        "colab": {
          "base_uri": "https://localhost:8080/"
        },
        "id": "3de8ac35-087d-411d-9b3c-3b29287ac2ec",
        "outputId": "e649b3a1-43ee-4d17-b72e-49d948588e24"
      },
      "outputs": [
        {
          "output_type": "execute_result",
          "data": {
            "text/plain": [
              "array([1.52758406, 1.41966633, 1.31322481, 1.31130274, 1.16492718,\n",
              "       1.15673272, 1.13213651, 1.09160347, 1.0181112 , 1.00947552])"
            ]
          },
          "metadata": {},
          "execution_count": 56
        }
      ],
      "source": [
        "weights = topic_word[0][top_features_indices]\n",
        "weights"
      ]
    },
    {
      "cell_type": "code",
      "execution_count": 56,
      "id": "bde3cda6-5da0-4fc5-ae62-293c7af40f20",
      "metadata": {
        "id": "bde3cda6-5da0-4fc5-ae62-293c7af40f20"
      },
      "outputs": [],
      "source": [
        ""
      ]
    },
    {
      "cell_type": "code",
      "execution_count": 56,
      "id": "ff099b4d-67e1-49b1-a708-cd90f7f1260a",
      "metadata": {
        "id": "ff099b4d-67e1-49b1-a708-cd90f7f1260a"
      },
      "outputs": [],
      "source": [
        ""
      ]
    },
    {
      "cell_type": "code",
      "execution_count": 56,
      "id": "199d6b4a-687c-4fa4-b120-4a46838e1895",
      "metadata": {
        "id": "199d6b4a-687c-4fa4-b120-4a46838e1895"
      },
      "outputs": [],
      "source": [
        ""
      ]
    },
    {
      "cell_type": "code",
      "execution_count": 57,
      "id": "0d83b581-3195-4da2-a74a-b2be29c6c540",
      "metadata": {
        "id": "0d83b581-3195-4da2-a74a-b2be29c6c540"
      },
      "outputs": [],
      "source": [
        "## Generate Feaure Matrixes and Summaries For BI-GRAM (2-GRAM) Occurence"
      ]
    },
    {
      "cell_type": "code",
      "execution_count": 57,
      "id": "d8ae39cd-0672-4454-8dd4-a8026c303a01",
      "metadata": {
        "id": "d8ae39cd-0672-4454-8dd4-a8026c303a01"
      },
      "outputs": [],
      "source": [
        ""
      ]
    },
    {
      "cell_type": "code",
      "execution_count": 57,
      "id": "4ad70d0f-f698-49e6-a1af-9ab4654cd806",
      "metadata": {
        "id": "4ad70d0f-f698-49e6-a1af-9ab4654cd806"
      },
      "outputs": [],
      "source": [
        ""
      ]
    },
    {
      "cell_type": "markdown",
      "source": [
        "## Generate Feaure Matrixes and Summaries For Uni-GRAM (1-GRAM) Occurence"
      ],
      "metadata": {
        "id": "HyPNREDfAex_"
      },
      "id": "HyPNREDfAex_"
    },
    {
      "cell_type": "markdown",
      "source": [
        "### BOW"
      ],
      "metadata": {
        "id": "skT5-BbmAm-F"
      },
      "id": "skT5-BbmAm-F"
    },
    {
      "cell_type": "code",
      "source": [
        "count_vectorizer = CountVectorizer(ngram_range=(1,1))  #instantiate N-GRAM BOW\n",
        "count_vectorizer.fit(pp_article_st) #train N-GRAM BOW Features generator model\n",
        "X = count_vectorizer.transform(pp_article_st) #create N-GRAM BOW feature matrix\n",
        "U, SIGMA, VT = randomized_svd(X,n_components=N_LINE,n_iter=100,random_state=100) #perform Latent Semantic Analysis (LSA)\n",
        "scores = np.sqrt(np.dot(U**2,SIGMA**2)) #generate scores for all sentences\n",
        "top_scores_index = np.argsort(scores) #get index of highest scores\n",
        "top_scores_index = top_scores_index[::-1] #sort the indexes in descending order\n",
        "top_scores_index = top_scores_index[0:N_LINE] #get top N Scores index\n",
        "article_array = np.array(article_st) #convert list to array for indexing purpose\n",
        "bow_sum = article_array[top_scores_index] #get top N scoring sentences\n",
        "bow_sum = list(bow_sum) #convert array back to list\n",
        "print(f\"Number of Lines in Summary: {len(bow_sum)} \\n\")\n",
        "bow_sum_unigram = (\" \").join(bow_sum) #convert list to single string\n",
        "bow_sum_unigram"
      ],
      "metadata": {
        "colab": {
          "base_uri": "https://localhost:8080/",
          "height": 205
        },
        "id": "GvPS61A2Ai-Z",
        "outputId": "f6096daa-9ee5-4947-d4cf-6a961dfe663c"
      },
      "id": "GvPS61A2Ai-Z",
      "execution_count": 58,
      "outputs": [
        {
          "output_type": "stream",
          "name": "stdout",
          "text": [
            "Number of Lines in Summary: 10 \n",
            "\n"
          ]
        },
        {
          "output_type": "execute_result",
          "data": {
            "application/vnd.google.colaboratory.intrinsic+json": {
              "type": "string"
            },
            "text/plain": [
              "'\\n\\ncoordinates: .mw-parser-output .geo-default,.mw-parser-output .geo-dms,.mw-parser-output .geo-dec{display:inline}.mw-parser-output .geo-nondefault,.mw-parser-output .geo-multi-punct{display:none}.mw-parser-output .longitude,.mw-parser-output .latitude{white-space:nowrap}40°n 100°w\\ufeff / \\ufeff40°n 100°w\\ufeff / 40; -100\\nthe united states of america (u.s.a. or usa), commonly known as the united states (u.s. or us) or america, is a country primarily located in north america. [424]\\nthe centers for disease control and prevention (cdc) reported that the united states had an average life expectancy at birth of 77.3 years in 2020 (74.5 years for men and 80.2 years for women), down 1.5 years from 2019. according to provisional figures, this was the lowest average u.s. life expectancy recorded by the cdc since 2003, the first overall decline since 2018, and \"the largest one-year decline since world war ii.\" other languages spoken at home by one million people or more include chinese (2.8 million), tagalog (1.6 million), vietnamese (1.4 million), french (1.3 million), korean (1.1 million), and german (1 million). [530] in soccer (a sport that has gained a footing in the united states since the mid-1990s), the country hosted the 1994 fifa world cup, the men\\'s national soccer team qualified for ten world cups and the women\\'s team has won the fifa women\\'s world cup four times; major league soccer is the sport\\'s highest league in the united states (featuring 23 american and three canadian teams). since the general election of 1856, the major parties have been the democratic party, founded in 1824, and the republican party, founded in 1854. since the civil war, only one third-party presidential candidate—former president theodore roosevelt, running as a progressive in 1912—has won as much as 20% of the popular vote, though the self-financed reform party campaign of ross perot took 18.9% in 1992. [394]\\nin 2017, out of the u.s. foreign-born population, some 45% (20.7 million) were naturalized citizens, 27% (12.3 million) were lawful permanent residents, 6% (2.2 million) were temporary lawful residents, and 23% (10.5 million) were unauthorized immigrants. [303]\\nalthough most nations have abolished capital punishment,[304] it is sanctioned in the united states for certain federal and military crimes, and at the state level in 28 states, though three states have moratoriums on carrying out the penalty imposed by their governors. [430][431]\\nincreasing obesity in the united states and improvements in health and longevity outside the u.s. contributed to lowering the country\\'s rank in life expectancy from 11th in the world in 1987 to 42nd in 2007. in 2017, the united states had the lowest life expectancy among japan, canada, australia, the united kingdom, and seven nations in western europe. the spanish–american war and world war i established the u.s. as a world power, a status confirmed by the outcome of world war ii. [112][113][114]\\nthe united states remained neutral from the outbreak of world war i in 1914 until 1917 when it joined the war as an \"associated power\" alongside the allies of world war i, helping to turn the tide against the central powers.'"
            ]
          },
          "metadata": {},
          "execution_count": 58
        }
      ]
    },
    {
      "cell_type": "code",
      "source": [
        ""
      ],
      "metadata": {
        "id": "6joP68juAqFJ"
      },
      "id": "6joP68juAqFJ",
      "execution_count": 58,
      "outputs": []
    },
    {
      "cell_type": "markdown",
      "source": [
        "### TF-IDF"
      ],
      "metadata": {
        "id": "0phuAYNGAsOn"
      },
      "id": "0phuAYNGAsOn"
    },
    {
      "cell_type": "code",
      "source": [
        "tfidf_vectorizer = TfidfVectorizer(ngram_range=(1,1))  #instantiate N-GRAM TF-IDF\n",
        "tfidf_vectorizer.fit(pp_article_st) #train N-GRAM TF-IDF Features generator model\n",
        "X = tfidf_vectorizer.transform(pp_article_st) #create N-GRAM TF-IDF feature matrix\n",
        "U, SIGMA, VT = randomized_svd(X,n_components=N_LINE,n_iter=100,random_state=100) #perform Latent Semantic Analysis (LSA)\n",
        "scores = np.sqrt(np.dot(U**2,SIGMA**2)) #generate scores for all sentences\n",
        "top_scores_index = np.argsort(scores) #get index of highest scores\n",
        "top_scores_index = top_scores_index[::-1] #sort the indexes in descending order\n",
        "top_scores_index = top_scores_index[0:N_LINE] #get top N Scores index\n",
        "article_array = np.array(article_st) #convert list to array for indexing purpose\n",
        "tfidf_sum = article_array[top_scores_index] #get top N scoring sentences\n",
        "tfidf_sum = list(tfidf_sum) #convert array back to list\n",
        "print(f\"Number of Lines in Summary: {len(tfidf_sum)} \\n\")\n",
        "tfidf_sum_unigram = (\" \").join(tfidf_sum) #convert list to single string\n",
        "tfidf_sum_unigram"
      ],
      "metadata": {
        "colab": {
          "base_uri": "https://localhost:8080/",
          "height": 205
        },
        "id": "8UE2EK0MAu1q",
        "outputId": "44cb760e-17c6-4662-c5de-f92441174dfe"
      },
      "id": "8UE2EK0MAu1q",
      "execution_count": 59,
      "outputs": [
        {
          "output_type": "stream",
          "name": "stdout",
          "text": [
            "Number of Lines in Summary: 10 \n",
            "\n"
          ]
        },
        {
          "output_type": "execute_result",
          "data": {
            "application/vnd.google.colaboratory.intrinsic+json": {
              "type": "string"
            },
            "text/plain": [
              "\"other languages spoken at home by one million people or more include chinese (2.8 million), tagalog (1.6 million), vietnamese (1.4 million), french (1.3 million), korean (1.1 million), and german (1 million). the united states is one of the few countries in the world to do so. the united states has the world's largest christian population. the district of columbia and the five major u.s. territories do not have senators. during the cold war, the united states fought the korean war and the vietnam war but avoided direct military conflict with the soviet union. [231] the states and the district of columbia choose the president of the united states. the spanish–american war and world war i established the u.s. as a world power, a status confirmed by the outcome of world war ii. the district of columbia and the five major u.s. territories each have one member of congress—these members are not allowed to vote. by value, the united states is the world's largest importer and second-largest exporter of goods. [22] with a population of more than 331 million people, it is the third most populous country in the world.\""
            ]
          },
          "metadata": {},
          "execution_count": 59
        }
      ]
    },
    {
      "cell_type": "code",
      "source": [
        ""
      ],
      "metadata": {
        "id": "_uigjPYFAxFK"
      },
      "id": "_uigjPYFAxFK",
      "execution_count": 59,
      "outputs": []
    },
    {
      "cell_type": "markdown",
      "source": [
        "### Word-Embeddings"
      ],
      "metadata": {
        "id": "FsCnwT48BoWq"
      },
      "id": "FsCnwT48BoWq"
    },
    {
      "cell_type": "code",
      "source": [
        ""
      ],
      "metadata": {
        "id": "dwtarAbNBrJm"
      },
      "id": "dwtarAbNBrJm",
      "execution_count": 59,
      "outputs": []
    },
    {
      "cell_type": "code",
      "source": [
        ""
      ],
      "metadata": {
        "id": "pJvPkLVZCxk7"
      },
      "id": "pJvPkLVZCxk7",
      "execution_count": 59,
      "outputs": []
    },
    {
      "cell_type": "code",
      "source": [
        ""
      ],
      "metadata": {
        "id": "D2gQc38aBrsM"
      },
      "id": "D2gQc38aBrsM",
      "execution_count": 59,
      "outputs": []
    },
    {
      "cell_type": "markdown",
      "id": "presidential-might",
      "metadata": {
        "id": "presidential-might"
      },
      "source": [
        "## Generate Feaure Matrixes and Summaries For BI-GRAM (2-GRAM) Occurence"
      ]
    },
    {
      "cell_type": "markdown",
      "id": "gorgeous-handy",
      "metadata": {
        "id": "gorgeous-handy"
      },
      "source": [
        "### BOW"
      ]
    },
    {
      "cell_type": "code",
      "execution_count": 60,
      "id": "logical-lincoln",
      "metadata": {
        "colab": {
          "base_uri": "https://localhost:8080/",
          "height": 205
        },
        "id": "logical-lincoln",
        "outputId": "6b5ebbee-f135-42a0-a98b-f9ccdb6a619a"
      },
      "outputs": [
        {
          "output_type": "stream",
          "name": "stdout",
          "text": [
            "Number of Lines in Summary: 10 \n",
            "\n"
          ]
        },
        {
          "output_type": "execute_result",
          "data": {
            "application/vnd.google.colaboratory.intrinsic+json": {
              "type": "string"
            },
            "text/plain": [
              "'\\n\\ncoordinates: .mw-parser-output .geo-default,.mw-parser-output .geo-dms,.mw-parser-output .geo-dec{display:inline}.mw-parser-output .geo-nondefault,.mw-parser-output .geo-multi-punct{display:none}.mw-parser-output .longitude,.mw-parser-output .latitude{white-space:nowrap}40°n 100°w\\ufeff / \\ufeff40°n 100°w\\ufeff / 40; -100\\nthe united states of america (u.s.a. or usa), commonly known as the united states (u.s. or us) or america, is a country primarily located in north america. [530] in soccer (a sport that has gained a footing in the united states since the mid-1990s), the country hosted the 1994 fifa world cup, the men\\'s national soccer team qualified for ten world cups and the women\\'s team has won the fifa women\\'s world cup four times; major league soccer is the sport\\'s highest league in the united states (featuring 23 american and three canadian teams). [424]\\nthe centers for disease control and prevention (cdc) reported that the united states had an average life expectancy at birth of 77.3 years in 2020 (74.5 years for men and 80.2 years for women), down 1.5 years from 2019. according to provisional figures, this was the lowest average u.s. life expectancy recorded by the cdc since 2003, the first overall decline since 2018, and \"the largest one-year decline since world war ii.\" notable films topping the american film institute\\'s afi 100 list include orson welles\\'s citizen kane (1941), which is frequently cited as the greatest film of all time,[520][521] casablanca (1942), the godfather (1972), gone with the wind (1939), lawrence of arabia (1962), the wizard of oz (1939), the graduate (1967), on the waterfront (1954), schindler\\'s list (1993), singin\\' in the rain (1952), it\\'s a wonderful life (1946) and sunset boulevard (1950). since the general election of 1856, the major parties have been the democratic party, founded in 1824, and the republican party, founded in 1854. since the civil war, only one third-party presidential candidate—former president theodore roosevelt, running as a progressive in 1912—has won as much as 20% of the popular vote, though the self-financed reform party campaign of ross perot took 18.9% in 1992. [278] today, american forces can be rapidly deployed by the air force\\'s large fleet of transport aircraft, the navy\\'s 11 active aircraft carriers, and marine expeditionary units at sea with the navy, and army\\'s xviii airborne corps and 75th ranger regiment deployed by air force transport aircraft. [169] barack obama, the first multiracial[170] president, with african-american ancestry was elected in 2008 amid the crisis,[171] and subsequently passed american recovery and reinvestment act of 2009 economic stimulus and the dodd–frank wall street reform and consumer protection act in an attempt to mitigate its negative effects and ensure there would not be a repeat of the crisis. [164]\\ngovernment policy designed to promote affordable housing,[165] widespread failures in corporate and regulatory governance,[166] and historically low interest rates set by the federal reserve[167] led to the united states housing bubble in 2006, which culminated with the financial crisis of 2007–2008 and the great recession, the nation\\'s largest economic contraction since the great depression. [405] three states and four u.s. territories have recognized local or indigenous languages in addition to english, including hawaii (hawaiian),[406] alaska (twenty native languages),[j][407] south dakota (sioux),[408] american samoa (samoan), puerto rico (spanish), guam (chamorro), and the northern mariana islands (carolinian and chamorro). [296] the department of justice said that the imprisonment rate for all prisoners sentenced to more than a year in state or federal facilities in 2019 stood at 419 per 100,000 residents which was at its lowest point since 1995 and that the total prison population for the same year stood at 1,430,800 which represented an 11% decrease in the population size from a decade earlier.'"
            ]
          },
          "metadata": {},
          "execution_count": 60
        }
      ],
      "source": [
        "count_vectorizer = CountVectorizer(ngram_range=(2,2))  #instantiate N-GRAM BOW\n",
        "count_vectorizer.fit(pp_article_st) #train N-GRAM BOW Features generator model\n",
        "X = count_vectorizer.transform(pp_article_st) #create N-GRAM BOW feature matrix\n",
        "U, SIGMA, VT = randomized_svd(X,n_components=N_LINE,n_iter=100,random_state=100) #perform Latent Semantic Analysis (LSA)\n",
        "scores = np.sqrt(np.dot(U**2,SIGMA**2)) #generate scores for all sentences\n",
        "top_scores_index = np.argsort(scores) #get index of highest scores\n",
        "top_scores_index = top_scores_index[::-1] #sort the indexes in descending order\n",
        "top_scores_index = top_scores_index[0:N_LINE] #get top N Scores index\n",
        "article_array = np.array(article_st) #convert list to array for indexing purpose\n",
        "bow_sum = article_array[top_scores_index] #get top N scoring sentences\n",
        "bow_sum = list(bow_sum) #convert array back to list\n",
        "print(f\"Number of Lines in Summary: {len(bow_sum)} \\n\")\n",
        "bow_sum_bigram = (\" \").join(bow_sum) #convert list to single string\n",
        "bow_sum_bigram"
      ]
    },
    {
      "cell_type": "code",
      "execution_count": 60,
      "id": "authentic-butter",
      "metadata": {
        "id": "authentic-butter"
      },
      "outputs": [],
      "source": [
        ""
      ]
    },
    {
      "cell_type": "markdown",
      "id": "operational-request",
      "metadata": {
        "id": "operational-request"
      },
      "source": [
        "### TF-IDF"
      ]
    },
    {
      "cell_type": "code",
      "execution_count": 61,
      "id": "downtown-earth",
      "metadata": {
        "colab": {
          "base_uri": "https://localhost:8080/",
          "height": 205
        },
        "id": "downtown-earth",
        "outputId": "fc750ec9-ea9f-48dd-f1ac-32cb079f3b7d"
      },
      "outputs": [
        {
          "output_type": "stream",
          "name": "stdout",
          "text": [
            "Number of Lines in Summary: 10 \n",
            "\n"
          ]
        },
        {
          "output_type": "execute_result",
          "data": {
            "application/vnd.google.colaboratory.intrinsic+json": {
              "type": "string"
            },
            "text/plain": [
              "\"it is a permanent member of the united nations security council. it is a permanent member of the united nations security council. the district of columbia and the five major u.s. territories do not have senators. new york city is home to the united nations headquarters. [213]\\nthe united states is a federal republic of 50 states, a federal district, five territories and several uninhabited island possessions. by value, the united states is the world's largest importer and second-largest exporter of goods. during the cold war, the united states fought the korean war and the vietnam war but avoided direct military conflict with the soviet union. the district of columbia and the five major u.s. territories each have one member of congress—these members are not allowed to vote. the united states has the world's largest christian population. the national capital is washington, d.c., and the most populous city is new york city.\""
            ]
          },
          "metadata": {},
          "execution_count": 61
        }
      ],
      "source": [
        "tfidf_vectorizer = TfidfVectorizer(ngram_range=(2,2))  #instantiate N-GRAM TF-IDF\n",
        "tfidf_vectorizer.fit(pp_article_st) #train N-GRAM TF-IDF Features generator model\n",
        "X = tfidf_vectorizer.transform(pp_article_st) #create N-GRAM TF-IDF feature matrix\n",
        "U, SIGMA, VT = randomized_svd(X,n_components=N_LINE,n_iter=100,random_state=100) #perform Latent Semantic Analysis (LSA)\n",
        "scores = np.sqrt(np.dot(U**2,SIGMA**2)) #generate scores for all sentences\n",
        "top_scores_index = np.argsort(scores) #get index of highest scores\n",
        "top_scores_index = top_scores_index[::-1] #sort the indexes in descending order\n",
        "top_scores_index = top_scores_index[0:N_LINE] #get top N Scores index\n",
        "article_array = np.array(article_st) #convert list to array for indexing purpose\n",
        "tfidf_sum = article_array[top_scores_index] #get top N scoring sentences\n",
        "tfidf_sum = list(tfidf_sum) #convert array back to list\n",
        "print(f\"Number of Lines in Summary: {len(tfidf_sum)} \\n\")\n",
        "tfidf_sum_bigram = (\" \").join(tfidf_sum) #convert list to single string\n",
        "tfidf_sum_bigram"
      ]
    },
    {
      "cell_type": "code",
      "execution_count": 61,
      "id": "allied-creator",
      "metadata": {
        "id": "allied-creator"
      },
      "outputs": [],
      "source": [
        ""
      ]
    },
    {
      "cell_type": "markdown",
      "source": [
        "### Word-Embeddings"
      ],
      "metadata": {
        "id": "S5OjqFi0b99j"
      },
      "id": "S5OjqFi0b99j"
    },
    {
      "cell_type": "code",
      "source": [
        ""
      ],
      "metadata": {
        "id": "ddH_xaXEb_-A"
      },
      "id": "ddH_xaXEb_-A",
      "execution_count": 317,
      "outputs": []
    },
    {
      "cell_type": "code",
      "source": [
        ""
      ],
      "metadata": {
        "id": "pCcpN_mLcAc6"
      },
      "id": "pCcpN_mLcAc6",
      "execution_count": null,
      "outputs": []
    },
    {
      "cell_type": "markdown",
      "id": "changed-exhaust",
      "metadata": {
        "id": "changed-exhaust"
      },
      "source": [
        "## Generate Feaure Matrixes and Summaries For Tri-GRAM (3-GRAM) Occurence"
      ]
    },
    {
      "cell_type": "markdown",
      "id": "breeding-webcam",
      "metadata": {
        "id": "breeding-webcam"
      },
      "source": [
        "### BOW"
      ]
    },
    {
      "cell_type": "code",
      "execution_count": 62,
      "id": "organizational-conducting",
      "metadata": {
        "colab": {
          "base_uri": "https://localhost:8080/",
          "height": 205
        },
        "id": "organizational-conducting",
        "outputId": "f30cfc1f-5ee0-4dc2-f006-659385016a61"
      },
      "outputs": [
        {
          "output_type": "stream",
          "name": "stdout",
          "text": [
            "Number of Lines in Summary: 10 \n",
            "\n"
          ]
        },
        {
          "output_type": "execute_result",
          "data": {
            "application/vnd.google.colaboratory.intrinsic+json": {
              "type": "string"
            },
            "text/plain": [
              "'\\n\\ncoordinates: .mw-parser-output .geo-default,.mw-parser-output .geo-dms,.mw-parser-output .geo-dec{display:inline}.mw-parser-output .geo-nondefault,.mw-parser-output .geo-multi-punct{display:none}.mw-parser-output .longitude,.mw-parser-output .latitude{white-space:nowrap}40°n 100°w\\ufeff / \\ufeff40°n 100°w\\ufeff / 40; -100\\nthe united states of america (u.s.a. or usa), commonly known as the united states (u.s. or us) or america, is a country primarily located in north america. notable films topping the american film institute\\'s afi 100 list include orson welles\\'s citizen kane (1941), which is frequently cited as the greatest film of all time,[520][521] casablanca (1942), the godfather (1972), gone with the wind (1939), lawrence of arabia (1962), the wizard of oz (1939), the graduate (1967), on the waterfront (1954), schindler\\'s list (1993), singin\\' in the rain (1952), it\\'s a wonderful life (1946) and sunset boulevard (1950). [424]\\nthe centers for disease control and prevention (cdc) reported that the united states had an average life expectancy at birth of 77.3 years in 2020 (74.5 years for men and 80.2 years for women), down 1.5 years from 2019. according to provisional figures, this was the lowest average u.s. life expectancy recorded by the cdc since 2003, the first overall decline since 2018, and \"the largest one-year decline since world war ii.\" [530] in soccer (a sport that has gained a footing in the united states since the mid-1990s), the country hosted the 1994 fifa world cup, the men\\'s national soccer team qualified for ten world cups and the women\\'s team has won the fifa women\\'s world cup four times; major league soccer is the sport\\'s highest league in the united states (featuring 23 american and three canadian teams). since the general election of 1856, the major parties have been the democratic party, founded in 1824, and the republican party, founded in 1854. since the civil war, only one third-party presidential candidate—former president theodore roosevelt, running as a progressive in 1912—has won as much as 20% of the popular vote, though the self-financed reform party campaign of ross perot took 18.9% in 1992. [164]\\ngovernment policy designed to promote affordable housing,[165] widespread failures in corporate and regulatory governance,[166] and historically low interest rates set by the federal reserve[167] led to the united states housing bubble in 2006, which culminated with the financial crisis of 2007–2008 and the great recession, the nation\\'s largest economic contraction since the great depression. [169] barack obama, the first multiracial[170] president, with african-american ancestry was elected in 2008 amid the crisis,[171] and subsequently passed american recovery and reinvestment act of 2009 economic stimulus and the dodd–frank wall street reform and consumer protection act in an attempt to mitigate its negative effects and ensure there would not be a repeat of the crisis. [296] the department of justice said that the imprisonment rate for all prisoners sentenced to more than a year in state or federal facilities in 2019 stood at 419 per 100,000 residents which was at its lowest point since 1995 and that the total prison population for the same year stood at 1,430,800 which represented an 11% decrease in the population size from a decade earlier. [278] today, american forces can be rapidly deployed by the air force\\'s large fleet of transport aircraft, the navy\\'s 11 active aircraft carriers, and marine expeditionary units at sea with the navy, and army\\'s xviii airborne corps and 75th ranger regiment deployed by air force transport aircraft. [430][431]\\nincreasing obesity in the united states and improvements in health and longevity outside the u.s. contributed to lowering the country\\'s rank in life expectancy from 11th in the world in 1987 to 42nd in 2007. in 2017, the united states had the lowest life expectancy among japan, canada, australia, the united kingdom, and seven nations in western europe.'"
            ]
          },
          "metadata": {},
          "execution_count": 62
        }
      ],
      "source": [
        "count_vectorizer = CountVectorizer(ngram_range=(3,3))  #instantiate N-GRAM BOW\n",
        "count_vectorizer.fit(pp_article_st) #train N-GRAM BOW Features generator model\n",
        "X = count_vectorizer.transform(pp_article_st) #create N-GRAM BOW feature matrix\n",
        "U, SIGMA, VT = randomized_svd(X,n_components=N_LINE,n_iter=100,random_state=100) #perform Latent Semantic Analysis (LSA)\n",
        "scores = np.sqrt(np.dot(U**2,SIGMA**2)) #generate scores for all sentences\n",
        "top_scores_index = np.argsort(scores) #get index of highest scores\n",
        "top_scores_index = top_scores_index[::-1] #sort the indexes in descending order\n",
        "top_scores_index = top_scores_index[0:N_LINE] #get top N Scores index\n",
        "article_array = np.array(article_st) #convert list to array for indexing purpose\n",
        "bow_sum = article_array[top_scores_index] #get top N scoring sentences\n",
        "bow_sum = list(bow_sum) #convert array back to list\n",
        "print(f\"Number of Lines in Summary: {len(bow_sum)} \\n\")\n",
        "bow_sum_trigram = (\" \").join(bow_sum) #convert list to single string\n",
        "bow_sum_trigram"
      ]
    },
    {
      "cell_type": "code",
      "execution_count": 62,
      "id": "compliant-zealand",
      "metadata": {
        "id": "compliant-zealand"
      },
      "outputs": [],
      "source": [
        ""
      ]
    },
    {
      "cell_type": "markdown",
      "id": "drawn-ethnic",
      "metadata": {
        "id": "drawn-ethnic"
      },
      "source": [
        "### TF-IDF"
      ]
    },
    {
      "cell_type": "code",
      "execution_count": 63,
      "id": "developing-embassy",
      "metadata": {
        "colab": {
          "base_uri": "https://localhost:8080/",
          "height": 205
        },
        "id": "developing-embassy",
        "outputId": "a83cda78-c4e8-49dc-c4ae-3f8e69dae9f3"
      },
      "outputs": [
        {
          "output_type": "stream",
          "name": "stdout",
          "text": [
            "Number of Lines in Summary: 10 \n",
            "\n"
          ]
        },
        {
          "output_type": "execute_result",
          "data": {
            "application/vnd.google.colaboratory.intrinsic+json": {
              "type": "string"
            },
            "text/plain": [
              "\"it is a permanent member of the united nations security council. it is a permanent member of the united nations security council. the district of columbia and the five major u.s. territories do not have senators. the district of columbia and the five major u.s. territories each have one member of congress—these members are not allowed to vote. more than 37 million spoke spanish at home, making it the second most commonly used language in the united states. [545]\\nmore than 800 publications are produced in spanish, the second most commonly used language in the united states behind english. [213]\\nthe united states is a federal republic of 50 states, a federal district, five territories and several uninhabited island possessions. the united states is one of the few countries in the world to do so. the united states has the world's largest christian population. [231] the states and the district of columbia choose the president of the united states.\""
            ]
          },
          "metadata": {},
          "execution_count": 63
        }
      ],
      "source": [
        "tfidf_vectorizer = TfidfVectorizer(ngram_range=(3,3))  #instantiate N-GRAM TF-IDF\n",
        "tfidf_vectorizer.fit(pp_article_st) #train N-GRAM TF-IDF Features generator model\n",
        "X = tfidf_vectorizer.transform(pp_article_st) #create N-GRAM TF-IDF feature matrix\n",
        "U, SIGMA, VT = randomized_svd(X,n_components=N_LINE,n_iter=100,random_state=100) #perform Latent Semantic Analysis (LSA)\n",
        "scores = np.sqrt(np.dot(U**2,SIGMA**2)) #generate scores for all sentences\n",
        "top_scores_index = np.argsort(scores) #get index of highest scores\n",
        "top_scores_index = top_scores_index[::-1] #sort the indexes in descending order\n",
        "top_scores_index = top_scores_index[0:N_LINE] #get top N Scores index\n",
        "article_array = np.array(article_st) #convert list to array for indexing purpose\n",
        "tfidf_sum = article_array[top_scores_index] #get top N scoring sentences\n",
        "tfidf_sum = list(tfidf_sum) #convert array back to list\n",
        "print(f\"Number of Lines in Summary: {len(tfidf_sum)} \\n\")\n",
        "tfidf_sum_trigram = (\" \").join(tfidf_sum) #convert list to single string\n",
        "tfidf_sum_trigram"
      ]
    },
    {
      "cell_type": "code",
      "execution_count": 63,
      "id": "academic-mother",
      "metadata": {
        "id": "academic-mother"
      },
      "outputs": [],
      "source": [
        ""
      ]
    },
    {
      "cell_type": "markdown",
      "source": [
        ""
      ],
      "metadata": {
        "id": "O6ZCGq_2b8Xu"
      },
      "id": "O6ZCGq_2b8Xu"
    },
    {
      "cell_type": "markdown",
      "id": "banner-transmission",
      "metadata": {
        "id": "banner-transmission"
      },
      "source": [
        "## Generate Feaure Matrixes and Summaries For (4-GRAM) Occurence"
      ]
    },
    {
      "cell_type": "markdown",
      "id": "grateful-purpose",
      "metadata": {
        "id": "grateful-purpose"
      },
      "source": [
        "### BOW"
      ]
    },
    {
      "cell_type": "code",
      "execution_count": 64,
      "id": "military-bacon",
      "metadata": {
        "colab": {
          "base_uri": "https://localhost:8080/",
          "height": 205
        },
        "id": "military-bacon",
        "outputId": "654aac1d-5518-4b95-836e-99b53170a462"
      },
      "outputs": [
        {
          "output_type": "stream",
          "name": "stdout",
          "text": [
            "Number of Lines in Summary: 10 \n",
            "\n"
          ]
        },
        {
          "output_type": "execute_result",
          "data": {
            "application/vnd.google.colaboratory.intrinsic+json": {
              "type": "string"
            },
            "text/plain": [
              "'\\n\\ncoordinates: .mw-parser-output .geo-default,.mw-parser-output .geo-dms,.mw-parser-output .geo-dec{display:inline}.mw-parser-output .geo-nondefault,.mw-parser-output .geo-multi-punct{display:none}.mw-parser-output .longitude,.mw-parser-output .latitude{white-space:nowrap}40°n 100°w\\ufeff / \\ufeff40°n 100°w\\ufeff / 40; -100\\nthe united states of america (u.s.a. or usa), commonly known as the united states (u.s. or us) or america, is a country primarily located in north america. notable films topping the american film institute\\'s afi 100 list include orson welles\\'s citizen kane (1941), which is frequently cited as the greatest film of all time,[520][521] casablanca (1942), the godfather (1972), gone with the wind (1939), lawrence of arabia (1962), the wizard of oz (1939), the graduate (1967), on the waterfront (1954), schindler\\'s list (1993), singin\\' in the rain (1952), it\\'s a wonderful life (1946) and sunset boulevard (1950). [424]\\nthe centers for disease control and prevention (cdc) reported that the united states had an average life expectancy at birth of 77.3 years in 2020 (74.5 years for men and 80.2 years for women), down 1.5 years from 2019. according to provisional figures, this was the lowest average u.s. life expectancy recorded by the cdc since 2003, the first overall decline since 2018, and \"the largest one-year decline since world war ii.\" [530] in soccer (a sport that has gained a footing in the united states since the mid-1990s), the country hosted the 1994 fifa world cup, the men\\'s national soccer team qualified for ten world cups and the women\\'s team has won the fifa women\\'s world cup four times; major league soccer is the sport\\'s highest league in the united states (featuring 23 american and three canadian teams). since the general election of 1856, the major parties have been the democratic party, founded in 1824, and the republican party, founded in 1854. since the civil war, only one third-party presidential candidate—former president theodore roosevelt, running as a progressive in 1912—has won as much as 20% of the popular vote, though the self-financed reform party campaign of ross perot took 18.9% in 1992. [164]\\ngovernment policy designed to promote affordable housing,[165] widespread failures in corporate and regulatory governance,[166] and historically low interest rates set by the federal reserve[167] led to the united states housing bubble in 2006, which culminated with the financial crisis of 2007–2008 and the great recession, the nation\\'s largest economic contraction since the great depression. [169] barack obama, the first multiracial[170] president, with african-american ancestry was elected in 2008 amid the crisis,[171] and subsequently passed american recovery and reinvestment act of 2009 economic stimulus and the dodd–frank wall street reform and consumer protection act in an attempt to mitigate its negative effects and ensure there would not be a repeat of the crisis. [296] the department of justice said that the imprisonment rate for all prisoners sentenced to more than a year in state or federal facilities in 2019 stood at 419 per 100,000 residents which was at its lowest point since 1995 and that the total prison population for the same year stood at 1,430,800 which represented an 11% decrease in the population size from a decade earlier. [430][431]\\nincreasing obesity in the united states and improvements in health and longevity outside the u.s. contributed to lowering the country\\'s rank in life expectancy from 11th in the world in 1987 to 42nd in 2007. in 2017, the united states had the lowest life expectancy among japan, canada, australia, the united kingdom, and seven nations in western europe. [480] a work seen as capturing fundamental aspects of the national experience and character—such as herman melville\\'s moby-dick (1851), twain\\'s the adventures of huckleberry finn (1885), f. scott fitzgerald\\'s the great gatsby (1925) and harper lee\\'s to kill a mockingbird (1960)—may be dubbed the \"great american novel.'"
            ]
          },
          "metadata": {},
          "execution_count": 64
        }
      ],
      "source": [
        "count_vectorizer = CountVectorizer(ngram_range=(4,4))  #instantiate N-GRAM BOW\n",
        "count_vectorizer.fit(pp_article_st) #train N-GRAM BOW Features generator model\n",
        "X = count_vectorizer.transform(pp_article_st) #create N-GRAM BOW feature matrix\n",
        "U, SIGMA, VT = randomized_svd(X,n_components=N_LINE,n_iter=100,random_state=100) #perform Latent Semantic Analysis (LSA)\n",
        "scores = np.sqrt(np.dot(U**2,SIGMA**2)) #generate scores for all sentences\n",
        "top_scores_index = np.argsort(scores) #get index of highest scores\n",
        "top_scores_index = top_scores_index[::-1] #sort the indexes in descending order\n",
        "top_scores_index = top_scores_index[0:N_LINE] #get top N Scores index\n",
        "article_array = np.array(article_st) #convert list to array for indexing purpose\n",
        "bow_sum = article_array[top_scores_index] #get top N scoring sentences\n",
        "bow_sum = list(bow_sum) #convert array back to list\n",
        "print(f\"Number of Lines in Summary: {len(bow_sum)} \\n\")\n",
        "bow_sum_4gram = (\" \").join(bow_sum) #convert list to single string\n",
        "bow_sum_4gram"
      ]
    },
    {
      "cell_type": "code",
      "execution_count": 64,
      "id": "dominant-struggle",
      "metadata": {
        "id": "dominant-struggle"
      },
      "outputs": [],
      "source": [
        ""
      ]
    },
    {
      "cell_type": "markdown",
      "id": "israeli-salvation",
      "metadata": {
        "id": "israeli-salvation"
      },
      "source": [
        "### TF-IDF"
      ]
    },
    {
      "cell_type": "code",
      "execution_count": 65,
      "id": "exceptional-interval",
      "metadata": {
        "colab": {
          "base_uri": "https://localhost:8080/",
          "height": 205
        },
        "id": "exceptional-interval",
        "outputId": "ad221284-d9cb-472d-caeb-84709a807661"
      },
      "outputs": [
        {
          "output_type": "stream",
          "name": "stdout",
          "text": [
            "Number of Lines in Summary: 10 \n",
            "\n"
          ]
        },
        {
          "output_type": "execute_result",
          "data": {
            "application/vnd.google.colaboratory.intrinsic+json": {
              "type": "string"
            },
            "text/plain": [
              "'it is a permanent member of the united nations security council. it is a permanent member of the united nations security council. the district of columbia and the five major u.s. territories do not have senators. the district of columbia and the five major u.s. territories each have one member of congress—these members are not allowed to vote. [545]\\nmore than 800 publications are produced in spanish, the second most commonly used language in the united states behind english. more than 37 million spoke spanish at home, making it the second most commonly used language in the united states. [213]\\nthe united states is a federal republic of 50 states, a federal district, five territories and several uninhabited island possessions. it consists of 50 states, a federal district, five major unincorporated territories, 326 indian reservations, and some minor possessions. the united states is a federal republic and a representative democracy with three separate branches of government, including a bicameral legislature. [132][133]\\nafter world war ii, the united states and the soviet union competed for power, influence, and prestige during what became known as the cold war, driven by an ideological divide between capitalism and communism.'"
            ]
          },
          "metadata": {},
          "execution_count": 65
        }
      ],
      "source": [
        "tfidf_vectorizer = TfidfVectorizer(ngram_range=(4,4))  #instantiate N-GRAM TF-IDF\n",
        "tfidf_vectorizer.fit(pp_article_st) #train N-GRAM TF-IDF Features generator model\n",
        "X = tfidf_vectorizer.transform(pp_article_st) #create N-GRAM TF-IDF feature matrix\n",
        "U, SIGMA, VT = randomized_svd(X,n_components=N_LINE,n_iter=100,random_state=100) #perform Latent Semantic Analysis (LSA)\n",
        "scores = np.sqrt(np.dot(U**2,SIGMA**2)) #generate scores for all sentences\n",
        "top_scores_index = np.argsort(scores) #get index of highest scores\n",
        "top_scores_index = top_scores_index[::-1] #sort the indexes in descending order\n",
        "top_scores_index = top_scores_index[0:N_LINE] #get top N Scores index\n",
        "article_array = np.array(article_st) #convert list to array for indexing purpose\n",
        "tfidf_sum = article_array[top_scores_index] #get top N scoring sentences\n",
        "tfidf_sum = list(tfidf_sum) #convert array back to list\n",
        "print(f\"Number of Lines in Summary: {len(tfidf_sum)} \\n\")\n",
        "tfidf_sum_4gram = (\" \").join(tfidf_sum) #convert list to single string\n",
        "tfidf_sum_4gram"
      ]
    },
    {
      "cell_type": "code",
      "execution_count": 65,
      "id": "loved-vision",
      "metadata": {
        "id": "loved-vision"
      },
      "outputs": [],
      "source": [
        ""
      ]
    },
    {
      "cell_type": "markdown",
      "id": "logical-patrick",
      "metadata": {
        "id": "logical-patrick"
      },
      "source": [
        "## Generate Feaure Matrixes and Summaries For (5-GRAM) Occurence"
      ]
    },
    {
      "cell_type": "markdown",
      "id": "detected-beijing",
      "metadata": {
        "id": "detected-beijing"
      },
      "source": [
        "### BOW"
      ]
    },
    {
      "cell_type": "code",
      "execution_count": 66,
      "id": "retired-inspection",
      "metadata": {
        "colab": {
          "base_uri": "https://localhost:8080/",
          "height": 205
        },
        "id": "retired-inspection",
        "outputId": "f985089c-457e-4854-a695-7a035a7284a7"
      },
      "outputs": [
        {
          "output_type": "stream",
          "name": "stdout",
          "text": [
            "Number of Lines in Summary: 10 \n",
            "\n"
          ]
        },
        {
          "output_type": "execute_result",
          "data": {
            "application/vnd.google.colaboratory.intrinsic+json": {
              "type": "string"
            },
            "text/plain": [
              "'\\n\\ncoordinates: .mw-parser-output .geo-default,.mw-parser-output .geo-dms,.mw-parser-output .geo-dec{display:inline}.mw-parser-output .geo-nondefault,.mw-parser-output .geo-multi-punct{display:none}.mw-parser-output .longitude,.mw-parser-output .latitude{white-space:nowrap}40°n 100°w\\ufeff / \\ufeff40°n 100°w\\ufeff / 40; -100\\nthe united states of america (u.s.a. or usa), commonly known as the united states (u.s. or us) or america, is a country primarily located in north america. notable films topping the american film institute\\'s afi 100 list include orson welles\\'s citizen kane (1941), which is frequently cited as the greatest film of all time,[520][521] casablanca (1942), the godfather (1972), gone with the wind (1939), lawrence of arabia (1962), the wizard of oz (1939), the graduate (1967), on the waterfront (1954), schindler\\'s list (1993), singin\\' in the rain (1952), it\\'s a wonderful life (1946) and sunset boulevard (1950). [424]\\nthe centers for disease control and prevention (cdc) reported that the united states had an average life expectancy at birth of 77.3 years in 2020 (74.5 years for men and 80.2 years for women), down 1.5 years from 2019. according to provisional figures, this was the lowest average u.s. life expectancy recorded by the cdc since 2003, the first overall decline since 2018, and \"the largest one-year decline since world war ii.\" [530] in soccer (a sport that has gained a footing in the united states since the mid-1990s), the country hosted the 1994 fifa world cup, the men\\'s national soccer team qualified for ten world cups and the women\\'s team has won the fifa women\\'s world cup four times; major league soccer is the sport\\'s highest league in the united states (featuring 23 american and three canadian teams). since the general election of 1856, the major parties have been the democratic party, founded in 1824, and the republican party, founded in 1854. since the civil war, only one third-party presidential candidate—former president theodore roosevelt, running as a progressive in 1912—has won as much as 20% of the popular vote, though the self-financed reform party campaign of ross perot took 18.9% in 1992. [164]\\ngovernment policy designed to promote affordable housing,[165] widespread failures in corporate and regulatory governance,[166] and historically low interest rates set by the federal reserve[167] led to the united states housing bubble in 2006, which culminated with the financial crisis of 2007–2008 and the great recession, the nation\\'s largest economic contraction since the great depression. [169] barack obama, the first multiracial[170] president, with african-american ancestry was elected in 2008 amid the crisis,[171] and subsequently passed american recovery and reinvestment act of 2009 economic stimulus and the dodd–frank wall street reform and consumer protection act in an attempt to mitigate its negative effects and ensure there would not be a repeat of the crisis. [296] the department of justice said that the imprisonment rate for all prisoners sentenced to more than a year in state or federal facilities in 2019 stood at 419 per 100,000 residents which was at its lowest point since 1995 and that the total prison population for the same year stood at 1,430,800 which represented an 11% decrease in the population size from a decade earlier. [430][431]\\nincreasing obesity in the united states and improvements in health and longevity outside the u.s. contributed to lowering the country\\'s rank in life expectancy from 11th in the world in 1987 to 42nd in 2007. in 2017, the united states had the lowest life expectancy among japan, canada, australia, the united kingdom, and seven nations in western europe. the first documented arrival of europeans in the continental united states is that of spanish conquistadors such as juan ponce de león, who made his first expedition to florida in 1513. even earlier, christopher columbus had landed in puerto rico on his 1493 voyage, and san juan was settled by the spanish a decade later.'"
            ]
          },
          "metadata": {},
          "execution_count": 66
        }
      ],
      "source": [
        "count_vectorizer = CountVectorizer(ngram_range=(5,5))  #instantiate N-GRAM BOW\n",
        "count_vectorizer.fit(pp_article_st) #train N-GRAM BOW Features generator model\n",
        "X = count_vectorizer.transform(pp_article_st) #create N-GRAM BOW feature matrix\n",
        "U, SIGMA, VT = randomized_svd(X,n_components=N_LINE,n_iter=100,random_state=100) #perform Latent Semantic Analysis (LSA)\n",
        "scores = np.sqrt(np.dot(U**2,SIGMA**2)) #generate scores for all sentences\n",
        "top_scores_index = np.argsort(scores) #get index of highest scores\n",
        "top_scores_index = top_scores_index[::-1] #sort the indexes in descending order\n",
        "top_scores_index = top_scores_index[0:N_LINE] #get top N Scores index\n",
        "article_array = np.array(article_st) #convert list to array for indexing purpose\n",
        "bow_sum = article_array[top_scores_index] #get top N scoring sentences\n",
        "bow_sum = list(bow_sum) #convert array back to list\n",
        "print(f\"Number of Lines in Summary: {len(bow_sum)} \\n\")\n",
        "bow_sum_5gram = (\" \").join(bow_sum) #convert list to single string\n",
        "bow_sum_5gram"
      ]
    },
    {
      "cell_type": "code",
      "execution_count": 66,
      "id": "simplified-training",
      "metadata": {
        "id": "simplified-training"
      },
      "outputs": [],
      "source": [
        ""
      ]
    },
    {
      "cell_type": "markdown",
      "id": "ecological-composite",
      "metadata": {
        "id": "ecological-composite"
      },
      "source": [
        "### TF-IDF"
      ]
    },
    {
      "cell_type": "code",
      "execution_count": 67,
      "id": "placed-division",
      "metadata": {
        "colab": {
          "base_uri": "https://localhost:8080/",
          "height": 205
        },
        "id": "placed-division",
        "outputId": "f0e96ecf-9b01-4a4e-b42e-44b5185f02ec"
      },
      "outputs": [
        {
          "output_type": "stream",
          "name": "stdout",
          "text": [
            "Number of Lines in Summary: 10 \n",
            "\n"
          ]
        },
        {
          "output_type": "execute_result",
          "data": {
            "application/vnd.google.colaboratory.intrinsic+json": {
              "type": "string"
            },
            "text/plain": [
              "'it is a permanent member of the united nations security council. it is a permanent member of the united nations security council. the district of columbia and the five major u.s. territories do not have senators. the district of columbia and the five major u.s. territories each have one member of congress—these members are not allowed to vote. [545]\\nmore than 800 publications are produced in spanish, the second most commonly used language in the united states behind english. more than 37 million spoke spanish at home, making it the second most commonly used language in the united states. it consists of 50 states, a federal district, five major unincorporated territories, 326 indian reservations, and some minor possessions. [213]\\nthe united states is a federal republic of 50 states, a federal district, five territories and several uninhabited island possessions. [120]\\nat first effectively neutral during world war ii, the united states began supplying materiel to the allies in march 1941 through the lend-lease program. [132][133]\\nafter world war ii, the united states and the soviet union competed for power, influence, and prestige during what became known as the cold war, driven by an ideological divide between capitalism and communism.'"
            ]
          },
          "metadata": {},
          "execution_count": 67
        }
      ],
      "source": [
        "tfidf_vectorizer = TfidfVectorizer(ngram_range=(5,5))  #instantiate N-GRAM TF-IDF\n",
        "tfidf_vectorizer.fit(pp_article_st) #train N-GRAM TF-IDF Features generator model\n",
        "X = tfidf_vectorizer.transform(pp_article_st) #create N-GRAM TF-IDF feature matrix\n",
        "U, SIGMA, VT = randomized_svd(X,n_components=N_LINE,n_iter=100,random_state=100) #perform Latent Semantic Analysis (LSA)\n",
        "scores = np.sqrt(np.dot(U**2,SIGMA**2)) #generate scores for all sentences\n",
        "top_scores_index = np.argsort(scores) #get index of highest scores\n",
        "top_scores_index = top_scores_index[::-1] #sort the indexes in descending order\n",
        "top_scores_index = top_scores_index[0:N_LINE] #get top N Scores index\n",
        "article_array = np.array(article_st) #convert list to array for indexing purpose\n",
        "tfidf_sum = article_array[top_scores_index] #get top N scoring sentences\n",
        "tfidf_sum = list(tfidf_sum) #convert array back to list\n",
        "print(f\"Number of Lines in Summary: {len(tfidf_sum)} \\n\")\n",
        "tfidf_sum_5gram = (\" \").join(tfidf_sum) #convert list to single string\n",
        "tfidf_sum_5gram"
      ]
    },
    {
      "cell_type": "code",
      "execution_count": 142,
      "id": "unnecessary-architect",
      "metadata": {
        "id": "unnecessary-architect"
      },
      "outputs": [],
      "source": [
        ""
      ]
    },
    {
      "cell_type": "markdown",
      "source": [
        "## Generate Feaure Matrixes and Summaries using Word-Embeddings"
      ],
      "metadata": {
        "id": "YA8kUfYxYhm9"
      },
      "id": "YA8kUfYxYhm9"
    },
    {
      "cell_type": "code",
      "source": [
        ""
      ],
      "metadata": {
        "id": "wplntlkUYhM7"
      },
      "id": "wplntlkUYhM7",
      "execution_count": 142,
      "outputs": []
    },
    {
      "cell_type": "code",
      "source": [
        ""
      ],
      "metadata": {
        "id": "HQx1LOUoYlNX"
      },
      "id": "HQx1LOUoYlNX",
      "execution_count": 142,
      "outputs": []
    },
    {
      "cell_type": "code",
      "source": [
        ""
      ],
      "metadata": {
        "id": "UykOV3OOYlTN"
      },
      "id": "UykOV3OOYlTN",
      "execution_count": null,
      "outputs": []
    },
    {
      "cell_type": "markdown",
      "id": "fundamental-solid",
      "metadata": {
        "id": "fundamental-solid"
      },
      "source": [
        "## Summaries Gnerated Via Survery"
      ]
    },
    {
      "cell_type": "code",
      "execution_count": 68,
      "id": "lesser-wallpaper",
      "metadata": {
        "colab": {
          "base_uri": "https://localhost:8080/",
          "height": 167
        },
        "id": "lesser-wallpaper",
        "outputId": "48789c6a-aebd-49f5-f440-558e38da3238"
      },
      "outputs": [
        {
          "output_type": "execute_result",
          "data": {
            "application/vnd.google.colaboratory.intrinsic+json": {
              "type": "string"
            },
            "text/plain": [
              "'The United States is a federal republic and a representative democracy with three separate branches of government, including a bicameral legislature. By value, the United States is the world\\'s largest importer and the second-largest exporter of goods. Although its population is only 4.2% of the world total, it holds 29.4% of the total wealth in the world, the largest share held by any country.Americans had developed an ideology of \"republicanism\", asserting that government rested on the will of the people as expressed in their local legislatures. Americans have traditionally been characterized by a strong work ethic, competitiveness, and individualism,[455] as well as a unifying belief in an \"American creed\" emphasizing liberty, equality, private property, democracy, rule of law, and a preference for limited government. The country has received criticism in regard to inequality related to race, wealth and income, the use of capital punishment, high incarceration rates, and lack of universal health care. In 2018, there were almost 90 million immigrants and U.S.-born children of immigrants in the United States, accounting for 28% of the overall U.S. population. The country is one of the five recognized nuclear weapons states and one of nine countries to possess nuclear weapons. The American fast food industry, the world\\'s largest, pioneered the drive-through format in the 1940s. American football is by several measures the most popular spectator sport in the United States.'"
            ]
          },
          "metadata": {},
          "execution_count": 68
        }
      ],
      "source": [
        "survey_summary1 = \"\"\"The United States is a federal republic and a representative democracy with three separate branches of government, including a bicameral legislature. By value, the United States is the world's largest importer and the second-largest exporter of goods. Although its population is only 4.2% of the world total, it holds 29.4% of the total wealth in the world, the largest share held by any country.Americans had developed an ideology of \"republicanism\", asserting that government rested on the will of the people as expressed in their local legislatures. Americans have traditionally been characterized by a strong work ethic, competitiveness, and individualism,[455] as well as a unifying belief in an \"American creed\" emphasizing liberty, equality, private property, democracy, rule of law, and a preference for limited government. The country has received criticism in regard to inequality related to race, wealth and income, the use of capital punishment, high incarceration rates, and lack of universal health care. In 2018, there were almost 90 million immigrants and U.S.-born children of immigrants in the United States, accounting for 28% of the overall U.S. population. The country is one of the five recognized nuclear weapons states and one of nine countries to possess nuclear weapons. The American fast food industry, the world's largest, pioneered the drive-through format in the 1940s. American football is by several measures the most popular spectator sport in the United States.\"\"\"\n",
        "survey_summary1"
      ]
    },
    {
      "cell_type": "code",
      "execution_count": 69,
      "id": "personalized-worst",
      "metadata": {
        "colab": {
          "base_uri": "https://localhost:8080/",
          "height": 167
        },
        "id": "personalized-worst",
        "outputId": "ca753644-dc26-4b3a-9dbc-9e1432c3805b"
      },
      "outputs": [
        {
          "output_type": "execute_result",
          "data": {
            "application/vnd.google.colaboratory.intrinsic+json": {
              "type": "string"
            },
            "text/plain": [
              "\"The United States of America (USA), commonly known as the United States (U.S. or US), or America, is a country primarily located in North America. It consists of 50 states, a federal district, five major self-governing territories, 326 Indian reservations, and some minor possessions. At 3.8 million square miles (9.8 million square kilometers), it is the world's third- or fourth-largest country by total area. With a population of more than 328 million people, it is the third most populous country in the world. Paleo-Indians migrated from Siberia to the North American mainland at least 12,000 years ago, and European colonization began in the 16th century. The United States emerged from the thirteen British colonies established along the East Coast. In the late 18th century, the U.S. began vigorously expanding across North America, gradually acquiring new territories, frequently displacing Native Americans, and admitting new states; by 1848, the United States spanned the continent. The United States is a federal republic and a representative democracy with three separate branches of government, including a bicameral legislature. The United States is a highly developed country, and continuously ranks high in measures of socioeconomic performance. Making up more than a third of global military spending, it is the foremost military power in the world and is a leading political, cultural, and scientific force internationally. \""
            ]
          },
          "metadata": {},
          "execution_count": 69
        }
      ],
      "source": [
        "survey_summary2 = \"\"\"The United States of America (USA), commonly known as the United States (U.S. or US), or America, is a country primarily located in North America. It consists of 50 states, a federal district, five major self-governing territories, 326 Indian reservations, and some minor possessions. At 3.8 million square miles (9.8 million square kilometers), it is the world's third- or fourth-largest country by total area. With a population of more than 328 million people, it is the third most populous country in the world. Paleo-Indians migrated from Siberia to the North American mainland at least 12,000 years ago, and European colonization began in the 16th century. The United States emerged from the thirteen British colonies established along the East Coast. In the late 18th century, the U.S. began vigorously expanding across North America, gradually acquiring new territories, frequently displacing Native Americans, and admitting new states; by 1848, the United States spanned the continent. The United States is a federal republic and a representative democracy with three separate branches of government, including a bicameral legislature. The United States is a highly developed country, and continuously ranks high in measures of socioeconomic performance. Making up more than a third of global military spending, it is the foremost military power in the world and is a leading political, cultural, and scientific force internationally. \"\"\"\n",
        "survey_summary2"
      ]
    },
    {
      "cell_type": "code",
      "execution_count": 69,
      "id": "electrical-practitioner",
      "metadata": {
        "id": "electrical-practitioner"
      },
      "outputs": [],
      "source": [
        ""
      ]
    },
    {
      "cell_type": "markdown",
      "id": "modern-component",
      "metadata": {
        "id": "modern-component"
      },
      "source": [
        "## Evaluation of Generated Summaries using ROUGE-N Metric and Survey Summary 2"
      ]
    },
    {
      "cell_type": "markdown",
      "id": "stone-hughes",
      "metadata": {
        "id": "stone-hughes"
      },
      "source": [
        "### 1-GRAM"
      ]
    },
    {
      "cell_type": "code",
      "execution_count": 70,
      "id": "timely-slide",
      "metadata": {
        "id": "timely-slide"
      },
      "outputs": [],
      "source": [
        "scorer = rouge_scorer.RougeScorer(['rouge1'], use_stemmer=False)"
      ]
    },
    {
      "cell_type": "code",
      "execution_count": 71,
      "id": "recorded-actor",
      "metadata": {
        "colab": {
          "base_uri": "https://localhost:8080/"
        },
        "id": "recorded-actor",
        "outputId": "96aacf2f-c51d-4b50-b9e6-7d4deeb27140"
      },
      "outputs": [
        {
          "output_type": "execute_result",
          "data": {
            "text/plain": [
              "0.2118491921005386"
            ]
          },
          "metadata": {},
          "execution_count": 71
        }
      ],
      "source": [
        "score_1gram_bow = scorer.score(bow_sum_unigram,survey_summary2)[\"rouge1\"].recall #BOW\n",
        "score_1gram_bow"
      ]
    },
    {
      "cell_type": "code",
      "execution_count": 72,
      "id": "mediterranean-parade",
      "metadata": {
        "colab": {
          "base_uri": "https://localhost:8080/"
        },
        "id": "mediterranean-parade",
        "outputId": "e96410dc-1ae5-4e5a-81d8-a7c338f009ec"
      },
      "outputs": [
        {
          "output_type": "execute_result",
          "data": {
            "text/plain": [
              "0.4504950495049505"
            ]
          },
          "metadata": {},
          "execution_count": 72
        }
      ],
      "source": [
        "score_1gram_tfidf = scorer.score(tfidf_sum_unigram,survey_summary2)[\"rouge1\"].recall #TF-IDF\n",
        "score_1gram_tfidf"
      ]
    },
    {
      "cell_type": "code",
      "execution_count": 72,
      "id": "plastic-yugoslavia",
      "metadata": {
        "id": "plastic-yugoslavia"
      },
      "outputs": [],
      "source": [
        ""
      ]
    },
    {
      "cell_type": "markdown",
      "id": "official-jason",
      "metadata": {
        "id": "official-jason"
      },
      "source": [
        "### 2-GRAM"
      ]
    },
    {
      "cell_type": "code",
      "execution_count": 73,
      "id": "consolidated-disaster",
      "metadata": {
        "id": "consolidated-disaster"
      },
      "outputs": [],
      "source": [
        "scorer = rouge_scorer.RougeScorer(['rouge2'], use_stemmer=False)"
      ]
    },
    {
      "cell_type": "code",
      "execution_count": 74,
      "id": "further-motorcycle",
      "metadata": {
        "colab": {
          "base_uri": "https://localhost:8080/"
        },
        "id": "further-motorcycle",
        "outputId": "c8cc70c8-b46d-4e0d-c70b-68372cc8ec87"
      },
      "outputs": [
        {
          "output_type": "execute_result",
          "data": {
            "text/plain": [
              "0.06156156156156156"
            ]
          },
          "metadata": {},
          "execution_count": 74
        }
      ],
      "source": [
        "score_2gram_bow = scorer.score(bow_sum_bigram,survey_summary2)[\"rouge2\"].recall #BOW\n",
        "score_2gram_bow"
      ]
    },
    {
      "cell_type": "code",
      "execution_count": 75,
      "id": "stupid-ready",
      "metadata": {
        "colab": {
          "base_uri": "https://localhost:8080/"
        },
        "id": "stupid-ready",
        "outputId": "f5342d3b-1339-489a-d37b-5bba45a1b634"
      },
      "outputs": [
        {
          "output_type": "execute_result",
          "data": {
            "text/plain": [
              "0.21518987341772153"
            ]
          },
          "metadata": {},
          "execution_count": 75
        }
      ],
      "source": [
        "score_2gram_tfidf = scorer.score(tfidf_sum_bigram,survey_summary2)[\"rouge2\"].recall #TF-IDF\n",
        "score_2gram_tfidf"
      ]
    },
    {
      "cell_type": "code",
      "execution_count": 75,
      "id": "substantial-aggregate",
      "metadata": {
        "id": "substantial-aggregate"
      },
      "outputs": [],
      "source": [
        ""
      ]
    },
    {
      "cell_type": "markdown",
      "id": "difficult-yahoo",
      "metadata": {
        "id": "difficult-yahoo"
      },
      "source": [
        "### 3-GRAM"
      ]
    },
    {
      "cell_type": "code",
      "execution_count": 76,
      "id": "light-guarantee",
      "metadata": {
        "id": "light-guarantee"
      },
      "outputs": [],
      "source": [
        "scorer = rouge_scorer.RougeScorer(['rouge3'], use_stemmer=False)"
      ]
    },
    {
      "cell_type": "code",
      "execution_count": 77,
      "id": "weekly-apartment",
      "metadata": {
        "colab": {
          "base_uri": "https://localhost:8080/"
        },
        "id": "weekly-apartment",
        "outputId": "21d5dd91-97e6-40f5-cd6d-327c6a569195"
      },
      "outputs": [
        {
          "output_type": "execute_result",
          "data": {
            "text/plain": [
              "0.042709867452135494"
            ]
          },
          "metadata": {},
          "execution_count": 77
        }
      ],
      "source": [
        "score_3gram_bow = scorer.score(bow_sum_trigram,survey_summary2)[\"rouge3\"].recall #BOW\n",
        "score_3gram_bow"
      ]
    },
    {
      "cell_type": "code",
      "execution_count": 78,
      "id": "activated-brunei",
      "metadata": {
        "colab": {
          "base_uri": "https://localhost:8080/"
        },
        "id": "activated-brunei",
        "outputId": "e9ead9f4-e41b-4b3d-8c6b-67f8bcd6dfa7"
      },
      "outputs": [
        {
          "output_type": "execute_result",
          "data": {
            "text/plain": [
              "0.11180124223602485"
            ]
          },
          "metadata": {},
          "execution_count": 78
        }
      ],
      "source": [
        "score_3gram_tfidf = scorer.score(tfidf_sum_trigram,survey_summary2)[\"rouge3\"].recall #TF-IDF\n",
        "score_3gram_tfidf"
      ]
    },
    {
      "cell_type": "code",
      "execution_count": 78,
      "id": "recent-climate",
      "metadata": {
        "id": "recent-climate"
      },
      "outputs": [],
      "source": [
        ""
      ]
    },
    {
      "cell_type": "markdown",
      "id": "sweet-corner",
      "metadata": {
        "id": "sweet-corner"
      },
      "source": [
        "### 4-GRAM"
      ]
    },
    {
      "cell_type": "code",
      "execution_count": 79,
      "id": "annual-curve",
      "metadata": {
        "id": "annual-curve"
      },
      "outputs": [],
      "source": [
        "scorer = rouge_scorer.RougeScorer(['rouge4'], use_stemmer=False)"
      ]
    },
    {
      "cell_type": "code",
      "execution_count": 80,
      "id": "infectious-concentrate",
      "metadata": {
        "colab": {
          "base_uri": "https://localhost:8080/"
        },
        "id": "infectious-concentrate",
        "outputId": "789c30e1-30e4-4ba8-96ce-a4a2cffea165"
      },
      "outputs": [
        {
          "output_type": "execute_result",
          "data": {
            "text/plain": [
              "0.02932551319648094"
            ]
          },
          "metadata": {},
          "execution_count": 80
        }
      ],
      "source": [
        "score_4gram_bow = scorer.score(bow_sum_4gram,survey_summary2)[\"rouge4\"].recall #BOW\n",
        "score_4gram_bow"
      ]
    },
    {
      "cell_type": "code",
      "execution_count": 81,
      "id": "sustained-faculty",
      "metadata": {
        "colab": {
          "base_uri": "https://localhost:8080/"
        },
        "id": "sustained-faculty",
        "outputId": "6d075a04-c5dd-492e-b814-d0842ec1b5fe"
      },
      "outputs": [
        {
          "output_type": "execute_result",
          "data": {
            "text/plain": [
              "0.16326530612244897"
            ]
          },
          "metadata": {},
          "execution_count": 81
        }
      ],
      "source": [
        "score_4gram_tfidf = scorer.score(tfidf_sum_4gram,survey_summary2)[\"rouge4\"].recall #TF-IDF\n",
        "score_4gram_tfidf"
      ]
    },
    {
      "cell_type": "code",
      "execution_count": 81,
      "id": "technological-motor",
      "metadata": {
        "id": "technological-motor"
      },
      "outputs": [],
      "source": [
        ""
      ]
    },
    {
      "cell_type": "markdown",
      "id": "necessary-prince",
      "metadata": {
        "id": "necessary-prince"
      },
      "source": [
        "### 5-GRAM"
      ]
    },
    {
      "cell_type": "code",
      "execution_count": 82,
      "id": "independent-suffering",
      "metadata": {
        "id": "independent-suffering"
      },
      "outputs": [],
      "source": [
        "scorer = rouge_scorer.RougeScorer(['rouge5'], use_stemmer=False)"
      ]
    },
    {
      "cell_type": "code",
      "execution_count": 83,
      "id": "preceding-camping",
      "metadata": {
        "colab": {
          "base_uri": "https://localhost:8080/"
        },
        "id": "preceding-camping",
        "outputId": "3f42f571-c4ea-4017-d8e6-9632bb557ac4"
      },
      "outputs": [
        {
          "output_type": "execute_result",
          "data": {
            "text/plain": [
              "0.02635431918008785"
            ]
          },
          "metadata": {},
          "execution_count": 83
        }
      ],
      "source": [
        "score_5gram_bow = scorer.score(bow_sum_5gram,survey_summary2)[\"rouge5\"].recall #BOW\n",
        "score_5gram_bow"
      ]
    },
    {
      "cell_type": "code",
      "execution_count": 84,
      "id": "ceramic-impact",
      "metadata": {
        "colab": {
          "base_uri": "https://localhost:8080/"
        },
        "id": "ceramic-impact",
        "outputId": "9b62b6f0-5c1d-41aa-c0a0-dc46b30a8352"
      },
      "outputs": [
        {
          "output_type": "execute_result",
          "data": {
            "text/plain": [
              "0.065"
            ]
          },
          "metadata": {},
          "execution_count": 84
        }
      ],
      "source": [
        "score_5gram_tfidf = scorer.score(tfidf_sum_5gram,survey_summary2)[\"rouge5\"].recall #TF-IDF\n",
        "score_5gram_tfidf"
      ]
    },
    {
      "cell_type": "code",
      "execution_count": 84,
      "id": "subsequent-bradford",
      "metadata": {
        "id": "subsequent-bradford"
      },
      "outputs": [],
      "source": [
        ""
      ]
    },
    {
      "cell_type": "markdown",
      "id": "contrary-texas",
      "metadata": {
        "id": "contrary-texas"
      },
      "source": [
        "<h2> Comparision of N-GRAM and Feature Extraction Scheme Using ROUGE-N Recall Scores </h2>  "
      ]
    },
    {
      "cell_type": "code",
      "execution_count": 85,
      "id": "fifty-network",
      "metadata": {
        "id": "fifty-network"
      },
      "outputs": [],
      "source": [
        "comparision_df = pd.DataFrame()"
      ]
    },
    {
      "cell_type": "code",
      "execution_count": 86,
      "id": "intended-rogers",
      "metadata": {
        "id": "intended-rogers"
      },
      "outputs": [],
      "source": [
        "comparision_df[\"N-Gram Range\"] = [\"1-Gram\", \"2-Gram\", \"3-Gram\", \"4-Gram\", \"5-Gram\"]"
      ]
    },
    {
      "cell_type": "code",
      "execution_count": 87,
      "id": "intense-straight",
      "metadata": {
        "id": "intense-straight"
      },
      "outputs": [],
      "source": [
        "comparision_df[\"BOW\"] = [score_1gram_bow,score_2gram_bow,score_3gram_bow,score_4gram_bow,score_5gram_bow]"
      ]
    },
    {
      "cell_type": "code",
      "execution_count": 88,
      "id": "aware-sigma",
      "metadata": {
        "id": "aware-sigma"
      },
      "outputs": [],
      "source": [
        "comparision_df[\"TF-IDF\"] = [score_1gram_tfidf,score_2gram_tfidf,score_3gram_tfidf,score_4gram_tfidf,score_5gram_tfidf]"
      ]
    },
    {
      "cell_type": "code",
      "execution_count": 89,
      "id": "aerial-indianapolis",
      "metadata": {
        "colab": {
          "base_uri": "https://localhost:8080/",
          "height": 206
        },
        "id": "aerial-indianapolis",
        "outputId": "6da27bf3-abd6-4d6a-e353-aec64aab11e9"
      },
      "outputs": [
        {
          "output_type": "execute_result",
          "data": {
            "text/html": [
              "\n",
              "  <div id=\"df-db5030a1-38db-4668-aa18-16e0bbd748c1\">\n",
              "    <div class=\"colab-df-container\">\n",
              "      <div>\n",
              "<style scoped>\n",
              "    .dataframe tbody tr th:only-of-type {\n",
              "        vertical-align: middle;\n",
              "    }\n",
              "\n",
              "    .dataframe tbody tr th {\n",
              "        vertical-align: top;\n",
              "    }\n",
              "\n",
              "    .dataframe thead th {\n",
              "        text-align: right;\n",
              "    }\n",
              "</style>\n",
              "<table border=\"1\" class=\"dataframe\">\n",
              "  <thead>\n",
              "    <tr style=\"text-align: right;\">\n",
              "      <th></th>\n",
              "      <th>N-Gram Range</th>\n",
              "      <th>BOW</th>\n",
              "      <th>TF-IDF</th>\n",
              "    </tr>\n",
              "  </thead>\n",
              "  <tbody>\n",
              "    <tr>\n",
              "      <th>0</th>\n",
              "      <td>1-Gram</td>\n",
              "      <td>0.211849</td>\n",
              "      <td>0.450495</td>\n",
              "    </tr>\n",
              "    <tr>\n",
              "      <th>1</th>\n",
              "      <td>2-Gram</td>\n",
              "      <td>0.061562</td>\n",
              "      <td>0.215190</td>\n",
              "    </tr>\n",
              "    <tr>\n",
              "      <th>2</th>\n",
              "      <td>3-Gram</td>\n",
              "      <td>0.042710</td>\n",
              "      <td>0.111801</td>\n",
              "    </tr>\n",
              "    <tr>\n",
              "      <th>3</th>\n",
              "      <td>4-Gram</td>\n",
              "      <td>0.029326</td>\n",
              "      <td>0.163265</td>\n",
              "    </tr>\n",
              "    <tr>\n",
              "      <th>4</th>\n",
              "      <td>5-Gram</td>\n",
              "      <td>0.026354</td>\n",
              "      <td>0.065000</td>\n",
              "    </tr>\n",
              "  </tbody>\n",
              "</table>\n",
              "</div>\n",
              "      <button class=\"colab-df-convert\" onclick=\"convertToInteractive('df-db5030a1-38db-4668-aa18-16e0bbd748c1')\"\n",
              "              title=\"Convert this dataframe to an interactive table.\"\n",
              "              style=\"display:none;\">\n",
              "        \n",
              "  <svg xmlns=\"http://www.w3.org/2000/svg\" height=\"24px\"viewBox=\"0 0 24 24\"\n",
              "       width=\"24px\">\n",
              "    <path d=\"M0 0h24v24H0V0z\" fill=\"none\"/>\n",
              "    <path d=\"M18.56 5.44l.94 2.06.94-2.06 2.06-.94-2.06-.94-.94-2.06-.94 2.06-2.06.94zm-11 1L8.5 8.5l.94-2.06 2.06-.94-2.06-.94L8.5 2.5l-.94 2.06-2.06.94zm10 10l.94 2.06.94-2.06 2.06-.94-2.06-.94-.94-2.06-.94 2.06-2.06.94z\"/><path d=\"M17.41 7.96l-1.37-1.37c-.4-.4-.92-.59-1.43-.59-.52 0-1.04.2-1.43.59L10.3 9.45l-7.72 7.72c-.78.78-.78 2.05 0 2.83L4 21.41c.39.39.9.59 1.41.59.51 0 1.02-.2 1.41-.59l7.78-7.78 2.81-2.81c.8-.78.8-2.07 0-2.86zM5.41 20L4 18.59l7.72-7.72 1.47 1.35L5.41 20z\"/>\n",
              "  </svg>\n",
              "      </button>\n",
              "      \n",
              "  <style>\n",
              "    .colab-df-container {\n",
              "      display:flex;\n",
              "      flex-wrap:wrap;\n",
              "      gap: 12px;\n",
              "    }\n",
              "\n",
              "    .colab-df-convert {\n",
              "      background-color: #E8F0FE;\n",
              "      border: none;\n",
              "      border-radius: 50%;\n",
              "      cursor: pointer;\n",
              "      display: none;\n",
              "      fill: #1967D2;\n",
              "      height: 32px;\n",
              "      padding: 0 0 0 0;\n",
              "      width: 32px;\n",
              "    }\n",
              "\n",
              "    .colab-df-convert:hover {\n",
              "      background-color: #E2EBFA;\n",
              "      box-shadow: 0px 1px 2px rgba(60, 64, 67, 0.3), 0px 1px 3px 1px rgba(60, 64, 67, 0.15);\n",
              "      fill: #174EA6;\n",
              "    }\n",
              "\n",
              "    [theme=dark] .colab-df-convert {\n",
              "      background-color: #3B4455;\n",
              "      fill: #D2E3FC;\n",
              "    }\n",
              "\n",
              "    [theme=dark] .colab-df-convert:hover {\n",
              "      background-color: #434B5C;\n",
              "      box-shadow: 0px 1px 3px 1px rgba(0, 0, 0, 0.15);\n",
              "      filter: drop-shadow(0px 1px 2px rgba(0, 0, 0, 0.3));\n",
              "      fill: #FFFFFF;\n",
              "    }\n",
              "  </style>\n",
              "\n",
              "      <script>\n",
              "        const buttonEl =\n",
              "          document.querySelector('#df-db5030a1-38db-4668-aa18-16e0bbd748c1 button.colab-df-convert');\n",
              "        buttonEl.style.display =\n",
              "          google.colab.kernel.accessAllowed ? 'block' : 'none';\n",
              "\n",
              "        async function convertToInteractive(key) {\n",
              "          const element = document.querySelector('#df-db5030a1-38db-4668-aa18-16e0bbd748c1');\n",
              "          const dataTable =\n",
              "            await google.colab.kernel.invokeFunction('convertToInteractive',\n",
              "                                                     [key], {});\n",
              "          if (!dataTable) return;\n",
              "\n",
              "          const docLinkHtml = 'Like what you see? Visit the ' +\n",
              "            '<a target=\"_blank\" href=https://colab.research.google.com/notebooks/data_table.ipynb>data table notebook</a>'\n",
              "            + ' to learn more about interactive tables.';\n",
              "          element.innerHTML = '';\n",
              "          dataTable['output_type'] = 'display_data';\n",
              "          await google.colab.output.renderOutput(dataTable, element);\n",
              "          const docLink = document.createElement('div');\n",
              "          docLink.innerHTML = docLinkHtml;\n",
              "          element.appendChild(docLink);\n",
              "        }\n",
              "      </script>\n",
              "    </div>\n",
              "  </div>\n",
              "  "
            ],
            "text/plain": [
              "  N-Gram Range       BOW    TF-IDF\n",
              "0       1-Gram  0.211849  0.450495\n",
              "1       2-Gram  0.061562  0.215190\n",
              "2       3-Gram  0.042710  0.111801\n",
              "3       4-Gram  0.029326  0.163265\n",
              "4       5-Gram  0.026354  0.065000"
            ]
          },
          "metadata": {},
          "execution_count": 89
        }
      ],
      "source": [
        "comparision_df"
      ]
    },
    {
      "cell_type": "code",
      "execution_count": 90,
      "id": "apart-richards",
      "metadata": {
        "colab": {
          "base_uri": "https://localhost:8080/",
          "height": 621
        },
        "id": "apart-richards",
        "outputId": "1cf18d1f-b530-43ec-cb27-b65aa2d9e4b8"
      },
      "outputs": [
        {
          "output_type": "display_data",
          "data": {
            "image/png": "[encoded data removed]",
            "text/plain": [
              "<Figure size 720x720 with 1 Axes>"
            ]
          },
          "metadata": {
            "needs_background": "light"
          }
        }
      ],
      "source": [
        "fig, ax = plt.subplots(1,1,figsize=(10,10))\n",
        "\n",
        "n_gram_range = [i for i in range(1,6)]\n",
        "\n",
        "ax.plot(n_gram_range,comparision_df[\"BOW\"],\"b-\")\n",
        "ax.plot(n_gram_range,comparision_df[\"TF-IDF\"],\"r-\")\n",
        "\n",
        "ax.title.set_text(\"Comparision of varying N-gram using ROUGE-N recall scores(LSA)\")\n",
        "ax.set_xlabel(\"N-GRAM range\")\n",
        "ax.set_ylabel(\"ROUGE-N recall score\")\n",
        "\n",
        "plt.legend([\"BOW\", \"TF-IDF\"])\n",
        "\n",
        "plt.show()"
      ]
    },
    {
      "cell_type": "code",
      "execution_count": 90,
      "id": "sitting-velvet",
      "metadata": {
        "id": "sitting-velvet"
      },
      "outputs": [],
      "source": [
        ""
      ]
    },
    {
      "cell_type": "markdown",
      "id": "statutory-packet",
      "metadata": {
        "tags": [],
        "id": "statutory-packet"
      },
      "source": [
        "## Generate Features using Word-Embeddings (Next On Line)"
      ]
    },
    {
      "cell_type": "code",
      "execution_count": 238,
      "id": "different-calendar",
      "metadata": {
        "colab": {
          "base_uri": "https://localhost:8080/"
        },
        "id": "different-calendar",
        "outputId": "6cb0f3da-52b9-4803-bb3c-da046ca749c9"
      },
      "outputs": [
        {
          "output_type": "execute_result",
          "data": {
            "text/plain": [
              "['coordinate mw parser output geo default mw parser output geo dm mw parser output geo dec display inline mw parser output geo nondefault mw parser output geo multi punct display none mw parser output longitude mw parser output latitude white space nowrap 40 n 100 w 40 n 100 w 40 100the united state america u usa commonly known united state u u america country primarily located north america',\n",
              " 'consists 50 state federal district five major unincorporated territory 326 indian reservation minor possession',\n",
              " '3 8 million square mile 9 8 million square kilometer world third fourth largest country total area']"
            ]
          },
          "metadata": {},
          "execution_count": 238
        }
      ],
      "source": [
        "pp_article_st[0:3]"
      ]
    },
    {
      "cell_type": "code",
      "execution_count": 239,
      "id": "broke-david",
      "metadata": {
        "id": "broke-david"
      },
      "outputs": [],
      "source": [
        "pp_article_st_wt = [word_tokenize(sent) for sent in pp_article_st]"
      ]
    },
    {
      "cell_type": "code",
      "execution_count": 239,
      "id": "breathing-michael",
      "metadata": {
        "id": "breathing-michael"
      },
      "outputs": [],
      "source": [
        ""
      ]
    },
    {
      "cell_type": "code",
      "execution_count": 319,
      "id": "located-evidence",
      "metadata": {
        "id": "located-evidence"
      },
      "outputs": [],
      "source": [
        "#initialize word to vec\n",
        "w2v_model = Word2Vec(min_count = 5, \n",
        "                     window = 5,\n",
        "                     vector_size=10,\n",
        "                     sample=6e-5,\n",
        "                     alpha=0.001,\n",
        "                     min_alpha = 0.0007,\n",
        "                     negative=10,\n",
        "                     workers=num_cores-2)"
      ]
    },
    {
      "cell_type": "code",
      "source": [
        ""
      ],
      "metadata": {
        "id": "IBe6ccMTcWhH"
      },
      "id": "IBe6ccMTcWhH",
      "execution_count": null,
      "outputs": []
    },
    {
      "cell_type": "code",
      "execution_count": 292,
      "id": "067c130d",
      "metadata": {
        "id": "067c130d"
      },
      "outputs": [],
      "source": [
        ""
      ]
    },
    {
      "cell_type": "code",
      "execution_count": 293,
      "id": "caroline-mustang",
      "metadata": {
        "id": "caroline-mustang"
      },
      "outputs": [],
      "source": [
        "w2v_model.build_vocab(pp_article_st_wt,progress_per=10000)"
      ]
    },
    {
      "cell_type": "code",
      "source": [
        "w2v_model.build_vocab(pp_article_st_wt,progress_per=10000)\n",
        "w2v_model.train(pp_article_st_wt, total_examples=w2v_model.corpus_count, epochs=50, report_delay=1)\n"
      ],
      "metadata": {
        "id": "5YlltAo0cW8S"
      },
      "id": "5YlltAo0cW8S",
      "execution_count": null,
      "outputs": []
    },
    {
      "cell_type": "code",
      "execution_count": 294,
      "id": "weekly-coach",
      "metadata": {
        "colab": {
          "base_uri": "https://localhost:8080/"
        },
        "id": "weekly-coach",
        "outputId": "9c789d0f-f6cb-4d78-a735-814f5d988fee"
      },
      "outputs": [
        {
          "output_type": "execute_result",
          "data": {
            "text/plain": [
              "(0, 0)"
            ]
          },
          "metadata": {},
          "execution_count": 294
        }
      ],
      "source": [
        "w2v_model.train(pp_article_st_wt, total_examples=w2v_model.corpus_count, epochs=50, report_delay=1)"
      ]
    },
    {
      "cell_type": "code",
      "execution_count": 295,
      "id": "generic-baseball",
      "metadata": {
        "colab": {
          "base_uri": "https://localhost:8080/"
        },
        "id": "generic-baseball",
        "outputId": "d0946542-1df0-460f-83e1-af5276a870b7"
      },
      "outputs": [
        {
          "output_type": "execute_result",
          "data": {
            "text/plain": [
              "array([-0.0537632 , -0.02151775,  0.06342687,  0.01568608,  0.08314689,\n",
              "       -0.08316209, -0.04575875, -0.00804083,  0.08800177,  0.0110635 ],\n",
              "      dtype=float32)"
            ]
          },
          "metadata": {},
          "execution_count": 295
        }
      ],
      "source": [
        "#see embeddings for gas\n",
        "w2v_model.wv[\"gas\"]"
      ]
    },
    {
      "cell_type": "code",
      "execution_count": 296,
      "id": "rising-standard",
      "metadata": {
        "colab": {
          "base_uri": "https://localhost:8080/"
        },
        "id": "rising-standard",
        "outputId": "048cf3ae-980d-4e33-fbcc-c9da34396f3e"
      },
      "outputs": [
        {
          "output_type": "stream",
          "name": "stdout",
          "text": [
            "(395, 10)\n"
          ]
        }
      ],
      "source": [
        "print(w2v_model.wv.vectors.shape)"
      ]
    },
    {
      "cell_type": "code",
      "source": [
        "EMBEDDING_SIZE = w2v_model.wv.vectors.shape"
      ],
      "metadata": {
        "id": "4pXAZ_t_ERfO"
      },
      "id": "4pXAZ_t_ERfO",
      "execution_count": 297,
      "outputs": []
    },
    {
      "cell_type": "code",
      "execution_count": 298,
      "id": "operating-contest",
      "metadata": {
        "colab": {
          "base_uri": "https://localhost:8080/"
        },
        "id": "operating-contest",
        "outputId": "3ac41b2c-b915-4baa-8dd8-1bcae169d35b"
      },
      "outputs": [
        {
          "output_type": "execute_result",
          "data": {
            "text/plain": [
              "array([-0.00536227,  0.0023643 ,  0.0510335 ,  0.09009273, -0.0930295 ,\n",
              "       -0.07116809,  0.06458871,  0.08972988, -0.05015428, -0.03763373],\n",
              "      dtype=float32)"
            ]
          },
          "metadata": {},
          "execution_count": 298
        }
      ],
      "source": [
        "\n",
        "w2v_model.wv[\"state\"]"
      ]
    },
    {
      "cell_type": "code",
      "execution_count": 299,
      "id": "isolated-logan",
      "metadata": {
        "id": "isolated-logan"
      },
      "outputs": [],
      "source": [
        "#w2v_model.wv.key_to_index"
      ]
    },
    {
      "cell_type": "code",
      "execution_count": 300,
      "id": "needed-sight",
      "metadata": {
        "colab": {
          "base_uri": "https://localhost:8080/"
        },
        "id": "needed-sight",
        "outputId": "880723f3-0272-4883-c1fd-fbbbd33fd7c2"
      },
      "outputs": [
        {
          "output_type": "execute_result",
          "data": {
            "text/plain": [
              "dict"
            ]
          },
          "metadata": {},
          "execution_count": 300
        }
      ],
      "source": [
        "type(w2v_model.wv.key_to_index)"
      ]
    },
    {
      "cell_type": "code",
      "execution_count": 301,
      "id": "every-discharge",
      "metadata": {
        "id": "every-discharge"
      },
      "outputs": [],
      "source": [
        "#if \"state\" in w2v_model.wv.key_to_index:\n",
        "#    print(\"Yes\")"
      ]
    },
    {
      "cell_type": "code",
      "execution_count": 302,
      "id": "regional-serve",
      "metadata": {
        "colab": {
          "base_uri": "https://localhost:8080/"
        },
        "id": "regional-serve",
        "outputId": "6cc5a92a-64ca-4d6a-d56a-ea6207c28aa9"
      },
      "outputs": [
        {
          "output_type": "execute_result",
          "data": {
            "text/plain": [
              "array([-0.0537632 , -0.02151775,  0.06342687,  0.01568608,  0.08314689,\n",
              "       -0.08316209, -0.04575875, -0.00804083,  0.08800177,  0.0110635 ],\n",
              "      dtype=float32)"
            ]
          },
          "metadata": {},
          "execution_count": 302
        }
      ],
      "source": [
        "w2v_model.wv[\"gas\"]"
      ]
    },
    {
      "cell_type": "code",
      "source": [
        "np.average(w2v_model.wv[\"gas\"])"
      ],
      "metadata": {
        "colab": {
          "base_uri": "https://localhost:8080/"
        },
        "id": "bbd7WwcXW-q5",
        "outputId": "7e87b13d-2468-4cc6-9912-61a73cb43e7f"
      },
      "id": "bbd7WwcXW-q5",
      "execution_count": 303,
      "outputs": [
        {
          "output_type": "execute_result",
          "data": {
            "text/plain": [
              "0.00490825"
            ]
          },
          "metadata": {},
          "execution_count": 303
        }
      ]
    },
    {
      "cell_type": "code",
      "execution_count": 321,
      "id": "polish-contractor",
      "metadata": {
        "id": "polish-contractor"
      },
      "outputs": [],
      "source": [
        "\n",
        "w2v_model.build_vocab(pp_article_st_wt,progress_per=10000)\n",
        "w2v_model.train(pp_article_st_wt, total_examples=w2v_model.corpus_count, epochs=50, report_delay=1)\n",
        "words = list(w2v_model.wv.index_to_key)\n",
        "word_emb_list = sorted(words)\n",
        "document_term_emb = np.zeros(shape=(len(pp_article_st), len(word_emb_list)))\n",
        "dte_df = pd.DataFrame(document_term_emb)\n",
        "dte_df.columns = word_emb_list\n",
        "for i in range(len(pp_article_st)):\n",
        "  freq_map = Counter(pp_article_st[i])\n",
        "  for word in word_emb_list:\n",
        "    if freq_map[word] > 0:\n",
        "      dte_df[word].iloc[i] = np.average(w2v_model.wv[word])\n",
        "      freq_map[word] -= 1\n",
        "\n"
      ]
    },
    {
      "cell_type": "code",
      "source": [
        ""
      ],
      "metadata": {
        "colab": {
          "base_uri": "https://localhost:8080/",
          "height": 189
        },
        "id": "un4GKlRfc-vG",
        "outputId": "af00c3cf-77b3-4c03-bf13-3a3746609997"
      },
      "id": "un4GKlRfc-vG",
      "execution_count": 322,
      "outputs": [
        {
          "output_type": "execute_result",
          "data": {
            "text/html": [
              "\n",
              "  <div id=\"df-c51044a9-a22d-4d2f-abdf-516374d7da49\">\n",
              "    <div class=\"colab-df-container\">\n",
              "      <div>\n",
              "<style scoped>\n",
              "    .dataframe tbody tr th:only-of-type {\n",
              "        vertical-align: middle;\n",
              "    }\n",
              "\n",
              "    .dataframe tbody tr th {\n",
              "        vertical-align: top;\n",
              "    }\n",
              "\n",
              "    .dataframe thead th {\n",
              "        text-align: right;\n",
              "    }\n",
              "</style>\n",
              "<table border=\"1\" class=\"dataframe\">\n",
              "  <thead>\n",
              "    <tr style=\"text-align: right;\">\n",
              "      <th></th>\n",
              "    </tr>\n",
              "  </thead>\n",
              "  <tbody>\n",
              "    <tr>\n",
              "      <th>0</th>\n",
              "    </tr>\n",
              "    <tr>\n",
              "      <th>1</th>\n",
              "    </tr>\n",
              "    <tr>\n",
              "      <th>2</th>\n",
              "    </tr>\n",
              "    <tr>\n",
              "      <th>3</th>\n",
              "    </tr>\n",
              "    <tr>\n",
              "      <th>4</th>\n",
              "    </tr>\n",
              "  </tbody>\n",
              "</table>\n",
              "</div>\n",
              "      <button class=\"colab-df-convert\" onclick=\"convertToInteractive('df-c51044a9-a22d-4d2f-abdf-516374d7da49')\"\n",
              "              title=\"Convert this dataframe to an interactive table.\"\n",
              "              style=\"display:none;\">\n",
              "        \n",
              "  <svg xmlns=\"http://www.w3.org/2000/svg\" height=\"24px\"viewBox=\"0 0 24 24\"\n",
              "       width=\"24px\">\n",
              "    <path d=\"M0 0h24v24H0V0z\" fill=\"none\"/>\n",
              "    <path d=\"M18.56 5.44l.94 2.06.94-2.06 2.06-.94-2.06-.94-.94-2.06-.94 2.06-2.06.94zm-11 1L8.5 8.5l.94-2.06 2.06-.94-2.06-.94L8.5 2.5l-.94 2.06-2.06.94zm10 10l.94 2.06.94-2.06 2.06-.94-2.06-.94-.94-2.06-.94 2.06-2.06.94z\"/><path d=\"M17.41 7.96l-1.37-1.37c-.4-.4-.92-.59-1.43-.59-.52 0-1.04.2-1.43.59L10.3 9.45l-7.72 7.72c-.78.78-.78 2.05 0 2.83L4 21.41c.39.39.9.59 1.41.59.51 0 1.02-.2 1.41-.59l7.78-7.78 2.81-2.81c.8-.78.8-2.07 0-2.86zM5.41 20L4 18.59l7.72-7.72 1.47 1.35L5.41 20z\"/>\n",
              "  </svg>\n",
              "      </button>\n",
              "      \n",
              "  <style>\n",
              "    .colab-df-container {\n",
              "      display:flex;\n",
              "      flex-wrap:wrap;\n",
              "      gap: 12px;\n",
              "    }\n",
              "\n",
              "    .colab-df-convert {\n",
              "      background-color: #E8F0FE;\n",
              "      border: none;\n",
              "      border-radius: 50%;\n",
              "      cursor: pointer;\n",
              "      display: none;\n",
              "      fill: #1967D2;\n",
              "      height: 32px;\n",
              "      padding: 0 0 0 0;\n",
              "      width: 32px;\n",
              "    }\n",
              "\n",
              "    .colab-df-convert:hover {\n",
              "      background-color: #E2EBFA;\n",
              "      box-shadow: 0px 1px 2px rgba(60, 64, 67, 0.3), 0px 1px 3px 1px rgba(60, 64, 67, 0.15);\n",
              "      fill: #174EA6;\n",
              "    }\n",
              "\n",
              "    [theme=dark] .colab-df-convert {\n",
              "      background-color: #3B4455;\n",
              "      fill: #D2E3FC;\n",
              "    }\n",
              "\n",
              "    [theme=dark] .colab-df-convert:hover {\n",
              "      background-color: #434B5C;\n",
              "      box-shadow: 0px 1px 3px 1px rgba(0, 0, 0, 0.15);\n",
              "      filter: drop-shadow(0px 1px 2px rgba(0, 0, 0, 0.3));\n",
              "      fill: #FFFFFF;\n",
              "    }\n",
              "  </style>\n",
              "\n",
              "      <script>\n",
              "        const buttonEl =\n",
              "          document.querySelector('#df-c51044a9-a22d-4d2f-abdf-516374d7da49 button.colab-df-convert');\n",
              "        buttonEl.style.display =\n",
              "          google.colab.kernel.accessAllowed ? 'block' : 'none';\n",
              "\n",
              "        async function convertToInteractive(key) {\n",
              "          const element = document.querySelector('#df-c51044a9-a22d-4d2f-abdf-516374d7da49');\n",
              "          const dataTable =\n",
              "            await google.colab.kernel.invokeFunction('convertToInteractive',\n",
              "                                                     [key], {});\n",
              "          if (!dataTable) return;\n",
              "\n",
              "          const docLinkHtml = 'Like what you see? Visit the ' +\n",
              "            '<a target=\"_blank\" href=https://colab.research.google.com/notebooks/data_table.ipynb>data table notebook</a>'\n",
              "            + ' to learn more about interactive tables.';\n",
              "          element.innerHTML = '';\n",
              "          dataTable['output_type'] = 'display_data';\n",
              "          await google.colab.output.renderOutput(dataTable, element);\n",
              "          const docLink = document.createElement('div');\n",
              "          docLink.innerHTML = docLinkHtml;\n",
              "          element.appendChild(docLink);\n",
              "        }\n",
              "      </script>\n",
              "    </div>\n",
              "  </div>\n",
              "  "
            ],
            "text/plain": [
              "Empty DataFrame\n",
              "Columns: []\n",
              "Index: [0, 1, 2, 3, 4]"
            ]
          },
          "metadata": {},
          "execution_count": 322
        }
      ]
    },
    {
      "cell_type": "code",
      "execution_count": 305,
      "id": "df7d0b72-f525-42ca-a377-fe26ea9a8413",
      "metadata": {
        "id": "df7d0b72-f525-42ca-a377-fe26ea9a8413"
      },
      "outputs": [],
      "source": [
        "words = list(w2v_model.wv.index_to_key)"
      ]
    },
    {
      "cell_type": "code",
      "execution_count": 306,
      "id": "75b2444e",
      "metadata": {
        "colab": {
          "base_uri": "https://localhost:8080/"
        },
        "id": "75b2444e",
        "outputId": "7ddb14ed-b3af-4ffc-c613-f64549f2c22b"
      },
      "outputs": [
        {
          "output_type": "execute_result",
          "data": {
            "text/plain": [
              "395"
            ]
          },
          "metadata": {},
          "execution_count": 306
        }
      ],
      "source": [
        "len(words)"
      ]
    },
    {
      "cell_type": "code",
      "execution_count": 320,
      "id": "f14621a9",
      "metadata": {
        "id": "f14621a9"
      },
      "outputs": [],
      "source": [
        "word_emb_list = sorted(words)"
      ]
    },
    {
      "cell_type": "code",
      "execution_count": 308,
      "id": "61bb6ab0",
      "metadata": {
        "colab": {
          "base_uri": "https://localhost:8080/"
        },
        "id": "61bb6ab0",
        "outputId": "78edc38b-def2-4afb-d4fc-57686b3fb32b"
      },
      "outputs": [
        {
          "output_type": "execute_result",
          "data": {
            "text/plain": [
              "['8', '9', 'according', 'across', 'act']"
            ]
          },
          "metadata": {},
          "execution_count": 308
        }
      ],
      "source": [
        "word_emb_list[35: 40]"
      ]
    },
    {
      "cell_type": "markdown",
      "id": "e0317348",
      "metadata": {
        "id": "e0317348"
      },
      "source": [
        "## Create Scikit leanr pipe line --> from sklearn.pipeline import Pipeline:-->preprocessing-->BOW/TFIDF/WordEmbeddings/----> LSA/LDA"
      ]
    },
    {
      "cell_type": "code",
      "execution_count": 309,
      "id": "a08256b2",
      "metadata": {
        "id": "a08256b2"
      },
      "outputs": [],
      "source": [
        "#inputgiven documents---->\n",
        "\n",
        "input_document = [\"I am enjoying this movie\",\n",
        "\"We cannot go from here to there at any time\"]\n",
        "\n",
        "#given embeddings of words:\n",
        "#hashed acess already exists\n",
        "\n",
        "#create feature vector\n"
      ]
    },
    {
      "cell_type": "code",
      "execution_count": 310,
      "id": "8012bc05",
      "metadata": {
        "id": "8012bc05"
      },
      "outputs": [],
      "source": [
        "#we_df = pd.DataFrame(np.zeros(shape=(len(pp_article_st), len(word_emb_list))))\n",
        "#we_df.columns = word_emb_list"
      ]
    },
    {
      "cell_type": "code",
      "execution_count": 311,
      "id": "d26c876f",
      "metadata": {
        "colab": {
          "base_uri": "https://localhost:8080/",
          "height": 36
        },
        "id": "d26c876f",
        "outputId": "275ead46-4017-4e5d-cfd7-7ed9243e6686"
      },
      "outputs": [
        {
          "output_type": "execute_result",
          "data": {
            "application/vnd.google.colaboratory.intrinsic+json": {
              "type": "string"
            },
            "text/plain": [
              "'\\ndef generate_embedding_vector(single_sentence):\\n    word_tokens = word_tokenize(single_sentence)\\n'"
            ]
          },
          "metadata": {},
          "execution_count": 311
        }
      ],
      "source": [
        "\"\"\"\n",
        "def generate_embedding_vector(single_sentence):\n",
        "    word_tokens = word_tokenize(single_sentence)\n",
        "\"\"\""
      ]
    },
    {
      "cell_type": "code",
      "execution_count": 312,
      "id": "6d0d69d6-115b-4a88-90f6-3be3aa365e4b",
      "metadata": {
        "id": "6d0d69d6-115b-4a88-90f6-3be3aa365e4b"
      },
      "outputs": [],
      "source": [
        "#array of size word 2 vec\n",
        "#features word_emb_list\n",
        "document_term_emb = np.zeros(shape=(len(pp_article_st), len(word_emb_list)))\n",
        "dte_df = pd.DataFrame(document_term_emb)\n",
        "dte_df.columns = word_emb_list\n",
        "for i in range(len(pp_article_st)):\n",
        "  freq_map = Counter(pp_article_st[i])\n",
        "  for word in word_emb_list:\n",
        "    if freq_map[word] > 0:\n",
        "      dte_df[word].iloc[i] = np.average(w2v_model.wv[word])\n",
        "      freq_map[word] -= 1\n"
      ]
    },
    {
      "cell_type": "code",
      "execution_count": 313,
      "id": "da0b906a-0634-4b56-b64d-1e7b8194d944",
      "metadata": {
        "colab": {
          "base_uri": "https://localhost:8080/",
          "height": 456
        },
        "id": "da0b906a-0634-4b56-b64d-1e7b8194d944",
        "outputId": "f2ff91cc-4976-498b-d5c3-f9937e88adca"
      },
      "outputs": [
        {
          "output_type": "execute_result",
          "data": {
            "text/html": [
              "\n",
              "  <div id=\"df-a8543a76-b0b7-4e10-837d-ce643f70bf16\">\n",
              "    <div class=\"colab-df-container\">\n",
              "      <div>\n",
              "<style scoped>\n",
              "    .dataframe tbody tr th:only-of-type {\n",
              "        vertical-align: middle;\n",
              "    }\n",
              "\n",
              "    .dataframe tbody tr th {\n",
              "        vertical-align: top;\n",
              "    }\n",
              "\n",
              "    .dataframe thead th {\n",
              "        text-align: right;\n",
              "    }\n",
              "</style>\n",
              "<table border=\"1\" class=\"dataframe\">\n",
              "  <thead>\n",
              "    <tr style=\"text-align: right;\">\n",
              "      <th></th>\n",
              "      <th>0</th>\n",
              "      <th>000</th>\n",
              "      <th>1</th>\n",
              "      <th>10</th>\n",
              "      <th>100</th>\n",
              "      <th>12</th>\n",
              "      <th>14</th>\n",
              "      <th>15</th>\n",
              "      <th>16</th>\n",
              "      <th>17</th>\n",
              "      <th>1776</th>\n",
              "      <th>18</th>\n",
              "      <th>18th</th>\n",
              "      <th>19th</th>\n",
              "      <th>2</th>\n",
              "      <th>20</th>\n",
              "      <th>2010</th>\n",
              "      <th>2011</th>\n",
              "      <th>2016</th>\n",
              "      <th>2017</th>\n",
              "      <th>2018</th>\n",
              "      <th>2019</th>\n",
              "      <th>2020</th>\n",
              "      <th>2021</th>\n",
              "      <th>20th</th>\n",
              "      <th>23</th>\n",
              "      <th>24</th>\n",
              "      <th>28</th>\n",
              "      <th>3</th>\n",
              "      <th>4</th>\n",
              "      <th>40</th>\n",
              "      <th>5</th>\n",
              "      <th>50</th>\n",
              "      <th>6</th>\n",
              "      <th>7</th>\n",
              "      <th>8</th>\n",
              "      <th>9</th>\n",
              "      <th>according</th>\n",
              "      <th>across</th>\n",
              "      <th>act</th>\n",
              "      <th>...</th>\n",
              "      <th>television</th>\n",
              "      <th>term</th>\n",
              "      <th>territory</th>\n",
              "      <th>third</th>\n",
              "      <th>thirteen</th>\n",
              "      <th>though</th>\n",
              "      <th>three</th>\n",
              "      <th>throughout</th>\n",
              "      <th>time</th>\n",
              "      <th>took</th>\n",
              "      <th>top</th>\n",
              "      <th>total</th>\n",
              "      <th>trade</th>\n",
              "      <th>tradition</th>\n",
              "      <th>trillion</th>\n",
              "      <th>two</th>\n",
              "      <th>u</th>\n",
              "      <th>union</th>\n",
              "      <th>united</th>\n",
              "      <th>university</th>\n",
              "      <th>used</th>\n",
              "      <th>value</th>\n",
              "      <th>vote</th>\n",
              "      <th>w</th>\n",
              "      <th>war</th>\n",
              "      <th>washington</th>\n",
              "      <th>wave</th>\n",
              "      <th>wealth</th>\n",
              "      <th>weapon</th>\n",
              "      <th>well</th>\n",
              "      <th>west</th>\n",
              "      <th>western</th>\n",
              "      <th>white</th>\n",
              "      <th>woman</th>\n",
              "      <th>work</th>\n",
              "      <th>worker</th>\n",
              "      <th>world</th>\n",
              "      <th>would</th>\n",
              "      <th>year</th>\n",
              "      <th>york</th>\n",
              "    </tr>\n",
              "  </thead>\n",
              "  <tbody>\n",
              "    <tr>\n",
              "      <th>0</th>\n",
              "      <td>0.0</td>\n",
              "      <td>0.0</td>\n",
              "      <td>0.0</td>\n",
              "      <td>0.0</td>\n",
              "      <td>0.0</td>\n",
              "      <td>0.0</td>\n",
              "      <td>0.0</td>\n",
              "      <td>0.0</td>\n",
              "      <td>0.0</td>\n",
              "      <td>0.0</td>\n",
              "      <td>0.0</td>\n",
              "      <td>0.0</td>\n",
              "      <td>0.0</td>\n",
              "      <td>0.0</td>\n",
              "      <td>0.0</td>\n",
              "      <td>0.0</td>\n",
              "      <td>0.0</td>\n",
              "      <td>0.0</td>\n",
              "      <td>0.0</td>\n",
              "      <td>0.0</td>\n",
              "      <td>0.0</td>\n",
              "      <td>0.0</td>\n",
              "      <td>0.0</td>\n",
              "      <td>0.0</td>\n",
              "      <td>0.0</td>\n",
              "      <td>0.0</td>\n",
              "      <td>0.0</td>\n",
              "      <td>0.0</td>\n",
              "      <td>0.0</td>\n",
              "      <td>0.0</td>\n",
              "      <td>0.0</td>\n",
              "      <td>0.0</td>\n",
              "      <td>0.0</td>\n",
              "      <td>0.0</td>\n",
              "      <td>0.0</td>\n",
              "      <td>0.0</td>\n",
              "      <td>0.0</td>\n",
              "      <td>0.0</td>\n",
              "      <td>0.0</td>\n",
              "      <td>0.0</td>\n",
              "      <td>...</td>\n",
              "      <td>0.0</td>\n",
              "      <td>0.0</td>\n",
              "      <td>0.0</td>\n",
              "      <td>0.0</td>\n",
              "      <td>0.0</td>\n",
              "      <td>0.0</td>\n",
              "      <td>0.0</td>\n",
              "      <td>0.0</td>\n",
              "      <td>0.0</td>\n",
              "      <td>0.0</td>\n",
              "      <td>0.0</td>\n",
              "      <td>0.0</td>\n",
              "      <td>0.0</td>\n",
              "      <td>0.0</td>\n",
              "      <td>0.0</td>\n",
              "      <td>0.0</td>\n",
              "      <td>0.0</td>\n",
              "      <td>0.0</td>\n",
              "      <td>0.0</td>\n",
              "      <td>0.0</td>\n",
              "      <td>0.0</td>\n",
              "      <td>0.0</td>\n",
              "      <td>0.0</td>\n",
              "      <td>0.0</td>\n",
              "      <td>0.0</td>\n",
              "      <td>0.0</td>\n",
              "      <td>0.0</td>\n",
              "      <td>0.0</td>\n",
              "      <td>0.0</td>\n",
              "      <td>0.0</td>\n",
              "      <td>0.0</td>\n",
              "      <td>0.0</td>\n",
              "      <td>0.0</td>\n",
              "      <td>0.0</td>\n",
              "      <td>0.0</td>\n",
              "      <td>0.0</td>\n",
              "      <td>0.0</td>\n",
              "      <td>0.0</td>\n",
              "      <td>0.0</td>\n",
              "      <td>0.0</td>\n",
              "    </tr>\n",
              "    <tr>\n",
              "      <th>1</th>\n",
              "      <td>0.0</td>\n",
              "      <td>0.0</td>\n",
              "      <td>0.0</td>\n",
              "      <td>0.0</td>\n",
              "      <td>0.0</td>\n",
              "      <td>0.0</td>\n",
              "      <td>0.0</td>\n",
              "      <td>0.0</td>\n",
              "      <td>0.0</td>\n",
              "      <td>0.0</td>\n",
              "      <td>0.0</td>\n",
              "      <td>0.0</td>\n",
              "      <td>0.0</td>\n",
              "      <td>0.0</td>\n",
              "      <td>0.0</td>\n",
              "      <td>0.0</td>\n",
              "      <td>0.0</td>\n",
              "      <td>0.0</td>\n",
              "      <td>0.0</td>\n",
              "      <td>0.0</td>\n",
              "      <td>0.0</td>\n",
              "      <td>0.0</td>\n",
              "      <td>0.0</td>\n",
              "      <td>0.0</td>\n",
              "      <td>0.0</td>\n",
              "      <td>0.0</td>\n",
              "      <td>0.0</td>\n",
              "      <td>0.0</td>\n",
              "      <td>0.0</td>\n",
              "      <td>0.0</td>\n",
              "      <td>0.0</td>\n",
              "      <td>0.0</td>\n",
              "      <td>0.0</td>\n",
              "      <td>0.0</td>\n",
              "      <td>0.0</td>\n",
              "      <td>0.0</td>\n",
              "      <td>0.0</td>\n",
              "      <td>0.0</td>\n",
              "      <td>0.0</td>\n",
              "      <td>0.0</td>\n",
              "      <td>...</td>\n",
              "      <td>0.0</td>\n",
              "      <td>0.0</td>\n",
              "      <td>0.0</td>\n",
              "      <td>0.0</td>\n",
              "      <td>0.0</td>\n",
              "      <td>0.0</td>\n",
              "      <td>0.0</td>\n",
              "      <td>0.0</td>\n",
              "      <td>0.0</td>\n",
              "      <td>0.0</td>\n",
              "      <td>0.0</td>\n",
              "      <td>0.0</td>\n",
              "      <td>0.0</td>\n",
              "      <td>0.0</td>\n",
              "      <td>0.0</td>\n",
              "      <td>0.0</td>\n",
              "      <td>0.0</td>\n",
              "      <td>0.0</td>\n",
              "      <td>0.0</td>\n",
              "      <td>0.0</td>\n",
              "      <td>0.0</td>\n",
              "      <td>0.0</td>\n",
              "      <td>0.0</td>\n",
              "      <td>0.0</td>\n",
              "      <td>0.0</td>\n",
              "      <td>0.0</td>\n",
              "      <td>0.0</td>\n",
              "      <td>0.0</td>\n",
              "      <td>0.0</td>\n",
              "      <td>0.0</td>\n",
              "      <td>0.0</td>\n",
              "      <td>0.0</td>\n",
              "      <td>0.0</td>\n",
              "      <td>0.0</td>\n",
              "      <td>0.0</td>\n",
              "      <td>0.0</td>\n",
              "      <td>0.0</td>\n",
              "      <td>0.0</td>\n",
              "      <td>0.0</td>\n",
              "      <td>0.0</td>\n",
              "    </tr>\n",
              "    <tr>\n",
              "      <th>2</th>\n",
              "      <td>0.0</td>\n",
              "      <td>0.0</td>\n",
              "      <td>0.0</td>\n",
              "      <td>0.0</td>\n",
              "      <td>0.0</td>\n",
              "      <td>0.0</td>\n",
              "      <td>0.0</td>\n",
              "      <td>0.0</td>\n",
              "      <td>0.0</td>\n",
              "      <td>0.0</td>\n",
              "      <td>0.0</td>\n",
              "      <td>0.0</td>\n",
              "      <td>0.0</td>\n",
              "      <td>0.0</td>\n",
              "      <td>0.0</td>\n",
              "      <td>0.0</td>\n",
              "      <td>0.0</td>\n",
              "      <td>0.0</td>\n",
              "      <td>0.0</td>\n",
              "      <td>0.0</td>\n",
              "      <td>0.0</td>\n",
              "      <td>0.0</td>\n",
              "      <td>0.0</td>\n",
              "      <td>0.0</td>\n",
              "      <td>0.0</td>\n",
              "      <td>0.0</td>\n",
              "      <td>0.0</td>\n",
              "      <td>0.0</td>\n",
              "      <td>0.0</td>\n",
              "      <td>0.0</td>\n",
              "      <td>0.0</td>\n",
              "      <td>0.0</td>\n",
              "      <td>0.0</td>\n",
              "      <td>0.0</td>\n",
              "      <td>0.0</td>\n",
              "      <td>0.0</td>\n",
              "      <td>0.0</td>\n",
              "      <td>0.0</td>\n",
              "      <td>0.0</td>\n",
              "      <td>0.0</td>\n",
              "      <td>...</td>\n",
              "      <td>0.0</td>\n",
              "      <td>0.0</td>\n",
              "      <td>0.0</td>\n",
              "      <td>0.0</td>\n",
              "      <td>0.0</td>\n",
              "      <td>0.0</td>\n",
              "      <td>0.0</td>\n",
              "      <td>0.0</td>\n",
              "      <td>0.0</td>\n",
              "      <td>0.0</td>\n",
              "      <td>0.0</td>\n",
              "      <td>0.0</td>\n",
              "      <td>0.0</td>\n",
              "      <td>0.0</td>\n",
              "      <td>0.0</td>\n",
              "      <td>0.0</td>\n",
              "      <td>0.0</td>\n",
              "      <td>0.0</td>\n",
              "      <td>0.0</td>\n",
              "      <td>0.0</td>\n",
              "      <td>0.0</td>\n",
              "      <td>0.0</td>\n",
              "      <td>0.0</td>\n",
              "      <td>0.0</td>\n",
              "      <td>0.0</td>\n",
              "      <td>0.0</td>\n",
              "      <td>0.0</td>\n",
              "      <td>0.0</td>\n",
              "      <td>0.0</td>\n",
              "      <td>0.0</td>\n",
              "      <td>0.0</td>\n",
              "      <td>0.0</td>\n",
              "      <td>0.0</td>\n",
              "      <td>0.0</td>\n",
              "      <td>0.0</td>\n",
              "      <td>0.0</td>\n",
              "      <td>0.0</td>\n",
              "      <td>0.0</td>\n",
              "      <td>0.0</td>\n",
              "      <td>0.0</td>\n",
              "    </tr>\n",
              "    <tr>\n",
              "      <th>3</th>\n",
              "      <td>0.0</td>\n",
              "      <td>0.0</td>\n",
              "      <td>0.0</td>\n",
              "      <td>0.0</td>\n",
              "      <td>0.0</td>\n",
              "      <td>0.0</td>\n",
              "      <td>0.0</td>\n",
              "      <td>0.0</td>\n",
              "      <td>0.0</td>\n",
              "      <td>0.0</td>\n",
              "      <td>0.0</td>\n",
              "      <td>0.0</td>\n",
              "      <td>0.0</td>\n",
              "      <td>0.0</td>\n",
              "      <td>0.0</td>\n",
              "      <td>0.0</td>\n",
              "      <td>0.0</td>\n",
              "      <td>0.0</td>\n",
              "      <td>0.0</td>\n",
              "      <td>0.0</td>\n",
              "      <td>0.0</td>\n",
              "      <td>0.0</td>\n",
              "      <td>0.0</td>\n",
              "      <td>0.0</td>\n",
              "      <td>0.0</td>\n",
              "      <td>0.0</td>\n",
              "      <td>0.0</td>\n",
              "      <td>0.0</td>\n",
              "      <td>0.0</td>\n",
              "      <td>0.0</td>\n",
              "      <td>0.0</td>\n",
              "      <td>0.0</td>\n",
              "      <td>0.0</td>\n",
              "      <td>0.0</td>\n",
              "      <td>0.0</td>\n",
              "      <td>0.0</td>\n",
              "      <td>0.0</td>\n",
              "      <td>0.0</td>\n",
              "      <td>0.0</td>\n",
              "      <td>0.0</td>\n",
              "      <td>...</td>\n",
              "      <td>0.0</td>\n",
              "      <td>0.0</td>\n",
              "      <td>0.0</td>\n",
              "      <td>0.0</td>\n",
              "      <td>0.0</td>\n",
              "      <td>0.0</td>\n",
              "      <td>0.0</td>\n",
              "      <td>0.0</td>\n",
              "      <td>0.0</td>\n",
              "      <td>0.0</td>\n",
              "      <td>0.0</td>\n",
              "      <td>0.0</td>\n",
              "      <td>0.0</td>\n",
              "      <td>0.0</td>\n",
              "      <td>0.0</td>\n",
              "      <td>0.0</td>\n",
              "      <td>0.0</td>\n",
              "      <td>0.0</td>\n",
              "      <td>0.0</td>\n",
              "      <td>0.0</td>\n",
              "      <td>0.0</td>\n",
              "      <td>0.0</td>\n",
              "      <td>0.0</td>\n",
              "      <td>0.0</td>\n",
              "      <td>0.0</td>\n",
              "      <td>0.0</td>\n",
              "      <td>0.0</td>\n",
              "      <td>0.0</td>\n",
              "      <td>0.0</td>\n",
              "      <td>0.0</td>\n",
              "      <td>0.0</td>\n",
              "      <td>0.0</td>\n",
              "      <td>0.0</td>\n",
              "      <td>0.0</td>\n",
              "      <td>0.0</td>\n",
              "      <td>0.0</td>\n",
              "      <td>0.0</td>\n",
              "      <td>0.0</td>\n",
              "      <td>0.0</td>\n",
              "      <td>0.0</td>\n",
              "    </tr>\n",
              "    <tr>\n",
              "      <th>4</th>\n",
              "      <td>0.0</td>\n",
              "      <td>0.0</td>\n",
              "      <td>0.0</td>\n",
              "      <td>0.0</td>\n",
              "      <td>0.0</td>\n",
              "      <td>0.0</td>\n",
              "      <td>0.0</td>\n",
              "      <td>0.0</td>\n",
              "      <td>0.0</td>\n",
              "      <td>0.0</td>\n",
              "      <td>0.0</td>\n",
              "      <td>0.0</td>\n",
              "      <td>0.0</td>\n",
              "      <td>0.0</td>\n",
              "      <td>0.0</td>\n",
              "      <td>0.0</td>\n",
              "      <td>0.0</td>\n",
              "      <td>0.0</td>\n",
              "      <td>0.0</td>\n",
              "      <td>0.0</td>\n",
              "      <td>0.0</td>\n",
              "      <td>0.0</td>\n",
              "      <td>0.0</td>\n",
              "      <td>0.0</td>\n",
              "      <td>0.0</td>\n",
              "      <td>0.0</td>\n",
              "      <td>0.0</td>\n",
              "      <td>0.0</td>\n",
              "      <td>0.0</td>\n",
              "      <td>0.0</td>\n",
              "      <td>0.0</td>\n",
              "      <td>0.0</td>\n",
              "      <td>0.0</td>\n",
              "      <td>0.0</td>\n",
              "      <td>0.0</td>\n",
              "      <td>0.0</td>\n",
              "      <td>0.0</td>\n",
              "      <td>0.0</td>\n",
              "      <td>0.0</td>\n",
              "      <td>0.0</td>\n",
              "      <td>...</td>\n",
              "      <td>0.0</td>\n",
              "      <td>0.0</td>\n",
              "      <td>0.0</td>\n",
              "      <td>0.0</td>\n",
              "      <td>0.0</td>\n",
              "      <td>0.0</td>\n",
              "      <td>0.0</td>\n",
              "      <td>0.0</td>\n",
              "      <td>0.0</td>\n",
              "      <td>0.0</td>\n",
              "      <td>0.0</td>\n",
              "      <td>0.0</td>\n",
              "      <td>0.0</td>\n",
              "      <td>0.0</td>\n",
              "      <td>0.0</td>\n",
              "      <td>0.0</td>\n",
              "      <td>0.0</td>\n",
              "      <td>0.0</td>\n",
              "      <td>0.0</td>\n",
              "      <td>0.0</td>\n",
              "      <td>0.0</td>\n",
              "      <td>0.0</td>\n",
              "      <td>0.0</td>\n",
              "      <td>0.0</td>\n",
              "      <td>0.0</td>\n",
              "      <td>0.0</td>\n",
              "      <td>0.0</td>\n",
              "      <td>0.0</td>\n",
              "      <td>0.0</td>\n",
              "      <td>0.0</td>\n",
              "      <td>0.0</td>\n",
              "      <td>0.0</td>\n",
              "      <td>0.0</td>\n",
              "      <td>0.0</td>\n",
              "      <td>0.0</td>\n",
              "      <td>0.0</td>\n",
              "      <td>0.0</td>\n",
              "      <td>0.0</td>\n",
              "      <td>0.0</td>\n",
              "      <td>0.0</td>\n",
              "    </tr>\n",
              "    <tr>\n",
              "      <th>5</th>\n",
              "      <td>0.0</td>\n",
              "      <td>0.0</td>\n",
              "      <td>0.0</td>\n",
              "      <td>0.0</td>\n",
              "      <td>0.0</td>\n",
              "      <td>0.0</td>\n",
              "      <td>0.0</td>\n",
              "      <td>0.0</td>\n",
              "      <td>0.0</td>\n",
              "      <td>0.0</td>\n",
              "      <td>0.0</td>\n",
              "      <td>0.0</td>\n",
              "      <td>0.0</td>\n",
              "      <td>0.0</td>\n",
              "      <td>0.0</td>\n",
              "      <td>0.0</td>\n",
              "      <td>0.0</td>\n",
              "      <td>0.0</td>\n",
              "      <td>0.0</td>\n",
              "      <td>0.0</td>\n",
              "      <td>0.0</td>\n",
              "      <td>0.0</td>\n",
              "      <td>0.0</td>\n",
              "      <td>0.0</td>\n",
              "      <td>0.0</td>\n",
              "      <td>0.0</td>\n",
              "      <td>0.0</td>\n",
              "      <td>0.0</td>\n",
              "      <td>0.0</td>\n",
              "      <td>0.0</td>\n",
              "      <td>0.0</td>\n",
              "      <td>0.0</td>\n",
              "      <td>0.0</td>\n",
              "      <td>0.0</td>\n",
              "      <td>0.0</td>\n",
              "      <td>0.0</td>\n",
              "      <td>0.0</td>\n",
              "      <td>0.0</td>\n",
              "      <td>0.0</td>\n",
              "      <td>0.0</td>\n",
              "      <td>...</td>\n",
              "      <td>0.0</td>\n",
              "      <td>0.0</td>\n",
              "      <td>0.0</td>\n",
              "      <td>0.0</td>\n",
              "      <td>0.0</td>\n",
              "      <td>0.0</td>\n",
              "      <td>0.0</td>\n",
              "      <td>0.0</td>\n",
              "      <td>0.0</td>\n",
              "      <td>0.0</td>\n",
              "      <td>0.0</td>\n",
              "      <td>0.0</td>\n",
              "      <td>0.0</td>\n",
              "      <td>0.0</td>\n",
              "      <td>0.0</td>\n",
              "      <td>0.0</td>\n",
              "      <td>0.0</td>\n",
              "      <td>0.0</td>\n",
              "      <td>0.0</td>\n",
              "      <td>0.0</td>\n",
              "      <td>0.0</td>\n",
              "      <td>0.0</td>\n",
              "      <td>0.0</td>\n",
              "      <td>0.0</td>\n",
              "      <td>0.0</td>\n",
              "      <td>0.0</td>\n",
              "      <td>0.0</td>\n",
              "      <td>0.0</td>\n",
              "      <td>0.0</td>\n",
              "      <td>0.0</td>\n",
              "      <td>0.0</td>\n",
              "      <td>0.0</td>\n",
              "      <td>0.0</td>\n",
              "      <td>0.0</td>\n",
              "      <td>0.0</td>\n",
              "      <td>0.0</td>\n",
              "      <td>0.0</td>\n",
              "      <td>0.0</td>\n",
              "      <td>0.0</td>\n",
              "      <td>0.0</td>\n",
              "    </tr>\n",
              "    <tr>\n",
              "      <th>6</th>\n",
              "      <td>0.0</td>\n",
              "      <td>0.0</td>\n",
              "      <td>0.0</td>\n",
              "      <td>0.0</td>\n",
              "      <td>0.0</td>\n",
              "      <td>0.0</td>\n",
              "      <td>0.0</td>\n",
              "      <td>0.0</td>\n",
              "      <td>0.0</td>\n",
              "      <td>0.0</td>\n",
              "      <td>0.0</td>\n",
              "      <td>0.0</td>\n",
              "      <td>0.0</td>\n",
              "      <td>0.0</td>\n",
              "      <td>0.0</td>\n",
              "      <td>0.0</td>\n",
              "      <td>0.0</td>\n",
              "      <td>0.0</td>\n",
              "      <td>0.0</td>\n",
              "      <td>0.0</td>\n",
              "      <td>0.0</td>\n",
              "      <td>0.0</td>\n",
              "      <td>0.0</td>\n",
              "      <td>0.0</td>\n",
              "      <td>0.0</td>\n",
              "      <td>0.0</td>\n",
              "      <td>0.0</td>\n",
              "      <td>0.0</td>\n",
              "      <td>0.0</td>\n",
              "      <td>0.0</td>\n",
              "      <td>0.0</td>\n",
              "      <td>0.0</td>\n",
              "      <td>0.0</td>\n",
              "      <td>0.0</td>\n",
              "      <td>0.0</td>\n",
              "      <td>0.0</td>\n",
              "      <td>0.0</td>\n",
              "      <td>0.0</td>\n",
              "      <td>0.0</td>\n",
              "      <td>0.0</td>\n",
              "      <td>...</td>\n",
              "      <td>0.0</td>\n",
              "      <td>0.0</td>\n",
              "      <td>0.0</td>\n",
              "      <td>0.0</td>\n",
              "      <td>0.0</td>\n",
              "      <td>0.0</td>\n",
              "      <td>0.0</td>\n",
              "      <td>0.0</td>\n",
              "      <td>0.0</td>\n",
              "      <td>0.0</td>\n",
              "      <td>0.0</td>\n",
              "      <td>0.0</td>\n",
              "      <td>0.0</td>\n",
              "      <td>0.0</td>\n",
              "      <td>0.0</td>\n",
              "      <td>0.0</td>\n",
              "      <td>0.0</td>\n",
              "      <td>0.0</td>\n",
              "      <td>0.0</td>\n",
              "      <td>0.0</td>\n",
              "      <td>0.0</td>\n",
              "      <td>0.0</td>\n",
              "      <td>0.0</td>\n",
              "      <td>0.0</td>\n",
              "      <td>0.0</td>\n",
              "      <td>0.0</td>\n",
              "      <td>0.0</td>\n",
              "      <td>0.0</td>\n",
              "      <td>0.0</td>\n",
              "      <td>0.0</td>\n",
              "      <td>0.0</td>\n",
              "      <td>0.0</td>\n",
              "      <td>0.0</td>\n",
              "      <td>0.0</td>\n",
              "      <td>0.0</td>\n",
              "      <td>0.0</td>\n",
              "      <td>0.0</td>\n",
              "      <td>0.0</td>\n",
              "      <td>0.0</td>\n",
              "      <td>0.0</td>\n",
              "    </tr>\n",
              "    <tr>\n",
              "      <th>7</th>\n",
              "      <td>0.0</td>\n",
              "      <td>0.0</td>\n",
              "      <td>0.0</td>\n",
              "      <td>0.0</td>\n",
              "      <td>0.0</td>\n",
              "      <td>0.0</td>\n",
              "      <td>0.0</td>\n",
              "      <td>0.0</td>\n",
              "      <td>0.0</td>\n",
              "      <td>0.0</td>\n",
              "      <td>0.0</td>\n",
              "      <td>0.0</td>\n",
              "      <td>0.0</td>\n",
              "      <td>0.0</td>\n",
              "      <td>0.0</td>\n",
              "      <td>0.0</td>\n",
              "      <td>0.0</td>\n",
              "      <td>0.0</td>\n",
              "      <td>0.0</td>\n",
              "      <td>0.0</td>\n",
              "      <td>0.0</td>\n",
              "      <td>0.0</td>\n",
              "      <td>0.0</td>\n",
              "      <td>0.0</td>\n",
              "      <td>0.0</td>\n",
              "      <td>0.0</td>\n",
              "      <td>0.0</td>\n",
              "      <td>0.0</td>\n",
              "      <td>0.0</td>\n",
              "      <td>0.0</td>\n",
              "      <td>0.0</td>\n",
              "      <td>0.0</td>\n",
              "      <td>0.0</td>\n",
              "      <td>0.0</td>\n",
              "      <td>0.0</td>\n",
              "      <td>0.0</td>\n",
              "      <td>0.0</td>\n",
              "      <td>0.0</td>\n",
              "      <td>0.0</td>\n",
              "      <td>0.0</td>\n",
              "      <td>...</td>\n",
              "      <td>0.0</td>\n",
              "      <td>0.0</td>\n",
              "      <td>0.0</td>\n",
              "      <td>0.0</td>\n",
              "      <td>0.0</td>\n",
              "      <td>0.0</td>\n",
              "      <td>0.0</td>\n",
              "      <td>0.0</td>\n",
              "      <td>0.0</td>\n",
              "      <td>0.0</td>\n",
              "      <td>0.0</td>\n",
              "      <td>0.0</td>\n",
              "      <td>0.0</td>\n",
              "      <td>0.0</td>\n",
              "      <td>0.0</td>\n",
              "      <td>0.0</td>\n",
              "      <td>0.0</td>\n",
              "      <td>0.0</td>\n",
              "      <td>0.0</td>\n",
              "      <td>0.0</td>\n",
              "      <td>0.0</td>\n",
              "      <td>0.0</td>\n",
              "      <td>0.0</td>\n",
              "      <td>0.0</td>\n",
              "      <td>0.0</td>\n",
              "      <td>0.0</td>\n",
              "      <td>0.0</td>\n",
              "      <td>0.0</td>\n",
              "      <td>0.0</td>\n",
              "      <td>0.0</td>\n",
              "      <td>0.0</td>\n",
              "      <td>0.0</td>\n",
              "      <td>0.0</td>\n",
              "      <td>0.0</td>\n",
              "      <td>0.0</td>\n",
              "      <td>0.0</td>\n",
              "      <td>0.0</td>\n",
              "      <td>0.0</td>\n",
              "      <td>0.0</td>\n",
              "      <td>0.0</td>\n",
              "    </tr>\n",
              "    <tr>\n",
              "      <th>8</th>\n",
              "      <td>0.0</td>\n",
              "      <td>0.0</td>\n",
              "      <td>0.0</td>\n",
              "      <td>0.0</td>\n",
              "      <td>0.0</td>\n",
              "      <td>0.0</td>\n",
              "      <td>0.0</td>\n",
              "      <td>0.0</td>\n",
              "      <td>0.0</td>\n",
              "      <td>0.0</td>\n",
              "      <td>0.0</td>\n",
              "      <td>0.0</td>\n",
              "      <td>0.0</td>\n",
              "      <td>0.0</td>\n",
              "      <td>0.0</td>\n",
              "      <td>0.0</td>\n",
              "      <td>0.0</td>\n",
              "      <td>0.0</td>\n",
              "      <td>0.0</td>\n",
              "      <td>0.0</td>\n",
              "      <td>0.0</td>\n",
              "      <td>0.0</td>\n",
              "      <td>0.0</td>\n",
              "      <td>0.0</td>\n",
              "      <td>0.0</td>\n",
              "      <td>0.0</td>\n",
              "      <td>0.0</td>\n",
              "      <td>0.0</td>\n",
              "      <td>0.0</td>\n",
              "      <td>0.0</td>\n",
              "      <td>0.0</td>\n",
              "      <td>0.0</td>\n",
              "      <td>0.0</td>\n",
              "      <td>0.0</td>\n",
              "      <td>0.0</td>\n",
              "      <td>0.0</td>\n",
              "      <td>0.0</td>\n",
              "      <td>0.0</td>\n",
              "      <td>0.0</td>\n",
              "      <td>0.0</td>\n",
              "      <td>...</td>\n",
              "      <td>0.0</td>\n",
              "      <td>0.0</td>\n",
              "      <td>0.0</td>\n",
              "      <td>0.0</td>\n",
              "      <td>0.0</td>\n",
              "      <td>0.0</td>\n",
              "      <td>0.0</td>\n",
              "      <td>0.0</td>\n",
              "      <td>0.0</td>\n",
              "      <td>0.0</td>\n",
              "      <td>0.0</td>\n",
              "      <td>0.0</td>\n",
              "      <td>0.0</td>\n",
              "      <td>0.0</td>\n",
              "      <td>0.0</td>\n",
              "      <td>0.0</td>\n",
              "      <td>0.0</td>\n",
              "      <td>0.0</td>\n",
              "      <td>0.0</td>\n",
              "      <td>0.0</td>\n",
              "      <td>0.0</td>\n",
              "      <td>0.0</td>\n",
              "      <td>0.0</td>\n",
              "      <td>0.0</td>\n",
              "      <td>0.0</td>\n",
              "      <td>0.0</td>\n",
              "      <td>0.0</td>\n",
              "      <td>0.0</td>\n",
              "      <td>0.0</td>\n",
              "      <td>0.0</td>\n",
              "      <td>0.0</td>\n",
              "      <td>0.0</td>\n",
              "      <td>0.0</td>\n",
              "      <td>0.0</td>\n",
              "      <td>0.0</td>\n",
              "      <td>0.0</td>\n",
              "      <td>0.0</td>\n",
              "      <td>0.0</td>\n",
              "      <td>0.0</td>\n",
              "      <td>0.0</td>\n",
              "    </tr>\n",
              "    <tr>\n",
              "      <th>9</th>\n",
              "      <td>0.0</td>\n",
              "      <td>0.0</td>\n",
              "      <td>0.0</td>\n",
              "      <td>0.0</td>\n",
              "      <td>0.0</td>\n",
              "      <td>0.0</td>\n",
              "      <td>0.0</td>\n",
              "      <td>0.0</td>\n",
              "      <td>0.0</td>\n",
              "      <td>0.0</td>\n",
              "      <td>0.0</td>\n",
              "      <td>0.0</td>\n",
              "      <td>0.0</td>\n",
              "      <td>0.0</td>\n",
              "      <td>0.0</td>\n",
              "      <td>0.0</td>\n",
              "      <td>0.0</td>\n",
              "      <td>0.0</td>\n",
              "      <td>0.0</td>\n",
              "      <td>0.0</td>\n",
              "      <td>0.0</td>\n",
              "      <td>0.0</td>\n",
              "      <td>0.0</td>\n",
              "      <td>0.0</td>\n",
              "      <td>0.0</td>\n",
              "      <td>0.0</td>\n",
              "      <td>0.0</td>\n",
              "      <td>0.0</td>\n",
              "      <td>0.0</td>\n",
              "      <td>0.0</td>\n",
              "      <td>0.0</td>\n",
              "      <td>0.0</td>\n",
              "      <td>0.0</td>\n",
              "      <td>0.0</td>\n",
              "      <td>0.0</td>\n",
              "      <td>0.0</td>\n",
              "      <td>0.0</td>\n",
              "      <td>0.0</td>\n",
              "      <td>0.0</td>\n",
              "      <td>0.0</td>\n",
              "      <td>...</td>\n",
              "      <td>0.0</td>\n",
              "      <td>0.0</td>\n",
              "      <td>0.0</td>\n",
              "      <td>0.0</td>\n",
              "      <td>0.0</td>\n",
              "      <td>0.0</td>\n",
              "      <td>0.0</td>\n",
              "      <td>0.0</td>\n",
              "      <td>0.0</td>\n",
              "      <td>0.0</td>\n",
              "      <td>0.0</td>\n",
              "      <td>0.0</td>\n",
              "      <td>0.0</td>\n",
              "      <td>0.0</td>\n",
              "      <td>0.0</td>\n",
              "      <td>0.0</td>\n",
              "      <td>0.0</td>\n",
              "      <td>0.0</td>\n",
              "      <td>0.0</td>\n",
              "      <td>0.0</td>\n",
              "      <td>0.0</td>\n",
              "      <td>0.0</td>\n",
              "      <td>0.0</td>\n",
              "      <td>0.0</td>\n",
              "      <td>0.0</td>\n",
              "      <td>0.0</td>\n",
              "      <td>0.0</td>\n",
              "      <td>0.0</td>\n",
              "      <td>0.0</td>\n",
              "      <td>0.0</td>\n",
              "      <td>0.0</td>\n",
              "      <td>0.0</td>\n",
              "      <td>0.0</td>\n",
              "      <td>0.0</td>\n",
              "      <td>0.0</td>\n",
              "      <td>0.0</td>\n",
              "      <td>0.0</td>\n",
              "      <td>0.0</td>\n",
              "      <td>0.0</td>\n",
              "      <td>0.0</td>\n",
              "    </tr>\n",
              "  </tbody>\n",
              "</table>\n",
              "<p>10 rows × 395 columns</p>\n",
              "</div>\n",
              "      <button class=\"colab-df-convert\" onclick=\"convertToInteractive('df-a8543a76-b0b7-4e10-837d-ce643f70bf16')\"\n",
              "              title=\"Convert this dataframe to an interactive table.\"\n",
              "              style=\"display:none;\">\n",
              "        \n",
              "  <svg xmlns=\"http://www.w3.org/2000/svg\" height=\"24px\"viewBox=\"0 0 24 24\"\n",
              "       width=\"24px\">\n",
              "    <path d=\"M0 0h24v24H0V0z\" fill=\"none\"/>\n",
              "    <path d=\"M18.56 5.44l.94 2.06.94-2.06 2.06-.94-2.06-.94-.94-2.06-.94 2.06-2.06.94zm-11 1L8.5 8.5l.94-2.06 2.06-.94-2.06-.94L8.5 2.5l-.94 2.06-2.06.94zm10 10l.94 2.06.94-2.06 2.06-.94-2.06-.94-.94-2.06-.94 2.06-2.06.94z\"/><path d=\"M17.41 7.96l-1.37-1.37c-.4-.4-.92-.59-1.43-.59-.52 0-1.04.2-1.43.59L10.3 9.45l-7.72 7.72c-.78.78-.78 2.05 0 2.83L4 21.41c.39.39.9.59 1.41.59.51 0 1.02-.2 1.41-.59l7.78-7.78 2.81-2.81c.8-.78.8-2.07 0-2.86zM5.41 20L4 18.59l7.72-7.72 1.47 1.35L5.41 20z\"/>\n",
              "  </svg>\n",
              "      </button>\n",
              "      \n",
              "  <style>\n",
              "    .colab-df-container {\n",
              "      display:flex;\n",
              "      flex-wrap:wrap;\n",
              "      gap: 12px;\n",
              "    }\n",
              "\n",
              "    .colab-df-convert {\n",
              "      background-color: #E8F0FE;\n",
              "      border: none;\n",
              "      border-radius: 50%;\n",
              "      cursor: pointer;\n",
              "      display: none;\n",
              "      fill: #1967D2;\n",
              "      height: 32px;\n",
              "      padding: 0 0 0 0;\n",
              "      width: 32px;\n",
              "    }\n",
              "\n",
              "    .colab-df-convert:hover {\n",
              "      background-color: #E2EBFA;\n",
              "      box-shadow: 0px 1px 2px rgba(60, 64, 67, 0.3), 0px 1px 3px 1px rgba(60, 64, 67, 0.15);\n",
              "      fill: #174EA6;\n",
              "    }\n",
              "\n",
              "    [theme=dark] .colab-df-convert {\n",
              "      background-color: #3B4455;\n",
              "      fill: #D2E3FC;\n",
              "    }\n",
              "\n",
              "    [theme=dark] .colab-df-convert:hover {\n",
              "      background-color: #434B5C;\n",
              "      box-shadow: 0px 1px 3px 1px rgba(0, 0, 0, 0.15);\n",
              "      filter: drop-shadow(0px 1px 2px rgba(0, 0, 0, 0.3));\n",
              "      fill: #FFFFFF;\n",
              "    }\n",
              "  </style>\n",
              "\n",
              "      <script>\n",
              "        const buttonEl =\n",
              "          document.querySelector('#df-a8543a76-b0b7-4e10-837d-ce643f70bf16 button.colab-df-convert');\n",
              "        buttonEl.style.display =\n",
              "          google.colab.kernel.accessAllowed ? 'block' : 'none';\n",
              "\n",
              "        async function convertToInteractive(key) {\n",
              "          const element = document.querySelector('#df-a8543a76-b0b7-4e10-837d-ce643f70bf16');\n",
              "          const dataTable =\n",
              "            await google.colab.kernel.invokeFunction('convertToInteractive',\n",
              "                                                     [key], {});\n",
              "          if (!dataTable) return;\n",
              "\n",
              "          const docLinkHtml = 'Like what you see? Visit the ' +\n",
              "            '<a target=\"_blank\" href=https://colab.research.google.com/notebooks/data_table.ipynb>data table notebook</a>'\n",
              "            + ' to learn more about interactive tables.';\n",
              "          element.innerHTML = '';\n",
              "          dataTable['output_type'] = 'display_data';\n",
              "          await google.colab.output.renderOutput(dataTable, element);\n",
              "          const docLink = document.createElement('div');\n",
              "          docLink.innerHTML = docLinkHtml;\n",
              "          element.appendChild(docLink);\n",
              "        }\n",
              "      </script>\n",
              "    </div>\n",
              "  </div>\n",
              "  "
            ],
            "text/plain": [
              "     0  000    1   10  100   12  ...  work  worker  world  would  year  york\n",
              "0  0.0  0.0  0.0  0.0  0.0  0.0  ...   0.0     0.0    0.0    0.0   0.0   0.0\n",
              "1  0.0  0.0  0.0  0.0  0.0  0.0  ...   0.0     0.0    0.0    0.0   0.0   0.0\n",
              "2  0.0  0.0  0.0  0.0  0.0  0.0  ...   0.0     0.0    0.0    0.0   0.0   0.0\n",
              "3  0.0  0.0  0.0  0.0  0.0  0.0  ...   0.0     0.0    0.0    0.0   0.0   0.0\n",
              "4  0.0  0.0  0.0  0.0  0.0  0.0  ...   0.0     0.0    0.0    0.0   0.0   0.0\n",
              "5  0.0  0.0  0.0  0.0  0.0  0.0  ...   0.0     0.0    0.0    0.0   0.0   0.0\n",
              "6  0.0  0.0  0.0  0.0  0.0  0.0  ...   0.0     0.0    0.0    0.0   0.0   0.0\n",
              "7  0.0  0.0  0.0  0.0  0.0  0.0  ...   0.0     0.0    0.0    0.0   0.0   0.0\n",
              "8  0.0  0.0  0.0  0.0  0.0  0.0  ...   0.0     0.0    0.0    0.0   0.0   0.0\n",
              "9  0.0  0.0  0.0  0.0  0.0  0.0  ...   0.0     0.0    0.0    0.0   0.0   0.0\n",
              "\n",
              "[10 rows x 395 columns]"
            ]
          },
          "metadata": {},
          "execution_count": 313
        }
      ],
      "source": [
        "dte_df.head(10)"
      ]
    },
    {
      "cell_type": "code",
      "execution_count": 314,
      "id": "27a43174",
      "metadata": {
        "colab": {
          "base_uri": "https://localhost:8080/"
        },
        "id": "27a43174",
        "outputId": "04d1062f-0468-4fc0-b43b-0bd74e41bf3f"
      },
      "outputs": [
        {
          "output_type": "execute_result",
          "data": {
            "text/plain": [
              "['coordinate mw parser output geo default mw parser output geo dm mw parser output geo dec display inline mw parser output geo nondefault mw parser output geo multi punct display none mw parser output longitude mw parser output latitude white space nowrap 40 n 100 w 40 n 100 w 40 100the united state america u usa commonly known united state u u america country primarily located north america',\n",
              " 'consists 50 state federal district five major unincorporated territory 326 indian reservation minor possession',\n",
              " '3 8 million square mile 9 8 million square kilometer world third fourth largest country total area',\n",
              " 'united state share significant land border canada north mexico south well limited maritime border bahamas cuba russia',\n",
              " 'population 331 million people third populous country world',\n",
              " 'national capital washington c populous city new york city',\n",
              " 'paleo indian migrated siberia north american mainland least 12 000 year ago european colonization began 16th century',\n",
              " 'united state emerged thirteen british colony established along east coast',\n",
              " 'dispute great britain taxation political representation led american revolutionary war 1775 1783 established nation independence',\n",
              " 'late 18th century u began expanding across north america gradually obtaining new territory sometimes war frequently displacing native american admitting new state 1848 united state spanned continent']"
            ]
          },
          "metadata": {},
          "execution_count": 314
        }
      ],
      "source": [
        "pp_article_st[0:10]"
      ]
    },
    {
      "cell_type": "code",
      "source": [
        ""
      ],
      "metadata": {
        "id": "YhEo_nseWnNu"
      },
      "id": "YhEo_nseWnNu",
      "execution_count": 314,
      "outputs": []
    },
    {
      "cell_type": "code",
      "source": [
        ""
      ],
      "metadata": {
        "id": "zJuXzwBYWsr7"
      },
      "id": "zJuXzwBYWsr7",
      "execution_count": 314,
      "outputs": []
    },
    {
      "cell_type": "code",
      "execution_count": 315,
      "id": "6265e9c6",
      "metadata": {
        "id": "6265e9c6"
      },
      "outputs": [],
      "source": [
        "for i in range(len(pp_article_st)):\n",
        "  freq_map = Counter(pp_article_st[i])\n",
        "  for word in word_emb_list:\n",
        "    if freq_map[word] > 0:\n",
        "      dte_df[word].iloc[i] += np.average(w2v_model.wv[word])\n",
        "      freq_map[word] -= 1"
      ]
    },
    {
      "cell_type": "code",
      "source": [
        ""
      ],
      "metadata": {
        "id": "62jGuwMAZJl_"
      },
      "id": "62jGuwMAZJl_",
      "execution_count": 315,
      "outputs": []
    },
    {
      "cell_type": "code",
      "source": [
        ""
      ],
      "metadata": {
        "id": "X6dtmHV0ZNyJ"
      },
      "id": "X6dtmHV0ZNyJ",
      "execution_count": 315,
      "outputs": []
    },
    {
      "cell_type": "code",
      "execution_count": 316,
      "id": "9063bd06",
      "metadata": {
        "colab": {
          "base_uri": "https://localhost:8080/",
          "height": 355
        },
        "id": "9063bd06",
        "outputId": "7d82aee7-b6e7-40bf-dba9-c870d7472924"
      },
      "outputs": [
        {
          "output_type": "stream",
          "name": "stdout",
          "text": [
            "Number of Lines in Summary: 10 \n",
            "\n"
          ]
        },
        {
          "output_type": "execute_result",
          "data": {
            "application/vnd.google.colaboratory.intrinsic+json": {
              "type": "string"
            },
            "text/plain": [
              "'[288] defense\\'s share of the overall u.s. economy has generally declined in recent decades, from early cold war peaks of 14.2% of gdp in 1953 and 69.5% of federal spending in 1954 to 4.7% of gdp and 18.8% of federal spending in 2011. [424]\\nthe centers for disease control and prevention (cdc) reported that the united states had an average life expectancy at birth of 77.3 years in 2020 (74.5 years for men and 80.2 years for women), down 1.5 years from 2019. according to provisional figures, this was the lowest average u.s. life expectancy recorded by the cdc since 2003, the first overall decline since 2018, and \"the largest one-year decline since world war ii.\" [195] the united states is home to 428 mammal species, 784 bird species, 311 reptile species, and 295 amphibian species,[196] as well as about 91,000 insect species. [175]\\nthe 48 contiguous states and the district of columbia occupy a combined area of 3,119,885 square miles (8,080,470\\xa0km2). of this area, 2,959,064 square miles (7,663,940\\xa0km2) is contiguous land, composing 83.65% of total u.s. land area. [317][318]\\nfrom 1983 to 2008, u.s. real compounded annual gdp growth was 3.3%, compared to a 2.3% weighted average for the rest of the g7. [378] in 2017, there were 255,009,283 non-two wheel motor vehicles, or about 910 vehicles per 1,000 people. after a surge in female labor participation, especially in the 1970s, by 1985, the majority of women aged 16 and over were employed. [346] for 2019, the united nations development programme ranked the united states 17th among 189 countries in its human development index (hdi) and 28th among 151 countries in its inequality-adjusted hdi (ihdi). [430][431]\\nincreasing obesity in the united states and improvements in health and longevity outside the u.s. contributed to lowering the country\\'s rank in life expectancy from 11th in the world in 1987 to 42nd in 2007. in 2017, the united states had the lowest life expectancy among japan, canada, australia, the united kingdom, and seven nations in western europe.'"
            ]
          },
          "metadata": {},
          "execution_count": 316
        }
      ],
      "source": [
        "X = dte_df.to_numpy()\n",
        "U, SIGMA, VT = randomized_svd(X,n_components=N_LINE,n_iter=100,random_state=100) #perform Latent Semantic Analysis (LSA)\n",
        "scores = np.sqrt(np.dot(U**2,SIGMA**2)) #generate scores for all sentences\n",
        "top_scores_index = np.argsort(scores) #get index of highest scores\n",
        "top_scores_index = top_scores_index[::-1] #sort the indexes in descending order\n",
        "top_scores_index = top_scores_index[0:N_LINE] #get top N Scores index\n",
        "article_array = np.array(article_st) #convert list to array for indexing purpose\n",
        "bow_sum = article_array[top_scores_index] #get top N scoring sentences\n",
        "bow_sum = list(bow_sum) #convert array back to list\n",
        "print(f\"Number of Lines in Summary: {len(bow_sum)} \\n\")\n",
        "bow_sum_unigram = (\" \").join(bow_sum) #convert list to single string\n",
        "bow_sum_unigram"
      ]
    },
    {
      "cell_type": "code",
      "execution_count": 317,
      "id": "00f7d18f",
      "metadata": {
        "colab": {
          "base_uri": "https://localhost:8080/"
        },
        "id": "00f7d18f",
        "outputId": "1c7d8ceb-1734-4af7-ede7-bd63f5a1c2fb"
      },
      "outputs": [
        {
          "output_type": "execute_result",
          "data": {
            "text/plain": [
              "0.23056300268096513"
            ]
          },
          "metadata": {},
          "execution_count": 317
        }
      ],
      "source": [
        "scorer = rouge_scorer.RougeScorer(['rouge1'], use_stemmer=False)\n",
        "score_1gram_tfidf = scorer.score(bow_sum_unigram,survey_summary2)[\"rouge1\"].recall #TF-IDF\n",
        "score_1gram_tfidf"
      ]
    },
    {
      "cell_type": "code",
      "source": [
        ""
      ],
      "metadata": {
        "id": "uy5mdpJSFtFl"
      },
      "id": "uy5mdpJSFtFl",
      "execution_count": 265,
      "outputs": []
    },
    {
      "cell_type": "code",
      "source": [
        "bigram_transformer = Phrases(pp_article_st_wt)\n",
        "#model = Word2Vec(bigram_transformer[pp_article_st], min_count=1)\n",
        "w2v_model = Word2Vec(bigram_transformer[pp_article_st_wt],\n",
        "                     min_count = 5, \n",
        "                     window = 5,\n",
        "                     vector_size=10,\n",
        "                     sample=6e-5,\n",
        "                     alpha=0.001,\n",
        "                     min_alpha = 0.0007,\n",
        "                     negative=10,\n",
        "                     workers=num_cores-2)"
      ],
      "metadata": {
        "id": "IWdiQvANIo-k"
      },
      "id": "IWdiQvANIo-k",
      "execution_count": 364,
      "outputs": []
    },
    {
      "cell_type": "code",
      "source": [
        "words = list(w2v_model.wv.index_to_key)\n",
        "word_emb_list = sorted(words)"
      ],
      "metadata": {
        "id": "WZ9fScDDeDBN"
      },
      "id": "WZ9fScDDeDBN",
      "execution_count": 365,
      "outputs": []
    },
    {
      "cell_type": "code",
      "source": [
        "document_term_emb = np.zeros(shape=(len(pp_article_st_wt), len(word_emb_list)))\n",
        "dte_df = pd.DataFrame(document_term_emb)\n",
        "dte_df.columns = word_emb_list\n",
        "for i in range(len(pp_article_st)):\n",
        "  freq_map = Counter(pp_article_st[i])\n",
        "  for word in word_emb_list:\n",
        "    if freq_map[word] > 0:\n",
        "      dte_df[word].iloc[i] += np.median(w2v_model.wv[word])\n",
        "      freq_map[word] -= 1"
      ],
      "metadata": {
        "id": "4vf-fTVGeGCl"
      },
      "id": "4vf-fTVGeGCl",
      "execution_count": 369,
      "outputs": []
    },
    {
      "cell_type": "code",
      "source": [
        "X = dte_df.to_numpy()\n",
        "U, SIGMA, VT = randomized_svd(X,n_components=N_LINE,n_iter=100,random_state=100) #perform Latent Semantic Analysis (LSA)\n",
        "scores = np.sqrt(np.dot(U**2,SIGMA**2)) #generate scores for all sentences\n",
        "top_scores_index = np.argsort(scores) #get index of highest scores\n",
        "top_scores_index = top_scores_index[::-1] #sort the indexes in descending order\n",
        "top_scores_index = top_scores_index[0:N_LINE] #get top N Scores index\n",
        "article_array = np.array(article_st) #convert list to array for indexing purpose\n",
        "bow_sum = article_array[top_scores_index] #get top N scoring sentences\n",
        "bow_sum = list(bow_sum) #convert array back to list\n",
        "print(f\"Number of Lines in Summary: {len(bow_sum)} \\n\")\n",
        "bow_sum_unigram = (\" \").join(bow_sum) #convert list to single string\n",
        "bow_sum_unigram"
      ],
      "metadata": {
        "colab": {
          "base_uri": "https://localhost:8080/",
          "height": 205
        },
        "id": "TVlS56qZe97w",
        "outputId": "f72675cd-5256-4b4c-ef05-12693fd18809"
      },
      "id": "TVlS56qZe97w",
      "execution_count": 370,
      "outputs": [
        {
          "output_type": "stream",
          "name": "stdout",
          "text": [
            "Number of Lines in Summary: 10 \n",
            "\n"
          ]
        },
        {
          "output_type": "execute_result",
          "data": {
            "application/vnd.google.colaboratory.intrinsic+json": {
              "type": "string"
            },
            "text/plain": [
              "'[288] defense\\'s share of the overall u.s. economy has generally declined in recent decades, from early cold war peaks of 14.2% of gdp in 1953 and 69.5% of federal spending in 1954 to 4.7% of gdp and 18.8% of federal spending in 2011. [195] the united states is home to 428 mammal species, 784 bird species, 311 reptile species, and 295 amphibian species,[196] as well as about 91,000 insect species. [424]\\nthe centers for disease control and prevention (cdc) reported that the united states had an average life expectancy at birth of 77.3 years in 2020 (74.5 years for men and 80.2 years for women), down 1.5 years from 2019. according to provisional figures, this was the lowest average u.s. life expectancy recorded by the cdc since 2003, the first overall decline since 2018, and \"the largest one-year decline since world war ii.\" [175]\\nthe 48 contiguous states and the district of columbia occupy a combined area of 3,119,885 square miles (8,080,470\\xa0km2). [360][361][362][363][364][365][366] in 2011, 16.7 million children lived in food-insecure households, about 35% more than 2007 levels, though only 845,000 u.s. children (1.1%) saw reduced food intake or disrupted eating patterns at some point during the year, and most cases were not chronic. [430][431]\\nincreasing obesity in the united states and improvements in health and longevity outside the u.s. contributed to lowering the country\\'s rank in life expectancy from 11th in the world in 1987 to 42nd in 2007. in 2017, the united states had the lowest life expectancy among japan, canada, australia, the united kingdom, and seven nations in western europe. [415] in a 2014 survey, 70.6% of adults in the united states identified themselves as christians;[416] protestants accounted for 46.5%, while catholics, at 20.8%, formed the largest single christian denomination. notable films topping the american film institute\\'s afi 100 list include orson welles\\'s citizen kane (1941), which is frequently cited as the greatest film of all time,[520][521] casablanca (1942), the godfather (1972), gone with the wind (1939), lawrence of arabia (1962), the wizard of oz (1939), the graduate (1967), on the waterfront (1954), schindler\\'s list (1993), singin\\' in the rain (1952), it\\'s a wonderful life (1946) and sunset boulevard (1950). [367] as of june\\xa02018[update], 40 million people, roughly 12.7% of the u.s. population, were living in poverty, including 13.3 million children. [448] the u.s. spends more on education per student than any nation in the world,[449] spending an average of $12,794 per year on public elementary and secondary school students in the 2016–2017 school year.'"
            ]
          },
          "metadata": {},
          "execution_count": 370
        }
      ]
    },
    {
      "cell_type": "code",
      "source": [
        "scorer = rouge_scorer.RougeScorer(['rouge2'], use_stemmer=False)\n",
        "score_1gram_tfidf = scorer.score(bow_sum_unigram,survey_summary2)[\"rouge2\"].fmeasure #TF-IDF\n",
        "score_1gram_tfidf"
      ],
      "metadata": {
        "colab": {
          "base_uri": "https://localhost:8080/"
        },
        "id": "bPPSRMITfB0c",
        "outputId": "3cfe7e24-cc5a-4412-fade-bb3fed495ac3"
      },
      "id": "bPPSRMITfB0c",
      "execution_count": 371,
      "outputs": [
        {
          "output_type": "execute_result",
          "data": {
            "text/plain": [
              "0.07183908045977012"
            ]
          },
          "metadata": {},
          "execution_count": 371
        }
      ]
    },
    {
      "cell_type": "code",
      "source": [
        ""
      ],
      "metadata": {
        "id": "49rofCwYeEXY"
      },
      "id": "49rofCwYeEXY",
      "execution_count": null,
      "outputs": []
    },
    {
      "cell_type": "code",
      "source": [
        ""
      ],
      "metadata": {
        "id": "tbrC3C6vIuBx"
      },
      "id": "tbrC3C6vIuBx",
      "execution_count": null,
      "outputs": []
    },
    {
      "cell_type": "markdown",
      "source": [
        "## Reevalaute if word embeddings were generated properly (see if they were cumulated rather than, updated....  medain might work better than average...... see if the embedings can be generated as probabilites ...exponent or softmax or something)"
      ],
      "metadata": {
        "id": "1SuIUMGAgWZf"
      },
      "id": "1SuIUMGAgWZf"
    },
    {
      "cell_type": "code",
      "source": [
        ""
      ],
      "metadata": {
        "id": "4SJLuIvZgayT"
      },
      "id": "4SJLuIvZgayT",
      "execution_count": null,
      "outputs": []
    }
  ],
  "metadata": {
    "kernelspec": {
      "display_name": "Python 3",
      "language": "python",
      "name": "python3"
    },
    "language_info": {
      "codemirror_mode": {
        "name": "ipython",
        "version": 3
      },
      "file_extension": ".py",
      "mimetype": "text/x-python",
      "name": "python",
      "nbconvert_exporter": "python",
      "pygments_lexer": "ipython3",
      "version": "3.8.8"
    },
    "colab": {
      "name": "ExTs.ipynb",
      "provenance": [],
      "toc_visible": true,
      "include_colab_link": true
    }
  },
  "nbformat": 4,
  "nbformat_minor": 5
}