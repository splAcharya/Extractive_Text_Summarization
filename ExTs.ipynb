{
  "cells": [
    {
      "cell_type": "markdown",
      "metadata": {
        "id": "view-in-github",
        "colab_type": "text"
      },
      "source": [
        "<a href=\"https://colab.research.google.com/github/splAcharya/Extractive_Text_Summarization/blob/main/ExTs.ipynb\" target=\"_parent\"><img src=\"https://colab.research.google.com/assets/colab-badge.svg\" alt=\"Open In Colab\"/></a>"
      ]
    },
    {
      "cell_type": "markdown",
      "id": "objective-being",
      "metadata": {
        "id": "objective-being"
      },
      "source": [
        "# Extractive Text Summarization Of Wikipedia Articles"
      ]
    },
    {
      "cell_type": "code",
      "source": [
        ""
      ],
      "metadata": {
        "id": "j0hIFyNN_2G0"
      },
      "id": "j0hIFyNN_2G0",
      "execution_count": null,
      "outputs": []
    },
    {
      "cell_type": "markdown",
      "source": [
        "## Install Packages (if needed)"
      ],
      "metadata": {
        "id": "valMZEg__23K"
      },
      "id": "valMZEg__23K"
    },
    {
      "cell_type": "code",
      "source": [
        "#gensim\n",
        "!pip install --upgrade gensim\n",
        "\n",
        "#rouge scorer\n",
        "!pip install rouge-score"
      ],
      "metadata": {
        "colab": {
          "base_uri": "https://localhost:8080/"
        },
        "id": "4bxbiiQG_6-y",
        "outputId": "0ef65dbf-a2f9-4436-c7fa-1836b26583fa"
      },
      "id": "4bxbiiQG_6-y",
      "execution_count": 1,
      "outputs": [
        {
          "output_type": "stream",
          "name": "stdout",
          "text": [
            "Requirement already satisfied: gensim in /usr/local/lib/python3.7/dist-packages (3.6.0)\n",
            "Collecting gensim\n",
            "  Downloading gensim-4.1.2-cp37-cp37m-manylinux_2_12_x86_64.manylinux2010_x86_64.whl (24.1 MB)\n",
            "\u001b[K     |████████████████████████████████| 24.1 MB 1.4 MB/s \n",
            "\u001b[?25hRequirement already satisfied: smart-open>=1.8.1 in /usr/local/lib/python3.7/dist-packages (from gensim) (5.2.1)\n",
            "Requirement already satisfied: scipy>=0.18.1 in /usr/local/lib/python3.7/dist-packages (from gensim) (1.4.1)\n",
            "Requirement already satisfied: numpy>=1.17.0 in /usr/local/lib/python3.7/dist-packages (from gensim) (1.19.5)\n",
            "Installing collected packages: gensim\n",
            "  Attempting uninstall: gensim\n",
            "    Found existing installation: gensim 3.6.0\n",
            "    Uninstalling gensim-3.6.0:\n",
            "      Successfully uninstalled gensim-3.6.0\n",
            "Successfully installed gensim-4.1.2\n",
            "Collecting rouge-score\n",
            "  Downloading rouge_score-0.0.4-py2.py3-none-any.whl (22 kB)\n",
            "Requirement already satisfied: six>=1.14.0 in /usr/local/lib/python3.7/dist-packages (from rouge-score) (1.15.0)\n",
            "Requirement already satisfied: absl-py in /usr/local/lib/python3.7/dist-packages (from rouge-score) (1.0.0)\n",
            "Requirement already satisfied: numpy in /usr/local/lib/python3.7/dist-packages (from rouge-score) (1.19.5)\n",
            "Requirement already satisfied: nltk in /usr/local/lib/python3.7/dist-packages (from rouge-score) (3.2.5)\n",
            "Installing collected packages: rouge-score\n",
            "Successfully installed rouge-score-0.0.4\n"
          ]
        }
      ]
    },
    {
      "cell_type": "markdown",
      "id": "promotional-protection",
      "metadata": {
        "id": "promotional-protection"
      },
      "source": [
        "## Import Required Libraries"
      ]
    },
    {
      "cell_type": "code",
      "execution_count": 2,
      "id": "urban-python",
      "metadata": {
        "colab": {
          "base_uri": "https://localhost:8080/"
        },
        "id": "urban-python",
        "outputId": "cb8d58d4-efc5-47da-f1aa-ac7894a09ac7"
      },
      "outputs": [
        {
          "output_type": "stream",
          "name": "stdout",
          "text": [
            "[nltk_data] Downloading package stopwords to /root/nltk_data...\n",
            "[nltk_data]   Unzipping corpora/stopwords.zip.\n",
            "[nltk_data] Downloading package punkt to /root/nltk_data...\n",
            "[nltk_data]   Unzipping tokenizers/punkt.zip.\n",
            "[nltk_data] Downloading package wordnet to /root/nltk_data...\n",
            "[nltk_data]   Unzipping corpora/wordnet.zip.\n",
            "Number of Cores: 2\n"
          ]
        }
      ],
      "source": [
        "import time\n",
        "import re\n",
        "import urllib.request\n",
        "from bs4 import BeautifulSoup as bs\n",
        "\n",
        "import string\n",
        "pm_set = set(list(string.punctuation))\n",
        "\n",
        "import nltk\n",
        "from nltk.corpus import stopwords\n",
        "nltk.download(\"stopwords\")\n",
        "nltk.download('punkt')\n",
        "nltk.download('wordnet')\n",
        "sw_set = set(stopwords.words(\"english\"))\n",
        "\n",
        "from nltk.tokenize import sent_tokenize, word_tokenize\n",
        "from nltk.stem.wordnet import WordNetLemmatizer\n",
        "from gensim.models import Word2Vec\n",
        "import gensim.downloader\n",
        "from gensim.models import Phrases\n",
        "\n",
        "\n",
        "import multiprocessing\n",
        "num_cores = multiprocessing.cpu_count()\n",
        "print(f\"Number of Cores: {num_cores}\")\n",
        "\n",
        "from wordcloud import WordCloud\n",
        "from PIL import Image\n",
        "from matplotlib import pyplot as plt\n",
        "import numpy as np\n",
        "\n",
        "from sklearn.utils.extmath import randomized_svd\n",
        "from sklearn.feature_extraction.text import CountVectorizer\n",
        "from sklearn.feature_extraction.text import TfidfVectorizer\n",
        "from sklearn.decomposition import LatentDirichletAllocation as LDA\n",
        "\n",
        "from copy import deepcopy\n",
        "from rouge_score import rouge_scorer\n",
        "import pandas as pd\n",
        "from collections import Counter"
      ]
    },
    {
      "cell_type": "code",
      "execution_count": 2,
      "id": "enabling-ceramic",
      "metadata": {
        "id": "enabling-ceramic"
      },
      "outputs": [],
      "source": [
        ""
      ]
    },
    {
      "cell_type": "code",
      "execution_count": 2,
      "id": "dff747d7-26af-4404-ad54-f79fe8b0920e",
      "metadata": {
        "id": "dff747d7-26af-4404-ad54-f79fe8b0920e"
      },
      "outputs": [],
      "source": [
        ""
      ]
    },
    {
      "cell_type": "markdown",
      "id": "floral-acoustic",
      "metadata": {
        "id": "floral-acoustic"
      },
      "source": [
        "## Function to Webscrape Wikipedia Article"
      ]
    },
    {
      "cell_type": "code",
      "execution_count": 3,
      "id": "linear-sending",
      "metadata": {
        "id": "linear-sending"
      },
      "outputs": [],
      "source": [
        "def fetch_wikipedia_article(url=\"https://en.wikipedia.org/wiki/USA\"):\n",
        "    scrapped_data = urllib.request.urlopen(url)\n",
        "    article = scrapped_data.read()\n",
        "    parsed_article = bs(article,\"lxml\")\n",
        "    paragraphs = parsed_article.find_all(\"p\")\n",
        "    article_text = \"\"\n",
        "    for p in paragraphs:\n",
        "        article_text += p.text\n",
        "    return article_text"
      ]
    },
    {
      "cell_type": "code",
      "execution_count": 3,
      "id": "introductory-forward",
      "metadata": {
        "id": "introductory-forward"
      },
      "outputs": [],
      "source": [
        ""
      ]
    },
    {
      "cell_type": "markdown",
      "id": "blank-visiting",
      "metadata": {
        "id": "blank-visiting"
      },
      "source": [
        "## Function to Pre-process Web Scraped Wikipedia Article"
      ]
    },
    {
      "cell_type": "code",
      "execution_count": 3,
      "id": "ebf6181f-0b0b-4f4c-9ff2-2dcc37706fe9",
      "metadata": {
        "id": "ebf6181f-0b0b-4f4c-9ff2-2dcc37706fe9"
      },
      "outputs": [],
      "source": [
        ""
      ]
    },
    {
      "cell_type": "code",
      "execution_count": 4,
      "id": "cellular-blend",
      "metadata": {
        "id": "cellular-blend"
      },
      "outputs": [],
      "source": [
        "def preprocess_article(article, min_length = 5):\n",
        "    article_lc = article.lower()#lower case entire article\n",
        "    article_st = sent_tokenize(article_lc)#convert to sentences\n",
        "    lmtzr = WordNetLemmatizer()#instantiate lemmatize\n",
        "    pp_article_st = []\n",
        "    final_article_st = []\n",
        "    for sentence in article_st:\n",
        "        original_sentence = deepcopy(sentence)\n",
        "        #print(sentence)\n",
        "        sentence = re.sub(r\"[\\(.*\\)]\",\" \", sentence)#remove data betweena nd include round backers()\n",
        "        #print(sentence)\n",
        "        sentence = re.sub(r\"\\n\",\"\",sentence) #remove \"\\n\" characters\n",
        "        #print(sentence)\n",
        "        sentence = re.sub(r\"\\[\\d+\\]\",\" \",sentence)#remove refrences [n]\n",
        "        #print(sentence)\n",
        "        sentence = re.sub(r\"\\[.+\\]\",\" \",sentence) #remove anything between [] including []\n",
        "        #print(sentence)\n",
        "        sentence = re.sub(r\"[^a-zA-z0-9]\", \" \", sentence) #remove any non english characters\n",
        "        #print(sentence)\n",
        "        sentence = re.sub(r\"\\s+\",\" \",sentence) #remove any whitespaces, tabs, newline charaacters\n",
        "        #print(sentence)\n",
        "        sentence = [lmtzr.lemmatize(word) for word in word_tokenize(sentence) if word not in sw_set ]\n",
        "        if len(sentence) >= min_length:\n",
        "            sentence = (\" \").join(sentence)\n",
        "            pp_article_st.append(sentence)\n",
        "            final_article_st.append(original_sentence)\n",
        "    return final_article_st, pp_article_st"
      ]
    },
    {
      "cell_type": "code",
      "execution_count": 4,
      "id": "f9c64ab0-ae6b-4398-bda3-8f4c95e0b166",
      "metadata": {
        "id": "f9c64ab0-ae6b-4398-bda3-8f4c95e0b166"
      },
      "outputs": [],
      "source": [
        ""
      ]
    },
    {
      "cell_type": "code",
      "execution_count": 4,
      "id": "instrumental-arbor",
      "metadata": {
        "id": "instrumental-arbor"
      },
      "outputs": [],
      "source": [
        ""
      ]
    },
    {
      "cell_type": "code",
      "execution_count": 4,
      "id": "ed8cbb70-195d-460a-850a-5c4c02c33b3d",
      "metadata": {
        "id": "ed8cbb70-195d-460a-850a-5c4c02c33b3d"
      },
      "outputs": [],
      "source": [
        ""
      ]
    },
    {
      "cell_type": "markdown",
      "id": "matched-costume",
      "metadata": {
        "id": "matched-costume"
      },
      "source": [
        "## Using the two function above to extract Wikipedia Article about USA"
      ]
    },
    {
      "cell_type": "code",
      "execution_count": 5,
      "id": "suffering-perfume",
      "metadata": {
        "id": "suffering-perfume"
      },
      "outputs": [],
      "source": [
        "article_text = fetch_wikipedia_article(\"https://en.wikipedia.org/wiki/USA\")\n",
        "article_st, pp_article_st = preprocess_article(article_text)\n",
        "pp_article_st_wt = [word_tokenize(sent) for sent in pp_article_st]"
      ]
    },
    {
      "cell_type": "code",
      "execution_count": 6,
      "id": "behind-sleeping",
      "metadata": {
        "id": "behind-sleeping"
      },
      "outputs": [],
      "source": [
        "pp_string = (\" \").join(pp_article_st)"
      ]
    },
    {
      "cell_type": "code",
      "execution_count": 7,
      "id": "bf10d12d-8b17-4375-8d03-356a6c1847a0",
      "metadata": {
        "colab": {
          "base_uri": "https://localhost:8080/",
          "height": 92
        },
        "id": "bf10d12d-8b17-4375-8d03-356a6c1847a0",
        "outputId": "490e845a-0992-42bb-de98-fc1e72e9a136"
      },
      "outputs": [
        {
          "output_type": "execute_result",
          "data": {
            "application/vnd.google.colaboratory.intrinsic+json": {
              "type": "string"
            },
            "text/plain": [
              "'\\n\\ncoordinates: .mw-parser-output .geo-default,.mw-parser-output .geo-dms,.mw-parser-output .geo-dec{display:inline}.mw-parser-output .geo-nondefault,.mw-parser-output .geo-multi-punct{display:none}.mw-parser-output .longitude,.mw-parser-output .latitude{white-space:nowrap}40°n 100°w\\ufeff / \\ufeff40°n 100°w\\ufeff / 40; -100\\nthe united states of america (u.s.a. or usa), commonly known as the united states (u.s. or us) or america, is a country primarily located in north america.'"
            ]
          },
          "metadata": {},
          "execution_count": 7
        }
      ],
      "source": [
        "article_st[0]"
      ]
    },
    {
      "cell_type": "code",
      "execution_count": 8,
      "id": "23e7518e-1c1e-405c-89a9-1736e13258d3",
      "metadata": {
        "colab": {
          "base_uri": "https://localhost:8080/"
        },
        "id": "23e7518e-1c1e-405c-89a9-1736e13258d3",
        "outputId": "b63cef49-a0d7-41aa-e13f-fc391a86d03a"
      },
      "outputs": [
        {
          "output_type": "execute_result",
          "data": {
            "text/plain": [
              "['coordinate mw parser output geo default mw parser output geo dm mw parser output geo dec display inline mw parser output geo nondefault mw parser output geo multi punct display none mw parser output longitude mw parser output latitude white space nowrap 40 n 100 w 40 n 100 w 40 100the united state america u usa commonly known united state u u america country primarily located north america',\n",
              " 'consists 50 state federal district five major unincorporated territory 326 indian reservation minor possession',\n",
              " '3 8 million square mile 9 8 million square kilometer world third fourth largest country geographic area',\n",
              " 'united state share significant land border canada north mexico south well limited maritime border bahamas cuba russia',\n",
              " 'population 331 million people third populous country world']"
            ]
          },
          "metadata": {},
          "execution_count": 8
        }
      ],
      "source": [
        "pp_article_st[0:5]"
      ]
    },
    {
      "cell_type": "code",
      "execution_count": 8,
      "id": "f5522076-4b14-4ebe-be64-65ca378fea36",
      "metadata": {
        "id": "f5522076-4b14-4ebe-be64-65ca378fea36"
      },
      "outputs": [],
      "source": [
        ""
      ]
    },
    {
      "cell_type": "markdown",
      "id": "patent-opposition",
      "metadata": {
        "id": "patent-opposition"
      },
      "source": [
        "## Generate Word Clouds For Raw and Preprocessed Wikipedia Article about USA"
      ]
    },
    {
      "cell_type": "code",
      "execution_count": 9,
      "id": "presidential-bloom",
      "metadata": {
        "colab": {
          "base_uri": "https://localhost:8080/",
          "height": 482
        },
        "id": "presidential-bloom",
        "outputId": "dbc6c54c-efc1-4e7f-860f-60485fc2f7a9"
      },
      "outputs": [
        {
          "output_type": "display_data",
          "data": {
            "image/png": "[encoded data removed]",
            "text/plain": [
              "<Figure size 1800x1800 with 2 Axes>"
            ]
          },
          "metadata": {
            "needs_background": "light"
          }
        }
      ],
      "source": [
        "wc_mask = np.array(Image.open(urllib.request.urlopen(\"http://pm1.narvii.com/5750/abb7fdf1f24f9515a1f1d16e6f05d3f03110c51f_00.jpg\")))\n",
        "wc = WordCloud(background_color=\"white\",mask=wc_mask)\n",
        "fig, ax = plt.subplots(1,2,figsize=(25,25))\n",
        "ax[0].imshow(wc.generate(article_text))\n",
        "ax[0].title.set_text(\"Raw\")\n",
        "ax[1].imshow(wc.generate(pp_string))\n",
        "ax[1].title.set_text(\"Preprocessed\")\n",
        "plt.show()"
      ]
    },
    {
      "cell_type": "code",
      "execution_count": null,
      "id": "engaged-shore",
      "metadata": {
        "id": "engaged-shore"
      },
      "outputs": [],
      "source": [
        ""
      ]
    },
    {
      "cell_type": "code",
      "execution_count": null,
      "id": "dominican-ownership",
      "metadata": {
        "id": "dominican-ownership"
      },
      "outputs": [],
      "source": [
        ""
      ]
    },
    {
      "cell_type": "markdown",
      "id": "sapphire-boutique",
      "metadata": {
        "id": "sapphire-boutique"
      },
      "source": [
        "## LSA Explore Input/Outputs"
      ]
    },
    {
      "cell_type": "code",
      "execution_count": null,
      "id": "impossible-advocate",
      "metadata": {
        "id": "impossible-advocate"
      },
      "outputs": [],
      "source": [
        "#1,1(unigrams only)  1,2(unigrams and bigrams) 2,2(bigrams only)\n",
        "count_vectorizer = CountVectorizer(ngram_range=(1,1)) \n",
        "count_vectorizer.fit(pp_article_st)\n",
        "X = count_vectorizer.transform(pp_article_st)"
      ]
    },
    {
      "cell_type": "code",
      "execution_count": null,
      "id": "conventional-trash",
      "metadata": {
        "id": "conventional-trash"
      },
      "outputs": [],
      "source": [
        "#perform Latent Semantic Analysis (LSA)\n",
        "U, SIGMA, VT = randomized_svd(X,n_components=N_LINE,n_iter=100,random_state=100)"
      ]
    },
    {
      "cell_type": "code",
      "execution_count": null,
      "id": "unlike-pitch",
      "metadata": {
        "colab": {
          "base_uri": "https://localhost:8080/"
        },
        "id": "unlike-pitch",
        "outputId": "dd347983-a3ab-4313-e790-c1afbe61ade0"
      },
      "outputs": [
        {
          "output_type": "execute_result",
          "data": {
            "text/plain": [
              "(594, 10)"
            ]
          },
          "metadata": {},
          "execution_count": 86
        }
      ],
      "source": [
        "U.shape #document-topic"
      ]
    },
    {
      "cell_type": "code",
      "execution_count": null,
      "id": "corporate-armenia",
      "metadata": {
        "colab": {
          "base_uri": "https://localhost:8080/"
        },
        "id": "corporate-armenia",
        "outputId": "c2ddcd8e-ade6-4528-b8d0-fe39d98d354e"
      },
      "outputs": [
        {
          "output_type": "execute_result",
          "data": {
            "text/plain": [
              "(10, 3136)"
            ]
          },
          "metadata": {},
          "execution_count": 87
        }
      ],
      "source": [
        "VT.shape #topic-term"
      ]
    },
    {
      "cell_type": "code",
      "execution_count": null,
      "id": "reduced-marker",
      "metadata": {
        "colab": {
          "base_uri": "https://localhost:8080/"
        },
        "id": "reduced-marker",
        "outputId": "452c1989-fbf6-4c9b-e8b4-8d987eec49bc"
      },
      "outputs": [
        {
          "output_type": "execute_result",
          "data": {
            "text/plain": [
              "(10,)"
            ]
          },
          "metadata": {},
          "execution_count": 88
        }
      ],
      "source": [
        "SIGMA.shape # topic - topic sparse matrix"
      ]
    },
    {
      "cell_type": "code",
      "execution_count": null,
      "id": "subject-klein",
      "metadata": {
        "id": "subject-klein"
      },
      "outputs": [],
      "source": [
        "scores = np.sqrt(np.dot(U**2,SIGMA**2))"
      ]
    },
    {
      "cell_type": "code",
      "execution_count": null,
      "id": "attempted-credit",
      "metadata": {
        "colab": {
          "base_uri": "https://localhost:8080/"
        },
        "id": "attempted-credit",
        "outputId": "0d47bd63-0254-4922-8946-1ce6f47ee532"
      },
      "outputs": [
        {
          "output_type": "execute_result",
          "data": {
            "text/plain": [
              "(594,)"
            ]
          },
          "metadata": {},
          "execution_count": 90
        }
      ],
      "source": [
        "scores.shape"
      ]
    },
    {
      "cell_type": "code",
      "execution_count": null,
      "id": "proper-nevada",
      "metadata": {
        "id": "proper-nevada"
      },
      "outputs": [],
      "source": [
        "#get index of highest scores\n",
        "top_scores_index = np.argsort(scores)"
      ]
    },
    {
      "cell_type": "code",
      "execution_count": null,
      "id": "welsh-midwest",
      "metadata": {
        "id": "welsh-midwest"
      },
      "outputs": [],
      "source": [
        "#sort the indexes in descending order\n",
        "top_scores_index = top_scores_index[::-1]"
      ]
    },
    {
      "cell_type": "code",
      "execution_count": null,
      "id": "considered-philadelphia",
      "metadata": {
        "id": "considered-philadelphia"
      },
      "outputs": [],
      "source": [
        "#get top N Scores index\n",
        "top_scores_index = top_scores_index[0:N_LINE]"
      ]
    },
    {
      "cell_type": "code",
      "execution_count": null,
      "id": "final-investigator",
      "metadata": {
        "colab": {
          "base_uri": "https://localhost:8080/"
        },
        "id": "final-investigator",
        "outputId": "93ec46c0-915f-41b3-8caa-2f68f375515f"
      },
      "outputs": [
        {
          "output_type": "execute_result",
          "data": {
            "text/plain": [
              "array([  0, 464, 447, 569, 274, 431, 470, 345,  11, 141])"
            ]
          },
          "metadata": {},
          "execution_count": 94
        }
      ],
      "source": [
        "top_scores_index"
      ]
    },
    {
      "cell_type": "code",
      "execution_count": null,
      "id": "bibliographic-sword",
      "metadata": {
        "colab": {
          "base_uri": "https://localhost:8080/"
        },
        "id": "bibliographic-sword",
        "outputId": "0fdc8c09-ee44-4703-9f49-56f09d30ef2b"
      },
      "outputs": [
        {
          "output_type": "execute_result",
          "data": {
            "text/plain": [
              "array([15.07251127,  8.13742293,  7.06155453,  6.26265046,  5.96701386,\n",
              "        4.49502756,  4.28935591,  4.28564734,  4.24658734,  4.20066484])"
            ]
          },
          "metadata": {},
          "execution_count": 95
        }
      ],
      "source": [
        "scores[top_scores_index]"
      ]
    },
    {
      "cell_type": "code",
      "execution_count": null,
      "id": "crude-colony",
      "metadata": {
        "id": "crude-colony"
      },
      "outputs": [],
      "source": [
        "article_array = np.array(article_st)"
      ]
    },
    {
      "cell_type": "code",
      "execution_count": null,
      "id": "outer-humidity",
      "metadata": {
        "id": "outer-humidity"
      },
      "outputs": [],
      "source": [
        "bow_sum = article_array[top_scores_index]"
      ]
    },
    {
      "cell_type": "code",
      "execution_count": null,
      "id": "intended-camel",
      "metadata": {
        "id": "intended-camel"
      },
      "outputs": [],
      "source": [
        "bow_sum = list(bow_sum)"
      ]
    },
    {
      "cell_type": "code",
      "execution_count": null,
      "id": "roman-shepherd",
      "metadata": {
        "colab": {
          "base_uri": "https://localhost:8080/"
        },
        "id": "roman-shepherd",
        "outputId": "dc83a7f2-a1e6-4319-864e-c78190a46bfd"
      },
      "outputs": [
        {
          "output_type": "execute_result",
          "data": {
            "text/plain": [
              "10"
            ]
          },
          "metadata": {},
          "execution_count": 99
        }
      ],
      "source": [
        "len(bow_sum)"
      ]
    },
    {
      "cell_type": "code",
      "execution_count": null,
      "id": "changing-yellow",
      "metadata": {
        "id": "changing-yellow"
      },
      "outputs": [],
      "source": [
        "bow_sum_unigram = (\" \").join(bow_sum)"
      ]
    },
    {
      "cell_type": "code",
      "execution_count": null,
      "id": "incorrect-thread",
      "metadata": {
        "colab": {
          "base_uri": "https://localhost:8080/",
          "height": 167
        },
        "id": "incorrect-thread",
        "outputId": "b21d3214-0107-463e-cea4-46b5f7ab1ad1"
      },
      "outputs": [
        {
          "output_type": "execute_result",
          "data": {
            "application/vnd.google.colaboratory.intrinsic+json": {
              "type": "string"
            },
            "text/plain": [
              "'\\n\\ncoordinates: .mw-parser-output .geo-default,.mw-parser-output .geo-dms,.mw-parser-output .geo-dec{display:inline}.mw-parser-output .geo-nondefault,.mw-parser-output .geo-multi-punct{display:none}.mw-parser-output .longitude,.mw-parser-output .latitude{white-space:nowrap}40°n 100°w\\ufeff / \\ufeff40°n 100°w\\ufeff / 40; -100\\nthe united states of america (u.s.a. or usa), commonly known as the united states (u.s. or us) or america, is a country primarily located in north america. [424]\\nthe centers for disease control and prevention (cdc) reported that the united states had an average life expectancy at birth of 77.3 years in 2020 (74.5 years for men and 80.2 years for women), down 1.5 years from 2019. according to provisional figures, this was the lowest average u.s. life expectancy recorded by the cdc since 2003, the first overall decline since 2018, and \"the largest one-year decline since world war ii.\" other languages spoken at home by one million people or more include chinese (2.8 million), tagalog (1.6 million), vietnamese (1.4 million), french (1.3 million), korean (1.1 million), and german (1 million). [530] in soccer (a sport that has gained a footing in the united states since the mid-1990s), the country hosted the 1994 fifa world cup, the men\\'s national soccer team qualified for ten world cups and the women\\'s team has won the fifa women\\'s world cup four times; major league soccer is the sport\\'s highest league in the united states (featuring 23 american and three canadian teams). since the general election of 1856, the major parties have been the democratic party, founded in 1824, and the republican party, founded in 1854. since the civil war, only one third-party presidential candidate—former president theodore roosevelt, running as a progressive in 1912—has won as much as 20% of the popular vote, though the self-financed reform party campaign of ross perot took 18.9% in 1992. [394]\\nin 2017, out of the u.s. foreign-born population, some 45% (20.7 million) were naturalized citizens, 27% (12.3 million) were lawful permanent residents, 6% (2.2 million) were temporary lawful residents, and 23% (10.5 million) were unauthorized immigrants. [430][431]\\nincreasing obesity in the united states and improvements in health and longevity outside the u.s. contributed to lowering the country\\'s rank in life expectancy from 11th in the world in 1987 to 42nd in 2007. in 2017, the united states had the lowest life expectancy among japan, canada, australia, the united kingdom, and seven nations in western europe. [303]\\nalthough most nations have abolished capital punishment,[304] it is sanctioned in the united states for certain federal and military crimes, and at the state level in 28 states, though three states have moratoriums on carrying out the penalty imposed by their governors. the spanish–american war and world war i established the u.s. as a world power, a status confirmed by the outcome of world war ii. [112][113][114]\\nthe united states remained neutral from the outbreak of world war i in 1914 until 1917 when it joined the war as an \"associated power\" alongside the allies of world war i, helping to turn the tide against the central powers.'"
            ]
          },
          "metadata": {},
          "execution_count": 101
        }
      ],
      "source": [
        "bow_sum_unigram"
      ]
    },
    {
      "cell_type": "code",
      "execution_count": null,
      "id": "explicit-torture",
      "metadata": {
        "id": "explicit-torture"
      },
      "outputs": [],
      "source": [
        ""
      ]
    },
    {
      "cell_type": "code",
      "execution_count": null,
      "id": "hearing-hammer",
      "metadata": {
        "id": "hearing-hammer"
      },
      "outputs": [],
      "source": [
        "tfidf_vectorizer = TfidfVectorizer(ngram_range=(1,1))\n",
        "tfidf_vectorizer.fit(pp_article_st)\n",
        "X = tfidf_vectorizer.transform(pp_article_st)"
      ]
    },
    {
      "cell_type": "code",
      "execution_count": null,
      "id": "unexpected-standard",
      "metadata": {
        "id": "unexpected-standard"
      },
      "outputs": [],
      "source": [
        "#perform LSA\n",
        "U, SIGMA, VT = randomized_svd(X,n_components=N_LINE,n_iter=100,random_state=100) "
      ]
    },
    {
      "cell_type": "code",
      "execution_count": null,
      "id": "egyptian-recycling",
      "metadata": {
        "colab": {
          "base_uri": "https://localhost:8080/"
        },
        "id": "egyptian-recycling",
        "outputId": "72c5dbe3-dedb-4fd0-d543-17e8de87d213"
      },
      "outputs": [
        {
          "output_type": "execute_result",
          "data": {
            "text/plain": [
              "(594, 10)"
            ]
          },
          "metadata": {},
          "execution_count": 104
        }
      ],
      "source": [
        "U.shape #document-topic"
      ]
    },
    {
      "cell_type": "code",
      "execution_count": null,
      "id": "handmade-architect",
      "metadata": {
        "colab": {
          "base_uri": "https://localhost:8080/"
        },
        "id": "handmade-architect",
        "outputId": "7b24d16a-1f21-48b7-ab94-8aea28ef0bfb"
      },
      "outputs": [
        {
          "output_type": "execute_result",
          "data": {
            "text/plain": [
              "(10, 3136)"
            ]
          },
          "metadata": {},
          "execution_count": 105
        }
      ],
      "source": [
        "VT.shape #topic-term"
      ]
    },
    {
      "cell_type": "code",
      "execution_count": null,
      "id": "psychological-thanksgiving",
      "metadata": {
        "colab": {
          "base_uri": "https://localhost:8080/"
        },
        "id": "psychological-thanksgiving",
        "outputId": "3c384461-7f9f-475b-9ce4-0203b92c5ffb"
      },
      "outputs": [
        {
          "output_type": "execute_result",
          "data": {
            "text/plain": [
              "(10,)"
            ]
          },
          "metadata": {},
          "execution_count": 106
        }
      ],
      "source": [
        "SIGMA.shape # topic - topic sparse matrix"
      ]
    },
    {
      "cell_type": "code",
      "execution_count": null,
      "id": "pretty-running",
      "metadata": {
        "id": "pretty-running"
      },
      "outputs": [],
      "source": [
        "scores = np.sqrt(np.dot(U**2,SIGMA**2))"
      ]
    },
    {
      "cell_type": "code",
      "execution_count": null,
      "id": "organic-nightlife",
      "metadata": {
        "colab": {
          "base_uri": "https://localhost:8080/"
        },
        "id": "organic-nightlife",
        "outputId": "6bb1f845-a4ae-48c0-8faa-d2a145f7a5b2"
      },
      "outputs": [
        {
          "output_type": "execute_result",
          "data": {
            "text/plain": [
              "(594,)"
            ]
          },
          "metadata": {},
          "execution_count": 108
        }
      ],
      "source": [
        "scores.shape"
      ]
    },
    {
      "cell_type": "code",
      "execution_count": null,
      "id": "welcome-boutique",
      "metadata": {
        "id": "welcome-boutique"
      },
      "outputs": [],
      "source": [
        "#get index of highest scores\n",
        "top_scores_index = np.argsort(scores)"
      ]
    },
    {
      "cell_type": "code",
      "execution_count": null,
      "id": "photographic-people",
      "metadata": {
        "id": "photographic-people"
      },
      "outputs": [],
      "source": [
        "#sort the indexes in descending order\n",
        "top_scores_index = top_scores_index[::-1]"
      ]
    },
    {
      "cell_type": "code",
      "execution_count": null,
      "id": "herbal-bumper",
      "metadata": {
        "id": "herbal-bumper"
      },
      "outputs": [],
      "source": [
        "#get top N Scores index\n",
        "top_scores_index = top_scores_index[0:N_LINE]"
      ]
    },
    {
      "cell_type": "code",
      "execution_count": null,
      "id": "sealed-congo",
      "metadata": {
        "colab": {
          "base_uri": "https://localhost:8080/"
        },
        "id": "sealed-congo",
        "outputId": "ed0a8f5b-29b0-4cd7-e5f3-753a231a0891"
      },
      "outputs": [
        {
          "output_type": "execute_result",
          "data": {
            "text/plain": [
              "array([447, 301, 452, 255,  12, 263,  11, 253,  22,   4])"
            ]
          },
          "metadata": {},
          "execution_count": 112
        }
      ],
      "source": [
        "top_scores_index"
      ]
    },
    {
      "cell_type": "code",
      "execution_count": null,
      "id": "religious-prayer",
      "metadata": {
        "colab": {
          "base_uri": "https://localhost:8080/"
        },
        "id": "religious-prayer",
        "outputId": "3a505aa5-ca7b-48c4-c78d-127ad3dbc4ad"
      },
      "outputs": [
        {
          "output_type": "execute_result",
          "data": {
            "text/plain": [
              "array([0.76573841, 0.74629242, 0.70641235, 0.67982507, 0.6771919 ,\n",
              "       0.64933276, 0.62378055, 0.61224302, 0.59890548, 0.58791346])"
            ]
          },
          "metadata": {},
          "execution_count": 113
        }
      ],
      "source": [
        "scores[top_scores_index]"
      ]
    },
    {
      "cell_type": "code",
      "execution_count": null,
      "id": "proud-haven",
      "metadata": {
        "id": "proud-haven"
      },
      "outputs": [],
      "source": [
        "article_array = np.array(article_st)"
      ]
    },
    {
      "cell_type": "code",
      "execution_count": null,
      "id": "desperate-event",
      "metadata": {
        "id": "desperate-event"
      },
      "outputs": [],
      "source": [
        "tfidf_sum = article_array[top_scores_index]"
      ]
    },
    {
      "cell_type": "code",
      "execution_count": null,
      "id": "comprehensive-williams",
      "metadata": {
        "id": "comprehensive-williams"
      },
      "outputs": [],
      "source": [
        "tfidf_sum = list(tfidf_sum)"
      ]
    },
    {
      "cell_type": "code",
      "execution_count": null,
      "id": "unusual-sampling",
      "metadata": {
        "colab": {
          "base_uri": "https://localhost:8080/"
        },
        "id": "unusual-sampling",
        "outputId": "9b527c8b-c832-4802-c97f-2cf471f6bc85"
      },
      "outputs": [
        {
          "output_type": "execute_result",
          "data": {
            "text/plain": [
              "10"
            ]
          },
          "metadata": {},
          "execution_count": 117
        }
      ],
      "source": [
        "len(tfidf_sum)"
      ]
    },
    {
      "cell_type": "code",
      "execution_count": null,
      "id": "bearing-funeral",
      "metadata": {
        "id": "bearing-funeral"
      },
      "outputs": [],
      "source": [
        "tfidf_sum_unigram = (\" \").join(tfidf_sum)"
      ]
    },
    {
      "cell_type": "code",
      "execution_count": null,
      "id": "undefined-pittsburgh",
      "metadata": {
        "colab": {
          "base_uri": "https://localhost:8080/",
          "height": 167
        },
        "id": "undefined-pittsburgh",
        "outputId": "95de0e2f-1d41-44ae-e6fa-502a929c41e4"
      },
      "outputs": [
        {
          "output_type": "execute_result",
          "data": {
            "application/vnd.google.colaboratory.intrinsic+json": {
              "type": "string"
            },
            "text/plain": [
              "\"other languages spoken at home by one million people or more include chinese (2.8 million), tagalog (1.6 million), vietnamese (1.4 million), french (1.3 million), korean (1.1 million), and german (1 million). the united states is one of the few countries in the world to do so. the united states has the world's largest christian population. the district of columbia and the five major u.s. territories do not have senators. during the cold war, the united states fought the korean war and the vietnam war but avoided direct military conflict with the soviet union. [231] the states and the district of columbia choose the president of the united states. the spanish–american war and world war i established the u.s. as a world power, a status confirmed by the outcome of world war ii. the district of columbia and the five major u.s. territories each have one member of congress—these members are not allowed to vote. by value, the united states is the world's largest importer and second-largest exporter of goods. [22] with a population of more than 331 million people, it is the third most populous country in the world.\""
            ]
          },
          "metadata": {},
          "execution_count": 119
        }
      ],
      "source": [
        "tfidf_sum_unigram"
      ]
    },
    {
      "cell_type": "code",
      "execution_count": null,
      "id": "e0288cc2-5368-497a-b135-a35303bcfcc8",
      "metadata": {
        "id": "e0288cc2-5368-497a-b135-a35303bcfcc8"
      },
      "outputs": [],
      "source": [
        ""
      ]
    },
    {
      "cell_type": "markdown",
      "id": "f3a9e055-3f6e-40ee-ba76-3a1c61ad5b1a",
      "metadata": {
        "id": "f3a9e055-3f6e-40ee-ba76-3a1c61ad5b1a"
      },
      "source": [
        "## TF-IDF LDA Unigram"
      ]
    },
    {
      "cell_type": "code",
      "execution_count": null,
      "id": "relative-serial",
      "metadata": {
        "colab": {
          "base_uri": "https://localhost:8080/"
        },
        "id": "relative-serial",
        "outputId": "4eadd6f3-a67a-480b-8ea8-aa1753ca7024"
      },
      "outputs": [
        {
          "output_type": "execute_result",
          "data": {
            "text/plain": [
              "(594, 3136)"
            ]
          },
          "metadata": {},
          "execution_count": 120
        }
      ],
      "source": [
        "tfidf_vectorizer = TfidfVectorizer(ngram_range=(1,1))\n",
        "tfidf_vectorizer.fit(pp_article_st)\n",
        "X = tfidf_vectorizer.transform(pp_article_st)\n",
        "X.shape"
      ]
    },
    {
      "cell_type": "code",
      "execution_count": null,
      "id": "7191b624-b665-44c0-8aab-ccae163a02e9",
      "metadata": {
        "colab": {
          "base_uri": "https://localhost:8080/"
        },
        "id": "7191b624-b665-44c0-8aab-ccae163a02e9",
        "outputId": "36b3eb50-da6d-4851-8bd1-08e4002c131f"
      },
      "outputs": [
        {
          "output_type": "execute_result",
          "data": {
            "text/plain": [
              "LatentDirichletAllocation(max_iter=50, random_state=0)"
            ]
          },
          "metadata": {},
          "execution_count": 121
        }
      ],
      "source": [
        "lda_model = LDA(n_components=N_LINE, random_state=0, max_iter = 50)\n",
        "lda_model.fit(X)"
      ]
    },
    {
      "cell_type": "code",
      "execution_count": null,
      "id": "a9336625-76f7-4f45-8ae2-008f063a6f50",
      "metadata": {
        "id": "a9336625-76f7-4f45-8ae2-008f063a6f50"
      },
      "outputs": [],
      "source": [
        ""
      ]
    },
    {
      "cell_type": "code",
      "execution_count": null,
      "id": "c0b50a30-455c-4d0c-aaba-e876e48224e6",
      "metadata": {
        "colab": {
          "base_uri": "https://localhost:8080/"
        },
        "id": "c0b50a30-455c-4d0c-aaba-e876e48224e6",
        "outputId": "9e4bc4a8-59c5-4916-d1dc-b671760a6c86"
      },
      "outputs": [
        {
          "output_type": "execute_result",
          "data": {
            "text/plain": [
              "(594, 10)"
            ]
          },
          "metadata": {},
          "execution_count": 122
        }
      ],
      "source": [
        "document_topic = lda_model.transform(X)\n",
        "document_topic.shape #Document Topic"
      ]
    },
    {
      "cell_type": "code",
      "execution_count": null,
      "id": "76be61b7-1863-4786-825d-5b74a00e1cf8",
      "metadata": {
        "colab": {
          "base_uri": "https://localhost:8080/"
        },
        "id": "76be61b7-1863-4786-825d-5b74a00e1cf8",
        "outputId": "40860b0e-95a5-466f-ca24-452810ff5442"
      },
      "outputs": [
        {
          "output_type": "execute_result",
          "data": {
            "text/plain": [
              "0.9999999999999999"
            ]
          },
          "metadata": {},
          "execution_count": 123
        }
      ],
      "source": [
        "document_topic[0].sum()"
      ]
    },
    {
      "cell_type": "code",
      "execution_count": null,
      "id": "14c70f0d-6e83-4cc7-a451-9a10ea76ac59",
      "metadata": {
        "id": "14c70f0d-6e83-4cc7-a451-9a10ea76ac59"
      },
      "outputs": [],
      "source": [
        ""
      ]
    },
    {
      "cell_type": "code",
      "execution_count": null,
      "id": "b63c0290-083d-4047-a1f8-1cd05da13162",
      "metadata": {
        "colab": {
          "base_uri": "https://localhost:8080/"
        },
        "id": "b63c0290-083d-4047-a1f8-1cd05da13162",
        "outputId": "3347644b-5a88-44ad-8368-3fd0c0c47bfb"
      },
      "outputs": [
        {
          "output_type": "stream",
          "name": "stderr",
          "text": [
            "/usr/local/lib/python3.7/dist-packages/sklearn/utils/deprecation.py:87: FutureWarning: Function get_feature_names is deprecated; get_feature_names is deprecated in 1.0 and will be removed in 1.2. Please use get_feature_names_out instead.\n",
            "  warnings.warn(msg, category=FutureWarning)\n"
          ]
        },
        {
          "output_type": "execute_result",
          "data": {
            "text/plain": [
              "(3136,)"
            ]
          },
          "metadata": {},
          "execution_count": 124
        }
      ],
      "source": [
        "vocab = np.array(tfidf_vectorizer.get_feature_names())\n",
        "vocab.shape"
      ]
    },
    {
      "cell_type": "code",
      "execution_count": null,
      "id": "556e72b2-930c-45ef-8f5c-975393656775",
      "metadata": {
        "colab": {
          "base_uri": "https://localhost:8080/"
        },
        "id": "556e72b2-930c-45ef-8f5c-975393656775",
        "outputId": "89af2ee2-da68-4431-c865-018fb8988d87"
      },
      "outputs": [
        {
          "output_type": "execute_result",
          "data": {
            "text/plain": [
              "(10, 3136)"
            ]
          },
          "metadata": {},
          "execution_count": 125
        }
      ],
      "source": [
        "topic_word = lda_model.components_ # topic - word\n",
        "topic_word.shape"
      ]
    },
    {
      "cell_type": "code",
      "execution_count": null,
      "id": "e3c4d527-05fb-4021-8d29-d9af90539c0a",
      "metadata": {
        "colab": {
          "base_uri": "https://localhost:8080/"
        },
        "id": "e3c4d527-05fb-4021-8d29-d9af90539c0a",
        "outputId": "f444e434-bfbe-426f-99b6-5ba499625724"
      },
      "outputs": [
        {
          "output_type": "execute_result",
          "data": {
            "text/plain": [
              "(3136,)"
            ]
          },
          "metadata": {},
          "execution_count": 126
        }
      ],
      "source": [
        "topic_word[0].shape"
      ]
    },
    {
      "cell_type": "code",
      "execution_count": null,
      "id": "34ab1ae0-decd-49be-a153-86ba3e18c644",
      "metadata": {
        "id": "34ab1ae0-decd-49be-a153-86ba3e18c644"
      },
      "outputs": [],
      "source": [
        ""
      ]
    },
    {
      "cell_type": "code",
      "execution_count": null,
      "id": "50cc66d5-d8fe-45f3-9a39-cf9dde3c9999",
      "metadata": {
        "id": "50cc66d5-d8fe-45f3-9a39-cf9dde3c9999"
      },
      "outputs": [],
      "source": [
        ""
      ]
    },
    {
      "cell_type": "code",
      "execution_count": null,
      "id": "067c81a1-1cb4-42f5-9d1e-e8889493bf2d",
      "metadata": {
        "id": "067c81a1-1cb4-42f5-9d1e-e8889493bf2d"
      },
      "outputs": [],
      "source": [
        "top_features_indices = topic_word[0].argsort()[ : -10 - 1 : -1 ] # get indices by argsort() "
      ]
    },
    {
      "cell_type": "code",
      "execution_count": null,
      "id": "a0ceabfa-074e-4a6c-8654-e11fc688dfbf",
      "metadata": {
        "colab": {
          "base_uri": "https://localhost:8080/"
        },
        "id": "a0ceabfa-074e-4a6c-8654-e11fc688dfbf",
        "outputId": "02531073-11bb-4335-ffbd-d4c658148dc8"
      },
      "outputs": [
        {
          "output_type": "execute_result",
          "data": {
            "text/plain": [
              "(10,)"
            ]
          },
          "metadata": {},
          "execution_count": 128
        }
      ],
      "source": [
        "top_features_indices.shape"
      ]
    },
    {
      "cell_type": "code",
      "execution_count": null,
      "id": "33ec4fee-89a1-441a-ad67-635def602110",
      "metadata": {
        "colab": {
          "base_uri": "https://localhost:8080/"
        },
        "id": "33ec4fee-89a1-441a-ad67-635def602110",
        "outputId": "ad886752-fbff-42d2-e355-87a2c6f480a2"
      },
      "outputs": [
        {
          "output_type": "execute_result",
          "data": {
            "text/plain": [
              "array(['european', 'american', 'state', 'language', 'united', 'war',\n",
              "       'island', 'federal', 'also', 'government'], dtype='<U17')"
            ]
          },
          "metadata": {},
          "execution_count": 129
        }
      ],
      "source": [
        "top_features = vocab[top_features_indices] #alternateively: top_features = [vocab[i] for i in top_features_indices]\n",
        "top_features"
      ]
    },
    {
      "cell_type": "code",
      "execution_count": null,
      "id": "3de8ac35-087d-411d-9b3c-3b29287ac2ec",
      "metadata": {
        "colab": {
          "base_uri": "https://localhost:8080/"
        },
        "id": "3de8ac35-087d-411d-9b3c-3b29287ac2ec",
        "outputId": "4039ddd6-d48f-4069-957d-40a5c4175d51"
      },
      "outputs": [
        {
          "output_type": "execute_result",
          "data": {
            "text/plain": [
              "array([2.00548944, 1.98251322, 1.9660667 , 1.9295343 , 1.76408511,\n",
              "       1.63853085, 1.2762452 , 1.2557261 , 1.20747619, 1.17768905])"
            ]
          },
          "metadata": {},
          "execution_count": 130
        }
      ],
      "source": [
        "weights = topic_word[0][top_features_indices]\n",
        "weights"
      ]
    },
    {
      "cell_type": "code",
      "execution_count": null,
      "id": "bde3cda6-5da0-4fc5-ae62-293c7af40f20",
      "metadata": {
        "id": "bde3cda6-5da0-4fc5-ae62-293c7af40f20"
      },
      "outputs": [],
      "source": [
        ""
      ]
    },
    {
      "cell_type": "code",
      "execution_count": null,
      "id": "ff099b4d-67e1-49b1-a708-cd90f7f1260a",
      "metadata": {
        "id": "ff099b4d-67e1-49b1-a708-cd90f7f1260a"
      },
      "outputs": [],
      "source": [
        ""
      ]
    },
    {
      "cell_type": "code",
      "execution_count": null,
      "id": "199d6b4a-687c-4fa4-b120-4a46838e1895",
      "metadata": {
        "id": "199d6b4a-687c-4fa4-b120-4a46838e1895"
      },
      "outputs": [],
      "source": [
        ""
      ]
    },
    {
      "cell_type": "code",
      "execution_count": null,
      "id": "0d83b581-3195-4da2-a74a-b2be29c6c540",
      "metadata": {
        "id": "0d83b581-3195-4da2-a74a-b2be29c6c540"
      },
      "outputs": [],
      "source": [
        "## Generate Feaure Matrixes and Summaries For BI-GRAM (2-GRAM) Occurence"
      ]
    },
    {
      "cell_type": "code",
      "execution_count": null,
      "id": "d8ae39cd-0672-4454-8dd4-a8026c303a01",
      "metadata": {
        "id": "d8ae39cd-0672-4454-8dd4-a8026c303a01"
      },
      "outputs": [],
      "source": [
        ""
      ]
    },
    {
      "cell_type": "code",
      "execution_count": null,
      "id": "4ad70d0f-f698-49e6-a1af-9ab4654cd806",
      "metadata": {
        "id": "4ad70d0f-f698-49e6-a1af-9ab4654cd806"
      },
      "outputs": [],
      "source": [
        ""
      ]
    },
    {
      "cell_type": "markdown",
      "source": [
        "## Function to Generate BOW + LSA Summary"
      ],
      "metadata": {
        "id": "XWYUPCnpkHGV"
      },
      "id": "XWYUPCnpkHGV"
    },
    {
      "cell_type": "code",
      "source": [
        "def generate_bow_summary(raw_sent_tokens, pp_sent_tokens, summary_size = 10, ngram_tuple=(1,1)):\n",
        "  count_vectorizer = CountVectorizer(ngram_range=ngram_tuple)\n",
        "  feature_vector = count_vectorizer.fit_transform(pp_sent_tokens)\n",
        "  U, SIGMA, VT = randomized_svd(feature_vector, n_components = summary_size, n_iter = 100, random_state =100)\n",
        "  sentence_scores = np.sqrt(np.dot(U**2, SIGMA**2))\n",
        "  top_scores_index = np.argsort(sentence_scores)[::-1]\n",
        "  top_scores_index = top_scores_index[0:summary_size]\n",
        "  article_array = np.array(raw_sent_tokens)\n",
        "  bow_sum = list(article_array[top_scores_index])\n",
        "  bow_sum_str = \" \".join(bow_sum)\n",
        "  return bow_sum_str"
      ],
      "metadata": {
        "id": "aHj0vfUikSNt"
      },
      "id": "aHj0vfUikSNt",
      "execution_count": 83,
      "outputs": []
    },
    {
      "cell_type": "code",
      "source": [
        ""
      ],
      "metadata": {
        "id": "9tIrdWy7n0BG"
      },
      "id": "9tIrdWy7n0BG",
      "execution_count": 83,
      "outputs": []
    },
    {
      "cell_type": "markdown",
      "source": [
        "## Function to Generate TF-IDF + LSA Summary"
      ],
      "metadata": {
        "id": "MUy0nBjg70BD"
      },
      "id": "MUy0nBjg70BD"
    },
    {
      "cell_type": "code",
      "source": [
        "def generate_tfidf_summary(raw_sent_tokens, pp_sent_tokens, summary_size = 10, ngram_tuple=(1,1)):\n",
        "  tfidf_vectorizer = TfidfVectorizer(ngram_range=ngram_tuple)\n",
        "  feature_vector = tfidf_vectorizer.fit_transform(pp_sent_tokens)\n",
        "  U, SIGMA, VT = randomized_svd(feature_vector, n_components = summary_size, n_iter = 100, random_state =100)\n",
        "  sentence_scores = np.sqrt(np.dot(U**2, SIGMA**2))\n",
        "  top_scores_index = np.argsort(sentence_scores)[::-1]\n",
        "  top_scores_index = top_scores_index[0:summary_size]\n",
        "  article_array = np.array(raw_sent_tokens)\n",
        "  tfidf_sum = list(article_array[top_scores_index])\n",
        "  tfidf_sum_str = \" \".join(tfidf_sum)\n",
        "  return tfidf_sum_str"
      ],
      "metadata": {
        "id": "m4Yhddbj736R"
      },
      "id": "m4Yhddbj736R",
      "execution_count": 84,
      "outputs": []
    },
    {
      "cell_type": "code",
      "source": [
        ""
      ],
      "metadata": {
        "id": "HYUNOZpNoCDI"
      },
      "id": "HYUNOZpNoCDI",
      "execution_count": 84,
      "outputs": []
    },
    {
      "cell_type": "markdown",
      "source": [
        "## Function to Generate Word Embedding + LSA Summary"
      ],
      "metadata": {
        "id": "dWo84kUg6sV7"
      },
      "id": "dWo84kUg6sV7"
    },
    {
      "cell_type": "code",
      "source": [
        "def create_word_to_vec_model(pp_sent_tokens, ngram=1):\n",
        "\n",
        "  #create work tokens\n",
        "  pp_article_st_wt = [word_tokenize(sent) for sent in pp_sent_tokens]\n",
        "\n",
        "  if ngram <= 1:\n",
        "    w2v_model = Word2Vec(sentences=pp_article_st_wt,\n",
        "                        min_count = 5, \n",
        "                        window = 5,\n",
        "                        vector_size=10,\n",
        "                        sample=6e-5,\n",
        "                        alpha=0.001,\n",
        "                        min_alpha = 0.0007,\n",
        "                        negative=20,\n",
        "                        workers=num_cores-2)   \n",
        "    return w2v_model\n",
        "\n",
        "  else:\n",
        "    #create n gram phraser\n",
        "    ngram_model = None\n",
        "    for i in range(2, ngram+1):\n",
        "      ngram_model = gensim.models.phrases.Phrases(pp_article_st_wt)\n",
        "\n",
        "    #create wor2vec model\n",
        "    w2v_model = Word2Vec(sentences=ngram_model[pp_article_st_wt],\n",
        "                          min_count = 5, \n",
        "                          window = 5,\n",
        "                          vector_size=10,\n",
        "                          sample=6e-5,\n",
        "                          alpha=0.001,\n",
        "                          min_alpha = 0.0007,\n",
        "                          negative=20,\n",
        "                          workers=num_cores-2)  \n",
        "\n",
        "    return w2v_model"
      ],
      "metadata": {
        "id": "lJXgueYF6yzZ"
      },
      "id": "lJXgueYF6yzZ",
      "execution_count": 128,
      "outputs": []
    },
    {
      "cell_type": "code",
      "source": [
        ""
      ],
      "metadata": {
        "id": "40BQzvE86-z_"
      },
      "id": "40BQzvE86-z_",
      "execution_count": 128,
      "outputs": []
    },
    {
      "cell_type": "code",
      "source": [
        "def generate_word_embedding_summary(raw_sent_tokens, pp_sent_tokens, summary_size = 10, ngram = 1):\n",
        "\n",
        "  #get word 2 vec model\n",
        "  w2v_model = create_word_to_vec_model(pp_sent_tokens, ngram)#get w2v model\n",
        "  \n",
        "  #get word 2 vec model\n",
        "  words = list(w2v_model.wv.index_to_key)\n",
        "  word_emb_list = sorted(words)\n",
        "\n",
        "  #create pandas dataframe \n",
        "  document_term_emb = np.zeros(shape=(len(pp_article_st_wt), len(word_emb_list)))\n",
        "  dte_df = pd.DataFrame(document_term_emb)\n",
        "  dte_df.columns = word_emb_list\n",
        "  for i in range(len(pp_article_st)):\n",
        "    freq_map = Counter(pp_article_st[i])\n",
        "    for word in word_emb_list:\n",
        "      if freq_map[word] > 0:\n",
        "        dte_df[word].iloc[i] += np.median(w2v_model.wv[word])\n",
        "        freq_map[word] -= 1  \n",
        "\n",
        "  feature_vector = dte_df.to_numpy()\n",
        "  U, SIGMA, VT = randomized_svd(feature_vector, n_components = summary_size, n_iter = 100, random_state =100)\n",
        "  sentence_scores = np.sqrt(np.dot(U**2, SIGMA**2))\n",
        "  top_scores_index = np.argsort(sentence_scores)[::-1]\n",
        "  top_scores_index = top_scores_index[0:summary_size]\n",
        "  article_array = np.array(raw_sent_tokens)\n",
        "  wemb_sum = list(article_array[top_scores_index])\n",
        "  wemb_sum_str = \" \".join(wemb_sum)\n",
        "  return wemb_sum_str"
      ],
      "metadata": {
        "id": "O5NQ_bbG4SUK"
      },
      "id": "O5NQ_bbG4SUK",
      "execution_count": 129,
      "outputs": []
    },
    {
      "cell_type": "code",
      "source": [
        ""
      ],
      "metadata": {
        "id": "dbbDaamq4SW_"
      },
      "id": "dbbDaamq4SW_",
      "execution_count": 129,
      "outputs": []
    },
    {
      "cell_type": "code",
      "source": [
        ""
      ],
      "metadata": {
        "id": "Rkc5Ddcq6-9_"
      },
      "id": "Rkc5Ddcq6-9_",
      "execution_count": 129,
      "outputs": []
    },
    {
      "cell_type": "markdown",
      "source": [
        "## Number of Lines in Summary"
      ],
      "metadata": {
        "id": "lLD8hlgGAF51"
      },
      "id": "lLD8hlgGAF51"
    },
    {
      "cell_type": "code",
      "source": [
        "N_LINE = 10"
      ],
      "metadata": {
        "id": "qo-M603LAJu-"
      },
      "id": "qo-M603LAJu-",
      "execution_count": 130,
      "outputs": []
    },
    {
      "cell_type": "markdown",
      "source": [
        "## Generate Feaure Matrixes and Summaries For Uni-GRAM (1-GRAM) Occurence"
      ],
      "metadata": {
        "id": "HyPNREDfAex_"
      },
      "id": "HyPNREDfAex_"
    },
    {
      "cell_type": "markdown",
      "source": [
        "### LSA"
      ],
      "metadata": {
        "id": "0RsBeGzuIwiX"
      },
      "id": "0RsBeGzuIwiX"
    },
    {
      "cell_type": "markdown",
      "source": [
        "#### BOW"
      ],
      "metadata": {
        "id": "skT5-BbmAm-F"
      },
      "id": "skT5-BbmAm-F"
    },
    {
      "cell_type": "code",
      "source": [
        "bow_1gram_summary = generate_bow_summary(article_st, pp_article_st, N_LINE, (1,1))\n",
        "bow_1gram_summary"
      ],
      "metadata": {
        "id": "6joP68juAqFJ",
        "colab": {
          "base_uri": "https://localhost:8080/",
          "height": 167
        },
        "outputId": "55c8d3df-1da7-404f-a397-325043efada2"
      },
      "id": "6joP68juAqFJ",
      "execution_count": 131,
      "outputs": [
        {
          "output_type": "execute_result",
          "data": {
            "application/vnd.google.colaboratory.intrinsic+json": {
              "type": "string"
            },
            "text/plain": [
              "'\\n\\ncoordinates: .mw-parser-output .geo-default,.mw-parser-output .geo-dms,.mw-parser-output .geo-dec{display:inline}.mw-parser-output .geo-nondefault,.mw-parser-output .geo-multi-punct{display:none}.mw-parser-output .longitude,.mw-parser-output .latitude{white-space:nowrap}40°n 100°w\\ufeff / \\ufeff40°n 100°w\\ufeff / 40; -100\\nthe united states of america (u.s.a. or usa), commonly known as the united states (u.s. or us) or america, is a country primarily located in north america. [421]\\nthe centers for disease control and prevention (cdc) reported that the united states had an average life expectancy at birth of 77.3 years in 2020 (74.5 years for men and 80.2 years for women), down 1.5 years from 2019. according to provisional figures, this was the lowest average u.s. life expectancy recorded by the cdc since 2003, the first overall decline since 2018, and \"the largest one-year decline since world war ii.\" other languages spoken at home by one million people or more include chinese (2.8 million), tagalog (1.6 million), vietnamese (1.4 million), french (1.3 million), korean (1.1 million), and german (1 million). [533] in soccer (a sport that has gained a footing in the united states since the mid-1990s), the country hosted the 1994 fifa world cup, the men\\'s national soccer team qualified for ten world cups and the women\\'s team has won the fifa women\\'s world cup four times; major league soccer is the sport\\'s highest league in the united states (featuring 23 american and three canadian teams). since the general election of 1856, the major parties have been the democratic party, founded in 1824, and the republican party, founded in 1854. since the civil war, only one third-party presidential candidate—former president theodore roosevelt, running as a progressive in 1912—has won as much as 20% of the popular vote, though the self-financed reform party campaign of ross perot took 18.9% in 1992. the spanish–american war and world war i established the u.s. as a world power, and the aftermath of world war ii left the united states and the soviet union as the world\\'s two superpowers. [391]\\nin 2017, out of the u.s. foreign-born population, some 45% (20.7 million) were naturalized citizens, 27% (12.3 million) were lawful permanent residents, 6% (2.2 million) were temporary lawful residents, and 23% (10.5 million) were unauthorized immigrants. [427][428]\\nincreasing obesity in the united states and improvements in health and longevity outside the u.s. contributed to lowering the country\\'s rank in life expectancy from 11th in the world in 1987 to 42nd in 2007. in 2017, the united states had the lowest life expectancy among japan, canada, australia, the united kingdom, and seven nations in western europe. [303]\\nalthough most nations have abolished capital punishment,[304] it is sanctioned in the united states for certain federal and military crimes, and at the state level in 28 states, though three states have moratoriums on carrying out the penalty imposed by their governors. [112][113][114]\\nthe united states remained neutral from the outbreak of world war i in 1914 until 1917 when it joined the war as an \"associated power\" alongside the allies of world war i, helping to turn the tide against the central powers.'"
            ]
          },
          "metadata": {},
          "execution_count": 131
        }
      ]
    },
    {
      "cell_type": "code",
      "source": [
        ""
      ],
      "metadata": {
        "id": "ujazFoO1oLrc"
      },
      "id": "ujazFoO1oLrc",
      "execution_count": 131,
      "outputs": []
    },
    {
      "cell_type": "markdown",
      "source": [
        "#### TF-IDF"
      ],
      "metadata": {
        "id": "0phuAYNGAsOn"
      },
      "id": "0phuAYNGAsOn"
    },
    {
      "cell_type": "code",
      "source": [
        "tfidf_1gram_summary = generate_tfidf_summary(article_st, pp_article_st, N_LINE, (1,1))\n",
        "tfidf_1gram_summary"
      ],
      "metadata": {
        "colab": {
          "base_uri": "https://localhost:8080/",
          "height": 167
        },
        "id": "8UE2EK0MAu1q",
        "outputId": "c234cc00-b006-4813-e00e-a1108b034c36"
      },
      "id": "8UE2EK0MAu1q",
      "execution_count": 132,
      "outputs": [
        {
          "output_type": "execute_result",
          "data": {
            "application/vnd.google.colaboratory.intrinsic+json": {
              "type": "string"
            },
            "text/plain": [
              "\"other languages spoken at home by one million people or more include chinese (2.8 million), tagalog (1.6 million), vietnamese (1.4 million), french (1.3 million), korean (1.1 million), and german (1 million). the united states is one of the few countries in the world to do so. the spanish–american war and world war i established the u.s. as a world power, and the aftermath of world war ii left the united states and the soviet union as the world's two superpowers. the united states has the world's largest christian population. the district of columbia and the five major u.s. territories do not have senators. [231] the states and the district of columbia choose the president of the united states. the district of columbia and the five major u.s. territories each have one member of congress—these members are not allowed to vote. by value, the united states is the world's largest importer and second-largest exporter of goods. [22] with a population of more than 331 million people, it is the third most populous country in the world. [213]\\nthe united states is a federal republic of 50 states, a federal district, five territories and several uninhabited island possessions.\""
            ]
          },
          "metadata": {},
          "execution_count": 132
        }
      ]
    },
    {
      "cell_type": "code",
      "source": [
        ""
      ],
      "metadata": {
        "id": "5__tdu8FD5so"
      },
      "id": "5__tdu8FD5so",
      "execution_count": 103,
      "outputs": []
    },
    {
      "cell_type": "markdown",
      "source": [
        "#### Word-Embeddings"
      ],
      "metadata": {
        "id": "FsCnwT48BoWq"
      },
      "id": "FsCnwT48BoWq"
    },
    {
      "cell_type": "code",
      "source": [
        "wemb_1gram_summary = generate_word_embedding_summary(article_st, pp_article_st, summary_size = 10, ngram = 1)\n",
        "wemb_1gram_summary"
      ],
      "metadata": {
        "id": "dwtarAbNBrJm",
        "outputId": "37d70be3-94ff-4430-870e-d49d853360f7",
        "colab": {
          "base_uri": "https://localhost:8080/",
          "height": 167
        }
      },
      "id": "dwtarAbNBrJm",
      "execution_count": 133,
      "outputs": [
        {
          "output_type": "execute_result",
          "data": {
            "application/vnd.google.colaboratory.intrinsic+json": {
              "type": "string"
            },
            "text/plain": [
              "\"[288] defense's share of the overall u.s. economy has generally declined in recent decades, from early cold war peaks of 14.2% of gdp in 1953 and 69.5% of federal spending in 1954 to 4.7% of gdp and 18.8% of federal spending in 2011. of this area, 2,959,064 square miles (7,663,940\\xa0km2) is contiguous land, composing 83.65% of total u.s. land area. [543]\\nin 1998, the number of u.s. commercial radio stations had grown to 4,793 am stations and 5,662 fm stations. [360][361][362][363] in 2011, 16.7 million children lived in food-insecure households, about 35% more than 2007 levels, though only 845,000 u.s. children (1.1%) saw reduced food intake or disrupted eating patterns at some point during the year, and most cases were not chronic. [383] in 2019, the largest source of the country's energy came from petroleum (36.6%), followed by natural gas (32%), coal (11.4%), renewable sources (11.4%) and nuclear power (8.4%). since the general election of 1856, the major parties have been the democratic party, founded in 1824, and the republican party, founded in 1854. since the civil war, only one third-party presidential candidate—former president theodore roosevelt, running as a progressive in 1912—has won as much as 20% of the popular vote, though the self-financed reform party campaign of ross perot took 18.9% in 1992. notable films topping the american film institute's afi 100 list include orson welles's citizen kane (1941), which is frequently cited as the greatest film of all time,[520][521] casablanca (1942), the godfather (1972), gone with the wind (1939), lawrence of arabia (1962), the wizard of oz (1939), the graduate (1967), on the waterfront (1954), schindler's list (1993), singin' in the rain (1952), it's a wonderful life (1946) and sunset boulevard (1950). [448]\\nof americans 25 and older, 84.6% graduated from high school, 52.6% attended some college, 27.2% earned a bachelor's degree, and 9.6% earned graduate degrees. other languages spoken at home by one million people or more include chinese (2.8 million), tagalog (1.6 million), vietnamese (1.4 million), french (1.3 million), korean (1.1 million), and german (1 million). [86] the 1803 louisiana purchase almost doubled the nation's area,[87] spain ceded florida and other gulf coast territory in 1819,[88] the republic of texas was annexed in 1845 during a period of expansionism,[89] and the 1846 oregon treaty with britain led to u.s. control of the present-day american northwest.\""
            ]
          },
          "metadata": {},
          "execution_count": 133
        }
      ]
    },
    {
      "cell_type": "code",
      "source": [
        ""
      ],
      "metadata": {
        "id": "pJvPkLVZCxk7"
      },
      "id": "pJvPkLVZCxk7",
      "execution_count": 104,
      "outputs": []
    },
    {
      "cell_type": "code",
      "source": [
        ""
      ],
      "metadata": {
        "id": "D2gQc38aBrsM"
      },
      "id": "D2gQc38aBrsM",
      "execution_count": 104,
      "outputs": []
    },
    {
      "cell_type": "markdown",
      "source": [
        "### LDA"
      ],
      "metadata": {
        "id": "hmBel7pdJMIm"
      },
      "id": "hmBel7pdJMIm"
    },
    {
      "cell_type": "code",
      "source": [
        ""
      ],
      "metadata": {
        "id": "Yn7-wB5lJNtH"
      },
      "id": "Yn7-wB5lJNtH",
      "execution_count": 104,
      "outputs": []
    },
    {
      "cell_type": "markdown",
      "id": "presidential-might",
      "metadata": {
        "id": "presidential-might"
      },
      "source": [
        "## Generate Feaure Matrixes and Summaries For BI-GRAM (2-GRAM) Occurence"
      ]
    },
    {
      "cell_type": "markdown",
      "source": [
        "### LSA"
      ],
      "metadata": {
        "id": "VVfqLgD5I7fI"
      },
      "id": "VVfqLgD5I7fI"
    },
    {
      "cell_type": "markdown",
      "id": "gorgeous-handy",
      "metadata": {
        "id": "gorgeous-handy"
      },
      "source": [
        "#### BOW"
      ]
    },
    {
      "cell_type": "code",
      "execution_count": 134,
      "id": "logical-lincoln",
      "metadata": {
        "colab": {
          "base_uri": "https://localhost:8080/",
          "height": 167
        },
        "id": "logical-lincoln",
        "outputId": "68550a73-6637-4985-c0f8-d7ab7450d089"
      },
      "outputs": [
        {
          "output_type": "execute_result",
          "data": {
            "application/vnd.google.colaboratory.intrinsic+json": {
              "type": "string"
            },
            "text/plain": [
              "'\\n\\ncoordinates: .mw-parser-output .geo-default,.mw-parser-output .geo-dms,.mw-parser-output .geo-dec{display:inline}.mw-parser-output .geo-nondefault,.mw-parser-output .geo-multi-punct{display:none}.mw-parser-output .longitude,.mw-parser-output .latitude{white-space:nowrap}40°n 100°w\\ufeff / \\ufeff40°n 100°w\\ufeff / 40; -100\\nthe united states of america (u.s.a. or usa), commonly known as the united states (u.s. or us) or america, is a country primarily located in north america. [533] in soccer (a sport that has gained a footing in the united states since the mid-1990s), the country hosted the 1994 fifa world cup, the men\\'s national soccer team qualified for ten world cups and the women\\'s team has won the fifa women\\'s world cup four times; major league soccer is the sport\\'s highest league in the united states (featuring 23 american and three canadian teams). [421]\\nthe centers for disease control and prevention (cdc) reported that the united states had an average life expectancy at birth of 77.3 years in 2020 (74.5 years for men and 80.2 years for women), down 1.5 years from 2019. according to provisional figures, this was the lowest average u.s. life expectancy recorded by the cdc since 2003, the first overall decline since 2018, and \"the largest one-year decline since world war ii.\" notable films topping the american film institute\\'s afi 100 list include orson welles\\'s citizen kane (1941), which is frequently cited as the greatest film of all time,[520][521] casablanca (1942), the godfather (1972), gone with the wind (1939), lawrence of arabia (1962), the wizard of oz (1939), the graduate (1967), on the waterfront (1954), schindler\\'s list (1993), singin\\' in the rain (1952), it\\'s a wonderful life (1946) and sunset boulevard (1950). since the general election of 1856, the major parties have been the democratic party, founded in 1824, and the republican party, founded in 1854. since the civil war, only one third-party presidential candidate—former president theodore roosevelt, running as a progressive in 1912—has won as much as 20% of the popular vote, though the self-financed reform party campaign of ross perot took 18.9% in 1992. [278] today, american forces can be rapidly deployed by the air force\\'s large fleet of transport aircraft, the navy\\'s 11 active aircraft carriers, and marine expeditionary units at sea with the navy, and army\\'s xviii airborne corps and 75th ranger regiment deployed by air force transport aircraft. [169] barack obama, the first multiracial[170] president, with african-american ancestry was elected in 2008 amid the crisis,[171] and subsequently passed american recovery and reinvestment act of 2009 economic stimulus and the dodd–frank wall street reform and consumer protection act in an attempt to mitigate its negative effects and ensure there would not be a repeat of the crisis. [164]\\ngovernment policy designed to promote affordable housing,[165] widespread failures in corporate and regulatory governance,[166] and historically low interest rates set by the federal reserve[167] led to the united states housing bubble in 2006, which culminated with the financial crisis of 2007–2008 and the great recession, the nation\\'s largest economic contraction since the great depression. [402] three states and four u.s. territories have recognized local or indigenous languages in addition to english, including hawaii (hawaiian),[403] alaska (twenty native languages),[j][404] south dakota (sioux),[405] american samoa (samoan), puerto rico (spanish), guam (chamorro), and the northern mariana islands (carolinian and chamorro). [427][428]\\nincreasing obesity in the united states and improvements in health and longevity outside the u.s. contributed to lowering the country\\'s rank in life expectancy from 11th in the world in 1987 to 42nd in 2007. in 2017, the united states had the lowest life expectancy among japan, canada, australia, the united kingdom, and seven nations in western europe.'"
            ]
          },
          "metadata": {},
          "execution_count": 134
        }
      ],
      "source": [
        "bow_2gram_summary = generate_bow_summary(article_st, pp_article_st, N_LINE, (2,2))\n",
        "bow_2gram_summary"
      ]
    },
    {
      "cell_type": "markdown",
      "id": "operational-request",
      "metadata": {
        "id": "operational-request"
      },
      "source": [
        "#### TF-IDF"
      ]
    },
    {
      "cell_type": "code",
      "execution_count": 135,
      "id": "downtown-earth",
      "metadata": {
        "colab": {
          "base_uri": "https://localhost:8080/",
          "height": 167
        },
        "id": "downtown-earth",
        "outputId": "cf7706f9-2102-48ed-8157-350ec6fc7b3d"
      },
      "outputs": [
        {
          "output_type": "execute_result",
          "data": {
            "application/vnd.google.colaboratory.intrinsic+json": {
              "type": "string"
            },
            "text/plain": [
              "\"it is a permanent member of the united nations security council, and new york city is home to the united nations headquarters. it is a permanent member of the united nations security council. the district of columbia and the five major u.s. territories do not have senators. the united states is one of the few countries in the world to do so. by value, the united states is the world's largest importer and second-largest exporter of goods. the district of columbia and the five major u.s. territories each have one member of congress—these members are not allowed to vote. the united states has the world's largest christian population. the spanish–american war and world war i established the u.s. as a world power, and the aftermath of world war ii left the united states and the soviet union as the world's two superpowers. the national capital is washington, d.c., and the most populous city is new york city. [213]\\nthe united states is a federal republic of 50 states, a federal district, five territories and several uninhabited island possessions.\""
            ]
          },
          "metadata": {},
          "execution_count": 135
        }
      ],
      "source": [
        "tfidf_2gram_summary = generate_tfidf_summary(article_st, pp_article_st, N_LINE, (2,2))\n",
        "tfidf_2gram_summary"
      ]
    },
    {
      "cell_type": "code",
      "execution_count": 106,
      "id": "allied-creator",
      "metadata": {
        "id": "allied-creator"
      },
      "outputs": [],
      "source": [
        ""
      ]
    },
    {
      "cell_type": "markdown",
      "source": [
        "#### Word-Embeddings"
      ],
      "metadata": {
        "id": "S5OjqFi0b99j"
      },
      "id": "S5OjqFi0b99j"
    },
    {
      "cell_type": "code",
      "source": [
        "wemb_2gram_summary = generate_word_embedding_summary(article_st, pp_article_st, summary_size = 10, ngram = 2)\n",
        "wemb_2gram_summary"
      ],
      "metadata": {
        "id": "GIciQeiVJ8yy",
        "colab": {
          "base_uri": "https://localhost:8080/",
          "height": 167
        },
        "outputId": "f8b1409b-d846-41ca-a549-1c729b414abb"
      },
      "id": "GIciQeiVJ8yy",
      "execution_count": 145,
      "outputs": [
        {
          "output_type": "execute_result",
          "data": {
            "application/vnd.google.colaboratory.intrinsic+json": {
              "type": "string"
            },
            "text/plain": [
              "\"[288] defense's share of the overall u.s. economy has generally declined in recent decades, from early cold war peaks of 14.2% of gdp in 1953 and 69.5% of federal spending in 1954 to 4.7% of gdp and 18.8% of federal spending in 2011. [543]\\nin 1998, the number of u.s. commercial radio stations had grown to 4,793 am stations and 5,662 fm stations. [86] the 1803 louisiana purchase almost doubled the nation's area,[87] spain ceded florida and other gulf coast territory in 1819,[88] the republic of texas was annexed in 1845 during a period of expansionism,[89] and the 1846 oregon treaty with britain led to u.s. control of the present-day american northwest. [360][361][362][363] in 2011, 16.7 million children lived in food-insecure households, about 35% more than 2007 levels, though only 845,000 u.s. children (1.1%) saw reduced food intake or disrupted eating patterns at some point during the year, and most cases were not chronic. since the general election of 1856, the major parties have been the democratic party, founded in 1824, and the republican party, founded in 1854. since the civil war, only one third-party presidential candidate—former president theodore roosevelt, running as a progressive in 1912—has won as much as 20% of the popular vote, though the self-financed reform party campaign of ross perot took 18.9% in 1992. [383] in 2019, the largest source of the country's energy came from petroleum (36.6%), followed by natural gas (32%), coal (11.4%), renewable sources (11.4%) and nuclear power (8.4%). while president lincoln attempted to foster friendship and forgiveness between the union and the former confederacy, his assassination on april 14, 1865 drove a wedge between north and south again. [373] the united states has the world's second-largest automobile market,[374] and has the highest vehicle ownership per capita in the world, with 816.4 vehicles per 1,000 americans (2014). notable films topping the american film institute's afi 100 list include orson welles's citizen kane (1941), which is frequently cited as the greatest film of all time,[520][521] casablanca (1942), the godfather (1972), gone with the wind (1939), lawrence of arabia (1962), the wizard of oz (1939), the graduate (1967), on the waterfront (1954), schindler's list (1993), singin' in the rain (1952), it's a wonderful life (1946) and sunset boulevard (1950). [391]\\nin 2017, out of the u.s. foreign-born population, some 45% (20.7 million) were naturalized citizens, 27% (12.3 million) were lawful permanent residents, 6% (2.2 million) were temporary lawful residents, and 23% (10.5 million) were unauthorized immigrants.\""
            ]
          },
          "metadata": {},
          "execution_count": 145
        }
      ]
    },
    {
      "cell_type": "code",
      "source": [
        ""
      ],
      "metadata": {
        "id": "pCcpN_mLcAc6"
      },
      "id": "pCcpN_mLcAc6",
      "execution_count": 145,
      "outputs": []
    },
    {
      "cell_type": "markdown",
      "id": "changed-exhaust",
      "metadata": {
        "id": "changed-exhaust"
      },
      "source": [
        "## Generate Feaure Matrixes and Summaries For Tri-GRAM (3-GRAM) Occurence"
      ]
    },
    {
      "cell_type": "markdown",
      "source": [
        "### LSA"
      ],
      "metadata": {
        "id": "AKVlrqWS_Ml2"
      },
      "id": "AKVlrqWS_Ml2"
    },
    {
      "cell_type": "markdown",
      "source": [
        "#### BOW"
      ],
      "metadata": {
        "id": "d4RLFIyb_Ho8"
      },
      "id": "d4RLFIyb_Ho8"
    },
    {
      "cell_type": "code",
      "execution_count": 146,
      "id": "organizational-conducting",
      "metadata": {
        "colab": {
          "base_uri": "https://localhost:8080/",
          "height": 167
        },
        "id": "organizational-conducting",
        "outputId": "32b205b6-8560-44f1-a394-92c81be7223e"
      },
      "outputs": [
        {
          "output_type": "execute_result",
          "data": {
            "application/vnd.google.colaboratory.intrinsic+json": {
              "type": "string"
            },
            "text/plain": [
              "'\\n\\ncoordinates: .mw-parser-output .geo-default,.mw-parser-output .geo-dms,.mw-parser-output .geo-dec{display:inline}.mw-parser-output .geo-nondefault,.mw-parser-output .geo-multi-punct{display:none}.mw-parser-output .longitude,.mw-parser-output .latitude{white-space:nowrap}40°n 100°w\\ufeff / \\ufeff40°n 100°w\\ufeff / 40; -100\\nthe united states of america (u.s.a. or usa), commonly known as the united states (u.s. or us) or america, is a country primarily located in north america. notable films topping the american film institute\\'s afi 100 list include orson welles\\'s citizen kane (1941), which is frequently cited as the greatest film of all time,[520][521] casablanca (1942), the godfather (1972), gone with the wind (1939), lawrence of arabia (1962), the wizard of oz (1939), the graduate (1967), on the waterfront (1954), schindler\\'s list (1993), singin\\' in the rain (1952), it\\'s a wonderful life (1946) and sunset boulevard (1950). [421]\\nthe centers for disease control and prevention (cdc) reported that the united states had an average life expectancy at birth of 77.3 years in 2020 (74.5 years for men and 80.2 years for women), down 1.5 years from 2019. according to provisional figures, this was the lowest average u.s. life expectancy recorded by the cdc since 2003, the first overall decline since 2018, and \"the largest one-year decline since world war ii.\" [533] in soccer (a sport that has gained a footing in the united states since the mid-1990s), the country hosted the 1994 fifa world cup, the men\\'s national soccer team qualified for ten world cups and the women\\'s team has won the fifa women\\'s world cup four times; major league soccer is the sport\\'s highest league in the united states (featuring 23 american and three canadian teams). since the general election of 1856, the major parties have been the democratic party, founded in 1824, and the republican party, founded in 1854. since the civil war, only one third-party presidential candidate—former president theodore roosevelt, running as a progressive in 1912—has won as much as 20% of the popular vote, though the self-financed reform party campaign of ross perot took 18.9% in 1992. [164]\\ngovernment policy designed to promote affordable housing,[165] widespread failures in corporate and regulatory governance,[166] and historically low interest rates set by the federal reserve[167] led to the united states housing bubble in 2006, which culminated with the financial crisis of 2007–2008 and the great recession, the nation\\'s largest economic contraction since the great depression. [169] barack obama, the first multiracial[170] president, with african-american ancestry was elected in 2008 amid the crisis,[171] and subsequently passed american recovery and reinvestment act of 2009 economic stimulus and the dodd–frank wall street reform and consumer protection act in an attempt to mitigate its negative effects and ensure there would not be a repeat of the crisis. [296] the department of justice said that the imprisonment rate for all prisoners sentenced to more than a year in state or federal facilities in 2019 stood at 419 per 100,000 residents which was at its lowest point since 1995 and that the total prison population for the same year stood at 1,430,800 which represented an 11% decrease in the population size from a decade earlier. [278] today, american forces can be rapidly deployed by the air force\\'s large fleet of transport aircraft, the navy\\'s 11 active aircraft carriers, and marine expeditionary units at sea with the navy, and army\\'s xviii airborne corps and 75th ranger regiment deployed by air force transport aircraft. [427][428]\\nincreasing obesity in the united states and improvements in health and longevity outside the u.s. contributed to lowering the country\\'s rank in life expectancy from 11th in the world in 1987 to 42nd in 2007. in 2017, the united states had the lowest life expectancy among japan, canada, australia, the united kingdom, and seven nations in western europe.'"
            ]
          },
          "metadata": {},
          "execution_count": 146
        }
      ],
      "source": [
        "bow_3gram_summary = generate_bow_summary(article_st, pp_article_st, N_LINE, (3,3))\n",
        "bow_3gram_summary"
      ]
    },
    {
      "cell_type": "markdown",
      "id": "drawn-ethnic",
      "metadata": {
        "id": "drawn-ethnic"
      },
      "source": [
        "#### TF-IDF"
      ]
    },
    {
      "cell_type": "code",
      "execution_count": 147,
      "id": "academic-mother",
      "metadata": {
        "id": "academic-mother",
        "colab": {
          "base_uri": "https://localhost:8080/",
          "height": 167
        },
        "outputId": "974df4a1-7fd3-4c5d-fcf1-9ae113cc86cc"
      },
      "outputs": [
        {
          "output_type": "execute_result",
          "data": {
            "application/vnd.google.colaboratory.intrinsic+json": {
              "type": "string"
            },
            "text/plain": [
              "\"it is a permanent member of the united nations security council. it is a permanent member of the united nations security council, and new york city is home to the united nations headquarters. the district of columbia and the five major u.s. territories do not have senators. the district of columbia and the five major u.s. territories each have one member of congress—these members are not allowed to vote. [548]\\nmore than 800 publications are produced in spanish, the second most commonly used language in the united states behind english. more than 37 million spoke spanish at home, making it the second most commonly used language in the united states. the united states is one of the few countries in the world to do so. the united states has the world's largest christian population. [231] the states and the district of columbia choose the president of the united states. by value, the united states is the world's largest importer and second-largest exporter of goods.\""
            ]
          },
          "metadata": {},
          "execution_count": 147
        }
      ],
      "source": [
        "tfidf_3gram_summary = generate_tfidf_summary(article_st, pp_article_st, N_LINE, (3,3))\n",
        "tfidf_3gram_summary"
      ]
    },
    {
      "cell_type": "code",
      "source": [
        ""
      ],
      "metadata": {
        "id": "t0EaLOFP64NW"
      },
      "id": "t0EaLOFP64NW",
      "execution_count": null,
      "outputs": []
    },
    {
      "cell_type": "markdown",
      "source": [
        "#### Word-Embeddings"
      ],
      "metadata": {
        "id": "XE3MybHl66EU"
      },
      "id": "XE3MybHl66EU"
    },
    {
      "cell_type": "code",
      "source": [
        "wemb_3gram_summary = generate_word_embedding_summary(article_st, pp_article_st, summary_size = 10, ngram = 3)\n",
        "wemb_3gram_summary"
      ],
      "metadata": {
        "colab": {
          "base_uri": "https://localhost:8080/",
          "height": 167
        },
        "id": "1sN4DN0q6_fo",
        "outputId": "d563b97c-64a8-4474-9c45-69d00075d330"
      },
      "id": "1sN4DN0q6_fo",
      "execution_count": 148,
      "outputs": [
        {
          "output_type": "execute_result",
          "data": {
            "application/vnd.google.colaboratory.intrinsic+json": {
              "type": "string"
            },
            "text/plain": [
              "\"[288] defense's share of the overall u.s. economy has generally declined in recent decades, from early cold war peaks of 14.2% of gdp in 1953 and 69.5% of federal spending in 1954 to 4.7% of gdp and 18.8% of federal spending in 2011. [543]\\nin 1998, the number of u.s. commercial radio stations had grown to 4,793 am stations and 5,662 fm stations. [86] the 1803 louisiana purchase almost doubled the nation's area,[87] spain ceded florida and other gulf coast territory in 1819,[88] the republic of texas was annexed in 1845 during a period of expansionism,[89] and the 1846 oregon treaty with britain led to u.s. control of the present-day american northwest. [360][361][362][363] in 2011, 16.7 million children lived in food-insecure households, about 35% more than 2007 levels, though only 845,000 u.s. children (1.1%) saw reduced food intake or disrupted eating patterns at some point during the year, and most cases were not chronic. since the general election of 1856, the major parties have been the democratic party, founded in 1824, and the republican party, founded in 1854. since the civil war, only one third-party presidential candidate—former president theodore roosevelt, running as a progressive in 1912—has won as much as 20% of the popular vote, though the self-financed reform party campaign of ross perot took 18.9% in 1992. [383] in 2019, the largest source of the country's energy came from petroleum (36.6%), followed by natural gas (32%), coal (11.4%), renewable sources (11.4%) and nuclear power (8.4%). while president lincoln attempted to foster friendship and forgiveness between the union and the former confederacy, his assassination on april 14, 1865 drove a wedge between north and south again. [373] the united states has the world's second-largest automobile market,[374] and has the highest vehicle ownership per capita in the world, with 816.4 vehicles per 1,000 americans (2014). notable films topping the american film institute's afi 100 list include orson welles's citizen kane (1941), which is frequently cited as the greatest film of all time,[520][521] casablanca (1942), the godfather (1972), gone with the wind (1939), lawrence of arabia (1962), the wizard of oz (1939), the graduate (1967), on the waterfront (1954), schindler's list (1993), singin' in the rain (1952), it's a wonderful life (1946) and sunset boulevard (1950). [391]\\nin 2017, out of the u.s. foreign-born population, some 45% (20.7 million) were naturalized citizens, 27% (12.3 million) were lawful permanent residents, 6% (2.2 million) were temporary lawful residents, and 23% (10.5 million) were unauthorized immigrants.\""
            ]
          },
          "metadata": {},
          "execution_count": 148
        }
      ]
    },
    {
      "cell_type": "code",
      "source": [
        ""
      ],
      "metadata": {
        "id": "vrf0W65C-thV"
      },
      "id": "vrf0W65C-thV",
      "execution_count": 148,
      "outputs": []
    },
    {
      "cell_type": "markdown",
      "id": "banner-transmission",
      "metadata": {
        "id": "banner-transmission"
      },
      "source": [
        "## Generate Feaure Matrixes and Summaries For (4-GRAM) Occurence"
      ]
    },
    {
      "cell_type": "markdown",
      "source": [
        "### LSA"
      ],
      "metadata": {
        "id": "2QD1ADbi_Xbf"
      },
      "id": "2QD1ADbi_Xbf"
    },
    {
      "cell_type": "markdown",
      "id": "grateful-purpose",
      "metadata": {
        "id": "grateful-purpose"
      },
      "source": [
        "#### BOW"
      ]
    },
    {
      "cell_type": "code",
      "execution_count": 149,
      "id": "military-bacon",
      "metadata": {
        "colab": {
          "base_uri": "https://localhost:8080/",
          "height": 167
        },
        "id": "military-bacon",
        "outputId": "c97c296d-17f0-4c5a-c094-1c894771fd44"
      },
      "outputs": [
        {
          "output_type": "execute_result",
          "data": {
            "application/vnd.google.colaboratory.intrinsic+json": {
              "type": "string"
            },
            "text/plain": [
              "'\\n\\ncoordinates: .mw-parser-output .geo-default,.mw-parser-output .geo-dms,.mw-parser-output .geo-dec{display:inline}.mw-parser-output .geo-nondefault,.mw-parser-output .geo-multi-punct{display:none}.mw-parser-output .longitude,.mw-parser-output .latitude{white-space:nowrap}40°n 100°w\\ufeff / \\ufeff40°n 100°w\\ufeff / 40; -100\\nthe united states of america (u.s.a. or usa), commonly known as the united states (u.s. or us) or america, is a country primarily located in north america. notable films topping the american film institute\\'s afi 100 list include orson welles\\'s citizen kane (1941), which is frequently cited as the greatest film of all time,[520][521] casablanca (1942), the godfather (1972), gone with the wind (1939), lawrence of arabia (1962), the wizard of oz (1939), the graduate (1967), on the waterfront (1954), schindler\\'s list (1993), singin\\' in the rain (1952), it\\'s a wonderful life (1946) and sunset boulevard (1950). [421]\\nthe centers for disease control and prevention (cdc) reported that the united states had an average life expectancy at birth of 77.3 years in 2020 (74.5 years for men and 80.2 years for women), down 1.5 years from 2019. according to provisional figures, this was the lowest average u.s. life expectancy recorded by the cdc since 2003, the first overall decline since 2018, and \"the largest one-year decline since world war ii.\" [533] in soccer (a sport that has gained a footing in the united states since the mid-1990s), the country hosted the 1994 fifa world cup, the men\\'s national soccer team qualified for ten world cups and the women\\'s team has won the fifa women\\'s world cup four times; major league soccer is the sport\\'s highest league in the united states (featuring 23 american and three canadian teams). since the general election of 1856, the major parties have been the democratic party, founded in 1824, and the republican party, founded in 1854. since the civil war, only one third-party presidential candidate—former president theodore roosevelt, running as a progressive in 1912—has won as much as 20% of the popular vote, though the self-financed reform party campaign of ross perot took 18.9% in 1992. [164]\\ngovernment policy designed to promote affordable housing,[165] widespread failures in corporate and regulatory governance,[166] and historically low interest rates set by the federal reserve[167] led to the united states housing bubble in 2006, which culminated with the financial crisis of 2007–2008 and the great recession, the nation\\'s largest economic contraction since the great depression. [169] barack obama, the first multiracial[170] president, with african-american ancestry was elected in 2008 amid the crisis,[171] and subsequently passed american recovery and reinvestment act of 2009 economic stimulus and the dodd–frank wall street reform and consumer protection act in an attempt to mitigate its negative effects and ensure there would not be a repeat of the crisis. [296] the department of justice said that the imprisonment rate for all prisoners sentenced to more than a year in state or federal facilities in 2019 stood at 419 per 100,000 residents which was at its lowest point since 1995 and that the total prison population for the same year stood at 1,430,800 which represented an 11% decrease in the population size from a decade earlier. [427][428]\\nincreasing obesity in the united states and improvements in health and longevity outside the u.s. contributed to lowering the country\\'s rank in life expectancy from 11th in the world in 1987 to 42nd in 2007. in 2017, the united states had the lowest life expectancy among japan, canada, australia, the united kingdom, and seven nations in western europe. [480] a work seen as capturing fundamental aspects of the national experience and character—such as herman melville\\'s moby-dick (1851), twain\\'s the adventures of huckleberry finn (1885), f. scott fitzgerald\\'s the great gatsby (1925) and harper lee\\'s to kill a mockingbird (1960)—may be dubbed the \"great american novel.'"
            ]
          },
          "metadata": {},
          "execution_count": 149
        }
      ],
      "source": [
        "bow_4gram_summary = generate_bow_summary(article_st, pp_article_st, N_LINE, (4,4))\n",
        "bow_4gram_summary"
      ]
    },
    {
      "cell_type": "code",
      "execution_count": 149,
      "id": "dominant-struggle",
      "metadata": {
        "id": "dominant-struggle"
      },
      "outputs": [],
      "source": [
        ""
      ]
    },
    {
      "cell_type": "markdown",
      "id": "israeli-salvation",
      "metadata": {
        "id": "israeli-salvation"
      },
      "source": [
        "#### TF-IDF"
      ]
    },
    {
      "cell_type": "code",
      "execution_count": 150,
      "id": "exceptional-interval",
      "metadata": {
        "colab": {
          "base_uri": "https://localhost:8080/",
          "height": 167
        },
        "id": "exceptional-interval",
        "outputId": "9a10423a-18ae-4382-ba20-c644dee63a3d"
      },
      "outputs": [
        {
          "output_type": "execute_result",
          "data": {
            "application/vnd.google.colaboratory.intrinsic+json": {
              "type": "string"
            },
            "text/plain": [
              "'it is a permanent member of the united nations security council. it is a permanent member of the united nations security council, and new york city is home to the united nations headquarters. the district of columbia and the five major u.s. territories each have one member of congress—these members are not allowed to vote. the district of columbia and the five major u.s. territories do not have senators. [548]\\nmore than 800 publications are produced in spanish, the second most commonly used language in the united states behind english. more than 37 million spoke spanish at home, making it the second most commonly used language in the united states. it consists of 50 states, a federal district, five major unincorporated territories, 326 indian reservations, and some minor possessions. [213]\\nthe united states is a federal republic of 50 states, a federal district, five territories and several uninhabited island possessions. [132][133]\\nafter world war ii, the united states and the soviet union competed for power, influence, and prestige during what became known as the cold war, driven by an ideological divide between capitalism and communism. [33]\\nit has been generally accepted that the first inhabitants of north america migrated from siberia by way of the bering land bridge and arrived at least 12,000 years ago; however, some evidence suggests an even earlier date of arrival.'"
            ]
          },
          "metadata": {},
          "execution_count": 150
        }
      ],
      "source": [
        "tfidf_4gram_summary = generate_tfidf_summary(article_st, pp_article_st, N_LINE, (4,4))\n",
        "tfidf_4gram_summary"
      ]
    },
    {
      "cell_type": "code",
      "execution_count": 150,
      "id": "loved-vision",
      "metadata": {
        "id": "loved-vision"
      },
      "outputs": [],
      "source": [
        ""
      ]
    },
    {
      "cell_type": "markdown",
      "source": [
        "#### Word-Embeddings"
      ],
      "metadata": {
        "id": "OewDm5BN7Qbc"
      },
      "id": "OewDm5BN7Qbc"
    },
    {
      "cell_type": "code",
      "source": [
        "wemb_4gram_summary = generate_word_embedding_summary(article_st, pp_article_st, summary_size = 10, ngram = 4)\n",
        "wemb_4gram_summary"
      ],
      "metadata": {
        "colab": {
          "base_uri": "https://localhost:8080/",
          "height": 167
        },
        "id": "0CmaqN-t7Uow",
        "outputId": "badcb890-d5fe-4440-d45d-57f595c51c19"
      },
      "id": "0CmaqN-t7Uow",
      "execution_count": 151,
      "outputs": [
        {
          "output_type": "execute_result",
          "data": {
            "application/vnd.google.colaboratory.intrinsic+json": {
              "type": "string"
            },
            "text/plain": [
              "\"[288] defense's share of the overall u.s. economy has generally declined in recent decades, from early cold war peaks of 14.2% of gdp in 1953 and 69.5% of federal spending in 1954 to 4.7% of gdp and 18.8% of federal spending in 2011. [543]\\nin 1998, the number of u.s. commercial radio stations had grown to 4,793 am stations and 5,662 fm stations. [86] the 1803 louisiana purchase almost doubled the nation's area,[87] spain ceded florida and other gulf coast territory in 1819,[88] the republic of texas was annexed in 1845 during a period of expansionism,[89] and the 1846 oregon treaty with britain led to u.s. control of the present-day american northwest. [360][361][362][363] in 2011, 16.7 million children lived in food-insecure households, about 35% more than 2007 levels, though only 845,000 u.s. children (1.1%) saw reduced food intake or disrupted eating patterns at some point during the year, and most cases were not chronic. since the general election of 1856, the major parties have been the democratic party, founded in 1824, and the republican party, founded in 1854. since the civil war, only one third-party presidential candidate—former president theodore roosevelt, running as a progressive in 1912—has won as much as 20% of the popular vote, though the self-financed reform party campaign of ross perot took 18.9% in 1992. [383] in 2019, the largest source of the country's energy came from petroleum (36.6%), followed by natural gas (32%), coal (11.4%), renewable sources (11.4%) and nuclear power (8.4%). while president lincoln attempted to foster friendship and forgiveness between the union and the former confederacy, his assassination on april 14, 1865 drove a wedge between north and south again. [373] the united states has the world's second-largest automobile market,[374] and has the highest vehicle ownership per capita in the world, with 816.4 vehicles per 1,000 americans (2014). notable films topping the american film institute's afi 100 list include orson welles's citizen kane (1941), which is frequently cited as the greatest film of all time,[520][521] casablanca (1942), the godfather (1972), gone with the wind (1939), lawrence of arabia (1962), the wizard of oz (1939), the graduate (1967), on the waterfront (1954), schindler's list (1993), singin' in the rain (1952), it's a wonderful life (1946) and sunset boulevard (1950). [391]\\nin 2017, out of the u.s. foreign-born population, some 45% (20.7 million) were naturalized citizens, 27% (12.3 million) were lawful permanent residents, 6% (2.2 million) were temporary lawful residents, and 23% (10.5 million) were unauthorized immigrants.\""
            ]
          },
          "metadata": {},
          "execution_count": 151
        }
      ]
    },
    {
      "cell_type": "code",
      "source": [
        ""
      ],
      "metadata": {
        "id": "pDFwxPWB7WXR"
      },
      "id": "pDFwxPWB7WXR",
      "execution_count": 151,
      "outputs": []
    },
    {
      "cell_type": "markdown",
      "id": "logical-patrick",
      "metadata": {
        "id": "logical-patrick"
      },
      "source": [
        "## Generate Feaure Matrixes and Summaries For (5-GRAM) Occurence"
      ]
    },
    {
      "cell_type": "markdown",
      "source": [
        "### LSA"
      ],
      "metadata": {
        "id": "rgIzrtsM_jpR"
      },
      "id": "rgIzrtsM_jpR"
    },
    {
      "cell_type": "markdown",
      "id": "detected-beijing",
      "metadata": {
        "id": "detected-beijing"
      },
      "source": [
        "#### BOW"
      ]
    },
    {
      "cell_type": "code",
      "execution_count": 152,
      "id": "retired-inspection",
      "metadata": {
        "colab": {
          "base_uri": "https://localhost:8080/",
          "height": 167
        },
        "id": "retired-inspection",
        "outputId": "16cf0cec-8785-4169-c976-ac5462b097c7"
      },
      "outputs": [
        {
          "output_type": "execute_result",
          "data": {
            "application/vnd.google.colaboratory.intrinsic+json": {
              "type": "string"
            },
            "text/plain": [
              "'\\n\\ncoordinates: .mw-parser-output .geo-default,.mw-parser-output .geo-dms,.mw-parser-output .geo-dec{display:inline}.mw-parser-output .geo-nondefault,.mw-parser-output .geo-multi-punct{display:none}.mw-parser-output .longitude,.mw-parser-output .latitude{white-space:nowrap}40°n 100°w\\ufeff / \\ufeff40°n 100°w\\ufeff / 40; -100\\nthe united states of america (u.s.a. or usa), commonly known as the united states (u.s. or us) or america, is a country primarily located in north america. notable films topping the american film institute\\'s afi 100 list include orson welles\\'s citizen kane (1941), which is frequently cited as the greatest film of all time,[520][521] casablanca (1942), the godfather (1972), gone with the wind (1939), lawrence of arabia (1962), the wizard of oz (1939), the graduate (1967), on the waterfront (1954), schindler\\'s list (1993), singin\\' in the rain (1952), it\\'s a wonderful life (1946) and sunset boulevard (1950). [421]\\nthe centers for disease control and prevention (cdc) reported that the united states had an average life expectancy at birth of 77.3 years in 2020 (74.5 years for men and 80.2 years for women), down 1.5 years from 2019. according to provisional figures, this was the lowest average u.s. life expectancy recorded by the cdc since 2003, the first overall decline since 2018, and \"the largest one-year decline since world war ii.\" [533] in soccer (a sport that has gained a footing in the united states since the mid-1990s), the country hosted the 1994 fifa world cup, the men\\'s national soccer team qualified for ten world cups and the women\\'s team has won the fifa women\\'s world cup four times; major league soccer is the sport\\'s highest league in the united states (featuring 23 american and three canadian teams). since the general election of 1856, the major parties have been the democratic party, founded in 1824, and the republican party, founded in 1854. since the civil war, only one third-party presidential candidate—former president theodore roosevelt, running as a progressive in 1912—has won as much as 20% of the popular vote, though the self-financed reform party campaign of ross perot took 18.9% in 1992. [164]\\ngovernment policy designed to promote affordable housing,[165] widespread failures in corporate and regulatory governance,[166] and historically low interest rates set by the federal reserve[167] led to the united states housing bubble in 2006, which culminated with the financial crisis of 2007–2008 and the great recession, the nation\\'s largest economic contraction since the great depression. [169] barack obama, the first multiracial[170] president, with african-american ancestry was elected in 2008 amid the crisis,[171] and subsequently passed american recovery and reinvestment act of 2009 economic stimulus and the dodd–frank wall street reform and consumer protection act in an attempt to mitigate its negative effects and ensure there would not be a repeat of the crisis. [296] the department of justice said that the imprisonment rate for all prisoners sentenced to more than a year in state or federal facilities in 2019 stood at 419 per 100,000 residents which was at its lowest point since 1995 and that the total prison population for the same year stood at 1,430,800 which represented an 11% decrease in the population size from a decade earlier. [427][428]\\nincreasing obesity in the united states and improvements in health and longevity outside the u.s. contributed to lowering the country\\'s rank in life expectancy from 11th in the world in 1987 to 42nd in 2007. in 2017, the united states had the lowest life expectancy among japan, canada, australia, the united kingdom, and seven nations in western europe. [480] a work seen as capturing fundamental aspects of the national experience and character—such as herman melville\\'s moby-dick (1851), twain\\'s the adventures of huckleberry finn (1885), f. scott fitzgerald\\'s the great gatsby (1925) and harper lee\\'s to kill a mockingbird (1960)—may be dubbed the \"great american novel.'"
            ]
          },
          "metadata": {},
          "execution_count": 152
        }
      ],
      "source": [
        "bow_5gram_summary = generate_bow_summary(article_st, pp_article_st, N_LINE, (5,5))\n",
        "bow_5gram_summary"
      ]
    },
    {
      "cell_type": "markdown",
      "id": "ecological-composite",
      "metadata": {
        "id": "ecological-composite"
      },
      "source": [
        "#### TF-IDF"
      ]
    },
    {
      "cell_type": "code",
      "execution_count": 153,
      "id": "placed-division",
      "metadata": {
        "colab": {
          "base_uri": "https://localhost:8080/",
          "height": 167
        },
        "id": "placed-division",
        "outputId": "f11dca92-d6f1-4981-e408-c5036380643f"
      },
      "outputs": [
        {
          "output_type": "execute_result",
          "data": {
            "application/vnd.google.colaboratory.intrinsic+json": {
              "type": "string"
            },
            "text/plain": [
              "'it is a permanent member of the united nations security council. it is a permanent member of the united nations security council, and new york city is home to the united nations headquarters. the district of columbia and the five major u.s. territories do not have senators. the district of columbia and the five major u.s. territories each have one member of congress—these members are not allowed to vote. [548]\\nmore than 800 publications are produced in spanish, the second most commonly used language in the united states behind english. more than 37 million spoke spanish at home, making it the second most commonly used language in the united states. [213]\\nthe united states is a federal republic of 50 states, a federal district, five territories and several uninhabited island possessions. it consists of 50 states, a federal district, five major unincorporated territories, 326 indian reservations, and some minor possessions. [132][133]\\nafter world war ii, the united states and the soviet union competed for power, influence, and prestige during what became known as the cold war, driven by an ideological divide between capitalism and communism. [120]\\nat first effectively neutral during world war ii, the united states began supplying materiel to the allies in march 1941 through the lend-lease program.'"
            ]
          },
          "metadata": {},
          "execution_count": 153
        }
      ],
      "source": [
        "tfidf_5gram_summary = generate_tfidf_summary(article_st, pp_article_st, N_LINE, (5,5))\n",
        "tfidf_5gram_summary"
      ]
    },
    {
      "cell_type": "code",
      "execution_count": 144,
      "id": "unnecessary-architect",
      "metadata": {
        "id": "unnecessary-architect"
      },
      "outputs": [],
      "source": [
        ""
      ]
    },
    {
      "cell_type": "markdown",
      "source": [
        "#### Word-Embeddings"
      ],
      "metadata": {
        "id": "RlY_Lz8X7fmZ"
      },
      "id": "RlY_Lz8X7fmZ"
    },
    {
      "cell_type": "code",
      "source": [
        "wemb_5gram_summary = generate_word_embedding_summary(article_st, pp_article_st, summary_size = 10, ngram = 5)\n",
        "wemb_5gram_summary"
      ],
      "metadata": {
        "id": "wplntlkUYhM7",
        "colab": {
          "base_uri": "https://localhost:8080/",
          "height": 167
        },
        "outputId": "896aea63-644d-4d9d-e5fd-df7bddbfffeb"
      },
      "id": "wplntlkUYhM7",
      "execution_count": 154,
      "outputs": [
        {
          "output_type": "execute_result",
          "data": {
            "application/vnd.google.colaboratory.intrinsic+json": {
              "type": "string"
            },
            "text/plain": [
              "\"[288] defense's share of the overall u.s. economy has generally declined in recent decades, from early cold war peaks of 14.2% of gdp in 1953 and 69.5% of federal spending in 1954 to 4.7% of gdp and 18.8% of federal spending in 2011. [543]\\nin 1998, the number of u.s. commercial radio stations had grown to 4,793 am stations and 5,662 fm stations. [86] the 1803 louisiana purchase almost doubled the nation's area,[87] spain ceded florida and other gulf coast territory in 1819,[88] the republic of texas was annexed in 1845 during a period of expansionism,[89] and the 1846 oregon treaty with britain led to u.s. control of the present-day american northwest. [360][361][362][363] in 2011, 16.7 million children lived in food-insecure households, about 35% more than 2007 levels, though only 845,000 u.s. children (1.1%) saw reduced food intake or disrupted eating patterns at some point during the year, and most cases were not chronic. since the general election of 1856, the major parties have been the democratic party, founded in 1824, and the republican party, founded in 1854. since the civil war, only one third-party presidential candidate—former president theodore roosevelt, running as a progressive in 1912—has won as much as 20% of the popular vote, though the self-financed reform party campaign of ross perot took 18.9% in 1992. [383] in 2019, the largest source of the country's energy came from petroleum (36.6%), followed by natural gas (32%), coal (11.4%), renewable sources (11.4%) and nuclear power (8.4%). while president lincoln attempted to foster friendship and forgiveness between the union and the former confederacy, his assassination on april 14, 1865 drove a wedge between north and south again. [373] the united states has the world's second-largest automobile market,[374] and has the highest vehicle ownership per capita in the world, with 816.4 vehicles per 1,000 americans (2014). notable films topping the american film institute's afi 100 list include orson welles's citizen kane (1941), which is frequently cited as the greatest film of all time,[520][521] casablanca (1942), the godfather (1972), gone with the wind (1939), lawrence of arabia (1962), the wizard of oz (1939), the graduate (1967), on the waterfront (1954), schindler's list (1993), singin' in the rain (1952), it's a wonderful life (1946) and sunset boulevard (1950). [391]\\nin 2017, out of the u.s. foreign-born population, some 45% (20.7 million) were naturalized citizens, 27% (12.3 million) were lawful permanent residents, 6% (2.2 million) were temporary lawful residents, and 23% (10.5 million) were unauthorized immigrants.\""
            ]
          },
          "metadata": {},
          "execution_count": 154
        }
      ]
    },
    {
      "cell_type": "code",
      "source": [
        ""
      ],
      "metadata": {
        "id": "HQx1LOUoYlNX"
      },
      "id": "HQx1LOUoYlNX",
      "execution_count": 154,
      "outputs": []
    },
    {
      "cell_type": "markdown",
      "id": "fundamental-solid",
      "metadata": {
        "id": "fundamental-solid"
      },
      "source": [
        "## Summaries Generated Via Survery"
      ]
    },
    {
      "cell_type": "code",
      "execution_count": 155,
      "id": "lesser-wallpaper",
      "metadata": {
        "colab": {
          "base_uri": "https://localhost:8080/",
          "height": 167
        },
        "id": "lesser-wallpaper",
        "outputId": "dffa8aa8-9023-48f2-8802-2dcf8295d7dc"
      },
      "outputs": [
        {
          "output_type": "execute_result",
          "data": {
            "application/vnd.google.colaboratory.intrinsic+json": {
              "type": "string"
            },
            "text/plain": [
              "'The United States is a federal republic and a representative democracy with three separate branches of government, including a bicameral legislature. By value, the United States is the world\\'s largest importer and the second-largest exporter of goods. Although its population is only 4.2% of the world total, it holds 29.4% of the total wealth in the world, the largest share held by any country.Americans had developed an ideology of \"republicanism\", asserting that government rested on the will of the people as expressed in their local legislatures. Americans have traditionally been characterized by a strong work ethic, competitiveness, and individualism,[455] as well as a unifying belief in an \"American creed\" emphasizing liberty, equality, private property, democracy, rule of law, and a preference for limited government. The country has received criticism in regard to inequality related to race, wealth and income, the use of capital punishment, high incarceration rates, and lack of universal health care. In 2018, there were almost 90 million immigrants and U.S.-born children of immigrants in the United States, accounting for 28% of the overall U.S. population. The country is one of the five recognized nuclear weapons states and one of nine countries to possess nuclear weapons. The American fast food industry, the world\\'s largest, pioneered the drive-through format in the 1940s. American football is by several measures the most popular spectator sport in the United States.'"
            ]
          },
          "metadata": {},
          "execution_count": 155
        }
      ],
      "source": [
        "survey_summary1 = \"\"\"The United States is a federal republic and a representative democracy with three separate branches of government, including a bicameral legislature. By value, the United States is the world's largest importer and the second-largest exporter of goods. Although its population is only 4.2% of the world total, it holds 29.4% of the total wealth in the world, the largest share held by any country.Americans had developed an ideology of \"republicanism\", asserting that government rested on the will of the people as expressed in their local legislatures. Americans have traditionally been characterized by a strong work ethic, competitiveness, and individualism,[455] as well as a unifying belief in an \"American creed\" emphasizing liberty, equality, private property, democracy, rule of law, and a preference for limited government. The country has received criticism in regard to inequality related to race, wealth and income, the use of capital punishment, high incarceration rates, and lack of universal health care. In 2018, there were almost 90 million immigrants and U.S.-born children of immigrants in the United States, accounting for 28% of the overall U.S. population. The country is one of the five recognized nuclear weapons states and one of nine countries to possess nuclear weapons. The American fast food industry, the world's largest, pioneered the drive-through format in the 1940s. American football is by several measures the most popular spectator sport in the United States.\"\"\"\n",
        "survey_summary1"
      ]
    },
    {
      "cell_type": "code",
      "execution_count": 156,
      "id": "personalized-worst",
      "metadata": {
        "colab": {
          "base_uri": "https://localhost:8080/",
          "height": 167
        },
        "id": "personalized-worst",
        "outputId": "afbde05b-ca0d-4caf-983f-8c631ee812fb"
      },
      "outputs": [
        {
          "output_type": "execute_result",
          "data": {
            "application/vnd.google.colaboratory.intrinsic+json": {
              "type": "string"
            },
            "text/plain": [
              "\"The United States of America (USA), commonly known as the United States (U.S. or US), or America, is a country primarily located in North America. It consists of 50 states, a federal district, five major self-governing territories, 326 Indian reservations, and some minor possessions. At 3.8 million square miles (9.8 million square kilometers), it is the world's third- or fourth-largest country by total area. With a population of more than 328 million people, it is the third most populous country in the world. Paleo-Indians migrated from Siberia to the North American mainland at least 12,000 years ago, and European colonization began in the 16th century. The United States emerged from the thirteen British colonies established along the East Coast. In the late 18th century, the U.S. began vigorously expanding across North America, gradually acquiring new territories, frequently displacing Native Americans, and admitting new states; by 1848, the United States spanned the continent. The United States is a federal republic and a representative democracy with three separate branches of government, including a bicameral legislature. The United States is a highly developed country, and continuously ranks high in measures of socioeconomic performance. Making up more than a third of global military spending, it is the foremost military power in the world and is a leading political, cultural, and scientific force internationally. \""
            ]
          },
          "metadata": {},
          "execution_count": 156
        }
      ],
      "source": [
        "survey_summary2 = \"\"\"The United States of America (USA), commonly known as the United States (U.S. or US), or America, is a country primarily located in North America. It consists of 50 states, a federal district, five major self-governing territories, 326 Indian reservations, and some minor possessions. At 3.8 million square miles (9.8 million square kilometers), it is the world's third- or fourth-largest country by total area. With a population of more than 328 million people, it is the third most populous country in the world. Paleo-Indians migrated from Siberia to the North American mainland at least 12,000 years ago, and European colonization began in the 16th century. The United States emerged from the thirteen British colonies established along the East Coast. In the late 18th century, the U.S. began vigorously expanding across North America, gradually acquiring new territories, frequently displacing Native Americans, and admitting new states; by 1848, the United States spanned the continent. The United States is a federal republic and a representative democracy with three separate branches of government, including a bicameral legislature. The United States is a highly developed country, and continuously ranks high in measures of socioeconomic performance. Making up more than a third of global military spending, it is the foremost military power in the world and is a leading political, cultural, and scientific force internationally. \"\"\"\n",
        "survey_summary2"
      ]
    },
    {
      "cell_type": "code",
      "execution_count": 156,
      "id": "electrical-practitioner",
      "metadata": {
        "id": "electrical-practitioner"
      },
      "outputs": [],
      "source": [
        ""
      ]
    },
    {
      "cell_type": "markdown",
      "id": "modern-component",
      "metadata": {
        "id": "modern-component"
      },
      "source": [
        "## Evaluation of Generated Summaries using ROUGE-N Metric and Survey Summary 2"
      ]
    },
    {
      "cell_type": "code",
      "source": [
        ""
      ],
      "metadata": {
        "id": "6xgfnKb7Biqd"
      },
      "id": "6xgfnKb7Biqd",
      "execution_count": 156,
      "outputs": []
    },
    {
      "cell_type": "markdown",
      "source": [
        "## Function to evaluate N-gram summary"
      ],
      "metadata": {
        "id": "5tnRRPdCBjp2"
      },
      "id": "5tnRRPdCBjp2"
    },
    {
      "cell_type": "code",
      "source": [
        "def get_ngram_rouge(ngram, generated_summary, survey_summary):\n",
        "  scorer = rouge_scorer.RougeScorer([f'rouge{ngram}'], use_stemmer=False)\n",
        "  scores = scorer.score(generated_summary, survey_summary)[f\"rouge{ngram}\"]\n",
        "  return scores"
      ],
      "metadata": {
        "id": "v5bWTfhTBqSM"
      },
      "id": "v5bWTfhTBqSM",
      "execution_count": 157,
      "outputs": []
    },
    {
      "cell_type": "code",
      "source": [
        ""
      ],
      "metadata": {
        "id": "0vgeSgqECnpq"
      },
      "id": "0vgeSgqECnpq",
      "execution_count": 157,
      "outputs": []
    },
    {
      "cell_type": "markdown",
      "id": "stone-hughes",
      "metadata": {
        "id": "stone-hughes"
      },
      "source": [
        "### 1-GRAM"
      ]
    },
    {
      "cell_type": "code",
      "execution_count": 158,
      "id": "timely-slide",
      "metadata": {
        "id": "timely-slide",
        "colab": {
          "base_uri": "https://localhost:8080/"
        },
        "outputId": "7517acb1-4a5a-4a2b-bd28-88ded8c3f0f7"
      },
      "outputs": [
        {
          "output_type": "execute_result",
          "data": {
            "text/plain": [
              "Score(precision=0.5131578947368421, recall=0.20598591549295775, fmeasure=0.29396984924623115)"
            ]
          },
          "metadata": {},
          "execution_count": 158
        }
      ],
      "source": [
        "bow_1gram_rouge = get_ngram_rouge(1, bow_1gram_summary, survey_summary2)\n",
        "bow_1gram_rouge"
      ]
    },
    {
      "cell_type": "code",
      "execution_count": 159,
      "id": "plastic-yugoslavia",
      "metadata": {
        "id": "plastic-yugoslavia",
        "colab": {
          "base_uri": "https://localhost:8080/"
        },
        "outputId": "22935dd9-6d38-4ef4-b1d1-7537f3bdf708"
      },
      "outputs": [
        {
          "output_type": "execute_result",
          "data": {
            "text/plain": [
              "Score(precision=0.4342105263157895, recall=0.4714285714285714, fmeasure=0.452054794520548)"
            ]
          },
          "metadata": {},
          "execution_count": 159
        }
      ],
      "source": [
        "tfidf_1gram_rouge = get_ngram_rouge(1, tfidf_1gram_summary, survey_summary2)\n",
        "tfidf_1gram_rouge"
      ]
    },
    {
      "cell_type": "code",
      "source": [
        "wemb_1gram_rouge = get_ngram_rouge(1, wemb_1gram_summary, survey_summary2)\n",
        "wemb_1gram_rouge"
      ],
      "metadata": {
        "id": "hveFsAKQDCTC",
        "colab": {
          "base_uri": "https://localhost:8080/"
        },
        "outputId": "771cd089-72a7-492b-ec9b-2d976c532c2c"
      },
      "id": "hveFsAKQDCTC",
      "execution_count": 160,
      "outputs": [
        {
          "output_type": "execute_result",
          "data": {
            "text/plain": [
              "Score(precision=0.41228070175438597, recall=0.21123595505617979, fmeasure=0.27934621099554235)"
            ]
          },
          "metadata": {},
          "execution_count": 160
        }
      ]
    },
    {
      "cell_type": "markdown",
      "id": "official-jason",
      "metadata": {
        "id": "official-jason"
      },
      "source": [
        "### 2-GRAM"
      ]
    },
    {
      "cell_type": "code",
      "execution_count": 161,
      "id": "consolidated-disaster",
      "metadata": {
        "id": "consolidated-disaster",
        "colab": {
          "base_uri": "https://localhost:8080/"
        },
        "outputId": "a568c7d0-3077-4089-f6eb-ffc7be98c259"
      },
      "outputs": [
        {
          "output_type": "execute_result",
          "data": {
            "text/plain": [
              "Score(precision=0.18061674008810572, recall=0.0622154779969651, fmeasure=0.09255079006772009)"
            ]
          },
          "metadata": {},
          "execution_count": 161
        }
      ],
      "source": [
        "bow_2gram_rouge = get_ngram_rouge(2, bow_2gram_summary, survey_summary2)\n",
        "bow_2gram_rouge"
      ]
    },
    {
      "cell_type": "code",
      "execution_count": 162,
      "id": "further-motorcycle",
      "metadata": {
        "colab": {
          "base_uri": "https://localhost:8080/"
        },
        "id": "further-motorcycle",
        "outputId": "5a02c0a9-cb57-461c-8e36-0dae7e2e6395"
      },
      "outputs": [
        {
          "output_type": "execute_result",
          "data": {
            "text/plain": [
              "Score(precision=0.17180616740088106, recall=0.20855614973262032, fmeasure=0.18840579710144928)"
            ]
          },
          "metadata": {},
          "execution_count": 162
        }
      ],
      "source": [
        "tfidf_2gram_rouge = get_ngram_rouge(2, tfidf_2gram_summary, survey_summary2)\n",
        "tfidf_2gram_rouge"
      ]
    },
    {
      "cell_type": "code",
      "source": [
        "wemb_2gram_rouge = get_ngram_rouge(2, wemb_2gram_summary, survey_summary2)\n",
        "wemb_2gram_rouge"
      ],
      "metadata": {
        "id": "6XEavYm0DBny",
        "colab": {
          "base_uri": "https://localhost:8080/"
        },
        "outputId": "e0cc75a3-7e7f-4813-b35b-e5e351be37f9"
      },
      "id": "6XEavYm0DBny",
      "execution_count": 163,
      "outputs": [
        {
          "output_type": "execute_result",
          "data": {
            "text/plain": [
              "Score(precision=0.05286343612334802, recall=0.02608695652173913, fmeasure=0.034934497816593885)"
            ]
          },
          "metadata": {},
          "execution_count": 163
        }
      ]
    },
    {
      "cell_type": "markdown",
      "id": "difficult-yahoo",
      "metadata": {
        "id": "difficult-yahoo"
      },
      "source": [
        "### 3-GRAM"
      ]
    },
    {
      "cell_type": "code",
      "execution_count": 164,
      "id": "recent-climate",
      "metadata": {
        "id": "recent-climate",
        "colab": {
          "base_uri": "https://localhost:8080/"
        },
        "outputId": "26ba621d-8e15-4dee-b869-8422318ab6b0"
      },
      "outputs": [
        {
          "output_type": "execute_result",
          "data": {
            "text/plain": [
              "Score(precision=0.12831858407079647, recall=0.042709867452135494, fmeasure=0.06408839779005525)"
            ]
          },
          "metadata": {},
          "execution_count": 164
        }
      ],
      "source": [
        "bow_3gram_rouge = get_ngram_rouge(3, bow_3gram_summary, survey_summary2)\n",
        "bow_3gram_rouge"
      ]
    },
    {
      "cell_type": "code",
      "source": [
        "tfidf_3gram_rouge = get_ngram_rouge(3, tfidf_3gram_summary, survey_summary2)\n",
        "tfidf_3gram_rouge"
      ],
      "metadata": {
        "colab": {
          "base_uri": "https://localhost:8080/"
        },
        "id": "Ez6hF-lLC6M6",
        "outputId": "e5d92f03-36d1-422c-a975-c69677e8737e"
      },
      "id": "Ez6hF-lLC6M6",
      "execution_count": 165,
      "outputs": [
        {
          "output_type": "execute_result",
          "data": {
            "text/plain": [
              "Score(precision=0.048672566371681415, recall=0.06547619047619048, fmeasure=0.05583756345177665)"
            ]
          },
          "metadata": {},
          "execution_count": 165
        }
      ]
    },
    {
      "cell_type": "code",
      "source": [
        "wemb_3gram_rouge = get_ngram_rouge(3, wemb_3gram_summary, survey_summary2)\n",
        "wemb_3gram_rouge"
      ],
      "metadata": {
        "id": "pc0WppaTDBDS",
        "colab": {
          "base_uri": "https://localhost:8080/"
        },
        "outputId": "d9ebff40-db23-4021-8e2d-51518a0bab0d"
      },
      "id": "pc0WppaTDBDS",
      "execution_count": 169,
      "outputs": [
        {
          "output_type": "execute_result",
          "data": {
            "text/plain": [
              "Score(precision=0.017699115044247787, recall=0.008714596949891068, fmeasure=0.011678832116788322)"
            ]
          },
          "metadata": {},
          "execution_count": 169
        }
      ]
    },
    {
      "cell_type": "markdown",
      "id": "sweet-corner",
      "metadata": {
        "id": "sweet-corner"
      },
      "source": [
        "### 4-GRAM"
      ]
    },
    {
      "cell_type": "code",
      "execution_count": 174,
      "id": "sustained-faculty",
      "metadata": {
        "colab": {
          "base_uri": "https://localhost:8080/"
        },
        "id": "sustained-faculty",
        "outputId": "9632ebb4-f9d0-49dc-aa38-2fe478ca5ee1"
      },
      "outputs": [
        {
          "output_type": "execute_result",
          "data": {
            "text/plain": [
              "Score(precision=0.08888888888888889, recall=0.02932551319648094, fmeasure=0.04410143329658214)"
            ]
          },
          "metadata": {},
          "execution_count": 174
        }
      ],
      "source": [
        "bow_4gram_rouge = get_ngram_rouge(4, bow_4gram_summary, survey_summary2)\n",
        "bow_4gram_rouge"
      ]
    },
    {
      "cell_type": "code",
      "execution_count": 175,
      "id": "technological-motor",
      "metadata": {
        "id": "technological-motor",
        "colab": {
          "base_uri": "https://localhost:8080/"
        },
        "outputId": "98cc17ca-f1a1-4fde-e6d8-20d637f13df1"
      },
      "outputs": [
        {
          "output_type": "execute_result",
          "data": {
            "text/plain": [
              "Score(precision=0.08444444444444445, recall=0.08370044052863436, fmeasure=0.084070796460177)"
            ]
          },
          "metadata": {},
          "execution_count": 175
        }
      ],
      "source": [
        "tfidf_4gram_rouge = get_ngram_rouge(4, tfidf_4gram_summary, survey_summary2)\n",
        "tfidf_4gram_rouge"
      ]
    },
    {
      "cell_type": "code",
      "source": [
        "wemb_4gram_rouge = get_ngram_rouge(4, wemb_4gram_summary, survey_summary2)\n",
        "wemb_4gram_rouge"
      ],
      "metadata": {
        "id": "_oBZvdMXDMvv",
        "colab": {
          "base_uri": "https://localhost:8080/"
        },
        "outputId": "1f509cfa-c419-4658-e616-032419b96bfa"
      },
      "id": "_oBZvdMXDMvv",
      "execution_count": 176,
      "outputs": [
        {
          "output_type": "execute_result",
          "data": {
            "text/plain": [
              "Score(precision=0.0, recall=0.0, fmeasure=0.0)"
            ]
          },
          "metadata": {},
          "execution_count": 176
        }
      ]
    },
    {
      "cell_type": "markdown",
      "id": "necessary-prince",
      "metadata": {
        "id": "necessary-prince"
      },
      "source": [
        "### 5-GRAM"
      ]
    },
    {
      "cell_type": "code",
      "execution_count": 177,
      "id": "independent-suffering",
      "metadata": {
        "id": "independent-suffering",
        "colab": {
          "base_uri": "https://localhost:8080/"
        },
        "outputId": "2c0f8cf0-d5f2-4bd6-ebf7-b834b0e6174c"
      },
      "outputs": [
        {
          "output_type": "execute_result",
          "data": {
            "text/plain": [
              "Score(precision=0.08035714285714286, recall=0.02643171806167401, fmeasure=0.03977900552486188)"
            ]
          },
          "metadata": {},
          "execution_count": 177
        }
      ],
      "source": [
        "bow_5gram_rouge = get_ngram_rouge(5, bow_5gram_summary, survey_summary2)\n",
        "bow_5gram_rouge"
      ]
    },
    {
      "cell_type": "code",
      "source": [
        ""
      ],
      "metadata": {
        "id": "6BxY6HupDvqc"
      },
      "id": "6BxY6HupDvqc",
      "execution_count": 177,
      "outputs": []
    },
    {
      "cell_type": "code",
      "execution_count": 178,
      "id": "preceding-camping",
      "metadata": {
        "colab": {
          "base_uri": "https://localhost:8080/"
        },
        "id": "preceding-camping",
        "outputId": "3a543f05-c0cc-4a69-8e8c-a61effe7cef9"
      },
      "outputs": [
        {
          "output_type": "execute_result",
          "data": {
            "text/plain": [
              "Score(precision=0.05803571428571429, recall=0.061611374407582936, fmeasure=0.059770114942528735)"
            ]
          },
          "metadata": {},
          "execution_count": 178
        }
      ],
      "source": [
        "tfidf_5gram_rouge = get_ngram_rouge(5, tfidf_5gram_summary, survey_summary2)\n",
        "tfidf_5gram_rouge"
      ]
    },
    {
      "cell_type": "code",
      "execution_count": 179,
      "id": "subsequent-bradford",
      "metadata": {
        "id": "subsequent-bradford",
        "colab": {
          "base_uri": "https://localhost:8080/"
        },
        "outputId": "50bc1bb7-8302-4915-8d8c-18022fe537da"
      },
      "outputs": [
        {
          "output_type": "execute_result",
          "data": {
            "text/plain": [
              "Score(precision=0.0, recall=0.0, fmeasure=0.0)"
            ]
          },
          "metadata": {},
          "execution_count": 179
        }
      ],
      "source": [
        "wemb_5gram_rouge = get_ngram_rouge(5, wemb_4gram_summary, survey_summary2)\n",
        "wemb_5gram_rouge"
      ]
    },
    {
      "cell_type": "markdown",
      "id": "contrary-texas",
      "metadata": {
        "id": "contrary-texas"
      },
      "source": [
        "<h2> Comparision of N-GRAM and Feature Extraction Scheme Using ROUGE-N Recall Scores </h2>  "
      ]
    },
    {
      "cell_type": "code",
      "execution_count": 183,
      "id": "fifty-network",
      "metadata": {
        "id": "fifty-network",
        "colab": {
          "base_uri": "https://localhost:8080/",
          "height": 287
        },
        "outputId": "5b35ab3d-7d40-4686-b9a6-6f059e05c3f9"
      },
      "outputs": [
        {
          "output_type": "execute_result",
          "data": {
            "text/html": [
              "\n",
              "  <div id=\"df-f763cc06-27e8-44d6-b7a9-6b927de3b9dd\">\n",
              "    <div class=\"colab-df-container\">\n",
              "      <div>\n",
              "<style scoped>\n",
              "    .dataframe tbody tr th:only-of-type {\n",
              "        vertical-align: middle;\n",
              "    }\n",
              "\n",
              "    .dataframe tbody tr th {\n",
              "        vertical-align: top;\n",
              "    }\n",
              "\n",
              "    .dataframe thead th {\n",
              "        text-align: right;\n",
              "    }\n",
              "</style>\n",
              "<table border=\"1\" class=\"dataframe\">\n",
              "  <thead>\n",
              "    <tr style=\"text-align: right;\">\n",
              "      <th></th>\n",
              "      <th>N-Gram Range</th>\n",
              "      <th>BOW_Recall</th>\n",
              "      <th>TF-IDF_Recall</th>\n",
              "      <th>W-Emb_Recall</th>\n",
              "      <th>BOW_Precision</th>\n",
              "      <th>TF-IDF_Precision</th>\n",
              "      <th>W-Emb_Precision</th>\n",
              "      <th>BOW_Fmeasure</th>\n",
              "      <th>TF-IDF_Fmeasure</th>\n",
              "      <th>W-Emb_Fmeasure</th>\n",
              "    </tr>\n",
              "  </thead>\n",
              "  <tbody>\n",
              "    <tr>\n",
              "      <th>0</th>\n",
              "      <td>1-Gram</td>\n",
              "      <td>0.205986</td>\n",
              "      <td>0.471429</td>\n",
              "      <td>0.211236</td>\n",
              "      <td>0.513158</td>\n",
              "      <td>0.434211</td>\n",
              "      <td>0.412281</td>\n",
              "      <td>0.293970</td>\n",
              "      <td>0.452055</td>\n",
              "      <td>0.279346</td>\n",
              "    </tr>\n",
              "    <tr>\n",
              "      <th>1</th>\n",
              "      <td>2-Gram</td>\n",
              "      <td>0.062215</td>\n",
              "      <td>0.208556</td>\n",
              "      <td>0.026087</td>\n",
              "      <td>0.180617</td>\n",
              "      <td>0.171806</td>\n",
              "      <td>0.052863</td>\n",
              "      <td>0.092551</td>\n",
              "      <td>0.188406</td>\n",
              "      <td>0.034934</td>\n",
              "    </tr>\n",
              "    <tr>\n",
              "      <th>2</th>\n",
              "      <td>3-Gram</td>\n",
              "      <td>0.042710</td>\n",
              "      <td>0.065476</td>\n",
              "      <td>0.000000</td>\n",
              "      <td>0.128319</td>\n",
              "      <td>0.048673</td>\n",
              "      <td>0.000000</td>\n",
              "      <td>0.064088</td>\n",
              "      <td>0.055838</td>\n",
              "      <td>0.000000</td>\n",
              "    </tr>\n",
              "    <tr>\n",
              "      <th>3</th>\n",
              "      <td>4-Gram</td>\n",
              "      <td>0.029326</td>\n",
              "      <td>0.083700</td>\n",
              "      <td>0.000000</td>\n",
              "      <td>0.088889</td>\n",
              "      <td>0.084444</td>\n",
              "      <td>0.000000</td>\n",
              "      <td>0.044101</td>\n",
              "      <td>0.084071</td>\n",
              "      <td>0.000000</td>\n",
              "    </tr>\n",
              "    <tr>\n",
              "      <th>4</th>\n",
              "      <td>5-Gram</td>\n",
              "      <td>0.026432</td>\n",
              "      <td>0.061611</td>\n",
              "      <td>0.000000</td>\n",
              "      <td>0.080357</td>\n",
              "      <td>0.058036</td>\n",
              "      <td>0.000000</td>\n",
              "      <td>0.039779</td>\n",
              "      <td>0.059770</td>\n",
              "      <td>0.000000</td>\n",
              "    </tr>\n",
              "  </tbody>\n",
              "</table>\n",
              "</div>\n",
              "      <button class=\"colab-df-convert\" onclick=\"convertToInteractive('df-f763cc06-27e8-44d6-b7a9-6b927de3b9dd')\"\n",
              "              title=\"Convert this dataframe to an interactive table.\"\n",
              "              style=\"display:none;\">\n",
              "        \n",
              "  <svg xmlns=\"http://www.w3.org/2000/svg\" height=\"24px\"viewBox=\"0 0 24 24\"\n",
              "       width=\"24px\">\n",
              "    <path d=\"M0 0h24v24H0V0z\" fill=\"none\"/>\n",
              "    <path d=\"M18.56 5.44l.94 2.06.94-2.06 2.06-.94-2.06-.94-.94-2.06-.94 2.06-2.06.94zm-11 1L8.5 8.5l.94-2.06 2.06-.94-2.06-.94L8.5 2.5l-.94 2.06-2.06.94zm10 10l.94 2.06.94-2.06 2.06-.94-2.06-.94-.94-2.06-.94 2.06-2.06.94z\"/><path d=\"M17.41 7.96l-1.37-1.37c-.4-.4-.92-.59-1.43-.59-.52 0-1.04.2-1.43.59L10.3 9.45l-7.72 7.72c-.78.78-.78 2.05 0 2.83L4 21.41c.39.39.9.59 1.41.59.51 0 1.02-.2 1.41-.59l7.78-7.78 2.81-2.81c.8-.78.8-2.07 0-2.86zM5.41 20L4 18.59l7.72-7.72 1.47 1.35L5.41 20z\"/>\n",
              "  </svg>\n",
              "      </button>\n",
              "      \n",
              "  <style>\n",
              "    .colab-df-container {\n",
              "      display:flex;\n",
              "      flex-wrap:wrap;\n",
              "      gap: 12px;\n",
              "    }\n",
              "\n",
              "    .colab-df-convert {\n",
              "      background-color: #E8F0FE;\n",
              "      border: none;\n",
              "      border-radius: 50%;\n",
              "      cursor: pointer;\n",
              "      display: none;\n",
              "      fill: #1967D2;\n",
              "      height: 32px;\n",
              "      padding: 0 0 0 0;\n",
              "      width: 32px;\n",
              "    }\n",
              "\n",
              "    .colab-df-convert:hover {\n",
              "      background-color: #E2EBFA;\n",
              "      box-shadow: 0px 1px 2px rgba(60, 64, 67, 0.3), 0px 1px 3px 1px rgba(60, 64, 67, 0.15);\n",
              "      fill: #174EA6;\n",
              "    }\n",
              "\n",
              "    [theme=dark] .colab-df-convert {\n",
              "      background-color: #3B4455;\n",
              "      fill: #D2E3FC;\n",
              "    }\n",
              "\n",
              "    [theme=dark] .colab-df-convert:hover {\n",
              "      background-color: #434B5C;\n",
              "      box-shadow: 0px 1px 3px 1px rgba(0, 0, 0, 0.15);\n",
              "      filter: drop-shadow(0px 1px 2px rgba(0, 0, 0, 0.3));\n",
              "      fill: #FFFFFF;\n",
              "    }\n",
              "  </style>\n",
              "\n",
              "      <script>\n",
              "        const buttonEl =\n",
              "          document.querySelector('#df-f763cc06-27e8-44d6-b7a9-6b927de3b9dd button.colab-df-convert');\n",
              "        buttonEl.style.display =\n",
              "          google.colab.kernel.accessAllowed ? 'block' : 'none';\n",
              "\n",
              "        async function convertToInteractive(key) {\n",
              "          const element = document.querySelector('#df-f763cc06-27e8-44d6-b7a9-6b927de3b9dd');\n",
              "          const dataTable =\n",
              "            await google.colab.kernel.invokeFunction('convertToInteractive',\n",
              "                                                     [key], {});\n",
              "          if (!dataTable) return;\n",
              "\n",
              "          const docLinkHtml = 'Like what you see? Visit the ' +\n",
              "            '<a target=\"_blank\" href=https://colab.research.google.com/notebooks/data_table.ipynb>data table notebook</a>'\n",
              "            + ' to learn more about interactive tables.';\n",
              "          element.innerHTML = '';\n",
              "          dataTable['output_type'] = 'display_data';\n",
              "          await google.colab.output.renderOutput(dataTable, element);\n",
              "          const docLink = document.createElement('div');\n",
              "          docLink.innerHTML = docLinkHtml;\n",
              "          element.appendChild(docLink);\n",
              "        }\n",
              "      </script>\n",
              "    </div>\n",
              "  </div>\n",
              "  "
            ],
            "text/plain": [
              "  N-Gram Range  BOW_Recall  ...  TF-IDF_Fmeasure  W-Emb_Fmeasure\n",
              "0       1-Gram    0.205986  ...         0.452055        0.279346\n",
              "1       2-Gram    0.062215  ...         0.188406        0.034934\n",
              "2       3-Gram    0.042710  ...         0.055838        0.000000\n",
              "3       4-Gram    0.029326  ...         0.084071        0.000000\n",
              "4       5-Gram    0.026432  ...         0.059770        0.000000\n",
              "\n",
              "[5 rows x 10 columns]"
            ]
          },
          "metadata": {},
          "execution_count": 183
        }
      ],
      "source": [
        "comparision_df = pd.DataFrame()\n",
        "comparision_df[\"N-Gram Range\"] = [\"1-Gram\", \"2-Gram\", \"3-Gram\", \"4-Gram\", \"5-Gram\"]\n",
        "\n",
        "comparision_df[\"BOW_Recall\"] = [bow_1gram_rouge.recall, bow_2gram_rouge.recall, bow_3gram_rouge.recall, bow_4gram_rouge.recall, bow_5gram_rouge.recall]\n",
        "comparision_df[\"TF-IDF_Recall\"] = [tfidf_1gram_rouge.recall, tfidf_2gram_rouge.recall, tfidf_3gram_rouge.recall, tfidf_4gram_rouge.recall, tfidf_5gram_rouge.recall]\n",
        "comparision_df[\"W-Emb_Recall\"] = [wemb_1gram_rouge.recall, wemb_2gram_rouge.recall, wemb_3gram_rouge.recall, wemb_4gram_rouge.recall, wemb_5gram_rouge.recall]\n",
        "\n",
        "comparision_df[\"BOW_Precision\"] = [bow_1gram_rouge.precision, bow_2gram_rouge.precision, bow_3gram_rouge.precision, bow_4gram_rouge.precision, bow_5gram_rouge.precision]\n",
        "comparision_df[\"TF-IDF_Precision\"] = [tfidf_1gram_rouge.precision, tfidf_2gram_rouge.precision, tfidf_3gram_rouge.precision, tfidf_4gram_rouge.precision, tfidf_5gram_rouge.precision]\n",
        "comparision_df[\"W-Emb_Precision\"] = [wemb_1gram_rouge.precision, wemb_2gram_rouge.precision, wemb_3gram_rouge.precision, wemb_4gram_rouge.precision, wemb_5gram_rouge.precision]\n",
        "\n",
        "comparision_df[\"BOW_Fmeasure\"] = [bow_1gram_rouge.fmeasure, bow_2gram_rouge.fmeasure, bow_3gram_rouge.fmeasure, bow_4gram_rouge.fmeasure, bow_5gram_rouge.fmeasure]\n",
        "comparision_df[\"TF-IDF_Fmeasure\"] = [tfidf_1gram_rouge.fmeasure, tfidf_2gram_rouge.fmeasure, tfidf_3gram_rouge.fmeasure, tfidf_4gram_rouge.fmeasure, tfidf_5gram_rouge.fmeasure]\n",
        "comparision_df[\"W-Emb_Fmeasure\"] = [wemb_1gram_rouge.fmeasure, wemb_2gram_rouge.fmeasure, wemb_3gram_rouge.fmeasure, wemb_4gram_rouge.fmeasure, wemb_5gram_rouge.fmeasure]\n",
        "\n",
        "comparision_df"
      ]
    },
    {
      "cell_type": "code",
      "execution_count": 183,
      "id": "aerial-indianapolis",
      "metadata": {
        "id": "aerial-indianapolis"
      },
      "outputs": [],
      "source": [
        ""
      ]
    },
    {
      "cell_type": "code",
      "execution_count": 195,
      "id": "apart-richards",
      "metadata": {
        "colab": {
          "base_uri": "https://localhost:8080/",
          "height": 893
        },
        "id": "apart-richards",
        "outputId": "8334bb0a-9f99-43f1-cd90-127c2053056b"
      },
      "outputs": [
        {
          "output_type": "display_data",
          "data": {
            "image/png": "[encoded data removed]",
            "text/plain": [
              "<Figure size 720x1080 with 3 Axes>"
            ]
          },
          "metadata": {
            "needs_background": "light"
          }
        }
      ],
      "source": [
        "fig, ax = plt.subplots(3,1,figsize=(10,15))\n",
        "\n",
        "n_gram_range = [i for i in range(1,6)]\n",
        "\n",
        "ax[0].plot(n_gram_range,comparision_df[\"BOW_Recall\"],'b-', label=\"Bow_Recall\")\n",
        "ax[0].plot(n_gram_range,comparision_df[\"TF-IDF_Recall\"],'g-', label=\"TF-IDF_Recall\")\n",
        "ax[0].plot(n_gram_range,comparision_df[\"W-Emb_Recall\"],'r-', label=\"Wemb_Recall\")\n",
        "ax[0].title.set_text(\"Comparision of varying N-gram using ROUGE-N Recall scores(LSA)\")\n",
        "ax[0].set_xlabel(\"N-GRAM range\")\n",
        "ax[0].set_ylabel(\"ROUGE-N Recall score\")\n",
        "ax[0].legend(loc=\"best\")\n",
        "\n",
        "ax[1].plot(n_gram_range,comparision_df[\"BOW_Precision\"],'c-', label=\"Bow_Precision\")\n",
        "ax[1].plot(n_gram_range,comparision_df[\"TF-IDF_Precision\"],'m-', label=\"TF-IDF_Precision\")\n",
        "ax[1].plot(n_gram_range,comparision_df[\"W-Emb_Precision\"],'y-', label=\"Wemb_Precision\")\n",
        "ax[1].title.set_text(\"Comparision of varying N-gram using ROUGE-N Precesion scores(LSA)\")\n",
        "ax[1].set_xlabel(\"N-GRAM range\")\n",
        "ax[1].set_ylabel(\"ROUGE-N Precision score\")\n",
        "ax[1].legend(loc=\"best\")\n",
        "\n",
        "ax[2].plot(n_gram_range,comparision_df[\"BOW_Fmeasure\"],'b-', label=\"Bow_Fmeasure\")\n",
        "ax[2].plot(n_gram_range,comparision_df[\"TF-IDF_Fmeasure\"],'g-', label=\"TF-IDF_Fmeasure\")\n",
        "ax[2].plot(n_gram_range,comparision_df[\"W-Emb_Fmeasure\"],'r-', label=\"Wemb_Fmeasure\")\n",
        "ax[2].title.set_text(\"Comparision of varying N-gram using ROUGE-N Fmeasure scores(LSA)\")\n",
        "ax[2].set_xlabel(\"N-GRAM range\")\n",
        "ax[2].set_ylabel(\"ROUGE-N Fmeasure score\")\n",
        "ax[2].legend(loc=\"best\")\n",
        "\n",
        "plt.show()"
      ]
    },
    {
      "cell_type": "code",
      "execution_count": null,
      "id": "sitting-velvet",
      "metadata": {
        "id": "sitting-velvet"
      },
      "outputs": [],
      "source": [
        ""
      ]
    },
    {
      "cell_type": "code",
      "source": [
        ""
      ],
      "metadata": {
        "id": "Zl3u56YiEfmH"
      },
      "id": "Zl3u56YiEfmH",
      "execution_count": null,
      "outputs": []
    },
    {
      "cell_type": "markdown",
      "id": "statutory-packet",
      "metadata": {
        "tags": [],
        "id": "statutory-packet"
      },
      "source": [
        "## Generate Features using Word-Embeddings (Next On Line)"
      ]
    },
    {
      "cell_type": "code",
      "execution_count": null,
      "id": "different-calendar",
      "metadata": {
        "colab": {
          "base_uri": "https://localhost:8080/"
        },
        "id": "different-calendar",
        "outputId": "6c298bfa-a4ed-4262-e36b-0730e790274c"
      },
      "outputs": [
        {
          "output_type": "execute_result",
          "data": {
            "text/plain": [
              "['coordinate mw parser output geo default mw parser output geo dm mw parser output geo dec display inline mw parser output geo nondefault mw parser output geo multi punct display none mw parser output longitude mw parser output latitude white space nowrap 40 n 100 w 40 n 100 w 40 100the united state america u usa commonly known united state u u america country primarily located north america',\n",
              " 'consists 50 state federal district five major unincorporated territory 326 indian reservation minor possession',\n",
              " '3 8 million square mile 9 8 million square kilometer world third fourth largest country total area']"
            ]
          },
          "metadata": {},
          "execution_count": 165
        }
      ],
      "source": [
        "pp_article_st[0:3]"
      ]
    },
    {
      "cell_type": "code",
      "execution_count": null,
      "id": "broke-david",
      "metadata": {
        "id": "broke-david"
      },
      "outputs": [],
      "source": [
        "pp_article_st_wt = [word_tokenize(sent) for sent in pp_article_st]"
      ]
    },
    {
      "cell_type": "code",
      "execution_count": null,
      "id": "breathing-michael",
      "metadata": {
        "id": "breathing-michael"
      },
      "outputs": [],
      "source": [
        ""
      ]
    },
    {
      "cell_type": "code",
      "execution_count": null,
      "id": "located-evidence",
      "metadata": {
        "id": "located-evidence"
      },
      "outputs": [],
      "source": [
        "#initialize word to vec\n",
        "w2v_model = Word2Vec(min_count = 5, \n",
        "                     window = 5,\n",
        "                     vector_size=10,\n",
        "                     sample=6e-5,\n",
        "                     alpha=0.001,\n",
        "                     min_alpha = 0.0007,\n",
        "                     negative=10,\n",
        "                     workers=num_cores-2)"
      ]
    },
    {
      "cell_type": "code",
      "execution_count": null,
      "id": "067c130d",
      "metadata": {
        "id": "067c130d"
      },
      "outputs": [],
      "source": [
        ""
      ]
    },
    {
      "cell_type": "code",
      "execution_count": null,
      "id": "caroline-mustang",
      "metadata": {
        "id": "caroline-mustang"
      },
      "outputs": [],
      "source": [
        "w2v_model.build_vocab(pp_article_st_wt,progress_per=10000)"
      ]
    },
    {
      "cell_type": "code",
      "source": [
        "w2v_model.build_vocab(pp_article_st_wt,progress_per=10000)\n",
        "w2v_model.train(pp_article_st_wt, total_examples=w2v_model.corpus_count, epochs=50, report_delay=1)\n"
      ],
      "metadata": {
        "id": "5YlltAo0cW8S",
        "outputId": "c7fb80b2-67c7-4192-e36f-8eb71000af44",
        "colab": {
          "base_uri": "https://localhost:8080/"
        }
      },
      "id": "5YlltAo0cW8S",
      "execution_count": null,
      "outputs": [
        {
          "output_type": "execute_result",
          "data": {
            "text/plain": [
              "(0, 0)"
            ]
          },
          "metadata": {},
          "execution_count": 169
        }
      ]
    },
    {
      "cell_type": "code",
      "execution_count": null,
      "id": "weekly-coach",
      "metadata": {
        "colab": {
          "base_uri": "https://localhost:8080/"
        },
        "id": "weekly-coach",
        "outputId": "c223eef8-b534-4339-b2b6-22fc93e3a6a5"
      },
      "outputs": [
        {
          "output_type": "execute_result",
          "data": {
            "text/plain": [
              "(0, 0)"
            ]
          },
          "metadata": {},
          "execution_count": 170
        }
      ],
      "source": [
        "w2v_model.train(pp_article_st_wt, total_examples=w2v_model.corpus_count, epochs=50, report_delay=1)"
      ]
    },
    {
      "cell_type": "code",
      "execution_count": null,
      "id": "generic-baseball",
      "metadata": {
        "colab": {
          "base_uri": "https://localhost:8080/"
        },
        "id": "generic-baseball",
        "outputId": "3ab75b1b-b288-4038-9512-db5804bb2399"
      },
      "outputs": [
        {
          "output_type": "execute_result",
          "data": {
            "text/plain": [
              "array([ 0.05382323, -0.08485057, -0.01655645, -0.08838222, -0.01641879,\n",
              "        0.05655618, -0.07418299,  0.05510068,  0.06090059, -0.0377048 ],\n",
              "      dtype=float32)"
            ]
          },
          "metadata": {},
          "execution_count": 171
        }
      ],
      "source": [
        "#see embeddings for gas\n",
        "w2v_model.wv[\"gas\"]"
      ]
    },
    {
      "cell_type": "code",
      "execution_count": null,
      "id": "rising-standard",
      "metadata": {
        "colab": {
          "base_uri": "https://localhost:8080/"
        },
        "id": "rising-standard",
        "outputId": "37f5e6ca-854d-4630-c726-e375e6565335"
      },
      "outputs": [
        {
          "output_type": "stream",
          "name": "stdout",
          "text": [
            "(396, 10)\n"
          ]
        }
      ],
      "source": [
        "print(w2v_model.wv.vectors.shape)"
      ]
    },
    {
      "cell_type": "code",
      "source": [
        "EMBEDDING_SIZE = w2v_model.wv.vectors.shape"
      ],
      "metadata": {
        "id": "4pXAZ_t_ERfO"
      },
      "id": "4pXAZ_t_ERfO",
      "execution_count": null,
      "outputs": []
    },
    {
      "cell_type": "code",
      "execution_count": null,
      "id": "operating-contest",
      "metadata": {
        "colab": {
          "base_uri": "https://localhost:8080/"
        },
        "id": "operating-contest",
        "outputId": "03ab857b-6d83-4984-9909-64f2806a9292"
      },
      "outputs": [
        {
          "output_type": "execute_result",
          "data": {
            "text/plain": [
              "array([-0.08619688,  0.03665738,  0.05189884,  0.05741937,  0.07466917,\n",
              "       -0.06167676,  0.01105614,  0.06047282, -0.02840052, -0.06173522],\n",
              "      dtype=float32)"
            ]
          },
          "metadata": {},
          "execution_count": 174
        }
      ],
      "source": [
        "\n",
        "w2v_model.wv[\"state\"]"
      ]
    },
    {
      "cell_type": "code",
      "execution_count": null,
      "id": "isolated-logan",
      "metadata": {
        "id": "isolated-logan"
      },
      "outputs": [],
      "source": [
        "#w2v_model.wv.key_to_index"
      ]
    },
    {
      "cell_type": "code",
      "execution_count": null,
      "id": "needed-sight",
      "metadata": {
        "colab": {
          "base_uri": "https://localhost:8080/"
        },
        "id": "needed-sight",
        "outputId": "3d98e5f3-6f98-4616-cb4d-a1b101316407"
      },
      "outputs": [
        {
          "output_type": "execute_result",
          "data": {
            "text/plain": [
              "dict"
            ]
          },
          "metadata": {},
          "execution_count": 176
        }
      ],
      "source": [
        "type(w2v_model.wv.key_to_index)"
      ]
    },
    {
      "cell_type": "code",
      "execution_count": null,
      "id": "every-discharge",
      "metadata": {
        "id": "every-discharge"
      },
      "outputs": [],
      "source": [
        "#if \"state\" in w2v_model.wv.key_to_index:\n",
        "#    print(\"Yes\")"
      ]
    },
    {
      "cell_type": "code",
      "execution_count": null,
      "id": "regional-serve",
      "metadata": {
        "colab": {
          "base_uri": "https://localhost:8080/"
        },
        "id": "regional-serve",
        "outputId": "ee0607f5-8f87-4eb5-85f6-1da862b0668e"
      },
      "outputs": [
        {
          "output_type": "execute_result",
          "data": {
            "text/plain": [
              "array([ 0.05382323, -0.08485057, -0.01655645, -0.08838222, -0.01641879,\n",
              "        0.05655618, -0.07418299,  0.05510068,  0.06090059, -0.0377048 ],\n",
              "      dtype=float32)"
            ]
          },
          "metadata": {},
          "execution_count": 178
        }
      ],
      "source": [
        "w2v_model.wv[\"gas\"]"
      ]
    },
    {
      "cell_type": "code",
      "source": [
        "np.average(w2v_model.wv[\"gas\"])"
      ],
      "metadata": {
        "colab": {
          "base_uri": "https://localhost:8080/"
        },
        "id": "bbd7WwcXW-q5",
        "outputId": "cfe80503-9c85-4e25-f948-7e19e20c399e"
      },
      "id": "bbd7WwcXW-q5",
      "execution_count": null,
      "outputs": [
        {
          "output_type": "execute_result",
          "data": {
            "text/plain": [
              "-0.009171514"
            ]
          },
          "metadata": {},
          "execution_count": 179
        }
      ]
    },
    {
      "cell_type": "code",
      "source": [
        ""
      ],
      "metadata": {
        "id": "Slpu-izyGOfv"
      },
      "id": "Slpu-izyGOfv",
      "execution_count": null,
      "outputs": []
    },
    {
      "cell_type": "code",
      "execution_count": null,
      "id": "polish-contractor",
      "metadata": {
        "id": "polish-contractor"
      },
      "outputs": [],
      "source": [
        "\n",
        "w2v_model.build_vocab(pp_article_st_wt,progress_per=10000)\n",
        "w2v_model.train(pp_article_st_wt, total_examples=w2v_model.corpus_count, epochs=50, report_delay=1)\n",
        "words = list(w2v_model.wv.index_to_key)\n",
        "word_emb_list = sorted(words)\n",
        "document_term_emb = np.zeros(shape=(len(pp_article_st), len(word_emb_list)))\n",
        "dte_df = pd.DataFrame(document_term_emb)\n",
        "dte_df.columns = word_emb_list\n",
        "for i in range(len(pp_article_st)):\n",
        "  freq_map = Counter(pp_article_st[i])\n",
        "  for word in word_emb_list:\n",
        "    if freq_map[word] > 0:\n",
        "      dte_df[word].iloc[i] = np.average(w2v_model.wv[word])\n",
        "      freq_map[word] -= 1\n",
        "\n"
      ]
    },
    {
      "cell_type": "markdown",
      "id": "e0317348",
      "metadata": {
        "id": "e0317348"
      },
      "source": [
        "## Create Scikit learn pipe line --> from sklearn.pipeline import Pipeline:-->preprocessing-->BOW/TFIDF/WordEmbeddings/----> LSA/LDA"
      ]
    },
    {
      "cell_type": "code",
      "execution_count": null,
      "id": "a08256b2",
      "metadata": {
        "id": "a08256b2"
      },
      "outputs": [],
      "source": [
        "#inputgiven documents---->\n",
        "input_document = [\"I am enjoying this movie\",\n",
        "\"We cannot go from here to there at any time\"]\n",
        "\n",
        "#given embeddings of words:\n",
        "#hashed acess already exists\n",
        "\n",
        "#create feature vector\n"
      ]
    },
    {
      "cell_type": "code",
      "execution_count": null,
      "id": "8012bc05",
      "metadata": {
        "id": "8012bc05"
      },
      "outputs": [],
      "source": [
        "#we_df = pd.DataFrame(np.zeros(shape=(len(pp_article_st), len(word_emb_list))))\n",
        "#we_df.columns = word_emb_list"
      ]
    },
    {
      "cell_type": "code",
      "execution_count": null,
      "id": "d26c876f",
      "metadata": {
        "colab": {
          "base_uri": "https://localhost:8080/",
          "height": 36
        },
        "id": "d26c876f",
        "outputId": "fd6705e1-df72-4281-98bf-4df3c3ce61ef"
      },
      "outputs": [
        {
          "output_type": "execute_result",
          "data": {
            "application/vnd.google.colaboratory.intrinsic+json": {
              "type": "string"
            },
            "text/plain": [
              "'\\ndef generate_embedding_vector(single_sentence):\\n    word_tokens = word_tokenize(single_sentence)\\n'"
            ]
          },
          "metadata": {},
          "execution_count": 192
        }
      ],
      "source": [
        "\"\"\"\n",
        "def generate_embedding_vector(single_sentence):\n",
        "    word_tokens = word_tokenize(single_sentence)\n",
        "\"\"\""
      ]
    },
    {
      "cell_type": "code",
      "execution_count": null,
      "id": "6d0d69d6-115b-4a88-90f6-3be3aa365e4b",
      "metadata": {
        "id": "6d0d69d6-115b-4a88-90f6-3be3aa365e4b"
      },
      "outputs": [],
      "source": [
        "#array of size word 2 vec\n",
        "#features word_emb_list\n",
        "document_term_emb = np.zeros(shape=(len(pp_article_st), len(word_emb_list)))\n",
        "dte_df = pd.DataFrame(document_term_emb)\n",
        "dte_df.columns = word_emb_list\n",
        "for i in range(len(pp_article_st)):\n",
        "  freq_map = Counter(pp_article_st[i])\n",
        "  for word in word_emb_list:\n",
        "    if freq_map[word] > 0:\n",
        "      dte_df[word].iloc[i] = np.average(w2v_model.wv[word])\n",
        "      freq_map[word] -= 1\n"
      ]
    },
    {
      "cell_type": "code",
      "execution_count": null,
      "id": "da0b906a-0634-4b56-b64d-1e7b8194d944",
      "metadata": {
        "colab": {
          "base_uri": "https://localhost:8080/",
          "height": 456
        },
        "id": "da0b906a-0634-4b56-b64d-1e7b8194d944",
        "outputId": "1ed7b3bf-996c-4461-c843-9f53fe3bcfa9"
      },
      "outputs": [
        {
          "output_type": "execute_result",
          "data": {
            "text/html": [
              "\n",
              "  <div id=\"df-63186f11-b748-4fef-9736-025b87dfb110\">\n",
              "    <div class=\"colab-df-container\">\n",
              "      <div>\n",
              "<style scoped>\n",
              "    .dataframe tbody tr th:only-of-type {\n",
              "        vertical-align: middle;\n",
              "    }\n",
              "\n",
              "    .dataframe tbody tr th {\n",
              "        vertical-align: top;\n",
              "    }\n",
              "\n",
              "    .dataframe thead th {\n",
              "        text-align: right;\n",
              "    }\n",
              "</style>\n",
              "<table border=\"1\" class=\"dataframe\">\n",
              "  <thead>\n",
              "    <tr style=\"text-align: right;\">\n",
              "      <th></th>\n",
              "      <th>0</th>\n",
              "      <th>000</th>\n",
              "      <th>1</th>\n",
              "      <th>10</th>\n",
              "      <th>100</th>\n",
              "      <th>12</th>\n",
              "      <th>14</th>\n",
              "      <th>15</th>\n",
              "      <th>16</th>\n",
              "      <th>17</th>\n",
              "      <th>1776</th>\n",
              "      <th>18</th>\n",
              "      <th>18th</th>\n",
              "      <th>19th_century</th>\n",
              "      <th>2</th>\n",
              "      <th>20</th>\n",
              "      <th>2010</th>\n",
              "      <th>2011</th>\n",
              "      <th>2016</th>\n",
              "      <th>2017</th>\n",
              "      <th>2018</th>\n",
              "      <th>2019</th>\n",
              "      <th>2020</th>\n",
              "      <th>2021</th>\n",
              "      <th>20th_century</th>\n",
              "      <th>23</th>\n",
              "      <th>24</th>\n",
              "      <th>28</th>\n",
              "      <th>3</th>\n",
              "      <th>4</th>\n",
              "      <th>40</th>\n",
              "      <th>5</th>\n",
              "      <th>50</th>\n",
              "      <th>6</th>\n",
              "      <th>7</th>\n",
              "      <th>8</th>\n",
              "      <th>9</th>\n",
              "      <th>according</th>\n",
              "      <th>across</th>\n",
              "      <th>act</th>\n",
              "      <th>...</th>\n",
              "      <th>television</th>\n",
              "      <th>term</th>\n",
              "      <th>territory</th>\n",
              "      <th>third</th>\n",
              "      <th>thirteen</th>\n",
              "      <th>though</th>\n",
              "      <th>three</th>\n",
              "      <th>throughout</th>\n",
              "      <th>time</th>\n",
              "      <th>took</th>\n",
              "      <th>top</th>\n",
              "      <th>total</th>\n",
              "      <th>trade</th>\n",
              "      <th>tradition</th>\n",
              "      <th>trillion</th>\n",
              "      <th>two</th>\n",
              "      <th>u</th>\n",
              "      <th>union</th>\n",
              "      <th>united</th>\n",
              "      <th>united_state</th>\n",
              "      <th>university</th>\n",
              "      <th>used</th>\n",
              "      <th>value</th>\n",
              "      <th>vote</th>\n",
              "      <th>w</th>\n",
              "      <th>war</th>\n",
              "      <th>washington</th>\n",
              "      <th>wave</th>\n",
              "      <th>wealth</th>\n",
              "      <th>well</th>\n",
              "      <th>west</th>\n",
              "      <th>western</th>\n",
              "      <th>white</th>\n",
              "      <th>woman</th>\n",
              "      <th>work</th>\n",
              "      <th>worker</th>\n",
              "      <th>world</th>\n",
              "      <th>world_war</th>\n",
              "      <th>would</th>\n",
              "      <th>year</th>\n",
              "    </tr>\n",
              "  </thead>\n",
              "  <tbody>\n",
              "    <tr>\n",
              "      <th>0</th>\n",
              "      <td>0.00163</td>\n",
              "      <td>0.0</td>\n",
              "      <td>0.03156</td>\n",
              "      <td>0.0</td>\n",
              "      <td>0.0</td>\n",
              "      <td>0.0</td>\n",
              "      <td>0.0</td>\n",
              "      <td>0.0</td>\n",
              "      <td>0.0</td>\n",
              "      <td>0.0</td>\n",
              "      <td>0.0</td>\n",
              "      <td>0.0</td>\n",
              "      <td>0.0</td>\n",
              "      <td>0.0</td>\n",
              "      <td>0.000000</td>\n",
              "      <td>0.0</td>\n",
              "      <td>0.0</td>\n",
              "      <td>0.0</td>\n",
              "      <td>0.0</td>\n",
              "      <td>0.0</td>\n",
              "      <td>0.0</td>\n",
              "      <td>0.0</td>\n",
              "      <td>0.0</td>\n",
              "      <td>0.0</td>\n",
              "      <td>0.0</td>\n",
              "      <td>0.0</td>\n",
              "      <td>0.0</td>\n",
              "      <td>0.0</td>\n",
              "      <td>0.000000</td>\n",
              "      <td>0.027198</td>\n",
              "      <td>0.0</td>\n",
              "      <td>0.000000</td>\n",
              "      <td>0.0</td>\n",
              "      <td>0.000000</td>\n",
              "      <td>0.000000</td>\n",
              "      <td>0.000000</td>\n",
              "      <td>0.000000</td>\n",
              "      <td>0.0</td>\n",
              "      <td>0.0</td>\n",
              "      <td>0.0</td>\n",
              "      <td>...</td>\n",
              "      <td>0.0</td>\n",
              "      <td>0.0</td>\n",
              "      <td>0.0</td>\n",
              "      <td>0.0</td>\n",
              "      <td>0.0</td>\n",
              "      <td>0.0</td>\n",
              "      <td>0.0</td>\n",
              "      <td>0.0</td>\n",
              "      <td>0.0</td>\n",
              "      <td>0.0</td>\n",
              "      <td>0.0</td>\n",
              "      <td>0.0</td>\n",
              "      <td>0.0</td>\n",
              "      <td>0.0</td>\n",
              "      <td>0.0</td>\n",
              "      <td>0.0</td>\n",
              "      <td>-0.012677</td>\n",
              "      <td>0.0</td>\n",
              "      <td>0.0</td>\n",
              "      <td>0.0</td>\n",
              "      <td>0.0</td>\n",
              "      <td>0.0</td>\n",
              "      <td>0.0</td>\n",
              "      <td>0.0</td>\n",
              "      <td>0.013975</td>\n",
              "      <td>0.0</td>\n",
              "      <td>0.0</td>\n",
              "      <td>0.0</td>\n",
              "      <td>0.0</td>\n",
              "      <td>0.0</td>\n",
              "      <td>0.0</td>\n",
              "      <td>0.0</td>\n",
              "      <td>0.0</td>\n",
              "      <td>0.0</td>\n",
              "      <td>0.0</td>\n",
              "      <td>0.0</td>\n",
              "      <td>0.0</td>\n",
              "      <td>0.0</td>\n",
              "      <td>0.0</td>\n",
              "      <td>0.0</td>\n",
              "    </tr>\n",
              "    <tr>\n",
              "      <th>1</th>\n",
              "      <td>0.00163</td>\n",
              "      <td>0.0</td>\n",
              "      <td>0.00000</td>\n",
              "      <td>0.0</td>\n",
              "      <td>0.0</td>\n",
              "      <td>0.0</td>\n",
              "      <td>0.0</td>\n",
              "      <td>0.0</td>\n",
              "      <td>0.0</td>\n",
              "      <td>0.0</td>\n",
              "      <td>0.0</td>\n",
              "      <td>0.0</td>\n",
              "      <td>0.0</td>\n",
              "      <td>0.0</td>\n",
              "      <td>0.006857</td>\n",
              "      <td>0.0</td>\n",
              "      <td>0.0</td>\n",
              "      <td>0.0</td>\n",
              "      <td>0.0</td>\n",
              "      <td>0.0</td>\n",
              "      <td>0.0</td>\n",
              "      <td>0.0</td>\n",
              "      <td>0.0</td>\n",
              "      <td>0.0</td>\n",
              "      <td>0.0</td>\n",
              "      <td>0.0</td>\n",
              "      <td>0.0</td>\n",
              "      <td>0.0</td>\n",
              "      <td>-0.008825</td>\n",
              "      <td>0.000000</td>\n",
              "      <td>0.0</td>\n",
              "      <td>0.014984</td>\n",
              "      <td>0.0</td>\n",
              "      <td>0.008896</td>\n",
              "      <td>0.000000</td>\n",
              "      <td>0.000000</td>\n",
              "      <td>0.000000</td>\n",
              "      <td>0.0</td>\n",
              "      <td>0.0</td>\n",
              "      <td>0.0</td>\n",
              "      <td>...</td>\n",
              "      <td>0.0</td>\n",
              "      <td>0.0</td>\n",
              "      <td>0.0</td>\n",
              "      <td>0.0</td>\n",
              "      <td>0.0</td>\n",
              "      <td>0.0</td>\n",
              "      <td>0.0</td>\n",
              "      <td>0.0</td>\n",
              "      <td>0.0</td>\n",
              "      <td>0.0</td>\n",
              "      <td>0.0</td>\n",
              "      <td>0.0</td>\n",
              "      <td>0.0</td>\n",
              "      <td>0.0</td>\n",
              "      <td>0.0</td>\n",
              "      <td>0.0</td>\n",
              "      <td>-0.012677</td>\n",
              "      <td>0.0</td>\n",
              "      <td>0.0</td>\n",
              "      <td>0.0</td>\n",
              "      <td>0.0</td>\n",
              "      <td>0.0</td>\n",
              "      <td>0.0</td>\n",
              "      <td>0.0</td>\n",
              "      <td>0.000000</td>\n",
              "      <td>0.0</td>\n",
              "      <td>0.0</td>\n",
              "      <td>0.0</td>\n",
              "      <td>0.0</td>\n",
              "      <td>0.0</td>\n",
              "      <td>0.0</td>\n",
              "      <td>0.0</td>\n",
              "      <td>0.0</td>\n",
              "      <td>0.0</td>\n",
              "      <td>0.0</td>\n",
              "      <td>0.0</td>\n",
              "      <td>0.0</td>\n",
              "      <td>0.0</td>\n",
              "      <td>0.0</td>\n",
              "      <td>0.0</td>\n",
              "    </tr>\n",
              "    <tr>\n",
              "      <th>2</th>\n",
              "      <td>0.00000</td>\n",
              "      <td>0.0</td>\n",
              "      <td>0.00000</td>\n",
              "      <td>0.0</td>\n",
              "      <td>0.0</td>\n",
              "      <td>0.0</td>\n",
              "      <td>0.0</td>\n",
              "      <td>0.0</td>\n",
              "      <td>0.0</td>\n",
              "      <td>0.0</td>\n",
              "      <td>0.0</td>\n",
              "      <td>0.0</td>\n",
              "      <td>0.0</td>\n",
              "      <td>0.0</td>\n",
              "      <td>0.000000</td>\n",
              "      <td>0.0</td>\n",
              "      <td>0.0</td>\n",
              "      <td>0.0</td>\n",
              "      <td>0.0</td>\n",
              "      <td>0.0</td>\n",
              "      <td>0.0</td>\n",
              "      <td>0.0</td>\n",
              "      <td>0.0</td>\n",
              "      <td>0.0</td>\n",
              "      <td>0.0</td>\n",
              "      <td>0.0</td>\n",
              "      <td>0.0</td>\n",
              "      <td>0.0</td>\n",
              "      <td>-0.008825</td>\n",
              "      <td>0.000000</td>\n",
              "      <td>0.0</td>\n",
              "      <td>0.000000</td>\n",
              "      <td>0.0</td>\n",
              "      <td>0.000000</td>\n",
              "      <td>0.000000</td>\n",
              "      <td>-0.019334</td>\n",
              "      <td>0.041695</td>\n",
              "      <td>0.0</td>\n",
              "      <td>0.0</td>\n",
              "      <td>0.0</td>\n",
              "      <td>...</td>\n",
              "      <td>0.0</td>\n",
              "      <td>0.0</td>\n",
              "      <td>0.0</td>\n",
              "      <td>0.0</td>\n",
              "      <td>0.0</td>\n",
              "      <td>0.0</td>\n",
              "      <td>0.0</td>\n",
              "      <td>0.0</td>\n",
              "      <td>0.0</td>\n",
              "      <td>0.0</td>\n",
              "      <td>0.0</td>\n",
              "      <td>0.0</td>\n",
              "      <td>0.0</td>\n",
              "      <td>0.0</td>\n",
              "      <td>0.0</td>\n",
              "      <td>0.0</td>\n",
              "      <td>-0.012677</td>\n",
              "      <td>0.0</td>\n",
              "      <td>0.0</td>\n",
              "      <td>0.0</td>\n",
              "      <td>0.0</td>\n",
              "      <td>0.0</td>\n",
              "      <td>0.0</td>\n",
              "      <td>0.0</td>\n",
              "      <td>0.013975</td>\n",
              "      <td>0.0</td>\n",
              "      <td>0.0</td>\n",
              "      <td>0.0</td>\n",
              "      <td>0.0</td>\n",
              "      <td>0.0</td>\n",
              "      <td>0.0</td>\n",
              "      <td>0.0</td>\n",
              "      <td>0.0</td>\n",
              "      <td>0.0</td>\n",
              "      <td>0.0</td>\n",
              "      <td>0.0</td>\n",
              "      <td>0.0</td>\n",
              "      <td>0.0</td>\n",
              "      <td>0.0</td>\n",
              "      <td>0.0</td>\n",
              "    </tr>\n",
              "    <tr>\n",
              "      <th>3</th>\n",
              "      <td>0.00000</td>\n",
              "      <td>0.0</td>\n",
              "      <td>0.00000</td>\n",
              "      <td>0.0</td>\n",
              "      <td>0.0</td>\n",
              "      <td>0.0</td>\n",
              "      <td>0.0</td>\n",
              "      <td>0.0</td>\n",
              "      <td>0.0</td>\n",
              "      <td>0.0</td>\n",
              "      <td>0.0</td>\n",
              "      <td>0.0</td>\n",
              "      <td>0.0</td>\n",
              "      <td>0.0</td>\n",
              "      <td>0.000000</td>\n",
              "      <td>0.0</td>\n",
              "      <td>0.0</td>\n",
              "      <td>0.0</td>\n",
              "      <td>0.0</td>\n",
              "      <td>0.0</td>\n",
              "      <td>0.0</td>\n",
              "      <td>0.0</td>\n",
              "      <td>0.0</td>\n",
              "      <td>0.0</td>\n",
              "      <td>0.0</td>\n",
              "      <td>0.0</td>\n",
              "      <td>0.0</td>\n",
              "      <td>0.0</td>\n",
              "      <td>0.000000</td>\n",
              "      <td>0.000000</td>\n",
              "      <td>0.0</td>\n",
              "      <td>0.000000</td>\n",
              "      <td>0.0</td>\n",
              "      <td>0.000000</td>\n",
              "      <td>0.000000</td>\n",
              "      <td>0.000000</td>\n",
              "      <td>0.000000</td>\n",
              "      <td>0.0</td>\n",
              "      <td>0.0</td>\n",
              "      <td>0.0</td>\n",
              "      <td>...</td>\n",
              "      <td>0.0</td>\n",
              "      <td>0.0</td>\n",
              "      <td>0.0</td>\n",
              "      <td>0.0</td>\n",
              "      <td>0.0</td>\n",
              "      <td>0.0</td>\n",
              "      <td>0.0</td>\n",
              "      <td>0.0</td>\n",
              "      <td>0.0</td>\n",
              "      <td>0.0</td>\n",
              "      <td>0.0</td>\n",
              "      <td>0.0</td>\n",
              "      <td>0.0</td>\n",
              "      <td>0.0</td>\n",
              "      <td>0.0</td>\n",
              "      <td>0.0</td>\n",
              "      <td>-0.012677</td>\n",
              "      <td>0.0</td>\n",
              "      <td>0.0</td>\n",
              "      <td>0.0</td>\n",
              "      <td>0.0</td>\n",
              "      <td>0.0</td>\n",
              "      <td>0.0</td>\n",
              "      <td>0.0</td>\n",
              "      <td>0.013975</td>\n",
              "      <td>0.0</td>\n",
              "      <td>0.0</td>\n",
              "      <td>0.0</td>\n",
              "      <td>0.0</td>\n",
              "      <td>0.0</td>\n",
              "      <td>0.0</td>\n",
              "      <td>0.0</td>\n",
              "      <td>0.0</td>\n",
              "      <td>0.0</td>\n",
              "      <td>0.0</td>\n",
              "      <td>0.0</td>\n",
              "      <td>0.0</td>\n",
              "      <td>0.0</td>\n",
              "      <td>0.0</td>\n",
              "      <td>0.0</td>\n",
              "    </tr>\n",
              "    <tr>\n",
              "      <th>4</th>\n",
              "      <td>0.00000</td>\n",
              "      <td>0.0</td>\n",
              "      <td>0.03156</td>\n",
              "      <td>0.0</td>\n",
              "      <td>0.0</td>\n",
              "      <td>0.0</td>\n",
              "      <td>0.0</td>\n",
              "      <td>0.0</td>\n",
              "      <td>0.0</td>\n",
              "      <td>0.0</td>\n",
              "      <td>0.0</td>\n",
              "      <td>0.0</td>\n",
              "      <td>0.0</td>\n",
              "      <td>0.0</td>\n",
              "      <td>0.000000</td>\n",
              "      <td>0.0</td>\n",
              "      <td>0.0</td>\n",
              "      <td>0.0</td>\n",
              "      <td>0.0</td>\n",
              "      <td>0.0</td>\n",
              "      <td>0.0</td>\n",
              "      <td>0.0</td>\n",
              "      <td>0.0</td>\n",
              "      <td>0.0</td>\n",
              "      <td>0.0</td>\n",
              "      <td>0.0</td>\n",
              "      <td>0.0</td>\n",
              "      <td>0.0</td>\n",
              "      <td>-0.008825</td>\n",
              "      <td>0.000000</td>\n",
              "      <td>0.0</td>\n",
              "      <td>0.000000</td>\n",
              "      <td>0.0</td>\n",
              "      <td>0.000000</td>\n",
              "      <td>0.000000</td>\n",
              "      <td>0.000000</td>\n",
              "      <td>0.000000</td>\n",
              "      <td>0.0</td>\n",
              "      <td>0.0</td>\n",
              "      <td>0.0</td>\n",
              "      <td>...</td>\n",
              "      <td>0.0</td>\n",
              "      <td>0.0</td>\n",
              "      <td>0.0</td>\n",
              "      <td>0.0</td>\n",
              "      <td>0.0</td>\n",
              "      <td>0.0</td>\n",
              "      <td>0.0</td>\n",
              "      <td>0.0</td>\n",
              "      <td>0.0</td>\n",
              "      <td>0.0</td>\n",
              "      <td>0.0</td>\n",
              "      <td>0.0</td>\n",
              "      <td>0.0</td>\n",
              "      <td>0.0</td>\n",
              "      <td>0.0</td>\n",
              "      <td>0.0</td>\n",
              "      <td>-0.012677</td>\n",
              "      <td>0.0</td>\n",
              "      <td>0.0</td>\n",
              "      <td>0.0</td>\n",
              "      <td>0.0</td>\n",
              "      <td>0.0</td>\n",
              "      <td>0.0</td>\n",
              "      <td>0.0</td>\n",
              "      <td>0.013975</td>\n",
              "      <td>0.0</td>\n",
              "      <td>0.0</td>\n",
              "      <td>0.0</td>\n",
              "      <td>0.0</td>\n",
              "      <td>0.0</td>\n",
              "      <td>0.0</td>\n",
              "      <td>0.0</td>\n",
              "      <td>0.0</td>\n",
              "      <td>0.0</td>\n",
              "      <td>0.0</td>\n",
              "      <td>0.0</td>\n",
              "      <td>0.0</td>\n",
              "      <td>0.0</td>\n",
              "      <td>0.0</td>\n",
              "      <td>0.0</td>\n",
              "    </tr>\n",
              "    <tr>\n",
              "      <th>5</th>\n",
              "      <td>0.00000</td>\n",
              "      <td>0.0</td>\n",
              "      <td>0.00000</td>\n",
              "      <td>0.0</td>\n",
              "      <td>0.0</td>\n",
              "      <td>0.0</td>\n",
              "      <td>0.0</td>\n",
              "      <td>0.0</td>\n",
              "      <td>0.0</td>\n",
              "      <td>0.0</td>\n",
              "      <td>0.0</td>\n",
              "      <td>0.0</td>\n",
              "      <td>0.0</td>\n",
              "      <td>0.0</td>\n",
              "      <td>0.000000</td>\n",
              "      <td>0.0</td>\n",
              "      <td>0.0</td>\n",
              "      <td>0.0</td>\n",
              "      <td>0.0</td>\n",
              "      <td>0.0</td>\n",
              "      <td>0.0</td>\n",
              "      <td>0.0</td>\n",
              "      <td>0.0</td>\n",
              "      <td>0.0</td>\n",
              "      <td>0.0</td>\n",
              "      <td>0.0</td>\n",
              "      <td>0.0</td>\n",
              "      <td>0.0</td>\n",
              "      <td>0.000000</td>\n",
              "      <td>0.000000</td>\n",
              "      <td>0.0</td>\n",
              "      <td>0.000000</td>\n",
              "      <td>0.0</td>\n",
              "      <td>0.000000</td>\n",
              "      <td>0.000000</td>\n",
              "      <td>0.000000</td>\n",
              "      <td>0.000000</td>\n",
              "      <td>0.0</td>\n",
              "      <td>0.0</td>\n",
              "      <td>0.0</td>\n",
              "      <td>...</td>\n",
              "      <td>0.0</td>\n",
              "      <td>0.0</td>\n",
              "      <td>0.0</td>\n",
              "      <td>0.0</td>\n",
              "      <td>0.0</td>\n",
              "      <td>0.0</td>\n",
              "      <td>0.0</td>\n",
              "      <td>0.0</td>\n",
              "      <td>0.0</td>\n",
              "      <td>0.0</td>\n",
              "      <td>0.0</td>\n",
              "      <td>0.0</td>\n",
              "      <td>0.0</td>\n",
              "      <td>0.0</td>\n",
              "      <td>0.0</td>\n",
              "      <td>0.0</td>\n",
              "      <td>-0.012677</td>\n",
              "      <td>0.0</td>\n",
              "      <td>0.0</td>\n",
              "      <td>0.0</td>\n",
              "      <td>0.0</td>\n",
              "      <td>0.0</td>\n",
              "      <td>0.0</td>\n",
              "      <td>0.0</td>\n",
              "      <td>0.013975</td>\n",
              "      <td>0.0</td>\n",
              "      <td>0.0</td>\n",
              "      <td>0.0</td>\n",
              "      <td>0.0</td>\n",
              "      <td>0.0</td>\n",
              "      <td>0.0</td>\n",
              "      <td>0.0</td>\n",
              "      <td>0.0</td>\n",
              "      <td>0.0</td>\n",
              "      <td>0.0</td>\n",
              "      <td>0.0</td>\n",
              "      <td>0.0</td>\n",
              "      <td>0.0</td>\n",
              "      <td>0.0</td>\n",
              "      <td>0.0</td>\n",
              "    </tr>\n",
              "    <tr>\n",
              "      <th>6</th>\n",
              "      <td>0.00163</td>\n",
              "      <td>0.0</td>\n",
              "      <td>0.03156</td>\n",
              "      <td>0.0</td>\n",
              "      <td>0.0</td>\n",
              "      <td>0.0</td>\n",
              "      <td>0.0</td>\n",
              "      <td>0.0</td>\n",
              "      <td>0.0</td>\n",
              "      <td>0.0</td>\n",
              "      <td>0.0</td>\n",
              "      <td>0.0</td>\n",
              "      <td>0.0</td>\n",
              "      <td>0.0</td>\n",
              "      <td>0.006857</td>\n",
              "      <td>0.0</td>\n",
              "      <td>0.0</td>\n",
              "      <td>0.0</td>\n",
              "      <td>0.0</td>\n",
              "      <td>0.0</td>\n",
              "      <td>0.0</td>\n",
              "      <td>0.0</td>\n",
              "      <td>0.0</td>\n",
              "      <td>0.0</td>\n",
              "      <td>0.0</td>\n",
              "      <td>0.0</td>\n",
              "      <td>0.0</td>\n",
              "      <td>0.0</td>\n",
              "      <td>0.000000</td>\n",
              "      <td>0.000000</td>\n",
              "      <td>0.0</td>\n",
              "      <td>0.000000</td>\n",
              "      <td>0.0</td>\n",
              "      <td>0.008896</td>\n",
              "      <td>0.000000</td>\n",
              "      <td>0.000000</td>\n",
              "      <td>0.000000</td>\n",
              "      <td>0.0</td>\n",
              "      <td>0.0</td>\n",
              "      <td>0.0</td>\n",
              "      <td>...</td>\n",
              "      <td>0.0</td>\n",
              "      <td>0.0</td>\n",
              "      <td>0.0</td>\n",
              "      <td>0.0</td>\n",
              "      <td>0.0</td>\n",
              "      <td>0.0</td>\n",
              "      <td>0.0</td>\n",
              "      <td>0.0</td>\n",
              "      <td>0.0</td>\n",
              "      <td>0.0</td>\n",
              "      <td>0.0</td>\n",
              "      <td>0.0</td>\n",
              "      <td>0.0</td>\n",
              "      <td>0.0</td>\n",
              "      <td>0.0</td>\n",
              "      <td>0.0</td>\n",
              "      <td>-0.012677</td>\n",
              "      <td>0.0</td>\n",
              "      <td>0.0</td>\n",
              "      <td>0.0</td>\n",
              "      <td>0.0</td>\n",
              "      <td>0.0</td>\n",
              "      <td>0.0</td>\n",
              "      <td>0.0</td>\n",
              "      <td>0.000000</td>\n",
              "      <td>0.0</td>\n",
              "      <td>0.0</td>\n",
              "      <td>0.0</td>\n",
              "      <td>0.0</td>\n",
              "      <td>0.0</td>\n",
              "      <td>0.0</td>\n",
              "      <td>0.0</td>\n",
              "      <td>0.0</td>\n",
              "      <td>0.0</td>\n",
              "      <td>0.0</td>\n",
              "      <td>0.0</td>\n",
              "      <td>0.0</td>\n",
              "      <td>0.0</td>\n",
              "      <td>0.0</td>\n",
              "      <td>0.0</td>\n",
              "    </tr>\n",
              "    <tr>\n",
              "      <th>7</th>\n",
              "      <td>0.00000</td>\n",
              "      <td>0.0</td>\n",
              "      <td>0.00000</td>\n",
              "      <td>0.0</td>\n",
              "      <td>0.0</td>\n",
              "      <td>0.0</td>\n",
              "      <td>0.0</td>\n",
              "      <td>0.0</td>\n",
              "      <td>0.0</td>\n",
              "      <td>0.0</td>\n",
              "      <td>0.0</td>\n",
              "      <td>0.0</td>\n",
              "      <td>0.0</td>\n",
              "      <td>0.0</td>\n",
              "      <td>0.000000</td>\n",
              "      <td>0.0</td>\n",
              "      <td>0.0</td>\n",
              "      <td>0.0</td>\n",
              "      <td>0.0</td>\n",
              "      <td>0.0</td>\n",
              "      <td>0.0</td>\n",
              "      <td>0.0</td>\n",
              "      <td>0.0</td>\n",
              "      <td>0.0</td>\n",
              "      <td>0.0</td>\n",
              "      <td>0.0</td>\n",
              "      <td>0.0</td>\n",
              "      <td>0.0</td>\n",
              "      <td>0.000000</td>\n",
              "      <td>0.000000</td>\n",
              "      <td>0.0</td>\n",
              "      <td>0.000000</td>\n",
              "      <td>0.0</td>\n",
              "      <td>0.000000</td>\n",
              "      <td>0.000000</td>\n",
              "      <td>0.000000</td>\n",
              "      <td>0.000000</td>\n",
              "      <td>0.0</td>\n",
              "      <td>0.0</td>\n",
              "      <td>0.0</td>\n",
              "      <td>...</td>\n",
              "      <td>0.0</td>\n",
              "      <td>0.0</td>\n",
              "      <td>0.0</td>\n",
              "      <td>0.0</td>\n",
              "      <td>0.0</td>\n",
              "      <td>0.0</td>\n",
              "      <td>0.0</td>\n",
              "      <td>0.0</td>\n",
              "      <td>0.0</td>\n",
              "      <td>0.0</td>\n",
              "      <td>0.0</td>\n",
              "      <td>0.0</td>\n",
              "      <td>0.0</td>\n",
              "      <td>0.0</td>\n",
              "      <td>0.0</td>\n",
              "      <td>0.0</td>\n",
              "      <td>-0.012677</td>\n",
              "      <td>0.0</td>\n",
              "      <td>0.0</td>\n",
              "      <td>0.0</td>\n",
              "      <td>0.0</td>\n",
              "      <td>0.0</td>\n",
              "      <td>0.0</td>\n",
              "      <td>0.0</td>\n",
              "      <td>0.000000</td>\n",
              "      <td>0.0</td>\n",
              "      <td>0.0</td>\n",
              "      <td>0.0</td>\n",
              "      <td>0.0</td>\n",
              "      <td>0.0</td>\n",
              "      <td>0.0</td>\n",
              "      <td>0.0</td>\n",
              "      <td>0.0</td>\n",
              "      <td>0.0</td>\n",
              "      <td>0.0</td>\n",
              "      <td>0.0</td>\n",
              "      <td>0.0</td>\n",
              "      <td>0.0</td>\n",
              "      <td>0.0</td>\n",
              "      <td>0.0</td>\n",
              "    </tr>\n",
              "    <tr>\n",
              "      <th>8</th>\n",
              "      <td>0.00000</td>\n",
              "      <td>0.0</td>\n",
              "      <td>0.03156</td>\n",
              "      <td>0.0</td>\n",
              "      <td>0.0</td>\n",
              "      <td>0.0</td>\n",
              "      <td>0.0</td>\n",
              "      <td>0.0</td>\n",
              "      <td>0.0</td>\n",
              "      <td>0.0</td>\n",
              "      <td>0.0</td>\n",
              "      <td>0.0</td>\n",
              "      <td>0.0</td>\n",
              "      <td>0.0</td>\n",
              "      <td>0.000000</td>\n",
              "      <td>0.0</td>\n",
              "      <td>0.0</td>\n",
              "      <td>0.0</td>\n",
              "      <td>0.0</td>\n",
              "      <td>0.0</td>\n",
              "      <td>0.0</td>\n",
              "      <td>0.0</td>\n",
              "      <td>0.0</td>\n",
              "      <td>0.0</td>\n",
              "      <td>0.0</td>\n",
              "      <td>0.0</td>\n",
              "      <td>0.0</td>\n",
              "      <td>0.0</td>\n",
              "      <td>-0.008825</td>\n",
              "      <td>0.000000</td>\n",
              "      <td>0.0</td>\n",
              "      <td>0.014984</td>\n",
              "      <td>0.0</td>\n",
              "      <td>0.000000</td>\n",
              "      <td>0.004718</td>\n",
              "      <td>-0.019334</td>\n",
              "      <td>0.000000</td>\n",
              "      <td>0.0</td>\n",
              "      <td>0.0</td>\n",
              "      <td>0.0</td>\n",
              "      <td>...</td>\n",
              "      <td>0.0</td>\n",
              "      <td>0.0</td>\n",
              "      <td>0.0</td>\n",
              "      <td>0.0</td>\n",
              "      <td>0.0</td>\n",
              "      <td>0.0</td>\n",
              "      <td>0.0</td>\n",
              "      <td>0.0</td>\n",
              "      <td>0.0</td>\n",
              "      <td>0.0</td>\n",
              "      <td>0.0</td>\n",
              "      <td>0.0</td>\n",
              "      <td>0.0</td>\n",
              "      <td>0.0</td>\n",
              "      <td>0.0</td>\n",
              "      <td>0.0</td>\n",
              "      <td>-0.012677</td>\n",
              "      <td>0.0</td>\n",
              "      <td>0.0</td>\n",
              "      <td>0.0</td>\n",
              "      <td>0.0</td>\n",
              "      <td>0.0</td>\n",
              "      <td>0.0</td>\n",
              "      <td>0.0</td>\n",
              "      <td>0.013975</td>\n",
              "      <td>0.0</td>\n",
              "      <td>0.0</td>\n",
              "      <td>0.0</td>\n",
              "      <td>0.0</td>\n",
              "      <td>0.0</td>\n",
              "      <td>0.0</td>\n",
              "      <td>0.0</td>\n",
              "      <td>0.0</td>\n",
              "      <td>0.0</td>\n",
              "      <td>0.0</td>\n",
              "      <td>0.0</td>\n",
              "      <td>0.0</td>\n",
              "      <td>0.0</td>\n",
              "      <td>0.0</td>\n",
              "      <td>0.0</td>\n",
              "    </tr>\n",
              "    <tr>\n",
              "      <th>9</th>\n",
              "      <td>0.00000</td>\n",
              "      <td>0.0</td>\n",
              "      <td>0.03156</td>\n",
              "      <td>0.0</td>\n",
              "      <td>0.0</td>\n",
              "      <td>0.0</td>\n",
              "      <td>0.0</td>\n",
              "      <td>0.0</td>\n",
              "      <td>0.0</td>\n",
              "      <td>0.0</td>\n",
              "      <td>0.0</td>\n",
              "      <td>0.0</td>\n",
              "      <td>0.0</td>\n",
              "      <td>0.0</td>\n",
              "      <td>0.000000</td>\n",
              "      <td>0.0</td>\n",
              "      <td>0.0</td>\n",
              "      <td>0.0</td>\n",
              "      <td>0.0</td>\n",
              "      <td>0.0</td>\n",
              "      <td>0.0</td>\n",
              "      <td>0.0</td>\n",
              "      <td>0.0</td>\n",
              "      <td>0.0</td>\n",
              "      <td>0.0</td>\n",
              "      <td>0.0</td>\n",
              "      <td>0.0</td>\n",
              "      <td>0.0</td>\n",
              "      <td>0.000000</td>\n",
              "      <td>0.027198</td>\n",
              "      <td>0.0</td>\n",
              "      <td>0.000000</td>\n",
              "      <td>0.0</td>\n",
              "      <td>0.000000</td>\n",
              "      <td>0.000000</td>\n",
              "      <td>-0.019334</td>\n",
              "      <td>0.000000</td>\n",
              "      <td>0.0</td>\n",
              "      <td>0.0</td>\n",
              "      <td>0.0</td>\n",
              "      <td>...</td>\n",
              "      <td>0.0</td>\n",
              "      <td>0.0</td>\n",
              "      <td>0.0</td>\n",
              "      <td>0.0</td>\n",
              "      <td>0.0</td>\n",
              "      <td>0.0</td>\n",
              "      <td>0.0</td>\n",
              "      <td>0.0</td>\n",
              "      <td>0.0</td>\n",
              "      <td>0.0</td>\n",
              "      <td>0.0</td>\n",
              "      <td>0.0</td>\n",
              "      <td>0.0</td>\n",
              "      <td>0.0</td>\n",
              "      <td>0.0</td>\n",
              "      <td>0.0</td>\n",
              "      <td>-0.012677</td>\n",
              "      <td>0.0</td>\n",
              "      <td>0.0</td>\n",
              "      <td>0.0</td>\n",
              "      <td>0.0</td>\n",
              "      <td>0.0</td>\n",
              "      <td>0.0</td>\n",
              "      <td>0.0</td>\n",
              "      <td>0.013975</td>\n",
              "      <td>0.0</td>\n",
              "      <td>0.0</td>\n",
              "      <td>0.0</td>\n",
              "      <td>0.0</td>\n",
              "      <td>0.0</td>\n",
              "      <td>0.0</td>\n",
              "      <td>0.0</td>\n",
              "      <td>0.0</td>\n",
              "      <td>0.0</td>\n",
              "      <td>0.0</td>\n",
              "      <td>0.0</td>\n",
              "      <td>0.0</td>\n",
              "      <td>0.0</td>\n",
              "      <td>0.0</td>\n",
              "      <td>0.0</td>\n",
              "    </tr>\n",
              "  </tbody>\n",
              "</table>\n",
              "<p>10 rows × 401 columns</p>\n",
              "</div>\n",
              "      <button class=\"colab-df-convert\" onclick=\"convertToInteractive('df-63186f11-b748-4fef-9736-025b87dfb110')\"\n",
              "              title=\"Convert this dataframe to an interactive table.\"\n",
              "              style=\"display:none;\">\n",
              "        \n",
              "  <svg xmlns=\"http://www.w3.org/2000/svg\" height=\"24px\"viewBox=\"0 0 24 24\"\n",
              "       width=\"24px\">\n",
              "    <path d=\"M0 0h24v24H0V0z\" fill=\"none\"/>\n",
              "    <path d=\"M18.56 5.44l.94 2.06.94-2.06 2.06-.94-2.06-.94-.94-2.06-.94 2.06-2.06.94zm-11 1L8.5 8.5l.94-2.06 2.06-.94-2.06-.94L8.5 2.5l-.94 2.06-2.06.94zm10 10l.94 2.06.94-2.06 2.06-.94-2.06-.94-.94-2.06-.94 2.06-2.06.94z\"/><path d=\"M17.41 7.96l-1.37-1.37c-.4-.4-.92-.59-1.43-.59-.52 0-1.04.2-1.43.59L10.3 9.45l-7.72 7.72c-.78.78-.78 2.05 0 2.83L4 21.41c.39.39.9.59 1.41.59.51 0 1.02-.2 1.41-.59l7.78-7.78 2.81-2.81c.8-.78.8-2.07 0-2.86zM5.41 20L4 18.59l7.72-7.72 1.47 1.35L5.41 20z\"/>\n",
              "  </svg>\n",
              "      </button>\n",
              "      \n",
              "  <style>\n",
              "    .colab-df-container {\n",
              "      display:flex;\n",
              "      flex-wrap:wrap;\n",
              "      gap: 12px;\n",
              "    }\n",
              "\n",
              "    .colab-df-convert {\n",
              "      background-color: #E8F0FE;\n",
              "      border: none;\n",
              "      border-radius: 50%;\n",
              "      cursor: pointer;\n",
              "      display: none;\n",
              "      fill: #1967D2;\n",
              "      height: 32px;\n",
              "      padding: 0 0 0 0;\n",
              "      width: 32px;\n",
              "    }\n",
              "\n",
              "    .colab-df-convert:hover {\n",
              "      background-color: #E2EBFA;\n",
              "      box-shadow: 0px 1px 2px rgba(60, 64, 67, 0.3), 0px 1px 3px 1px rgba(60, 64, 67, 0.15);\n",
              "      fill: #174EA6;\n",
              "    }\n",
              "\n",
              "    [theme=dark] .colab-df-convert {\n",
              "      background-color: #3B4455;\n",
              "      fill: #D2E3FC;\n",
              "    }\n",
              "\n",
              "    [theme=dark] .colab-df-convert:hover {\n",
              "      background-color: #434B5C;\n",
              "      box-shadow: 0px 1px 3px 1px rgba(0, 0, 0, 0.15);\n",
              "      filter: drop-shadow(0px 1px 2px rgba(0, 0, 0, 0.3));\n",
              "      fill: #FFFFFF;\n",
              "    }\n",
              "  </style>\n",
              "\n",
              "      <script>\n",
              "        const buttonEl =\n",
              "          document.querySelector('#df-63186f11-b748-4fef-9736-025b87dfb110 button.colab-df-convert');\n",
              "        buttonEl.style.display =\n",
              "          google.colab.kernel.accessAllowed ? 'block' : 'none';\n",
              "\n",
              "        async function convertToInteractive(key) {\n",
              "          const element = document.querySelector('#df-63186f11-b748-4fef-9736-025b87dfb110');\n",
              "          const dataTable =\n",
              "            await google.colab.kernel.invokeFunction('convertToInteractive',\n",
              "                                                     [key], {});\n",
              "          if (!dataTable) return;\n",
              "\n",
              "          const docLinkHtml = 'Like what you see? Visit the ' +\n",
              "            '<a target=\"_blank\" href=https://colab.research.google.com/notebooks/data_table.ipynb>data table notebook</a>'\n",
              "            + ' to learn more about interactive tables.';\n",
              "          element.innerHTML = '';\n",
              "          dataTable['output_type'] = 'display_data';\n",
              "          await google.colab.output.renderOutput(dataTable, element);\n",
              "          const docLink = document.createElement('div');\n",
              "          docLink.innerHTML = docLinkHtml;\n",
              "          element.appendChild(docLink);\n",
              "        }\n",
              "      </script>\n",
              "    </div>\n",
              "  </div>\n",
              "  "
            ],
            "text/plain": [
              "         0  000        1   10  100  ...  worker  world  world_war  would  year\n",
              "0  0.00163  0.0  0.03156  0.0  0.0  ...     0.0    0.0        0.0    0.0   0.0\n",
              "1  0.00163  0.0  0.00000  0.0  0.0  ...     0.0    0.0        0.0    0.0   0.0\n",
              "2  0.00000  0.0  0.00000  0.0  0.0  ...     0.0    0.0        0.0    0.0   0.0\n",
              "3  0.00000  0.0  0.00000  0.0  0.0  ...     0.0    0.0        0.0    0.0   0.0\n",
              "4  0.00000  0.0  0.03156  0.0  0.0  ...     0.0    0.0        0.0    0.0   0.0\n",
              "5  0.00000  0.0  0.00000  0.0  0.0  ...     0.0    0.0        0.0    0.0   0.0\n",
              "6  0.00163  0.0  0.03156  0.0  0.0  ...     0.0    0.0        0.0    0.0   0.0\n",
              "7  0.00000  0.0  0.00000  0.0  0.0  ...     0.0    0.0        0.0    0.0   0.0\n",
              "8  0.00000  0.0  0.03156  0.0  0.0  ...     0.0    0.0        0.0    0.0   0.0\n",
              "9  0.00000  0.0  0.03156  0.0  0.0  ...     0.0    0.0        0.0    0.0   0.0\n",
              "\n",
              "[10 rows x 401 columns]"
            ]
          },
          "metadata": {},
          "execution_count": 194
        }
      ],
      "source": [
        "dte_df.head(10)"
      ]
    },
    {
      "cell_type": "code",
      "execution_count": null,
      "id": "27a43174",
      "metadata": {
        "colab": {
          "base_uri": "https://localhost:8080/"
        },
        "id": "27a43174",
        "outputId": "ae367bf0-5102-49bd-aa63-7021c4f9af19"
      },
      "outputs": [
        {
          "output_type": "execute_result",
          "data": {
            "text/plain": [
              "['coordinate mw parser output geo default mw parser output geo dm mw parser output geo dec display inline mw parser output geo nondefault mw parser output geo multi punct display none mw parser output longitude mw parser output latitude white space nowrap 40 n 100 w 40 n 100 w 40 100the united state america u usa commonly known united state u u america country primarily located north america',\n",
              " 'consists 50 state federal district five major unincorporated territory 326 indian reservation minor possession',\n",
              " '3 8 million square mile 9 8 million square kilometer world third fourth largest country total area',\n",
              " 'united state share significant land border canada north mexico south well limited maritime border bahamas cuba russia',\n",
              " 'population 331 million people third populous country world',\n",
              " 'national capital washington c populous city new york city',\n",
              " 'paleo indian migrated siberia north american mainland least 12 000 year ago european colonization began 16th century',\n",
              " 'united state emerged thirteen british colony established along east coast',\n",
              " 'dispute great britain taxation political representation led american revolutionary war 1775 1783 established nation independence',\n",
              " 'late 18th century u began expanding across north america gradually obtaining new territory sometimes war frequently displacing native american admitting new state 1848 united state spanned continent']"
            ]
          },
          "metadata": {},
          "execution_count": 195
        }
      ],
      "source": [
        "pp_article_st[0:10]"
      ]
    },
    {
      "cell_type": "code",
      "source": [
        ""
      ],
      "metadata": {
        "id": "YhEo_nseWnNu"
      },
      "id": "YhEo_nseWnNu",
      "execution_count": null,
      "outputs": []
    },
    {
      "cell_type": "code",
      "source": [
        ""
      ],
      "metadata": {
        "id": "zJuXzwBYWsr7"
      },
      "id": "zJuXzwBYWsr7",
      "execution_count": null,
      "outputs": []
    },
    {
      "cell_type": "code",
      "execution_count": null,
      "id": "6265e9c6",
      "metadata": {
        "id": "6265e9c6"
      },
      "outputs": [],
      "source": [
        "for i in range(len(pp_article_st)):\n",
        "  freq_map = Counter(pp_article_st[i])\n",
        "  for word in word_emb_list:\n",
        "    if freq_map[word] > 0:\n",
        "      dte_df[word].iloc[i] += np.average(w2v_model.wv[word])\n",
        "      freq_map[word] -= 1"
      ]
    },
    {
      "cell_type": "code",
      "source": [
        ""
      ],
      "metadata": {
        "id": "62jGuwMAZJl_"
      },
      "id": "62jGuwMAZJl_",
      "execution_count": null,
      "outputs": []
    },
    {
      "cell_type": "code",
      "source": [
        ""
      ],
      "metadata": {
        "id": "X6dtmHV0ZNyJ"
      },
      "id": "X6dtmHV0ZNyJ",
      "execution_count": null,
      "outputs": []
    },
    {
      "cell_type": "code",
      "execution_count": null,
      "id": "9063bd06",
      "metadata": {
        "colab": {
          "base_uri": "https://localhost:8080/",
          "height": 205
        },
        "id": "9063bd06",
        "outputId": "299b7cc8-dcb8-4a9e-d993-2e8019ea8fa4"
      },
      "outputs": [
        {
          "output_type": "stream",
          "name": "stdout",
          "text": [
            "Number of Lines in Summary: 10 \n",
            "\n"
          ]
        },
        {
          "output_type": "execute_result",
          "data": {
            "application/vnd.google.colaboratory.intrinsic+json": {
              "type": "string"
            },
            "text/plain": [
              "'[288] defense\\'s share of the overall u.s. economy has generally declined in recent decades, from early cold war peaks of 14.2% of gdp in 1953 and 69.5% of federal spending in 1954 to 4.7% of gdp and 18.8% of federal spending in 2011. [540]\\nin 1998, the number of u.s. commercial radio stations had grown to 4,793 am stations and 5,662 fm stations. [86] the 1803 louisiana purchase almost doubled the nation\\'s area,[87] spain ceded florida and other gulf coast territory in 1819,[88] the republic of texas was annexed in 1845 during a period of expansionism,[89] and the 1846 oregon treaty with britain led to u.s. control of the present-day american northwest. [424]\\nthe centers for disease control and prevention (cdc) reported that the united states had an average life expectancy at birth of 77.3 years in 2020 (74.5 years for men and 80.2 years for women), down 1.5 years from 2019. according to provisional figures, this was the lowest average u.s. life expectancy recorded by the cdc since 2003, the first overall decline since 2018, and \"the largest one-year decline since world war ii.\" [195] the united states is home to 428 mammal species, 784 bird species, 311 reptile species, and 295 amphibian species,[196] as well as about 91,000 insect species. [296] the department of justice said that the imprisonment rate for all prisoners sentenced to more than a year in state or federal facilities in 2019 stood at 419 per 100,000 residents which was at its lowest point since 1995 and that the total prison population for the same year stood at 1,430,800 which represented an 11% decrease in the population size from a decade earlier. since the general election of 1856, the major parties have been the democratic party, founded in 1824, and the republican party, founded in 1854. since the civil war, only one third-party presidential candidate—former president theodore roosevelt, running as a progressive in 1912—has won as much as 20% of the popular vote, though the self-financed reform party campaign of ross perot took 18.9% in 1992. [175]\\nthe 48 contiguous states and the district of columbia occupy a combined area of 3,119,885 square miles (8,080,470\\xa0km2). notable films topping the american film institute\\'s afi 100 list include orson welles\\'s citizen kane (1941), which is frequently cited as the greatest film of all time,[520][521] casablanca (1942), the godfather (1972), gone with the wind (1939), lawrence of arabia (1962), the wizard of oz (1939), the graduate (1967), on the waterfront (1954), schindler\\'s list (1993), singin\\' in the rain (1952), it\\'s a wonderful life (1946) and sunset boulevard (1950). [430][431]\\nincreasing obesity in the united states and improvements in health and longevity outside the u.s. contributed to lowering the country\\'s rank in life expectancy from 11th in the world in 1987 to 42nd in 2007. in 2017, the united states had the lowest life expectancy among japan, canada, australia, the united kingdom, and seven nations in western europe.'"
            ]
          },
          "metadata": {},
          "execution_count": 197
        }
      ],
      "source": [
        "X = dte_df.to_numpy()\n",
        "U, SIGMA, VT = randomized_svd(X,n_components=N_LINE,n_iter=100,random_state=100) #perform Latent Semantic Analysis (LSA)\n",
        "scores = np.sqrt(np.dot(U**2,SIGMA**2)) #generate scores for all sentences\n",
        "top_scores_index = np.argsort(scores) #get index of highest scores\n",
        "top_scores_index = top_scores_index[::-1] #sort the indexes in descending order\n",
        "top_scores_index = top_scores_index[0:N_LINE] #get top N Scores index\n",
        "article_array = np.array(article_st) #convert list to array for indexing purpose\n",
        "bow_sum = article_array[top_scores_index] #get top N scoring sentences\n",
        "bow_sum = list(bow_sum) #convert array back to list\n",
        "print(f\"Number of Lines in Summary: {len(bow_sum)} \\n\")\n",
        "bow_sum_unigram = (\" \").join(bow_sum) #convert list to single string\n",
        "bow_sum_unigram"
      ]
    },
    {
      "cell_type": "code",
      "execution_count": null,
      "id": "00f7d18f",
      "metadata": {
        "colab": {
          "base_uri": "https://localhost:8080/"
        },
        "id": "00f7d18f",
        "outputId": "0f26e784-2019-4fbd-a9f2-4f45005d9672"
      },
      "outputs": [
        {
          "output_type": "execute_result",
          "data": {
            "text/plain": [
              "0.18631178707224336"
            ]
          },
          "metadata": {},
          "execution_count": 204
        }
      ],
      "source": [
        "scorer = rouge_scorer.RougeScorer(['rouge1'], use_stemmer=False)\n",
        "score_1gram_tfidf = scorer.score(bow_sum_unigram,survey_summary2)[\"rouge1\"].recall #TF-IDF\n",
        "score_1gram_tfidf"
      ]
    },
    {
      "cell_type": "code",
      "source": [
        ""
      ],
      "metadata": {
        "id": "iweOx0tiIO1x"
      },
      "id": "iweOx0tiIO1x",
      "execution_count": null,
      "outputs": []
    },
    {
      "cell_type": "code",
      "source": [
        ""
      ],
      "metadata": {
        "id": "9wecxtZBIO5j"
      },
      "id": "9wecxtZBIO5j",
      "execution_count": null,
      "outputs": []
    },
    {
      "cell_type": "markdown",
      "source": [
        ""
      ],
      "metadata": {
        "id": "mhyClc26IPP5"
      },
      "id": "mhyClc26IPP5"
    },
    {
      "cell_type": "code",
      "source": [
        "bigram_transformer = Phrases(pp_article_st_wt)\n",
        "w2v_model = Word2Vec(bigram_transformer[pp_article_st_wt],\n",
        "                    min_count = 5, \n",
        "                    window = 5,\n",
        "                    vector_size=10,\n",
        "                    sample=6e-5,\n",
        "                    alpha=0.001,\n",
        "                    min_alpha = 0.0007,\n",
        "                    negative=10,\n",
        "                    workers=num_cores-2)\n",
        "words = list(w2v_model.wv.index_to_key)\n",
        "word_emb_list = sorted(words)\n",
        "\n",
        "document_term_emb = np.zeros(shape=(len(pp_article_st_wt), len(word_emb_list)))\n",
        "dte_df = pd.DataFrame(document_term_emb)\n",
        "dte_df.columns = word_emb_list\n",
        "for i in range(len(pp_article_st)):\n",
        "  freq_map = Counter(pp_article_st[i])\n",
        "  for word in word_emb_list:\n",
        "    if freq_map[word] > 0:\n",
        "      dte_df[word].iloc[i] += np.median(w2v_model.wv[word])\n",
        "      freq_map[word] -= 1\n",
        "      \n",
        "X = dte_df.to_numpy()\n",
        "U, SIGMA, VT = randomized_svd(X,n_components=N_LINE,n_iter=100,random_state=100) #perform Latent Semantic Analysis (LSA)\n",
        "scores = np.sqrt(np.dot(U**2,SIGMA**2)) #generate scores for all sentences\n",
        "top_scores_index = np.argsort(scores) #get index of highest scores\n",
        "top_scores_index = top_scores_index[::-1] #sort the indexes in descending order\n",
        "top_scores_index = top_scores_index[0:N_LINE] #get top N Scores index\n",
        "article_array = np.array(article_st) #convert list to array for indexing purpose\n",
        "bow_sum = article_array[top_scores_index] #get top N scoring sentences\n",
        "bow_sum = list(bow_sum) #convert array back to list\n",
        "print(f\"Number of Lines in Summary: {len(bow_sum)} \\n\")\n",
        "bow_sum_unigram = (\" \").join(bow_sum) #convert list to single string\n",
        "bow_sum_unigram      "
      ],
      "metadata": {
        "id": "uy5mdpJSFtFl"
      },
      "id": "uy5mdpJSFtFl",
      "execution_count": null,
      "outputs": []
    },
    {
      "cell_type": "code",
      "source": [
        ""
      ],
      "metadata": {
        "id": "IWdiQvANIo-k"
      },
      "id": "IWdiQvANIo-k",
      "execution_count": null,
      "outputs": []
    },
    {
      "cell_type": "code",
      "source": [
        ""
      ],
      "metadata": {
        "id": "WZ9fScDDeDBN"
      },
      "id": "WZ9fScDDeDBN",
      "execution_count": null,
      "outputs": []
    },
    {
      "cell_type": "code",
      "source": [
        ""
      ],
      "metadata": {
        "id": "4vf-fTVGeGCl"
      },
      "id": "4vf-fTVGeGCl",
      "execution_count": null,
      "outputs": []
    },
    {
      "cell_type": "code",
      "source": [
        "X = dte_df.to_numpy()\n",
        "U, SIGMA, VT = randomized_svd(X,n_components=N_LINE,n_iter=100,random_state=100) #perform Latent Semantic Analysis (LSA)\n",
        "scores = np.sqrt(np.dot(U**2,SIGMA**2)) #generate scores for all sentences\n",
        "top_scores_index = np.argsort(scores) #get index of highest scores\n",
        "top_scores_index = top_scores_index[::-1] #sort the indexes in descending order\n",
        "top_scores_index = top_scores_index[0:N_LINE] #get top N Scores index\n",
        "article_array = np.array(article_st) #convert list to array for indexing purpose\n",
        "bow_sum = article_array[top_scores_index] #get top N scoring sentences\n",
        "bow_sum = list(bow_sum) #convert array back to list\n",
        "print(f\"Number of Lines in Summary: {len(bow_sum)} \\n\")\n",
        "bow_sum_unigram = (\" \").join(bow_sum) #convert list to single string\n",
        "bow_sum_unigram"
      ],
      "metadata": {
        "colab": {
          "base_uri": "https://localhost:8080/",
          "height": 205
        },
        "id": "TVlS56qZe97w",
        "outputId": "ae9e1bcb-c066-46d1-be43-2fd90df3bbac"
      },
      "id": "TVlS56qZe97w",
      "execution_count": null,
      "outputs": [
        {
          "output_type": "stream",
          "name": "stdout",
          "text": [
            "Number of Lines in Summary: 10 \n",
            "\n"
          ]
        },
        {
          "output_type": "execute_result",
          "data": {
            "application/vnd.google.colaboratory.intrinsic+json": {
              "type": "string"
            },
            "text/plain": [
              "'[288] defense\\'s share of the overall u.s. economy has generally declined in recent decades, from early cold war peaks of 14.2% of gdp in 1953 and 69.5% of federal spending in 1954 to 4.7% of gdp and 18.8% of federal spending in 2011. [540]\\nin 1998, the number of u.s. commercial radio stations had grown to 4,793 am stations and 5,662 fm stations. [86] the 1803 louisiana purchase almost doubled the nation\\'s area,[87] spain ceded florida and other gulf coast territory in 1819,[88] the republic of texas was annexed in 1845 during a period of expansionism,[89] and the 1846 oregon treaty with britain led to u.s. control of the present-day american northwest. since the general election of 1856, the major parties have been the democratic party, founded in 1824, and the republican party, founded in 1854. since the civil war, only one third-party presidential candidate—former president theodore roosevelt, running as a progressive in 1912—has won as much as 20% of the popular vote, though the self-financed reform party campaign of ross perot took 18.9% in 1992. [195] the united states is home to 428 mammal species, 784 bird species, 311 reptile species, and 295 amphibian species,[196] as well as about 91,000 insect species. [424]\\nthe centers for disease control and prevention (cdc) reported that the united states had an average life expectancy at birth of 77.3 years in 2020 (74.5 years for men and 80.2 years for women), down 1.5 years from 2019. according to provisional figures, this was the lowest average u.s. life expectancy recorded by the cdc since 2003, the first overall decline since 2018, and \"the largest one-year decline since world war ii.\" [175]\\nthe 48 contiguous states and the district of columbia occupy a combined area of 3,119,885 square miles (8,080,470\\xa0km2). [296] the department of justice said that the imprisonment rate for all prisoners sentenced to more than a year in state or federal facilities in 2019 stood at 419 per 100,000 residents which was at its lowest point since 1995 and that the total prison population for the same year stood at 1,430,800 which represented an 11% decrease in the population size from a decade earlier. notable films topping the american film institute\\'s afi 100 list include orson welles\\'s citizen kane (1941), which is frequently cited as the greatest film of all time,[520][521] casablanca (1942), the godfather (1972), gone with the wind (1939), lawrence of arabia (1962), the wizard of oz (1939), the graduate (1967), on the waterfront (1954), schindler\\'s list (1993), singin\\' in the rain (1952), it\\'s a wonderful life (1946) and sunset boulevard (1950). [360][361][362][363][364][365][366] in 2011, 16.7 million children lived in food-insecure households, about 35% more than 2007 levels, though only 845,000 u.s. children (1.1%) saw reduced food intake or disrupted eating patterns at some point during the year, and most cases were not chronic.'"
            ]
          },
          "metadata": {},
          "execution_count": 202
        }
      ]
    },
    {
      "cell_type": "code",
      "source": [
        "scorer = rouge_scorer.RougeScorer(['rouge2'], use_stemmer=False)\n",
        "score_1gram_tfidf = scorer.score(bow_sum_unigram,survey_summary2)[\"rouge2\"].fmeasure #TF-IDF\n",
        "score_1gram_tfidf"
      ],
      "metadata": {
        "colab": {
          "base_uri": "https://localhost:8080/"
        },
        "id": "bPPSRMITfB0c",
        "outputId": "b00f144c-ad83-4189-f937-994934325a31"
      },
      "id": "bPPSRMITfB0c",
      "execution_count": null,
      "outputs": [
        {
          "output_type": "execute_result",
          "data": {
            "text/plain": [
              "0.03723404255319149"
            ]
          },
          "metadata": {},
          "execution_count": 203
        }
      ]
    },
    {
      "cell_type": "code",
      "source": [
        ""
      ],
      "metadata": {
        "id": "49rofCwYeEXY"
      },
      "id": "49rofCwYeEXY",
      "execution_count": null,
      "outputs": []
    },
    {
      "cell_type": "code",
      "source": [
        ""
      ],
      "metadata": {
        "id": "tbrC3C6vIuBx"
      },
      "id": "tbrC3C6vIuBx",
      "execution_count": null,
      "outputs": []
    },
    {
      "cell_type": "markdown",
      "source": [
        "## Reevalaute if word embeddings were generated properly (see if they were cumulated rather than, updated....  medain might work better than average...... see if the embedings can be generated as probabilites ...exponent or softmax or something)"
      ],
      "metadata": {
        "id": "1SuIUMGAgWZf"
      },
      "id": "1SuIUMGAgWZf"
    },
    {
      "cell_type": "code",
      "source": [
        "print(pp_article_st_wt[0:3])"
      ],
      "metadata": {
        "id": "4SJLuIvZgayT",
        "colab": {
          "base_uri": "https://localhost:8080/"
        },
        "outputId": "f192e03e-160f-40a5-b179-6d25f0ec6f3b"
      },
      "id": "4SJLuIvZgayT",
      "execution_count": 13,
      "outputs": [
        {
          "output_type": "stream",
          "name": "stdout",
          "text": [
            "[['coordinate', 'mw', 'parser', 'output', 'geo', 'default', 'mw', 'parser', 'output', 'geo', 'dm', 'mw', 'parser', 'output', 'geo', 'dec', 'display', 'inline', 'mw', 'parser', 'output', 'geo', 'nondefault', 'mw', 'parser', 'output', 'geo', 'multi', 'punct', 'display', 'none', 'mw', 'parser', 'output', 'longitude', 'mw', 'parser', 'output', 'latitude', 'white', 'space', 'nowrap', '40', 'n', '100', 'w', '40', 'n', '100', 'w', '40', '100the', 'united', 'state', 'america', 'u', 'usa', 'commonly', 'known', 'united', 'state', 'u', 'u', 'america', 'country', 'primarily', 'located', 'north', 'america'], ['consists', '50', 'state', 'federal', 'district', 'five', 'major', 'unincorporated', 'territory', '326', 'indian', 'reservation', 'minor', 'possession'], ['3', '8', 'million', 'square', 'mile', '9', '8', 'million', 'square', 'kilometer', 'world', 'third', 'fourth', 'largest', 'country', 'geographic', 'area']]\n"
          ]
        }
      ]
    },
    {
      "cell_type": "code",
      "source": [
        ""
      ],
      "metadata": {
        "id": "Rl6Z6Tq6atVO"
      },
      "id": "Rl6Z6Tq6atVO",
      "execution_count": 9,
      "outputs": []
    },
    {
      "cell_type": "code",
      "source": [
        ""
      ],
      "metadata": {
        "id": "JGBMjFA7atXR"
      },
      "id": "JGBMjFA7atXR",
      "execution_count": 19,
      "outputs": []
    },
    {
      "cell_type": "code",
      "source": [
        "from gensim.models import Phrases"
      ],
      "metadata": {
        "id": "gB1PGhcHcG8Y"
      },
      "id": "gB1PGhcHcG8Y",
      "execution_count": 25,
      "outputs": []
    },
    {
      "cell_type": "code",
      "source": [
        "bigram = Phrases(pp_article_st_wt)"
      ],
      "metadata": {
        "id": "KCesMK-1cRqD"
      },
      "id": "KCesMK-1cRqD",
      "execution_count": 26,
      "outputs": []
    },
    {
      "cell_type": "code",
      "source": [
        "g = \"hello we are here\""
      ],
      "metadata": {
        "id": "RXo7HozmbwAO"
      },
      "id": "RXo7HozmbwAO",
      "execution_count": 27,
      "outputs": []
    },
    {
      "cell_type": "code",
      "source": [
        "#bigram(pp_article_st_wt[0])"
      ],
      "metadata": {
        "id": "jb4uttdnb36l"
      },
      "id": "jb4uttdnb36l",
      "execution_count": 39,
      "outputs": []
    },
    {
      "cell_type": "code",
      "source": [
        "\"\"\"\n",
        "bigram = gensim.models.Phrases(data_words, min_count=5, threshold=100)\n",
        "trigram = gensim.models.Phrases(bigram[data_words], threshold=100)\n",
        "bigram_mod = gensim.models.phrases.Phraser(bigram)\n",
        "trigram_mod = gensim.models.phrases.Phraser(trigram)\n",
        "\"\"\""
      ],
      "metadata": {
        "colab": {
          "base_uri": "https://localhost:8080/",
          "height": 55
        },
        "id": "NCl5KVsAb5gD",
        "outputId": "e8c3e39d-c76b-4b9a-8dc5-3c5eaa5bb932"
      },
      "id": "NCl5KVsAb5gD",
      "execution_count": 40,
      "outputs": [
        {
          "output_type": "execute_result",
          "data": {
            "application/vnd.google.colaboratory.intrinsic+json": {
              "type": "string"
            },
            "text/plain": [
              "'\\nbigram = gensim.models.Phrases(data_words, min_count=5, threshold=100)\\ntrigram = gensim.models.Phrases(bigram[data_words], threshold=100)\\nbigram_mod = gensim.models.phrases.Phraser(bigram)\\ntrigram_mod = gensim.models.phrases.Phraser(trigram)\\n'"
            ]
          },
          "metadata": {},
          "execution_count": 40
        }
      ]
    },
    {
      "cell_type": "code",
      "source": [
        "pp_article_st_wt = [word_tokenize(sent) for sent in pp_article_st]"
      ],
      "metadata": {
        "id": "Fqpydgg6dFbL"
      },
      "id": "Fqpydgg6dFbL",
      "execution_count": 45,
      "outputs": []
    },
    {
      "cell_type": "code",
      "source": [
        "bigram = gensim.models.Phrases(pp_article_st_wt)\n",
        "bigram_mod = gensim.models.phrases.Phraser(bigram)"
      ],
      "metadata": {
        "id": "br0dn0y-dFdx"
      },
      "id": "br0dn0y-dFdx",
      "execution_count": 47,
      "outputs": []
    },
    {
      "cell_type": "code",
      "source": [
        "bigram_mod[[\"Here is a world of apples and cats and dogs\"]]"
      ],
      "metadata": {
        "colab": {
          "base_uri": "https://localhost:8080/"
        },
        "id": "cUNGzdf3dFf4",
        "outputId": "24ac4a3b-3026-4080-8680-66fe6a456a5f"
      },
      "id": "cUNGzdf3dFf4",
      "execution_count": 48,
      "outputs": [
        {
          "output_type": "execute_result",
          "data": {
            "text/plain": [
              "['Here is a world of apples and cats and dogs']"
            ]
          },
          "metadata": {},
          "execution_count": 48
        }
      ]
    },
    {
      "cell_type": "code",
      "source": [
        "gh = [\n",
        "      \"I like food and apples.\",\n",
        "      \"We like pie and cookie\",\n",
        "      \"Cookies are the best food\"\n",
        "]"
      ],
      "metadata": {
        "id": "g6otwSVkdFiO"
      },
      "id": "g6otwSVkdFiO",
      "execution_count": 49,
      "outputs": []
    },
    {
      "cell_type": "code",
      "source": [
        "gh"
      ],
      "metadata": {
        "colab": {
          "base_uri": "https://localhost:8080/"
        },
        "id": "OKgeBV0RzqSY",
        "outputId": "e0a00236-0799-46af-e240-90a45805c6a9"
      },
      "id": "OKgeBV0RzqSY",
      "execution_count": 50,
      "outputs": [
        {
          "output_type": "execute_result",
          "data": {
            "text/plain": [
              "['I like food and apples.',\n",
              " 'We like pie and cookie',\n",
              " 'Cookies are the best food']"
            ]
          },
          "metadata": {},
          "execution_count": 50
        }
      ]
    },
    {
      "cell_type": "code",
      "source": [
        "bigram = gensim.models.Phrases(pp_article_st)\n",
        "bigram_mod = gensim.models.phrases.Phraser(bigram)"
      ],
      "metadata": {
        "id": "7B_5cAHCzq1P"
      },
      "id": "7B_5cAHCzq1P",
      "execution_count": 54,
      "outputs": []
    },
    {
      "cell_type": "code",
      "source": [
        ""
      ],
      "metadata": {
        "colab": {
          "base_uri": "https://localhost:8080/"
        },
        "id": "Rv1LQY1xz316",
        "outputId": "bc354b86-8b5d-4b12-a38d-3b9df394c0a6"
      },
      "id": "Rv1LQY1xz316",
      "execution_count": 56,
      "outputs": [
        {
          "output_type": "execute_result",
          "data": {
            "text/plain": [
              "['coordinate mw parser output geo default mw parser output geo dm mw parser output geo dec display inline mw parser output geo nondefault mw parser output geo multi punct display none mw parser output longitude mw parser output latitude white space nowrap 40 n 100 w 40 n 100 w 40 100the united state america u usa commonly known united state u u america country primarily located north america',\n",
              " 'consists 50 state federal district five major unincorporated territory 326 indian reservation minor possession',\n",
              " '3 8 million square mile 9 8 million square kilometer world third fourth largest country geographic area',\n",
              " 'united state share significant land border canada north mexico south well limited maritime border bahamas cuba russia',\n",
              " 'population 331 million people third populous country world',\n",
              " 'national capital washington c populous city new york city',\n",
              " 'paleo indian migrated siberia north american mainland least 12 000 year ago european colonization began 16th century',\n",
              " 'united state emerged thirteen british colony established along east coast',\n",
              " 'dispute great britain taxation political representation led american revolutionary war 1775 1783 established nation independence',\n",
              " 'late 18th century u began expanding across north america gradually obtaining new territory sometimes war frequently displacing native american admitting new state 1848 united state spanned continent',\n",
              " 'slavery legal southern united state second half 19th century american civil war led abolition',\n",
              " 'spanish american war world war established u world power aftermath world war ii left united state soviet union world two superpower',\n",
              " 'cold war side fought korean vietnam war avoided direct military conflict',\n",
              " 'competed space race culminating 1969 spaceflight first landed human moon',\n",
              " 'soviet union dissolution 1991 ended cold war leaving united state world sole superpower',\n",
              " 'united state federal presidential constitutional republic three separate branch government including bicameral legislature',\n",
              " 'founding member united nation world bank international monetary fund organization american state nato international organization',\n",
              " 'permanent member united nation security council',\n",
              " 'considered melting pot culture ethnicity population profoundly shaped century immigration',\n",
              " 'united state rank high international measure economic freedom quality life education human right low level perceived corruption',\n",
              " 'however criticized inequality related race wealth income use capital punishment high incarceration rate lack universal health care',\n",
              " 'united state highly developed country account approximately quarter global gdp world largest economy gdp market exchange rate',\n",
              " 'value united state world largest importer second largest exporter good',\n",
              " 'although population 4 2 world total hold 30 total wealth world largest share held country',\n",
              " 'making third global military spending foremost military power world leading political cultural scientific force',\n",
              " 'first known use name america date back 1507 appeared world map produced german cartographer martin waldseem ller french city saint di de vosges',\n",
              " 'map name shown large letter would considered south america honor amerigo vespucci',\n",
              " 'italian explorer first postulate west indie represent asia eastern limit part previously unknown landmass',\n",
              " '1538 flemish cartographer gerardus mercator used name america world map applying entire western hemisphere',\n",
              " 'first documentary evidence phrase united state america date january 2 1776 letter written stephen moylan george washington aide de camp joseph reed',\n",
              " 'moylan expressed wish go full ample power united state america spain seek assistance revolutionary war effort',\n",
              " 'first known publication phrase united state america anonymous essay virginia gazette newspaper williamsburg april 6 1776',\n",
              " 'second draft article confederation prepared john dickinson completed later june 17 1776 declared name confederation shall united state america',\n",
              " 'final version article sent state ratification late 1777 stated stile confederacy shall united state america',\n",
              " 'june 1776 thomas jefferson wrote phrase united state america capitalized letter headline original rough draught declaration independence',\n",
              " 'draft document surface june 21 1776 unclear whether written dickinson used term june 17 draft article confederation',\n",
              " 'short form united state also standard',\n",
              " 'common form u usa america',\n",
              " 'columbia name popular american poetry song late 18th century derives origin christopher columbus columbus columbia appear frequently u place name including columbus ohio columbia south carolina district columbia',\n",
              " 'place institution throughout western hemisphere bear two name including col n panama country colombia columbia river columbia university',\n",
              " 'phrase united state originally plural american usage',\n",
              " 'described collection state e g united state singular form became popular end civil war standard usage',\n",
              " 'united state american u refer country adjectivally american value u force',\n",
              " 'english word american rarely refers topic subject directly connected united state',\n",
              " 'generally accepted first inhabitant north america migrated siberia way bering land bridge arrived least 12 000 year ago however evidence suggests even earlier date arrival',\n",
              " 'clovis culture appeared around 11 000 bc believed represent first wave human settlement america',\n",
              " 'likely first three major wave migration north america later wave brought ancestor present day athabaskan aleut eskimo',\n",
              " 'time indigenous culture north america grew increasingly complex pre columbian mississippian culture southeast developed advanced agriculture architecture complex society',\n",
              " 'city state cahokia largest complex pre columbian archaeological site modern day united state',\n",
              " 'four corner region ancestral puebloan culture developed century agricultural experimentation',\n",
              " 'haudenosaunee located southern great lake region established point twelfth fifteenth century',\n",
              " 'prominent along atlantic coast algonquian tribe practiced hunting trapping along limited cultivation',\n",
              " 'estimating native population north america time european contact difficult',\n",
              " 'douglas h ubelaker smithsonian institution estimated population 92 916 south atlantic state population 473 616 gulf state academic regard figure low',\n",
              " 'anthropologist henry f dobyns believed population much higher suggesting around 1 1 million along shore gulf mexico 2 2 million people living florida massachusetts 5 2 million mississippi valley tributary around 700 000 people florida peninsula',\n",
              " 'claim early colonization coastal new england norse disputed controversial',\n",
              " 'first documented arrival european continental united state spanish conquistador juan ponce de le n made first expedition florida 1513 even earlier christopher columbus landed puerto rico 1493 voyage san juan settled spanish decade later',\n",
              " 'spanish set first settlement florida new mexico saint augustine often considered nation oldest city santa fe',\n",
              " 'french established settlement along mississippi river notably new orleans',\n",
              " 'successful english settlement eastern coast north america began virginia colony 1607 jamestown pilgrim colony plymouth 1620',\n",
              " 'continent first elected legislative assembly virginia house burgess founded 1619 document mayflower compact fundamental order connecticut established precedent representative self government constitutionalism would develop throughout american colony',\n",
              " 'many english settler dissenting christian came seeking religious freedom',\n",
              " '1784 russian first european establish settlement alaska three saint bay',\n",
              " 'russian america spanned much present day state alaska',\n",
              " 'early day colonization many european settler subject food shortage disease attack native american',\n",
              " 'native american also often war neighboring tribe european settler',\n",
              " 'many case however native settler came depend one another',\n",
              " 'settler traded food animal pelt native gun tool european good',\n",
              " 'native taught many settler cultivate corn bean foodstuff',\n",
              " 'european missionary others felt important civilize native american urged adopt european agricultural practice lifestyle',\n",
              " 'however increased european colonization north america native american displaced often killed',\n",
              " 'native population america declined european arrival various reason primarily disease smallpox measles',\n",
              " 'european settler also began trafficking african slave colonial america via transatlantic slave trade',\n",
              " 'lower prevalence tropical disease better treatment slave much higher life expectancy north america south america leading rapid increase number',\n",
              " 'colonial society largely divided religious moral implication slavery several colony passed act favor practice',\n",
              " 'however turn 18th century african slave supplanted european indentured servant cash crop labor especially american south',\n",
              " 'thirteen colony new hampshire massachusetts connecticut rhode island new york new jersey pennsylvania delaware maryland virginia north carolina south carolina georgia would become united state america administered british overseas dependency',\n",
              " 'nonetheless local government election open free men',\n",
              " 'extremely high birth rate low death rate steady settlement colonial population grew rapidly eclipsing native american population',\n",
              " 'christian revivalist movement 1730s 1740s known great awakening fueled interest religion religious liberty',\n",
              " 'seven year war 1756 1763 known u french indian war british force captured canada french',\n",
              " 'creation province quebec canada francophone population would remain isolated english speaking colonial dependency nova scotia newfoundland thirteen colony',\n",
              " 'excluding native american lived thirteen colony population 2 1 million 1770 third britain',\n",
              " 'despite continuing new arrival rate natural increase 1770s small minority american born overseas',\n",
              " 'colony distance britain allowed development self government unprecedented success motivated british monarch periodically seek reassert royal authority',\n",
              " 'american revolutionary war fought thirteen colony british empire first successful war independence non european entity european power modern history',\n",
              " 'american developed ideology republicanism asserting government rested people expressed local legislature',\n",
              " 'demanded right englishman taxation without representation',\n",
              " 'british insisted administering empire parliament conflict escalated war',\n",
              " 'second continental congress unanimously adopted declaration independence july 4 1776 day celebrated annually independence day',\n",
              " '1777 article confederation established decentralized government operated 1789',\n",
              " 'defeat siege yorktown 1781 britain signed peace treaty',\n",
              " 'american sovereignty became internationally recognized country granted land east mississippi river',\n",
              " 'tension britain remained however leading war 1812 fought draw',\n",
              " 'nationalist led philadelphia convention 1787 writing united state constitution ratified state convention 1788 going force 1789 constitution reorganized federal government three branch principle creating salutary check balance',\n",
              " 'george washington led continental army victory first president elected new constitution',\n",
              " 'bill right forbidding federal restriction personal freedom guaranteeing range legal protection adopted 1791',\n",
              " 'although federal government outlawed american participation atlantic slave trade 1807 1820 cultivation highly profitable cotton crop exploded deep south along slave population',\n",
              " 'second great awakening especially period 1800 1840 converted million evangelical protestantism',\n",
              " 'north energized multiple social reform movement including abolitionism south methodist baptist proselytized among slave population',\n",
              " 'beginning late 18th century american settler began expand westward prompting long series american indian war',\n",
              " '1803 louisiana purchase almost doubled nation area spain ceded florida gulf coast territory 1819 republic texas annexed 1845 period expansionism 1846 oregon treaty britain led u control present day american northwest',\n",
              " 'victory mexican american war resulted 1848 mexican cession california much present day american southwest making u span continent',\n",
              " 'california gold rush 1848 1849 spurred migration pacific coast led california genocide creation additional western state',\n",
              " 'giving away vast quantity land white european settler part homestead act nearly 10 total area united state private railroad company college part land grant spurred economic development',\n",
              " 'civil war new transcontinental railway made relocation easier settler expanded internal trade increased conflict native american',\n",
              " '1869 new peace policy nominally promised protect native american abuse avoid war secure eventual u citizenship',\n",
              " 'nonetheless large scale conflict continued throughout west 1900s',\n",
              " 'irreconcilable sectional conflict regarding enslavement african african american ultimately led american civil war',\n",
              " '1860 election republican abraham lincoln convention thirteen slave state declared secession formed confederate state america south confederacy federal government union maintained secession illegal',\n",
              " 'order bring secession military action initiated secessionist union responded kind',\n",
              " 'ensuing war would become deadliest military conflict american history resulting death approximately 618 000 soldier well many civilian',\n",
              " 'union initially simply fought keep country united',\n",
              " 'nevertheless casualty mounted 1863 lincoln delivered emancipation proclamation main purpose war union viewpoint became abolition slavery',\n",
              " 'indeed union ultimately war april 1865 state defeated south required ratify thirteenth amendment prohibited slavery except penal labor',\n",
              " 'two amendment also ratified ensuring citizenship black least theory voting right well',\n",
              " 'reconstruction began earnest following war',\n",
              " 'president lincoln attempted foster friendship forgiveness union former confederacy assassination april 14 1865 drove wedge north south',\n",
              " 'republican federal government made goal oversee rebuilding south ensure right african american',\n",
              " 'persisted compromise 1877 republican agreed cease protecting right african american south order democrat concede presidential election 1876 southern white democrat calling redeemer took control south end reconstruction beginning nadir american race relation',\n",
              " '1890 1910 redeemer established called jim crow law disenfranchising black poor white throughout region',\n",
              " 'black would face racial segregation nationwide especially south',\n",
              " 'also occasionally experienced vigilante violence including lynching',\n",
              " 'north urbanization unprecedented influx immigrant southern eastern europe supplied surplus labor country industrialization transformed culture',\n",
              " 'national infrastructure including telegraph transcontinental railroad spurred economic growth greater settlement development american old west',\n",
              " 'later invention electric light telephone would also affect communication urban life',\n",
              " 'united state fought indian war west mississippi river 1810 least 1890',\n",
              " 'conflict ended cession native american territory confinement indian reservation',\n",
              " 'additionally trail tear 1830s exemplified indian removal policy forcibly resettled indian',\n",
              " 'expanded acreage mechanical cultivation increasing surplus international market',\n",
              " 'mainland expansion also included purchase alaska russia 1867',\n",
              " '1893 pro american element hawaii overthrew hawaiian monarchy formed republic hawaii u annexed 1898 puerto rico guam philippine ceded spain year following spanish american war',\n",
              " 'american samoa acquired united state 1900 end second samoan civil war',\n",
              " 'u virgin island purchased denmark 1917',\n",
              " 'rapid economic development late 19th early 20th century fostered rise many prominent industrialist',\n",
              " 'tycoon like cornelius vanderbilt john rockefeller andrew carnegie led nation progress railroad petroleum steel industry',\n",
              " 'banking became major part economy j p morgan playing notable role',\n",
              " 'american economy boomed becoming world largest',\n",
              " 'dramatic change accompanied growing inequality social unrest prompted rise organized labor along populist socialist anarchist movement',\n",
              " 'period eventually ended advent progressive era saw significant reform including woman suffrage alcohol prohibition regulation consumer good greater antitrust measure ensure competition attention worker condition',\n",
              " 'united state remained neutral outbreak world war 1914 1917 joined war associated power alongside ally world war helping turn tide central power',\n",
              " '1919 president woodrow wilson took leading diplomatic role paris peace conference advocated strongly u join league nation',\n",
              " 'however senate refused approve ratify treaty versailles established league nation',\n",
              " '1920 woman right movement passage constitutional amendment granting woman suffrage',\n",
              " '1920s 1930s saw rise radio mass communication invention early television',\n",
              " 'prosperity roaring twenty ended wall street crash 1929 onset great depression',\n",
              " 'election president 1932 franklin roosevelt responded new deal',\n",
              " 'great migration million african american american south began world war extended 1960s whereas dust bowl mid 1930s impoverished many farming community spurred new wave western migration',\n",
              " 'first effectively neutral world war ii united state began supplying materiel ally march 1941 lend lease program',\n",
              " 'december 7 1941 empire japan launched surprise attack pearl harbor prompting united state join ally axis power following year intern 120 000 u resident including american citizen japanese descent',\n",
              " 'although japan attacked united state first u nonetheless pursued europe first defense policy',\n",
              " 'united state thus left vast asian colony philippine isolated fighting losing struggle japanese invasion occupation',\n",
              " 'war united state one four power met plan postwar world along britain soviet union china',\n",
              " 'although nation lost around 400 000 military personnel emerged relatively undamaged war even greater economic military influence',\n",
              " 'united state played leading role bretton wood yalta conference signed agreement new international financial institution europe postwar reorganization',\n",
              " 'allied victory europe 1945 international conference held san francisco produced united nation charter became active war',\n",
              " 'united state japan fought largest naval battle history battle leyte gulf',\n",
              " 'united state developed first nuclear weapon used japan city hiroshima nagasaki august 1945 japanese surrendered september 2 ending world war ii',\n",
              " 'world war ii united state soviet union competed power influence prestige became known cold war driven ideological divide capitalism communism',\n",
              " 'dominated military affair europe u nato ally one side soviet union warsaw pact ally',\n",
              " 'u developed policy containment towards expansion communist influence',\n",
              " 'u soviet union engaged proxy war developed powerful nuclear arsenal two country avoided direct military conflict',\n",
              " 'united state often opposed third world movement viewed soviet sponsored occasionally pursued direct action regime change left wing government occasionally supporting authoritarian right wing regime',\n",
              " 'american troop fought communist chinese north korean force korean war 1950 1953',\n",
              " 'soviet union 1957 launch first artificial satellite 1961 launch first crewed spaceflight initiated space race united state became first nation land man moon 1969',\n",
              " 'united state became increasingly involved vietnam war 1955 1975 introducing combat force 1965',\n",
              " 'home u experienced sustained economic expansion rapid growth population middle class following world war ii',\n",
              " 'surge female labor participation especially 1970s 1985 majority woman aged 16 employed',\n",
              " 'construction interstate highway system transformed nation infrastructure following decade',\n",
              " 'million moved farm inner city large suburban housing development',\n",
              " '1959 united state formally expanded beyond contiguous united state territory alaska hawaii became respectively 49th 50th state admitted union',\n",
              " 'growing civil right movement used nonviolence confront segregation discrimination martin luther king jr becoming prominent leader figurehead',\n",
              " 'combination court decision legislation culminating civil right act 1968 sought end racial discrimination',\n",
              " 'meanwhile counterculture movement grew fueled opposition vietnam war black power movement sexual revolution',\n",
              " 'launch war poverty expanded entitlement welfare spending including creation medicare medicaid two program provide health coverage elderly poor respectively mean tested food stamp program aid family dependent child',\n",
              " '1970s early 1980s saw onset stagflation',\n",
              " 'united state supported israel yom kippur war response country faced oil embargo opec nation sparking 1973 oil crisis',\n",
              " '1979 president jimmy carter brokered peace treaty egypt israel marking first time arab nation recognized israeli existence',\n",
              " 'election president ronald reagan responded economic stagnation free market oriented reform',\n",
              " 'following collapse tente abandoned containment initiated aggressive rollback strategy towards soviet union',\n",
              " 'late 1980s brought thaw relation soviet union collapse 1991 finally ended cold war',\n",
              " 'brought unipolarity u unchallenged world dominant superpower',\n",
              " 'cold war conflict middle east triggered crisis 1990 iraq invaded annexed kuwait ally united state',\n",
              " 'fearing spread instability august president george h w bush launched led gulf war iraq waged february 1991 coalition force 34 nation ended expulsion iraqi force kuwait restoration monarchy',\n",
              " 'originating within u military defense network internet spread international academic platform public 1990s greatly affecting global economy society culture',\n",
              " 'due dot com boom stable monetary policy reduced social welfare spending 1990s saw longest economic expansion modern u',\n",
              " 'beginning 1994 u signed north american free trade agreement nafta causing trade among u canada mexico soar',\n",
              " 'september 11 2001 al qaeda terrorist hijacker flew passenger plane world trade center new york city pentagon near washington c killing nearly 3 000 people',\n",
              " 'hundred died later illness related attack perhaps thousand first responder cleanup worker survivor suffer long term effect',\n",
              " 'response president george w bush launched war terror included nearly 20 year war afghanistan 2001 2021 2003 2011 iraq war',\n",
              " '2011 military operation pakistan led killing osama bin laden',\n",
              " 'government policy designed promote affordable housing widespread failure corporate regulatory governance historically low interest rate set federal reserve led united state housing bubble 2006 culminated financial crisis 2007 2008 great recession nation largest economic contraction since great depression',\n",
              " 'crisis asset owned american lost quarter value',\n",
              " 'barack obama first multiracial president african american ancestry elected 2008 amid crisis subsequently passed american recovery reinvestment act 2009 economic stimulus dodd frank wall street reform consumer protection act attempt mitigate negative effect ensure would repeat crisis',\n",
              " 'republican donald trump elected 45th president 2016 result viewed one biggest political upset american history',\n",
              " 'trump led country first wave covid 19 pandemic united state december 2021 estimated killed 900 000 american',\n",
              " '2020 seen repudiation trump divisive leadership democrat joe biden elected 46th president',\n",
              " 'january 6 2021 supporter outgoing president trump stormed united state capitol unsuccessful effort disrupt presidential electoral college vote count',\n",
              " '48 contiguous state district columbia occupy combined area 3 119 885 square mile 8 080 470 km2',\n",
              " 'area 2 959 064 square mile 7 663 940 km2 contiguous land composing 83 65 total u land area',\n",
              " 'hawaii occupying archipelago central pacific southwest north america 10 931 square mile 28 311 km2 area',\n",
              " 'five populated unincorporated territory puerto rico american samoa guam northern mariana island u virgin island together cover 9 185 square mile 23 789 km2',\n",
              " 'measured land area united state third size behind russia china ahead canada',\n",
              " 'united state world third fourth largest nation total area land water ranking behind russia canada nearly equal china',\n",
              " 'ranking varies depending two territory disputed china india counted total size united state measured',\n",
              " 'coastal plain atlantic seaboard give way inland deciduous forest rolling hill piedmont',\n",
              " 'appalachian mountain divide eastern seaboard great lake grassland midwest',\n",
              " 'mississippi missouri river world fourth longest river system run mainly north south heart country',\n",
              " 'flat fertile prairie great plain stretch west interrupted highland region southeast',\n",
              " 'rocky mountain west great plain extend north south across country peaking around 14 000 foot 4 300 colorado',\n",
              " 'farther west rocky great basin desert chihuahua mojave',\n",
              " 'sierra nevada cascade mountain range run close pacific coast range reaching altitude higher 14 000 foot 4 300',\n",
              " 'lowest highest point contiguous united state state california 84 mile 135 km apart',\n",
              " 'elevation 20 310 foot 6 190 5 alaska denali highest peak country north america',\n",
              " 'active volcano common throughout alaska alexander aleutian island hawaii consists volcanic island',\n",
              " 'supervolcano underlying yellowstone national park rockies continent largest volcanic feature',\n",
              " 'united state large size geographic variety includes climate type',\n",
              " 'east 100th meridian climate range humid continental north humid subtropical south',\n",
              " 'great plain west 100th meridian semi arid',\n",
              " 'much western mountain alpine climate',\n",
              " 'climate arid great basin desert southwest mediterranean coastal california oceanic coastal oregon washington southern alaska',\n",
              " 'hawaii southern tip florida tropical well territory caribbean pacific',\n",
              " 'state bordering gulf mexico prone hurricane world tornado occur country mainly tornado alley area midwest south',\n",
              " 'overall united state receives high impact extreme weather incident country world',\n",
              " 'u one 17 megadiverse country containing large amount endemic specie 17 000 specie vascular plant occur contiguous united state alaska 1 800 specie flowering plant found hawaii occur mainland',\n",
              " 'united state home 428 mammal specie 784 bird specie 311 reptile specie 295 amphibian specie well 91 000 insect specie',\n",
              " '63 national park hundred federally managed park forest wilderness area managed national park service',\n",
              " 'altogether government owns 28 country land area mostly western state',\n",
              " 'land protected though leased oil gas drilling mining logging cattle ranching 86 used military purpose',\n",
              " 'environmental issue include debate oil nuclear energy dealing air water pollution economic cost protecting wildlife logging deforestation climate change',\n",
              " 'prominent environmental agency environmental protection agency epa created presidential order 1970',\n",
              " 'idea wilderness shaped management public land since 1964 wilderness act',\n",
              " 'endangered specie act 1973 intended protect threatened endangered specie habitat monitored united state fish wildlife service',\n",
              " 'united state ranked 24th among nation environmental performance index',\n",
              " 'country joined paris agreement climate change 2016 many environmental commitment',\n",
              " 'left paris agreement 2020 rejoined 2021',\n",
              " 'united state federal republic 50 state federal district five territory several uninhabited island possession',\n",
              " 'federal republic representative democracy majority rule tempered minority right protected law',\n",
              " 'since 2015 u ranked 25th democracy index described flawed democracy',\n",
              " 'transparency international 2019 corruption perception index public sector position deteriorated score 76 2015 69 2019',\n",
              " 'american federalist system citizen usually subject three level government federal state local',\n",
              " 'local government duty commonly split county municipal government',\n",
              " 'almost case executive legislative official elected plurality vote citizen district',\n",
              " 'government regulated system check balance defined u constitution serf country supreme legal document',\n",
              " 'constitution establishes structure responsibility federal government relationship individual state',\n",
              " 'article one protects right writ habeas corpus',\n",
              " 'constitution amended 27 time first ten amendment make bill right fourteenth amendment form central basis american individual right',\n",
              " 'law governmental procedure subject judicial review law voided court determine violates constitution',\n",
              " 'principle judicial review explicitly mentioned constitution established supreme court marbury v madison 1803 decision handed chief justice john marshall',\n",
              " 'federal government comprises three branch house representative 435 voting member representing congressional district two year term',\n",
              " 'house seat apportioned among state population',\n",
              " 'state draw single member district conform census apportionment',\n",
              " 'district columbia five major u territory one member congress member allowed vote',\n",
              " 'senate 100 member state two senator elected large six year term one third senate seat election every two year',\n",
              " 'district columbia five major u territory senator',\n",
              " 'president serf four year term may elected office twice',\n",
              " 'president elected direct vote indirect electoral college system determining vote apportioned state district columbia',\n",
              " 'supreme court led chief justice united state nine member serve life',\n",
              " '50 state principal political division country',\n",
              " 'state hold jurisdiction defined geographic territory share sovereignty federal government',\n",
              " 'subdivided county county equivalent divided municipality',\n",
              " 'district columbia federal district contains capital united state city washington',\n",
              " 'state district columbia choose president united state',\n",
              " 'state presidential elector equal number representative senator congress district columbia three 23rd amendment',\n",
              " 'territory united state puerto rico presidential elector people territory vote president',\n",
              " 'united state also observes tribal sovereignty american indian nation limited degree state sovereignty',\n",
              " 'american indian u citizen tribal land subject jurisdiction u congress federal court',\n",
              " 'like state great deal autonomy also like state tribe allowed make war engage foreign relation print issue currency',\n",
              " 'reservation usually part single state though 12 reservation cross state boundary',\n",
              " 'indian country jurisdiction civil criminal matter shared tribe state federal government',\n",
              " 'citizenship granted birth state district columbia major u territory except american samoa',\n",
              " 'united state operated two party system history',\n",
              " 'elective office level state administered primary election choose major party nominee subsequent general election',\n",
              " 'since general election 1856 major party democratic party founded 1824 republican party founded 1854 since civil war one third party presidential candidate former president theodore roosevelt running progressive 1912 much 20 popular vote though self financed reform party campaign ross perot took 18 9 1992',\n",
              " 'president vice president elected electoral college',\n",
              " 'american political culture center right republican party considered conservative center left democratic party considered liberal',\n",
              " 'state northeast west coast great lake state known blue state relatively liberal',\n",
              " 'red state south part great plain rocky mountain relatively conservative',\n",
              " 'democrat joe biden winner 2020 presidential election former vice president serving 46th president united state',\n",
              " 'leadership senate includes vice president kamala harris president pro tempore patrick leahy majority leader chuck schumer minority leader mitch mcconnell',\n",
              " 'leadership house includes speaker house nancy pelosi majority leader steny hoyer minority leader kevin mccarthy',\n",
              " '117th united state congress house representative senate narrowly controlled democratic party',\n",
              " 'senate consists 50 republican 48 democrat two independent caucus democrat vice president harris democrat able break tie',\n",
              " 'house consists 222 democrat 211 republican',\n",
              " 'state governor 27 republican 23 democrat',\n",
              " 'among c mayor five territorial governor three democrat one republican one new progressive',\n",
              " 'united state established structure foreign relation',\n",
              " 'permanent member united nation security council new york city home united nation headquarters',\n",
              " 'also member g7 g20 oecd',\n",
              " 'almost country embassy washington c many consulate around country',\n",
              " 'likewise nearly nation host american diplomatic mission',\n",
              " 'however iran north korea bhutan taiwan formal diplomatic relation united state although u maintains unofficial relation taiwan supply military equipment',\n",
              " 'united state special relationship united kingdom strong tie canada india australia new zealand philippine japan south korea israel several european union country including france italy germany spain poland',\n",
              " 'work closely fellow nato member military security issue neighbor organization american state free trade agreement trilateral united state mexico canada agreement',\n",
              " 'colombia traditionally considered united state loyal ally south america',\n",
              " 'u exercise full international defense authority responsibility micronesia marshall island palau compact free association',\n",
              " 'taxation united state progressive levied federal state local government level',\n",
              " 'includes tax income payroll property sale import estate gift well various fee',\n",
              " 'taxation united state based citizenship residency',\n",
              " 'non resident citizen green card holder living abroad taxed income irrespective live income earned',\n",
              " 'united state one country world',\n",
              " '2010 tax collected federal state municipal government amounted 24 8 gdp',\n",
              " '2018 effective tax rate wealthiest 400 household 23 compared 24 2 bottom half u',\n",
              " 'fiscal year 2012 federal government spent 3 54 trillion budget cash basis',\n",
              " 'major category fiscal year 2012 spending included medicare medicaid 23 social security 22 defense department 19 non defense discretionary 17 mandatory 13 interest 6',\n",
              " '2018 united state largest external debt world',\n",
              " 'percentage gdp 34th largest government debt world 2017 however recent estimate vary',\n",
              " 'total national debt united state 23 201 trillion 107 gdp fourth quarter 2019',\n",
              " '2012 total federal debt surpassed 100 u',\n",
              " 'u credit rating aa standard poor aaa fitch aaa moody',\n",
              " 'president commander chief united state armed force appoints leader secretary defense joint chief staff',\n",
              " 'department defense administers five six service branch made army marine corp navy air force space force',\n",
              " 'coast guard also branch armed force normally administered department homeland security peacetime transferred department navy wartime',\n",
              " '2019 six branch u armed force reported 1 4 million personnel active duty',\n",
              " 'reserve national guard brought total number troop 2 3 million',\n",
              " 'department defense also employed 700 000 civilian including contractor',\n",
              " 'military service united state voluntary although conscription may occur wartime selective service system',\n",
              " '1940 1973 conscription mandatory even peacetime',\n",
              " 'today american force rapidly deployed air force large fleet transport aircraft navy 11 active aircraft carrier marine expeditionary unit sea navy army xviii airborne corp 75th ranger regiment deployed air force transport aircraft',\n",
              " 'air force strike target across globe fleet strategic bomber maintains air defense across united state provides close air support army marine corp ground force',\n",
              " 'space force operates global positioning system operates eastern western range space launch operates united state space surveillance missile warning network',\n",
              " 'military operates 800 base facility abroad maintains deployment greater 100 active duty personnel 25 foreign country',\n",
              " 'united state spent 649 billion military 2019 36 global military spending',\n",
              " '4 7 gdp rate second highest among top 15 military spender saudi arabia',\n",
              " 'defense spending play major role science technology investment roughly half u federal research development funded department defense',\n",
              " 'defense share overall u economy generally declined recent decade early cold war peak 14 2 gdp 1953 69 5 federal spending 1954 4 7 gdp 18 8 federal spending 2011',\n",
              " 'total number personnel united state third largest combined armed force world behind chinese people liberation army indian armed force',\n",
              " 'united state one five recognized nuclear weapon state one nine country posse nuclear weapon',\n",
              " 'world second largest stockpile nuclear weapon russia',\n",
              " 'united state also owns 40 world 14 000 nuclear weapon',\n",
              " 'law enforcement united state primarily responsibility local police department sheriff office state police providing broader service',\n",
              " 'federal agency federal bureau investigation fbi u marshal service specialized duty including protecting civil right national security enforcing u federal court ruling federal law',\n",
              " 'according bureau justice statistic charles h ramsey former philadelphia pennsylvania police chief appearing meet press 18 000 u police agency united state',\n",
              " 'number includes city police department county sheriff office state police highway patrol federal law enforcement agency',\n",
              " 'state court conduct criminal trial federal court handle certain designated crime well certain appeal state criminal court',\n",
              " 'cross sectional analysis world health organization mortality database 2010 showed united state homicide rate 7 0 time higher high income country driven gun homicide rate 25 2 time higher',\n",
              " '2016 u murder rate 5 4 per 100 000',\n",
              " 'united state highest documented incarceration rate largest prison population world',\n",
              " 'department justice said imprisonment rate prisoner sentenced year state federal facility 2019 stood 419 per 100 000 resident lowest point since 1995 total prison population year stood 1 430 800 represented 11 decrease population size decade earlier',\n",
              " 'source prison policy initiative put aggregate number prisoner 2020 2 3 million',\n",
              " 'according federal bureau prison majority inmate held federal prison convicted drug offense',\n",
              " 'effort reduce prison population include government policy grassroots initiative promote decarceration recent example include law federal state level fair sentencing act first step act maryland justice reinvestment act california money bail reform act',\n",
              " '9 prisoner held privatized prison practice beginning 1980s subject contention',\n",
              " 'january 26 2021 biden administration signed executive order halted renewal federal government contract private prison apply detention center held undocumented immigrant',\n",
              " 'although nation abolished capital punishment sanctioned united state certain federal military crime state level 28 state though three state moratorium carrying penalty imposed governor',\n",
              " '2019 country sixth highest number execution world following china iran saudi arabia iraq egypt',\n",
              " 'execution took place 1967 1977 owing part 1972 u supreme court ruling furman v georgia struck previous practice',\n",
              " 'since decision however 1 500 execution although 186 convicted sentenced since furman exonerated tabulated death penalty information center',\n",
              " 'recent year number execution presence capital punishment statute whole trended nationally several state recently abolishing penalty',\n",
              " 'according international monetary fund u gdp 22 7 trillion constitutes 24 gross world product market exchange rate 16 gross world product purchasing power parity',\n",
              " 'october 2021 united state national debt 28 8 trillion',\n",
              " 'united state largest importer good second largest exporter though export per caput relatively low',\n",
              " '2010 total u trade deficit 635 billion',\n",
              " 'canada china mexico japan european union top trading partner',\n",
              " '1983 2008 u real compounded annual gdp growth 3 3 compared 2 3 weighted average rest g7',\n",
              " 'country rank fifth world nominal gdp per caput seventh gdp per caput ppp',\n",
              " 'u dollar world primary reserve currency',\n",
              " '2009 private sector estimated constitute 86 4 economy',\n",
              " 'economy reached post industrial level development united state remains industrial power',\n",
              " 'august 2010 american labor force consisted 154 1 million people 50',\n",
              " '21 2 million people public sector leading field employment',\n",
              " 'largest private employment sector health care social assistance 16 4 million people',\n",
              " 'smaller welfare state redistributes le income government action high income country',\n",
              " 'united state advanced economy guarantee worker paid vacation one country world without paid family leave legal right',\n",
              " '74 full time american worker get paid sick leave according bureau labor statistic although 24 part time worker get benefit',\n",
              " 'united state leader technological innovation since late 19th century scientific research since mid 20th century',\n",
              " 'method producing interchangeable part developed u war department federal armory first half 19th century',\n",
              " 'technology along establishment machine tool industry enabled u large scale manufacturing sewing machine bicycle item late 19th century became known american system manufacturing',\n",
              " 'factory electrification early 20th century introduction assembly line labor saving technique created system mass production',\n",
              " '21st century approximately two third research development funding come private sector',\n",
              " 'united state lead world scientific research paper impact factor',\n",
              " '1876 alexander graham bell awarded first u patent telephone',\n",
              " 'thomas edison research laboratory one first kind developed phonograph first long lasting light bulb first viable movie camera',\n",
              " 'latter led emergence worldwide entertainment industry',\n",
              " 'early 20th century automobile company ransom e old henry ford popularized assembly line',\n",
              " 'wright brother 1903 made first sustained controlled heavier air powered flight',\n",
              " 'rise fascism nazism 1920s 30 led many european scientist including albert einstein enrico fermi john von neumann immigrate united state',\n",
              " 'world war ii manhattan project developed nuclear weapon ushering atomic age space race produced rapid advance rocketry material science aeronautics',\n",
              " 'invention transistor 1950s key active component practically modern electronics led many technological development significant expansion u technology industry',\n",
              " 'turn led establishment many new technology company region around country silicon valley california',\n",
              " 'advancement american microprocessor company advanced micro device amd intel along computer software hardware company adobe system apple inc ibm microsoft sun microsystems created popularized personal computer',\n",
              " 'arpanet developed 1960s meet defense department requirement became first series network evolved internet',\n",
              " 'united state ranked third global innovation index 2021 switzerland sweden',\n",
              " 'accounting 4 24 global population american collectively posse 29 4 world total wealth largest percentage country',\n",
              " 'u also rank first number billionaire millionaire world 724 billionaire 10 5 million millionaire 2020',\n",
              " 'prior 2019 2021 global sars cov 2 pandemic credit suisse listed 18 6 million u citizen net worth excess 1 million',\n",
              " '2020 food security index ranked united state 11th food security giving country score 77 5 100',\n",
              " 'american average twice much living space per dwelling per person eu resident',\n",
              " '2019 united nation development programme ranked united state 17th among 189 country human development index hdi 28th among 151 country inequality adjusted hdi ihdi',\n",
              " 'wealth like income tax highly concentrated richest 10 adult population posse 72 country household wealth bottom half posse 2',\n",
              " 'according federal reserve top 1 controlled 38 6 country wealth 2016',\n",
              " 'according 2018 study oecd united state larger percentage low income worker almost developed nation largely weak collective bargaining system lack government support risk worker',\n",
              " 'year stagnation median household income reached record high 2016 following two consecutive year record growth',\n",
              " 'income inequality remains record high however top fifth earner taking home half overall income',\n",
              " 'rise share total annual income received top one percent doubled nine percent 1976 20 percent 2011 significantly affected income inequality leaving united state one widest income distribution among oecd member',\n",
              " 'top one percent income earner accounted 52 percent income gain 2009 2015 income defined market income excluding government transfer',\n",
              " 'extent relevance income inequality matter debate',\n",
              " '567 715 sheltered unsheltered homeless person u january 2019 almost two third staying emergency shelter transitional housing program attempt combat homelessness include section 8 housing voucher program implementation housing first strategy across level government',\n",
              " '2011 16 7 million child lived food insecure household 35 2007 level though 845 000 u child 1 1 saw reduced food intake disrupted eating pattern point year case chronic',\n",
              " 'june 2018 40 million people roughly 12 7 u population living poverty including 13 3 million child',\n",
              " 'impoverished 18 5 million live deep poverty family income one half poverty threshold five million live third world condition',\n",
              " '2017 u state territory lowest highest poverty rate new hampshire 7 6 american samoa 65 respectively',\n",
              " 'economic impact mass unemployment caused covid 19 pandemic raised fear mass eviction crisis analysis aspen institute indicating 30 40 million people risk eviction end 2020',\n",
              " 'cdc biden government issued federal eviction moratorium supreme court invalidated order ruling lacked authority federal law',\n",
              " 'personal transportation dominated automobile operate network 4 million mile 6 4 million kilometer public road',\n",
              " 'united state world second largest automobile market highest vehicle ownership per caput world 816 4 vehicle per 1 000 american 2014',\n",
              " '2017 255 009 283 non two wheel motor vehicle 910 vehicle per 1 000 people',\n",
              " 'civil airline industry entirely privately owned largely deregulated since 1978 major airport publicly owned',\n",
              " 'three largest airline world passenger carried u based american airline number one 2013 acquisition u airway',\n",
              " 'world 50 busiest passenger airport 16 united state including busiest hartsfield jackson atlanta international airport',\n",
              " 'united state longest rail network world nearly standard gauge',\n",
              " 'network handle mostly freight intercity passenger service provided government subsidized amtrak four state',\n",
              " 'transportation largest single source greenhouse gas emission united state',\n",
              " 'country rank world second highest emitter greenhouse gas exceeded china',\n",
              " 'united state world largest producer greenhouse gas greenhouse gas emission per caput remain high',\n",
              " '2019 united state receives approximately 80 energy fossil fuel',\n",
              " '2019 largest source country energy came petroleum 36 6 followed natural gas 32 coal 11 4 renewable source 11 4 nuclear power 8 4',\n",
              " 'american constitute le 5 world population consume 17 world energy account 25 world petroleum consumption producing 6 world annual petroleum supply',\n",
              " 'u census bureau reported 331 449 281 resident april 1 2020',\n",
              " 'figure like official data united state whole excludes five unincorporated territory puerto rico guam u virgin island american samoa northern mariana island minor island possession',\n",
              " 'according bureau u population clock january 28 2021 u population net gain one person every 100 second 864 people per day',\n",
              " 'united state third populous nation world china india',\n",
              " '2020 median age united state population 38 5 year',\n",
              " '2018 almost 90 million immigrant u born child immigrant united state accounting 28 overall u',\n",
              " 'united state diverse population 37 ancestry group one million member',\n",
              " 'white american european ancestry mostly german irish english italian polish french including white hispanic latino american latin america form largest racial group 73 1 population',\n",
              " 'african american constitute nation largest racial minority third largest ancestry group around 13 total u',\n",
              " 'asian american country second largest racial minority three largest asian ethnic group chinese filipino indian',\n",
              " '2017 u foreign born population 45 20 7 million naturalized citizen 27 12 3 million lawful permanent resident 6 2 2 million temporary lawful resident 23 10 5 million unauthorized immigrant',\n",
              " 'among current living immigrant u top five country birth mexico china india philippine el salvador',\n",
              " '2017 united state led world refugee resettlement decade admitting refugee rest world combined',\n",
              " '82 american live urban area including suburb half reside city population 50 000',\n",
              " '2008 273 incorporated municipality population 100 000 nine city one million resident four city two million namely new york los angeles chicago houston',\n",
              " 'many u metropolitan population growing rapidly particularly south west',\n",
              " '2018 52 american age 15 married 6 widowed 10 divorced 32 never married',\n",
              " '2020 total fertility rate stood 1 64 child per woman',\n",
              " '2013 average age first birth 26 41 birth unmarried woman',\n",
              " '2019 u world highest rate 23 child living single parent household rate canada mexico 15 7 respectively',\n",
              " 'english specifically american english de facto national language united state',\n",
              " 'although official language federal level law u naturalization requirement standardize english state declared english official language',\n",
              " 'three state four u territory recognized local indigenous language addition english including hawaii hawaiian alaska twenty native language south dakota sioux american samoa samoan puerto rico spanish guam chamorro northern mariana island carolinian chamorro',\n",
              " 'puerto rico spanish widely spoken english',\n",
              " 'according american community survey 2010 229 million people total u population 308 million spoke english home',\n",
              " '37 million spoke spanish home making second commonly used language united state',\n",
              " 'language spoken home one million people include chinese 2 8 million tagalog 1 6 million vietnamese 1 4 million french 1 3 million korean 1 1 million german 1 million',\n",
              " 'widely taught foreign language united state term enrollment number kindergarten university undergraduate education spanish around 7 2 million student french 1 5 million german 500 000',\n",
              " 'commonly taught language include latin japanese american sign language italian chinese',\n",
              " '18 american claim speak english another language',\n",
              " 'first amendment u constitution guarantee free exercise religion forbids congress passing law respecting establishment',\n",
              " 'united state world largest christian population',\n",
              " '2014 survey 70 6 adult united state identified christian protestant accounted 46 5 catholic 20 8 formed largest single christian denomination',\n",
              " '2014 5 9 u adult population claimed non christian religion',\n",
              " 'include judaism 1 9 islam 0 9 hinduism 0 7 buddhism 0 7',\n",
              " 'survey also reported 22 8 american described agnostic atheist simply religion 8 2 1990',\n",
              " 'membership house worship fell 70 1999 47 2020 much decline related number american expressing religious preference',\n",
              " 'however membership also fell among identified specific religious group',\n",
              " 'protestantism largest christian religious grouping united state accounting almost half american',\n",
              " 'baptist collectively form largest branch protestantism 15 4 southern baptist convention largest individual protestant denomination 5 3 u',\n",
              " 'apart baptist protestant category include nondenominational protestant methodist pentecostal unspecified protestant lutheran presbyterian congregationalist episcopalian anglican quaker adventist holiness christian fundamentalist anabaptist pietists multiple others',\n",
              " 'bible belt informal term region southern united state socially conservative evangelical protestantism significant part culture christian church attendance across denomination generally higher nation average',\n",
              " 'contrast religion play least important role new england western united state',\n",
              " 'center disease control prevention cdc reported united state average life expectancy birth 77 3 year 2020 74 5 year men 80 2 year woman 1 5 year 2019 according provisional figure lowest average u life expectancy recorded cdc since 2003 first overall decline since 2018 largest one year decline since world war ii',\n",
              " 'three quarter decrease attributed death covid 19 pandemic rest due accident drug overdoses',\n",
              " 'country also one highest suicide rate among wealthy country',\n",
              " 'starting 1998 average life expectancy u fell behind wealthy industrialized country american health disadvantage gap increasing ever since',\n",
              " '1999 2019 770 000 american died drug overdoses',\n",
              " 'life expectancy highest among asian hispanic lowest among black',\n",
              " 'increasing obesity united state improvement health longevity outside u contributed lowering country rank life expectancy 11th world 1987 42nd 2007 2017 united state lowest life expectancy among japan canada australia united kingdom seven nation western europe',\n",
              " 'obesity rate doubled last 30 year highest industrialized world',\n",
              " 'approximately one third adult population obese additional third overweight',\n",
              " 'obesity related type 2 diabetes considered epidemic health care professional',\n",
              " '2010 coronary artery disease lung cancer stroke chronic obstructive pulmonary disease traffic collision caused year life lost u low back pain depression musculoskeletal disorder neck pain anxiety caused year lost disability',\n",
              " 'harmful risk factor poor diet tobacco smoking obesity high blood pressure high blood sugar physical inactivity alcohol use',\n",
              " 'alzheimer disease substance use disorder kidney disease cancer fall caused additional year life lost age adjusted 1990 per caput rate',\n",
              " 'u teenage pregnancy abortion rate substantially higher western nation especially among black hispanic',\n",
              " 'government funded health care coverage poor medicaid established 1965 age 65 older medicare begun 1966 available american meet program income age qualification',\n",
              " 'united state developed nation without system universal health care reason extent problem matter debate',\n",
              " 'similarly significant proportion population carry health insurance reason extent problem also matter debate',\n",
              " '2010 former president obama passed patient protection affordable care act also known affordable care act aca ushered sweeping set reform america health care system nearly five decade since creation medicare medicaid',\n",
              " 'cdc said law roughly halved uninsured share population multiple study concluded aca reduced mortality enrollee legacy remains controversial',\n",
              " 'u health care system far outspends nation measured per caput spending percentage gdp attains worse healthcare outcome compared peer nation',\n",
              " 'however u global leader medical innovation',\n",
              " 'american public education operated state local government regulated united state department education restriction federal grant',\n",
              " 'state child required attend school age five six beginning kindergarten first grade turn 18 generally bringing twelfth grade end high school state allow student leave school 16 17',\n",
              " '12 child enrolled parochial nonsectarian private school',\n",
              " '3 4 child homeschooled 2012',\n",
              " 'u spends education per student nation world spending average 12 794 per year public elementary secondary school student 2016 2017 school year',\n",
              " '80 u college student attend public university',\n",
              " 'american 25 older 84 6 graduated high school 52 6 attended college 27 2 earned bachelor degree 9 6 earned graduate degree',\n",
              " 'basic literacy rate approximately 99',\n",
              " 'united nation assigns united state education index 0 97 tying 12th world',\n",
              " 'united state many private public institution higher education',\n",
              " 'majority world top university listed various ranking organization u also local community college generally open admission policy shorter academic program lower tuition',\n",
              " '2018 u21 network research intensive university ranked united state first world breadth quality higher education 15th gdp factor',\n",
              " 'public expenditure higher education u trail oecd organization cooperation development nation spends per student oecd average nation combined public private spending',\n",
              " 'despite student loan forgiveness program place student loan debt increased 102 last decade exceeded 1 7 trillion dollar 2021',\n",
              " 'united state home many culture wide variety ethnic group tradition value',\n",
              " 'aside native american native hawaiian native alaskan population nearly american ancestor immigrated imported slave within past five century',\n",
              " 'mainstream american culture western culture largely derived tradition european immigrant influence many source tradition brought slave africa',\n",
              " 'recent immigration asia especially latin america added cultural mix described homogenizing melting pot immigrant contributing eventually assimilating mainstream american culture',\n",
              " 'american traditionally characterized strong work ethic competitiveness individualism well unifying belief american creed emphasizing liberty equality private property democracy rule law preference limited government',\n",
              " 'american extremely charitable global standard according 2006 british study american gave 1 67 gdp charity nation studied',\n",
              " 'american dream perception american enjoy high social mobility play key role attracting immigrant',\n",
              " 'whether perception accurate topic debate',\n",
              " 'mainstream culture hold united state classless society scholar identify significant difference country social class affecting socialization language value',\n",
              " 'american tend greatly value socioeconomic achievement ordinary average also generally seen positive attribute',\n",
              " '18th early 19th century american art literature took cue europe contributing western culture',\n",
              " 'writer washington irving nathaniel hawthorne edgar allan poe henry david thoreau established distinctive american literary voice middle 19th century',\n",
              " 'mark twain poet walt whitman major figure century second half emily dickinson virtually unknown lifetime recognized essential american poet',\n",
              " 'work seen capturing fundamental aspect national experience character herman melville moby dick 1851 twain adventure huckleberry finn 1885 f scott fitzgerald great gatsby 1925 harper lee kill mockingbird 1960 may dubbed great american novel',\n",
              " 'thirteen u citizen nobel prize literature',\n",
              " 'william faulkner ernest hemingway john steinbeck often named among influential writer 20th century',\n",
              " 'popular literary genre western hardboiled crime fiction developed united state',\n",
              " 'beat generation writer opened new literary approach postmodernist author john barth thomas pynchon delillo',\n",
              " 'transcendentalist led thoreau ralph waldo emerson established first major american philosophical movement',\n",
              " 'civil war charles sander peirce william james john dewey leader development pragmatism',\n",
              " '20th century work w v quine richard rorty later noam chomsky brought analytic philosophy fore american philosophical academia',\n",
              " 'john rawls robert nozick also led revival political philosophy',\n",
              " 'visual art hudson river school mid 19th century movement tradition european naturalism',\n",
              " '1913 armory show new york city exhibition european modernist art shocked public transformed u art scene',\n",
              " 'georgia keeffe marsden hartley others experimented new individualistic style',\n",
              " 'major artistic movement abstract expressionism jackson pollock willem de kooning pop art andy warhol roy lichtenstein developed largely united state',\n",
              " 'tide modernism postmodernism brought fame american architect frank lloyd wright philip johnson frank gehry',\n",
              " 'american long important modern artistic medium photography major photographer including alfred stieglitz edward steichen edward weston ansel adam',\n",
              " 'early settler introduced native american indigenous non european food turkey sweet potato corn squash maple syrup',\n",
              " 'later immigrant combined food known wheat flour beef milk create distinctive american cuisine',\n",
              " 'homegrown food part shared national menu one america popular holiday thanksgiving many american make purchase traditional food celebrate occasion',\n",
              " 'american fast food industry world largest pioneered drive format 1940s',\n",
              " 'characteristic american dish apple pie fried chicken doughnut french fry macaroni cheese ice cream pizza hamburger hot dog derive recipe various immigrant',\n",
              " 'mexican dish burrito taco pasta dish freely adapted italian source widely consumed',\n",
              " 'american drink three time much coffee tea',\n",
              " 'marketing u industry largely responsible making orange juice milk standard breakfast beverage',\n",
              " 'among america earliest composer man named william billing born boston composed patriotic hymn 1770s billing part first new england school dominated american music earliest stage',\n",
              " 'anthony heinrich prominent composer civil war',\n",
              " 'mid late 1800s john philip sousa late romantic era composed numerous military song particularly march regarded one america greatest composer',\n",
              " 'late 19th century second new england school sometimes referred specifically boston six became prominent representative classical tradition john knowles paine leading figure',\n",
              " 'although little known time charles ives work 1910s established first major u composer classical tradition experimentalists henry cowell john cage created distinctive american approach classical composition',\n",
              " 'aaron copland george gershwin eventually furthered leonard bernstein developed new synthesis popular classical music',\n",
              " 'rhythmic lyrical style african american music deeply influenced american music large distinguishing european african tradition',\n",
              " 'element folk idiom blue known old time music adopted transformed popular genre global audience',\n",
              " 'jazz developed innovator louis armstrong duke ellington early 20th century',\n",
              " 'country music developed 1920s rhythm blue 1940s',\n",
              " 'elvis presley chuck berry among mid 1950s pioneer rock roll',\n",
              " 'rock band metallica eagle aerosmith among highest grossing worldwide sale',\n",
              " '1960s bob dylan emerged folk revival become one america celebrated songwriter james brown led development funk',\n",
              " 'recent american creation include hip hop salsa techno house music',\n",
              " 'mid 20th century american pop star bing crosby frank sinatra elvis presley became global celebrity artist late 20th century michael jackson prince madonna whitney houston',\n",
              " 'popular artist mid 1990s late 2000s include mariah carey britney spear justin timberlake christina aguilera beyonc',\n",
              " 'well known american singer 2010s include katy perry bruno mar lady gaga taylor swift ariana grande',\n",
              " 'hollywood northern district los angeles california one leader motion picture production',\n",
              " 'world first commercial motion picture exhibition given new york city 1894 using thomas edison kinetoscope',\n",
              " 'since early 20th century u film industry largely based around hollywood although 21st century increasing number film made film company subject force globalization',\n",
              " 'director w griffith american filmmaker silent film period central development film grammar producer entrepreneur walt disney leader animated film movie merchandising',\n",
              " 'director john ford redefined image american old west like others john huston broadened possibility cinema location shooting',\n",
              " 'industry enjoyed golden year commonly referred golden age hollywood early sound period early 1960s screen actor john wayne marilyn monroe becoming iconic figure',\n",
              " '1970s new hollywood hollywood renaissance defined grittier film influenced french italian realist picture post war period',\n",
              " 'recent time director steven spielberg george lucas james cameron gained renown blockbuster film often characterized high production cost earnings',\n",
              " 'notable film topping american film institute afi 100 list include orson welles citizen kane 1941 frequently cited greatest film time casablanca 1942 godfather 1972 gone wind 1939 lawrence arabia 1962 wizard oz 1939 graduate 1967 waterfront 1954 schindler list 1993 singin rain 1952 wonderful life 1946 sunset boulevard 1950',\n",
              " 'academy award popularly known oscar held annually academy motion picture art science since 1929 golden globe award held annually since january 1944',\n",
              " 'theater united state part old european theatrical tradition heavily influenced british theater',\n",
              " 'central hub american theater scene manhattan division broadway broadway broadway',\n",
              " 'many movie television star gotten big break working new york production',\n",
              " 'outside new york city many city professional regional resident theater company produce season work produced regionally hope eventually moving new york',\n",
              " 'u theater also active community theater culture relies mainly local volunteer may actively pursuing theatrical career',\n",
              " 'american football several measure popular spectator sport united state national football league nfl highest average attendance sport league world super bowl watched ten million globally',\n",
              " 'even collegiate level college football game receive million viewer per television broadcast notably college football playoff average 25 million viewer',\n",
              " 'baseball regarded u national sport since late 19th century major league baseball mlb top league',\n",
              " 'basketball ice hockey country next two leading professional team sport top league national basketball association nba national hockey league nhl',\n",
              " 'college football basketball attract large audience',\n",
              " 'ncaa final four one watched sporting event',\n",
              " 'soccer sport gained footing united state since mid 1990s country hosted 1994 fifa world cup men national soccer team qualified ten world cup woman team fifa woman world cup four time major league soccer sport highest league united state featuring 23 american three canadian team',\n",
              " 'market professional sport united state roughly 69 billion roughly 50 larger europe middle east africa combined',\n",
              " 'eight olympic game taken place united state',\n",
              " '1904 summer olympics st louis missouri first ever olympic game held outside europe',\n",
              " '2017 united state 2 522 medal summer olympic game country 305 winter olympic game second behind norway',\n",
              " 'major u sport baseball american football evolved european practice basketball volleyball skateboarding snowboarding american invention become popular worldwide',\n",
              " 'lacrosse surfing arose native american native hawaiian activity predate western contact',\n",
              " 'watched individual sport golf auto racing particularly nascar indycar',\n",
              " 'four major broadcaster u national broadcasting company nbc columbia broadcasting system cbs american broadcasting company abc fox broadcasting company fox',\n",
              " 'four major broadcast television network commercial entity',\n",
              " 'cable television offer hundred channel catering variety niche',\n",
              " 'american listen radio programming also largely commercial average two half hour day',\n",
              " '1998 number u commercial radio station grown 4 793 station 5 662 fm station',\n",
              " 'addition 1 460 public radio station',\n",
              " 'station run university public authority educational purpose financed public private fund subscription corporate underwriting',\n",
              " 'much public radio broadcasting supplied npr',\n",
              " 'npr incorporated february 1970 public broadcasting act 1967 television counterpart pb created legislation',\n",
              " 'september 30 2014 15 433 licensed full power radio station u according u federal communication commission fcc',\n",
              " 'well known newspaper include wall street journal new york time usa today',\n",
              " 'although cost publishing increased year price newspaper generally remained low forcing newspaper rely advertising revenue article provided major wire service associated press reuters national world coverage',\n",
              " 'exception newspaper u privately owned either large chain gannett mcclatchy dozen even hundred newspaper small chain handful paper situation increasingly rare individual family',\n",
              " 'major city often alternative weekly complement mainstream daily paper new york city village voice los angeles la weekly',\n",
              " 'major city may also support local business journal trade paper relating local industry paper local ethnic social group',\n",
              " 'five popular website used u google youtube amazon yahoo facebook',\n",
              " '800 publication produced spanish second commonly used language united state behind english']"
            ]
          },
          "metadata": {},
          "execution_count": 56
        }
      ]
    },
    {
      "cell_type": "code",
      "source": [
        ""
      ],
      "metadata": {
        "id": "1TsMm6P7z6Sk"
      },
      "id": "1TsMm6P7z6Sk",
      "execution_count": 56,
      "outputs": []
    },
    {
      "cell_type": "code",
      "source": [
        ""
      ],
      "metadata": {
        "id": "kCafHEQ-0s49"
      },
      "id": "kCafHEQ-0s49",
      "execution_count": 56,
      "outputs": []
    },
    {
      "cell_type": "code",
      "source": [
        "import gensim.downloader as api"
      ],
      "metadata": {
        "id": "p4zhov9I0s8O"
      },
      "id": "p4zhov9I0s8O",
      "execution_count": 57,
      "outputs": []
    },
    {
      "cell_type": "code",
      "source": [
        "dataset = api.load(\"text8\")\n",
        "dataset = [wd for wd in dataset]"
      ],
      "metadata": {
        "colab": {
          "base_uri": "https://localhost:8080/"
        },
        "id": "U9_0j0DG0tQ4",
        "outputId": "35bc39bf-b62d-4fe1-9f95-d107b9e92878"
      },
      "id": "U9_0j0DG0tQ4",
      "execution_count": 58,
      "outputs": [
        {
          "output_type": "stream",
          "name": "stdout",
          "text": [
            "[==================================================] 100.0% 31.6/31.6MB downloaded\n"
          ]
        }
      ]
    },
    {
      "cell_type": "code",
      "source": [
        "#bigram = gensim"
      ],
      "metadata": {
        "id": "BXUknJgm0w06"
      },
      "id": "BXUknJgm0w06",
      "execution_count": 60,
      "outputs": []
    },
    {
      "cell_type": "code",
      "source": [
        "bigram = gensim.models.phrases.Phrases(dataset)"
      ],
      "metadata": {
        "id": "R8t5PahI07df"
      },
      "id": "R8t5PahI07df",
      "execution_count": 61,
      "outputs": []
    },
    {
      "cell_type": "code",
      "source": [
        "len(bigram[dataset[0]])"
      ],
      "metadata": {
        "colab": {
          "base_uri": "https://localhost:8080/"
        },
        "id": "oBRPS_2C1UQq",
        "outputId": "b1ca94bd-e60b-4fc8-e2f8-41f3dcafd1d1"
      },
      "id": "oBRPS_2C1UQq",
      "execution_count": 68,
      "outputs": [
        {
          "output_type": "execute_result",
          "data": {
            "text/plain": [
              "9161"
            ]
          },
          "metadata": {},
          "execution_count": 68
        }
      ]
    },
    {
      "cell_type": "code",
      "source": [
        "trigram = gensim.models.phrases.Phrases(bigram[dataset])"
      ],
      "metadata": {
        "id": "XgW9wV091YSZ"
      },
      "id": "XgW9wV091YSZ",
      "execution_count": 63,
      "outputs": []
    },
    {
      "cell_type": "code",
      "source": [
        "len(trigram[dataset[0]])"
      ],
      "metadata": {
        "colab": {
          "base_uri": "https://localhost:8080/"
        },
        "id": "afvtkwV91wwk",
        "outputId": "7c14fe7f-0f1b-478d-b224-79b77efc439b"
      },
      "id": "afvtkwV91wwk",
      "execution_count": 69,
      "outputs": [
        {
          "output_type": "execute_result",
          "data": {
            "text/plain": [
              "8981"
            ]
          },
          "metadata": {},
          "execution_count": 69
        }
      ]
    },
    {
      "cell_type": "code",
      "source": [
        ""
      ],
      "metadata": {
        "id": "GlToCtVR10fb"
      },
      "id": "GlToCtVR10fb",
      "execution_count": 70,
      "outputs": []
    },
    {
      "cell_type": "code",
      "source": [
        ""
      ],
      "metadata": {
        "colab": {
          "base_uri": "https://localhost:8080/"
        },
        "id": "4rO04bui28Nw",
        "outputId": "2a9b07fa-3146-4cc2-8bf2-49f1ac9ba804"
      },
      "id": "4rO04bui28Nw",
      "execution_count": 75,
      "outputs": [
        {
          "output_type": "execute_result",
          "data": {
            "text/plain": [
              "8892"
            ]
          },
          "metadata": {},
          "execution_count": 75
        }
      ]
    },
    {
      "cell_type": "code",
      "source": [
        ""
      ],
      "metadata": {
        "id": "6mPlAYJ13AGF"
      },
      "id": "6mPlAYJ13AGF",
      "execution_count": null,
      "outputs": []
    }
  ],
  "metadata": {
    "kernelspec": {
      "display_name": "Python 3",
      "language": "python",
      "name": "python3"
    },
    "language_info": {
      "codemirror_mode": {
        "name": "ipython",
        "version": 3
      },
      "file_extension": ".py",
      "mimetype": "text/x-python",
      "name": "python",
      "nbconvert_exporter": "python",
      "pygments_lexer": "ipython3",
      "version": "3.8.8"
    },
    "colab": {
      "name": "ExTs.ipynb",
      "provenance": [],
      "toc_visible": true,
      "include_colab_link": true
    }
  },
  "nbformat": 4,
  "nbformat_minor": 5
}