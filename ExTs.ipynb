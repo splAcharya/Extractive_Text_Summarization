{
  "cells": [
    {
      "cell_type": "markdown",
      "metadata": {
        "id": "view-in-github",
        "colab_type": "text"
      },
      "source": [
        "<a href=\"https://colab.research.google.com/github/splAcharya/Extractive_Text_Summarization/blob/main/ExTs.ipynb\" target=\"_parent\"><img src=\"https://colab.research.google.com/assets/colab-badge.svg\" alt=\"Open In Colab\"/></a>"
      ]
    },
    {
      "cell_type": "markdown",
      "id": "objective-being",
      "metadata": {
        "id": "objective-being"
      },
      "source": [
        "# Extractive Text Summarization Of Wikipedia Articles"
      ]
    },
    {
      "cell_type": "code",
      "source": [
        ""
      ],
      "metadata": {
        "id": "j0hIFyNN_2G0"
      },
      "id": "j0hIFyNN_2G0",
      "execution_count": null,
      "outputs": []
    },
    {
      "cell_type": "markdown",
      "source": [
        "## Install Packages (if needed)"
      ],
      "metadata": {
        "id": "valMZEg__23K"
      },
      "id": "valMZEg__23K"
    },
    {
      "cell_type": "code",
      "source": [
        "#gensim\n",
        "!pip install --upgrade gensim\n",
        "\n",
        "#rouge scorer\n",
        "!pip install rouge-score"
      ],
      "metadata": {
        "colab": {
          "base_uri": "https://localhost:8080/"
        },
        "id": "4bxbiiQG_6-y",
        "outputId": "91a3644f-53b2-4af8-9e6b-9f921d522984"
      },
      "id": "4bxbiiQG_6-y",
      "execution_count": 1,
      "outputs": [
        {
          "output_type": "stream",
          "name": "stdout",
          "text": [
            "Requirement already satisfied: gensim in /usr/local/lib/python3.7/dist-packages (3.6.0)\n",
            "Collecting gensim\n",
            "  Downloading gensim-4.1.2-cp37-cp37m-manylinux_2_12_x86_64.manylinux2010_x86_64.whl (24.1 MB)\n",
            "\u001b[K     |████████████████████████████████| 24.1 MB 1.9 MB/s \n",
            "\u001b[?25hRequirement already satisfied: scipy>=0.18.1 in /usr/local/lib/python3.7/dist-packages (from gensim) (1.4.1)\n",
            "Requirement already satisfied: smart-open>=1.8.1 in /usr/local/lib/python3.7/dist-packages (from gensim) (5.2.1)\n",
            "Requirement already satisfied: numpy>=1.17.0 in /usr/local/lib/python3.7/dist-packages (from gensim) (1.19.5)\n",
            "Installing collected packages: gensim\n",
            "  Attempting uninstall: gensim\n",
            "    Found existing installation: gensim 3.6.0\n",
            "    Uninstalling gensim-3.6.0:\n",
            "      Successfully uninstalled gensim-3.6.0\n",
            "Successfully installed gensim-4.1.2\n",
            "Collecting rouge-score\n",
            "  Downloading rouge_score-0.0.4-py2.py3-none-any.whl (22 kB)\n",
            "Requirement already satisfied: six>=1.14.0 in /usr/local/lib/python3.7/dist-packages (from rouge-score) (1.15.0)\n",
            "Requirement already satisfied: absl-py in /usr/local/lib/python3.7/dist-packages (from rouge-score) (1.0.0)\n",
            "Requirement already satisfied: numpy in /usr/local/lib/python3.7/dist-packages (from rouge-score) (1.19.5)\n",
            "Requirement already satisfied: nltk in /usr/local/lib/python3.7/dist-packages (from rouge-score) (3.2.5)\n",
            "Installing collected packages: rouge-score\n",
            "Successfully installed rouge-score-0.0.4\n"
          ]
        }
      ]
    },
    {
      "cell_type": "markdown",
      "id": "promotional-protection",
      "metadata": {
        "id": "promotional-protection"
      },
      "source": [
        "## Import Required Libraries"
      ]
    },
    {
      "cell_type": "code",
      "execution_count": 1,
      "id": "urban-python",
      "metadata": {
        "colab": {
          "base_uri": "https://localhost:8080/"
        },
        "id": "urban-python",
        "outputId": "1bee4e8b-4308-440e-8b91-d1fd5eeac568"
      },
      "outputs": [
        {
          "output_type": "stream",
          "name": "stdout",
          "text": [
            "[nltk_data] Downloading package stopwords to /root/nltk_data...\n",
            "[nltk_data]   Package stopwords is already up-to-date!\n",
            "[nltk_data] Downloading package punkt to /root/nltk_data...\n",
            "[nltk_data]   Package punkt is already up-to-date!\n",
            "[nltk_data] Downloading package wordnet to /root/nltk_data...\n",
            "[nltk_data]   Package wordnet is already up-to-date!\n",
            "Number of Cores: 2\n"
          ]
        }
      ],
      "source": [
        "import time\n",
        "import re\n",
        "import urllib.request\n",
        "from bs4 import BeautifulSoup as bs\n",
        "\n",
        "import string\n",
        "pm_set = set(list(string.punctuation))\n",
        "\n",
        "import nltk\n",
        "from nltk.corpus import stopwords\n",
        "nltk.download(\"stopwords\")\n",
        "nltk.download('punkt')\n",
        "nltk.download('wordnet')\n",
        "sw_set = set(stopwords.words(\"english\"))\n",
        "\n",
        "from nltk.tokenize import sent_tokenize, word_tokenize\n",
        "from nltk.stem.wordnet import WordNetLemmatizer\n",
        "from gensim.models import Word2Vec\n",
        "import gensim.downloader\n",
        "from gensim.models import Phrases\n",
        "\n",
        "import multiprocessing\n",
        "num_cores = multiprocessing.cpu_count()\n",
        "print(f\"Number of Cores: {num_cores}\")\n",
        "\n",
        "from wordcloud import WordCloud\n",
        "from PIL import Image\n",
        "from matplotlib import pyplot as plt\n",
        "import numpy as np\n",
        "\n",
        "from sklearn.utils.extmath import randomized_svd\n",
        "from sklearn.feature_extraction.text import CountVectorizer\n",
        "from sklearn.feature_extraction.text import TfidfVectorizer\n",
        "from sklearn.decomposition import LatentDirichletAllocation as LDA\n",
        "\n",
        "from copy import deepcopy\n",
        "from rouge_score import rouge_scorer\n",
        "import pandas as pd\n",
        "from collections import Counter"
      ]
    },
    {
      "cell_type": "code",
      "execution_count": 1,
      "id": "enabling-ceramic",
      "metadata": {
        "id": "enabling-ceramic"
      },
      "outputs": [],
      "source": [
        ""
      ]
    },
    {
      "cell_type": "code",
      "execution_count": 1,
      "id": "dff747d7-26af-4404-ad54-f79fe8b0920e",
      "metadata": {
        "id": "dff747d7-26af-4404-ad54-f79fe8b0920e"
      },
      "outputs": [],
      "source": [
        ""
      ]
    },
    {
      "cell_type": "markdown",
      "id": "floral-acoustic",
      "metadata": {
        "id": "floral-acoustic"
      },
      "source": [
        "## Function to Webscrape Wikipedia Article"
      ]
    },
    {
      "cell_type": "code",
      "execution_count": 24,
      "id": "linear-sending",
      "metadata": {
        "id": "linear-sending"
      },
      "outputs": [],
      "source": [
        "def fetch_wikipedia_article(url=\"https://en.wikipedia.org/wiki/USA\"):\n",
        "    scrapped_data = urllib.request.urlopen(url)\n",
        "    article = scrapped_data.read()\n",
        "    parsed_article = bs(article,\"lxml\")\n",
        "    paragraphs = parsed_article.find_all(\"p\")\n",
        "    article_text = \"\"\n",
        "    for p in paragraphs:\n",
        "        article_text += p.text\n",
        "    return article_text"
      ]
    },
    {
      "cell_type": "code",
      "execution_count": 24,
      "id": "introductory-forward",
      "metadata": {
        "id": "introductory-forward"
      },
      "outputs": [],
      "source": [
        ""
      ]
    },
    {
      "cell_type": "markdown",
      "id": "blank-visiting",
      "metadata": {
        "id": "blank-visiting"
      },
      "source": [
        "## Function to Pre-process Web Scraped Wikipedia Article"
      ]
    },
    {
      "cell_type": "code",
      "execution_count": 24,
      "id": "ebf6181f-0b0b-4f4c-9ff2-2dcc37706fe9",
      "metadata": {
        "id": "ebf6181f-0b0b-4f4c-9ff2-2dcc37706fe9"
      },
      "outputs": [],
      "source": [
        ""
      ]
    },
    {
      "cell_type": "code",
      "execution_count": 25,
      "id": "cellular-blend",
      "metadata": {
        "id": "cellular-blend"
      },
      "outputs": [],
      "source": [
        "def preprocess_article(article, min_length = 5):\n",
        "    article_lc = article.lower()#lower case entire article\n",
        "    article_st = sent_tokenize(article_lc)#convert to sentences\n",
        "    lmtzr = WordNetLemmatizer()#instantiate lemmatize\n",
        "    pp_article_st = []\n",
        "    final_article_st = []\n",
        "    for sentence in article_st:\n",
        "        original_sentence = deepcopy(sentence)\n",
        "        #print(sentence)\n",
        "        sentence = re.sub(r\"[\\(.*\\)]\",\" \", sentence)#remove data betweena nd include round backers()\n",
        "        #print(sentence)\n",
        "        sentence = re.sub(r\"\\n\",\"\",sentence) #remove \"\\n\" characters\n",
        "        #print(sentence)\n",
        "        sentence = re.sub(r\"\\[\\d+\\]\",\" \",sentence)#remove refrences [n]\n",
        "        #print(sentence)\n",
        "        sentence = re.sub(r\"\\[.+\\]\",\" \",sentence) #remove anything between [] including []\n",
        "        #print(sentence)\n",
        "        sentence = re.sub(r\"[^a-zA-z0-9]\", \" \", sentence) #remove any non english characters\n",
        "        #print(sentence)\n",
        "        sentence = re.sub(r\"\\s+\",\" \",sentence) #remove any whitespaces, tabs, newline charaacters\n",
        "        #print(sentence)\n",
        "        sentence = [lmtzr.lemmatize(word) for word in word_tokenize(sentence) if word not in sw_set ]\n",
        "        if len(sentence) >= min_length:\n",
        "            sentence = (\" \").join(sentence)\n",
        "            pp_article_st.append(sentence)\n",
        "            final_article_st.append(original_sentence)\n",
        "    return final_article_st, pp_article_st"
      ]
    },
    {
      "cell_type": "code",
      "execution_count": 25,
      "id": "f9c64ab0-ae6b-4398-bda3-8f4c95e0b166",
      "metadata": {
        "id": "f9c64ab0-ae6b-4398-bda3-8f4c95e0b166"
      },
      "outputs": [],
      "source": [
        ""
      ]
    },
    {
      "cell_type": "code",
      "execution_count": 25,
      "id": "instrumental-arbor",
      "metadata": {
        "id": "instrumental-arbor"
      },
      "outputs": [],
      "source": [
        ""
      ]
    },
    {
      "cell_type": "code",
      "execution_count": 25,
      "id": "ed8cbb70-195d-460a-850a-5c4c02c33b3d",
      "metadata": {
        "id": "ed8cbb70-195d-460a-850a-5c4c02c33b3d"
      },
      "outputs": [],
      "source": [
        ""
      ]
    },
    {
      "cell_type": "markdown",
      "id": "matched-costume",
      "metadata": {
        "id": "matched-costume"
      },
      "source": [
        "## Using the two function above to extract Wikipedia Article about USA"
      ]
    },
    {
      "cell_type": "code",
      "execution_count": 26,
      "id": "suffering-perfume",
      "metadata": {
        "id": "suffering-perfume"
      },
      "outputs": [],
      "source": [
        "article_text = fetch_wikipedia_article(\"https://en.wikipedia.org/wiki/USA\")\n",
        "article_st, pp_article_st = preprocess_article(article_text)\n",
        "pp_article_st_wt = [word_tokenize(sent) for sent in pp_article_st]"
      ]
    },
    {
      "cell_type": "code",
      "execution_count": 27,
      "id": "behind-sleeping",
      "metadata": {
        "id": "behind-sleeping"
      },
      "outputs": [],
      "source": [
        "pp_string = (\" \").join(pp_article_st)"
      ]
    },
    {
      "cell_type": "code",
      "execution_count": 28,
      "id": "bf10d12d-8b17-4375-8d03-356a6c1847a0",
      "metadata": {
        "colab": {
          "base_uri": "https://localhost:8080/",
          "height": 92
        },
        "id": "bf10d12d-8b17-4375-8d03-356a6c1847a0",
        "outputId": "8c8fc05d-3daa-4138-e073-b2c84eb91d18"
      },
      "outputs": [
        {
          "output_type": "execute_result",
          "data": {
            "application/vnd.google.colaboratory.intrinsic+json": {
              "type": "string"
            },
            "text/plain": [
              "'\\n\\ncoordinates: .mw-parser-output .geo-default,.mw-parser-output .geo-dms,.mw-parser-output .geo-dec{display:inline}.mw-parser-output .geo-nondefault,.mw-parser-output .geo-multi-punct{display:none}.mw-parser-output .longitude,.mw-parser-output .latitude{white-space:nowrap}40°n 100°w\\ufeff / \\ufeff40°n 100°w\\ufeff / 40; -100\\nthe united states of america (u.s.a. or usa), commonly known as the united states (u.s. or us) or america, is a country primarily located in north america.'"
            ]
          },
          "metadata": {},
          "execution_count": 28
        }
      ],
      "source": [
        "article_st[0]"
      ]
    },
    {
      "cell_type": "code",
      "execution_count": 29,
      "id": "23e7518e-1c1e-405c-89a9-1736e13258d3",
      "metadata": {
        "colab": {
          "base_uri": "https://localhost:8080/"
        },
        "id": "23e7518e-1c1e-405c-89a9-1736e13258d3",
        "outputId": "1e59f644-b716-449e-c272-790e92be4169"
      },
      "outputs": [
        {
          "output_type": "execute_result",
          "data": {
            "text/plain": [
              "['coordinate mw parser output geo default mw parser output geo dm mw parser output geo dec display inline mw parser output geo nondefault mw parser output geo multi punct display none mw parser output longitude mw parser output latitude white space nowrap 40 n 100 w 40 n 100 w 40 100the united state america u usa commonly known united state u u america country primarily located north america',\n",
              " 'consists 50 state federal district five major unincorporated territory 326 indian reservation minor possession',\n",
              " '3 8 million square mile 9 8 million square kilometer world third fourth largest country geographic area',\n",
              " 'united state share significant land border canada north mexico south well limited maritime border bahamas cuba russia',\n",
              " 'population 331 million people third populous country world']"
            ]
          },
          "metadata": {},
          "execution_count": 29
        }
      ],
      "source": [
        "pp_article_st[0:5]"
      ]
    },
    {
      "cell_type": "code",
      "execution_count": 7,
      "id": "f5522076-4b14-4ebe-be64-65ca378fea36",
      "metadata": {
        "id": "f5522076-4b14-4ebe-be64-65ca378fea36"
      },
      "outputs": [],
      "source": [
        ""
      ]
    },
    {
      "cell_type": "markdown",
      "id": "patent-opposition",
      "metadata": {
        "id": "patent-opposition"
      },
      "source": [
        "## Generate Word Clouds For Raw and Preprocessed Wikipedia Article about USA"
      ]
    },
    {
      "cell_type": "code",
      "execution_count": 8,
      "id": "presidential-bloom",
      "metadata": {
        "colab": {
          "base_uri": "https://localhost:8080/",
          "height": 482
        },
        "id": "presidential-bloom",
        "outputId": "893ce306-7613-4f0f-e269-e08fa6c7c5b2"
      },
      "outputs": [
        {
          "output_type": "display_data",
          "data": {
            "image/png": "[encoded data removed]",
            "text/plain": [
              "<Figure size 1800x1800 with 2 Axes>"
            ]
          },
          "metadata": {
            "needs_background": "light"
          }
        }
      ],
      "source": [
        "wc_mask = np.array(Image.open(urllib.request.urlopen(\"http://pm1.narvii.com/5750/abb7fdf1f24f9515a1f1d16e6f05d3f03110c51f_00.jpg\")))\n",
        "wc = WordCloud(background_color=\"white\",mask=wc_mask)\n",
        "fig, ax = plt.subplots(1,2,figsize=(25,25))\n",
        "ax[0].imshow(wc.generate(article_text))\n",
        "ax[0].title.set_text(\"Raw\")\n",
        "ax[1].imshow(wc.generate(pp_string))\n",
        "ax[1].title.set_text(\"Preprocessed\")\n",
        "plt.show()"
      ]
    },
    {
      "cell_type": "code",
      "execution_count": 8,
      "id": "engaged-shore",
      "metadata": {
        "id": "engaged-shore"
      },
      "outputs": [],
      "source": [
        ""
      ]
    },
    {
      "cell_type": "code",
      "execution_count": 9,
      "id": "dominican-ownership",
      "metadata": {
        "id": "dominican-ownership"
      },
      "outputs": [],
      "source": [
        ""
      ]
    },
    {
      "cell_type": "markdown",
      "id": "sapphire-boutique",
      "metadata": {
        "id": "sapphire-boutique"
      },
      "source": [
        "## LSA Explore Input/Outputs"
      ]
    },
    {
      "cell_type": "code",
      "execution_count": 11,
      "id": "impossible-advocate",
      "metadata": {
        "id": "impossible-advocate"
      },
      "outputs": [],
      "source": [
        "#1,1(unigrams only)  1,2(unigrams and bigrams) 2,2(bigrams only)\n",
        "count_vectorizer = CountVectorizer(ngram_range=(1,1)) \n",
        "count_vectorizer.fit(pp_article_st)\n",
        "X = count_vectorizer.transform(pp_article_st)"
      ]
    },
    {
      "cell_type": "code",
      "execution_count": 12,
      "id": "conventional-trash",
      "metadata": {
        "id": "conventional-trash"
      },
      "outputs": [],
      "source": [
        "#perform Latent Semantic Analysis (LSA)\n",
        "U, SIGMA, VT = randomized_svd(X,n_components=N_LINE,n_iter=100,random_state=100)"
      ]
    },
    {
      "cell_type": "code",
      "execution_count": null,
      "id": "unlike-pitch",
      "metadata": {
        "colab": {
          "base_uri": "https://localhost:8080/"
        },
        "id": "unlike-pitch",
        "outputId": "dd347983-a3ab-4313-e790-c1afbe61ade0"
      },
      "outputs": [
        {
          "output_type": "execute_result",
          "data": {
            "text/plain": [
              "(594, 10)"
            ]
          },
          "metadata": {},
          "execution_count": 86
        }
      ],
      "source": [
        "U.shape #document-topic"
      ]
    },
    {
      "cell_type": "code",
      "execution_count": null,
      "id": "corporate-armenia",
      "metadata": {
        "colab": {
          "base_uri": "https://localhost:8080/"
        },
        "id": "corporate-armenia",
        "outputId": "c2ddcd8e-ade6-4528-b8d0-fe39d98d354e"
      },
      "outputs": [
        {
          "output_type": "execute_result",
          "data": {
            "text/plain": [
              "(10, 3136)"
            ]
          },
          "metadata": {},
          "execution_count": 87
        }
      ],
      "source": [
        "VT.shape #topic-term"
      ]
    },
    {
      "cell_type": "code",
      "execution_count": null,
      "id": "reduced-marker",
      "metadata": {
        "colab": {
          "base_uri": "https://localhost:8080/"
        },
        "id": "reduced-marker",
        "outputId": "452c1989-fbf6-4c9b-e8b4-8d987eec49bc"
      },
      "outputs": [
        {
          "output_type": "execute_result",
          "data": {
            "text/plain": [
              "(10,)"
            ]
          },
          "metadata": {},
          "execution_count": 88
        }
      ],
      "source": [
        "SIGMA.shape # topic - topic sparse matrix"
      ]
    },
    {
      "cell_type": "code",
      "execution_count": null,
      "id": "subject-klein",
      "metadata": {
        "id": "subject-klein"
      },
      "outputs": [],
      "source": [
        "scores = np.sqrt(np.dot(U**2,SIGMA**2))"
      ]
    },
    {
      "cell_type": "code",
      "execution_count": null,
      "id": "attempted-credit",
      "metadata": {
        "colab": {
          "base_uri": "https://localhost:8080/"
        },
        "id": "attempted-credit",
        "outputId": "0d47bd63-0254-4922-8946-1ce6f47ee532"
      },
      "outputs": [
        {
          "output_type": "execute_result",
          "data": {
            "text/plain": [
              "(594,)"
            ]
          },
          "metadata": {},
          "execution_count": 90
        }
      ],
      "source": [
        "scores.shape"
      ]
    },
    {
      "cell_type": "code",
      "execution_count": null,
      "id": "proper-nevada",
      "metadata": {
        "id": "proper-nevada"
      },
      "outputs": [],
      "source": [
        "#get index of highest scores\n",
        "top_scores_index = np.argsort(scores)"
      ]
    },
    {
      "cell_type": "code",
      "execution_count": null,
      "id": "welsh-midwest",
      "metadata": {
        "id": "welsh-midwest"
      },
      "outputs": [],
      "source": [
        "#sort the indexes in descending order\n",
        "top_scores_index = top_scores_index[::-1]"
      ]
    },
    {
      "cell_type": "code",
      "execution_count": null,
      "id": "considered-philadelphia",
      "metadata": {
        "id": "considered-philadelphia"
      },
      "outputs": [],
      "source": [
        "#get top N Scores index\n",
        "top_scores_index = top_scores_index[0:N_LINE]"
      ]
    },
    {
      "cell_type": "code",
      "execution_count": null,
      "id": "final-investigator",
      "metadata": {
        "colab": {
          "base_uri": "https://localhost:8080/"
        },
        "id": "final-investigator",
        "outputId": "93ec46c0-915f-41b3-8caa-2f68f375515f"
      },
      "outputs": [
        {
          "output_type": "execute_result",
          "data": {
            "text/plain": [
              "array([  0, 464, 447, 569, 274, 431, 470, 345,  11, 141])"
            ]
          },
          "metadata": {},
          "execution_count": 94
        }
      ],
      "source": [
        "top_scores_index"
      ]
    },
    {
      "cell_type": "code",
      "execution_count": null,
      "id": "bibliographic-sword",
      "metadata": {
        "colab": {
          "base_uri": "https://localhost:8080/"
        },
        "id": "bibliographic-sword",
        "outputId": "0fdc8c09-ee44-4703-9f49-56f09d30ef2b"
      },
      "outputs": [
        {
          "output_type": "execute_result",
          "data": {
            "text/plain": [
              "array([15.07251127,  8.13742293,  7.06155453,  6.26265046,  5.96701386,\n",
              "        4.49502756,  4.28935591,  4.28564734,  4.24658734,  4.20066484])"
            ]
          },
          "metadata": {},
          "execution_count": 95
        }
      ],
      "source": [
        "scores[top_scores_index]"
      ]
    },
    {
      "cell_type": "code",
      "execution_count": null,
      "id": "crude-colony",
      "metadata": {
        "id": "crude-colony"
      },
      "outputs": [],
      "source": [
        "article_array = np.array(article_st)"
      ]
    },
    {
      "cell_type": "code",
      "execution_count": null,
      "id": "outer-humidity",
      "metadata": {
        "id": "outer-humidity"
      },
      "outputs": [],
      "source": [
        "bow_sum = article_array[top_scores_index]"
      ]
    },
    {
      "cell_type": "code",
      "execution_count": null,
      "id": "intended-camel",
      "metadata": {
        "id": "intended-camel"
      },
      "outputs": [],
      "source": [
        "bow_sum = list(bow_sum)"
      ]
    },
    {
      "cell_type": "code",
      "execution_count": null,
      "id": "roman-shepherd",
      "metadata": {
        "colab": {
          "base_uri": "https://localhost:8080/"
        },
        "id": "roman-shepherd",
        "outputId": "dc83a7f2-a1e6-4319-864e-c78190a46bfd"
      },
      "outputs": [
        {
          "output_type": "execute_result",
          "data": {
            "text/plain": [
              "10"
            ]
          },
          "metadata": {},
          "execution_count": 99
        }
      ],
      "source": [
        "len(bow_sum)"
      ]
    },
    {
      "cell_type": "code",
      "execution_count": null,
      "id": "changing-yellow",
      "metadata": {
        "id": "changing-yellow"
      },
      "outputs": [],
      "source": [
        "bow_sum_unigram = (\" \").join(bow_sum)"
      ]
    },
    {
      "cell_type": "code",
      "execution_count": null,
      "id": "incorrect-thread",
      "metadata": {
        "colab": {
          "base_uri": "https://localhost:8080/",
          "height": 167
        },
        "id": "incorrect-thread",
        "outputId": "b21d3214-0107-463e-cea4-46b5f7ab1ad1"
      },
      "outputs": [
        {
          "output_type": "execute_result",
          "data": {
            "application/vnd.google.colaboratory.intrinsic+json": {
              "type": "string"
            },
            "text/plain": [
              "'\\n\\ncoordinates: .mw-parser-output .geo-default,.mw-parser-output .geo-dms,.mw-parser-output .geo-dec{display:inline}.mw-parser-output .geo-nondefault,.mw-parser-output .geo-multi-punct{display:none}.mw-parser-output .longitude,.mw-parser-output .latitude{white-space:nowrap}40°n 100°w\\ufeff / \\ufeff40°n 100°w\\ufeff / 40; -100\\nthe united states of america (u.s.a. or usa), commonly known as the united states (u.s. or us) or america, is a country primarily located in north america. [424]\\nthe centers for disease control and prevention (cdc) reported that the united states had an average life expectancy at birth of 77.3 years in 2020 (74.5 years for men and 80.2 years for women), down 1.5 years from 2019. according to provisional figures, this was the lowest average u.s. life expectancy recorded by the cdc since 2003, the first overall decline since 2018, and \"the largest one-year decline since world war ii.\" other languages spoken at home by one million people or more include chinese (2.8 million), tagalog (1.6 million), vietnamese (1.4 million), french (1.3 million), korean (1.1 million), and german (1 million). [530] in soccer (a sport that has gained a footing in the united states since the mid-1990s), the country hosted the 1994 fifa world cup, the men\\'s national soccer team qualified for ten world cups and the women\\'s team has won the fifa women\\'s world cup four times; major league soccer is the sport\\'s highest league in the united states (featuring 23 american and three canadian teams). since the general election of 1856, the major parties have been the democratic party, founded in 1824, and the republican party, founded in 1854. since the civil war, only one third-party presidential candidate—former president theodore roosevelt, running as a progressive in 1912—has won as much as 20% of the popular vote, though the self-financed reform party campaign of ross perot took 18.9% in 1992. [394]\\nin 2017, out of the u.s. foreign-born population, some 45% (20.7 million) were naturalized citizens, 27% (12.3 million) were lawful permanent residents, 6% (2.2 million) were temporary lawful residents, and 23% (10.5 million) were unauthorized immigrants. [430][431]\\nincreasing obesity in the united states and improvements in health and longevity outside the u.s. contributed to lowering the country\\'s rank in life expectancy from 11th in the world in 1987 to 42nd in 2007. in 2017, the united states had the lowest life expectancy among japan, canada, australia, the united kingdom, and seven nations in western europe. [303]\\nalthough most nations have abolished capital punishment,[304] it is sanctioned in the united states for certain federal and military crimes, and at the state level in 28 states, though three states have moratoriums on carrying out the penalty imposed by their governors. the spanish–american war and world war i established the u.s. as a world power, a status confirmed by the outcome of world war ii. [112][113][114]\\nthe united states remained neutral from the outbreak of world war i in 1914 until 1917 when it joined the war as an \"associated power\" alongside the allies of world war i, helping to turn the tide against the central powers.'"
            ]
          },
          "metadata": {},
          "execution_count": 101
        }
      ],
      "source": [
        "bow_sum_unigram"
      ]
    },
    {
      "cell_type": "code",
      "execution_count": null,
      "id": "explicit-torture",
      "metadata": {
        "id": "explicit-torture"
      },
      "outputs": [],
      "source": [
        ""
      ]
    },
    {
      "cell_type": "code",
      "execution_count": null,
      "id": "hearing-hammer",
      "metadata": {
        "id": "hearing-hammer"
      },
      "outputs": [],
      "source": [
        "tfidf_vectorizer = TfidfVectorizer(ngram_range=(1,1))\n",
        "tfidf_vectorizer.fit(pp_article_st)\n",
        "X = tfidf_vectorizer.transform(pp_article_st)"
      ]
    },
    {
      "cell_type": "code",
      "execution_count": null,
      "id": "unexpected-standard",
      "metadata": {
        "id": "unexpected-standard"
      },
      "outputs": [],
      "source": [
        "#perform LSA\n",
        "U, SIGMA, VT = randomized_svd(X,n_components=N_LINE,n_iter=100,random_state=100) "
      ]
    },
    {
      "cell_type": "code",
      "execution_count": null,
      "id": "egyptian-recycling",
      "metadata": {
        "colab": {
          "base_uri": "https://localhost:8080/"
        },
        "id": "egyptian-recycling",
        "outputId": "72c5dbe3-dedb-4fd0-d543-17e8de87d213"
      },
      "outputs": [
        {
          "output_type": "execute_result",
          "data": {
            "text/plain": [
              "(594, 10)"
            ]
          },
          "metadata": {},
          "execution_count": 104
        }
      ],
      "source": [
        "U.shape #document-topic"
      ]
    },
    {
      "cell_type": "code",
      "execution_count": null,
      "id": "handmade-architect",
      "metadata": {
        "colab": {
          "base_uri": "https://localhost:8080/"
        },
        "id": "handmade-architect",
        "outputId": "7b24d16a-1f21-48b7-ab94-8aea28ef0bfb"
      },
      "outputs": [
        {
          "output_type": "execute_result",
          "data": {
            "text/plain": [
              "(10, 3136)"
            ]
          },
          "metadata": {},
          "execution_count": 105
        }
      ],
      "source": [
        "VT.shape #topic-term"
      ]
    },
    {
      "cell_type": "code",
      "execution_count": null,
      "id": "psychological-thanksgiving",
      "metadata": {
        "colab": {
          "base_uri": "https://localhost:8080/"
        },
        "id": "psychological-thanksgiving",
        "outputId": "3c384461-7f9f-475b-9ce4-0203b92c5ffb"
      },
      "outputs": [
        {
          "output_type": "execute_result",
          "data": {
            "text/plain": [
              "(10,)"
            ]
          },
          "metadata": {},
          "execution_count": 106
        }
      ],
      "source": [
        "SIGMA.shape # topic - topic sparse matrix"
      ]
    },
    {
      "cell_type": "code",
      "execution_count": null,
      "id": "pretty-running",
      "metadata": {
        "id": "pretty-running"
      },
      "outputs": [],
      "source": [
        "scores = np.sqrt(np.dot(U**2,SIGMA**2))"
      ]
    },
    {
      "cell_type": "code",
      "execution_count": null,
      "id": "organic-nightlife",
      "metadata": {
        "colab": {
          "base_uri": "https://localhost:8080/"
        },
        "id": "organic-nightlife",
        "outputId": "6bb1f845-a4ae-48c0-8faa-d2a145f7a5b2"
      },
      "outputs": [
        {
          "output_type": "execute_result",
          "data": {
            "text/plain": [
              "(594,)"
            ]
          },
          "metadata": {},
          "execution_count": 108
        }
      ],
      "source": [
        "scores.shape"
      ]
    },
    {
      "cell_type": "code",
      "execution_count": null,
      "id": "welcome-boutique",
      "metadata": {
        "id": "welcome-boutique"
      },
      "outputs": [],
      "source": [
        "#get index of highest scores\n",
        "top_scores_index = np.argsort(scores)"
      ]
    },
    {
      "cell_type": "code",
      "execution_count": null,
      "id": "photographic-people",
      "metadata": {
        "id": "photographic-people"
      },
      "outputs": [],
      "source": [
        "#sort the indexes in descending order\n",
        "top_scores_index = top_scores_index[::-1]"
      ]
    },
    {
      "cell_type": "code",
      "execution_count": null,
      "id": "herbal-bumper",
      "metadata": {
        "id": "herbal-bumper"
      },
      "outputs": [],
      "source": [
        "#get top N Scores index\n",
        "top_scores_index = top_scores_index[0:N_LINE]"
      ]
    },
    {
      "cell_type": "code",
      "execution_count": null,
      "id": "sealed-congo",
      "metadata": {
        "colab": {
          "base_uri": "https://localhost:8080/"
        },
        "id": "sealed-congo",
        "outputId": "ed0a8f5b-29b0-4cd7-e5f3-753a231a0891"
      },
      "outputs": [
        {
          "output_type": "execute_result",
          "data": {
            "text/plain": [
              "array([447, 301, 452, 255,  12, 263,  11, 253,  22,   4])"
            ]
          },
          "metadata": {},
          "execution_count": 112
        }
      ],
      "source": [
        "top_scores_index"
      ]
    },
    {
      "cell_type": "code",
      "execution_count": null,
      "id": "religious-prayer",
      "metadata": {
        "colab": {
          "base_uri": "https://localhost:8080/"
        },
        "id": "religious-prayer",
        "outputId": "3a505aa5-ca7b-48c4-c78d-127ad3dbc4ad"
      },
      "outputs": [
        {
          "output_type": "execute_result",
          "data": {
            "text/plain": [
              "array([0.76573841, 0.74629242, 0.70641235, 0.67982507, 0.6771919 ,\n",
              "       0.64933276, 0.62378055, 0.61224302, 0.59890548, 0.58791346])"
            ]
          },
          "metadata": {},
          "execution_count": 113
        }
      ],
      "source": [
        "scores[top_scores_index]"
      ]
    },
    {
      "cell_type": "code",
      "execution_count": null,
      "id": "proud-haven",
      "metadata": {
        "id": "proud-haven"
      },
      "outputs": [],
      "source": [
        "article_array = np.array(article_st)"
      ]
    },
    {
      "cell_type": "code",
      "execution_count": null,
      "id": "desperate-event",
      "metadata": {
        "id": "desperate-event"
      },
      "outputs": [],
      "source": [
        "tfidf_sum = article_array[top_scores_index]"
      ]
    },
    {
      "cell_type": "code",
      "execution_count": null,
      "id": "comprehensive-williams",
      "metadata": {
        "id": "comprehensive-williams"
      },
      "outputs": [],
      "source": [
        "tfidf_sum = list(tfidf_sum)"
      ]
    },
    {
      "cell_type": "code",
      "execution_count": null,
      "id": "unusual-sampling",
      "metadata": {
        "colab": {
          "base_uri": "https://localhost:8080/"
        },
        "id": "unusual-sampling",
        "outputId": "9b527c8b-c832-4802-c97f-2cf471f6bc85"
      },
      "outputs": [
        {
          "output_type": "execute_result",
          "data": {
            "text/plain": [
              "10"
            ]
          },
          "metadata": {},
          "execution_count": 117
        }
      ],
      "source": [
        "len(tfidf_sum)"
      ]
    },
    {
      "cell_type": "code",
      "execution_count": null,
      "id": "bearing-funeral",
      "metadata": {
        "id": "bearing-funeral"
      },
      "outputs": [],
      "source": [
        "tfidf_sum_unigram = (\" \").join(tfidf_sum)"
      ]
    },
    {
      "cell_type": "code",
      "execution_count": null,
      "id": "undefined-pittsburgh",
      "metadata": {
        "colab": {
          "base_uri": "https://localhost:8080/",
          "height": 167
        },
        "id": "undefined-pittsburgh",
        "outputId": "95de0e2f-1d41-44ae-e6fa-502a929c41e4"
      },
      "outputs": [
        {
          "output_type": "execute_result",
          "data": {
            "application/vnd.google.colaboratory.intrinsic+json": {
              "type": "string"
            },
            "text/plain": [
              "\"other languages spoken at home by one million people or more include chinese (2.8 million), tagalog (1.6 million), vietnamese (1.4 million), french (1.3 million), korean (1.1 million), and german (1 million). the united states is one of the few countries in the world to do so. the united states has the world's largest christian population. the district of columbia and the five major u.s. territories do not have senators. during the cold war, the united states fought the korean war and the vietnam war but avoided direct military conflict with the soviet union. [231] the states and the district of columbia choose the president of the united states. the spanish–american war and world war i established the u.s. as a world power, a status confirmed by the outcome of world war ii. the district of columbia and the five major u.s. territories each have one member of congress—these members are not allowed to vote. by value, the united states is the world's largest importer and second-largest exporter of goods. [22] with a population of more than 331 million people, it is the third most populous country in the world.\""
            ]
          },
          "metadata": {},
          "execution_count": 119
        }
      ],
      "source": [
        "tfidf_sum_unigram"
      ]
    },
    {
      "cell_type": "code",
      "execution_count": null,
      "id": "e0288cc2-5368-497a-b135-a35303bcfcc8",
      "metadata": {
        "id": "e0288cc2-5368-497a-b135-a35303bcfcc8"
      },
      "outputs": [],
      "source": [
        ""
      ]
    },
    {
      "cell_type": "markdown",
      "id": "f3a9e055-3f6e-40ee-ba76-3a1c61ad5b1a",
      "metadata": {
        "id": "f3a9e055-3f6e-40ee-ba76-3a1c61ad5b1a"
      },
      "source": [
        "## TF-IDF LDA Unigram"
      ]
    },
    {
      "cell_type": "code",
      "execution_count": null,
      "id": "relative-serial",
      "metadata": {
        "colab": {
          "base_uri": "https://localhost:8080/"
        },
        "id": "relative-serial",
        "outputId": "4eadd6f3-a67a-480b-8ea8-aa1753ca7024"
      },
      "outputs": [
        {
          "output_type": "execute_result",
          "data": {
            "text/plain": [
              "(594, 3136)"
            ]
          },
          "metadata": {},
          "execution_count": 120
        }
      ],
      "source": [
        "tfidf_vectorizer = TfidfVectorizer(ngram_range=(1,1))\n",
        "tfidf_vectorizer.fit(pp_article_st)\n",
        "X = tfidf_vectorizer.transform(pp_article_st)\n",
        "X.shape"
      ]
    },
    {
      "cell_type": "code",
      "execution_count": null,
      "id": "7191b624-b665-44c0-8aab-ccae163a02e9",
      "metadata": {
        "colab": {
          "base_uri": "https://localhost:8080/"
        },
        "id": "7191b624-b665-44c0-8aab-ccae163a02e9",
        "outputId": "36b3eb50-da6d-4851-8bd1-08e4002c131f"
      },
      "outputs": [
        {
          "output_type": "execute_result",
          "data": {
            "text/plain": [
              "LatentDirichletAllocation(max_iter=50, random_state=0)"
            ]
          },
          "metadata": {},
          "execution_count": 121
        }
      ],
      "source": [
        "lda_model = LDA(n_components=N_LINE, random_state=0, max_iter = 50)\n",
        "lda_model.fit(X)"
      ]
    },
    {
      "cell_type": "code",
      "execution_count": null,
      "id": "a9336625-76f7-4f45-8ae2-008f063a6f50",
      "metadata": {
        "id": "a9336625-76f7-4f45-8ae2-008f063a6f50"
      },
      "outputs": [],
      "source": [
        ""
      ]
    },
    {
      "cell_type": "code",
      "execution_count": null,
      "id": "c0b50a30-455c-4d0c-aaba-e876e48224e6",
      "metadata": {
        "colab": {
          "base_uri": "https://localhost:8080/"
        },
        "id": "c0b50a30-455c-4d0c-aaba-e876e48224e6",
        "outputId": "9e4bc4a8-59c5-4916-d1dc-b671760a6c86"
      },
      "outputs": [
        {
          "output_type": "execute_result",
          "data": {
            "text/plain": [
              "(594, 10)"
            ]
          },
          "metadata": {},
          "execution_count": 122
        }
      ],
      "source": [
        "document_topic = lda_model.transform(X)\n",
        "document_topic.shape #Document Topic"
      ]
    },
    {
      "cell_type": "code",
      "execution_count": null,
      "id": "76be61b7-1863-4786-825d-5b74a00e1cf8",
      "metadata": {
        "colab": {
          "base_uri": "https://localhost:8080/"
        },
        "id": "76be61b7-1863-4786-825d-5b74a00e1cf8",
        "outputId": "40860b0e-95a5-466f-ca24-452810ff5442"
      },
      "outputs": [
        {
          "output_type": "execute_result",
          "data": {
            "text/plain": [
              "0.9999999999999999"
            ]
          },
          "metadata": {},
          "execution_count": 123
        }
      ],
      "source": [
        "document_topic[0].sum()"
      ]
    },
    {
      "cell_type": "code",
      "execution_count": null,
      "id": "14c70f0d-6e83-4cc7-a451-9a10ea76ac59",
      "metadata": {
        "id": "14c70f0d-6e83-4cc7-a451-9a10ea76ac59"
      },
      "outputs": [],
      "source": [
        ""
      ]
    },
    {
      "cell_type": "code",
      "execution_count": null,
      "id": "b63c0290-083d-4047-a1f8-1cd05da13162",
      "metadata": {
        "colab": {
          "base_uri": "https://localhost:8080/"
        },
        "id": "b63c0290-083d-4047-a1f8-1cd05da13162",
        "outputId": "3347644b-5a88-44ad-8368-3fd0c0c47bfb"
      },
      "outputs": [
        {
          "output_type": "stream",
          "name": "stderr",
          "text": [
            "/usr/local/lib/python3.7/dist-packages/sklearn/utils/deprecation.py:87: FutureWarning: Function get_feature_names is deprecated; get_feature_names is deprecated in 1.0 and will be removed in 1.2. Please use get_feature_names_out instead.\n",
            "  warnings.warn(msg, category=FutureWarning)\n"
          ]
        },
        {
          "output_type": "execute_result",
          "data": {
            "text/plain": [
              "(3136,)"
            ]
          },
          "metadata": {},
          "execution_count": 124
        }
      ],
      "source": [
        "vocab = np.array(tfidf_vectorizer.get_feature_names())\n",
        "vocab.shape"
      ]
    },
    {
      "cell_type": "code",
      "execution_count": null,
      "id": "556e72b2-930c-45ef-8f5c-975393656775",
      "metadata": {
        "colab": {
          "base_uri": "https://localhost:8080/"
        },
        "id": "556e72b2-930c-45ef-8f5c-975393656775",
        "outputId": "89af2ee2-da68-4431-c865-018fb8988d87"
      },
      "outputs": [
        {
          "output_type": "execute_result",
          "data": {
            "text/plain": [
              "(10, 3136)"
            ]
          },
          "metadata": {},
          "execution_count": 125
        }
      ],
      "source": [
        "topic_word = lda_model.components_ # topic - word\n",
        "topic_word.shape"
      ]
    },
    {
      "cell_type": "code",
      "execution_count": null,
      "id": "e3c4d527-05fb-4021-8d29-d9af90539c0a",
      "metadata": {
        "colab": {
          "base_uri": "https://localhost:8080/"
        },
        "id": "e3c4d527-05fb-4021-8d29-d9af90539c0a",
        "outputId": "f444e434-bfbe-426f-99b6-5ba499625724"
      },
      "outputs": [
        {
          "output_type": "execute_result",
          "data": {
            "text/plain": [
              "(3136,)"
            ]
          },
          "metadata": {},
          "execution_count": 126
        }
      ],
      "source": [
        "topic_word[0].shape"
      ]
    },
    {
      "cell_type": "code",
      "execution_count": null,
      "id": "34ab1ae0-decd-49be-a153-86ba3e18c644",
      "metadata": {
        "id": "34ab1ae0-decd-49be-a153-86ba3e18c644"
      },
      "outputs": [],
      "source": [
        ""
      ]
    },
    {
      "cell_type": "code",
      "execution_count": null,
      "id": "50cc66d5-d8fe-45f3-9a39-cf9dde3c9999",
      "metadata": {
        "id": "50cc66d5-d8fe-45f3-9a39-cf9dde3c9999"
      },
      "outputs": [],
      "source": [
        ""
      ]
    },
    {
      "cell_type": "code",
      "execution_count": null,
      "id": "067c81a1-1cb4-42f5-9d1e-e8889493bf2d",
      "metadata": {
        "id": "067c81a1-1cb4-42f5-9d1e-e8889493bf2d"
      },
      "outputs": [],
      "source": [
        "top_features_indices = topic_word[0].argsort()[ : -10 - 1 : -1 ] # get indices by argsort() "
      ]
    },
    {
      "cell_type": "code",
      "execution_count": null,
      "id": "a0ceabfa-074e-4a6c-8654-e11fc688dfbf",
      "metadata": {
        "colab": {
          "base_uri": "https://localhost:8080/"
        },
        "id": "a0ceabfa-074e-4a6c-8654-e11fc688dfbf",
        "outputId": "02531073-11bb-4335-ffbd-d4c658148dc8"
      },
      "outputs": [
        {
          "output_type": "execute_result",
          "data": {
            "text/plain": [
              "(10,)"
            ]
          },
          "metadata": {},
          "execution_count": 128
        }
      ],
      "source": [
        "top_features_indices.shape"
      ]
    },
    {
      "cell_type": "code",
      "execution_count": null,
      "id": "33ec4fee-89a1-441a-ad67-635def602110",
      "metadata": {
        "colab": {
          "base_uri": "https://localhost:8080/"
        },
        "id": "33ec4fee-89a1-441a-ad67-635def602110",
        "outputId": "ad886752-fbff-42d2-e355-87a2c6f480a2"
      },
      "outputs": [
        {
          "output_type": "execute_result",
          "data": {
            "text/plain": [
              "array(['european', 'american', 'state', 'language', 'united', 'war',\n",
              "       'island', 'federal', 'also', 'government'], dtype='<U17')"
            ]
          },
          "metadata": {},
          "execution_count": 129
        }
      ],
      "source": [
        "top_features = vocab[top_features_indices] #alternateively: top_features = [vocab[i] for i in top_features_indices]\n",
        "top_features"
      ]
    },
    {
      "cell_type": "code",
      "execution_count": null,
      "id": "3de8ac35-087d-411d-9b3c-3b29287ac2ec",
      "metadata": {
        "colab": {
          "base_uri": "https://localhost:8080/"
        },
        "id": "3de8ac35-087d-411d-9b3c-3b29287ac2ec",
        "outputId": "4039ddd6-d48f-4069-957d-40a5c4175d51"
      },
      "outputs": [
        {
          "output_type": "execute_result",
          "data": {
            "text/plain": [
              "array([2.00548944, 1.98251322, 1.9660667 , 1.9295343 , 1.76408511,\n",
              "       1.63853085, 1.2762452 , 1.2557261 , 1.20747619, 1.17768905])"
            ]
          },
          "metadata": {},
          "execution_count": 130
        }
      ],
      "source": [
        "weights = topic_word[0][top_features_indices]\n",
        "weights"
      ]
    },
    {
      "cell_type": "code",
      "execution_count": null,
      "id": "bde3cda6-5da0-4fc5-ae62-293c7af40f20",
      "metadata": {
        "id": "bde3cda6-5da0-4fc5-ae62-293c7af40f20"
      },
      "outputs": [],
      "source": [
        ""
      ]
    },
    {
      "cell_type": "code",
      "execution_count": null,
      "id": "ff099b4d-67e1-49b1-a708-cd90f7f1260a",
      "metadata": {
        "id": "ff099b4d-67e1-49b1-a708-cd90f7f1260a"
      },
      "outputs": [],
      "source": [
        ""
      ]
    },
    {
      "cell_type": "code",
      "execution_count": null,
      "id": "199d6b4a-687c-4fa4-b120-4a46838e1895",
      "metadata": {
        "id": "199d6b4a-687c-4fa4-b120-4a46838e1895"
      },
      "outputs": [],
      "source": [
        ""
      ]
    },
    {
      "cell_type": "code",
      "execution_count": null,
      "id": "0d83b581-3195-4da2-a74a-b2be29c6c540",
      "metadata": {
        "id": "0d83b581-3195-4da2-a74a-b2be29c6c540"
      },
      "outputs": [],
      "source": [
        "## Generate Feaure Matrixes and Summaries For BI-GRAM (2-GRAM) Occurence"
      ]
    },
    {
      "cell_type": "code",
      "execution_count": null,
      "id": "d8ae39cd-0672-4454-8dd4-a8026c303a01",
      "metadata": {
        "id": "d8ae39cd-0672-4454-8dd4-a8026c303a01"
      },
      "outputs": [],
      "source": [
        ""
      ]
    },
    {
      "cell_type": "code",
      "execution_count": null,
      "id": "4ad70d0f-f698-49e6-a1af-9ab4654cd806",
      "metadata": {
        "id": "4ad70d0f-f698-49e6-a1af-9ab4654cd806"
      },
      "outputs": [],
      "source": [
        ""
      ]
    },
    {
      "cell_type": "markdown",
      "source": [
        "## Function to Generate BOW + LSA Summary"
      ],
      "metadata": {
        "id": "XWYUPCnpkHGV"
      },
      "id": "XWYUPCnpkHGV"
    },
    {
      "cell_type": "code",
      "source": [
        "def generate_bow_summary(raw_sent_tokens, pp_sent_tokens, summary_size = 10, ngram_tuple=(1,1)):\n",
        "  count_vectorizer = CountVectorizer(ngram_range=ngram_tuple)\n",
        "  feature_vector = count_vectorizer.fit_transform(pp_sent_tokens)\n",
        "  U, SIGMA, VT = randomized_svd(feature_vector, n_components = summary_size, n_iter = 100, random_state =100)\n",
        "  sentence_scores = np.sqrt(np.dot(U**2, SIGMA**2))\n",
        "  top_scores_index = np.argsort(sentence_scores)[::-1]\n",
        "  top_scores_index = top_scores_index[0:summary_size]\n",
        "  article_array = np.array(raw_sent_tokens)\n",
        "  bow_sum = list(article_array[top_scores_index])\n",
        "  bow_sum_str = \" \".join(bow_sum)\n",
        "  return bow_sum_str"
      ],
      "metadata": {
        "id": "aHj0vfUikSNt"
      },
      "id": "aHj0vfUikSNt",
      "execution_count": 39,
      "outputs": []
    },
    {
      "cell_type": "code",
      "source": [
        ""
      ],
      "metadata": {
        "id": "9tIrdWy7n0BG"
      },
      "id": "9tIrdWy7n0BG",
      "execution_count": 17,
      "outputs": []
    },
    {
      "cell_type": "markdown",
      "source": [
        "## Function to Generate TF-IDF + LSA Summary"
      ],
      "metadata": {
        "id": "MUy0nBjg70BD"
      },
      "id": "MUy0nBjg70BD"
    },
    {
      "cell_type": "code",
      "source": [
        "def generate_tfidf_summary(raw_sent_tokens, pp_sent_tokens, summary_size = 10, ngram_tuple=(1,1)):\n",
        "  tfidf_vectorizer = TfidfVectorizer(ngram_range=ngram_tuple)\n",
        "  feature_vector = tfidf_vectorizer.fit_transform(pp_sent_tokens)\n",
        "  U, SIGMA, VT = randomized_svd(feature_vector, n_components = summary_size, n_iter = 100, random_state =100)\n",
        "  sentence_scores = np.sqrt(np.dot(U**2, SIGMA**2))\n",
        "  top_scores_index = np.argsort(sentence_scores)[::-1]\n",
        "  top_scores_index = top_scores_index[0:summary_size]\n",
        "  article_array = np.array(raw_sent_tokens)\n",
        "  tfidf_sum = list(article_array[top_scores_index])\n",
        "  tfidf_sum_str = \" \".join(tfidf_sum)\n",
        "  return tfidf_sum_str"
      ],
      "metadata": {
        "id": "m4Yhddbj736R"
      },
      "id": "m4Yhddbj736R",
      "execution_count": 43,
      "outputs": []
    },
    {
      "cell_type": "code",
      "source": [
        ""
      ],
      "metadata": {
        "id": "HYUNOZpNoCDI"
      },
      "id": "HYUNOZpNoCDI",
      "execution_count": 43,
      "outputs": []
    },
    {
      "cell_type": "markdown",
      "source": [
        "## Number of Lines in Summary"
      ],
      "metadata": {
        "id": "lLD8hlgGAF51"
      },
      "id": "lLD8hlgGAF51"
    },
    {
      "cell_type": "code",
      "source": [
        "N_LINE = 10"
      ],
      "metadata": {
        "id": "qo-M603LAJu-"
      },
      "id": "qo-M603LAJu-",
      "execution_count": 53,
      "outputs": []
    },
    {
      "cell_type": "markdown",
      "source": [
        "## Generate Feaure Matrixes and Summaries For Uni-GRAM (1-GRAM) Occurence"
      ],
      "metadata": {
        "id": "HyPNREDfAex_"
      },
      "id": "HyPNREDfAex_"
    },
    {
      "cell_type": "markdown",
      "source": [
        "### LSA"
      ],
      "metadata": {
        "id": "0RsBeGzuIwiX"
      },
      "id": "0RsBeGzuIwiX"
    },
    {
      "cell_type": "markdown",
      "source": [
        "#### BOW"
      ],
      "metadata": {
        "id": "skT5-BbmAm-F"
      },
      "id": "skT5-BbmAm-F"
    },
    {
      "cell_type": "code",
      "source": [
        "bow_1gram_summary = generate_bow_summary(article_st, pp_article_st, N_LINE, (1,1))\n",
        "bow_1gram_summary"
      ],
      "metadata": {
        "id": "6joP68juAqFJ",
        "outputId": "d88c55a8-b580-4ef8-8d1e-e3967804d475",
        "colab": {
          "base_uri": "https://localhost:8080/",
          "height": 167
        }
      },
      "id": "6joP68juAqFJ",
      "execution_count": 74,
      "outputs": [
        {
          "output_type": "execute_result",
          "data": {
            "application/vnd.google.colaboratory.intrinsic+json": {
              "type": "string"
            },
            "text/plain": [
              "'\\n\\ncoordinates: .mw-parser-output .geo-default,.mw-parser-output .geo-dms,.mw-parser-output .geo-dec{display:inline}.mw-parser-output .geo-nondefault,.mw-parser-output .geo-multi-punct{display:none}.mw-parser-output .longitude,.mw-parser-output .latitude{white-space:nowrap}40°n 100°w\\ufeff / \\ufeff40°n 100°w\\ufeff / 40; -100\\nthe united states of america (u.s.a. or usa), commonly known as the united states (u.s. or us) or america, is a country primarily located in north america. [421]\\nthe centers for disease control and prevention (cdc) reported that the united states had an average life expectancy at birth of 77.3 years in 2020 (74.5 years for men and 80.2 years for women), down 1.5 years from 2019. according to provisional figures, this was the lowest average u.s. life expectancy recorded by the cdc since 2003, the first overall decline since 2018, and \"the largest one-year decline since world war ii.\" other languages spoken at home by one million people or more include chinese (2.8 million), tagalog (1.6 million), vietnamese (1.4 million), french (1.3 million), korean (1.1 million), and german (1 million). [533] in soccer (a sport that has gained a footing in the united states since the mid-1990s), the country hosted the 1994 fifa world cup, the men\\'s national soccer team qualified for ten world cups and the women\\'s team has won the fifa women\\'s world cup four times; major league soccer is the sport\\'s highest league in the united states (featuring 23 american and three canadian teams). since the general election of 1856, the major parties have been the democratic party, founded in 1824, and the republican party, founded in 1854. since the civil war, only one third-party presidential candidate—former president theodore roosevelt, running as a progressive in 1912—has won as much as 20% of the popular vote, though the self-financed reform party campaign of ross perot took 18.9% in 1992. after imperial japan attacked pearl harbor in 1941 during world war ii, the united states joined the conflict on the side of the allies, with the aftermath leaving the united states and the soviet union as the world\\'s superpowers in an era that became known as the cold war. [391]\\nin 2017, out of the u.s. foreign-born population, some 45% (20.7 million) were naturalized citizens, 27% (12.3 million) were lawful permanent residents, 6% (2.2 million) were temporary lawful residents, and 23% (10.5 million) were unauthorized immigrants. [427][428]\\nincreasing obesity in the united states and improvements in health and longevity outside the u.s. contributed to lowering the country\\'s rank in life expectancy from 11th in the world in 1987 to 42nd in 2007. in 2017, the united states had the lowest life expectancy among japan, canada, australia, the united kingdom, and seven nations in western europe. [303]\\nalthough most nations have abolished capital punishment,[304] it is sanctioned in the united states for certain federal and military crimes, and at the state level in 28 states, though three states have moratoriums on carrying out the penalty imposed by their governors. [112][113][114]\\nthe united states remained neutral from the outbreak of world war i in 1914 until 1917 when it joined the war as an \"associated power\" alongside the allies of world war i, helping to turn the tide against the central powers.'"
            ]
          },
          "metadata": {},
          "execution_count": 74
        }
      ]
    },
    {
      "cell_type": "code",
      "source": [
        ""
      ],
      "metadata": {
        "id": "ujazFoO1oLrc"
      },
      "id": "ujazFoO1oLrc",
      "execution_count": 74,
      "outputs": []
    },
    {
      "cell_type": "markdown",
      "source": [
        "#### TF-IDF"
      ],
      "metadata": {
        "id": "0phuAYNGAsOn"
      },
      "id": "0phuAYNGAsOn"
    },
    {
      "cell_type": "code",
      "source": [
        "tfidf_1gram_summary = generate_tfidf_summary(article_st, pp_article_st, N_LINE, (1,1))\n",
        "tfidf_1gram_summary"
      ],
      "metadata": {
        "colab": {
          "base_uri": "https://localhost:8080/",
          "height": 167
        },
        "id": "8UE2EK0MAu1q",
        "outputId": "164aa17b-9667-4cb5-c808-d815b003262a"
      },
      "id": "8UE2EK0MAu1q",
      "execution_count": 75,
      "outputs": [
        {
          "output_type": "execute_result",
          "data": {
            "application/vnd.google.colaboratory.intrinsic+json": {
              "type": "string"
            },
            "text/plain": [
              "\"other languages spoken at home by one million people or more include chinese (2.8 million), tagalog (1.6 million), vietnamese (1.4 million), french (1.3 million), korean (1.1 million), and german (1 million). the united states is one of the few countries in the world to do so. the united states has the world's largest christian population. the spanish–american war and world war i established the u.s. as a world power. the district of columbia and the five major u.s. territories do not have senators. [231] the states and the district of columbia choose the president of the united states. the district of columbia and the five major u.s. territories each have one member of congress—these members are not allowed to vote. by value, the united states is the world's largest importer and second-largest exporter of goods. [22] with a population of more than 331 million people, it is the third most populous country in the world. [213]\\nthe united states is a federal republic of 50 states, a federal district, five territories and several uninhabited island possessions.\""
            ]
          },
          "metadata": {},
          "execution_count": 75
        }
      ]
    },
    {
      "cell_type": "code",
      "source": [
        ""
      ],
      "metadata": {
        "id": "5__tdu8FD5so"
      },
      "id": "5__tdu8FD5so",
      "execution_count": null,
      "outputs": []
    },
    {
      "cell_type": "markdown",
      "source": [
        "#### Word-Embeddings"
      ],
      "metadata": {
        "id": "FsCnwT48BoWq"
      },
      "id": "FsCnwT48BoWq"
    },
    {
      "cell_type": "code",
      "source": [
        "w2v_model = Word2Vec(sentences=pp_article_st_wt,\n",
        "                    min_count = 5, \n",
        "                    window = 5,\n",
        "                    vector_size=10,\n",
        "                    sample=6e-5,\n",
        "                    alpha=0.001,\n",
        "                    min_alpha = 0.0007,\n",
        "                    negative=20,\n",
        "                    workers=num_cores-2)\n",
        "\n",
        "words = list(w2v_model.wv.index_to_key)\n",
        "word_emb_list = sorted(words)\n",
        "\n",
        "document_term_emb = np.zeros(shape=(len(pp_article_st_wt), len(word_emb_list)))\n",
        "dte_df = pd.DataFrame(document_term_emb)\n",
        "dte_df.columns = word_emb_list\n",
        "for i in range(len(pp_article_st)):\n",
        "  freq_map = Counter(pp_article_st[i])\n",
        "  for word in word_emb_list:\n",
        "    if freq_map[word] > 0:\n",
        "      dte_df[word].iloc[i] += np.median(w2v_model.wv[word])\n",
        "      freq_map[word] -= 1\n",
        "      \n",
        "X = dte_df.to_numpy()\n",
        "U, SIGMA, VT = randomized_svd(X,n_components=N_LINE,n_iter=100,random_state=100) #perform Latent Semantic Analysis (LSA)\n",
        "scores = np.sqrt(np.dot(U**2,SIGMA**2)) #generate scores for all sentences\n",
        "top_scores_index = np.argsort(scores) #get index of highest scores\n",
        "top_scores_index = top_scores_index[::-1] #sort the indexes in descending order\n",
        "top_scores_index = top_scores_index[0:N_LINE] #get top N Scores index\n",
        "article_array = np.array(article_st) #convert list to array for indexing purpose\n",
        "wemb_sum_unigram = article_array[top_scores_index] #get top N scoring sentences\n",
        "wemb_sum_unigram = list(wemb_sum_unigram) #convert array back to list\n",
        "print(f\"Number of Lines in Summary: {len(wemb_sum_unigram)} \\n\")\n",
        "wemb_sum_unigram = (\" \").join(wemb_sum_unigram) #convert list to single string\n",
        "wemb_sum_unigram      "
      ],
      "metadata": {
        "id": "dwtarAbNBrJm",
        "outputId": "bfa1a2f2-8fc6-4be2-fd29-a5bf43bf9a4d",
        "colab": {
          "base_uri": "https://localhost:8080/",
          "height": 205
        }
      },
      "id": "dwtarAbNBrJm",
      "execution_count": null,
      "outputs": [
        {
          "output_type": "stream",
          "name": "stdout",
          "text": [
            "Number of Lines in Summary: 10 \n",
            "\n"
          ]
        },
        {
          "output_type": "execute_result",
          "data": {
            "application/vnd.google.colaboratory.intrinsic+json": {
              "type": "string"
            },
            "text/plain": [
              "'[288] defense\\'s share of the overall u.s. economy has generally declined in recent decades, from early cold war peaks of 14.2% of gdp in 1953 and 69.5% of federal spending in 1954 to 4.7% of gdp and 18.8% of federal spending in 2011. [360][361][362][363][364][365][366] in 2011, 16.7 million children lived in food-insecure households, about 35% more than 2007 levels, though only 845,000 u.s. children (1.1%) saw reduced food intake or disrupted eating patterns at some point during the year, and most cases were not chronic. of this area, 2,959,064 square miles (7,663,940\\xa0km2) is contiguous land, composing 83.65% of total u.s. land area. [415] in a 2014 survey, 70.6% of adults in the united states identified themselves as christians;[416] protestants accounted for 46.5%, while catholics, at 20.8%, formed the largest single christian denomination. after a surge in female labor participation, especially in the 1970s, by 1985, the majority of women aged 16 and over were employed. [540]\\nin 1998, the number of u.s. commercial radio stations had grown to 4,793 am stations and 5,662 fm stations. [451]\\nof americans 25 and older, 84.6% graduated from high school, 52.6% attended some college, 27.2% earned a bachelor\\'s degree, and 9.6% earned graduate degrees. since the general election of 1856, the major parties have been the democratic party, founded in 1824, and the republican party, founded in 1854. since the civil war, only one third-party presidential candidate—former president theodore roosevelt, running as a progressive in 1912—has won as much as 20% of the popular vote, though the self-financed reform party campaign of ross perot took 18.9% in 1992. [480] a work seen as capturing fundamental aspects of the national experience and character—such as herman melville\\'s moby-dick (1851), twain\\'s the adventures of huckleberry finn (1885), f. scott fitzgerald\\'s the great gatsby (1925) and harper lee\\'s to kill a mockingbird (1960)—may be dubbed the \"great american novel. [86] the 1803 louisiana purchase almost doubled the nation\\'s area,[87] spain ceded florida and other gulf coast territory in 1819,[88] the republic of texas was annexed in 1845 during a period of expansionism,[89] and the 1846 oregon treaty with britain led to u.s. control of the present-day american northwest.'"
            ]
          },
          "metadata": {},
          "execution_count": 210
        }
      ]
    },
    {
      "cell_type": "code",
      "source": [
        ""
      ],
      "metadata": {
        "id": "pJvPkLVZCxk7"
      },
      "id": "pJvPkLVZCxk7",
      "execution_count": null,
      "outputs": []
    },
    {
      "cell_type": "code",
      "source": [
        ""
      ],
      "metadata": {
        "id": "D2gQc38aBrsM"
      },
      "id": "D2gQc38aBrsM",
      "execution_count": null,
      "outputs": []
    },
    {
      "cell_type": "markdown",
      "source": [
        "### LDA"
      ],
      "metadata": {
        "id": "hmBel7pdJMIm"
      },
      "id": "hmBel7pdJMIm"
    },
    {
      "cell_type": "code",
      "source": [
        ""
      ],
      "metadata": {
        "id": "Yn7-wB5lJNtH"
      },
      "id": "Yn7-wB5lJNtH",
      "execution_count": null,
      "outputs": []
    },
    {
      "cell_type": "markdown",
      "id": "presidential-might",
      "metadata": {
        "id": "presidential-might"
      },
      "source": [
        "## Generate Feaure Matrixes and Summaries For BI-GRAM (2-GRAM) Occurence"
      ]
    },
    {
      "cell_type": "markdown",
      "source": [
        "### LSA"
      ],
      "metadata": {
        "id": "VVfqLgD5I7fI"
      },
      "id": "VVfqLgD5I7fI"
    },
    {
      "cell_type": "markdown",
      "id": "gorgeous-handy",
      "metadata": {
        "id": "gorgeous-handy"
      },
      "source": [
        "#### BOW"
      ]
    },
    {
      "cell_type": "code",
      "execution_count": 73,
      "id": "logical-lincoln",
      "metadata": {
        "colab": {
          "base_uri": "https://localhost:8080/",
          "height": 167
        },
        "id": "logical-lincoln",
        "outputId": "40f0dba9-07eb-443b-8a92-ac781b050902"
      },
      "outputs": [
        {
          "output_type": "execute_result",
          "data": {
            "application/vnd.google.colaboratory.intrinsic+json": {
              "type": "string"
            },
            "text/plain": [
              "'\\n\\ncoordinates: .mw-parser-output .geo-default,.mw-parser-output .geo-dms,.mw-parser-output .geo-dec{display:inline}.mw-parser-output .geo-nondefault,.mw-parser-output .geo-multi-punct{display:none}.mw-parser-output .longitude,.mw-parser-output .latitude{white-space:nowrap}40°n 100°w\\ufeff / \\ufeff40°n 100°w\\ufeff / 40; -100\\nthe united states of america (u.s.a. or usa), commonly known as the united states (u.s. or us) or america, is a country primarily located in north america. [533] in soccer (a sport that has gained a footing in the united states since the mid-1990s), the country hosted the 1994 fifa world cup, the men\\'s national soccer team qualified for ten world cups and the women\\'s team has won the fifa women\\'s world cup four times; major league soccer is the sport\\'s highest league in the united states (featuring 23 american and three canadian teams). [421]\\nthe centers for disease control and prevention (cdc) reported that the united states had an average life expectancy at birth of 77.3 years in 2020 (74.5 years for men and 80.2 years for women), down 1.5 years from 2019. according to provisional figures, this was the lowest average u.s. life expectancy recorded by the cdc since 2003, the first overall decline since 2018, and \"the largest one-year decline since world war ii.\" notable films topping the american film institute\\'s afi 100 list include orson welles\\'s citizen kane (1941), which is frequently cited as the greatest film of all time,[520][521] casablanca (1942), the godfather (1972), gone with the wind (1939), lawrence of arabia (1962), the wizard of oz (1939), the graduate (1967), on the waterfront (1954), schindler\\'s list (1993), singin\\' in the rain (1952), it\\'s a wonderful life (1946) and sunset boulevard (1950). since the general election of 1856, the major parties have been the democratic party, founded in 1824, and the republican party, founded in 1854. since the civil war, only one third-party presidential candidate—former president theodore roosevelt, running as a progressive in 1912—has won as much as 20% of the popular vote, though the self-financed reform party campaign of ross perot took 18.9% in 1992. [278] today, american forces can be rapidly deployed by the air force\\'s large fleet of transport aircraft, the navy\\'s 11 active aircraft carriers, and marine expeditionary units at sea with the navy, and army\\'s xviii airborne corps and 75th ranger regiment deployed by air force transport aircraft. [169] barack obama, the first multiracial[170] president, with african-american ancestry was elected in 2008 amid the crisis,[171] and subsequently passed american recovery and reinvestment act of 2009 economic stimulus and the dodd–frank wall street reform and consumer protection act in an attempt to mitigate its negative effects and ensure there would not be a repeat of the crisis. [402] three states and four u.s. territories have recognized local or indigenous languages in addition to english, including hawaii (hawaiian),[403] alaska (twenty native languages),[j][404] south dakota (sioux),[405] american samoa (samoan), puerto rico (spanish), guam (chamorro), and the northern mariana islands (carolinian and chamorro). after imperial japan attacked pearl harbor in 1941 during world war ii, the united states joined the conflict on the side of the allies, with the aftermath leaving the united states and the soviet union as the world\\'s superpowers in an era that became known as the cold war. [427][428]\\nincreasing obesity in the united states and improvements in health and longevity outside the u.s. contributed to lowering the country\\'s rank in life expectancy from 11th in the world in 1987 to 42nd in 2007. in 2017, the united states had the lowest life expectancy among japan, canada, australia, the united kingdom, and seven nations in western europe.'"
            ]
          },
          "metadata": {},
          "execution_count": 73
        }
      ],
      "source": [
        "bow_2gram_summary = generate_bow_summary(article_st, pp_article_st, N_LINE, (2,2))\n",
        "bow_2gram_summary"
      ]
    },
    {
      "cell_type": "markdown",
      "id": "operational-request",
      "metadata": {
        "id": "operational-request"
      },
      "source": [
        "#### TF-IDF"
      ]
    },
    {
      "cell_type": "code",
      "execution_count": 72,
      "id": "downtown-earth",
      "metadata": {
        "colab": {
          "base_uri": "https://localhost:8080/",
          "height": 167
        },
        "id": "downtown-earth",
        "outputId": "1ef1a57f-5c15-4d09-8ed7-44cc1e3a8c2d"
      },
      "outputs": [
        {
          "output_type": "execute_result",
          "data": {
            "application/vnd.google.colaboratory.intrinsic+json": {
              "type": "string"
            },
            "text/plain": [
              "\"it is a permanent member of the united nations security council, and new york city is home to the united nations headquarters. it is a permanent member of the united nations security council. the district of columbia and the five major u.s. territories do not have senators. the united states is one of the few countries in the world to do so. by value, the united states is the world's largest importer and second-largest exporter of goods. the district of columbia and the five major u.s. territories each have one member of congress—these members are not allowed to vote. [132][133]\\nafter world war ii, the united states and the soviet union competed for power, influence, and prestige during what became known as the cold war, driven by an ideological divide between capitalism and communism. after imperial japan attacked pearl harbor in 1941 during world war ii, the united states joined the conflict on the side of the allies, with the aftermath leaving the united states and the soviet union as the world's superpowers in an era that became known as the cold war. the united states has the world's largest christian population. the national capital is washington, d.c., and the most populous city is new york city.\""
            ]
          },
          "metadata": {},
          "execution_count": 72
        }
      ],
      "source": [
        "tfidf_2gram_summary = generate_tfidf_summary(article_st, pp_article_st, N_LINE, (2,2))\n",
        "tfidf_2gram_summary"
      ]
    },
    {
      "cell_type": "code",
      "execution_count": null,
      "id": "allied-creator",
      "metadata": {
        "id": "allied-creator"
      },
      "outputs": [],
      "source": [
        ""
      ]
    },
    {
      "cell_type": "markdown",
      "source": [
        "#### Word-Embeddings"
      ],
      "metadata": {
        "id": "S5OjqFi0b99j"
      },
      "id": "S5OjqFi0b99j"
    },
    {
      "cell_type": "code",
      "source": [
        "bigram_transformer = Phrases(pp_article_st_wt)"
      ],
      "metadata": {
        "id": "mT-ANioTK7TS"
      },
      "id": "mT-ANioTK7TS",
      "execution_count": null,
      "outputs": []
    },
    {
      "cell_type": "code",
      "source": [
        "pp_article_st[1]"
      ],
      "metadata": {
        "id": "YlLks3n_LL-R",
        "outputId": "8736b75c-ed1e-48b4-b282-d1cdca23626d",
        "colab": {
          "base_uri": "https://localhost:8080/",
          "height": 36
        }
      },
      "id": "YlLks3n_LL-R",
      "execution_count": null,
      "outputs": [
        {
          "output_type": "execute_result",
          "data": {
            "application/vnd.google.colaboratory.intrinsic+json": {
              "type": "string"
            },
            "text/plain": [
              "'consists 50 state federal district five major unincorporated territory 326 indian reservation minor possession'"
            ]
          },
          "metadata": {},
          "execution_count": 221
        }
      ]
    },
    {
      "cell_type": "code",
      "source": [
        "bigram_transformer[[pp_article_st[1]]]"
      ],
      "metadata": {
        "id": "wp0flNaEK76E",
        "outputId": "477dd34e-d792-4384-f721-df04d13593c4",
        "colab": {
          "base_uri": "https://localhost:8080/"
        }
      },
      "id": "wp0flNaEK76E",
      "execution_count": null,
      "outputs": [
        {
          "output_type": "execute_result",
          "data": {
            "text/plain": [
              "['consists 50 state federal district five major unincorporated territory 326 indian reservation minor possession']"
            ]
          },
          "metadata": {},
          "execution_count": 227
        }
      ]
    },
    {
      "cell_type": "code",
      "source": [
        ""
      ],
      "metadata": {
        "id": "q6vPqI7vLAjH"
      },
      "id": "q6vPqI7vLAjH",
      "execution_count": null,
      "outputs": []
    },
    {
      "cell_type": "code",
      "source": [
        "\n",
        "\n",
        "w2v_model = Word2Vec(sentences=pp_article_st_wt,\n",
        "                    min_count = 5, \n",
        "                    window = 5,\n",
        "                    vector_size=10,\n",
        "                    sample=6e-5,\n",
        "                    alpha=0.001,\n",
        "                    min_alpha = 0.0007,\n",
        "                    negative=20,\n",
        "                    workers=num_cores-2)\n",
        "\n",
        "words = list(w2v_model.wv.index_to_key)\n",
        "word_emb_list = sorted(words)\n",
        "\n",
        "document_term_emb = np.zeros(shape=(len(pp_article_st_wt), len(word_emb_list)))\n",
        "dte_df = pd.DataFrame(document_term_emb)\n",
        "dte_df.columns = word_emb_list\n",
        "for i in range(len(pp_article_st)):\n",
        "  freq_map = Counter(pp_article_st[i])\n",
        "  for word in word_emb_list:\n",
        "    if freq_map[word] > 0:\n",
        "      dte_df[word].iloc[i] += np.median(w2v_model.wv[word])\n",
        "      freq_map[word] -= 1\n",
        "      \n",
        "X = dte_df.to_numpy()\n",
        "U, SIGMA, VT = randomized_svd(X,n_components=N_LINE,n_iter=100,random_state=100) #perform Latent Semantic Analysis (LSA)\n",
        "scores = np.sqrt(np.dot(U**2,SIGMA**2)) #generate scores for all sentences\n",
        "top_scores_index = np.argsort(scores) #get index of highest scores\n",
        "top_scores_index = top_scores_index[::-1] #sort the indexes in descending order\n",
        "top_scores_index = top_scores_index[0:N_LINE] #get top N Scores index\n",
        "article_array = np.array(article_st) #convert list to array for indexing purpose\n",
        "wemb_sum_bigram = article_array[top_scores_index] #get top N scoring sentences\n",
        "wemb_sum_bigram = list(wemb_sum_bigram) #convert array back to list\n",
        "print(f\"Number of Lines in Summary: {len(wemb_sum_bigram)} \\n\")\n",
        "wemb_sum_bigram = (\" \").join(wemb_sum_bigram) #convert list to single string\n",
        "wemb_sum_bigram      "
      ],
      "metadata": {
        "id": "ddH_xaXEb_-A",
        "outputId": "b6ceb492-1e13-4b7c-a2ce-c693cc368fab",
        "colab": {
          "base_uri": "https://localhost:8080/",
          "height": 393
        }
      },
      "id": "ddH_xaXEb_-A",
      "execution_count": null,
      "outputs": [
        {
          "output_type": "stream",
          "name": "stdout",
          "text": [
            "Number of Lines in Summary: 10 \n",
            "\n"
          ]
        },
        {
          "output_type": "execute_result",
          "data": {
            "application/vnd.google.colaboratory.intrinsic+json": {
              "type": "string"
            },
            "text/plain": [
              "'[288] defense\\'s share of the overall u.s. economy has generally declined in recent decades, from early cold war peaks of 14.2% of gdp in 1953 and 69.5% of federal spending in 1954 to 4.7% of gdp and 18.8% of federal spending in 2011. [360][361][362][363][364][365][366] in 2011, 16.7 million children lived in food-insecure households, about 35% more than 2007 levels, though only 845,000 u.s. children (1.1%) saw reduced food intake or disrupted eating patterns at some point during the year, and most cases were not chronic. of this area, 2,959,064 square miles (7,663,940\\xa0km2) is contiguous land, composing 83.65% of total u.s. land area. [415] in a 2014 survey, 70.6% of adults in the united states identified themselves as christians;[416] protestants accounted for 46.5%, while catholics, at 20.8%, formed the largest single christian denomination. after a surge in female labor participation, especially in the 1970s, by 1985, the majority of women aged 16 and over were employed. [540]\\nin 1998, the number of u.s. commercial radio stations had grown to 4,793 am stations and 5,662 fm stations. [451]\\nof americans 25 and older, 84.6% graduated from high school, 52.6% attended some college, 27.2% earned a bachelor\\'s degree, and 9.6% earned graduate degrees. since the general election of 1856, the major parties have been the democratic party, founded in 1824, and the republican party, founded in 1854. since the civil war, only one third-party presidential candidate—former president theodore roosevelt, running as a progressive in 1912—has won as much as 20% of the popular vote, though the self-financed reform party campaign of ross perot took 18.9% in 1992. [480] a work seen as capturing fundamental aspects of the national experience and character—such as herman melville\\'s moby-dick (1851), twain\\'s the adventures of huckleberry finn (1885), f. scott fitzgerald\\'s the great gatsby (1925) and harper lee\\'s to kill a mockingbird (1960)—may be dubbed the \"great american novel. [86] the 1803 louisiana purchase almost doubled the nation\\'s area,[87] spain ceded florida and other gulf coast territory in 1819,[88] the republic of texas was annexed in 1845 during a period of expansionism,[89] and the 1846 oregon treaty with britain led to u.s. control of the present-day american northwest.'"
            ]
          },
          "metadata": {},
          "execution_count": 209
        }
      ]
    },
    {
      "cell_type": "code",
      "source": [
        ""
      ],
      "metadata": {
        "id": "GIciQeiVJ8yy"
      },
      "id": "GIciQeiVJ8yy",
      "execution_count": null,
      "outputs": []
    },
    {
      "cell_type": "code",
      "source": [
        ""
      ],
      "metadata": {
        "id": "pCcpN_mLcAc6"
      },
      "id": "pCcpN_mLcAc6",
      "execution_count": null,
      "outputs": []
    },
    {
      "cell_type": "markdown",
      "id": "changed-exhaust",
      "metadata": {
        "id": "changed-exhaust"
      },
      "source": [
        "## Generate Feaure Matrixes and Summaries For Tri-GRAM (3-GRAM) Occurence"
      ]
    },
    {
      "cell_type": "markdown",
      "source": [
        "### LSA"
      ],
      "metadata": {
        "id": "AKVlrqWS_Ml2"
      },
      "id": "AKVlrqWS_Ml2"
    },
    {
      "cell_type": "markdown",
      "source": [
        "#### BOW"
      ],
      "metadata": {
        "id": "d4RLFIyb_Ho8"
      },
      "id": "d4RLFIyb_Ho8"
    },
    {
      "cell_type": "code",
      "execution_count": 71,
      "id": "organizational-conducting",
      "metadata": {
        "colab": {
          "base_uri": "https://localhost:8080/",
          "height": 167
        },
        "id": "organizational-conducting",
        "outputId": "5452e3b2-a936-47c2-f710-2ac2710b2894"
      },
      "outputs": [
        {
          "output_type": "execute_result",
          "data": {
            "application/vnd.google.colaboratory.intrinsic+json": {
              "type": "string"
            },
            "text/plain": [
              "'\\n\\ncoordinates: .mw-parser-output .geo-default,.mw-parser-output .geo-dms,.mw-parser-output .geo-dec{display:inline}.mw-parser-output .geo-nondefault,.mw-parser-output .geo-multi-punct{display:none}.mw-parser-output .longitude,.mw-parser-output .latitude{white-space:nowrap}40°n 100°w\\ufeff / \\ufeff40°n 100°w\\ufeff / 40; -100\\nthe united states of america (u.s.a. or usa), commonly known as the united states (u.s. or us) or america, is a country primarily located in north america. notable films topping the american film institute\\'s afi 100 list include orson welles\\'s citizen kane (1941), which is frequently cited as the greatest film of all time,[520][521] casablanca (1942), the godfather (1972), gone with the wind (1939), lawrence of arabia (1962), the wizard of oz (1939), the graduate (1967), on the waterfront (1954), schindler\\'s list (1993), singin\\' in the rain (1952), it\\'s a wonderful life (1946) and sunset boulevard (1950). [421]\\nthe centers for disease control and prevention (cdc) reported that the united states had an average life expectancy at birth of 77.3 years in 2020 (74.5 years for men and 80.2 years for women), down 1.5 years from 2019. according to provisional figures, this was the lowest average u.s. life expectancy recorded by the cdc since 2003, the first overall decline since 2018, and \"the largest one-year decline since world war ii.\" [533] in soccer (a sport that has gained a footing in the united states since the mid-1990s), the country hosted the 1994 fifa world cup, the men\\'s national soccer team qualified for ten world cups and the women\\'s team has won the fifa women\\'s world cup four times; major league soccer is the sport\\'s highest league in the united states (featuring 23 american and three canadian teams). since the general election of 1856, the major parties have been the democratic party, founded in 1824, and the republican party, founded in 1854. since the civil war, only one third-party presidential candidate—former president theodore roosevelt, running as a progressive in 1912—has won as much as 20% of the popular vote, though the self-financed reform party campaign of ross perot took 18.9% in 1992. [164]\\ngovernment policy designed to promote affordable housing,[165] widespread failures in corporate and regulatory governance,[166] and historically low interest rates set by the federal reserve[167] led to the united states housing bubble in 2006, which culminated with the financial crisis of 2007–2008 and the great recession, the nation\\'s largest economic contraction since the great depression. [169] barack obama, the first multiracial[170] president, with african-american ancestry was elected in 2008 amid the crisis,[171] and subsequently passed american recovery and reinvestment act of 2009 economic stimulus and the dodd–frank wall street reform and consumer protection act in an attempt to mitigate its negative effects and ensure there would not be a repeat of the crisis. [296] the department of justice said that the imprisonment rate for all prisoners sentenced to more than a year in state or federal facilities in 2019 stood at 419 per 100,000 residents which was at its lowest point since 1995 and that the total prison population for the same year stood at 1,430,800 which represented an 11% decrease in the population size from a decade earlier. [278] today, american forces can be rapidly deployed by the air force\\'s large fleet of transport aircraft, the navy\\'s 11 active aircraft carriers, and marine expeditionary units at sea with the navy, and army\\'s xviii airborne corps and 75th ranger regiment deployed by air force transport aircraft. [427][428]\\nincreasing obesity in the united states and improvements in health and longevity outside the u.s. contributed to lowering the country\\'s rank in life expectancy from 11th in the world in 1987 to 42nd in 2007. in 2017, the united states had the lowest life expectancy among japan, canada, australia, the united kingdom, and seven nations in western europe.'"
            ]
          },
          "metadata": {},
          "execution_count": 71
        }
      ],
      "source": [
        "bow_3gram_summary = generate_bow_summary(article_st, pp_article_st, N_LINE, (3,3))\n",
        "bow_3gram_summary"
      ]
    },
    {
      "cell_type": "markdown",
      "id": "drawn-ethnic",
      "metadata": {
        "id": "drawn-ethnic"
      },
      "source": [
        "#### TF-IDF"
      ]
    },
    {
      "cell_type": "code",
      "execution_count": 70,
      "id": "academic-mother",
      "metadata": {
        "id": "academic-mother",
        "outputId": "5a93528e-4f1a-4063-cac8-75a77cd237d8",
        "colab": {
          "base_uri": "https://localhost:8080/",
          "height": 167
        }
      },
      "outputs": [
        {
          "output_type": "execute_result",
          "data": {
            "application/vnd.google.colaboratory.intrinsic+json": {
              "type": "string"
            },
            "text/plain": [
              "\"it is a permanent member of the united nations security council. it is a permanent member of the united nations security council, and new york city is home to the united nations headquarters. the district of columbia and the five major u.s. territories do not have senators. the district of columbia and the five major u.s. territories each have one member of congress—these members are not allowed to vote. more than 37 million spoke spanish at home, making it the second most commonly used language in the united states. [548]\\nmore than 800 publications are produced in spanish, the second most commonly used language in the united states behind english. the united states is one of the few countries in the world to do so. the united states has the world's largest christian population. [132][133]\\nafter world war ii, the united states and the soviet union competed for power, influence, and prestige during what became known as the cold war, driven by an ideological divide between capitalism and communism. after imperial japan attacked pearl harbor in 1941 during world war ii, the united states joined the conflict on the side of the allies, with the aftermath leaving the united states and the soviet union as the world's superpowers in an era that became known as the cold war.\""
            ]
          },
          "metadata": {},
          "execution_count": 70
        }
      ],
      "source": [
        "tfidf_3gram_summary = generate_tfidf_summary(article_st, pp_article_st, N_LINE, (3,3))\n",
        "tfidf_3gram_summary"
      ]
    },
    {
      "cell_type": "code",
      "source": [
        ""
      ],
      "metadata": {
        "id": "vrf0W65C-thV"
      },
      "id": "vrf0W65C-thV",
      "execution_count": 60,
      "outputs": []
    },
    {
      "cell_type": "markdown",
      "source": [
        "#### Word-Embeddings"
      ],
      "metadata": {
        "id": "JKWl5Z-TKDLv"
      },
      "id": "JKWl5Z-TKDLv"
    },
    {
      "cell_type": "code",
      "source": [
        "w2v_model = Word2Vec(sentences=pp_article_st_wt,\n",
        "                    min_count = 5, \n",
        "                    window = 5,\n",
        "                    vector_size=10,\n",
        "                    sample=6e-5,\n",
        "                    alpha=0.001,\n",
        "                    min_alpha = 0.0007,\n",
        "                    negative=20,\n",
        "                    workers=num_cores-2)\n",
        "\n",
        "words = list(w2v_model.wv.index_to_key)\n",
        "word_emb_list = sorted(words)\n",
        "\n",
        "document_term_emb = np.zeros(shape=(len(pp_article_st_wt), len(word_emb_list)))\n",
        "dte_df = pd.DataFrame(document_term_emb)\n",
        "dte_df.columns = word_emb_list\n",
        "for i in range(len(pp_article_st)):\n",
        "  freq_map = Counter(pp_article_st[i])\n",
        "  for word in word_emb_list:\n",
        "    if freq_map[word] > 0:\n",
        "      dte_df[word].iloc[i] += np.median(w2v_model.wv[word])\n",
        "      freq_map[word] -= 1\n",
        "      \n",
        "X = dte_df.to_numpy()\n",
        "U, SIGMA, VT = randomized_svd(X,n_components=N_LINE,n_iter=100,random_state=100) #perform Latent Semantic Analysis (LSA)\n",
        "scores = np.sqrt(np.dot(U**2,SIGMA**2)) #generate scores for all sentences\n",
        "top_scores_index = np.argsort(scores) #get index of highest scores\n",
        "top_scores_index = top_scores_index[::-1] #sort the indexes in descending order\n",
        "top_scores_index = top_scores_index[0:N_LINE] #get top N Scores index\n",
        "article_array = np.array(article_st) #convert list to array for indexing purpose\n",
        "wemb_sum_trigram = article_array[top_scores_index] #get top N scoring sentences\n",
        "wemb_sum_trigram = list(wemb_sum_trigram) #convert array back to list\n",
        "print(f\"Number of Lines in Summary: {len(wemb_sum_trigram)} \\n\")\n",
        "wemb_sum_trigram = (\" \").join(wemb_sum_trigram) #convert list to single string\n",
        "wemb_sum_trigram      "
      ],
      "metadata": {
        "id": "u6ERl8upKGj1"
      },
      "id": "u6ERl8upKGj1",
      "execution_count": null,
      "outputs": []
    },
    {
      "cell_type": "markdown",
      "id": "banner-transmission",
      "metadata": {
        "id": "banner-transmission"
      },
      "source": [
        "## Generate Feaure Matrixes and Summaries For (4-GRAM) Occurence"
      ]
    },
    {
      "cell_type": "markdown",
      "source": [
        "### LSA"
      ],
      "metadata": {
        "id": "2QD1ADbi_Xbf"
      },
      "id": "2QD1ADbi_Xbf"
    },
    {
      "cell_type": "markdown",
      "id": "grateful-purpose",
      "metadata": {
        "id": "grateful-purpose"
      },
      "source": [
        "#### BOW"
      ]
    },
    {
      "cell_type": "code",
      "execution_count": 69,
      "id": "military-bacon",
      "metadata": {
        "colab": {
          "base_uri": "https://localhost:8080/",
          "height": 167
        },
        "id": "military-bacon",
        "outputId": "ac2686c8-8e1a-4e80-9da2-f698e524fdaa"
      },
      "outputs": [
        {
          "output_type": "execute_result",
          "data": {
            "application/vnd.google.colaboratory.intrinsic+json": {
              "type": "string"
            },
            "text/plain": [
              "'\\n\\ncoordinates: .mw-parser-output .geo-default,.mw-parser-output .geo-dms,.mw-parser-output .geo-dec{display:inline}.mw-parser-output .geo-nondefault,.mw-parser-output .geo-multi-punct{display:none}.mw-parser-output .longitude,.mw-parser-output .latitude{white-space:nowrap}40°n 100°w\\ufeff / \\ufeff40°n 100°w\\ufeff / 40; -100\\nthe united states of america (u.s.a. or usa), commonly known as the united states (u.s. or us) or america, is a country primarily located in north america. notable films topping the american film institute\\'s afi 100 list include orson welles\\'s citizen kane (1941), which is frequently cited as the greatest film of all time,[520][521] casablanca (1942), the godfather (1972), gone with the wind (1939), lawrence of arabia (1962), the wizard of oz (1939), the graduate (1967), on the waterfront (1954), schindler\\'s list (1993), singin\\' in the rain (1952), it\\'s a wonderful life (1946) and sunset boulevard (1950). [421]\\nthe centers for disease control and prevention (cdc) reported that the united states had an average life expectancy at birth of 77.3 years in 2020 (74.5 years for men and 80.2 years for women), down 1.5 years from 2019. according to provisional figures, this was the lowest average u.s. life expectancy recorded by the cdc since 2003, the first overall decline since 2018, and \"the largest one-year decline since world war ii.\" [533] in soccer (a sport that has gained a footing in the united states since the mid-1990s), the country hosted the 1994 fifa world cup, the men\\'s national soccer team qualified for ten world cups and the women\\'s team has won the fifa women\\'s world cup four times; major league soccer is the sport\\'s highest league in the united states (featuring 23 american and three canadian teams). since the general election of 1856, the major parties have been the democratic party, founded in 1824, and the republican party, founded in 1854. since the civil war, only one third-party presidential candidate—former president theodore roosevelt, running as a progressive in 1912—has won as much as 20% of the popular vote, though the self-financed reform party campaign of ross perot took 18.9% in 1992. [164]\\ngovernment policy designed to promote affordable housing,[165] widespread failures in corporate and regulatory governance,[166] and historically low interest rates set by the federal reserve[167] led to the united states housing bubble in 2006, which culminated with the financial crisis of 2007–2008 and the great recession, the nation\\'s largest economic contraction since the great depression. [169] barack obama, the first multiracial[170] president, with african-american ancestry was elected in 2008 amid the crisis,[171] and subsequently passed american recovery and reinvestment act of 2009 economic stimulus and the dodd–frank wall street reform and consumer protection act in an attempt to mitigate its negative effects and ensure there would not be a repeat of the crisis. [296] the department of justice said that the imprisonment rate for all prisoners sentenced to more than a year in state or federal facilities in 2019 stood at 419 per 100,000 residents which was at its lowest point since 1995 and that the total prison population for the same year stood at 1,430,800 which represented an 11% decrease in the population size from a decade earlier. [427][428]\\nincreasing obesity in the united states and improvements in health and longevity outside the u.s. contributed to lowering the country\\'s rank in life expectancy from 11th in the world in 1987 to 42nd in 2007. in 2017, the united states had the lowest life expectancy among japan, canada, australia, the united kingdom, and seven nations in western europe. [402] three states and four u.s. territories have recognized local or indigenous languages in addition to english, including hawaii (hawaiian),[403] alaska (twenty native languages),[j][404] south dakota (sioux),[405] american samoa (samoan), puerto rico (spanish), guam (chamorro), and the northern mariana islands (carolinian and chamorro).'"
            ]
          },
          "metadata": {},
          "execution_count": 69
        }
      ],
      "source": [
        "bow_4gram_summary = generate_bow_summary(article_st, pp_article_st, N_LINE, (4,4))\n",
        "bow_4gram_summary"
      ]
    },
    {
      "cell_type": "code",
      "execution_count": null,
      "id": "dominant-struggle",
      "metadata": {
        "id": "dominant-struggle"
      },
      "outputs": [],
      "source": [
        ""
      ]
    },
    {
      "cell_type": "markdown",
      "id": "israeli-salvation",
      "metadata": {
        "id": "israeli-salvation"
      },
      "source": [
        "#### TF-IDF"
      ]
    },
    {
      "cell_type": "code",
      "execution_count": 68,
      "id": "exceptional-interval",
      "metadata": {
        "colab": {
          "base_uri": "https://localhost:8080/",
          "height": 167
        },
        "id": "exceptional-interval",
        "outputId": "bc099818-cd3a-452f-987f-e790e6fd6b7e"
      },
      "outputs": [
        {
          "output_type": "execute_result",
          "data": {
            "application/vnd.google.colaboratory.intrinsic+json": {
              "type": "string"
            },
            "text/plain": [
              "'it is a permanent member of the united nations security council, and new york city is home to the united nations headquarters. it is a permanent member of the united nations security council. the district of columbia and the five major u.s. territories do not have senators. the district of columbia and the five major u.s. territories each have one member of congress—these members are not allowed to vote. [548]\\nmore than 800 publications are produced in spanish, the second most commonly used language in the united states behind english. more than 37 million spoke spanish at home, making it the second most commonly used language in the united states. [213]\\nthe united states is a federal republic of 50 states, a federal district, five territories and several uninhabited island possessions. it consists of 50 states, a federal district, five major unincorporated territories, 326 indian reservations, and some minor possessions. paleo-indians migrated from siberia to the north american mainland at least 12,000 years ago, and european colonization began in the 16th century. [33]\\nit has been generally accepted that the first inhabitants of north america migrated from siberia by way of the bering land bridge and arrived at least 12,000 years ago; however, some evidence suggests an even earlier date of arrival.'"
            ]
          },
          "metadata": {},
          "execution_count": 68
        }
      ],
      "source": [
        "tfidf_4gram_summary = generate_tfidf_summary(article_st, pp_article_st, N_LINE, (4,4))\n",
        "tfidf_4gram_summary"
      ]
    },
    {
      "cell_type": "code",
      "execution_count": null,
      "id": "loved-vision",
      "metadata": {
        "id": "loved-vision"
      },
      "outputs": [],
      "source": [
        ""
      ]
    },
    {
      "cell_type": "markdown",
      "id": "logical-patrick",
      "metadata": {
        "id": "logical-patrick"
      },
      "source": [
        "## Generate Feaure Matrixes and Summaries For (5-GRAM) Occurence"
      ]
    },
    {
      "cell_type": "markdown",
      "source": [
        "### LSA"
      ],
      "metadata": {
        "id": "rgIzrtsM_jpR"
      },
      "id": "rgIzrtsM_jpR"
    },
    {
      "cell_type": "markdown",
      "id": "detected-beijing",
      "metadata": {
        "id": "detected-beijing"
      },
      "source": [
        "#### BOW"
      ]
    },
    {
      "cell_type": "code",
      "execution_count": 66,
      "id": "retired-inspection",
      "metadata": {
        "colab": {
          "base_uri": "https://localhost:8080/",
          "height": 167
        },
        "id": "retired-inspection",
        "outputId": "d87eff73-460b-4c2e-fc22-06dfe75db526"
      },
      "outputs": [
        {
          "output_type": "execute_result",
          "data": {
            "application/vnd.google.colaboratory.intrinsic+json": {
              "type": "string"
            },
            "text/plain": [
              "'\\n\\ncoordinates: .mw-parser-output .geo-default,.mw-parser-output .geo-dms,.mw-parser-output .geo-dec{display:inline}.mw-parser-output .geo-nondefault,.mw-parser-output .geo-multi-punct{display:none}.mw-parser-output .longitude,.mw-parser-output .latitude{white-space:nowrap}40°n 100°w\\ufeff / \\ufeff40°n 100°w\\ufeff / 40; -100\\nthe united states of america (u.s.a. or usa), commonly known as the united states (u.s. or us) or america, is a country primarily located in north america. notable films topping the american film institute\\'s afi 100 list include orson welles\\'s citizen kane (1941), which is frequently cited as the greatest film of all time,[520][521] casablanca (1942), the godfather (1972), gone with the wind (1939), lawrence of arabia (1962), the wizard of oz (1939), the graduate (1967), on the waterfront (1954), schindler\\'s list (1993), singin\\' in the rain (1952), it\\'s a wonderful life (1946) and sunset boulevard (1950). [421]\\nthe centers for disease control and prevention (cdc) reported that the united states had an average life expectancy at birth of 77.3 years in 2020 (74.5 years for men and 80.2 years for women), down 1.5 years from 2019. according to provisional figures, this was the lowest average u.s. life expectancy recorded by the cdc since 2003, the first overall decline since 2018, and \"the largest one-year decline since world war ii.\" [533] in soccer (a sport that has gained a footing in the united states since the mid-1990s), the country hosted the 1994 fifa world cup, the men\\'s national soccer team qualified for ten world cups and the women\\'s team has won the fifa women\\'s world cup four times; major league soccer is the sport\\'s highest league in the united states (featuring 23 american and three canadian teams). since the general election of 1856, the major parties have been the democratic party, founded in 1824, and the republican party, founded in 1854. since the civil war, only one third-party presidential candidate—former president theodore roosevelt, running as a progressive in 1912—has won as much as 20% of the popular vote, though the self-financed reform party campaign of ross perot took 18.9% in 1992. [164]\\ngovernment policy designed to promote affordable housing,[165] widespread failures in corporate and regulatory governance,[166] and historically low interest rates set by the federal reserve[167] led to the united states housing bubble in 2006, which culminated with the financial crisis of 2007–2008 and the great recession, the nation\\'s largest economic contraction since the great depression. [169] barack obama, the first multiracial[170] president, with african-american ancestry was elected in 2008 amid the crisis,[171] and subsequently passed american recovery and reinvestment act of 2009 economic stimulus and the dodd–frank wall street reform and consumer protection act in an attempt to mitigate its negative effects and ensure there would not be a repeat of the crisis. [296] the department of justice said that the imprisonment rate for all prisoners sentenced to more than a year in state or federal facilities in 2019 stood at 419 per 100,000 residents which was at its lowest point since 1995 and that the total prison population for the same year stood at 1,430,800 which represented an 11% decrease in the population size from a decade earlier. [427][428]\\nincreasing obesity in the united states and improvements in health and longevity outside the u.s. contributed to lowering the country\\'s rank in life expectancy from 11th in the world in 1987 to 42nd in 2007. in 2017, the united states had the lowest life expectancy among japan, canada, australia, the united kingdom, and seven nations in western europe. [278] today, american forces can be rapidly deployed by the air force\\'s large fleet of transport aircraft, the navy\\'s 11 active aircraft carriers, and marine expeditionary units at sea with the navy, and army\\'s xviii airborne corps and 75th ranger regiment deployed by air force transport aircraft.'"
            ]
          },
          "metadata": {},
          "execution_count": 66
        }
      ],
      "source": [
        "bow_5gram_summary = generate_bow_summary(article_st, pp_article_st, N_LINE, (5,5))\n",
        "bow_5gram_summary"
      ]
    },
    {
      "cell_type": "markdown",
      "id": "ecological-composite",
      "metadata": {
        "id": "ecological-composite"
      },
      "source": [
        "#### TF-IDF"
      ]
    },
    {
      "cell_type": "code",
      "execution_count": 67,
      "id": "placed-division",
      "metadata": {
        "colab": {
          "base_uri": "https://localhost:8080/",
          "height": 167
        },
        "id": "placed-division",
        "outputId": "8de64cc8-2f6f-4d8c-efc6-3929a4a13b31"
      },
      "outputs": [
        {
          "output_type": "execute_result",
          "data": {
            "application/vnd.google.colaboratory.intrinsic+json": {
              "type": "string"
            },
            "text/plain": [
              "'it is a permanent member of the united nations security council. it is a permanent member of the united nations security council, and new york city is home to the united nations headquarters. the district of columbia and the five major u.s. territories do not have senators. the district of columbia and the five major u.s. territories each have one member of congress—these members are not allowed to vote. [548]\\nmore than 800 publications are produced in spanish, the second most commonly used language in the united states behind english. more than 37 million spoke spanish at home, making it the second most commonly used language in the united states. [213]\\nthe united states is a federal republic of 50 states, a federal district, five territories and several uninhabited island possessions. it consists of 50 states, a federal district, five major unincorporated territories, 326 indian reservations, and some minor possessions. paleo-indians migrated from siberia to the north american mainland at least 12,000 years ago, and european colonization began in the 16th century. [33]\\nit has been generally accepted that the first inhabitants of north america migrated from siberia by way of the bering land bridge and arrived at least 12,000 years ago; however, some evidence suggests an even earlier date of arrival.'"
            ]
          },
          "metadata": {},
          "execution_count": 67
        }
      ],
      "source": [
        "tfidf_5gram_summary = generate_tfidf_summary(article_st, pp_article_st, N_LINE, (5,5))\n",
        "tfidf_5gram_summary"
      ]
    },
    {
      "cell_type": "code",
      "execution_count": null,
      "id": "unnecessary-architect",
      "metadata": {
        "id": "unnecessary-architect"
      },
      "outputs": [],
      "source": [
        ""
      ]
    },
    {
      "cell_type": "code",
      "source": [
        ""
      ],
      "metadata": {
        "id": "wplntlkUYhM7"
      },
      "id": "wplntlkUYhM7",
      "execution_count": null,
      "outputs": []
    },
    {
      "cell_type": "code",
      "source": [
        ""
      ],
      "metadata": {
        "id": "HQx1LOUoYlNX"
      },
      "id": "HQx1LOUoYlNX",
      "execution_count": null,
      "outputs": []
    },
    {
      "cell_type": "code",
      "source": [
        ""
      ],
      "metadata": {
        "id": "UykOV3OOYlTN"
      },
      "id": "UykOV3OOYlTN",
      "execution_count": null,
      "outputs": []
    },
    {
      "cell_type": "markdown",
      "id": "fundamental-solid",
      "metadata": {
        "id": "fundamental-solid"
      },
      "source": [
        "## Summaries Generated Via Survery"
      ]
    },
    {
      "cell_type": "code",
      "execution_count": 76,
      "id": "lesser-wallpaper",
      "metadata": {
        "colab": {
          "base_uri": "https://localhost:8080/",
          "height": 167
        },
        "id": "lesser-wallpaper",
        "outputId": "7d77105c-3631-4fca-c7e3-7765eb22a2e4"
      },
      "outputs": [
        {
          "output_type": "execute_result",
          "data": {
            "application/vnd.google.colaboratory.intrinsic+json": {
              "type": "string"
            },
            "text/plain": [
              "'The United States is a federal republic and a representative democracy with three separate branches of government, including a bicameral legislature. By value, the United States is the world\\'s largest importer and the second-largest exporter of goods. Although its population is only 4.2% of the world total, it holds 29.4% of the total wealth in the world, the largest share held by any country.Americans had developed an ideology of \"republicanism\", asserting that government rested on the will of the people as expressed in their local legislatures. Americans have traditionally been characterized by a strong work ethic, competitiveness, and individualism,[455] as well as a unifying belief in an \"American creed\" emphasizing liberty, equality, private property, democracy, rule of law, and a preference for limited government. The country has received criticism in regard to inequality related to race, wealth and income, the use of capital punishment, high incarceration rates, and lack of universal health care. In 2018, there were almost 90 million immigrants and U.S.-born children of immigrants in the United States, accounting for 28% of the overall U.S. population. The country is one of the five recognized nuclear weapons states and one of nine countries to possess nuclear weapons. The American fast food industry, the world\\'s largest, pioneered the drive-through format in the 1940s. American football is by several measures the most popular spectator sport in the United States.'"
            ]
          },
          "metadata": {},
          "execution_count": 76
        }
      ],
      "source": [
        "survey_summary1 = \"\"\"The United States is a federal republic and a representative democracy with three separate branches of government, including a bicameral legislature. By value, the United States is the world's largest importer and the second-largest exporter of goods. Although its population is only 4.2% of the world total, it holds 29.4% of the total wealth in the world, the largest share held by any country.Americans had developed an ideology of \"republicanism\", asserting that government rested on the will of the people as expressed in their local legislatures. Americans have traditionally been characterized by a strong work ethic, competitiveness, and individualism,[455] as well as a unifying belief in an \"American creed\" emphasizing liberty, equality, private property, democracy, rule of law, and a preference for limited government. The country has received criticism in regard to inequality related to race, wealth and income, the use of capital punishment, high incarceration rates, and lack of universal health care. In 2018, there were almost 90 million immigrants and U.S.-born children of immigrants in the United States, accounting for 28% of the overall U.S. population. The country is one of the five recognized nuclear weapons states and one of nine countries to possess nuclear weapons. The American fast food industry, the world's largest, pioneered the drive-through format in the 1940s. American football is by several measures the most popular spectator sport in the United States.\"\"\"\n",
        "survey_summary1"
      ]
    },
    {
      "cell_type": "code",
      "execution_count": 77,
      "id": "personalized-worst",
      "metadata": {
        "colab": {
          "base_uri": "https://localhost:8080/",
          "height": 167
        },
        "id": "personalized-worst",
        "outputId": "c6c0ed86-d3ae-4e94-acc3-4ed4317b40be"
      },
      "outputs": [
        {
          "output_type": "execute_result",
          "data": {
            "application/vnd.google.colaboratory.intrinsic+json": {
              "type": "string"
            },
            "text/plain": [
              "\"The United States of America (USA), commonly known as the United States (U.S. or US), or America, is a country primarily located in North America. It consists of 50 states, a federal district, five major self-governing territories, 326 Indian reservations, and some minor possessions. At 3.8 million square miles (9.8 million square kilometers), it is the world's third- or fourth-largest country by total area. With a population of more than 328 million people, it is the third most populous country in the world. Paleo-Indians migrated from Siberia to the North American mainland at least 12,000 years ago, and European colonization began in the 16th century. The United States emerged from the thirteen British colonies established along the East Coast. In the late 18th century, the U.S. began vigorously expanding across North America, gradually acquiring new territories, frequently displacing Native Americans, and admitting new states; by 1848, the United States spanned the continent. The United States is a federal republic and a representative democracy with three separate branches of government, including a bicameral legislature. The United States is a highly developed country, and continuously ranks high in measures of socioeconomic performance. Making up more than a third of global military spending, it is the foremost military power in the world and is a leading political, cultural, and scientific force internationally. \""
            ]
          },
          "metadata": {},
          "execution_count": 77
        }
      ],
      "source": [
        "survey_summary2 = \"\"\"The United States of America (USA), commonly known as the United States (U.S. or US), or America, is a country primarily located in North America. It consists of 50 states, a federal district, five major self-governing territories, 326 Indian reservations, and some minor possessions. At 3.8 million square miles (9.8 million square kilometers), it is the world's third- or fourth-largest country by total area. With a population of more than 328 million people, it is the third most populous country in the world. Paleo-Indians migrated from Siberia to the North American mainland at least 12,000 years ago, and European colonization began in the 16th century. The United States emerged from the thirteen British colonies established along the East Coast. In the late 18th century, the U.S. began vigorously expanding across North America, gradually acquiring new territories, frequently displacing Native Americans, and admitting new states; by 1848, the United States spanned the continent. The United States is a federal republic and a representative democracy with three separate branches of government, including a bicameral legislature. The United States is a highly developed country, and continuously ranks high in measures of socioeconomic performance. Making up more than a third of global military spending, it is the foremost military power in the world and is a leading political, cultural, and scientific force internationally. \"\"\"\n",
        "survey_summary2"
      ]
    },
    {
      "cell_type": "code",
      "execution_count": 77,
      "id": "electrical-practitioner",
      "metadata": {
        "id": "electrical-practitioner"
      },
      "outputs": [],
      "source": [
        ""
      ]
    },
    {
      "cell_type": "markdown",
      "id": "modern-component",
      "metadata": {
        "id": "modern-component"
      },
      "source": [
        "## Evaluation of Generated Summaries using ROUGE-N Metric and Survey Summary 2"
      ]
    },
    {
      "cell_type": "code",
      "source": [
        ""
      ],
      "metadata": {
        "id": "6xgfnKb7Biqd"
      },
      "id": "6xgfnKb7Biqd",
      "execution_count": null,
      "outputs": []
    },
    {
      "cell_type": "markdown",
      "source": [
        "## Function to evaluate N-gram summary"
      ],
      "metadata": {
        "id": "5tnRRPdCBjp2"
      },
      "id": "5tnRRPdCBjp2"
    },
    {
      "cell_type": "code",
      "source": [
        "def get_ngram_rouge(ngram, generated_summary, survey_summary):\n",
        "  scorer = rouge_scorer.RougeScorer([f'rouge{ngram}'], use_stemmer=False)\n",
        "  scores = scorer.score(generated_summary, survey_summary)[f\"rouge{ngram}\"]\n",
        "  return scores"
      ],
      "metadata": {
        "id": "v5bWTfhTBqSM"
      },
      "id": "v5bWTfhTBqSM",
      "execution_count": 84,
      "outputs": []
    },
    {
      "cell_type": "code",
      "source": [
        ""
      ],
      "metadata": {
        "id": "0vgeSgqECnpq"
      },
      "id": "0vgeSgqECnpq",
      "execution_count": null,
      "outputs": []
    },
    {
      "cell_type": "markdown",
      "id": "stone-hughes",
      "metadata": {
        "id": "stone-hughes"
      },
      "source": [
        "### 1-GRAM"
      ]
    },
    {
      "cell_type": "code",
      "execution_count": 82,
      "id": "timely-slide",
      "metadata": {
        "id": "timely-slide",
        "outputId": "a4046e30-97d8-44d0-cc5f-db5f9b9fd7dd",
        "colab": {
          "base_uri": "https://localhost:8080/"
        }
      },
      "outputs": [
        {
          "output_type": "execute_result",
          "data": {
            "text/plain": [
              "Score(precision=0.5087719298245614, recall=0.19965576592082615, fmeasure=0.2867737948084054)"
            ]
          },
          "metadata": {},
          "execution_count": 82
        }
      ],
      "source": [
        "bow_1gram_rouge = get_ngram_rouge(1, bow_1gram_summary, survey_summary2)\n",
        "bow_1gram_rouge"
      ]
    },
    {
      "cell_type": "code",
      "execution_count": 94,
      "id": "plastic-yugoslavia",
      "metadata": {
        "id": "plastic-yugoslavia",
        "outputId": "2e9f09c1-cad0-4c7e-96ef-1121cdd56a4b",
        "colab": {
          "base_uri": "https://localhost:8080/"
        }
      },
      "outputs": [
        {
          "output_type": "execute_result",
          "data": {
            "text/plain": [
              "Score(precision=0.42543859649122806, recall=0.5132275132275133, fmeasure=0.46522781774580335)"
            ]
          },
          "metadata": {},
          "execution_count": 94
        }
      ],
      "source": [
        "tfidf_1gram_rouge = get_ngram_rouge(1, tfidf_1gram_summary, survey_summary2)\n",
        "tfidf_1gram_rouge"
      ]
    },
    {
      "cell_type": "code",
      "source": [
        ""
      ],
      "metadata": {
        "id": "hveFsAKQDCTC"
      },
      "id": "hveFsAKQDCTC",
      "execution_count": null,
      "outputs": []
    },
    {
      "cell_type": "markdown",
      "id": "official-jason",
      "metadata": {
        "id": "official-jason"
      },
      "source": [
        "### 2-GRAM"
      ]
    },
    {
      "cell_type": "code",
      "execution_count": 86,
      "id": "consolidated-disaster",
      "metadata": {
        "id": "consolidated-disaster",
        "outputId": "8be72015-dda4-4b56-e9b0-710898a216d8",
        "colab": {
          "base_uri": "https://localhost:8080/"
        }
      },
      "outputs": [
        {
          "output_type": "execute_result",
          "data": {
            "text/plain": [
              "Score(precision=0.18502202643171806, recall=0.06471494607087827, fmeasure=0.0958904109589041)"
            ]
          },
          "metadata": {},
          "execution_count": 86
        }
      ],
      "source": [
        "bow_2gram_rouge = get_ngram_rouge(2, bow_2gram_summary, survey_summary2)\n",
        "bow_2gram_rouge"
      ]
    },
    {
      "cell_type": "code",
      "execution_count": 93,
      "id": "further-motorcycle",
      "metadata": {
        "colab": {
          "base_uri": "https://localhost:8080/"
        },
        "id": "further-motorcycle",
        "outputId": "a389471e-0308-417d-deeb-b52eedb1e97d"
      },
      "outputs": [
        {
          "output_type": "execute_result",
          "data": {
            "text/plain": [
              "Score(precision=0.13656387665198239, recall=0.14418604651162792, fmeasure=0.14027149321266968)"
            ]
          },
          "metadata": {},
          "execution_count": 93
        }
      ],
      "source": [
        "tfidf_2gram_rouge = get_ngram_rouge(2, tfidf_2gram_summary, survey_summary2)\n",
        "tfidf_2gram_rouge"
      ]
    },
    {
      "cell_type": "code",
      "source": [
        ""
      ],
      "metadata": {
        "id": "6XEavYm0DBny"
      },
      "id": "6XEavYm0DBny",
      "execution_count": null,
      "outputs": []
    },
    {
      "cell_type": "markdown",
      "id": "difficult-yahoo",
      "metadata": {
        "id": "difficult-yahoo"
      },
      "source": [
        "### 3-GRAM"
      ]
    },
    {
      "cell_type": "code",
      "execution_count": 90,
      "id": "recent-climate",
      "metadata": {
        "id": "recent-climate",
        "outputId": "f9d6f6bf-f60a-4fed-acd5-601792aee490",
        "colab": {
          "base_uri": "https://localhost:8080/"
        }
      },
      "outputs": [
        {
          "output_type": "execute_result",
          "data": {
            "text/plain": [
              "Score(precision=0.12831858407079647, recall=0.042709867452135494, fmeasure=0.06408839779005525)"
            ]
          },
          "metadata": {},
          "execution_count": 90
        }
      ],
      "source": [
        "bow_3gram_rouge = get_ngram_rouge(3, bow_3gram_summary, survey_summary2)\n",
        "bow_3gram_rouge"
      ]
    },
    {
      "cell_type": "code",
      "source": [
        "tfidf_3gram_rouge = get_ngram_rouge(3, tfidf_3gram_summary, survey_summary2)\n",
        "tfidf_3gram_rouge"
      ],
      "metadata": {
        "id": "Ez6hF-lLC6M6",
        "outputId": "8efe5f62-d77c-47ba-e13e-e08e9fc7f217",
        "colab": {
          "base_uri": "https://localhost:8080/"
        }
      },
      "id": "Ez6hF-lLC6M6",
      "execution_count": 92,
      "outputs": [
        {
          "output_type": "execute_result",
          "data": {
            "text/plain": [
              "Score(precision=0.04424778761061947, recall=0.04504504504504504, fmeasure=0.04464285714285714)"
            ]
          },
          "metadata": {},
          "execution_count": 92
        }
      ]
    },
    {
      "cell_type": "code",
      "source": [
        ""
      ],
      "metadata": {
        "id": "pc0WppaTDBDS"
      },
      "id": "pc0WppaTDBDS",
      "execution_count": null,
      "outputs": []
    },
    {
      "cell_type": "markdown",
      "id": "sweet-corner",
      "metadata": {
        "id": "sweet-corner"
      },
      "source": [
        "### 4-GRAM"
      ]
    },
    {
      "cell_type": "code",
      "execution_count": 97,
      "id": "sustained-faculty",
      "metadata": {
        "colab": {
          "base_uri": "https://localhost:8080/"
        },
        "id": "sustained-faculty",
        "outputId": "eda52250-e37e-4c15-9733-ba768c0077bd"
      },
      "outputs": [
        {
          "output_type": "execute_result",
          "data": {
            "text/plain": [
              "Score(precision=0.08888888888888889, recall=0.029585798816568046, fmeasure=0.04439511653718091)"
            ]
          },
          "metadata": {},
          "execution_count": 97
        }
      ],
      "source": [
        "bow_4gram_rouge = get_ngram_rouge(4, bow_4gram_summary, survey_summary2)\n",
        "bow_4gram_rouge"
      ]
    },
    {
      "cell_type": "code",
      "execution_count": 98,
      "id": "technological-motor",
      "metadata": {
        "id": "technological-motor",
        "outputId": "241623ca-2c29-4a0c-b13c-6f38676f6ea9",
        "colab": {
          "base_uri": "https://localhost:8080/"
        }
      },
      "outputs": [
        {
          "output_type": "execute_result",
          "data": {
            "text/plain": [
              "Score(precision=0.16444444444444445, recall=0.17209302325581396, fmeasure=0.1681818181818182)"
            ]
          },
          "metadata": {},
          "execution_count": 98
        }
      ],
      "source": [
        "tfidf_4gram_rouge = get_ngram_rouge(4, tfidf_4gram_summary, survey_summary2)\n",
        "tfidf_4gram_rouge"
      ]
    },
    {
      "cell_type": "code",
      "source": [
        ""
      ],
      "metadata": {
        "id": "_oBZvdMXDMvv"
      },
      "id": "_oBZvdMXDMvv",
      "execution_count": null,
      "outputs": []
    },
    {
      "cell_type": "markdown",
      "id": "necessary-prince",
      "metadata": {
        "id": "necessary-prince"
      },
      "source": [
        "### 5-GRAM"
      ]
    },
    {
      "cell_type": "code",
      "execution_count": 101,
      "id": "independent-suffering",
      "metadata": {
        "id": "independent-suffering",
        "outputId": "330c9f1e-1377-4f2d-915c-9c7362d124a1",
        "colab": {
          "base_uri": "https://localhost:8080/"
        }
      },
      "outputs": [
        {
          "output_type": "execute_result",
          "data": {
            "text/plain": [
              "Score(precision=0.08035714285714286, recall=0.026587887740029542, fmeasure=0.039955604883462816)"
            ]
          },
          "metadata": {},
          "execution_count": 101
        }
      ],
      "source": [
        "bow_5gram_rouge = get_ngram_rouge(5, bow_5gram_summary, survey_summary2)\n",
        "bow_5gram_rouge"
      ]
    },
    {
      "cell_type": "code",
      "source": [
        ""
      ],
      "metadata": {
        "id": "6BxY6HupDvqc"
      },
      "id": "6BxY6HupDvqc",
      "execution_count": null,
      "outputs": []
    },
    {
      "cell_type": "code",
      "execution_count": 102,
      "id": "preceding-camping",
      "metadata": {
        "colab": {
          "base_uri": "https://localhost:8080/"
        },
        "id": "preceding-camping",
        "outputId": "95c1a046-b289-43d4-8969-b78065e2412e"
      },
      "outputs": [
        {
          "output_type": "execute_result",
          "data": {
            "text/plain": [
              "Score(precision=0.14732142857142858, recall=0.1542056074766355, fmeasure=0.1506849315068493)"
            ]
          },
          "metadata": {},
          "execution_count": 102
        }
      ],
      "source": [
        "tfidf_5gram_rouge = get_ngram_rouge(5, tfidf_5gram_summary, survey_summary2)\n",
        "tfidf_5gram_rouge"
      ]
    },
    {
      "cell_type": "code",
      "execution_count": 102,
      "id": "subsequent-bradford",
      "metadata": {
        "id": "subsequent-bradford"
      },
      "outputs": [],
      "source": [
        ""
      ]
    },
    {
      "cell_type": "markdown",
      "id": "contrary-texas",
      "metadata": {
        "id": "contrary-texas"
      },
      "source": [
        "<h2> Comparision of N-GRAM and Feature Extraction Scheme Using ROUGE-N Recall Scores </h2>  "
      ]
    },
    {
      "cell_type": "code",
      "execution_count": 107,
      "id": "fifty-network",
      "metadata": {
        "id": "fifty-network",
        "outputId": "8fda2480-0e2e-4ba5-8f27-3b70829539b0",
        "colab": {
          "base_uri": "https://localhost:8080/",
          "height": 206
        }
      },
      "outputs": [
        {
          "output_type": "execute_result",
          "data": {
            "text/html": [
              "\n",
              "  <div id=\"df-bce849e6-698b-4936-acdf-740607cea95f\">\n",
              "    <div class=\"colab-df-container\">\n",
              "      <div>\n",
              "<style scoped>\n",
              "    .dataframe tbody tr th:only-of-type {\n",
              "        vertical-align: middle;\n",
              "    }\n",
              "\n",
              "    .dataframe tbody tr th {\n",
              "        vertical-align: top;\n",
              "    }\n",
              "\n",
              "    .dataframe thead th {\n",
              "        text-align: right;\n",
              "    }\n",
              "</style>\n",
              "<table border=\"1\" class=\"dataframe\">\n",
              "  <thead>\n",
              "    <tr style=\"text-align: right;\">\n",
              "      <th></th>\n",
              "      <th>N-Gram Range</th>\n",
              "      <th>BOW</th>\n",
              "      <th>TF-IDF</th>\n",
              "    </tr>\n",
              "  </thead>\n",
              "  <tbody>\n",
              "    <tr>\n",
              "      <th>0</th>\n",
              "      <td>1-Gram</td>\n",
              "      <td>0.064715</td>\n",
              "      <td>0.513228</td>\n",
              "    </tr>\n",
              "    <tr>\n",
              "      <th>1</th>\n",
              "      <td>2-Gram</td>\n",
              "      <td>0.064715</td>\n",
              "      <td>0.144186</td>\n",
              "    </tr>\n",
              "    <tr>\n",
              "      <th>2</th>\n",
              "      <td>3-Gram</td>\n",
              "      <td>0.042710</td>\n",
              "      <td>0.045045</td>\n",
              "    </tr>\n",
              "    <tr>\n",
              "      <th>3</th>\n",
              "      <td>4-Gram</td>\n",
              "      <td>0.029586</td>\n",
              "      <td>0.172093</td>\n",
              "    </tr>\n",
              "    <tr>\n",
              "      <th>4</th>\n",
              "      <td>5-Gram</td>\n",
              "      <td>0.026588</td>\n",
              "      <td>0.154206</td>\n",
              "    </tr>\n",
              "  </tbody>\n",
              "</table>\n",
              "</div>\n",
              "      <button class=\"colab-df-convert\" onclick=\"convertToInteractive('df-bce849e6-698b-4936-acdf-740607cea95f')\"\n",
              "              title=\"Convert this dataframe to an interactive table.\"\n",
              "              style=\"display:none;\">\n",
              "        \n",
              "  <svg xmlns=\"http://www.w3.org/2000/svg\" height=\"24px\"viewBox=\"0 0 24 24\"\n",
              "       width=\"24px\">\n",
              "    <path d=\"M0 0h24v24H0V0z\" fill=\"none\"/>\n",
              "    <path d=\"M18.56 5.44l.94 2.06.94-2.06 2.06-.94-2.06-.94-.94-2.06-.94 2.06-2.06.94zm-11 1L8.5 8.5l.94-2.06 2.06-.94-2.06-.94L8.5 2.5l-.94 2.06-2.06.94zm10 10l.94 2.06.94-2.06 2.06-.94-2.06-.94-.94-2.06-.94 2.06-2.06.94z\"/><path d=\"M17.41 7.96l-1.37-1.37c-.4-.4-.92-.59-1.43-.59-.52 0-1.04.2-1.43.59L10.3 9.45l-7.72 7.72c-.78.78-.78 2.05 0 2.83L4 21.41c.39.39.9.59 1.41.59.51 0 1.02-.2 1.41-.59l7.78-7.78 2.81-2.81c.8-.78.8-2.07 0-2.86zM5.41 20L4 18.59l7.72-7.72 1.47 1.35L5.41 20z\"/>\n",
              "  </svg>\n",
              "      </button>\n",
              "      \n",
              "  <style>\n",
              "    .colab-df-container {\n",
              "      display:flex;\n",
              "      flex-wrap:wrap;\n",
              "      gap: 12px;\n",
              "    }\n",
              "\n",
              "    .colab-df-convert {\n",
              "      background-color: #E8F0FE;\n",
              "      border: none;\n",
              "      border-radius: 50%;\n",
              "      cursor: pointer;\n",
              "      display: none;\n",
              "      fill: #1967D2;\n",
              "      height: 32px;\n",
              "      padding: 0 0 0 0;\n",
              "      width: 32px;\n",
              "    }\n",
              "\n",
              "    .colab-df-convert:hover {\n",
              "      background-color: #E2EBFA;\n",
              "      box-shadow: 0px 1px 2px rgba(60, 64, 67, 0.3), 0px 1px 3px 1px rgba(60, 64, 67, 0.15);\n",
              "      fill: #174EA6;\n",
              "    }\n",
              "\n",
              "    [theme=dark] .colab-df-convert {\n",
              "      background-color: #3B4455;\n",
              "      fill: #D2E3FC;\n",
              "    }\n",
              "\n",
              "    [theme=dark] .colab-df-convert:hover {\n",
              "      background-color: #434B5C;\n",
              "      box-shadow: 0px 1px 3px 1px rgba(0, 0, 0, 0.15);\n",
              "      filter: drop-shadow(0px 1px 2px rgba(0, 0, 0, 0.3));\n",
              "      fill: #FFFFFF;\n",
              "    }\n",
              "  </style>\n",
              "\n",
              "      <script>\n",
              "        const buttonEl =\n",
              "          document.querySelector('#df-bce849e6-698b-4936-acdf-740607cea95f button.colab-df-convert');\n",
              "        buttonEl.style.display =\n",
              "          google.colab.kernel.accessAllowed ? 'block' : 'none';\n",
              "\n",
              "        async function convertToInteractive(key) {\n",
              "          const element = document.querySelector('#df-bce849e6-698b-4936-acdf-740607cea95f');\n",
              "          const dataTable =\n",
              "            await google.colab.kernel.invokeFunction('convertToInteractive',\n",
              "                                                     [key], {});\n",
              "          if (!dataTable) return;\n",
              "\n",
              "          const docLinkHtml = 'Like what you see? Visit the ' +\n",
              "            '<a target=\"_blank\" href=https://colab.research.google.com/notebooks/data_table.ipynb>data table notebook</a>'\n",
              "            + ' to learn more about interactive tables.';\n",
              "          element.innerHTML = '';\n",
              "          dataTable['output_type'] = 'display_data';\n",
              "          await google.colab.output.renderOutput(dataTable, element);\n",
              "          const docLink = document.createElement('div');\n",
              "          docLink.innerHTML = docLinkHtml;\n",
              "          element.appendChild(docLink);\n",
              "        }\n",
              "      </script>\n",
              "    </div>\n",
              "  </div>\n",
              "  "
            ],
            "text/plain": [
              "  N-Gram Range       BOW    TF-IDF\n",
              "0       1-Gram  0.064715  0.513228\n",
              "1       2-Gram  0.064715  0.144186\n",
              "2       3-Gram  0.042710  0.045045\n",
              "3       4-Gram  0.029586  0.172093\n",
              "4       5-Gram  0.026588  0.154206"
            ]
          },
          "metadata": {},
          "execution_count": 107
        }
      ],
      "source": [
        "comparision_df = pd.DataFrame()\n",
        "comparision_df[\"N-Gram Range\"] = [\"1-Gram\", \"2-Gram\", \"3-Gram\", \"4-Gram\", \"5-Gram\"]\n",
        "comparision_df[\"BOW\"] = [bow_1gram_rouge.recall, bow_2gram_rouge.recall, bow_3gram_rouge.recall, bow_4gram_rouge.recall, bow_5gram_rouge.recall]\n",
        "comparision_df[\"TF-IDF\"] = [tfidf_1gram_rouge.recall, tfidf_2gram_rouge.recall, tfidf_3gram_rouge.recall, tfidf_4gram_rouge.recall, tfidf_5gram_rouge.recall]\n",
        "comparision_df"
      ]
    },
    {
      "cell_type": "code",
      "execution_count": 107,
      "id": "aerial-indianapolis",
      "metadata": {
        "id": "aerial-indianapolis"
      },
      "outputs": [],
      "source": [
        ""
      ]
    },
    {
      "cell_type": "code",
      "execution_count": 108,
      "id": "apart-richards",
      "metadata": {
        "colab": {
          "base_uri": "https://localhost:8080/",
          "height": 621
        },
        "id": "apart-richards",
        "outputId": "cfa30595-8d94-4d64-f8bd-7aa2025996da"
      },
      "outputs": [
        {
          "output_type": "display_data",
          "data": {
            "image/png": "[encoded data removed]",
            "text/plain": [
              "<Figure size 720x720 with 1 Axes>"
            ]
          },
          "metadata": {
            "needs_background": "light"
          }
        }
      ],
      "source": [
        "fig, ax = plt.subplots(1,1,figsize=(10,10))\n",
        "\n",
        "n_gram_range = [i for i in range(1,6)]\n",
        "\n",
        "ax.plot(n_gram_range,comparision_df[\"BOW\"],\"b-\")\n",
        "ax.plot(n_gram_range,comparision_df[\"TF-IDF\"],\"r-\")\n",
        "\n",
        "ax.title.set_text(\"Comparision of varying N-gram using ROUGE-N recall scores(LSA)\")\n",
        "ax.set_xlabel(\"N-GRAM range\")\n",
        "ax.set_ylabel(\"ROUGE-N recall score\")\n",
        "\n",
        "plt.legend([\"BOW\", \"TF-IDF\"])\n",
        "\n",
        "plt.show()"
      ]
    },
    {
      "cell_type": "code",
      "execution_count": 104,
      "id": "sitting-velvet",
      "metadata": {
        "id": "sitting-velvet"
      },
      "outputs": [],
      "source": [
        ""
      ]
    },
    {
      "cell_type": "code",
      "source": [
        ""
      ],
      "metadata": {
        "id": "Zl3u56YiEfmH"
      },
      "id": "Zl3u56YiEfmH",
      "execution_count": 105,
      "outputs": []
    },
    {
      "cell_type": "markdown",
      "id": "statutory-packet",
      "metadata": {
        "tags": [],
        "id": "statutory-packet"
      },
      "source": [
        "## Generate Features using Word-Embeddings (Next On Line)"
      ]
    },
    {
      "cell_type": "code",
      "execution_count": null,
      "id": "different-calendar",
      "metadata": {
        "colab": {
          "base_uri": "https://localhost:8080/"
        },
        "id": "different-calendar",
        "outputId": "6c298bfa-a4ed-4262-e36b-0730e790274c"
      },
      "outputs": [
        {
          "output_type": "execute_result",
          "data": {
            "text/plain": [
              "['coordinate mw parser output geo default mw parser output geo dm mw parser output geo dec display inline mw parser output geo nondefault mw parser output geo multi punct display none mw parser output longitude mw parser output latitude white space nowrap 40 n 100 w 40 n 100 w 40 100the united state america u usa commonly known united state u u america country primarily located north america',\n",
              " 'consists 50 state federal district five major unincorporated territory 326 indian reservation minor possession',\n",
              " '3 8 million square mile 9 8 million square kilometer world third fourth largest country total area']"
            ]
          },
          "metadata": {},
          "execution_count": 165
        }
      ],
      "source": [
        "pp_article_st[0:3]"
      ]
    },
    {
      "cell_type": "code",
      "execution_count": null,
      "id": "broke-david",
      "metadata": {
        "id": "broke-david"
      },
      "outputs": [],
      "source": [
        "pp_article_st_wt = [word_tokenize(sent) for sent in pp_article_st]"
      ]
    },
    {
      "cell_type": "code",
      "execution_count": null,
      "id": "breathing-michael",
      "metadata": {
        "id": "breathing-michael"
      },
      "outputs": [],
      "source": [
        ""
      ]
    },
    {
      "cell_type": "code",
      "execution_count": null,
      "id": "located-evidence",
      "metadata": {
        "id": "located-evidence"
      },
      "outputs": [],
      "source": [
        "#initialize word to vec\n",
        "w2v_model = Word2Vec(min_count = 5, \n",
        "                     window = 5,\n",
        "                     vector_size=10,\n",
        "                     sample=6e-5,\n",
        "                     alpha=0.001,\n",
        "                     min_alpha = 0.0007,\n",
        "                     negative=10,\n",
        "                     workers=num_cores-2)"
      ]
    },
    {
      "cell_type": "code",
      "execution_count": null,
      "id": "067c130d",
      "metadata": {
        "id": "067c130d"
      },
      "outputs": [],
      "source": [
        ""
      ]
    },
    {
      "cell_type": "code",
      "execution_count": null,
      "id": "caroline-mustang",
      "metadata": {
        "id": "caroline-mustang"
      },
      "outputs": [],
      "source": [
        "w2v_model.build_vocab(pp_article_st_wt,progress_per=10000)"
      ]
    },
    {
      "cell_type": "code",
      "source": [
        "w2v_model.build_vocab(pp_article_st_wt,progress_per=10000)\n",
        "w2v_model.train(pp_article_st_wt, total_examples=w2v_model.corpus_count, epochs=50, report_delay=1)\n"
      ],
      "metadata": {
        "id": "5YlltAo0cW8S",
        "outputId": "c7fb80b2-67c7-4192-e36f-8eb71000af44",
        "colab": {
          "base_uri": "https://localhost:8080/"
        }
      },
      "id": "5YlltAo0cW8S",
      "execution_count": null,
      "outputs": [
        {
          "output_type": "execute_result",
          "data": {
            "text/plain": [
              "(0, 0)"
            ]
          },
          "metadata": {},
          "execution_count": 169
        }
      ]
    },
    {
      "cell_type": "code",
      "execution_count": null,
      "id": "weekly-coach",
      "metadata": {
        "colab": {
          "base_uri": "https://localhost:8080/"
        },
        "id": "weekly-coach",
        "outputId": "c223eef8-b534-4339-b2b6-22fc93e3a6a5"
      },
      "outputs": [
        {
          "output_type": "execute_result",
          "data": {
            "text/plain": [
              "(0, 0)"
            ]
          },
          "metadata": {},
          "execution_count": 170
        }
      ],
      "source": [
        "w2v_model.train(pp_article_st_wt, total_examples=w2v_model.corpus_count, epochs=50, report_delay=1)"
      ]
    },
    {
      "cell_type": "code",
      "execution_count": null,
      "id": "generic-baseball",
      "metadata": {
        "colab": {
          "base_uri": "https://localhost:8080/"
        },
        "id": "generic-baseball",
        "outputId": "3ab75b1b-b288-4038-9512-db5804bb2399"
      },
      "outputs": [
        {
          "output_type": "execute_result",
          "data": {
            "text/plain": [
              "array([ 0.05382323, -0.08485057, -0.01655645, -0.08838222, -0.01641879,\n",
              "        0.05655618, -0.07418299,  0.05510068,  0.06090059, -0.0377048 ],\n",
              "      dtype=float32)"
            ]
          },
          "metadata": {},
          "execution_count": 171
        }
      ],
      "source": [
        "#see embeddings for gas\n",
        "w2v_model.wv[\"gas\"]"
      ]
    },
    {
      "cell_type": "code",
      "execution_count": null,
      "id": "rising-standard",
      "metadata": {
        "colab": {
          "base_uri": "https://localhost:8080/"
        },
        "id": "rising-standard",
        "outputId": "37f5e6ca-854d-4630-c726-e375e6565335"
      },
      "outputs": [
        {
          "output_type": "stream",
          "name": "stdout",
          "text": [
            "(396, 10)\n"
          ]
        }
      ],
      "source": [
        "print(w2v_model.wv.vectors.shape)"
      ]
    },
    {
      "cell_type": "code",
      "source": [
        "EMBEDDING_SIZE = w2v_model.wv.vectors.shape"
      ],
      "metadata": {
        "id": "4pXAZ_t_ERfO"
      },
      "id": "4pXAZ_t_ERfO",
      "execution_count": null,
      "outputs": []
    },
    {
      "cell_type": "code",
      "execution_count": null,
      "id": "operating-contest",
      "metadata": {
        "colab": {
          "base_uri": "https://localhost:8080/"
        },
        "id": "operating-contest",
        "outputId": "03ab857b-6d83-4984-9909-64f2806a9292"
      },
      "outputs": [
        {
          "output_type": "execute_result",
          "data": {
            "text/plain": [
              "array([-0.08619688,  0.03665738,  0.05189884,  0.05741937,  0.07466917,\n",
              "       -0.06167676,  0.01105614,  0.06047282, -0.02840052, -0.06173522],\n",
              "      dtype=float32)"
            ]
          },
          "metadata": {},
          "execution_count": 174
        }
      ],
      "source": [
        "\n",
        "w2v_model.wv[\"state\"]"
      ]
    },
    {
      "cell_type": "code",
      "execution_count": null,
      "id": "isolated-logan",
      "metadata": {
        "id": "isolated-logan"
      },
      "outputs": [],
      "source": [
        "#w2v_model.wv.key_to_index"
      ]
    },
    {
      "cell_type": "code",
      "execution_count": null,
      "id": "needed-sight",
      "metadata": {
        "colab": {
          "base_uri": "https://localhost:8080/"
        },
        "id": "needed-sight",
        "outputId": "3d98e5f3-6f98-4616-cb4d-a1b101316407"
      },
      "outputs": [
        {
          "output_type": "execute_result",
          "data": {
            "text/plain": [
              "dict"
            ]
          },
          "metadata": {},
          "execution_count": 176
        }
      ],
      "source": [
        "type(w2v_model.wv.key_to_index)"
      ]
    },
    {
      "cell_type": "code",
      "execution_count": null,
      "id": "every-discharge",
      "metadata": {
        "id": "every-discharge"
      },
      "outputs": [],
      "source": [
        "#if \"state\" in w2v_model.wv.key_to_index:\n",
        "#    print(\"Yes\")"
      ]
    },
    {
      "cell_type": "code",
      "execution_count": null,
      "id": "regional-serve",
      "metadata": {
        "colab": {
          "base_uri": "https://localhost:8080/"
        },
        "id": "regional-serve",
        "outputId": "ee0607f5-8f87-4eb5-85f6-1da862b0668e"
      },
      "outputs": [
        {
          "output_type": "execute_result",
          "data": {
            "text/plain": [
              "array([ 0.05382323, -0.08485057, -0.01655645, -0.08838222, -0.01641879,\n",
              "        0.05655618, -0.07418299,  0.05510068,  0.06090059, -0.0377048 ],\n",
              "      dtype=float32)"
            ]
          },
          "metadata": {},
          "execution_count": 178
        }
      ],
      "source": [
        "w2v_model.wv[\"gas\"]"
      ]
    },
    {
      "cell_type": "code",
      "source": [
        "np.average(w2v_model.wv[\"gas\"])"
      ],
      "metadata": {
        "colab": {
          "base_uri": "https://localhost:8080/"
        },
        "id": "bbd7WwcXW-q5",
        "outputId": "cfe80503-9c85-4e25-f948-7e19e20c399e"
      },
      "id": "bbd7WwcXW-q5",
      "execution_count": null,
      "outputs": [
        {
          "output_type": "execute_result",
          "data": {
            "text/plain": [
              "-0.009171514"
            ]
          },
          "metadata": {},
          "execution_count": 179
        }
      ]
    },
    {
      "cell_type": "code",
      "source": [
        ""
      ],
      "metadata": {
        "id": "Slpu-izyGOfv"
      },
      "id": "Slpu-izyGOfv",
      "execution_count": null,
      "outputs": []
    },
    {
      "cell_type": "code",
      "execution_count": null,
      "id": "polish-contractor",
      "metadata": {
        "id": "polish-contractor"
      },
      "outputs": [],
      "source": [
        "\n",
        "w2v_model.build_vocab(pp_article_st_wt,progress_per=10000)\n",
        "w2v_model.train(pp_article_st_wt, total_examples=w2v_model.corpus_count, epochs=50, report_delay=1)\n",
        "words = list(w2v_model.wv.index_to_key)\n",
        "word_emb_list = sorted(words)\n",
        "document_term_emb = np.zeros(shape=(len(pp_article_st), len(word_emb_list)))\n",
        "dte_df = pd.DataFrame(document_term_emb)\n",
        "dte_df.columns = word_emb_list\n",
        "for i in range(len(pp_article_st)):\n",
        "  freq_map = Counter(pp_article_st[i])\n",
        "  for word in word_emb_list:\n",
        "    if freq_map[word] > 0:\n",
        "      dte_df[word].iloc[i] = np.average(w2v_model.wv[word])\n",
        "      freq_map[word] -= 1\n",
        "\n"
      ]
    },
    {
      "cell_type": "markdown",
      "id": "e0317348",
      "metadata": {
        "id": "e0317348"
      },
      "source": [
        "## Create Scikit learn pipe line --> from sklearn.pipeline import Pipeline:-->preprocessing-->BOW/TFIDF/WordEmbeddings/----> LSA/LDA"
      ]
    },
    {
      "cell_type": "code",
      "execution_count": null,
      "id": "a08256b2",
      "metadata": {
        "id": "a08256b2"
      },
      "outputs": [],
      "source": [
        "#inputgiven documents---->\n",
        "input_document = [\"I am enjoying this movie\",\n",
        "\"We cannot go from here to there at any time\"]\n",
        "\n",
        "#given embeddings of words:\n",
        "#hashed acess already exists\n",
        "\n",
        "#create feature vector\n"
      ]
    },
    {
      "cell_type": "code",
      "execution_count": null,
      "id": "8012bc05",
      "metadata": {
        "id": "8012bc05"
      },
      "outputs": [],
      "source": [
        "#we_df = pd.DataFrame(np.zeros(shape=(len(pp_article_st), len(word_emb_list))))\n",
        "#we_df.columns = word_emb_list"
      ]
    },
    {
      "cell_type": "code",
      "execution_count": null,
      "id": "d26c876f",
      "metadata": {
        "colab": {
          "base_uri": "https://localhost:8080/",
          "height": 36
        },
        "id": "d26c876f",
        "outputId": "fd6705e1-df72-4281-98bf-4df3c3ce61ef"
      },
      "outputs": [
        {
          "output_type": "execute_result",
          "data": {
            "application/vnd.google.colaboratory.intrinsic+json": {
              "type": "string"
            },
            "text/plain": [
              "'\\ndef generate_embedding_vector(single_sentence):\\n    word_tokens = word_tokenize(single_sentence)\\n'"
            ]
          },
          "metadata": {},
          "execution_count": 192
        }
      ],
      "source": [
        "\"\"\"\n",
        "def generate_embedding_vector(single_sentence):\n",
        "    word_tokens = word_tokenize(single_sentence)\n",
        "\"\"\""
      ]
    },
    {
      "cell_type": "code",
      "execution_count": null,
      "id": "6d0d69d6-115b-4a88-90f6-3be3aa365e4b",
      "metadata": {
        "id": "6d0d69d6-115b-4a88-90f6-3be3aa365e4b"
      },
      "outputs": [],
      "source": [
        "#array of size word 2 vec\n",
        "#features word_emb_list\n",
        "document_term_emb = np.zeros(shape=(len(pp_article_st), len(word_emb_list)))\n",
        "dte_df = pd.DataFrame(document_term_emb)\n",
        "dte_df.columns = word_emb_list\n",
        "for i in range(len(pp_article_st)):\n",
        "  freq_map = Counter(pp_article_st[i])\n",
        "  for word in word_emb_list:\n",
        "    if freq_map[word] > 0:\n",
        "      dte_df[word].iloc[i] = np.average(w2v_model.wv[word])\n",
        "      freq_map[word] -= 1\n"
      ]
    },
    {
      "cell_type": "code",
      "execution_count": null,
      "id": "da0b906a-0634-4b56-b64d-1e7b8194d944",
      "metadata": {
        "colab": {
          "base_uri": "https://localhost:8080/",
          "height": 456
        },
        "id": "da0b906a-0634-4b56-b64d-1e7b8194d944",
        "outputId": "1ed7b3bf-996c-4461-c843-9f53fe3bcfa9"
      },
      "outputs": [
        {
          "output_type": "execute_result",
          "data": {
            "text/html": [
              "\n",
              "  <div id=\"df-63186f11-b748-4fef-9736-025b87dfb110\">\n",
              "    <div class=\"colab-df-container\">\n",
              "      <div>\n",
              "<style scoped>\n",
              "    .dataframe tbody tr th:only-of-type {\n",
              "        vertical-align: middle;\n",
              "    }\n",
              "\n",
              "    .dataframe tbody tr th {\n",
              "        vertical-align: top;\n",
              "    }\n",
              "\n",
              "    .dataframe thead th {\n",
              "        text-align: right;\n",
              "    }\n",
              "</style>\n",
              "<table border=\"1\" class=\"dataframe\">\n",
              "  <thead>\n",
              "    <tr style=\"text-align: right;\">\n",
              "      <th></th>\n",
              "      <th>0</th>\n",
              "      <th>000</th>\n",
              "      <th>1</th>\n",
              "      <th>10</th>\n",
              "      <th>100</th>\n",
              "      <th>12</th>\n",
              "      <th>14</th>\n",
              "      <th>15</th>\n",
              "      <th>16</th>\n",
              "      <th>17</th>\n",
              "      <th>1776</th>\n",
              "      <th>18</th>\n",
              "      <th>18th</th>\n",
              "      <th>19th_century</th>\n",
              "      <th>2</th>\n",
              "      <th>20</th>\n",
              "      <th>2010</th>\n",
              "      <th>2011</th>\n",
              "      <th>2016</th>\n",
              "      <th>2017</th>\n",
              "      <th>2018</th>\n",
              "      <th>2019</th>\n",
              "      <th>2020</th>\n",
              "      <th>2021</th>\n",
              "      <th>20th_century</th>\n",
              "      <th>23</th>\n",
              "      <th>24</th>\n",
              "      <th>28</th>\n",
              "      <th>3</th>\n",
              "      <th>4</th>\n",
              "      <th>40</th>\n",
              "      <th>5</th>\n",
              "      <th>50</th>\n",
              "      <th>6</th>\n",
              "      <th>7</th>\n",
              "      <th>8</th>\n",
              "      <th>9</th>\n",
              "      <th>according</th>\n",
              "      <th>across</th>\n",
              "      <th>act</th>\n",
              "      <th>...</th>\n",
              "      <th>television</th>\n",
              "      <th>term</th>\n",
              "      <th>territory</th>\n",
              "      <th>third</th>\n",
              "      <th>thirteen</th>\n",
              "      <th>though</th>\n",
              "      <th>three</th>\n",
              "      <th>throughout</th>\n",
              "      <th>time</th>\n",
              "      <th>took</th>\n",
              "      <th>top</th>\n",
              "      <th>total</th>\n",
              "      <th>trade</th>\n",
              "      <th>tradition</th>\n",
              "      <th>trillion</th>\n",
              "      <th>two</th>\n",
              "      <th>u</th>\n",
              "      <th>union</th>\n",
              "      <th>united</th>\n",
              "      <th>united_state</th>\n",
              "      <th>university</th>\n",
              "      <th>used</th>\n",
              "      <th>value</th>\n",
              "      <th>vote</th>\n",
              "      <th>w</th>\n",
              "      <th>war</th>\n",
              "      <th>washington</th>\n",
              "      <th>wave</th>\n",
              "      <th>wealth</th>\n",
              "      <th>well</th>\n",
              "      <th>west</th>\n",
              "      <th>western</th>\n",
              "      <th>white</th>\n",
              "      <th>woman</th>\n",
              "      <th>work</th>\n",
              "      <th>worker</th>\n",
              "      <th>world</th>\n",
              "      <th>world_war</th>\n",
              "      <th>would</th>\n",
              "      <th>year</th>\n",
              "    </tr>\n",
              "  </thead>\n",
              "  <tbody>\n",
              "    <tr>\n",
              "      <th>0</th>\n",
              "      <td>0.00163</td>\n",
              "      <td>0.0</td>\n",
              "      <td>0.03156</td>\n",
              "      <td>0.0</td>\n",
              "      <td>0.0</td>\n",
              "      <td>0.0</td>\n",
              "      <td>0.0</td>\n",
              "      <td>0.0</td>\n",
              "      <td>0.0</td>\n",
              "      <td>0.0</td>\n",
              "      <td>0.0</td>\n",
              "      <td>0.0</td>\n",
              "      <td>0.0</td>\n",
              "      <td>0.0</td>\n",
              "      <td>0.000000</td>\n",
              "      <td>0.0</td>\n",
              "      <td>0.0</td>\n",
              "      <td>0.0</td>\n",
              "      <td>0.0</td>\n",
              "      <td>0.0</td>\n",
              "      <td>0.0</td>\n",
              "      <td>0.0</td>\n",
              "      <td>0.0</td>\n",
              "      <td>0.0</td>\n",
              "      <td>0.0</td>\n",
              "      <td>0.0</td>\n",
              "      <td>0.0</td>\n",
              "      <td>0.0</td>\n",
              "      <td>0.000000</td>\n",
              "      <td>0.027198</td>\n",
              "      <td>0.0</td>\n",
              "      <td>0.000000</td>\n",
              "      <td>0.0</td>\n",
              "      <td>0.000000</td>\n",
              "      <td>0.000000</td>\n",
              "      <td>0.000000</td>\n",
              "      <td>0.000000</td>\n",
              "      <td>0.0</td>\n",
              "      <td>0.0</td>\n",
              "      <td>0.0</td>\n",
              "      <td>...</td>\n",
              "      <td>0.0</td>\n",
              "      <td>0.0</td>\n",
              "      <td>0.0</td>\n",
              "      <td>0.0</td>\n",
              "      <td>0.0</td>\n",
              "      <td>0.0</td>\n",
              "      <td>0.0</td>\n",
              "      <td>0.0</td>\n",
              "      <td>0.0</td>\n",
              "      <td>0.0</td>\n",
              "      <td>0.0</td>\n",
              "      <td>0.0</td>\n",
              "      <td>0.0</td>\n",
              "      <td>0.0</td>\n",
              "      <td>0.0</td>\n",
              "      <td>0.0</td>\n",
              "      <td>-0.012677</td>\n",
              "      <td>0.0</td>\n",
              "      <td>0.0</td>\n",
              "      <td>0.0</td>\n",
              "      <td>0.0</td>\n",
              "      <td>0.0</td>\n",
              "      <td>0.0</td>\n",
              "      <td>0.0</td>\n",
              "      <td>0.013975</td>\n",
              "      <td>0.0</td>\n",
              "      <td>0.0</td>\n",
              "      <td>0.0</td>\n",
              "      <td>0.0</td>\n",
              "      <td>0.0</td>\n",
              "      <td>0.0</td>\n",
              "      <td>0.0</td>\n",
              "      <td>0.0</td>\n",
              "      <td>0.0</td>\n",
              "      <td>0.0</td>\n",
              "      <td>0.0</td>\n",
              "      <td>0.0</td>\n",
              "      <td>0.0</td>\n",
              "      <td>0.0</td>\n",
              "      <td>0.0</td>\n",
              "    </tr>\n",
              "    <tr>\n",
              "      <th>1</th>\n",
              "      <td>0.00163</td>\n",
              "      <td>0.0</td>\n",
              "      <td>0.00000</td>\n",
              "      <td>0.0</td>\n",
              "      <td>0.0</td>\n",
              "      <td>0.0</td>\n",
              "      <td>0.0</td>\n",
              "      <td>0.0</td>\n",
              "      <td>0.0</td>\n",
              "      <td>0.0</td>\n",
              "      <td>0.0</td>\n",
              "      <td>0.0</td>\n",
              "      <td>0.0</td>\n",
              "      <td>0.0</td>\n",
              "      <td>0.006857</td>\n",
              "      <td>0.0</td>\n",
              "      <td>0.0</td>\n",
              "      <td>0.0</td>\n",
              "      <td>0.0</td>\n",
              "      <td>0.0</td>\n",
              "      <td>0.0</td>\n",
              "      <td>0.0</td>\n",
              "      <td>0.0</td>\n",
              "      <td>0.0</td>\n",
              "      <td>0.0</td>\n",
              "      <td>0.0</td>\n",
              "      <td>0.0</td>\n",
              "      <td>0.0</td>\n",
              "      <td>-0.008825</td>\n",
              "      <td>0.000000</td>\n",
              "      <td>0.0</td>\n",
              "      <td>0.014984</td>\n",
              "      <td>0.0</td>\n",
              "      <td>0.008896</td>\n",
              "      <td>0.000000</td>\n",
              "      <td>0.000000</td>\n",
              "      <td>0.000000</td>\n",
              "      <td>0.0</td>\n",
              "      <td>0.0</td>\n",
              "      <td>0.0</td>\n",
              "      <td>...</td>\n",
              "      <td>0.0</td>\n",
              "      <td>0.0</td>\n",
              "      <td>0.0</td>\n",
              "      <td>0.0</td>\n",
              "      <td>0.0</td>\n",
              "      <td>0.0</td>\n",
              "      <td>0.0</td>\n",
              "      <td>0.0</td>\n",
              "      <td>0.0</td>\n",
              "      <td>0.0</td>\n",
              "      <td>0.0</td>\n",
              "      <td>0.0</td>\n",
              "      <td>0.0</td>\n",
              "      <td>0.0</td>\n",
              "      <td>0.0</td>\n",
              "      <td>0.0</td>\n",
              "      <td>-0.012677</td>\n",
              "      <td>0.0</td>\n",
              "      <td>0.0</td>\n",
              "      <td>0.0</td>\n",
              "      <td>0.0</td>\n",
              "      <td>0.0</td>\n",
              "      <td>0.0</td>\n",
              "      <td>0.0</td>\n",
              "      <td>0.000000</td>\n",
              "      <td>0.0</td>\n",
              "      <td>0.0</td>\n",
              "      <td>0.0</td>\n",
              "      <td>0.0</td>\n",
              "      <td>0.0</td>\n",
              "      <td>0.0</td>\n",
              "      <td>0.0</td>\n",
              "      <td>0.0</td>\n",
              "      <td>0.0</td>\n",
              "      <td>0.0</td>\n",
              "      <td>0.0</td>\n",
              "      <td>0.0</td>\n",
              "      <td>0.0</td>\n",
              "      <td>0.0</td>\n",
              "      <td>0.0</td>\n",
              "    </tr>\n",
              "    <tr>\n",
              "      <th>2</th>\n",
              "      <td>0.00000</td>\n",
              "      <td>0.0</td>\n",
              "      <td>0.00000</td>\n",
              "      <td>0.0</td>\n",
              "      <td>0.0</td>\n",
              "      <td>0.0</td>\n",
              "      <td>0.0</td>\n",
              "      <td>0.0</td>\n",
              "      <td>0.0</td>\n",
              "      <td>0.0</td>\n",
              "      <td>0.0</td>\n",
              "      <td>0.0</td>\n",
              "      <td>0.0</td>\n",
              "      <td>0.0</td>\n",
              "      <td>0.000000</td>\n",
              "      <td>0.0</td>\n",
              "      <td>0.0</td>\n",
              "      <td>0.0</td>\n",
              "      <td>0.0</td>\n",
              "      <td>0.0</td>\n",
              "      <td>0.0</td>\n",
              "      <td>0.0</td>\n",
              "      <td>0.0</td>\n",
              "      <td>0.0</td>\n",
              "      <td>0.0</td>\n",
              "      <td>0.0</td>\n",
              "      <td>0.0</td>\n",
              "      <td>0.0</td>\n",
              "      <td>-0.008825</td>\n",
              "      <td>0.000000</td>\n",
              "      <td>0.0</td>\n",
              "      <td>0.000000</td>\n",
              "      <td>0.0</td>\n",
              "      <td>0.000000</td>\n",
              "      <td>0.000000</td>\n",
              "      <td>-0.019334</td>\n",
              "      <td>0.041695</td>\n",
              "      <td>0.0</td>\n",
              "      <td>0.0</td>\n",
              "      <td>0.0</td>\n",
              "      <td>...</td>\n",
              "      <td>0.0</td>\n",
              "      <td>0.0</td>\n",
              "      <td>0.0</td>\n",
              "      <td>0.0</td>\n",
              "      <td>0.0</td>\n",
              "      <td>0.0</td>\n",
              "      <td>0.0</td>\n",
              "      <td>0.0</td>\n",
              "      <td>0.0</td>\n",
              "      <td>0.0</td>\n",
              "      <td>0.0</td>\n",
              "      <td>0.0</td>\n",
              "      <td>0.0</td>\n",
              "      <td>0.0</td>\n",
              "      <td>0.0</td>\n",
              "      <td>0.0</td>\n",
              "      <td>-0.012677</td>\n",
              "      <td>0.0</td>\n",
              "      <td>0.0</td>\n",
              "      <td>0.0</td>\n",
              "      <td>0.0</td>\n",
              "      <td>0.0</td>\n",
              "      <td>0.0</td>\n",
              "      <td>0.0</td>\n",
              "      <td>0.013975</td>\n",
              "      <td>0.0</td>\n",
              "      <td>0.0</td>\n",
              "      <td>0.0</td>\n",
              "      <td>0.0</td>\n",
              "      <td>0.0</td>\n",
              "      <td>0.0</td>\n",
              "      <td>0.0</td>\n",
              "      <td>0.0</td>\n",
              "      <td>0.0</td>\n",
              "      <td>0.0</td>\n",
              "      <td>0.0</td>\n",
              "      <td>0.0</td>\n",
              "      <td>0.0</td>\n",
              "      <td>0.0</td>\n",
              "      <td>0.0</td>\n",
              "    </tr>\n",
              "    <tr>\n",
              "      <th>3</th>\n",
              "      <td>0.00000</td>\n",
              "      <td>0.0</td>\n",
              "      <td>0.00000</td>\n",
              "      <td>0.0</td>\n",
              "      <td>0.0</td>\n",
              "      <td>0.0</td>\n",
              "      <td>0.0</td>\n",
              "      <td>0.0</td>\n",
              "      <td>0.0</td>\n",
              "      <td>0.0</td>\n",
              "      <td>0.0</td>\n",
              "      <td>0.0</td>\n",
              "      <td>0.0</td>\n",
              "      <td>0.0</td>\n",
              "      <td>0.000000</td>\n",
              "      <td>0.0</td>\n",
              "      <td>0.0</td>\n",
              "      <td>0.0</td>\n",
              "      <td>0.0</td>\n",
              "      <td>0.0</td>\n",
              "      <td>0.0</td>\n",
              "      <td>0.0</td>\n",
              "      <td>0.0</td>\n",
              "      <td>0.0</td>\n",
              "      <td>0.0</td>\n",
              "      <td>0.0</td>\n",
              "      <td>0.0</td>\n",
              "      <td>0.0</td>\n",
              "      <td>0.000000</td>\n",
              "      <td>0.000000</td>\n",
              "      <td>0.0</td>\n",
              "      <td>0.000000</td>\n",
              "      <td>0.0</td>\n",
              "      <td>0.000000</td>\n",
              "      <td>0.000000</td>\n",
              "      <td>0.000000</td>\n",
              "      <td>0.000000</td>\n",
              "      <td>0.0</td>\n",
              "      <td>0.0</td>\n",
              "      <td>0.0</td>\n",
              "      <td>...</td>\n",
              "      <td>0.0</td>\n",
              "      <td>0.0</td>\n",
              "      <td>0.0</td>\n",
              "      <td>0.0</td>\n",
              "      <td>0.0</td>\n",
              "      <td>0.0</td>\n",
              "      <td>0.0</td>\n",
              "      <td>0.0</td>\n",
              "      <td>0.0</td>\n",
              "      <td>0.0</td>\n",
              "      <td>0.0</td>\n",
              "      <td>0.0</td>\n",
              "      <td>0.0</td>\n",
              "      <td>0.0</td>\n",
              "      <td>0.0</td>\n",
              "      <td>0.0</td>\n",
              "      <td>-0.012677</td>\n",
              "      <td>0.0</td>\n",
              "      <td>0.0</td>\n",
              "      <td>0.0</td>\n",
              "      <td>0.0</td>\n",
              "      <td>0.0</td>\n",
              "      <td>0.0</td>\n",
              "      <td>0.0</td>\n",
              "      <td>0.013975</td>\n",
              "      <td>0.0</td>\n",
              "      <td>0.0</td>\n",
              "      <td>0.0</td>\n",
              "      <td>0.0</td>\n",
              "      <td>0.0</td>\n",
              "      <td>0.0</td>\n",
              "      <td>0.0</td>\n",
              "      <td>0.0</td>\n",
              "      <td>0.0</td>\n",
              "      <td>0.0</td>\n",
              "      <td>0.0</td>\n",
              "      <td>0.0</td>\n",
              "      <td>0.0</td>\n",
              "      <td>0.0</td>\n",
              "      <td>0.0</td>\n",
              "    </tr>\n",
              "    <tr>\n",
              "      <th>4</th>\n",
              "      <td>0.00000</td>\n",
              "      <td>0.0</td>\n",
              "      <td>0.03156</td>\n",
              "      <td>0.0</td>\n",
              "      <td>0.0</td>\n",
              "      <td>0.0</td>\n",
              "      <td>0.0</td>\n",
              "      <td>0.0</td>\n",
              "      <td>0.0</td>\n",
              "      <td>0.0</td>\n",
              "      <td>0.0</td>\n",
              "      <td>0.0</td>\n",
              "      <td>0.0</td>\n",
              "      <td>0.0</td>\n",
              "      <td>0.000000</td>\n",
              "      <td>0.0</td>\n",
              "      <td>0.0</td>\n",
              "      <td>0.0</td>\n",
              "      <td>0.0</td>\n",
              "      <td>0.0</td>\n",
              "      <td>0.0</td>\n",
              "      <td>0.0</td>\n",
              "      <td>0.0</td>\n",
              "      <td>0.0</td>\n",
              "      <td>0.0</td>\n",
              "      <td>0.0</td>\n",
              "      <td>0.0</td>\n",
              "      <td>0.0</td>\n",
              "      <td>-0.008825</td>\n",
              "      <td>0.000000</td>\n",
              "      <td>0.0</td>\n",
              "      <td>0.000000</td>\n",
              "      <td>0.0</td>\n",
              "      <td>0.000000</td>\n",
              "      <td>0.000000</td>\n",
              "      <td>0.000000</td>\n",
              "      <td>0.000000</td>\n",
              "      <td>0.0</td>\n",
              "      <td>0.0</td>\n",
              "      <td>0.0</td>\n",
              "      <td>...</td>\n",
              "      <td>0.0</td>\n",
              "      <td>0.0</td>\n",
              "      <td>0.0</td>\n",
              "      <td>0.0</td>\n",
              "      <td>0.0</td>\n",
              "      <td>0.0</td>\n",
              "      <td>0.0</td>\n",
              "      <td>0.0</td>\n",
              "      <td>0.0</td>\n",
              "      <td>0.0</td>\n",
              "      <td>0.0</td>\n",
              "      <td>0.0</td>\n",
              "      <td>0.0</td>\n",
              "      <td>0.0</td>\n",
              "      <td>0.0</td>\n",
              "      <td>0.0</td>\n",
              "      <td>-0.012677</td>\n",
              "      <td>0.0</td>\n",
              "      <td>0.0</td>\n",
              "      <td>0.0</td>\n",
              "      <td>0.0</td>\n",
              "      <td>0.0</td>\n",
              "      <td>0.0</td>\n",
              "      <td>0.0</td>\n",
              "      <td>0.013975</td>\n",
              "      <td>0.0</td>\n",
              "      <td>0.0</td>\n",
              "      <td>0.0</td>\n",
              "      <td>0.0</td>\n",
              "      <td>0.0</td>\n",
              "      <td>0.0</td>\n",
              "      <td>0.0</td>\n",
              "      <td>0.0</td>\n",
              "      <td>0.0</td>\n",
              "      <td>0.0</td>\n",
              "      <td>0.0</td>\n",
              "      <td>0.0</td>\n",
              "      <td>0.0</td>\n",
              "      <td>0.0</td>\n",
              "      <td>0.0</td>\n",
              "    </tr>\n",
              "    <tr>\n",
              "      <th>5</th>\n",
              "      <td>0.00000</td>\n",
              "      <td>0.0</td>\n",
              "      <td>0.00000</td>\n",
              "      <td>0.0</td>\n",
              "      <td>0.0</td>\n",
              "      <td>0.0</td>\n",
              "      <td>0.0</td>\n",
              "      <td>0.0</td>\n",
              "      <td>0.0</td>\n",
              "      <td>0.0</td>\n",
              "      <td>0.0</td>\n",
              "      <td>0.0</td>\n",
              "      <td>0.0</td>\n",
              "      <td>0.0</td>\n",
              "      <td>0.000000</td>\n",
              "      <td>0.0</td>\n",
              "      <td>0.0</td>\n",
              "      <td>0.0</td>\n",
              "      <td>0.0</td>\n",
              "      <td>0.0</td>\n",
              "      <td>0.0</td>\n",
              "      <td>0.0</td>\n",
              "      <td>0.0</td>\n",
              "      <td>0.0</td>\n",
              "      <td>0.0</td>\n",
              "      <td>0.0</td>\n",
              "      <td>0.0</td>\n",
              "      <td>0.0</td>\n",
              "      <td>0.000000</td>\n",
              "      <td>0.000000</td>\n",
              "      <td>0.0</td>\n",
              "      <td>0.000000</td>\n",
              "      <td>0.0</td>\n",
              "      <td>0.000000</td>\n",
              "      <td>0.000000</td>\n",
              "      <td>0.000000</td>\n",
              "      <td>0.000000</td>\n",
              "      <td>0.0</td>\n",
              "      <td>0.0</td>\n",
              "      <td>0.0</td>\n",
              "      <td>...</td>\n",
              "      <td>0.0</td>\n",
              "      <td>0.0</td>\n",
              "      <td>0.0</td>\n",
              "      <td>0.0</td>\n",
              "      <td>0.0</td>\n",
              "      <td>0.0</td>\n",
              "      <td>0.0</td>\n",
              "      <td>0.0</td>\n",
              "      <td>0.0</td>\n",
              "      <td>0.0</td>\n",
              "      <td>0.0</td>\n",
              "      <td>0.0</td>\n",
              "      <td>0.0</td>\n",
              "      <td>0.0</td>\n",
              "      <td>0.0</td>\n",
              "      <td>0.0</td>\n",
              "      <td>-0.012677</td>\n",
              "      <td>0.0</td>\n",
              "      <td>0.0</td>\n",
              "      <td>0.0</td>\n",
              "      <td>0.0</td>\n",
              "      <td>0.0</td>\n",
              "      <td>0.0</td>\n",
              "      <td>0.0</td>\n",
              "      <td>0.013975</td>\n",
              "      <td>0.0</td>\n",
              "      <td>0.0</td>\n",
              "      <td>0.0</td>\n",
              "      <td>0.0</td>\n",
              "      <td>0.0</td>\n",
              "      <td>0.0</td>\n",
              "      <td>0.0</td>\n",
              "      <td>0.0</td>\n",
              "      <td>0.0</td>\n",
              "      <td>0.0</td>\n",
              "      <td>0.0</td>\n",
              "      <td>0.0</td>\n",
              "      <td>0.0</td>\n",
              "      <td>0.0</td>\n",
              "      <td>0.0</td>\n",
              "    </tr>\n",
              "    <tr>\n",
              "      <th>6</th>\n",
              "      <td>0.00163</td>\n",
              "      <td>0.0</td>\n",
              "      <td>0.03156</td>\n",
              "      <td>0.0</td>\n",
              "      <td>0.0</td>\n",
              "      <td>0.0</td>\n",
              "      <td>0.0</td>\n",
              "      <td>0.0</td>\n",
              "      <td>0.0</td>\n",
              "      <td>0.0</td>\n",
              "      <td>0.0</td>\n",
              "      <td>0.0</td>\n",
              "      <td>0.0</td>\n",
              "      <td>0.0</td>\n",
              "      <td>0.006857</td>\n",
              "      <td>0.0</td>\n",
              "      <td>0.0</td>\n",
              "      <td>0.0</td>\n",
              "      <td>0.0</td>\n",
              "      <td>0.0</td>\n",
              "      <td>0.0</td>\n",
              "      <td>0.0</td>\n",
              "      <td>0.0</td>\n",
              "      <td>0.0</td>\n",
              "      <td>0.0</td>\n",
              "      <td>0.0</td>\n",
              "      <td>0.0</td>\n",
              "      <td>0.0</td>\n",
              "      <td>0.000000</td>\n",
              "      <td>0.000000</td>\n",
              "      <td>0.0</td>\n",
              "      <td>0.000000</td>\n",
              "      <td>0.0</td>\n",
              "      <td>0.008896</td>\n",
              "      <td>0.000000</td>\n",
              "      <td>0.000000</td>\n",
              "      <td>0.000000</td>\n",
              "      <td>0.0</td>\n",
              "      <td>0.0</td>\n",
              "      <td>0.0</td>\n",
              "      <td>...</td>\n",
              "      <td>0.0</td>\n",
              "      <td>0.0</td>\n",
              "      <td>0.0</td>\n",
              "      <td>0.0</td>\n",
              "      <td>0.0</td>\n",
              "      <td>0.0</td>\n",
              "      <td>0.0</td>\n",
              "      <td>0.0</td>\n",
              "      <td>0.0</td>\n",
              "      <td>0.0</td>\n",
              "      <td>0.0</td>\n",
              "      <td>0.0</td>\n",
              "      <td>0.0</td>\n",
              "      <td>0.0</td>\n",
              "      <td>0.0</td>\n",
              "      <td>0.0</td>\n",
              "      <td>-0.012677</td>\n",
              "      <td>0.0</td>\n",
              "      <td>0.0</td>\n",
              "      <td>0.0</td>\n",
              "      <td>0.0</td>\n",
              "      <td>0.0</td>\n",
              "      <td>0.0</td>\n",
              "      <td>0.0</td>\n",
              "      <td>0.000000</td>\n",
              "      <td>0.0</td>\n",
              "      <td>0.0</td>\n",
              "      <td>0.0</td>\n",
              "      <td>0.0</td>\n",
              "      <td>0.0</td>\n",
              "      <td>0.0</td>\n",
              "      <td>0.0</td>\n",
              "      <td>0.0</td>\n",
              "      <td>0.0</td>\n",
              "      <td>0.0</td>\n",
              "      <td>0.0</td>\n",
              "      <td>0.0</td>\n",
              "      <td>0.0</td>\n",
              "      <td>0.0</td>\n",
              "      <td>0.0</td>\n",
              "    </tr>\n",
              "    <tr>\n",
              "      <th>7</th>\n",
              "      <td>0.00000</td>\n",
              "      <td>0.0</td>\n",
              "      <td>0.00000</td>\n",
              "      <td>0.0</td>\n",
              "      <td>0.0</td>\n",
              "      <td>0.0</td>\n",
              "      <td>0.0</td>\n",
              "      <td>0.0</td>\n",
              "      <td>0.0</td>\n",
              "      <td>0.0</td>\n",
              "      <td>0.0</td>\n",
              "      <td>0.0</td>\n",
              "      <td>0.0</td>\n",
              "      <td>0.0</td>\n",
              "      <td>0.000000</td>\n",
              "      <td>0.0</td>\n",
              "      <td>0.0</td>\n",
              "      <td>0.0</td>\n",
              "      <td>0.0</td>\n",
              "      <td>0.0</td>\n",
              "      <td>0.0</td>\n",
              "      <td>0.0</td>\n",
              "      <td>0.0</td>\n",
              "      <td>0.0</td>\n",
              "      <td>0.0</td>\n",
              "      <td>0.0</td>\n",
              "      <td>0.0</td>\n",
              "      <td>0.0</td>\n",
              "      <td>0.000000</td>\n",
              "      <td>0.000000</td>\n",
              "      <td>0.0</td>\n",
              "      <td>0.000000</td>\n",
              "      <td>0.0</td>\n",
              "      <td>0.000000</td>\n",
              "      <td>0.000000</td>\n",
              "      <td>0.000000</td>\n",
              "      <td>0.000000</td>\n",
              "      <td>0.0</td>\n",
              "      <td>0.0</td>\n",
              "      <td>0.0</td>\n",
              "      <td>...</td>\n",
              "      <td>0.0</td>\n",
              "      <td>0.0</td>\n",
              "      <td>0.0</td>\n",
              "      <td>0.0</td>\n",
              "      <td>0.0</td>\n",
              "      <td>0.0</td>\n",
              "      <td>0.0</td>\n",
              "      <td>0.0</td>\n",
              "      <td>0.0</td>\n",
              "      <td>0.0</td>\n",
              "      <td>0.0</td>\n",
              "      <td>0.0</td>\n",
              "      <td>0.0</td>\n",
              "      <td>0.0</td>\n",
              "      <td>0.0</td>\n",
              "      <td>0.0</td>\n",
              "      <td>-0.012677</td>\n",
              "      <td>0.0</td>\n",
              "      <td>0.0</td>\n",
              "      <td>0.0</td>\n",
              "      <td>0.0</td>\n",
              "      <td>0.0</td>\n",
              "      <td>0.0</td>\n",
              "      <td>0.0</td>\n",
              "      <td>0.000000</td>\n",
              "      <td>0.0</td>\n",
              "      <td>0.0</td>\n",
              "      <td>0.0</td>\n",
              "      <td>0.0</td>\n",
              "      <td>0.0</td>\n",
              "      <td>0.0</td>\n",
              "      <td>0.0</td>\n",
              "      <td>0.0</td>\n",
              "      <td>0.0</td>\n",
              "      <td>0.0</td>\n",
              "      <td>0.0</td>\n",
              "      <td>0.0</td>\n",
              "      <td>0.0</td>\n",
              "      <td>0.0</td>\n",
              "      <td>0.0</td>\n",
              "    </tr>\n",
              "    <tr>\n",
              "      <th>8</th>\n",
              "      <td>0.00000</td>\n",
              "      <td>0.0</td>\n",
              "      <td>0.03156</td>\n",
              "      <td>0.0</td>\n",
              "      <td>0.0</td>\n",
              "      <td>0.0</td>\n",
              "      <td>0.0</td>\n",
              "      <td>0.0</td>\n",
              "      <td>0.0</td>\n",
              "      <td>0.0</td>\n",
              "      <td>0.0</td>\n",
              "      <td>0.0</td>\n",
              "      <td>0.0</td>\n",
              "      <td>0.0</td>\n",
              "      <td>0.000000</td>\n",
              "      <td>0.0</td>\n",
              "      <td>0.0</td>\n",
              "      <td>0.0</td>\n",
              "      <td>0.0</td>\n",
              "      <td>0.0</td>\n",
              "      <td>0.0</td>\n",
              "      <td>0.0</td>\n",
              "      <td>0.0</td>\n",
              "      <td>0.0</td>\n",
              "      <td>0.0</td>\n",
              "      <td>0.0</td>\n",
              "      <td>0.0</td>\n",
              "      <td>0.0</td>\n",
              "      <td>-0.008825</td>\n",
              "      <td>0.000000</td>\n",
              "      <td>0.0</td>\n",
              "      <td>0.014984</td>\n",
              "      <td>0.0</td>\n",
              "      <td>0.000000</td>\n",
              "      <td>0.004718</td>\n",
              "      <td>-0.019334</td>\n",
              "      <td>0.000000</td>\n",
              "      <td>0.0</td>\n",
              "      <td>0.0</td>\n",
              "      <td>0.0</td>\n",
              "      <td>...</td>\n",
              "      <td>0.0</td>\n",
              "      <td>0.0</td>\n",
              "      <td>0.0</td>\n",
              "      <td>0.0</td>\n",
              "      <td>0.0</td>\n",
              "      <td>0.0</td>\n",
              "      <td>0.0</td>\n",
              "      <td>0.0</td>\n",
              "      <td>0.0</td>\n",
              "      <td>0.0</td>\n",
              "      <td>0.0</td>\n",
              "      <td>0.0</td>\n",
              "      <td>0.0</td>\n",
              "      <td>0.0</td>\n",
              "      <td>0.0</td>\n",
              "      <td>0.0</td>\n",
              "      <td>-0.012677</td>\n",
              "      <td>0.0</td>\n",
              "      <td>0.0</td>\n",
              "      <td>0.0</td>\n",
              "      <td>0.0</td>\n",
              "      <td>0.0</td>\n",
              "      <td>0.0</td>\n",
              "      <td>0.0</td>\n",
              "      <td>0.013975</td>\n",
              "      <td>0.0</td>\n",
              "      <td>0.0</td>\n",
              "      <td>0.0</td>\n",
              "      <td>0.0</td>\n",
              "      <td>0.0</td>\n",
              "      <td>0.0</td>\n",
              "      <td>0.0</td>\n",
              "      <td>0.0</td>\n",
              "      <td>0.0</td>\n",
              "      <td>0.0</td>\n",
              "      <td>0.0</td>\n",
              "      <td>0.0</td>\n",
              "      <td>0.0</td>\n",
              "      <td>0.0</td>\n",
              "      <td>0.0</td>\n",
              "    </tr>\n",
              "    <tr>\n",
              "      <th>9</th>\n",
              "      <td>0.00000</td>\n",
              "      <td>0.0</td>\n",
              "      <td>0.03156</td>\n",
              "      <td>0.0</td>\n",
              "      <td>0.0</td>\n",
              "      <td>0.0</td>\n",
              "      <td>0.0</td>\n",
              "      <td>0.0</td>\n",
              "      <td>0.0</td>\n",
              "      <td>0.0</td>\n",
              "      <td>0.0</td>\n",
              "      <td>0.0</td>\n",
              "      <td>0.0</td>\n",
              "      <td>0.0</td>\n",
              "      <td>0.000000</td>\n",
              "      <td>0.0</td>\n",
              "      <td>0.0</td>\n",
              "      <td>0.0</td>\n",
              "      <td>0.0</td>\n",
              "      <td>0.0</td>\n",
              "      <td>0.0</td>\n",
              "      <td>0.0</td>\n",
              "      <td>0.0</td>\n",
              "      <td>0.0</td>\n",
              "      <td>0.0</td>\n",
              "      <td>0.0</td>\n",
              "      <td>0.0</td>\n",
              "      <td>0.0</td>\n",
              "      <td>0.000000</td>\n",
              "      <td>0.027198</td>\n",
              "      <td>0.0</td>\n",
              "      <td>0.000000</td>\n",
              "      <td>0.0</td>\n",
              "      <td>0.000000</td>\n",
              "      <td>0.000000</td>\n",
              "      <td>-0.019334</td>\n",
              "      <td>0.000000</td>\n",
              "      <td>0.0</td>\n",
              "      <td>0.0</td>\n",
              "      <td>0.0</td>\n",
              "      <td>...</td>\n",
              "      <td>0.0</td>\n",
              "      <td>0.0</td>\n",
              "      <td>0.0</td>\n",
              "      <td>0.0</td>\n",
              "      <td>0.0</td>\n",
              "      <td>0.0</td>\n",
              "      <td>0.0</td>\n",
              "      <td>0.0</td>\n",
              "      <td>0.0</td>\n",
              "      <td>0.0</td>\n",
              "      <td>0.0</td>\n",
              "      <td>0.0</td>\n",
              "      <td>0.0</td>\n",
              "      <td>0.0</td>\n",
              "      <td>0.0</td>\n",
              "      <td>0.0</td>\n",
              "      <td>-0.012677</td>\n",
              "      <td>0.0</td>\n",
              "      <td>0.0</td>\n",
              "      <td>0.0</td>\n",
              "      <td>0.0</td>\n",
              "      <td>0.0</td>\n",
              "      <td>0.0</td>\n",
              "      <td>0.0</td>\n",
              "      <td>0.013975</td>\n",
              "      <td>0.0</td>\n",
              "      <td>0.0</td>\n",
              "      <td>0.0</td>\n",
              "      <td>0.0</td>\n",
              "      <td>0.0</td>\n",
              "      <td>0.0</td>\n",
              "      <td>0.0</td>\n",
              "      <td>0.0</td>\n",
              "      <td>0.0</td>\n",
              "      <td>0.0</td>\n",
              "      <td>0.0</td>\n",
              "      <td>0.0</td>\n",
              "      <td>0.0</td>\n",
              "      <td>0.0</td>\n",
              "      <td>0.0</td>\n",
              "    </tr>\n",
              "  </tbody>\n",
              "</table>\n",
              "<p>10 rows × 401 columns</p>\n",
              "</div>\n",
              "      <button class=\"colab-df-convert\" onclick=\"convertToInteractive('df-63186f11-b748-4fef-9736-025b87dfb110')\"\n",
              "              title=\"Convert this dataframe to an interactive table.\"\n",
              "              style=\"display:none;\">\n",
              "        \n",
              "  <svg xmlns=\"http://www.w3.org/2000/svg\" height=\"24px\"viewBox=\"0 0 24 24\"\n",
              "       width=\"24px\">\n",
              "    <path d=\"M0 0h24v24H0V0z\" fill=\"none\"/>\n",
              "    <path d=\"M18.56 5.44l.94 2.06.94-2.06 2.06-.94-2.06-.94-.94-2.06-.94 2.06-2.06.94zm-11 1L8.5 8.5l.94-2.06 2.06-.94-2.06-.94L8.5 2.5l-.94 2.06-2.06.94zm10 10l.94 2.06.94-2.06 2.06-.94-2.06-.94-.94-2.06-.94 2.06-2.06.94z\"/><path d=\"M17.41 7.96l-1.37-1.37c-.4-.4-.92-.59-1.43-.59-.52 0-1.04.2-1.43.59L10.3 9.45l-7.72 7.72c-.78.78-.78 2.05 0 2.83L4 21.41c.39.39.9.59 1.41.59.51 0 1.02-.2 1.41-.59l7.78-7.78 2.81-2.81c.8-.78.8-2.07 0-2.86zM5.41 20L4 18.59l7.72-7.72 1.47 1.35L5.41 20z\"/>\n",
              "  </svg>\n",
              "      </button>\n",
              "      \n",
              "  <style>\n",
              "    .colab-df-container {\n",
              "      display:flex;\n",
              "      flex-wrap:wrap;\n",
              "      gap: 12px;\n",
              "    }\n",
              "\n",
              "    .colab-df-convert {\n",
              "      background-color: #E8F0FE;\n",
              "      border: none;\n",
              "      border-radius: 50%;\n",
              "      cursor: pointer;\n",
              "      display: none;\n",
              "      fill: #1967D2;\n",
              "      height: 32px;\n",
              "      padding: 0 0 0 0;\n",
              "      width: 32px;\n",
              "    }\n",
              "\n",
              "    .colab-df-convert:hover {\n",
              "      background-color: #E2EBFA;\n",
              "      box-shadow: 0px 1px 2px rgba(60, 64, 67, 0.3), 0px 1px 3px 1px rgba(60, 64, 67, 0.15);\n",
              "      fill: #174EA6;\n",
              "    }\n",
              "\n",
              "    [theme=dark] .colab-df-convert {\n",
              "      background-color: #3B4455;\n",
              "      fill: #D2E3FC;\n",
              "    }\n",
              "\n",
              "    [theme=dark] .colab-df-convert:hover {\n",
              "      background-color: #434B5C;\n",
              "      box-shadow: 0px 1px 3px 1px rgba(0, 0, 0, 0.15);\n",
              "      filter: drop-shadow(0px 1px 2px rgba(0, 0, 0, 0.3));\n",
              "      fill: #FFFFFF;\n",
              "    }\n",
              "  </style>\n",
              "\n",
              "      <script>\n",
              "        const buttonEl =\n",
              "          document.querySelector('#df-63186f11-b748-4fef-9736-025b87dfb110 button.colab-df-convert');\n",
              "        buttonEl.style.display =\n",
              "          google.colab.kernel.accessAllowed ? 'block' : 'none';\n",
              "\n",
              "        async function convertToInteractive(key) {\n",
              "          const element = document.querySelector('#df-63186f11-b748-4fef-9736-025b87dfb110');\n",
              "          const dataTable =\n",
              "            await google.colab.kernel.invokeFunction('convertToInteractive',\n",
              "                                                     [key], {});\n",
              "          if (!dataTable) return;\n",
              "\n",
              "          const docLinkHtml = 'Like what you see? Visit the ' +\n",
              "            '<a target=\"_blank\" href=https://colab.research.google.com/notebooks/data_table.ipynb>data table notebook</a>'\n",
              "            + ' to learn more about interactive tables.';\n",
              "          element.innerHTML = '';\n",
              "          dataTable['output_type'] = 'display_data';\n",
              "          await google.colab.output.renderOutput(dataTable, element);\n",
              "          const docLink = document.createElement('div');\n",
              "          docLink.innerHTML = docLinkHtml;\n",
              "          element.appendChild(docLink);\n",
              "        }\n",
              "      </script>\n",
              "    </div>\n",
              "  </div>\n",
              "  "
            ],
            "text/plain": [
              "         0  000        1   10  100  ...  worker  world  world_war  would  year\n",
              "0  0.00163  0.0  0.03156  0.0  0.0  ...     0.0    0.0        0.0    0.0   0.0\n",
              "1  0.00163  0.0  0.00000  0.0  0.0  ...     0.0    0.0        0.0    0.0   0.0\n",
              "2  0.00000  0.0  0.00000  0.0  0.0  ...     0.0    0.0        0.0    0.0   0.0\n",
              "3  0.00000  0.0  0.00000  0.0  0.0  ...     0.0    0.0        0.0    0.0   0.0\n",
              "4  0.00000  0.0  0.03156  0.0  0.0  ...     0.0    0.0        0.0    0.0   0.0\n",
              "5  0.00000  0.0  0.00000  0.0  0.0  ...     0.0    0.0        0.0    0.0   0.0\n",
              "6  0.00163  0.0  0.03156  0.0  0.0  ...     0.0    0.0        0.0    0.0   0.0\n",
              "7  0.00000  0.0  0.00000  0.0  0.0  ...     0.0    0.0        0.0    0.0   0.0\n",
              "8  0.00000  0.0  0.03156  0.0  0.0  ...     0.0    0.0        0.0    0.0   0.0\n",
              "9  0.00000  0.0  0.03156  0.0  0.0  ...     0.0    0.0        0.0    0.0   0.0\n",
              "\n",
              "[10 rows x 401 columns]"
            ]
          },
          "metadata": {},
          "execution_count": 194
        }
      ],
      "source": [
        "dte_df.head(10)"
      ]
    },
    {
      "cell_type": "code",
      "execution_count": null,
      "id": "27a43174",
      "metadata": {
        "colab": {
          "base_uri": "https://localhost:8080/"
        },
        "id": "27a43174",
        "outputId": "ae367bf0-5102-49bd-aa63-7021c4f9af19"
      },
      "outputs": [
        {
          "output_type": "execute_result",
          "data": {
            "text/plain": [
              "['coordinate mw parser output geo default mw parser output geo dm mw parser output geo dec display inline mw parser output geo nondefault mw parser output geo multi punct display none mw parser output longitude mw parser output latitude white space nowrap 40 n 100 w 40 n 100 w 40 100the united state america u usa commonly known united state u u america country primarily located north america',\n",
              " 'consists 50 state federal district five major unincorporated territory 326 indian reservation minor possession',\n",
              " '3 8 million square mile 9 8 million square kilometer world third fourth largest country total area',\n",
              " 'united state share significant land border canada north mexico south well limited maritime border bahamas cuba russia',\n",
              " 'population 331 million people third populous country world',\n",
              " 'national capital washington c populous city new york city',\n",
              " 'paleo indian migrated siberia north american mainland least 12 000 year ago european colonization began 16th century',\n",
              " 'united state emerged thirteen british colony established along east coast',\n",
              " 'dispute great britain taxation political representation led american revolutionary war 1775 1783 established nation independence',\n",
              " 'late 18th century u began expanding across north america gradually obtaining new territory sometimes war frequently displacing native american admitting new state 1848 united state spanned continent']"
            ]
          },
          "metadata": {},
          "execution_count": 195
        }
      ],
      "source": [
        "pp_article_st[0:10]"
      ]
    },
    {
      "cell_type": "code",
      "source": [
        ""
      ],
      "metadata": {
        "id": "YhEo_nseWnNu"
      },
      "id": "YhEo_nseWnNu",
      "execution_count": null,
      "outputs": []
    },
    {
      "cell_type": "code",
      "source": [
        ""
      ],
      "metadata": {
        "id": "zJuXzwBYWsr7"
      },
      "id": "zJuXzwBYWsr7",
      "execution_count": null,
      "outputs": []
    },
    {
      "cell_type": "code",
      "execution_count": null,
      "id": "6265e9c6",
      "metadata": {
        "id": "6265e9c6"
      },
      "outputs": [],
      "source": [
        "for i in range(len(pp_article_st)):\n",
        "  freq_map = Counter(pp_article_st[i])\n",
        "  for word in word_emb_list:\n",
        "    if freq_map[word] > 0:\n",
        "      dte_df[word].iloc[i] += np.average(w2v_model.wv[word])\n",
        "      freq_map[word] -= 1"
      ]
    },
    {
      "cell_type": "code",
      "source": [
        ""
      ],
      "metadata": {
        "id": "62jGuwMAZJl_"
      },
      "id": "62jGuwMAZJl_",
      "execution_count": null,
      "outputs": []
    },
    {
      "cell_type": "code",
      "source": [
        ""
      ],
      "metadata": {
        "id": "X6dtmHV0ZNyJ"
      },
      "id": "X6dtmHV0ZNyJ",
      "execution_count": null,
      "outputs": []
    },
    {
      "cell_type": "code",
      "execution_count": null,
      "id": "9063bd06",
      "metadata": {
        "colab": {
          "base_uri": "https://localhost:8080/",
          "height": 205
        },
        "id": "9063bd06",
        "outputId": "299b7cc8-dcb8-4a9e-d993-2e8019ea8fa4"
      },
      "outputs": [
        {
          "output_type": "stream",
          "name": "stdout",
          "text": [
            "Number of Lines in Summary: 10 \n",
            "\n"
          ]
        },
        {
          "output_type": "execute_result",
          "data": {
            "application/vnd.google.colaboratory.intrinsic+json": {
              "type": "string"
            },
            "text/plain": [
              "'[288] defense\\'s share of the overall u.s. economy has generally declined in recent decades, from early cold war peaks of 14.2% of gdp in 1953 and 69.5% of federal spending in 1954 to 4.7% of gdp and 18.8% of federal spending in 2011. [540]\\nin 1998, the number of u.s. commercial radio stations had grown to 4,793 am stations and 5,662 fm stations. [86] the 1803 louisiana purchase almost doubled the nation\\'s area,[87] spain ceded florida and other gulf coast territory in 1819,[88] the republic of texas was annexed in 1845 during a period of expansionism,[89] and the 1846 oregon treaty with britain led to u.s. control of the present-day american northwest. [424]\\nthe centers for disease control and prevention (cdc) reported that the united states had an average life expectancy at birth of 77.3 years in 2020 (74.5 years for men and 80.2 years for women), down 1.5 years from 2019. according to provisional figures, this was the lowest average u.s. life expectancy recorded by the cdc since 2003, the first overall decline since 2018, and \"the largest one-year decline since world war ii.\" [195] the united states is home to 428 mammal species, 784 bird species, 311 reptile species, and 295 amphibian species,[196] as well as about 91,000 insect species. [296] the department of justice said that the imprisonment rate for all prisoners sentenced to more than a year in state or federal facilities in 2019 stood at 419 per 100,000 residents which was at its lowest point since 1995 and that the total prison population for the same year stood at 1,430,800 which represented an 11% decrease in the population size from a decade earlier. since the general election of 1856, the major parties have been the democratic party, founded in 1824, and the republican party, founded in 1854. since the civil war, only one third-party presidential candidate—former president theodore roosevelt, running as a progressive in 1912—has won as much as 20% of the popular vote, though the self-financed reform party campaign of ross perot took 18.9% in 1992. [175]\\nthe 48 contiguous states and the district of columbia occupy a combined area of 3,119,885 square miles (8,080,470\\xa0km2). notable films topping the american film institute\\'s afi 100 list include orson welles\\'s citizen kane (1941), which is frequently cited as the greatest film of all time,[520][521] casablanca (1942), the godfather (1972), gone with the wind (1939), lawrence of arabia (1962), the wizard of oz (1939), the graduate (1967), on the waterfront (1954), schindler\\'s list (1993), singin\\' in the rain (1952), it\\'s a wonderful life (1946) and sunset boulevard (1950). [430][431]\\nincreasing obesity in the united states and improvements in health and longevity outside the u.s. contributed to lowering the country\\'s rank in life expectancy from 11th in the world in 1987 to 42nd in 2007. in 2017, the united states had the lowest life expectancy among japan, canada, australia, the united kingdom, and seven nations in western europe.'"
            ]
          },
          "metadata": {},
          "execution_count": 197
        }
      ],
      "source": [
        "X = dte_df.to_numpy()\n",
        "U, SIGMA, VT = randomized_svd(X,n_components=N_LINE,n_iter=100,random_state=100) #perform Latent Semantic Analysis (LSA)\n",
        "scores = np.sqrt(np.dot(U**2,SIGMA**2)) #generate scores for all sentences\n",
        "top_scores_index = np.argsort(scores) #get index of highest scores\n",
        "top_scores_index = top_scores_index[::-1] #sort the indexes in descending order\n",
        "top_scores_index = top_scores_index[0:N_LINE] #get top N Scores index\n",
        "article_array = np.array(article_st) #convert list to array for indexing purpose\n",
        "bow_sum = article_array[top_scores_index] #get top N scoring sentences\n",
        "bow_sum = list(bow_sum) #convert array back to list\n",
        "print(f\"Number of Lines in Summary: {len(bow_sum)} \\n\")\n",
        "bow_sum_unigram = (\" \").join(bow_sum) #convert list to single string\n",
        "bow_sum_unigram"
      ]
    },
    {
      "cell_type": "code",
      "execution_count": null,
      "id": "00f7d18f",
      "metadata": {
        "colab": {
          "base_uri": "https://localhost:8080/"
        },
        "id": "00f7d18f",
        "outputId": "0f26e784-2019-4fbd-a9f2-4f45005d9672"
      },
      "outputs": [
        {
          "output_type": "execute_result",
          "data": {
            "text/plain": [
              "0.18631178707224336"
            ]
          },
          "metadata": {},
          "execution_count": 204
        }
      ],
      "source": [
        "scorer = rouge_scorer.RougeScorer(['rouge1'], use_stemmer=False)\n",
        "score_1gram_tfidf = scorer.score(bow_sum_unigram,survey_summary2)[\"rouge1\"].recall #TF-IDF\n",
        "score_1gram_tfidf"
      ]
    },
    {
      "cell_type": "code",
      "source": [
        ""
      ],
      "metadata": {
        "id": "iweOx0tiIO1x"
      },
      "id": "iweOx0tiIO1x",
      "execution_count": null,
      "outputs": []
    },
    {
      "cell_type": "code",
      "source": [
        ""
      ],
      "metadata": {
        "id": "9wecxtZBIO5j"
      },
      "id": "9wecxtZBIO5j",
      "execution_count": null,
      "outputs": []
    },
    {
      "cell_type": "markdown",
      "source": [
        ""
      ],
      "metadata": {
        "id": "mhyClc26IPP5"
      },
      "id": "mhyClc26IPP5"
    },
    {
      "cell_type": "code",
      "source": [
        "bigram_transformer = Phrases(pp_article_st_wt)\n",
        "w2v_model = Word2Vec(bigram_transformer[pp_article_st_wt],\n",
        "                    min_count = 5, \n",
        "                    window = 5,\n",
        "                    vector_size=10,\n",
        "                    sample=6e-5,\n",
        "                    alpha=0.001,\n",
        "                    min_alpha = 0.0007,\n",
        "                    negative=10,\n",
        "                    workers=num_cores-2)\n",
        "words = list(w2v_model.wv.index_to_key)\n",
        "word_emb_list = sorted(words)\n",
        "\n",
        "document_term_emb = np.zeros(shape=(len(pp_article_st_wt), len(word_emb_list)))\n",
        "dte_df = pd.DataFrame(document_term_emb)\n",
        "dte_df.columns = word_emb_list\n",
        "for i in range(len(pp_article_st)):\n",
        "  freq_map = Counter(pp_article_st[i])\n",
        "  for word in word_emb_list:\n",
        "    if freq_map[word] > 0:\n",
        "      dte_df[word].iloc[i] += np.median(w2v_model.wv[word])\n",
        "      freq_map[word] -= 1\n",
        "      \n",
        "X = dte_df.to_numpy()\n",
        "U, SIGMA, VT = randomized_svd(X,n_components=N_LINE,n_iter=100,random_state=100) #perform Latent Semantic Analysis (LSA)\n",
        "scores = np.sqrt(np.dot(U**2,SIGMA**2)) #generate scores for all sentences\n",
        "top_scores_index = np.argsort(scores) #get index of highest scores\n",
        "top_scores_index = top_scores_index[::-1] #sort the indexes in descending order\n",
        "top_scores_index = top_scores_index[0:N_LINE] #get top N Scores index\n",
        "article_array = np.array(article_st) #convert list to array for indexing purpose\n",
        "bow_sum = article_array[top_scores_index] #get top N scoring sentences\n",
        "bow_sum = list(bow_sum) #convert array back to list\n",
        "print(f\"Number of Lines in Summary: {len(bow_sum)} \\n\")\n",
        "bow_sum_unigram = (\" \").join(bow_sum) #convert list to single string\n",
        "bow_sum_unigram      "
      ],
      "metadata": {
        "id": "uy5mdpJSFtFl"
      },
      "id": "uy5mdpJSFtFl",
      "execution_count": null,
      "outputs": []
    },
    {
      "cell_type": "code",
      "source": [
        ""
      ],
      "metadata": {
        "id": "IWdiQvANIo-k"
      },
      "id": "IWdiQvANIo-k",
      "execution_count": null,
      "outputs": []
    },
    {
      "cell_type": "code",
      "source": [
        ""
      ],
      "metadata": {
        "id": "WZ9fScDDeDBN"
      },
      "id": "WZ9fScDDeDBN",
      "execution_count": null,
      "outputs": []
    },
    {
      "cell_type": "code",
      "source": [
        ""
      ],
      "metadata": {
        "id": "4vf-fTVGeGCl"
      },
      "id": "4vf-fTVGeGCl",
      "execution_count": null,
      "outputs": []
    },
    {
      "cell_type": "code",
      "source": [
        "X = dte_df.to_numpy()\n",
        "U, SIGMA, VT = randomized_svd(X,n_components=N_LINE,n_iter=100,random_state=100) #perform Latent Semantic Analysis (LSA)\n",
        "scores = np.sqrt(np.dot(U**2,SIGMA**2)) #generate scores for all sentences\n",
        "top_scores_index = np.argsort(scores) #get index of highest scores\n",
        "top_scores_index = top_scores_index[::-1] #sort the indexes in descending order\n",
        "top_scores_index = top_scores_index[0:N_LINE] #get top N Scores index\n",
        "article_array = np.array(article_st) #convert list to array for indexing purpose\n",
        "bow_sum = article_array[top_scores_index] #get top N scoring sentences\n",
        "bow_sum = list(bow_sum) #convert array back to list\n",
        "print(f\"Number of Lines in Summary: {len(bow_sum)} \\n\")\n",
        "bow_sum_unigram = (\" \").join(bow_sum) #convert list to single string\n",
        "bow_sum_unigram"
      ],
      "metadata": {
        "colab": {
          "base_uri": "https://localhost:8080/",
          "height": 205
        },
        "id": "TVlS56qZe97w",
        "outputId": "ae9e1bcb-c066-46d1-be43-2fd90df3bbac"
      },
      "id": "TVlS56qZe97w",
      "execution_count": null,
      "outputs": [
        {
          "output_type": "stream",
          "name": "stdout",
          "text": [
            "Number of Lines in Summary: 10 \n",
            "\n"
          ]
        },
        {
          "output_type": "execute_result",
          "data": {
            "application/vnd.google.colaboratory.intrinsic+json": {
              "type": "string"
            },
            "text/plain": [
              "'[288] defense\\'s share of the overall u.s. economy has generally declined in recent decades, from early cold war peaks of 14.2% of gdp in 1953 and 69.5% of federal spending in 1954 to 4.7% of gdp and 18.8% of federal spending in 2011. [540]\\nin 1998, the number of u.s. commercial radio stations had grown to 4,793 am stations and 5,662 fm stations. [86] the 1803 louisiana purchase almost doubled the nation\\'s area,[87] spain ceded florida and other gulf coast territory in 1819,[88] the republic of texas was annexed in 1845 during a period of expansionism,[89] and the 1846 oregon treaty with britain led to u.s. control of the present-day american northwest. since the general election of 1856, the major parties have been the democratic party, founded in 1824, and the republican party, founded in 1854. since the civil war, only one third-party presidential candidate—former president theodore roosevelt, running as a progressive in 1912—has won as much as 20% of the popular vote, though the self-financed reform party campaign of ross perot took 18.9% in 1992. [195] the united states is home to 428 mammal species, 784 bird species, 311 reptile species, and 295 amphibian species,[196] as well as about 91,000 insect species. [424]\\nthe centers for disease control and prevention (cdc) reported that the united states had an average life expectancy at birth of 77.3 years in 2020 (74.5 years for men and 80.2 years for women), down 1.5 years from 2019. according to provisional figures, this was the lowest average u.s. life expectancy recorded by the cdc since 2003, the first overall decline since 2018, and \"the largest one-year decline since world war ii.\" [175]\\nthe 48 contiguous states and the district of columbia occupy a combined area of 3,119,885 square miles (8,080,470\\xa0km2). [296] the department of justice said that the imprisonment rate for all prisoners sentenced to more than a year in state or federal facilities in 2019 stood at 419 per 100,000 residents which was at its lowest point since 1995 and that the total prison population for the same year stood at 1,430,800 which represented an 11% decrease in the population size from a decade earlier. notable films topping the american film institute\\'s afi 100 list include orson welles\\'s citizen kane (1941), which is frequently cited as the greatest film of all time,[520][521] casablanca (1942), the godfather (1972), gone with the wind (1939), lawrence of arabia (1962), the wizard of oz (1939), the graduate (1967), on the waterfront (1954), schindler\\'s list (1993), singin\\' in the rain (1952), it\\'s a wonderful life (1946) and sunset boulevard (1950). [360][361][362][363][364][365][366] in 2011, 16.7 million children lived in food-insecure households, about 35% more than 2007 levels, though only 845,000 u.s. children (1.1%) saw reduced food intake or disrupted eating patterns at some point during the year, and most cases were not chronic.'"
            ]
          },
          "metadata": {},
          "execution_count": 202
        }
      ]
    },
    {
      "cell_type": "code",
      "source": [
        "scorer = rouge_scorer.RougeScorer(['rouge2'], use_stemmer=False)\n",
        "score_1gram_tfidf = scorer.score(bow_sum_unigram,survey_summary2)[\"rouge2\"].fmeasure #TF-IDF\n",
        "score_1gram_tfidf"
      ],
      "metadata": {
        "colab": {
          "base_uri": "https://localhost:8080/"
        },
        "id": "bPPSRMITfB0c",
        "outputId": "b00f144c-ad83-4189-f937-994934325a31"
      },
      "id": "bPPSRMITfB0c",
      "execution_count": null,
      "outputs": [
        {
          "output_type": "execute_result",
          "data": {
            "text/plain": [
              "0.03723404255319149"
            ]
          },
          "metadata": {},
          "execution_count": 203
        }
      ]
    },
    {
      "cell_type": "code",
      "source": [
        ""
      ],
      "metadata": {
        "id": "49rofCwYeEXY"
      },
      "id": "49rofCwYeEXY",
      "execution_count": null,
      "outputs": []
    },
    {
      "cell_type": "code",
      "source": [
        ""
      ],
      "metadata": {
        "id": "tbrC3C6vIuBx"
      },
      "id": "tbrC3C6vIuBx",
      "execution_count": null,
      "outputs": []
    },
    {
      "cell_type": "markdown",
      "source": [
        "## Reevalaute if word embeddings were generated properly (see if they were cumulated rather than, updated....  medain might work better than average...... see if the embedings can be generated as probabilites ...exponent or softmax or something)"
      ],
      "metadata": {
        "id": "1SuIUMGAgWZf"
      },
      "id": "1SuIUMGAgWZf"
    },
    {
      "cell_type": "code",
      "source": [
        ""
      ],
      "metadata": {
        "id": "4SJLuIvZgayT"
      },
      "id": "4SJLuIvZgayT",
      "execution_count": null,
      "outputs": []
    }
  ],
  "metadata": {
    "kernelspec": {
      "display_name": "Python 3",
      "language": "python",
      "name": "python3"
    },
    "language_info": {
      "codemirror_mode": {
        "name": "ipython",
        "version": 3
      },
      "file_extension": ".py",
      "mimetype": "text/x-python",
      "name": "python",
      "nbconvert_exporter": "python",
      "pygments_lexer": "ipython3",
      "version": "3.8.8"
    },
    "colab": {
      "name": "ExTs.ipynb",
      "provenance": [],
      "toc_visible": true,
      "include_colab_link": true
    }
  },
  "nbformat": 4,
  "nbformat_minor": 5
}