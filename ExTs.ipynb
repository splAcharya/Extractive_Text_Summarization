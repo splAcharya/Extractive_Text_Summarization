{
  "cells": [
    {
      "cell_type": "markdown",
      "metadata": {
        "id": "view-in-github",
        "colab_type": "text"
      },
      "source": [
        "<a href=\"https://colab.research.google.com/github/splAcharya/Extractive_Text_Summarization/blob/main/ExTs.ipynb\" target=\"_parent\"><img src=\"https://colab.research.google.com/assets/colab-badge.svg\" alt=\"Open In Colab\"/></a>"
      ]
    },
    {
      "cell_type": "markdown",
      "id": "objective-being",
      "metadata": {
        "id": "objective-being"
      },
      "source": [
        "# Extractive Text Summarization Of Wikipedia Articles"
      ]
    },
    {
      "cell_type": "code",
      "source": [
        ""
      ],
      "metadata": {
        "id": "j0hIFyNN_2G0"
      },
      "id": "j0hIFyNN_2G0",
      "execution_count": null,
      "outputs": []
    },
    {
      "cell_type": "markdown",
      "source": [
        "## Install Packages (if needed)"
      ],
      "metadata": {
        "id": "valMZEg__23K"
      },
      "id": "valMZEg__23K"
    },
    {
      "cell_type": "code",
      "source": [
        "#gensim\n",
        "!pip install --upgrade gensim\n",
        "\n",
        "#rouge scorer\n",
        "!pip install rouge-score"
      ],
      "metadata": {
        "id": "4bxbiiQG_6-y"
      },
      "id": "4bxbiiQG_6-y",
      "execution_count": null,
      "outputs": []
    },
    {
      "cell_type": "markdown",
      "id": "promotional-protection",
      "metadata": {
        "id": "promotional-protection"
      },
      "source": [
        "## Import Required Libraries"
      ]
    },
    {
      "cell_type": "code",
      "execution_count": null,
      "id": "urban-python",
      "metadata": {
        "id": "urban-python"
      },
      "outputs": [],
      "source": [
        "import time\n",
        "import re\n",
        "import urllib.request\n",
        "from bs4 import BeautifulSoup as bs\n",
        "\n",
        "import string\n",
        "pm_set = set(list(string.punctuation))\n",
        "\n",
        "import nltk\n",
        "from nltk.corpus import stopwords\n",
        "nltk.download(\"stopwords\")\n",
        "nltk.download('punkt')\n",
        "nltk.download('wordnet')\n",
        "sw_set = set(stopwords.words(\"english\"))\n",
        "\n",
        "from nltk.tokenize import sent_tokenize, word_tokenize\n",
        "from nltk.stem.wordnet import WordNetLemmatizer\n",
        "\n",
        "from gensim.models import Word2Vec\n",
        "import gensim.downloader\n",
        "from gensim.models import Phrases\n",
        "\n",
        "import multiprocessing\n",
        "num_cores = multiprocessing.cpu_count()\n",
        "print(f\"Number of Cores: {num_cores}\")\n",
        "\n",
        "from wordcloud import WordCloud\n",
        "from PIL import Image\n",
        "from matplotlib import pyplot as plt\n",
        "import numpy as np\n",
        "\n",
        "from sklearn.utils.extmath import randomized_svd\n",
        "from sklearn.feature_extraction.text import CountVectorizer\n",
        "from sklearn.feature_extraction.text import TfidfVectorizer\n",
        "from sklearn.decomposition import TruncatedSVD as LSA, LatentDirichletAllocation as LDA\n",
        "from sklearn.cluster import KMeans\n",
        "\n",
        "from copy import deepcopy\n",
        "from rouge_score import rouge_scorer\n",
        "import pandas as pd\n",
        "from collections import Counter, defaultdict"
      ]
    },
    {
      "cell_type": "code",
      "execution_count": null,
      "id": "enabling-ceramic",
      "metadata": {
        "id": "enabling-ceramic"
      },
      "outputs": [],
      "source": [
        ""
      ]
    },
    {
      "cell_type": "markdown",
      "id": "floral-acoustic",
      "metadata": {
        "id": "floral-acoustic"
      },
      "source": [
        "## Function to Webscrape Wikipedia Article"
      ]
    },
    {
      "cell_type": "code",
      "execution_count": null,
      "id": "linear-sending",
      "metadata": {
        "id": "linear-sending"
      },
      "outputs": [],
      "source": [
        "def fetch_wikipedia_article(url=\"https://en.wikipedia.org/wiki/Hurricane_Irene_(2005)\"):\n",
        "    scrapped_data = urllib.request.urlopen(url)\n",
        "    article = scrapped_data.read()\n",
        "    parsed_article = bs(article,\"lxml\")\n",
        "    paragraphs = parsed_article.find_all(\"p\")\n",
        "    article_text = \"\"\n",
        "    for p in paragraphs:\n",
        "        article_text += p.text\n",
        "    return article_text"
      ]
    },
    {
      "cell_type": "code",
      "execution_count": null,
      "id": "introductory-forward",
      "metadata": {
        "id": "introductory-forward"
      },
      "outputs": [],
      "source": [
        ""
      ]
    },
    {
      "cell_type": "markdown",
      "id": "blank-visiting",
      "metadata": {
        "id": "blank-visiting"
      },
      "source": [
        "## Function to Pre-process Web Scraped Wikipedia Article"
      ]
    },
    {
      "cell_type": "code",
      "execution_count": null,
      "id": "ebf6181f-0b0b-4f4c-9ff2-2dcc37706fe9",
      "metadata": {
        "id": "ebf6181f-0b0b-4f4c-9ff2-2dcc37706fe9"
      },
      "outputs": [],
      "source": [
        ""
      ]
    },
    {
      "cell_type": "code",
      "execution_count": null,
      "id": "cellular-blend",
      "metadata": {
        "id": "cellular-blend"
      },
      "outputs": [],
      "source": [
        "def preprocess_article(article, min_length = 5):\n",
        "    article_lc = article.lower()#lower case entire article\n",
        "    article_st = sent_tokenize(article_lc)#convert to sentences\n",
        "    lmtzr = WordNetLemmatizer()#instantiate lemmatize\n",
        "    pp_article_st = []\n",
        "    final_article_st = []\n",
        "    for sentence in article_st:\n",
        "        original_sentence = deepcopy(sentence)\n",
        "        #print(sentence)\n",
        "        sentence = re.sub(r\"[\\(.*\\)]\",\" \", sentence)#remove data betweena nd include round backers()\n",
        "        #print(sentence)\n",
        "        sentence = re.sub(r\"\\n\",\"\",sentence) #remove \"\\n\" characters\n",
        "        #print(sentence)\n",
        "        sentence = re.sub(r\"\\[\\d+\\]\",\" \",sentence)#remove refrences [n]\n",
        "        #print(sentence)\n",
        "        sentence = re.sub(r\"\\[.+\\]\",\" \",sentence) #remove anything between [] including []\n",
        "        #print(sentence)\n",
        "        sentence = re.sub(r\"[^a-zA-z0-9]\", \" \", sentence) #remove any non english characters\n",
        "        #print(sentence)\n",
        "        sentence = re.sub(r\"\\s+\",\" \",sentence) #remove any whitespaces, tabs, newline charaacters\n",
        "        #print(sentence)\n",
        "        sentence = [lmtzr.lemmatize(word) for word in word_tokenize(sentence) if word not in sw_set ]\n",
        "        if len(sentence) >= min_length:\n",
        "            sentence = (\" \").join(sentence)\n",
        "            pp_article_st.append(sentence)\n",
        "            final_article_st.append(original_sentence)\n",
        "    return final_article_st, pp_article_st"
      ]
    },
    {
      "cell_type": "code",
      "execution_count": null,
      "id": "f9c64ab0-ae6b-4398-bda3-8f4c95e0b166",
      "metadata": {
        "id": "f9c64ab0-ae6b-4398-bda3-8f4c95e0b166"
      },
      "outputs": [],
      "source": [
        ""
      ]
    },
    {
      "cell_type": "code",
      "execution_count": null,
      "id": "instrumental-arbor",
      "metadata": {
        "id": "instrumental-arbor"
      },
      "outputs": [],
      "source": [
        ""
      ]
    },
    {
      "cell_type": "code",
      "execution_count": null,
      "id": "ed8cbb70-195d-460a-850a-5c4c02c33b3d",
      "metadata": {
        "id": "ed8cbb70-195d-460a-850a-5c4c02c33b3d"
      },
      "outputs": [],
      "source": [
        ""
      ]
    },
    {
      "cell_type": "markdown",
      "id": "matched-costume",
      "metadata": {
        "id": "matched-costume"
      },
      "source": [
        "## Using the two function above to extract Wikipedia Article"
      ]
    },
    {
      "cell_type": "code",
      "execution_count": null,
      "id": "suffering-perfume",
      "metadata": {
        "id": "suffering-perfume"
      },
      "outputs": [],
      "source": [
        "article_text = fetch_wikipedia_article(\"https://en.wikipedia.org/wiki/Hurricane_Irene_(2005)\")\n",
        "article_st, pp_article_st = preprocess_article(article_text)\n",
        "pp_article_st_wt = [word_tokenize(sent) for sent in pp_article_st]"
      ]
    },
    {
      "cell_type": "code",
      "execution_count": null,
      "id": "behind-sleeping",
      "metadata": {
        "id": "behind-sleeping"
      },
      "outputs": [],
      "source": [
        "pp_string = (\" \").join(pp_article_st)"
      ]
    },
    {
      "cell_type": "code",
      "execution_count": null,
      "id": "bf10d12d-8b17-4375-8d03-356a6c1847a0",
      "metadata": {
        "id": "bf10d12d-8b17-4375-8d03-356a6c1847a0"
      },
      "outputs": [],
      "source": [
        "article_st[0]"
      ]
    },
    {
      "cell_type": "code",
      "execution_count": null,
      "id": "23e7518e-1c1e-405c-89a9-1736e13258d3",
      "metadata": {
        "id": "23e7518e-1c1e-405c-89a9-1736e13258d3"
      },
      "outputs": [],
      "source": [
        "pp_article_st[0:5]"
      ]
    },
    {
      "cell_type": "code",
      "execution_count": null,
      "id": "f5522076-4b14-4ebe-be64-65ca378fea36",
      "metadata": {
        "id": "f5522076-4b14-4ebe-be64-65ca378fea36"
      },
      "outputs": [],
      "source": [
        "article_text"
      ]
    },
    {
      "cell_type": "code",
      "source": [
        ""
      ],
      "metadata": {
        "id": "kMOKBerW_Qc6"
      },
      "id": "kMOKBerW_Qc6",
      "execution_count": null,
      "outputs": []
    },
    {
      "cell_type": "markdown",
      "id": "patent-opposition",
      "metadata": {
        "id": "patent-opposition"
      },
      "source": [
        "## Generate Word Clouds For Raw and Preprocessed Wikipedia Article"
      ]
    },
    {
      "cell_type": "code",
      "execution_count": null,
      "id": "presidential-bloom",
      "metadata": {
        "id": "presidential-bloom"
      },
      "outputs": [],
      "source": [
        "wc_mask = np.array(Image.open(urllib.request.urlopen(\"http://pm1.narvii.com/5750/abb7fdf1f24f9515a1f1d16e6f05d3f03110c51f_00.jpg\")))\n",
        "wc = WordCloud(background_color=\"white\",mask=wc_mask)\n",
        "fig, ax = plt.subplots(1,2,figsize=(25,25))\n",
        "ax[0].imshow(wc.generate(article_text))\n",
        "ax[0].title.set_text(\"Raw\")\n",
        "ax[1].imshow(wc.generate(pp_string))\n",
        "ax[1].title.set_text(\"Preprocessed\")\n",
        "plt.show()"
      ]
    },
    {
      "cell_type": "code",
      "execution_count": null,
      "id": "engaged-shore",
      "metadata": {
        "id": "engaged-shore"
      },
      "outputs": [],
      "source": [
        ""
      ]
    },
    {
      "cell_type": "markdown",
      "source": [
        "## LSA Summary Generators"
      ],
      "metadata": {
        "id": "WmaFgQXis28o"
      },
      "id": "WmaFgQXis28o"
    },
    {
      "cell_type": "markdown",
      "source": [
        "### Function to Generate BOW + LSA Summary"
      ],
      "metadata": {
        "id": "XWYUPCnpkHGV"
      },
      "id": "XWYUPCnpkHGV"
    },
    {
      "cell_type": "code",
      "source": [
        "def generate_bow_lsa_summary(raw_sent_tokens, pp_sent_tokens, summary_size = 10, ngram_tuple=(1,1)):\n",
        "  \"\"\"Generates an extractive summary using BOW feature generation scheme and LSA.\n",
        "\n",
        "  Args:\n",
        "    raw_sent_tokens(List[str]): An array containing all unprocessed sentences.\n",
        "    pp_sent_tokens(List[str]): An array containing all preprocessed sentences.\n",
        "    summary_size(int): Number of lines for summary as well as number of topics for LSA.\n",
        "    ngram_tuple(tuple[int,int]): A tuple that species the ngram range for BOW feature extractoin scheme.\n",
        "\n",
        "  Returns:\n",
        "    A string that is the extractive summary for given article.\n",
        "  \"\"\"\n",
        "  #start timinig\n",
        "  tic = time.time()\n",
        "\n",
        "  #instantiate BOW model\n",
        "  count_vectorizer = CountVectorizer(ngram_range=ngram_tuple) \n",
        "\n",
        "  #generate feature vector by training BOW model on preprocessed article\n",
        "  feature_vector = count_vectorizer.fit_transform(pp_sent_tokens) \n",
        "\n",
        "  #decompose feature vector into 3 matrices\n",
        "  U, SIGMA, VT = randomized_svd(feature_vector, n_components = summary_size, n_iter = 100, random_state =100)\n",
        "\n",
        "  #compute sentence scores\n",
        "  sentence_scores = np.sqrt(np.dot(U**2, SIGMA**2))\n",
        "\n",
        "  #sort the sentence scores in desceding oreder\n",
        "  top_scores_index = np.argsort(sentence_scores)[::-1]\n",
        "\n",
        "  #get the indices of highest scoring sentences\n",
        "  top_scores_index = top_scores_index[0:summary_size]\n",
        "\n",
        "  #convert raw sentence list from list type to numpy array\n",
        "  article_array = np.array(raw_sent_tokens)\n",
        "\n",
        "  #use the top scoring sentence indices to select sentences from raw article array\n",
        "  bow_sum = list(article_array[top_scores_index])\n",
        "\n",
        "  #convert the summary sentences from list to a single string\n",
        "  bow_sum_str = \" \".join(bow_sum)\n",
        "\n",
        "  #end time\n",
        "  toc = time.time()\n",
        "\n",
        "  #calcuale total time\n",
        "  timeTaken = (toc - tic) * 1000\n",
        "\n",
        "  #return the string\n",
        "  return timeTaken, bow_sum_str"
      ],
      "metadata": {
        "id": "aHj0vfUikSNt"
      },
      "id": "aHj0vfUikSNt",
      "execution_count": null,
      "outputs": []
    },
    {
      "cell_type": "code",
      "source": [
        ""
      ],
      "metadata": {
        "id": "9tIrdWy7n0BG"
      },
      "id": "9tIrdWy7n0BG",
      "execution_count": null,
      "outputs": []
    },
    {
      "cell_type": "markdown",
      "source": [
        "### Function to Generate TF-IDF + LSA Summary"
      ],
      "metadata": {
        "id": "MUy0nBjg70BD"
      },
      "id": "MUy0nBjg70BD"
    },
    {
      "cell_type": "code",
      "source": [
        "def generate_tfidf_lsa_summary(raw_sent_tokens, pp_sent_tokens, summary_size = 10, ngram_tuple=(1,1)):\n",
        "  \"\"\"Generates an extractive summary using TF-IDF feature generation scheme and LSA.\n",
        "\n",
        "  Args:\n",
        "    raw_sent_tokens(List[str]): An array containing all unprocessed sentences.\n",
        "    pp_sent_tokens(List[str]): An array containing all preprocessed sentences.\n",
        "    summary_size(int): Number of lines for summary as well as number of topics for LSA.\n",
        "    ngram_tuple(tuple[int,int]): A tuple that species the ngram range for BOW feature extractoin scheme.\n",
        "\n",
        "  Returns:\n",
        "    A string that is the extractive summary for given article.\n",
        "  \"\"\"  \n",
        "  #start timing\n",
        "  tic = time.time()\n",
        "\n",
        "  #instantiate TF-IDF model\n",
        "  tfidf_vectorizer = TfidfVectorizer(ngram_range=ngram_tuple)\n",
        "\n",
        "  #generate feature vector by training TF model on preprocessed article\n",
        "  feature_vector = tfidf_vectorizer.fit_transform(pp_sent_tokens)\n",
        "\n",
        "  #decompose feature vector into 3 matrices\n",
        "  U, SIGMA, VT = randomized_svd(feature_vector, n_components = summary_size, n_iter = 100, random_state =100)\n",
        "\n",
        "  #compute sentence scores\n",
        "  sentence_scores = np.sqrt(np.dot(U**2, SIGMA**2))\n",
        "\n",
        "  #sort the sentence scores in desceding order\n",
        "  top_scores_index = np.argsort(sentence_scores)[::-1]\n",
        "\n",
        "  #get the indices of highest scoring sentences\n",
        "  top_scores_index = top_scores_index[0:summary_size]\n",
        "\n",
        "  #convert raw sentence list from list type to numpy array\n",
        "  article_array = np.array(raw_sent_tokens)\n",
        "\n",
        "  #use the top scoring sentence indices to select sentences from raw article array\n",
        "  tfidf_sum = list(article_array[top_scores_index])\n",
        "\n",
        "  #convert the summary sentences from list to a single string\n",
        "  tfidf_sum_str = \" \".join(tfidf_sum)\n",
        "\n",
        "  #end time\n",
        "  toc = time.time()\n",
        "\n",
        "  #calcuale total time\n",
        "  timeTaken = (toc - tic) * 1000\n",
        "\n",
        "  #return the string\n",
        "  return timeTaken, tfidf_sum_str"
      ],
      "metadata": {
        "id": "m4Yhddbj736R"
      },
      "id": "m4Yhddbj736R",
      "execution_count": null,
      "outputs": []
    },
    {
      "cell_type": "code",
      "source": [
        ""
      ],
      "metadata": {
        "id": "HYUNOZpNoCDI"
      },
      "id": "HYUNOZpNoCDI",
      "execution_count": null,
      "outputs": []
    },
    {
      "cell_type": "markdown",
      "source": [
        "### Function to Generate Word Embedding + LSA Summary"
      ],
      "metadata": {
        "id": "dWo84kUg6sV7"
      },
      "id": "dWo84kUg6sV7"
    },
    {
      "cell_type": "code",
      "source": [
        "def create_word_to_vec_model(pp_sent_tokens, ngram=1):\n",
        "\n",
        "  #create work tokens\n",
        "  pp_article_st_wt = [word_tokenize(sent) for sent in pp_sent_tokens]\n",
        "\n",
        "  if ngram <= 1:\n",
        "    w2v_model = Word2Vec(sentences=pp_article_st_wt,\n",
        "                        min_count = 5, \n",
        "                        window = 5,\n",
        "                        vector_size=10,\n",
        "                        sample=6e-5,\n",
        "                        alpha=0.001,\n",
        "                        min_alpha = 0.0007,\n",
        "                        negative=20,\n",
        "                        workers=num_cores-2)   \n",
        "    return w2v_model\n",
        "\n",
        "  else:\n",
        "    #create n gram phraser\n",
        "    ngram_model = None\n",
        "    for i in range(2, ngram+1):\n",
        "      ngram_model = gensim.models.phrases.Phrases(pp_article_st_wt)\n",
        "\n",
        "    #create wor2vec model\n",
        "    w2v_model = Word2Vec(sentences=ngram_model[pp_article_st_wt],\n",
        "                          min_count = 5, \n",
        "                          window = 5,\n",
        "                          vector_size=10,\n",
        "                          sample=6e-5,\n",
        "                          alpha=0.001,\n",
        "                          min_alpha = 0.0007,\n",
        "                          negative=20,\n",
        "                          workers=num_cores-2)  \n",
        "\n",
        "    return w2v_model"
      ],
      "metadata": {
        "id": "lJXgueYF6yzZ"
      },
      "id": "lJXgueYF6yzZ",
      "execution_count": null,
      "outputs": []
    },
    {
      "cell_type": "code",
      "source": [
        ""
      ],
      "metadata": {
        "id": "40BQzvE86-z_"
      },
      "id": "40BQzvE86-z_",
      "execution_count": null,
      "outputs": []
    },
    {
      "cell_type": "code",
      "source": [
        "def generate_wemb_lsa_summary(raw_sent_tokens, pp_sent_tokens, summary_size = 10, ngram = 1):\n",
        "\n",
        "  #start timinng\n",
        "  tic = time.time()\n",
        "\n",
        "  #get word 2 vec model\n",
        "  w2v_model = create_word_to_vec_model(pp_sent_tokens, ngram)#get w2v model\n",
        "  \n",
        "  #get word 2 vec model\n",
        "  words = list(w2v_model.wv.index_to_key)\n",
        "  word_emb_list = sorted(words)\n",
        "\n",
        "  #create pandas dataframe \n",
        "  document_term_emb = np.zeros(shape=(len(pp_article_st_wt), len(word_emb_list)))\n",
        "  dte_df = pd.DataFrame(document_term_emb)\n",
        "  dte_df.columns = word_emb_list\n",
        "  for i in range(len(pp_article_st)):\n",
        "    freq_map = Counter(pp_article_st[i])\n",
        "    for word in word_emb_list:\n",
        "      if freq_map[word] > 0:\n",
        "        dte_df[word].iloc[i] += np.median(w2v_model.wv[word])\n",
        "        freq_map[word] -= 1  \n",
        "\n",
        "  feature_vector = dte_df.to_numpy()\n",
        "  U, SIGMA, VT = randomized_svd(feature_vector, n_components = summary_size, n_iter = 100, random_state =100)\n",
        "  sentence_scores = np.sqrt(np.dot(U**2, SIGMA**2))\n",
        "  top_scores_index = np.argsort(sentence_scores)[::-1]\n",
        "  top_scores_index = top_scores_index[0:summary_size]\n",
        "  article_array = np.array(raw_sent_tokens)\n",
        "  wemb_sum = list(article_array[top_scores_index])\n",
        "  wemb_sum_str = \" \".join(wemb_sum)\n",
        "\n",
        "  #end time\n",
        "  toc = time.time()\n",
        "\n",
        "  #calcuale total time\n",
        "  timeTaken = (toc - tic) * 1000\n",
        "\n",
        "  return timeTaken, wemb_sum_str"
      ],
      "metadata": {
        "id": "O5NQ_bbG4SUK"
      },
      "id": "O5NQ_bbG4SUK",
      "execution_count": null,
      "outputs": []
    },
    {
      "cell_type": "code",
      "source": [
        ""
      ],
      "metadata": {
        "id": "dbbDaamq4SW_"
      },
      "id": "dbbDaamq4SW_",
      "execution_count": null,
      "outputs": []
    },
    {
      "cell_type": "markdown",
      "source": [
        "### Function to Generated BOW + LSA + K-Means Summary"
      ],
      "metadata": {
        "id": "4Ns5I96OlbFr"
      },
      "id": "4Ns5I96OlbFr"
    },
    {
      "cell_type": "code",
      "source": [
        "def generate_bow_lsa_kmeans_summary(raw_sent_tokens, pp_sent_tokens, summary_size = 10, ngram_tuple=(1,1)):\n",
        "  \n",
        "  #start timinng\n",
        "  tic = time.time()\n",
        "\n",
        "  count_vectorizer = CountVectorizer(ngram_range=ngram_tuple) #intialize BOW model\n",
        "  feature_vector = count_vectorizer.fit_transform(pp_sent_tokens) #train and fit BoW Model\n",
        "  dimention_reduction_model = LSA(n_components = summary_size, n_iter = 100, random_state =100) #initialize LSA model\n",
        "  reduced_feature_vector = dimention_reduction_model.fit_transform(feature_vector) #train and fit LSA model\n",
        "  clustering_model = KMeans(n_clusters=summary_size, random_state=0, max_iter=500) #initialize K Means model\n",
        "  clustering_model.fit(reduced_feature_vector) #train and fir clustering model\n",
        "  cluster_centers = clustering_model.cluster_centers_ #get cluster centers\n",
        "\n",
        "  #generate summary based on \"summary_size\" number of clusters\n",
        "  #sentecens with value closest to each cluster centers are picked\n",
        "  summary_sentences = []\n",
        "  for i in range(cluster_centers.shape[0]):\n",
        "    distances = np.linalg.norm(cluster_centers[i] - reduced_feature_vector, axis=1)\n",
        "    sorted_indices = np.argsort(distances)\n",
        "    summary_sentences.append(article_st[sorted_indices[0]])\n",
        "\n",
        "  #end time\n",
        "  toc = time.time()\n",
        "\n",
        "  #calcuale total time\n",
        "  timeTaken = (toc - tic) * 1000\n",
        "\n",
        "  return timeTaken, \"\".join(summary_sentences)\n"
      ],
      "metadata": {
        "id": "8Hyertw7li_c"
      },
      "id": "8Hyertw7li_c",
      "execution_count": null,
      "outputs": []
    },
    {
      "cell_type": "markdown",
      "source": [
        "### Function to Generated TF-IDF + LSA + K-Means Summary"
      ],
      "metadata": {
        "id": "_awnxYAqmbKq"
      },
      "id": "_awnxYAqmbKq"
    },
    {
      "cell_type": "code",
      "source": [
        "def generate_tfidf_lsa_kmeans_summary(raw_sent_tokens, pp_sent_tokens, summary_size = 10, ngram_tuple=(1,1)):\n",
        "\n",
        "  #start timing\n",
        "  tic = time.time()\n",
        "\n",
        "  tfidf_vectorizer = TfidfVectorizer(ngram_range=ngram_tuple) #intialize TF-IDF model\n",
        "  feature_vector = tfidf_vectorizer.fit_transform(pp_sent_tokens) #train and fit TF-IDF Model\n",
        "  dimention_reduction_model = LSA(n_components = summary_size, n_iter = 100, random_state =100) #initialize LSA model\n",
        "  reduced_feature_vector = dimention_reduction_model.fit_transform(feature_vector) #train and fit LSA model\n",
        "  clustering_model = KMeans(n_clusters=summary_size, random_state=0, max_iter=500) #initialize K Means model\n",
        "  clustering_model.fit(reduced_feature_vector) #train and fir clustering model\n",
        "  cluster_centers = clustering_model.cluster_centers_ #get cluster centers\n",
        "\n",
        "  #generate summary based on \"summary_size\" number of clusters\n",
        "  #sentecens with value closest to each cluster centers are picked\n",
        "  summary_sentences = []\n",
        "  for i in range(cluster_centers.shape[0]):\n",
        "    distances = np.linalg.norm(cluster_centers[i] - reduced_feature_vector, axis=1)\n",
        "    sorted_indices = np.argsort(distances)\n",
        "    summary_sentences.append(article_st[sorted_indices[0]])\n",
        "\n",
        "  #end time\n",
        "  toc = time.time()\n",
        "\n",
        "  #calcuale total time\n",
        "  timeTaken = (toc - tic) * 1000\n",
        "\n",
        "  return timeTaken, \"\".join(summary_sentences)"
      ],
      "metadata": {
        "id": "o4NqbX9smdDg"
      },
      "id": "o4NqbX9smdDg",
      "execution_count": null,
      "outputs": []
    },
    {
      "cell_type": "markdown",
      "source": [
        "### Function to Generated Word-Embeddings + LSA + K-Means Summary"
      ],
      "metadata": {
        "id": "-pu75i6yy5hw"
      },
      "id": "-pu75i6yy5hw"
    },
    {
      "cell_type": "code",
      "source": [
        "def generate_wemb_lsa_kmeans_summary(raw_sent_tokens, pp_sent_tokens, summary_size = 10, ngram = 1):\n",
        "\n",
        "  #start timing\n",
        "  tic = time.time()\n",
        "\n",
        "  #get word 2 vec model\n",
        "  w2v_model = create_word_to_vec_model(pp_sent_tokens, ngram)#get w2v model\n",
        "  \n",
        "  #get word 2 vec model\n",
        "  words = list(w2v_model.wv.index_to_key)\n",
        "  word_emb_list = sorted(words)\n",
        "\n",
        "  #create pandas dataframe \n",
        "  document_term_emb = np.zeros(shape=(len(pp_article_st_wt), len(word_emb_list)))\n",
        "  dte_df = pd.DataFrame(document_term_emb)\n",
        "  dte_df.columns = word_emb_list\n",
        "  for i in range(len(pp_article_st)):\n",
        "    freq_map = Counter(pp_article_st[i])\n",
        "    for word in word_emb_list:\n",
        "      if freq_map[word] > 0:\n",
        "        dte_df[word].iloc[i] += np.median(w2v_model.wv[word])\n",
        "        freq_map[word] -= 1  \n",
        "\n",
        "  feature_vector = dte_df.to_numpy()\n",
        "  dimention_reduction_model = LSA(n_components = summary_size, n_iter = 100, random_state =100) #initialize LSA model\n",
        "  reduced_feature_vector = dimention_reduction_model.fit_transform(feature_vector) #train and fit LSA model\n",
        "  clustering_model = KMeans(n_clusters=summary_size, random_state=0, max_iter=500) #initialize K Means model\n",
        "  clustering_model.fit(reduced_feature_vector) #train and fir clustering model\n",
        "  cluster_centers = clustering_model.cluster_centers_ #get cluster centers\n",
        "\n",
        "  #generate summary based on \"summary_size\" number of clusters\n",
        "  #sentecens with value closest to each cluster centers are picked\n",
        "  summary_sentences = []\n",
        "  for i in range(cluster_centers.shape[0]):\n",
        "    distances = np.linalg.norm(cluster_centers[i] - reduced_feature_vector, axis=1)\n",
        "    sorted_indices = np.argsort(distances)\n",
        "    summary_sentences.append(article_st[sorted_indices[0]])\n",
        "\n",
        "  #end time\n",
        "  toc = time.time()\n",
        "\n",
        "  #calcuale total time\n",
        "  timeTaken = (toc - tic) * 1000 \n",
        "\n",
        "  return timeTaken, \"\".join(summary_sentences)  "
      ],
      "metadata": {
        "id": "cTp9lABjy-k1"
      },
      "id": "cTp9lABjy-k1",
      "execution_count": null,
      "outputs": []
    },
    {
      "cell_type": "code",
      "source": [
        ""
      ],
      "metadata": {
        "id": "_LtzECxazR8c"
      },
      "id": "_LtzECxazR8c",
      "execution_count": null,
      "outputs": []
    },
    {
      "cell_type": "markdown",
      "source": [
        "## LDA Summary Generators"
      ],
      "metadata": {
        "id": "aKN1b-TTtRaJ"
      },
      "id": "aKN1b-TTtRaJ"
    },
    {
      "cell_type": "code",
      "source": [
        ""
      ],
      "metadata": {
        "id": "_scw7_xYtYiP"
      },
      "id": "_scw7_xYtYiP",
      "execution_count": null,
      "outputs": []
    },
    {
      "cell_type": "markdown",
      "source": [
        "### Function to Generate BOW + LDA Summary"
      ],
      "metadata": {
        "id": "Zr22E01WtY4m"
      },
      "id": "Zr22E01WtY4m"
    },
    {
      "cell_type": "code",
      "source": [
        "def generate_bow_lda_summary(raw_sent_tokens, pp_sent_tokens, summary_size = 10, ngram_tuple=(1,1)):\n",
        "\n",
        "  #start timing\n",
        "  tic = time.time() \n",
        "\n",
        "  #get BOW Features\n",
        "  count_vectorizer = CountVectorizer(ngram_range=ngram_tuple) #intialize\n",
        "  feature_vector = count_vectorizer.fit_transform(pp_sent_tokens) #generate\n",
        "  print(\"BOW Features Generated!!!\")\n",
        "\n",
        "  #get LDA features\n",
        "  lda_model = LDA(n_components=summary_size, random_state=0, max_iter = 100)\n",
        "  document_topic_vector = lda_model.fit_transform(feature_vector)\n",
        "  print(\"LDA Features Generated!!!\")\n",
        "\n",
        "  #\n",
        "  #generatee summaries based on LDA probabilibities\n",
        "  #\n",
        "\n",
        "  sorted_probabilities = np.argsort(document_topic_vector, axis = 1) \n",
        "  top_probabilities = sorted_probabilities[:,-1]\n",
        "  topic_bins = defaultdict(list)\n",
        "\n",
        "  for i in range(document_topic_vector.shape[0]):\n",
        "    topic_num = sorted_probabilities[i][-1]\n",
        "    sent_index = i\n",
        "    prob = document_topic_vector[i,sorted_probabilities[i][-1]]\n",
        "    topic_bins[topic_num].append((sent_index, prob))\n",
        "\n",
        "  print(\"Topic Bins Generated!!!\")\n",
        "\n",
        "  for k, v in topic_bins.items():\n",
        "    topic_bins[k] = sorted(v, key=lambda x:x[1]) \n",
        "\n",
        "  topic_bins_keys = sorted(topic_bins.keys())\n",
        "  topic_bin_list = [None] * document_topic_vector.shape[0]\n",
        "  for tindex in topic_bins_keys:\n",
        "    topic_bin_list[tindex] = topic_bins[tindex]\n",
        "\n",
        "  print(\"Topic Bins List Generated!!!\\n\")\n",
        "\n",
        "  sentences = []\n",
        "  index = 0\n",
        "  count = 0\n",
        "  while count < N_LINE and topic_bin_list:\n",
        "    index = index % len(topic_bin_list)\n",
        "    if topic_bin_list[index]:\n",
        "      sentences.append(topic_bin_list[index].pop())\n",
        "      count += 1\n",
        "    index += 1\n",
        "\n",
        "  sentences = sorted(sentences, key=lambda x:x[0])\n",
        "  summary = []\n",
        "  for idx, prob in sentences:\n",
        "    summary.append(article_st[idx])\n",
        "\n",
        "  #end time\n",
        "  toc = time.time()\n",
        "\n",
        "  #calcuale total time\n",
        "  timeTaken = (toc - tic) * 1000 \n",
        "\n",
        "  return timeTaken, \"\".join(summary)\n",
        "  #return summary"
      ],
      "metadata": {
        "id": "kWG8Nw8ItUIB"
      },
      "id": "kWG8Nw8ItUIB",
      "execution_count": null,
      "outputs": []
    },
    {
      "cell_type": "code",
      "source": [
        ""
      ],
      "metadata": {
        "id": "1L6k3gn2tfic"
      },
      "id": "1L6k3gn2tfic",
      "execution_count": null,
      "outputs": []
    },
    {
      "cell_type": "markdown",
      "source": [
        "### Function to Generate TF-IDF + LDA Summary"
      ],
      "metadata": {
        "id": "E6qy-B42tgS4"
      },
      "id": "E6qy-B42tgS4"
    },
    {
      "cell_type": "code",
      "source": [
        "def generate_tfidf_lda_summary(raw_sent_tokens, pp_sent_tokens, summary_size = 10, ngram_tuple=(1,1)):\n",
        "\n",
        "\n",
        "  #start timing\n",
        "  tic = time.time()\n",
        "\n",
        "  #get TFIDF Features\n",
        "  tfidf_vectorizer = TfidfVectorizer(ngram_range=ngram_tuple)\n",
        "  feature_vector = tfidf_vectorizer.fit_transform(pp_sent_tokens)\n",
        "  print(\"TF-IDF Features Generated!!!\")\n",
        "\n",
        "  #get LDA features\n",
        "  lda_model = LDA(n_components=summary_size, random_state=0, max_iter = 100)\n",
        "  document_topic_vector = lda_model.fit_transform(feature_vector)\n",
        "  print(\"LDA Features Generated!!!\")\n",
        "\n",
        "  #\n",
        "  #generatee summaries based on LDA probabilibities\n",
        "  #\n",
        "\n",
        "  sorted_probabilities = np.argsort(document_topic_vector, axis = 1) \n",
        "  top_probabilities = sorted_probabilities[:,-1]\n",
        "  topic_bins = defaultdict(list)\n",
        "\n",
        "  for i in range(document_topic_vector.shape[0]):\n",
        "    topic_num = sorted_probabilities[i][-1]\n",
        "    sent_index = i\n",
        "    prob = document_topic_vector[i,sorted_probabilities[i][-1]]\n",
        "    topic_bins[topic_num].append((sent_index, prob))\n",
        "\n",
        "  print(\"Topic Bins Generated!!!\")\n",
        "\n",
        "  for k, v in topic_bins.items():\n",
        "    topic_bins[k] = sorted(v, key=lambda x:x[1]) \n",
        "\n",
        "  topic_bins_keys = sorted(topic_bins.keys())\n",
        "  topic_bin_list = [None] * document_topic_vector.shape[0]\n",
        "  for tindex in topic_bins_keys:\n",
        "    topic_bin_list[tindex] = topic_bins[tindex]\n",
        "\n",
        "  print(\"Topic Bins List Generated!!!\\n\")\n",
        "\n",
        "  sentences = []\n",
        "  index = 0\n",
        "  count = 0\n",
        "  while count < N_LINE and topic_bin_list:\n",
        "    index = index % len(topic_bin_list)\n",
        "    if topic_bin_list[index]:\n",
        "      sentences.append(topic_bin_list[index].pop())\n",
        "      count += 1\n",
        "    index += 1\n",
        "\n",
        "  sentences = sorted(sentences, key=lambda x:x[0])\n",
        "  summary = []\n",
        "  for idx, prob in sentences:\n",
        "    summary.append(article_st[idx])\n",
        "\n",
        "  #end time\n",
        "  toc = time.time()\n",
        "\n",
        "  #calcuale total time\n",
        "  timeTaken = (toc - tic) * 1000 \n",
        "\n",
        "  return timeTaken, \"\".join(summary)"
      ],
      "metadata": {
        "id": "Rkc5Ddcq6-9_"
      },
      "id": "Rkc5Ddcq6-9_",
      "execution_count": null,
      "outputs": []
    },
    {
      "cell_type": "code",
      "source": [
        ""
      ],
      "metadata": {
        "id": "CUtVPk1VteMb"
      },
      "id": "CUtVPk1VteMb",
      "execution_count": null,
      "outputs": []
    },
    {
      "cell_type": "markdown",
      "source": [
        "### Function to Generate Word Embedding + LDA Summary"
      ],
      "metadata": {
        "id": "ZMGYvinNt9XS"
      },
      "id": "ZMGYvinNt9XS"
    },
    {
      "cell_type": "code",
      "source": [
        "def generate_wemb_lda_summary(raw_sent_tokens, pp_sent_tokens, summary_size = 10, ngram = 1):\n",
        "\n",
        "  #start timing\n",
        "  tic = time.time()\n",
        "\n",
        "  #get word 2 vec model\n",
        "  w2v_model = create_word_to_vec_model(pp_sent_tokens, ngram)#get w2v model\n",
        "  \n",
        "  #get word 2 vec model\n",
        "  words = list(w2v_model.wv.index_to_key)\n",
        "  word_emb_list = sorted(words)\n",
        "\n",
        "  #create pandas dataframe for feature vector\n",
        "  document_term_emb = np.zeros(shape=(len(pp_article_st_wt), len(word_emb_list)))\n",
        "  dte_df = pd.DataFrame(document_term_emb)\n",
        "  dte_df.columns = word_emb_list\n",
        "  for i in range(len(pp_article_st)):\n",
        "    freq_map = Counter(pp_article_st[i])\n",
        "    for word in word_emb_list:\n",
        "      if freq_map[word] > 0:\n",
        "        dte_df[word].iloc[i] += abs(np.median(w2v_model.wv[word]))\n",
        "        freq_map[word] -= 1  \n",
        "\n",
        "  #convert feature vector from dataframe to numpy\n",
        "  feature_vector = dte_df.to_numpy()\n",
        "  print(\"Wemb Features Generated!!!\")\n",
        "\n",
        "  #get LDA features\n",
        "  lda_model = LDA(n_components=summary_size, random_state=0, max_iter = 100)\n",
        "  document_topic_vector = lda_model.fit_transform(feature_vector)\n",
        "  print(\"LDA Features Generated!!!\")\n",
        "\n",
        "  #\n",
        "  #generatee summaries based on LDA probabilibities\n",
        "  #\n",
        "\n",
        "  sorted_probabilities = np.argsort(document_topic_vector, axis = 1) \n",
        "  top_probabilities = sorted_probabilities[:,-1]\n",
        "  topic_bins = defaultdict(list)\n",
        "\n",
        "  for i in range(document_topic_vector.shape[0]):\n",
        "    topic_num = sorted_probabilities[i][-1]\n",
        "    sent_index = i\n",
        "    prob = document_topic_vector[i,sorted_probabilities[i][-1]]\n",
        "    topic_bins[topic_num].append((sent_index, prob))\n",
        "\n",
        "  print(\"Topic Bins Generated!!!\")\n",
        "\n",
        "  for k, v in topic_bins.items():\n",
        "    topic_bins[k] = sorted(v, key=lambda x:x[1]) \n",
        "\n",
        "  topic_bins_keys = sorted(topic_bins.keys())\n",
        "  topic_bin_list = [None] * document_topic_vector.shape[0]\n",
        "  for tindex in topic_bins_keys:\n",
        "    topic_bin_list[tindex] = topic_bins[tindex]\n",
        "\n",
        "  print(\"Topic Bins List Generated!!!\\n\")\n",
        "\n",
        "  sentences = []\n",
        "  index = 0\n",
        "  count = 0\n",
        "  while count < N_LINE and topic_bin_list:\n",
        "    index = index % len(topic_bin_list)\n",
        "    if topic_bin_list[index]:\n",
        "      sentences.append(topic_bin_list[index].pop())\n",
        "      count += 1\n",
        "    index += 1\n",
        "\n",
        "  sentences = sorted(sentences, key=lambda x:x[0])\n",
        "  summary = []\n",
        "  for idx, prob in sentences:\n",
        "    summary.append(article_st[idx])\n",
        "\n",
        "  #end time\n",
        "  toc = time.time()\n",
        "\n",
        "  #calcuale total time\n",
        "  timeTaken = (toc - tic) * 1000 \n",
        "\n",
        "  return timeTaken, \"\".join(summary)"
      ],
      "metadata": {
        "id": "oqhWSwzNtePO"
      },
      "id": "oqhWSwzNtePO",
      "execution_count": null,
      "outputs": []
    },
    {
      "cell_type": "markdown",
      "source": [
        "### Function to Generated BOW + LDA + K-Means Summary"
      ],
      "metadata": {
        "id": "LiErgOtVmvoC"
      },
      "id": "LiErgOtVmvoC"
    },
    {
      "cell_type": "code",
      "source": [
        "def generate_bow_lda_kmeans_summary(raw_sent_tokens, pp_sent_tokens, summary_size = 10, ngram_tuple=(1,1)):\n",
        "\n",
        "  #start timing\n",
        "  tic = time.time()\n",
        "\n",
        "  count_vectorizer = CountVectorizer(ngram_range=ngram_tuple) #intialize BOW model\n",
        "  feature_vector = count_vectorizer.fit_transform(pp_sent_tokens) #train and fit BoW Model\n",
        "  dimention_reduction_model = LDA(n_components = summary_size, max_iter = 100, random_state =100) #initialize LSA model\n",
        "  reduced_feature_vector = dimention_reduction_model.fit_transform(feature_vector) #train and fit LSA model\n",
        "  clustering_model = KMeans(n_clusters=summary_size, random_state=0, max_iter=500) #initialize K Means model\n",
        "  clustering_model.fit(reduced_feature_vector) #train and fir clustering model\n",
        "  cluster_centers = clustering_model.cluster_centers_ #get cluster centers\n",
        "\n",
        "  #generate summary based on \"summary_size\" number of clusters\n",
        "  #sentecens with value closest to each cluster centers are picked\n",
        "  summary_sentences = []\n",
        "  for i in range(cluster_centers.shape[0]):\n",
        "    distances = np.linalg.norm(cluster_centers[i] - reduced_feature_vector, axis=1)\n",
        "    sorted_indices = np.argsort(distances)\n",
        "    summary_sentences.append(article_st[sorted_indices[0]])\n",
        "\n",
        "  #end time\n",
        "  toc = time.time()\n",
        "\n",
        "  #calcuale total time\n",
        "  timeTaken = (toc - tic) * 1000 \n",
        "  \n",
        "  return timeTaken, \"\".join(summary_sentences)\n"
      ],
      "metadata": {
        "id": "cmjyVEehuDmO"
      },
      "id": "cmjyVEehuDmO",
      "execution_count": null,
      "outputs": []
    },
    {
      "cell_type": "markdown",
      "source": [
        "### Function to Generated TF-IDF + LDA + K-Means Summary"
      ],
      "metadata": {
        "id": "d7WfdT61nKLn"
      },
      "id": "d7WfdT61nKLn"
    },
    {
      "cell_type": "code",
      "source": [
        "def generate_tfidf_lda_kmeans_summary(raw_sent_tokens, pp_sent_tokens, summary_size = 10, ngram_tuple=(1,1)):\n",
        "  #start timing\n",
        "  tic = time.time()\n",
        "\n",
        "  tfidf_vectorizer = TfidfVectorizer(ngram_range=ngram_tuple) #intialize TF-IDF model\n",
        "  feature_vector = tfidf_vectorizer.fit_transform(pp_sent_tokens) #train and fit TF-IDF Model\n",
        "  dimention_reduction_model = LDA(n_components = summary_size, max_iter = 100, random_state =100) #initialize LSA model\n",
        "  reduced_feature_vector = dimention_reduction_model.fit_transform(feature_vector) #train and fit LSA model\n",
        "  clustering_model = KMeans(n_clusters=summary_size, random_state=0, max_iter=500) #initialize K Means model\n",
        "  clustering_model.fit(reduced_feature_vector) #train and fir clustering model\n",
        "  cluster_centers = clustering_model.cluster_centers_ #get cluster centers\n",
        "\n",
        "  #generate summary based on \"summary_size\" number of clusters\n",
        "  #sentecens with value closest to each cluster centers are picked\n",
        "  summary_sentences = []\n",
        "  for i in range(cluster_centers.shape[0]):\n",
        "    distances = np.linalg.norm(cluster_centers[i] - reduced_feature_vector, axis=1)\n",
        "    sorted_indices = np.argsort(distances)\n",
        "    summary_sentences.append(article_st[sorted_indices[0]])\n",
        "\n",
        "  #end time\n",
        "  toc = time.time()\n",
        "\n",
        "  #calcuale total time\n",
        "  timeTaken = (toc - tic) * 1000 \n",
        "\n",
        "  return timeTaken, \"\".join(summary_sentences)"
      ],
      "metadata": {
        "id": "6aQolIjYnLJe"
      },
      "id": "6aQolIjYnLJe",
      "execution_count": null,
      "outputs": []
    },
    {
      "cell_type": "code",
      "source": [
        ""
      ],
      "metadata": {
        "id": "wPz8meo_nAaf"
      },
      "id": "wPz8meo_nAaf",
      "execution_count": null,
      "outputs": []
    },
    {
      "cell_type": "markdown",
      "source": [
        "### Function to Generate Word-Embeddings + LDA + K-Means Summary"
      ],
      "metadata": {
        "id": "qxxDCQqDzXhk"
      },
      "id": "qxxDCQqDzXhk"
    },
    {
      "cell_type": "code",
      "source": [
        "def generate_wemb_lda_kmeans_summary(raw_sent_tokens, pp_sent_tokens, summary_size = 10, ngram = 1):\n",
        "\n",
        "  #start timing\n",
        "  tic = time.time()\n",
        "\n",
        "  #get word 2 vec model\n",
        "  w2v_model = create_word_to_vec_model(pp_sent_tokens, ngram)#get w2v model\n",
        "  \n",
        "  #get word 2 vec model\n",
        "  words = list(w2v_model.wv.index_to_key)\n",
        "  word_emb_list = sorted(words)\n",
        "\n",
        "  #create pandas dataframe \n",
        "  document_term_emb = np.zeros(shape=(len(pp_article_st_wt), len(word_emb_list)))\n",
        "  dte_df = pd.DataFrame(document_term_emb)\n",
        "  dte_df.columns = word_emb_list\n",
        "  for i in range(len(pp_article_st)):\n",
        "    freq_map = Counter(pp_article_st[i])\n",
        "    for word in word_emb_list:\n",
        "      if freq_map[word] > 0:\n",
        "        dte_df[word].iloc[i] += np.abs(np.median(w2v_model.wv[word]))\n",
        "        freq_map[word] -= 1  \n",
        "\n",
        "  feature_vector = dte_df.to_numpy()\n",
        "  dimention_reduction_model = LDA(n_components = summary_size, max_iter = 100, random_state =100) #initialize LSA model\n",
        "  reduced_feature_vector = dimention_reduction_model.fit_transform(feature_vector) #train and fit LSA model\n",
        "  clustering_model = KMeans(n_clusters=summary_size, random_state=0, max_iter=500) #initialize K Means model\n",
        "  clustering_model.fit(reduced_feature_vector) #train and fir clustering model\n",
        "  cluster_centers = clustering_model.cluster_centers_ #get cluster centers\n",
        "\n",
        "  #generate summary based on \"summary_size\" number of clusters\n",
        "  #sentecens with value closest to each cluster centers are picked\n",
        "  summary_sentences = []\n",
        "  for i in range(cluster_centers.shape[0]):\n",
        "    distances = np.linalg.norm(cluster_centers[i] - reduced_feature_vector, axis=1)\n",
        "    sorted_indices = np.argsort(distances)\n",
        "    summary_sentences.append(article_st[sorted_indices[0]])\n",
        "\n",
        "  #end time\n",
        "  toc = time.time()\n",
        "\n",
        "  #calcuale total time\n",
        "  timeTaken = (toc - tic) * 1000 \n",
        "\n",
        "  return timeTaken, \"\".join(summary_sentences)  "
      ],
      "metadata": {
        "id": "3WSFBCq1zf1Z"
      },
      "id": "3WSFBCq1zf1Z",
      "execution_count": null,
      "outputs": []
    },
    {
      "cell_type": "code",
      "source": [
        ""
      ],
      "metadata": {
        "id": "GUqsoxgbzjjN"
      },
      "id": "GUqsoxgbzjjN",
      "execution_count": null,
      "outputs": []
    },
    {
      "cell_type": "markdown",
      "source": [
        "## Number of Lines in Summary"
      ],
      "metadata": {
        "id": "lLD8hlgGAF51"
      },
      "id": "lLD8hlgGAF51"
    },
    {
      "cell_type": "code",
      "source": [
        "N_LINE = 10"
      ],
      "metadata": {
        "id": "qo-M603LAJu-"
      },
      "id": "qo-M603LAJu-",
      "execution_count": null,
      "outputs": []
    },
    {
      "cell_type": "markdown",
      "source": [
        "## Generate Summaries for Uni-GRAM (1-GRAM) Occurence"
      ],
      "metadata": {
        "id": "HyPNREDfAex_"
      },
      "id": "HyPNREDfAex_"
    },
    {
      "cell_type": "markdown",
      "source": [
        "### LSA"
      ],
      "metadata": {
        "id": "0RsBeGzuIwiX"
      },
      "id": "0RsBeGzuIwiX"
    },
    {
      "cell_type": "markdown",
      "source": [
        "#### BOW"
      ],
      "metadata": {
        "id": "skT5-BbmAm-F"
      },
      "id": "skT5-BbmAm-F"
    },
    {
      "cell_type": "code",
      "source": [
        "bow_lsa_1gram_tt, bow_lsa_1gram_summary = generate_bow_lsa_summary(article_st, pp_article_st, N_LINE, (1,1))\n",
        "bow_lsa_1gram_summary"
      ],
      "metadata": {
        "id": "6joP68juAqFJ"
      },
      "id": "6joP68juAqFJ",
      "execution_count": null,
      "outputs": []
    },
    {
      "cell_type": "code",
      "source": [
        ""
      ],
      "metadata": {
        "id": "ujazFoO1oLrc"
      },
      "id": "ujazFoO1oLrc",
      "execution_count": null,
      "outputs": []
    },
    {
      "cell_type": "markdown",
      "source": [
        "#### TF-IDF"
      ],
      "metadata": {
        "id": "0phuAYNGAsOn"
      },
      "id": "0phuAYNGAsOn"
    },
    {
      "cell_type": "code",
      "source": [
        "tfidf_lsa_1gram_tt, tfidf_lsa_1gram_summary = generate_tfidf_lsa_summary(article_st, pp_article_st, N_LINE, (1,1))\n",
        "tfidf_lsa_1gram_summary"
      ],
      "metadata": {
        "id": "8UE2EK0MAu1q"
      },
      "id": "8UE2EK0MAu1q",
      "execution_count": null,
      "outputs": []
    },
    {
      "cell_type": "code",
      "source": [
        ""
      ],
      "metadata": {
        "id": "5__tdu8FD5so"
      },
      "id": "5__tdu8FD5so",
      "execution_count": null,
      "outputs": []
    },
    {
      "cell_type": "markdown",
      "source": [
        "#### Word-Embeddings"
      ],
      "metadata": {
        "id": "FsCnwT48BoWq"
      },
      "id": "FsCnwT48BoWq"
    },
    {
      "cell_type": "code",
      "source": [
        "wemb_lsa_1gram_tt ,wemb_lsa_1gram_summary = generate_wemb_lsa_summary(article_st, pp_article_st, summary_size = 10, ngram = 1)\n",
        "wemb_lsa_1gram_summary"
      ],
      "metadata": {
        "id": "dwtarAbNBrJm"
      },
      "id": "dwtarAbNBrJm",
      "execution_count": null,
      "outputs": []
    },
    {
      "cell_type": "code",
      "source": [
        ""
      ],
      "metadata": {
        "id": "pJvPkLVZCxk7"
      },
      "id": "pJvPkLVZCxk7",
      "execution_count": null,
      "outputs": []
    },
    {
      "cell_type": "markdown",
      "source": [
        "#### K-Means"
      ],
      "metadata": {
        "id": "JTlm_z8DUgk7"
      },
      "id": "JTlm_z8DUgk7"
    },
    {
      "cell_type": "markdown",
      "source": [
        "##### BOW"
      ],
      "metadata": {
        "id": "io2lAcoksJE5"
      },
      "id": "io2lAcoksJE5"
    },
    {
      "cell_type": "code",
      "source": [
        "bow_lsa_kmeans_1gram_tt, bow_lsa_kmeans_1gram_summary = generate_bow_lsa_kmeans_summary(article_st, pp_article_st, summary_size = N_LINE, ngram_tuple= (1,1))\n",
        "bow_lsa_kmeans_1gram_summary"
      ],
      "metadata": {
        "id": "O-0SbAhaYrpu"
      },
      "id": "O-0SbAhaYrpu",
      "execution_count": null,
      "outputs": []
    },
    {
      "cell_type": "code",
      "source": [
        ""
      ],
      "metadata": {
        "id": "WSGXYjQXp3im"
      },
      "id": "WSGXYjQXp3im",
      "execution_count": null,
      "outputs": []
    },
    {
      "cell_type": "markdown",
      "source": [
        "##### TF-IDF"
      ],
      "metadata": {
        "id": "XImQYZXTsNTJ"
      },
      "id": "XImQYZXTsNTJ"
    },
    {
      "cell_type": "code",
      "source": [
        "tfidf_lsa_kmeans_1gram_tt, tfidf_lsa_kmeans_1gram_summary = generate_tfidf_lsa_kmeans_summary(article_st, pp_article_st, summary_size = N_LINE, ngram_tuple= (1,1))\n",
        "tfidf_lsa_kmeans_1gram_summary"
      ],
      "metadata": {
        "id": "2Otclgr8sU8J"
      },
      "id": "2Otclgr8sU8J",
      "execution_count": null,
      "outputs": []
    },
    {
      "cell_type": "code",
      "source": [
        ""
      ],
      "metadata": {
        "id": "ZEDWOdpbshcV"
      },
      "id": "ZEDWOdpbshcV",
      "execution_count": null,
      "outputs": []
    },
    {
      "cell_type": "markdown",
      "source": [
        "##### Word-Embeddings"
      ],
      "metadata": {
        "id": "-BhYoNP1z9TE"
      },
      "id": "-BhYoNP1z9TE"
    },
    {
      "cell_type": "code",
      "source": [
        "wemb_lsa_kmeans_1gram_tt, wemb_lsa_kmeans_1gram_summary = generate_wemb_lsa_kmeans_summary(article_st, pp_article_st, summary_size = N_LINE, ngram = 1)\n",
        "wemb_lsa_kmeans_1gram_summary"
      ],
      "metadata": {
        "id": "1mgbcyUMz_ZT"
      },
      "id": "1mgbcyUMz_ZT",
      "execution_count": null,
      "outputs": []
    },
    {
      "cell_type": "markdown",
      "source": [
        "### LDA"
      ],
      "metadata": {
        "id": "hmBel7pdJMIm"
      },
      "id": "hmBel7pdJMIm"
    },
    {
      "cell_type": "code",
      "source": [
        ""
      ],
      "metadata": {
        "id": "J1DK-X6Ep_NI"
      },
      "id": "J1DK-X6Ep_NI",
      "execution_count": null,
      "outputs": []
    },
    {
      "cell_type": "markdown",
      "source": [
        "#### BOW"
      ],
      "metadata": {
        "id": "30v7821bvh-T"
      },
      "id": "30v7821bvh-T"
    },
    {
      "cell_type": "code",
      "source": [
        "bow_lda_1gram_tt, bow_lda_1gram_summary = generate_bow_lda_summary(article_st, pp_article_st, N_LINE, (1,1))\n",
        "bow_lda_1gram_summary"
      ],
      "metadata": {
        "id": "V0mqphOwvjb-"
      },
      "id": "V0mqphOwvjb-",
      "execution_count": null,
      "outputs": []
    },
    {
      "cell_type": "code",
      "source": [
        ""
      ],
      "metadata": {
        "id": "LN6O9lHQvjee"
      },
      "id": "LN6O9lHQvjee",
      "execution_count": null,
      "outputs": []
    },
    {
      "cell_type": "markdown",
      "source": [
        "#### TF-IDF"
      ],
      "metadata": {
        "id": "oIIq7Dsvvj85"
      },
      "id": "oIIq7Dsvvj85"
    },
    {
      "cell_type": "code",
      "source": [
        "tfidf_lda_1gram_tt, tfidf_lda_1gram_summary = generate_tfidf_lda_summary(article_st, pp_article_st, N_LINE, (1,1))\n",
        "tfidf_lda_1gram_summary"
      ],
      "metadata": {
        "id": "wvmSr2iWBtxS"
      },
      "id": "wvmSr2iWBtxS",
      "execution_count": null,
      "outputs": []
    },
    {
      "cell_type": "code",
      "source": [
        ""
      ],
      "metadata": {
        "id": "Ky1AWeMCvl4i"
      },
      "id": "Ky1AWeMCvl4i",
      "execution_count": null,
      "outputs": []
    },
    {
      "cell_type": "markdown",
      "source": [
        "#### Word-Embeddings"
      ],
      "metadata": {
        "id": "Dn3w8s5uvmQH"
      },
      "id": "Dn3w8s5uvmQH"
    },
    {
      "cell_type": "code",
      "source": [
        "wemb_lda_1gram_tt, wemb_lda_1gram_summary = generate_wemb_lda_summary(article_st, pp_article_st, summary_size = 10, ngram = 1)\n",
        "wemb_lda_1gram_summary"
      ],
      "metadata": {
        "id": "lNC_XsFCvpOJ"
      },
      "id": "lNC_XsFCvpOJ",
      "execution_count": null,
      "outputs": []
    },
    {
      "cell_type": "code",
      "source": [
        ""
      ],
      "metadata": {
        "id": "dTS5OHIjwIpx"
      },
      "id": "dTS5OHIjwIpx",
      "execution_count": null,
      "outputs": []
    },
    {
      "cell_type": "markdown",
      "source": [
        "#### K-Means"
      ],
      "metadata": {
        "id": "hIxV5pWCrHxS"
      },
      "id": "hIxV5pWCrHxS"
    },
    {
      "cell_type": "markdown",
      "source": [
        "##### BOW"
      ],
      "metadata": {
        "id": "x-p2gLQosvAb"
      },
      "id": "x-p2gLQosvAb"
    },
    {
      "cell_type": "code",
      "source": [
        "bow_lda_kmeans_1gram_tt, bow_lda_kmeans_1gram_summary = generate_bow_lda_kmeans_summary(article_st, pp_article_st, summary_size = N_LINE, ngram_tuple= (1,1))\n",
        "bow_lda_kmeans_1gram_summary"
      ],
      "metadata": {
        "id": "aRSbqA1zsxcH"
      },
      "id": "aRSbqA1zsxcH",
      "execution_count": null,
      "outputs": []
    },
    {
      "cell_type": "markdown",
      "source": [
        "##### TF-IDF"
      ],
      "metadata": {
        "id": "Z8hQD9XpsyZX"
      },
      "id": "Z8hQD9XpsyZX"
    },
    {
      "cell_type": "code",
      "source": [
        "tfidf_lda_kmeans_1gram_tt, tfidf_lda_kmeans_1gram_summary = generate_tfidf_lda_kmeans_summary(article_st, pp_article_st, summary_size = N_LINE, ngram_tuple= (1,1))\n",
        "tfidf_lda_kmeans_1gram_summary"
      ],
      "metadata": {
        "id": "VF2_zoz3rQvq"
      },
      "id": "VF2_zoz3rQvq",
      "execution_count": null,
      "outputs": []
    },
    {
      "cell_type": "code",
      "source": [
        ""
      ],
      "metadata": {
        "id": "SdMEgFOUrMxQ"
      },
      "id": "SdMEgFOUrMxQ",
      "execution_count": null,
      "outputs": []
    },
    {
      "cell_type": "markdown",
      "source": [
        "##### Word-Embeddings"
      ],
      "metadata": {
        "id": "QZuXk8os1PGo"
      },
      "id": "QZuXk8os1PGo"
    },
    {
      "cell_type": "code",
      "source": [
        "wemb_lda_kmeans_1gram_tt, wemb_lda_kmeans_1gram_summary = generate_wemb_lda_kmeans_summary(article_st, pp_article_st, summary_size = N_LINE, ngram = 1)\n",
        "wemb_lda_kmeans_1gram_summary"
      ],
      "metadata": {
        "id": "viQeY_1o1Qy_"
      },
      "id": "viQeY_1o1Qy_",
      "execution_count": null,
      "outputs": []
    },
    {
      "cell_type": "code",
      "source": [
        ""
      ],
      "metadata": {
        "id": "7gEHH9WU1rKl"
      },
      "id": "7gEHH9WU1rKl",
      "execution_count": null,
      "outputs": []
    },
    {
      "cell_type": "markdown",
      "id": "presidential-might",
      "metadata": {
        "id": "presidential-might"
      },
      "source": [
        "## Generate Summaries For BI-GRAM (2-GRAM) Occurence"
      ]
    },
    {
      "cell_type": "markdown",
      "source": [
        "### LSA"
      ],
      "metadata": {
        "id": "VVfqLgD5I7fI"
      },
      "id": "VVfqLgD5I7fI"
    },
    {
      "cell_type": "markdown",
      "id": "gorgeous-handy",
      "metadata": {
        "id": "gorgeous-handy"
      },
      "source": [
        "#### BOW"
      ]
    },
    {
      "cell_type": "code",
      "execution_count": null,
      "id": "logical-lincoln",
      "metadata": {
        "id": "logical-lincoln"
      },
      "outputs": [],
      "source": [
        "bow_lsa_2gram_tt, bow_lsa_2gram_summary = generate_bow_lsa_summary(article_st, pp_article_st, N_LINE, (2,2))\n",
        "bow_lsa_2gram_summary"
      ]
    },
    {
      "cell_type": "markdown",
      "id": "operational-request",
      "metadata": {
        "id": "operational-request"
      },
      "source": [
        "#### TF-IDF"
      ]
    },
    {
      "cell_type": "code",
      "execution_count": null,
      "id": "downtown-earth",
      "metadata": {
        "id": "downtown-earth"
      },
      "outputs": [],
      "source": [
        "tfidf_lsa_2gram_tt, tfidf_lsa_2gram_summary = generate_tfidf_lsa_summary(article_st, pp_article_st, N_LINE, (2,2))\n",
        "tfidf_lsa_2gram_summary"
      ]
    },
    {
      "cell_type": "code",
      "execution_count": null,
      "id": "allied-creator",
      "metadata": {
        "id": "allied-creator"
      },
      "outputs": [],
      "source": [
        ""
      ]
    },
    {
      "cell_type": "markdown",
      "source": [
        "#### Word-Embeddings"
      ],
      "metadata": {
        "id": "S5OjqFi0b99j"
      },
      "id": "S5OjqFi0b99j"
    },
    {
      "cell_type": "code",
      "source": [
        "wemb_lsa_2gram_tt, wemb_lsa_2gram_summary = generate_wemb_lsa_summary(article_st, pp_article_st, summary_size = 10, ngram = 2)\n",
        "wemb_lsa_2gram_summary"
      ],
      "metadata": {
        "id": "GIciQeiVJ8yy"
      },
      "id": "GIciQeiVJ8yy",
      "execution_count": null,
      "outputs": []
    },
    {
      "cell_type": "code",
      "source": [
        ""
      ],
      "metadata": {
        "id": "pCcpN_mLcAc6"
      },
      "id": "pCcpN_mLcAc6",
      "execution_count": null,
      "outputs": []
    },
    {
      "cell_type": "markdown",
      "source": [
        "#### K-Means"
      ],
      "metadata": {
        "id": "Uyo02ehHrXv7"
      },
      "id": "Uyo02ehHrXv7"
    },
    {
      "cell_type": "markdown",
      "source": [
        "##### BOW"
      ],
      "metadata": {
        "id": "-TfOXvrDtb7W"
      },
      "id": "-TfOXvrDtb7W"
    },
    {
      "cell_type": "code",
      "source": [
        "bow_lsa_kmeans_2gram_tt, bow_lsa_kmeans_2gram_summary = generate_bow_lsa_kmeans_summary(article_st, pp_article_st, summary_size = N_LINE, ngram_tuple= (2,2))\n",
        "bow_lsa_kmeans_2gram_summary"
      ],
      "metadata": {
        "id": "L9nrB1QJtdm-"
      },
      "id": "L9nrB1QJtdm-",
      "execution_count": null,
      "outputs": []
    },
    {
      "cell_type": "markdown",
      "source": [
        "##### TF-IDF"
      ],
      "metadata": {
        "id": "H2oT1orDteTF"
      },
      "id": "H2oT1orDteTF"
    },
    {
      "cell_type": "code",
      "source": [
        "tfidf_lsa_kmeans_2gram_tt, tfidf_lsa_kmeans_2gram_summary = generate_tfidf_lsa_kmeans_summary(article_st, pp_article_st, summary_size = N_LINE, ngram_tuple= (2,2))\n",
        "tfidf_lsa_kmeans_2gram_summary"
      ],
      "metadata": {
        "id": "-QPrZkm3raPr"
      },
      "id": "-QPrZkm3raPr",
      "execution_count": null,
      "outputs": []
    },
    {
      "cell_type": "markdown",
      "source": [
        "##### Word-Embeddings"
      ],
      "metadata": {
        "id": "wrfLQe2A1tli"
      },
      "id": "wrfLQe2A1tli"
    },
    {
      "cell_type": "code",
      "source": [
        "wemb_lsa_kmeans_2gram_tt, wemb_lsa_kmeans_2gram_summary = generate_wemb_lsa_kmeans_summary(article_st, pp_article_st, summary_size = N_LINE, ngram = 2)\n",
        "wemb_lsa_kmeans_2gram_summary"
      ],
      "metadata": {
        "id": "HRiREW-8reDP"
      },
      "id": "HRiREW-8reDP",
      "execution_count": null,
      "outputs": []
    },
    {
      "cell_type": "markdown",
      "source": [
        "### LDA"
      ],
      "metadata": {
        "id": "IPHHGuEIxZGC"
      },
      "id": "IPHHGuEIxZGC"
    },
    {
      "cell_type": "code",
      "source": [
        ""
      ],
      "metadata": {
        "id": "9qDizqSKxaa_"
      },
      "id": "9qDizqSKxaa_",
      "execution_count": null,
      "outputs": []
    },
    {
      "cell_type": "markdown",
      "source": [
        "#### BOW"
      ],
      "metadata": {
        "id": "XeOBje1Zxa0i"
      },
      "id": "XeOBje1Zxa0i"
    },
    {
      "cell_type": "code",
      "source": [
        "bow_lda_2gram_tt, bow_lda_2gram_summary = generate_bow_lda_summary(article_st, pp_article_st, N_LINE, (2,2))\n",
        "bow_lda_2gram_summary"
      ],
      "metadata": {
        "id": "kl5kaWBrxhgF"
      },
      "id": "kl5kaWBrxhgF",
      "execution_count": null,
      "outputs": []
    },
    {
      "cell_type": "code",
      "source": [
        ""
      ],
      "metadata": {
        "id": "W8eNJzi8xk3o"
      },
      "id": "W8eNJzi8xk3o",
      "execution_count": null,
      "outputs": []
    },
    {
      "cell_type": "markdown",
      "source": [
        "#### TF-IDF"
      ],
      "metadata": {
        "id": "oDaTnhabxmOG"
      },
      "id": "oDaTnhabxmOG"
    },
    {
      "cell_type": "code",
      "source": [
        "tfidf_lda_2gram_tt, tfidf_lda_2gram_summary = generate_tfidf_lda_summary(article_st, pp_article_st, N_LINE, (2,2))\n",
        "tfidf_lda_2gram_summary"
      ],
      "metadata": {
        "id": "tid6L4bKxnhR"
      },
      "id": "tid6L4bKxnhR",
      "execution_count": null,
      "outputs": []
    },
    {
      "cell_type": "code",
      "source": [
        ""
      ],
      "metadata": {
        "id": "LLtonmd6xvc7"
      },
      "id": "LLtonmd6xvc7",
      "execution_count": null,
      "outputs": []
    },
    {
      "cell_type": "markdown",
      "source": [
        "#### Word-Embeddings"
      ],
      "metadata": {
        "id": "Da5u0EdSxwhp"
      },
      "id": "Da5u0EdSxwhp"
    },
    {
      "cell_type": "code",
      "source": [
        "wemb_lda_2gram_tt, wemb_lda_2gram_summary = generate_wemb_lda_summary(article_st, pp_article_st, summary_size = 10, ngram = 2)\n",
        "wemb_lda_2gram_summary"
      ],
      "metadata": {
        "id": "ziUx2NIOxyo3"
      },
      "id": "ziUx2NIOxyo3",
      "execution_count": null,
      "outputs": []
    },
    {
      "cell_type": "code",
      "source": [
        ""
      ],
      "metadata": {
        "id": "VaSAAJy7yj08"
      },
      "id": "VaSAAJy7yj08",
      "execution_count": null,
      "outputs": []
    },
    {
      "cell_type": "markdown",
      "source": [
        "#### K-Means"
      ],
      "metadata": {
        "id": "E4INM0_Irmqd"
      },
      "id": "E4INM0_Irmqd"
    },
    {
      "cell_type": "markdown",
      "source": [
        "##### BOW"
      ],
      "metadata": {
        "id": "YYP_871tt_eI"
      },
      "id": "YYP_871tt_eI"
    },
    {
      "cell_type": "code",
      "source": [
        "bow_lda_kmeans_2gram_tt, bow_lda_kmeans_2gram_summary = generate_bow_lda_kmeans_summary(article_st, pp_article_st, summary_size = N_LINE, ngram_tuple= (2,2))\n",
        "bow_lda_kmeans_2gram_summary"
      ],
      "metadata": {
        "id": "P96hWhYPuC5E"
      },
      "id": "P96hWhYPuC5E",
      "execution_count": null,
      "outputs": []
    },
    {
      "cell_type": "markdown",
      "source": [
        "##### TF-IDF"
      ],
      "metadata": {
        "id": "AoUjAG24uIWW"
      },
      "id": "AoUjAG24uIWW"
    },
    {
      "cell_type": "code",
      "source": [
        "tfidf_lda_kmeans_2gram_tt, tfidf_lda_kmeans_2gram_summary = generate_tfidf_lda_kmeans_summary(article_st, pp_article_st, summary_size = N_LINE, ngram_tuple= (2,2))\n",
        "tfidf_lda_kmeans_2gram_summary"
      ],
      "metadata": {
        "id": "2zhrOFzur0Vu"
      },
      "id": "2zhrOFzur0Vu",
      "execution_count": null,
      "outputs": []
    },
    {
      "cell_type": "markdown",
      "source": [
        "##### Word-Embeddings"
      ],
      "metadata": {
        "id": "rIaGiZo_2RX1"
      },
      "id": "rIaGiZo_2RX1"
    },
    {
      "cell_type": "code",
      "source": [
        "wemb_lda_kmeans_2gram_tt, wemb_lda_kmeans_2gram_summary = generate_wemb_lda_kmeans_summary(article_st, pp_article_st, summary_size = N_LINE, ngram = 2)\n",
        "wemb_lda_kmeans_2gram_summary"
      ],
      "metadata": {
        "id": "0cNl5Ggk2Tpq"
      },
      "id": "0cNl5Ggk2Tpq",
      "execution_count": null,
      "outputs": []
    },
    {
      "cell_type": "markdown",
      "id": "changed-exhaust",
      "metadata": {
        "id": "changed-exhaust"
      },
      "source": [
        "## Generate Summaries For Tri-GRAM (3-GRAM) Occurence"
      ]
    },
    {
      "cell_type": "markdown",
      "source": [
        "### LSA"
      ],
      "metadata": {
        "id": "AKVlrqWS_Ml2"
      },
      "id": "AKVlrqWS_Ml2"
    },
    {
      "cell_type": "markdown",
      "source": [
        "#### BOW"
      ],
      "metadata": {
        "id": "d4RLFIyb_Ho8"
      },
      "id": "d4RLFIyb_Ho8"
    },
    {
      "cell_type": "code",
      "execution_count": null,
      "id": "organizational-conducting",
      "metadata": {
        "id": "organizational-conducting"
      },
      "outputs": [],
      "source": [
        "bow_lsa_3gram_tt, bow_lsa_3gram_summary = generate_bow_lsa_summary(article_st, pp_article_st, N_LINE, (3,3))\n",
        "bow_lsa_3gram_summary"
      ]
    },
    {
      "cell_type": "markdown",
      "id": "drawn-ethnic",
      "metadata": {
        "id": "drawn-ethnic"
      },
      "source": [
        "#### TF-IDF"
      ]
    },
    {
      "cell_type": "code",
      "execution_count": null,
      "id": "academic-mother",
      "metadata": {
        "id": "academic-mother"
      },
      "outputs": [],
      "source": [
        "tfidf_lsa_3gram_tt, tfidf_lsa_3gram_summary = generate_tfidf_lsa_summary(article_st, pp_article_st, N_LINE, (3,3))\n",
        "tfidf_lsa_3gram_summary"
      ]
    },
    {
      "cell_type": "code",
      "source": [
        ""
      ],
      "metadata": {
        "id": "t0EaLOFP64NW"
      },
      "id": "t0EaLOFP64NW",
      "execution_count": null,
      "outputs": []
    },
    {
      "cell_type": "markdown",
      "source": [
        "#### Word-Embeddings"
      ],
      "metadata": {
        "id": "XE3MybHl66EU"
      },
      "id": "XE3MybHl66EU"
    },
    {
      "cell_type": "code",
      "source": [
        "wemb_lsa_3gram_tt, wemb_lsa_3gram_summary = generate_wemb_lsa_summary(article_st, pp_article_st, summary_size = 10, ngram = 3)\n",
        "wemb_lsa_3gram_summary"
      ],
      "metadata": {
        "id": "1sN4DN0q6_fo"
      },
      "id": "1sN4DN0q6_fo",
      "execution_count": null,
      "outputs": []
    },
    {
      "cell_type": "code",
      "source": [
        ""
      ],
      "metadata": {
        "id": "vrf0W65C-thV"
      },
      "id": "vrf0W65C-thV",
      "execution_count": null,
      "outputs": []
    },
    {
      "cell_type": "markdown",
      "source": [
        "#### K-Means"
      ],
      "metadata": {
        "id": "kV4cS6AWr2gV"
      },
      "id": "kV4cS6AWr2gV"
    },
    {
      "cell_type": "markdown",
      "source": [
        "##### BOW"
      ],
      "metadata": {
        "id": "RKt8HctzvV6y"
      },
      "id": "RKt8HctzvV6y"
    },
    {
      "cell_type": "code",
      "source": [
        "bow_lsa_kmeans_3gram_tt, bow_lsa_kmeans_3gram_summary = generate_bow_lsa_kmeans_summary(article_st, pp_article_st, summary_size = N_LINE, ngram_tuple= (3, 3))\n",
        "bow_lsa_kmeans_3gram_summary"
      ],
      "metadata": {
        "id": "fhf1doNHvYOa"
      },
      "id": "fhf1doNHvYOa",
      "execution_count": null,
      "outputs": []
    },
    {
      "cell_type": "markdown",
      "source": [
        "##### TF-IDF"
      ],
      "metadata": {
        "id": "VBus4e-BvarJ"
      },
      "id": "VBus4e-BvarJ"
    },
    {
      "cell_type": "code",
      "source": [
        "tfidf_lsa_kmeans_3gram_tt, tfidf_lsa_kmeans_3gram_summary = generate_tfidf_lsa_kmeans_summary(article_st, pp_article_st, summary_size = N_LINE, ngram_tuple= (3, 3))\n",
        "tfidf_lsa_kmeans_3gram_summary"
      ],
      "metadata": {
        "id": "I-6Q518Br-wJ"
      },
      "id": "I-6Q518Br-wJ",
      "execution_count": null,
      "outputs": []
    },
    {
      "cell_type": "markdown",
      "source": [
        "##### Word-Embeddings"
      ],
      "metadata": {
        "id": "9waYrDwC3NQ_"
      },
      "id": "9waYrDwC3NQ_"
    },
    {
      "cell_type": "code",
      "source": [
        "wemb_lsa_kmeans_3gram_tt, wemb_lsa_kmeans_3gram_summary = generate_wemb_lsa_kmeans_summary(article_st, pp_article_st, summary_size = N_LINE, ngram = 3)\n",
        "wemb_lsa_kmeans_3gram_summary"
      ],
      "metadata": {
        "id": "s50xLzaJ3R2g"
      },
      "id": "s50xLzaJ3R2g",
      "execution_count": null,
      "outputs": []
    },
    {
      "cell_type": "code",
      "source": [
        ""
      ],
      "metadata": {
        "id": "2WUXHvAq3X7B"
      },
      "id": "2WUXHvAq3X7B",
      "execution_count": null,
      "outputs": []
    },
    {
      "cell_type": "markdown",
      "source": [
        "### LDA"
      ],
      "metadata": {
        "id": "U1kV8V4-y-9z"
      },
      "id": "U1kV8V4-y-9z"
    },
    {
      "cell_type": "markdown",
      "source": [
        "#### BOW"
      ],
      "metadata": {
        "id": "18oFKgvAzTq4"
      },
      "id": "18oFKgvAzTq4"
    },
    {
      "cell_type": "code",
      "source": [
        "bow_lda_3gram_tt, bow_lda_3gram_summary = generate_bow_lda_summary(article_st, pp_article_st, N_LINE, (3,3))\n",
        "bow_lda_3gram_summary"
      ],
      "metadata": {
        "id": "pMDGBN3azU5-"
      },
      "id": "pMDGBN3azU5-",
      "execution_count": null,
      "outputs": []
    },
    {
      "cell_type": "code",
      "source": [
        ""
      ],
      "metadata": {
        "id": "x4Mm3x6J0BUt"
      },
      "id": "x4Mm3x6J0BUt",
      "execution_count": null,
      "outputs": []
    },
    {
      "cell_type": "markdown",
      "source": [
        "#### TF-IDF"
      ],
      "metadata": {
        "id": "0tKkCLTlzVNw"
      },
      "id": "0tKkCLTlzVNw"
    },
    {
      "cell_type": "code",
      "source": [
        "tfidf_lda_3gram_tt, tfidf_lda_3gram_summary = generate_tfidf_lda_summary(article_st, pp_article_st, N_LINE, (3,3))\n",
        "tfidf_lda_3gram_summary"
      ],
      "metadata": {
        "id": "miXrsG64zW5p"
      },
      "id": "miXrsG64zW5p",
      "execution_count": null,
      "outputs": []
    },
    {
      "cell_type": "code",
      "source": [
        ""
      ],
      "metadata": {
        "id": "xIesO_Ki0FSW"
      },
      "id": "xIesO_Ki0FSW",
      "execution_count": null,
      "outputs": []
    },
    {
      "cell_type": "markdown",
      "source": [
        "#### Word-Embeddings"
      ],
      "metadata": {
        "id": "WBf0-vRPzYZU"
      },
      "id": "WBf0-vRPzYZU"
    },
    {
      "cell_type": "code",
      "source": [
        "wemb_lda_3gram_tt, wemb_lda_3gram_summary = generate_wemb_lda_summary(article_st, pp_article_st, summary_size = 10, ngram = 3)\n",
        "wemb_lda_3gram_summary"
      ],
      "metadata": {
        "id": "juwX-6oHza7X"
      },
      "id": "juwX-6oHza7X",
      "execution_count": null,
      "outputs": []
    },
    {
      "cell_type": "code",
      "source": [
        ""
      ],
      "metadata": {
        "id": "yP6GytWs0Lk-"
      },
      "id": "yP6GytWs0Lk-",
      "execution_count": null,
      "outputs": []
    },
    {
      "cell_type": "markdown",
      "source": [
        "#### K-Means"
      ],
      "metadata": {
        "id": "xOIKbCcksBCE"
      },
      "id": "xOIKbCcksBCE"
    },
    {
      "cell_type": "markdown",
      "source": [
        "##### BOW"
      ],
      "metadata": {
        "id": "paz3LKynwpu9"
      },
      "id": "paz3LKynwpu9"
    },
    {
      "cell_type": "code",
      "source": [
        "bow_lda_kmeans_3gram_tt, bow_lda_kmeans_3gram_summary = generate_bow_lda_kmeans_summary(article_st, pp_article_st, summary_size = N_LINE, ngram_tuple= (3, 3))\n",
        "bow_lda_kmeans_3gram_summary"
      ],
      "metadata": {
        "id": "jVDv_fcMwthp"
      },
      "id": "jVDv_fcMwthp",
      "execution_count": null,
      "outputs": []
    },
    {
      "cell_type": "markdown",
      "source": [
        "##### TF-IDF"
      ],
      "metadata": {
        "id": "B2vdsMA4wrYB"
      },
      "id": "B2vdsMA4wrYB"
    },
    {
      "cell_type": "code",
      "source": [
        "tfidf_lda_kmeans_3gram_tt, tfidf_lda_kmeans_3gram_summary = generate_tfidf_lda_kmeans_summary(article_st, pp_article_st, summary_size = N_LINE, ngram_tuple= (3, 3))\n",
        "tfidf_lda_kmeans_3gram_summary"
      ],
      "metadata": {
        "id": "Fs0D6q8asC0J"
      },
      "id": "Fs0D6q8asC0J",
      "execution_count": null,
      "outputs": []
    },
    {
      "cell_type": "markdown",
      "source": [
        "##### Word-Embeddings"
      ],
      "metadata": {
        "id": "r9vBFw8O3bQK"
      },
      "id": "r9vBFw8O3bQK"
    },
    {
      "cell_type": "code",
      "source": [
        "wemb_lda_kmeans_3gram_tt, wemb_lda_kmeans_3gram_summary = generate_wemb_lda_kmeans_summary(article_st, pp_article_st, summary_size = N_LINE, ngram = 3)\n",
        "wemb_lda_kmeans_3gram_summary"
      ],
      "metadata": {
        "id": "WH4qkhGJ3diO"
      },
      "id": "WH4qkhGJ3diO",
      "execution_count": null,
      "outputs": []
    },
    {
      "cell_type": "code",
      "source": [
        ""
      ],
      "metadata": {
        "id": "hyY4wE833g-n"
      },
      "id": "hyY4wE833g-n",
      "execution_count": null,
      "outputs": []
    },
    {
      "cell_type": "markdown",
      "id": "banner-transmission",
      "metadata": {
        "id": "banner-transmission"
      },
      "source": [
        "## Generate Feaure Matrixes and Summaries For (4-GRAM) Occurence"
      ]
    },
    {
      "cell_type": "markdown",
      "source": [
        "### LSA"
      ],
      "metadata": {
        "id": "2QD1ADbi_Xbf"
      },
      "id": "2QD1ADbi_Xbf"
    },
    {
      "cell_type": "markdown",
      "id": "grateful-purpose",
      "metadata": {
        "id": "grateful-purpose"
      },
      "source": [
        "#### BOW"
      ]
    },
    {
      "cell_type": "code",
      "execution_count": null,
      "id": "military-bacon",
      "metadata": {
        "id": "military-bacon"
      },
      "outputs": [],
      "source": [
        "bow_lsa_4gram_tt, bow_lsa_4gram_summary = generate_bow_lsa_summary(article_st, pp_article_st, N_LINE, (4,4))\n",
        "bow_lsa_4gram_summary"
      ]
    },
    {
      "cell_type": "code",
      "execution_count": null,
      "id": "dominant-struggle",
      "metadata": {
        "id": "dominant-struggle"
      },
      "outputs": [],
      "source": [
        ""
      ]
    },
    {
      "cell_type": "markdown",
      "id": "israeli-salvation",
      "metadata": {
        "id": "israeli-salvation"
      },
      "source": [
        "#### TF-IDF"
      ]
    },
    {
      "cell_type": "code",
      "execution_count": null,
      "id": "exceptional-interval",
      "metadata": {
        "id": "exceptional-interval"
      },
      "outputs": [],
      "source": [
        "tfidf_lsa_4gram_tt, tfidf_lsa_4gram_summary = generate_tfidf_lsa_summary(article_st, pp_article_st, N_LINE, (4,4))\n",
        "tfidf_lsa_4gram_summary"
      ]
    },
    {
      "cell_type": "code",
      "execution_count": null,
      "id": "loved-vision",
      "metadata": {
        "id": "loved-vision"
      },
      "outputs": [],
      "source": [
        ""
      ]
    },
    {
      "cell_type": "markdown",
      "source": [
        "#### Word-Embeddings"
      ],
      "metadata": {
        "id": "OewDm5BN7Qbc"
      },
      "id": "OewDm5BN7Qbc"
    },
    {
      "cell_type": "code",
      "source": [
        "wemb_lsa_4gram_tt, wemb_lsa_4gram_summary = generate_wemb_lsa_summary(article_st, pp_article_st, summary_size = 10, ngram = 4)\n",
        "wemb_lsa_4gram_summary"
      ],
      "metadata": {
        "id": "0CmaqN-t7Uow"
      },
      "id": "0CmaqN-t7Uow",
      "execution_count": null,
      "outputs": []
    },
    {
      "cell_type": "code",
      "source": [
        ""
      ],
      "metadata": {
        "id": "pDFwxPWB7WXR"
      },
      "id": "pDFwxPWB7WXR",
      "execution_count": null,
      "outputs": []
    },
    {
      "cell_type": "markdown",
      "source": [
        "#### K-Means"
      ],
      "metadata": {
        "id": "qL6_ZdZlxGtS"
      },
      "id": "qL6_ZdZlxGtS"
    },
    {
      "cell_type": "markdown",
      "source": [
        "##### BOW"
      ],
      "metadata": {
        "id": "jFS9pjXExJwA"
      },
      "id": "jFS9pjXExJwA"
    },
    {
      "cell_type": "code",
      "source": [
        "bow_lsa_kmeans_4gram_tt, bow_lsa_kmeans_4gram_summary = generate_bow_lsa_kmeans_summary(article_st, pp_article_st, summary_size = N_LINE, ngram_tuple= (4, 4))\n",
        "bow_lsa_kmeans_4gram_summary"
      ],
      "metadata": {
        "id": "FuHmvwrFxLDH"
      },
      "id": "FuHmvwrFxLDH",
      "execution_count": null,
      "outputs": []
    },
    {
      "cell_type": "code",
      "source": [
        ""
      ],
      "metadata": {
        "id": "pJHEOKKbxLnO"
      },
      "id": "pJHEOKKbxLnO",
      "execution_count": null,
      "outputs": []
    },
    {
      "cell_type": "markdown",
      "source": [
        "##### TF-IDF"
      ],
      "metadata": {
        "id": "C8231PEmxL6V"
      },
      "id": "C8231PEmxL6V"
    },
    {
      "cell_type": "code",
      "source": [
        "tfidf_lsa_kmeans_4gram_tt, tfidf_lsa_kmeans_4gram_summary = generate_tfidf_lsa_kmeans_summary(article_st, pp_article_st, summary_size = N_LINE, ngram_tuple= (4, 4))\n",
        "tfidf_lsa_kmeans_4gram_summary"
      ],
      "metadata": {
        "id": "pif1vnd9xNj2"
      },
      "id": "pif1vnd9xNj2",
      "execution_count": null,
      "outputs": []
    },
    {
      "cell_type": "markdown",
      "source": [
        "##### Word-Embeddings"
      ],
      "metadata": {
        "id": "dyqbFiWD3tBo"
      },
      "id": "dyqbFiWD3tBo"
    },
    {
      "cell_type": "code",
      "source": [
        "wemb_lsa_kmeans_4gram_tt, wemb_lsa_kmeans_4gram_summary = generate_wemb_lsa_kmeans_summary(article_st, pp_article_st, summary_size = N_LINE, ngram = 4)\n",
        "wemb_lsa_kmeans_4gram_summary"
      ],
      "metadata": {
        "id": "gWehILfL3u20"
      },
      "id": "gWehILfL3u20",
      "execution_count": null,
      "outputs": []
    },
    {
      "cell_type": "code",
      "source": [
        ""
      ],
      "metadata": {
        "id": "sEYq1OAb33MB"
      },
      "id": "sEYq1OAb33MB",
      "execution_count": null,
      "outputs": []
    },
    {
      "cell_type": "markdown",
      "source": [
        "### LDA"
      ],
      "metadata": {
        "id": "TO4Xmnc71CU6"
      },
      "id": "TO4Xmnc71CU6"
    },
    {
      "cell_type": "markdown",
      "source": [
        "#### BOW"
      ],
      "metadata": {
        "id": "0PmugOzL1D6r"
      },
      "id": "0PmugOzL1D6r"
    },
    {
      "cell_type": "code",
      "source": [
        "bow_lda_4gram_tt, bow_lda_4gram_summary = generate_bow_lda_summary(article_st, pp_article_st, N_LINE, (4,4))\n",
        "bow_lda_4gram_summary"
      ],
      "metadata": {
        "id": "Q8uGaFoQ1E9F"
      },
      "id": "Q8uGaFoQ1E9F",
      "execution_count": null,
      "outputs": []
    },
    {
      "cell_type": "code",
      "source": [
        ""
      ],
      "metadata": {
        "id": "8v-R9EPl1RmK"
      },
      "id": "8v-R9EPl1RmK",
      "execution_count": null,
      "outputs": []
    },
    {
      "cell_type": "markdown",
      "source": [
        "#### TF-IDF"
      ],
      "metadata": {
        "id": "HczpZU4s1Fd0"
      },
      "id": "HczpZU4s1Fd0"
    },
    {
      "cell_type": "code",
      "source": [
        "tfidf_lda_4gram_tt, tfidf_lda_4gram_summary = generate_tfidf_lda_summary(article_st, pp_article_st, N_LINE, (4,4))\n",
        "tfidf_lda_4gram_summary"
      ],
      "metadata": {
        "id": "RME8SLxO1HBO"
      },
      "id": "RME8SLxO1HBO",
      "execution_count": null,
      "outputs": []
    },
    {
      "cell_type": "markdown",
      "source": [
        "#### Word-Embeddings"
      ],
      "metadata": {
        "id": "VCWe2mZE1H8f"
      },
      "id": "VCWe2mZE1H8f"
    },
    {
      "cell_type": "code",
      "source": [
        "wemb_lda_4gram_tt, wemb_lda_4gram_summary = generate_wemb_lda_summary(article_st, pp_article_st, summary_size = N_LINE, ngram = 4)\n",
        "wemb_lda_4gram_summary"
      ],
      "metadata": {
        "id": "I28h3tTd1J5i"
      },
      "id": "I28h3tTd1J5i",
      "execution_count": null,
      "outputs": []
    },
    {
      "cell_type": "code",
      "source": [
        ""
      ],
      "metadata": {
        "id": "Q6y0PCGH1HJt"
      },
      "id": "Q6y0PCGH1HJt",
      "execution_count": null,
      "outputs": []
    },
    {
      "cell_type": "markdown",
      "source": [
        "#### K-Means"
      ],
      "metadata": {
        "id": "pxKFDIoExiLa"
      },
      "id": "pxKFDIoExiLa"
    },
    {
      "cell_type": "markdown",
      "source": [
        "##### BOW"
      ],
      "metadata": {
        "id": "tgqkz4pfxmOK"
      },
      "id": "tgqkz4pfxmOK"
    },
    {
      "cell_type": "code",
      "source": [
        "bow_lda_kmeans_4gram_tt, bow_lda_kmeans_4gram_summary = generate_bow_lda_kmeans_summary(article_st, pp_article_st, summary_size = N_LINE, ngram_tuple= (4, 4))\n",
        "bow_lda_kmeans_4gram_summary"
      ],
      "metadata": {
        "id": "vfwDW8DPxnTV"
      },
      "id": "vfwDW8DPxnTV",
      "execution_count": null,
      "outputs": []
    },
    {
      "cell_type": "code",
      "source": [
        ""
      ],
      "metadata": {
        "id": "k9en3Dkoxj98"
      },
      "id": "k9en3Dkoxj98",
      "execution_count": null,
      "outputs": []
    },
    {
      "cell_type": "markdown",
      "source": [
        "##### TF-IDF"
      ],
      "metadata": {
        "id": "CajKccmVxs-0"
      },
      "id": "CajKccmVxs-0"
    },
    {
      "cell_type": "code",
      "source": [
        "tfidf_lda_kmeans_4gram_tt, tfidf_lda_kmeans_4gram_summary = generate_tfidf_lda_kmeans_summary(article_st, pp_article_st, summary_size = N_LINE, ngram_tuple= (4, 4))\n",
        "tfidf_lda_kmeans_4gram_summary"
      ],
      "metadata": {
        "id": "kENw1aodxuaM"
      },
      "id": "kENw1aodxuaM",
      "execution_count": null,
      "outputs": []
    },
    {
      "cell_type": "markdown",
      "source": [
        "##### Word-Embeddings"
      ],
      "metadata": {
        "id": "z6gOhOGa38nq"
      },
      "id": "z6gOhOGa38nq"
    },
    {
      "cell_type": "code",
      "source": [
        "wemb_lda_kmeans_4gram_tt, wemb_lda_kmeans_4gram_summary = generate_wemb_lda_kmeans_summary(article_st, pp_article_st, summary_size = N_LINE, ngram = 4)\n",
        "wemb_lda_kmeans_4gram_summary"
      ],
      "metadata": {
        "id": "ZAyMViLu3_VR"
      },
      "id": "ZAyMViLu3_VR",
      "execution_count": null,
      "outputs": []
    },
    {
      "cell_type": "code",
      "source": [
        ""
      ],
      "metadata": {
        "id": "-AQmM7jMxyiN"
      },
      "id": "-AQmM7jMxyiN",
      "execution_count": null,
      "outputs": []
    },
    {
      "cell_type": "markdown",
      "id": "logical-patrick",
      "metadata": {
        "id": "logical-patrick"
      },
      "source": [
        "## Generate Feaure Matrixes and Summaries For (5-GRAM) Occurence"
      ]
    },
    {
      "cell_type": "markdown",
      "source": [
        "### LSA"
      ],
      "metadata": {
        "id": "rgIzrtsM_jpR"
      },
      "id": "rgIzrtsM_jpR"
    },
    {
      "cell_type": "markdown",
      "id": "detected-beijing",
      "metadata": {
        "id": "detected-beijing"
      },
      "source": [
        "#### BOW"
      ]
    },
    {
      "cell_type": "code",
      "execution_count": null,
      "id": "retired-inspection",
      "metadata": {
        "id": "retired-inspection"
      },
      "outputs": [],
      "source": [
        "bow_lsa_5gram_tt, bow_lsa_5gram_summary = generate_bow_lsa_summary(article_st, pp_article_st, N_LINE, (5,5))\n",
        "bow_lsa_5gram_summary"
      ]
    },
    {
      "cell_type": "markdown",
      "id": "ecological-composite",
      "metadata": {
        "id": "ecological-composite"
      },
      "source": [
        "#### TF-IDF"
      ]
    },
    {
      "cell_type": "code",
      "execution_count": null,
      "id": "placed-division",
      "metadata": {
        "id": "placed-division"
      },
      "outputs": [],
      "source": [
        "tfidf_lsa_5gram_tt, tfidf_lsa_5gram_summary = generate_tfidf_lsa_summary(article_st, pp_article_st, N_LINE, (5,5))\n",
        "tfidf_lsa_5gram_summary"
      ]
    },
    {
      "cell_type": "code",
      "execution_count": null,
      "id": "unnecessary-architect",
      "metadata": {
        "id": "unnecessary-architect"
      },
      "outputs": [],
      "source": [
        ""
      ]
    },
    {
      "cell_type": "markdown",
      "source": [
        "#### Word-Embeddings"
      ],
      "metadata": {
        "id": "RlY_Lz8X7fmZ"
      },
      "id": "RlY_Lz8X7fmZ"
    },
    {
      "cell_type": "code",
      "source": [
        "wemb_lsa_5gram_tt, wemb_lsa_5gram_summary = generate_wemb_lsa_summary(article_st, pp_article_st, summary_size = N_LINE, ngram = 5)\n",
        "wemb_lsa_5gram_summary"
      ],
      "metadata": {
        "id": "wplntlkUYhM7"
      },
      "id": "wplntlkUYhM7",
      "execution_count": null,
      "outputs": []
    },
    {
      "cell_type": "code",
      "source": [
        ""
      ],
      "metadata": {
        "id": "HQx1LOUoYlNX"
      },
      "id": "HQx1LOUoYlNX",
      "execution_count": null,
      "outputs": []
    },
    {
      "cell_type": "markdown",
      "source": [
        "#### K-Means\n"
      ],
      "metadata": {
        "id": "GGv0anppx8xz"
      },
      "id": "GGv0anppx8xz"
    },
    {
      "cell_type": "markdown",
      "source": [
        "##### BOW"
      ],
      "metadata": {
        "id": "6iFr0q_Xx_EE"
      },
      "id": "6iFr0q_Xx_EE"
    },
    {
      "cell_type": "code",
      "source": [
        "bow_lsa_kmeans_5gram_tt, bow_lsa_kmeans_5gram_summary = generate_bow_lsa_kmeans_summary(article_st, pp_article_st, summary_size = N_LINE, ngram_tuple= (5, 5))\n",
        "bow_lsa_kmeans_5gram_summary"
      ],
      "metadata": {
        "id": "2EJBfPURyA2w"
      },
      "id": "2EJBfPURyA2w",
      "execution_count": null,
      "outputs": []
    },
    {
      "cell_type": "markdown",
      "source": [
        "##### TF-IDF"
      ],
      "metadata": {
        "id": "Y4pyaThoyCZS"
      },
      "id": "Y4pyaThoyCZS"
    },
    {
      "cell_type": "code",
      "source": [
        "tfidf_lsa_kmeans_5gram_tt, tfidf_lsa_kmeans_5gram_summary = generate_tfidf_lsa_kmeans_summary(article_st, pp_article_st, summary_size = N_LINE, ngram_tuple= (5, 5))\n",
        "tfidf_lsa_kmeans_5gram_summary"
      ],
      "metadata": {
        "id": "d0c5mLQuyEAW"
      },
      "id": "d0c5mLQuyEAW",
      "execution_count": null,
      "outputs": []
    },
    {
      "cell_type": "markdown",
      "source": [
        "##### Word-Embeddings"
      ],
      "metadata": {
        "id": "2QYfN2HB4QqC"
      },
      "id": "2QYfN2HB4QqC"
    },
    {
      "cell_type": "code",
      "source": [
        "wemb_lsa_kmeans_5gram_tt, wemb_lsa_kmeans_5gram_summary = generate_wemb_lsa_kmeans_summary(article_st, pp_article_st, summary_size = N_LINE, ngram = 5)\n",
        "wemb_lsa_kmeans_5gram_summary"
      ],
      "metadata": {
        "id": "pqFxTLtI4TOw"
      },
      "id": "pqFxTLtI4TOw",
      "execution_count": null,
      "outputs": []
    },
    {
      "cell_type": "code",
      "source": [
        ""
      ],
      "metadata": {
        "id": "ufplS7bq4Vvh"
      },
      "id": "ufplS7bq4Vvh",
      "execution_count": null,
      "outputs": []
    },
    {
      "cell_type": "markdown",
      "source": [
        "### LDA"
      ],
      "metadata": {
        "id": "5tBh85rA1q44"
      },
      "id": "5tBh85rA1q44"
    },
    {
      "cell_type": "code",
      "source": [
        ""
      ],
      "metadata": {
        "id": "P7_oQp4l1smd"
      },
      "id": "P7_oQp4l1smd",
      "execution_count": null,
      "outputs": []
    },
    {
      "cell_type": "markdown",
      "source": [
        "#### BOW"
      ],
      "metadata": {
        "id": "6sFVj7Dv1s_M"
      },
      "id": "6sFVj7Dv1s_M"
    },
    {
      "cell_type": "code",
      "source": [
        "bow_lda_5gram_tt, bow_lda_5gram_summary = generate_bow_lda_summary(article_st, pp_article_st, N_LINE, (5,5))\n",
        "bow_lda_5gram_summary"
      ],
      "metadata": {
        "id": "kei8XRzP1vUa"
      },
      "id": "kei8XRzP1vUa",
      "execution_count": null,
      "outputs": []
    },
    {
      "cell_type": "markdown",
      "source": [
        "#### TF-IDF"
      ],
      "metadata": {
        "id": "2jd7-p6X1vpi"
      },
      "id": "2jd7-p6X1vpi"
    },
    {
      "cell_type": "code",
      "source": [
        "tfidf_lda_5gram_tt, tfidf_lda_5gram_summary = generate_tfidf_lda_summary(article_st, pp_article_st, N_LINE, (5,5))\n",
        "tfidf_lda_5gram_summary"
      ],
      "metadata": {
        "id": "RnyX9bMi1xw0"
      },
      "id": "RnyX9bMi1xw0",
      "execution_count": null,
      "outputs": []
    },
    {
      "cell_type": "markdown",
      "source": [
        "#### Word-Embeddings"
      ],
      "metadata": {
        "id": "cYeaPo0w1yHa"
      },
      "id": "cYeaPo0w1yHa"
    },
    {
      "cell_type": "code",
      "source": [
        "wemb_lda_5gram_tt, wemb_lda_5gram_summary = generate_wemb_lda_summary(article_st, pp_article_st, summary_size = 10, ngram = 5)\n",
        "wemb_lda_5gram_summary"
      ],
      "metadata": {
        "id": "NCZtK7aB1z-N"
      },
      "id": "NCZtK7aB1z-N",
      "execution_count": null,
      "outputs": []
    },
    {
      "cell_type": "markdown",
      "source": [
        "#### K-Means"
      ],
      "metadata": {
        "id": "s57bJ1JiyT1o"
      },
      "id": "s57bJ1JiyT1o"
    },
    {
      "cell_type": "code",
      "source": [
        ""
      ],
      "metadata": {
        "id": "Iqm3yV7LyVKD"
      },
      "id": "Iqm3yV7LyVKD",
      "execution_count": null,
      "outputs": []
    },
    {
      "cell_type": "markdown",
      "source": [
        "##### BOW"
      ],
      "metadata": {
        "id": "YwxSXLSQyV0A"
      },
      "id": "YwxSXLSQyV0A"
    },
    {
      "cell_type": "code",
      "source": [
        "bow_lda_kmeans_5gram_tt, bow_lda_kmeans_5gram_summary = generate_bow_lda_kmeans_summary(article_st, pp_article_st, summary_size = N_LINE, ngram_tuple= (5, 5))\n",
        "bow_lda_kmeans_5gram_summary"
      ],
      "metadata": {
        "id": "7FtlircSyW-U"
      },
      "id": "7FtlircSyW-U",
      "execution_count": null,
      "outputs": []
    },
    {
      "cell_type": "markdown",
      "source": [
        "##### TF-IDF"
      ],
      "metadata": {
        "id": "-QvHHNt6yXoS"
      },
      "id": "-QvHHNt6yXoS"
    },
    {
      "cell_type": "code",
      "source": [
        "tfidf_lda_kmeans_5gram_tt, tfidf_lda_kmeans_5gram_summary = generate_tfidf_lda_kmeans_summary(article_st, pp_article_st, summary_size = N_LINE, ngram_tuple= (5, 5))\n",
        "tfidf_lda_kmeans_5gram_summary"
      ],
      "metadata": {
        "id": "sVyuxzUoyZPL"
      },
      "id": "sVyuxzUoyZPL",
      "execution_count": null,
      "outputs": []
    },
    {
      "cell_type": "markdown",
      "source": [
        "##### Word-Embeddings"
      ],
      "metadata": {
        "id": "XJNNguJa4diN"
      },
      "id": "XJNNguJa4diN"
    },
    {
      "cell_type": "code",
      "source": [
        "wemb_lda_kmeans_5gram_tt, wemb_lda_kmeans_5gram_summary = generate_wemb_lda_kmeans_summary(article_st, pp_article_st, summary_size = N_LINE, ngram = 5)\n",
        "wemb_lda_kmeans_5gram_summary"
      ],
      "metadata": {
        "id": "9ZLXTEOo4fO_"
      },
      "id": "9ZLXTEOo4fO_",
      "execution_count": null,
      "outputs": []
    },
    {
      "cell_type": "code",
      "source": [
        ""
      ],
      "metadata": {
        "id": "LqwwQN8GyXFn"
      },
      "id": "LqwwQN8GyXFn",
      "execution_count": null,
      "outputs": []
    },
    {
      "cell_type": "markdown",
      "id": "fundamental-solid",
      "metadata": {
        "id": "fundamental-solid"
      },
      "source": [
        "## Summaries Generated Via Survery"
      ]
    },
    {
      "cell_type": "code",
      "execution_count": null,
      "id": "lesser-wallpaper",
      "metadata": {
        "id": "lesser-wallpaper"
      },
      "outputs": [],
      "source": [
        ""
      ]
    },
    {
      "cell_type": "code",
      "execution_count": null,
      "id": "personalized-worst",
      "metadata": {
        "id": "personalized-worst"
      },
      "outputs": [],
      "source": [
        "survey_summary2 = \"Hurricane Irene was a long-lived Cape Verde hurricane during the 2005 Atlantic hurricane season. It was the ninth named storm and fourth hurricane of the record-breaking season. Although there were initial fears of a landfall in the United States due to uncertainty in predicting the storm's track, Hurricane Irene never approached land and caused no recorded damage; however, swells up to 8 ft (2.4 m) and strong rip currents resulted in one fatality in Long Beach, New York. Despite the unfavorable conditions in its vicinity and its poor organization, Tropical Depression Nine continued to strengthen, becoming Tropical Storm Irene on August 7. Contrary to these expectations, warmer waters and less wind shear allowed Irene to become gradually more organized while south of Bermuda, and it became a tropical storm once again early on August 11. Though NHC meteorologists thought it was likely that Irene would become a hurricane, they were not expecting an intensification of such a magnitude. Irene entered a region of increased wind shear and began to weaken, and as a result it was downgraded to a tropical storm early on August 18, when it was 520 miles (830 km) south of Cape Race, Newfoundland. Irene lasted for 14 days as a tropical system, the longest duration of any storm of the 2005 season. However, the hurricane generated strong waves and increased the risk of rip currents along the East Coast of the United States. This storm also marked the fifth occasion the name Irene had been used to name a tropical cyclone in the Atlantic.\"\n",
        "survey_summary2"
      ]
    },
    {
      "cell_type": "code",
      "execution_count": null,
      "id": "electrical-practitioner",
      "metadata": {
        "id": "electrical-practitioner"
      },
      "outputs": [],
      "source": [
        ""
      ]
    },
    {
      "cell_type": "markdown",
      "id": "modern-component",
      "metadata": {
        "id": "modern-component"
      },
      "source": [
        "## Evaluation of Generated Summaries using ROUGE-N Metric and Survey Summary 2"
      ]
    },
    {
      "cell_type": "code",
      "source": [
        ""
      ],
      "metadata": {
        "id": "6xgfnKb7Biqd"
      },
      "id": "6xgfnKb7Biqd",
      "execution_count": null,
      "outputs": []
    },
    {
      "cell_type": "markdown",
      "source": [
        "## Function to evaluate N-gram summary"
      ],
      "metadata": {
        "id": "5tnRRPdCBjp2"
      },
      "id": "5tnRRPdCBjp2"
    },
    {
      "cell_type": "code",
      "source": [
        "def get_ngram_rouge(ngram, generated_summary, survey_summary):\n",
        "  scorer = rouge_scorer.RougeScorer([f'rouge{ngram}'], use_stemmer=False)\n",
        "  scores = scorer.score(generated_summary, survey_summary)[f\"rouge{ngram}\"]\n",
        "  return scores"
      ],
      "metadata": {
        "id": "v5bWTfhTBqSM"
      },
      "id": "v5bWTfhTBqSM",
      "execution_count": null,
      "outputs": []
    },
    {
      "cell_type": "code",
      "source": [
        ""
      ],
      "metadata": {
        "id": "0vgeSgqECnpq"
      },
      "id": "0vgeSgqECnpq",
      "execution_count": null,
      "outputs": []
    },
    {
      "cell_type": "markdown",
      "id": "stone-hughes",
      "metadata": {
        "id": "stone-hughes"
      },
      "source": [
        "### 1-GRAM"
      ]
    },
    {
      "cell_type": "markdown",
      "source": [
        "#### LSA"
      ],
      "metadata": {
        "id": "YjJU1Ivs3qmY"
      },
      "id": "YjJU1Ivs3qmY"
    },
    {
      "cell_type": "code",
      "execution_count": null,
      "id": "timely-slide",
      "metadata": {
        "id": "timely-slide"
      },
      "outputs": [],
      "source": [
        "bow_lsa_1gram_rouge = get_ngram_rouge(1, bow_lsa_1gram_summary, survey_summary2)\n",
        "bow_lsa_1gram_rouge"
      ]
    },
    {
      "cell_type": "code",
      "execution_count": null,
      "id": "plastic-yugoslavia",
      "metadata": {
        "id": "plastic-yugoslavia"
      },
      "outputs": [],
      "source": [
        "tfidf_lsa_1gram_rouge = get_ngram_rouge(1, tfidf_lsa_1gram_summary, survey_summary2)\n",
        "tfidf_lsa_1gram_rouge"
      ]
    },
    {
      "cell_type": "code",
      "source": [
        "wemb_lsa_1gram_rouge = get_ngram_rouge(1, wemb_lsa_1gram_summary, survey_summary2)\n",
        "wemb_lsa_1gram_rouge"
      ],
      "metadata": {
        "id": "hveFsAKQDCTC"
      },
      "id": "hveFsAKQDCTC",
      "execution_count": null,
      "outputs": []
    },
    {
      "cell_type": "code",
      "source": [
        "bow_lsa_kmeans_1gram_rouge = get_ngram_rouge(1, bow_lsa_kmeans_1gram_summary, survey_summary2)\n",
        "bow_lsa_kmeans_1gram_rouge"
      ],
      "metadata": {
        "id": "59BzNeDPHigR"
      },
      "id": "59BzNeDPHigR",
      "execution_count": null,
      "outputs": []
    },
    {
      "cell_type": "code",
      "source": [
        "tfidf_lsa_kmeans_1gram_rouge = get_ngram_rouge(1, tfidf_lsa_kmeans_1gram_summary, survey_summary2)\n",
        "tfidf_lsa_kmeans_1gram_rouge"
      ],
      "metadata": {
        "id": "djSUeInJHWlK"
      },
      "id": "djSUeInJHWlK",
      "execution_count": null,
      "outputs": []
    },
    {
      "cell_type": "code",
      "source": [
        "wemb_lsa_kmeans_1gram_rouge = get_ngram_rouge(1, wemb_lsa_kmeans_1gram_summary, survey_summary2)\n",
        "wemb_lsa_kmeans_1gram_rouge"
      ],
      "metadata": {
        "id": "uHP7gOgTIU38"
      },
      "id": "uHP7gOgTIU38",
      "execution_count": null,
      "outputs": []
    },
    {
      "cell_type": "markdown",
      "source": [
        "#### LDA"
      ],
      "metadata": {
        "id": "lAOWy8jm3_lr"
      },
      "id": "lAOWy8jm3_lr"
    },
    {
      "cell_type": "code",
      "source": [
        "bow_lda_1gram_rouge = get_ngram_rouge(1, bow_lda_1gram_summary, survey_summary2)\n",
        "bow_lda_1gram_rouge"
      ],
      "metadata": {
        "id": "JpK0Cpf94A9F"
      },
      "id": "JpK0Cpf94A9F",
      "execution_count": null,
      "outputs": []
    },
    {
      "cell_type": "code",
      "source": [
        "tfidf_lda_1gram_rouge = get_ngram_rouge(1, tfidf_lda_1gram_summary, survey_summary2)\n",
        "tfidf_lda_1gram_rouge"
      ],
      "metadata": {
        "id": "_yyjh03e4H6B"
      },
      "id": "_yyjh03e4H6B",
      "execution_count": null,
      "outputs": []
    },
    {
      "cell_type": "code",
      "source": [
        "wemb_lda_1gram_rouge = get_ngram_rouge(1, wemb_lda_1gram_summary, survey_summary2)\n",
        "wemb_lda_1gram_rouge"
      ],
      "metadata": {
        "id": "ii6A-9XM4H-X"
      },
      "id": "ii6A-9XM4H-X",
      "execution_count": null,
      "outputs": []
    },
    {
      "cell_type": "code",
      "source": [
        "bow_lda_kmeans_1gram_rouge = get_ngram_rouge(1, bow_lda_kmeans_1gram_summary, survey_summary2)\n",
        "bow_lda_kmeans_1gram_rouge"
      ],
      "metadata": {
        "id": "1B0r8JG0Is8_"
      },
      "id": "1B0r8JG0Is8_",
      "execution_count": null,
      "outputs": []
    },
    {
      "cell_type": "code",
      "source": [
        "tfidf_lda_kmeans_1gram_rouge = get_ngram_rouge(1, tfidf_lda_kmeans_1gram_summary, survey_summary2)\n",
        "tfidf_lda_kmeans_1gram_rouge"
      ],
      "metadata": {
        "id": "gkIAZdJaIxDl"
      },
      "id": "gkIAZdJaIxDl",
      "execution_count": null,
      "outputs": []
    },
    {
      "cell_type": "code",
      "source": [
        "wemb_lda_kmeans_1gram_rouge = get_ngram_rouge(1, wemb_lda_kmeans_1gram_summary, survey_summary2)\n",
        "wemb_lda_kmeans_1gram_rouge"
      ],
      "metadata": {
        "id": "5nP-6EXEIxKb"
      },
      "id": "5nP-6EXEIxKb",
      "execution_count": null,
      "outputs": []
    },
    {
      "cell_type": "code",
      "source": [
        ""
      ],
      "metadata": {
        "id": "crbIcL0KI60G"
      },
      "id": "crbIcL0KI60G",
      "execution_count": null,
      "outputs": []
    },
    {
      "cell_type": "markdown",
      "id": "official-jason",
      "metadata": {
        "id": "official-jason"
      },
      "source": [
        "### 2-GRAM"
      ]
    },
    {
      "cell_type": "markdown",
      "source": [
        "#### LSA"
      ],
      "metadata": {
        "id": "MMyI1DpR4See"
      },
      "id": "MMyI1DpR4See"
    },
    {
      "cell_type": "code",
      "execution_count": null,
      "id": "consolidated-disaster",
      "metadata": {
        "id": "consolidated-disaster"
      },
      "outputs": [],
      "source": [
        "bow_lsa_2gram_rouge = get_ngram_rouge(2, bow_lsa_2gram_summary, survey_summary2)\n",
        "bow_lsa_2gram_rouge"
      ]
    },
    {
      "cell_type": "code",
      "execution_count": null,
      "id": "further-motorcycle",
      "metadata": {
        "id": "further-motorcycle"
      },
      "outputs": [],
      "source": [
        "tfidf_lsa_2gram_rouge = get_ngram_rouge(2, tfidf_lsa_2gram_summary, survey_summary2)\n",
        "tfidf_lsa_2gram_rouge"
      ]
    },
    {
      "cell_type": "code",
      "source": [
        "wemb_lsa_2gram_rouge = get_ngram_rouge(2, wemb_lsa_2gram_summary, survey_summary2)\n",
        "wemb_lsa_2gram_rouge"
      ],
      "metadata": {
        "id": "6XEavYm0DBny"
      },
      "id": "6XEavYm0DBny",
      "execution_count": null,
      "outputs": []
    },
    {
      "cell_type": "code",
      "source": [
        "bow_lsa_kmeans_2gram_rouge = get_ngram_rouge(2, bow_lsa_kmeans_2gram_summary, survey_summary2)\n",
        "bow_lsa_kmeans_2gram_rouge"
      ],
      "metadata": {
        "id": "L5QpEt4RI_0H"
      },
      "id": "L5QpEt4RI_0H",
      "execution_count": null,
      "outputs": []
    },
    {
      "cell_type": "code",
      "source": [
        "tfidf_lsa_kmeans_2gram_rouge = get_ngram_rouge(2, tfidf_lsa_kmeans_2gram_summary, survey_summary2)\n",
        "tfidf_lsa_kmeans_2gram_rouge"
      ],
      "metadata": {
        "id": "lGy-7e-BI_5c"
      },
      "id": "lGy-7e-BI_5c",
      "execution_count": null,
      "outputs": []
    },
    {
      "cell_type": "code",
      "source": [
        "wemb_lsa_kmeans_2gram_rouge = get_ngram_rouge(2, wemb_lsa_kmeans_2gram_summary, survey_summary2)\n",
        "wemb_lsa_kmeans_2gram_rouge"
      ],
      "metadata": {
        "id": "t8PzH1bQI_8N"
      },
      "id": "t8PzH1bQI_8N",
      "execution_count": null,
      "outputs": []
    },
    {
      "cell_type": "code",
      "source": [
        ""
      ],
      "metadata": {
        "id": "N9ZBX-GaI_-f"
      },
      "id": "N9ZBX-GaI_-f",
      "execution_count": null,
      "outputs": []
    },
    {
      "cell_type": "markdown",
      "source": [
        "#### LDA"
      ],
      "metadata": {
        "id": "WTHg1Kip4ca_"
      },
      "id": "WTHg1Kip4ca_"
    },
    {
      "cell_type": "code",
      "source": [
        "bow_lda_2gram_rouge = get_ngram_rouge(2, bow_lda_2gram_summary, survey_summary2)\n",
        "bow_lda_2gram_rouge"
      ],
      "metadata": {
        "id": "bCp3RvCo4ebA"
      },
      "id": "bCp3RvCo4ebA",
      "execution_count": null,
      "outputs": []
    },
    {
      "cell_type": "code",
      "source": [
        "tfidf_lda_2gram_rouge = get_ngram_rouge(2, tfidf_lda_2gram_summary, survey_summary2)\n",
        "tfidf_lda_2gram_rouge"
      ],
      "metadata": {
        "id": "9rRHCltg4gZ8"
      },
      "id": "9rRHCltg4gZ8",
      "execution_count": null,
      "outputs": []
    },
    {
      "cell_type": "code",
      "source": [
        "wemb_lda_2gram_rouge = get_ngram_rouge(2, wemb_lda_2gram_summary, survey_summary2)\n",
        "wemb_lda_2gram_rouge"
      ],
      "metadata": {
        "id": "5BWGYT2F4h0o"
      },
      "id": "5BWGYT2F4h0o",
      "execution_count": null,
      "outputs": []
    },
    {
      "cell_type": "code",
      "source": [
        "bow_lda_kmeans_2gram_rouge = get_ngram_rouge(2, bow_lda_kmeans_2gram_summary, survey_summary2)\n",
        "bow_lda_kmeans_2gram_rouge"
      ],
      "metadata": {
        "id": "6YbXPFJcJdQP"
      },
      "id": "6YbXPFJcJdQP",
      "execution_count": null,
      "outputs": []
    },
    {
      "cell_type": "code",
      "source": [
        "tfidf_lda_kmeans_2gram_rouge = get_ngram_rouge(2, tfidf_lda_kmeans_2gram_summary, survey_summary2)\n",
        "tfidf_lda_kmeans_2gram_rouge"
      ],
      "metadata": {
        "id": "DXcmPRQqJdVd"
      },
      "id": "DXcmPRQqJdVd",
      "execution_count": null,
      "outputs": []
    },
    {
      "cell_type": "code",
      "source": [
        "wemb_lda_kmeans_2gram_rouge = get_ngram_rouge(2, wemb_lda_kmeans_2gram_summary, survey_summary2)\n",
        "wemb_lda_kmeans_2gram_rouge"
      ],
      "metadata": {
        "id": "PM0i5e9AJdYs"
      },
      "id": "PM0i5e9AJdYs",
      "execution_count": null,
      "outputs": []
    },
    {
      "cell_type": "code",
      "source": [
        ""
      ],
      "metadata": {
        "id": "tvrqIjuMJdk_"
      },
      "id": "tvrqIjuMJdk_",
      "execution_count": null,
      "outputs": []
    },
    {
      "cell_type": "markdown",
      "id": "difficult-yahoo",
      "metadata": {
        "id": "difficult-yahoo"
      },
      "source": [
        "### 3-GRAM"
      ]
    },
    {
      "cell_type": "markdown",
      "source": [
        "#### LSA"
      ],
      "metadata": {
        "id": "Ft7JGAOwKaRA"
      },
      "id": "Ft7JGAOwKaRA"
    },
    {
      "cell_type": "code",
      "execution_count": null,
      "id": "recent-climate",
      "metadata": {
        "id": "recent-climate"
      },
      "outputs": [],
      "source": [
        "bow_lsa_3gram_rouge = get_ngram_rouge(3, bow_lsa_3gram_summary, survey_summary2)\n",
        "bow_lsa_3gram_rouge"
      ]
    },
    {
      "cell_type": "code",
      "source": [
        "tfidf_lsa_3gram_rouge = get_ngram_rouge(3, tfidf_lsa_3gram_summary, survey_summary2)\n",
        "tfidf_lsa_3gram_rouge"
      ],
      "metadata": {
        "id": "Ez6hF-lLC6M6"
      },
      "id": "Ez6hF-lLC6M6",
      "execution_count": null,
      "outputs": []
    },
    {
      "cell_type": "code",
      "source": [
        "wemb_lsa_3gram_rouge = get_ngram_rouge(3, wemb_lsa_3gram_summary, survey_summary2)\n",
        "wemb_lsa_3gram_rouge"
      ],
      "metadata": {
        "id": "pc0WppaTDBDS"
      },
      "id": "pc0WppaTDBDS",
      "execution_count": null,
      "outputs": []
    },
    {
      "cell_type": "code",
      "source": [
        "bow_lsa_kmeans_3gram_rouge = get_ngram_rouge(3, bow_lsa_kmeans_3gram_summary, survey_summary2)\n",
        "bow_lsa_kmeans_3gram_rouge"
      ],
      "metadata": {
        "id": "9uLabYZ9KVAS"
      },
      "id": "9uLabYZ9KVAS",
      "execution_count": null,
      "outputs": []
    },
    {
      "cell_type": "code",
      "source": [
        "tfidf_lsa_kmeans_3gram_rouge = get_ngram_rouge(3, tfidf_lsa_kmeans_3gram_summary, survey_summary2)\n",
        "tfidf_lsa_kmeans_3gram_rouge"
      ],
      "metadata": {
        "id": "h9p_smYrKVHu"
      },
      "id": "h9p_smYrKVHu",
      "execution_count": null,
      "outputs": []
    },
    {
      "cell_type": "code",
      "source": [
        "wemb_lsa_kmeans_3gram_rouge = get_ngram_rouge(3, wemb_lsa_kmeans_3gram_summary, survey_summary2)\n",
        "wemb_lsa_kmeans_3gram_rouge"
      ],
      "metadata": {
        "id": "8Uy3Ca3EKVKr"
      },
      "id": "8Uy3Ca3EKVKr",
      "execution_count": null,
      "outputs": []
    },
    {
      "cell_type": "code",
      "source": [
        ""
      ],
      "metadata": {
        "id": "JrBH-uFpKVcY"
      },
      "id": "JrBH-uFpKVcY",
      "execution_count": null,
      "outputs": []
    },
    {
      "cell_type": "markdown",
      "source": [
        "#### LDA"
      ],
      "metadata": {
        "id": "o1UnkH7k41iM"
      },
      "id": "o1UnkH7k41iM"
    },
    {
      "cell_type": "code",
      "source": [
        "bow_lda_3gram_rouge = get_ngram_rouge(3, bow_lda_3gram_summary, survey_summary2)\n",
        "bow_lda_3gram_rouge"
      ],
      "metadata": {
        "id": "6kt4qoWW43Ti"
      },
      "id": "6kt4qoWW43Ti",
      "execution_count": null,
      "outputs": []
    },
    {
      "cell_type": "code",
      "source": [
        "tfidf_lda_3gram_rouge = get_ngram_rouge(3, tfidf_lda_3gram_summary, survey_summary2)\n",
        "tfidf_lda_3gram_rouge"
      ],
      "metadata": {
        "id": "JA0eP2nj4_Sp"
      },
      "id": "JA0eP2nj4_Sp",
      "execution_count": null,
      "outputs": []
    },
    {
      "cell_type": "code",
      "source": [
        "wemb_lda_3gram_rouge = get_ngram_rouge(3, wemb_lda_3gram_summary, survey_summary2)\n",
        "wemb_lda_3gram_rouge"
      ],
      "metadata": {
        "id": "ykqzsXUt5DhS"
      },
      "id": "ykqzsXUt5DhS",
      "execution_count": null,
      "outputs": []
    },
    {
      "cell_type": "code",
      "source": [
        "bow_lda_kmeans_3gram_rouge = get_ngram_rouge(3, bow_lda_kmeans_3gram_summary, survey_summary2)\n",
        "bow_lda_kmeans_3gram_rouge"
      ],
      "metadata": {
        "id": "exIKojCzK6x_"
      },
      "id": "exIKojCzK6x_",
      "execution_count": null,
      "outputs": []
    },
    {
      "cell_type": "code",
      "source": [
        "tfidf_lda_kmeans_3gram_rouge = get_ngram_rouge(3, tfidf_lda_kmeans_3gram_summary, survey_summary2)\n",
        "tfidf_lda_kmeans_3gram_rouge"
      ],
      "metadata": {
        "id": "aLd748hRK65W"
      },
      "id": "aLd748hRK65W",
      "execution_count": null,
      "outputs": []
    },
    {
      "cell_type": "code",
      "source": [
        "wemb_lda_kmeans_3gram_rouge = get_ngram_rouge(3, wemb_lda_kmeans_3gram_summary, survey_summary2)\n",
        "wemb_lda_kmeans_3gram_rouge"
      ],
      "metadata": {
        "id": "TH6ItQ_uK7Gl"
      },
      "id": "TH6ItQ_uK7Gl",
      "execution_count": null,
      "outputs": []
    },
    {
      "cell_type": "code",
      "source": [
        ""
      ],
      "metadata": {
        "id": "wI8UR1vKK7bL"
      },
      "id": "wI8UR1vKK7bL",
      "execution_count": null,
      "outputs": []
    },
    {
      "cell_type": "markdown",
      "id": "sweet-corner",
      "metadata": {
        "id": "sweet-corner"
      },
      "source": [
        "### 4-GRAM"
      ]
    },
    {
      "cell_type": "markdown",
      "source": [
        "#### LSA"
      ],
      "metadata": {
        "id": "fOxuL5835Kgy"
      },
      "id": "fOxuL5835Kgy"
    },
    {
      "cell_type": "code",
      "execution_count": null,
      "id": "sustained-faculty",
      "metadata": {
        "id": "sustained-faculty"
      },
      "outputs": [],
      "source": [
        "bow_lsa_4gram_rouge = get_ngram_rouge(4, bow_lsa_4gram_summary, survey_summary2)\n",
        "bow_lsa_4gram_rouge"
      ]
    },
    {
      "cell_type": "code",
      "execution_count": null,
      "id": "technological-motor",
      "metadata": {
        "id": "technological-motor"
      },
      "outputs": [],
      "source": [
        "tfidf_lsa_4gram_rouge = get_ngram_rouge(4, tfidf_lsa_4gram_summary, survey_summary2)\n",
        "tfidf_lsa_4gram_rouge"
      ]
    },
    {
      "cell_type": "code",
      "source": [
        "wemb_lsa_4gram_rouge = get_ngram_rouge(4, wemb_lsa_4gram_summary, survey_summary2)\n",
        "wemb_lsa_4gram_rouge"
      ],
      "metadata": {
        "id": "_oBZvdMXDMvv"
      },
      "id": "_oBZvdMXDMvv",
      "execution_count": null,
      "outputs": []
    },
    {
      "cell_type": "code",
      "source": [
        "bow_lsa_kmeans_4gram_rouge = get_ngram_rouge(4, bow_lsa_kmeans_4gram_summary, survey_summary2)\n",
        "bow_lsa_kmeans_4gram_rouge"
      ],
      "metadata": {
        "id": "I2JQyHONLRUW"
      },
      "id": "I2JQyHONLRUW",
      "execution_count": null,
      "outputs": []
    },
    {
      "cell_type": "code",
      "source": [
        "tfidf_lsa_kmeans_4gram_rouge = get_ngram_rouge(4, tfidf_lsa_kmeans_4gram_summary, survey_summary2)\n",
        "tfidf_lsa_kmeans_4gram_rouge"
      ],
      "metadata": {
        "id": "ZZrtQPEZLRZ0"
      },
      "id": "ZZrtQPEZLRZ0",
      "execution_count": null,
      "outputs": []
    },
    {
      "cell_type": "code",
      "source": [
        "wemb_lsa_kmeans_4gram_rouge = get_ngram_rouge(4, wemb_lsa_kmeans_4gram_summary, survey_summary2)\n",
        "wemb_lsa_kmeans_4gram_rouge"
      ],
      "metadata": {
        "id": "-WtaNhXnLRc1"
      },
      "id": "-WtaNhXnLRc1",
      "execution_count": null,
      "outputs": []
    },
    {
      "cell_type": "code",
      "source": [
        ""
      ],
      "metadata": {
        "id": "Tf85oZVNLRfS"
      },
      "id": "Tf85oZVNLRfS",
      "execution_count": null,
      "outputs": []
    },
    {
      "cell_type": "markdown",
      "source": [
        "#### LDA"
      ],
      "metadata": {
        "id": "bj6U24uH5MRb"
      },
      "id": "bj6U24uH5MRb"
    },
    {
      "cell_type": "code",
      "source": [
        "bow_lda_4gram_rouge = get_ngram_rouge(4, bow_lda_4gram_summary, survey_summary2)\n",
        "bow_lda_4gram_rouge"
      ],
      "metadata": {
        "id": "nO4xdpko5ObZ"
      },
      "id": "nO4xdpko5ObZ",
      "execution_count": null,
      "outputs": []
    },
    {
      "cell_type": "code",
      "source": [
        "tfidf_lda_4gram_rouge = get_ngram_rouge(4, tfidf_lda_4gram_summary, survey_summary2)\n",
        "tfidf_lda_4gram_rouge"
      ],
      "metadata": {
        "id": "5e5jKN3c5PHE"
      },
      "id": "5e5jKN3c5PHE",
      "execution_count": null,
      "outputs": []
    },
    {
      "cell_type": "code",
      "source": [
        "wemb_lda_4gram_rouge = get_ngram_rouge(4, wemb_lda_4gram_summary, survey_summary2)\n",
        "wemb_lda_4gram_rouge"
      ],
      "metadata": {
        "id": "Q9muIrAY5PPJ"
      },
      "id": "Q9muIrAY5PPJ",
      "execution_count": null,
      "outputs": []
    },
    {
      "cell_type": "code",
      "source": [
        "bow_lda_kmeans_4gram_rouge = get_ngram_rouge(4, bow_lda_kmeans_4gram_summary, survey_summary2)\n",
        "bow_lda_kmeans_4gram_rouge"
      ],
      "metadata": {
        "id": "hSS8rjF3Ljuq"
      },
      "id": "hSS8rjF3Ljuq",
      "execution_count": null,
      "outputs": []
    },
    {
      "cell_type": "code",
      "source": [
        "tfidf_lda_kmeans_4gram_rouge = get_ngram_rouge(4, tfidf_lda_kmeans_4gram_summary, survey_summary2)\n",
        "tfidf_lda_kmeans_4gram_rouge"
      ],
      "metadata": {
        "id": "5PPH2zX2LjxF"
      },
      "id": "5PPH2zX2LjxF",
      "execution_count": null,
      "outputs": []
    },
    {
      "cell_type": "code",
      "source": [
        "wemb_lda_kmeans_4gram_rouge = get_ngram_rouge(4, wemb_lda_kmeans_4gram_summary, survey_summary2)\n",
        "wemb_lda_kmeans_4gram_rouge"
      ],
      "metadata": {
        "id": "FpFvDpGxLj_m"
      },
      "id": "FpFvDpGxLj_m",
      "execution_count": null,
      "outputs": []
    },
    {
      "cell_type": "code",
      "source": [
        ""
      ],
      "metadata": {
        "id": "LzhoasXaLkCY"
      },
      "id": "LzhoasXaLkCY",
      "execution_count": null,
      "outputs": []
    },
    {
      "cell_type": "markdown",
      "id": "necessary-prince",
      "metadata": {
        "id": "necessary-prince"
      },
      "source": [
        "### 5-GRAM"
      ]
    },
    {
      "cell_type": "markdown",
      "source": [
        "#### LSA"
      ],
      "metadata": {
        "id": "bs_2iYwk5sY7"
      },
      "id": "bs_2iYwk5sY7"
    },
    {
      "cell_type": "code",
      "execution_count": null,
      "id": "independent-suffering",
      "metadata": {
        "id": "independent-suffering"
      },
      "outputs": [],
      "source": [
        "bow_lsa_5gram_rouge = get_ngram_rouge(5, bow_lsa_5gram_summary, survey_summary2)\n",
        "bow_lsa_5gram_rouge"
      ]
    },
    {
      "cell_type": "code",
      "execution_count": null,
      "id": "preceding-camping",
      "metadata": {
        "id": "preceding-camping"
      },
      "outputs": [],
      "source": [
        "tfidf_lsa_5gram_rouge = get_ngram_rouge(5, tfidf_lsa_5gram_summary, survey_summary2)\n",
        "tfidf_lsa_5gram_rouge"
      ]
    },
    {
      "cell_type": "code",
      "execution_count": null,
      "id": "subsequent-bradford",
      "metadata": {
        "id": "subsequent-bradford"
      },
      "outputs": [],
      "source": [
        "wemb_lsa_5gram_rouge = get_ngram_rouge(5, wemb_lsa_5gram_summary, survey_summary2)\n",
        "wemb_lsa_5gram_rouge"
      ]
    },
    {
      "cell_type": "code",
      "source": [
        "bow_lsa_kmeans_5gram_rouge = get_ngram_rouge(5, bow_lsa_kmeans_5gram_summary, survey_summary2)\n",
        "bow_lsa_kmeans_5gram_rouge"
      ],
      "metadata": {
        "id": "IZHVEEZwMDzd"
      },
      "id": "IZHVEEZwMDzd",
      "execution_count": null,
      "outputs": []
    },
    {
      "cell_type": "code",
      "source": [
        "tfidf_lsa_kmeans_5gram_rouge = get_ngram_rouge(5, tfidf_lsa_kmeans_5gram_summary, survey_summary2)\n",
        "tfidf_lsa_kmeans_5gram_rouge"
      ],
      "metadata": {
        "id": "JGXWcNgKMD63"
      },
      "id": "JGXWcNgKMD63",
      "execution_count": null,
      "outputs": []
    },
    {
      "cell_type": "code",
      "source": [
        "wemb_lsa_kmeans_5gram_rouge = get_ngram_rouge(5, wemb_lsa_kmeans_5gram_summary, survey_summary2)\n",
        "wemb_lsa_kmeans_5gram_rouge"
      ],
      "metadata": {
        "id": "UIHzzKCQMD9n"
      },
      "id": "UIHzzKCQMD9n",
      "execution_count": null,
      "outputs": []
    },
    {
      "cell_type": "code",
      "source": [
        ""
      ],
      "metadata": {
        "id": "pubWXnySMEAN"
      },
      "id": "pubWXnySMEAN",
      "execution_count": null,
      "outputs": []
    },
    {
      "cell_type": "markdown",
      "source": [
        "#### LDA"
      ],
      "metadata": {
        "id": "whIcWiUB55EN"
      },
      "id": "whIcWiUB55EN"
    },
    {
      "cell_type": "code",
      "source": [
        "bow_lda_5gram_rouge = get_ngram_rouge(5, bow_lda_5gram_summary, survey_summary2)\n",
        "bow_lda_5gram_rouge"
      ],
      "metadata": {
        "id": "5TxS-x7G59dC"
      },
      "id": "5TxS-x7G59dC",
      "execution_count": null,
      "outputs": []
    },
    {
      "cell_type": "code",
      "source": [
        "\n",
        "tfidf_lda_5gram_rouge = get_ngram_rouge(5, tfidf_lda_5gram_summary, survey_summary2)\n",
        "tfidf_lda_5gram_rouge"
      ],
      "metadata": {
        "id": "grz96fkR56J1"
      },
      "id": "grz96fkR56J1",
      "execution_count": null,
      "outputs": []
    },
    {
      "cell_type": "code",
      "source": [
        "\n",
        "wemb_lda_5gram_rouge = get_ngram_rouge(5, wemb_lda_5gram_summary, survey_summary2)\n",
        "wemb_lda_5gram_rouge"
      ],
      "metadata": {
        "id": "bHDeR8vj6ANA"
      },
      "id": "bHDeR8vj6ANA",
      "execution_count": null,
      "outputs": []
    },
    {
      "cell_type": "code",
      "source": [
        "bow_lda_kmeans_5gram_rouge = get_ngram_rouge(5, bow_lda_kmeans_5gram_summary, survey_summary2)\n",
        "bow_lda_kmeans_5gram_rouge"
      ],
      "metadata": {
        "id": "J0rpzYLF6CTr"
      },
      "id": "J0rpzYLF6CTr",
      "execution_count": null,
      "outputs": []
    },
    {
      "cell_type": "code",
      "source": [
        "tfidf_lda_kmeans_5gram_rouge = get_ngram_rouge(5, tfidf_lda_kmeans_5gram_summary, survey_summary2)\n",
        "tfidf_lda_kmeans_5gram_rouge"
      ],
      "metadata": {
        "id": "Kjz4k9pjMTMD"
      },
      "id": "Kjz4k9pjMTMD",
      "execution_count": null,
      "outputs": []
    },
    {
      "cell_type": "code",
      "source": [
        "wemb_lda_kmeans_5gram_rouge = get_ngram_rouge(5, wemb_lda_kmeans_5gram_summary, survey_summary2)\n",
        "wemb_lda_kmeans_5gram_rouge"
      ],
      "metadata": {
        "id": "g1RLX4ScMTUC"
      },
      "id": "g1RLX4ScMTUC",
      "execution_count": null,
      "outputs": []
    },
    {
      "cell_type": "code",
      "source": [
        ""
      ],
      "metadata": {
        "id": "PZafVTKC6CXB"
      },
      "id": "PZafVTKC6CXB",
      "execution_count": null,
      "outputs": []
    },
    {
      "cell_type": "markdown",
      "id": "contrary-texas",
      "metadata": {
        "id": "contrary-texas"
      },
      "source": [
        "## Comparision of N-GRAM and Feature Extraction Scheme Using ROUGE-N Recall Scores "
      ]
    },
    {
      "cell_type": "code",
      "source": [
        ""
      ],
      "metadata": {
        "id": "fjGuPUSU7F7-"
      },
      "id": "fjGuPUSU7F7-",
      "execution_count": null,
      "outputs": []
    },
    {
      "cell_type": "markdown",
      "source": [
        "###LSA"
      ],
      "metadata": {
        "id": "LCHkpf-x7GWd"
      },
      "id": "LCHkpf-x7GWd"
    },
    {
      "cell_type": "code",
      "execution_count": null,
      "id": "fifty-network",
      "metadata": {
        "id": "fifty-network"
      },
      "outputs": [],
      "source": [
        "lsa_comparision_df = pd.DataFrame()\n",
        "lsa_comparision_df[\"N-Gram Range\"] = [\"1-Gram\", \"2-Gram\", \"3-Gram\", \"4-Gram\", \"5-Gram\"]\n",
        "\n",
        "lsa_comparision_df[\"BOW_Recall\"] = [bow_lsa_1gram_rouge.recall, bow_lsa_2gram_rouge.recall, bow_lsa_3gram_rouge.recall, bow_lsa_4gram_rouge.recall, bow_lsa_5gram_rouge.recall]\n",
        "lsa_comparision_df[\"TF-IDF_Recall\"] = [tfidf_lsa_1gram_rouge.recall, tfidf_lsa_2gram_rouge.recall, tfidf_lsa_3gram_rouge.recall, tfidf_lsa_4gram_rouge.recall, tfidf_lsa_5gram_rouge.recall]\n",
        "lsa_comparision_df[\"W-Emb_Recall\"] = [wemb_lsa_1gram_rouge.recall, wemb_lsa_2gram_rouge.recall, wemb_lsa_3gram_rouge.recall, wemb_lsa_4gram_rouge.recall, wemb_lsa_5gram_rouge.recall]\n",
        "\n",
        "\n",
        "lsa_comparision_df[\"BOW_Precision\"] = [bow_lsa_1gram_rouge.precision, bow_lsa_2gram_rouge.precision, bow_lsa_3gram_rouge.precision, bow_lsa_4gram_rouge.precision, bow_lsa_5gram_rouge.precision]\n",
        "lsa_comparision_df[\"TF-IDF_Precision\"] = [tfidf_lsa_1gram_rouge.precision, tfidf_lsa_2gram_rouge.precision, tfidf_lsa_3gram_rouge.precision, tfidf_lsa_4gram_rouge.precision, tfidf_lsa_5gram_rouge.precision]\n",
        "lsa_comparision_df[\"W-Emb_Precision\"] = [wemb_lsa_1gram_rouge.precision, wemb_lsa_2gram_rouge.precision, wemb_lsa_3gram_rouge.precision, wemb_lsa_4gram_rouge.precision, wemb_lsa_5gram_rouge.precision]\n",
        "\n",
        "\n",
        "lsa_comparision_df[\"BOW_Fmeasure\"] = [bow_lsa_1gram_rouge.fmeasure, bow_lsa_2gram_rouge.fmeasure, bow_lsa_3gram_rouge.fmeasure, bow_lsa_4gram_rouge.fmeasure, bow_lsa_5gram_rouge.fmeasure]\n",
        "lsa_comparision_df[\"TF-IDF_Fmeasure\"] = [tfidf_lsa_1gram_rouge.fmeasure, tfidf_lsa_2gram_rouge.fmeasure, tfidf_lsa_3gram_rouge.fmeasure, tfidf_lsa_4gram_rouge.fmeasure, tfidf_lsa_5gram_rouge.fmeasure]\n",
        "lsa_comparision_df[\"W-Emb_Fmeasure\"] = [wemb_lsa_1gram_rouge.fmeasure, wemb_lsa_2gram_rouge.fmeasure, wemb_lsa_3gram_rouge.fmeasure, wemb_lsa_4gram_rouge.fmeasure, wemb_lsa_5gram_rouge.fmeasure]\n",
        "\n",
        "lsa_comparision_df"
      ]
    },
    {
      "cell_type": "code",
      "source": [
        ""
      ],
      "metadata": {
        "id": "L-ile_7qYfLv"
      },
      "id": "L-ile_7qYfLv",
      "execution_count": null,
      "outputs": []
    },
    {
      "cell_type": "markdown",
      "source": [
        "#### Precision Bar Plot"
      ],
      "metadata": {
        "id": "tjU_qjBIcoPR"
      },
      "id": "tjU_qjBIcoPR"
    },
    {
      "cell_type": "code",
      "source": [
        "fig = plt.subplots( figsize=(15, 10))\n",
        "barWidth = 0.25\n",
        "\n",
        "nGramRangeA = [i for i in range(1,6)]\n",
        "nGramRangeB = [i + barWidth for i in nGramRangeA]\n",
        "nGramRangeC = [i + barWidth for i in nGramRangeB]\n",
        "\n",
        "#make plots\n",
        "plt.bar(nGramRangeA, lsa_comparision_df[\"BOW_Precision\"], color = 'w', width = barWidth, edgecolor = 'grey', label = 'BOW_Precision', hatch=(\"---\"))\n",
        "plt.bar(nGramRangeB, lsa_comparision_df[\"TF-IDF_Precision\"], color = 'k', width = barWidth, edgecolor = 'grey', label = 'TF-IDF_Precision' )\n",
        "plt.bar(nGramRangeC, lsa_comparision_df[\"W-Emb_Precision\"], color = 'w', width = barWidth, edgecolor = 'grey', label = 'W-Emb_Precision', hatch=(\"///\"))\n",
        "plt.legend(loc=\"best\")\n",
        "plt.xticks([1 + r + barWidth for r in range(len(nGramRangeC))], ['1-Gram', '2-Gram', '3-Gram', '4-Gram', '5-Gram'])\n",
        "plt.xlabel('N-Gram Co-Occurence', fontweight = 'bold', fontsize = 15)\n",
        "plt.ylabel('ROUGE-N Precision Score', fontweight = 'bold', fontsize = 15)\n",
        "plt.title(\"Comparision of ROUGE-N Precision scores for Summaries Generated Using LSA\", fontweight = 'bold', fontsize=17)\n",
        "plt.show()"
      ],
      "metadata": {
        "id": "MVoualzNYd8n"
      },
      "id": "MVoualzNYd8n",
      "execution_count": null,
      "outputs": []
    },
    {
      "cell_type": "code",
      "source": [
        ""
      ],
      "metadata": {
        "id": "VDDhxu7MYc31"
      },
      "id": "VDDhxu7MYc31",
      "execution_count": null,
      "outputs": []
    },
    {
      "cell_type": "markdown",
      "source": [
        "#### Recall Bar Plot"
      ],
      "metadata": {
        "id": "B-wIyA5EctDY"
      },
      "id": "B-wIyA5EctDY"
    },
    {
      "cell_type": "code",
      "source": [
        "fig = plt.subplots( figsize=(15, 10))\n",
        "barWidth = 0.25\n",
        "\n",
        "nGramRangeA = [i for i in range(1,6)]\n",
        "nGramRangeB = [i + barWidth for i in nGramRangeA]\n",
        "nGramRangeC = [i + barWidth for i in nGramRangeB]\n",
        "\n",
        "#make plots\n",
        "plt.bar(nGramRangeA, lsa_comparision_df[\"BOW_Recall\"], color = 'w', width = barWidth, edgecolor = 'grey', label = 'BOW_Recall', hatch=(\"---\"))\n",
        "plt.bar(nGramRangeB, lsa_comparision_df[\"TF-IDF_Recall\"], color = 'k', width = barWidth, edgecolor = 'grey', label = 'TF-IDF_Recall')\n",
        "plt.bar(nGramRangeC, lsa_comparision_df[\"W-Emb_Recall\"], color = 'w', width = barWidth, edgecolor = 'grey', label = 'W-Emb_Recall', hatch=(\"///\"))\n",
        "plt.legend(loc=\"best\")\n",
        "plt.xticks([1 + r + barWidth for r in range(len(nGramRangeC))], ['1-Gram', '2-Gram', '3-Gram', '4-Gram', '5-Gram'])\n",
        "plt.xlabel('N-Gram Co-Occurence', fontweight = 'bold', fontsize = 15)\n",
        "plt.ylabel('ROUGE-N Recall Score', fontweight = 'bold', fontsize = 15)\n",
        "plt.title(\"Comparision of ROUGE-N Recall scores for Summaries Generated Using LSA\", fontweight = 'bold', fontsize=17)\n",
        "plt.show()\n"
      ],
      "metadata": {
        "id": "3MoQCkYVcvG8"
      },
      "id": "3MoQCkYVcvG8",
      "execution_count": null,
      "outputs": []
    },
    {
      "cell_type": "code",
      "source": [
        ""
      ],
      "metadata": {
        "id": "Ed4HxYjScxe6"
      },
      "id": "Ed4HxYjScxe6",
      "execution_count": null,
      "outputs": []
    },
    {
      "cell_type": "markdown",
      "source": [
        "#### F-Measure Plot"
      ],
      "metadata": {
        "id": "ZugmoM-Sd5bq"
      },
      "id": "ZugmoM-Sd5bq"
    },
    {
      "cell_type": "code",
      "source": [
        "fig = plt.subplots( figsize=(15, 10))\n",
        "barWidth = 0.25\n",
        "\n",
        "nGramRangeA = [i for i in range(1,6)]\n",
        "nGramRangeB = [i + barWidth for i in nGramRangeA]\n",
        "nGramRangeC = [i + barWidth for i in nGramRangeB]\n",
        "\n",
        "#make plots\n",
        "plt.bar(nGramRangeA, lsa_comparision_df[\"BOW_Fmeasure\"], color = 'w', width = barWidth, edgecolor = 'grey', label = 'BOW_Fmeasure', hatch=(\"---\"))\n",
        "plt.bar(nGramRangeB, lsa_comparision_df[\"TF-IDF_Fmeasure\"], color = 'k', width = barWidth, edgecolor = 'grey', label = 'TF-IDF_Fmeasure')\n",
        "plt.bar(nGramRangeC, lsa_comparision_df[\"W-Emb_Fmeasure\"], color = 'w', width = barWidth, edgecolor = 'grey', label = 'W-Emb_Fmeasure', hatch=(\"///\"))\n",
        "plt.legend(loc=\"best\")\n",
        "plt.xticks([1 + r + barWidth for r in range(len(nGramRangeC))], ['1-Gram', '2-Gram', '3-Gram', '4-Gram', '5-Gram'])\n",
        "plt.xlabel('N-Gram Co-Occurence', fontweight = 'bold', fontsize = 15)\n",
        "plt.ylabel('ROUGE-N Fmeasure Score', fontweight = 'bold', fontsize = 15)\n",
        "plt.title(\"Comparision of ROUGE-N Fmeasure scores for Summaries Generated Using LSA\", fontweight = 'bold', fontsize=17)\n",
        "plt.show()"
      ],
      "metadata": {
        "id": "s5rOc1AFcxhY"
      },
      "id": "s5rOc1AFcxhY",
      "execution_count": null,
      "outputs": []
    },
    {
      "cell_type": "code",
      "source": [
        ""
      ],
      "metadata": {
        "id": "PZCmWyEAUMMI"
      },
      "id": "PZCmWyEAUMMI",
      "execution_count": null,
      "outputs": []
    },
    {
      "cell_type": "markdown",
      "source": [
        "### LDA"
      ],
      "metadata": {
        "id": "9P6VAQgp7cWx"
      },
      "id": "9P6VAQgp7cWx"
    },
    {
      "cell_type": "code",
      "source": [
        "lda_comparision_df = pd.DataFrame()\n",
        "lda_comparision_df[\"N-Gram Range\"] = [\"1-Gram\", \"2-Gram\", \"3-Gram\", \"4-Gram\", \"5-Gram\"]\n",
        "\n",
        "lda_comparision_df[\"BOW_Recall\"] = [bow_lda_1gram_rouge.recall, bow_lda_2gram_rouge.recall, bow_lda_3gram_rouge.recall, bow_lda_4gram_rouge.recall, bow_lda_5gram_rouge.recall]\n",
        "lda_comparision_df[\"TF-IDF_Recall\"] = [tfidf_lda_1gram_rouge.recall, tfidf_lda_2gram_rouge.recall, tfidf_lda_3gram_rouge.recall, tfidf_lda_4gram_rouge.recall, tfidf_lda_5gram_rouge.recall]\n",
        "lda_comparision_df[\"W-Emb_Recall\"] = [wemb_lsa_1gram_rouge.recall, wemb_lda_2gram_rouge.recall, wemb_lda_3gram_rouge.recall, wemb_lda_4gram_rouge.recall, wemb_lda_5gram_rouge.recall]\n",
        "\n",
        "lda_comparision_df[\"BOW_Precision\"] = [bow_lda_1gram_rouge.precision, bow_lda_2gram_rouge.precision, bow_lda_3gram_rouge.precision, bow_lda_4gram_rouge.precision, bow_lda_5gram_rouge.precision]\n",
        "lda_comparision_df[\"TF-IDF_Precision\"] = [tfidf_lda_1gram_rouge.precision, tfidf_lda_2gram_rouge.precision, tfidf_lda_3gram_rouge.precision, tfidf_lda_4gram_rouge.precision, tfidf_lda_5gram_rouge.precision]\n",
        "lda_comparision_df[\"W-Emb_Precision\"] = [wemb_lda_1gram_rouge.precision, wemb_lda_2gram_rouge.precision, wemb_lda_3gram_rouge.precision, wemb_lda_4gram_rouge.precision, wemb_lda_5gram_rouge.precision]\n",
        "\n",
        "lda_comparision_df[\"BOW_Fmeasure\"] = [bow_lda_1gram_rouge.fmeasure, bow_lda_2gram_rouge.fmeasure, bow_lda_3gram_rouge.fmeasure, bow_lda_4gram_rouge.fmeasure, bow_lda_5gram_rouge.fmeasure]\n",
        "lda_comparision_df[\"TF-IDF_Fmeasure\"] = [tfidf_lda_1gram_rouge.fmeasure, tfidf_lda_2gram_rouge.fmeasure, tfidf_lda_3gram_rouge.fmeasure, tfidf_lda_4gram_rouge.fmeasure, tfidf_lda_5gram_rouge.fmeasure]\n",
        "lda_comparision_df[\"W-Emb_Fmeasure\"] = [wemb_lda_1gram_rouge.fmeasure, wemb_lda_2gram_rouge.fmeasure, wemb_lda_3gram_rouge.fmeasure, wemb_lda_4gram_rouge.fmeasure, wemb_lda_5gram_rouge.fmeasure]\n",
        "\n",
        "lda_comparision_df"
      ],
      "metadata": {
        "id": "O3vz0EPY7dR4"
      },
      "id": "O3vz0EPY7dR4",
      "execution_count": null,
      "outputs": []
    },
    {
      "cell_type": "code",
      "source": [
        ""
      ],
      "metadata": {
        "id": "Zl3u56YiEfmH"
      },
      "id": "Zl3u56YiEfmH",
      "execution_count": null,
      "outputs": []
    },
    {
      "cell_type": "markdown",
      "source": [
        "#### Precision Bar Plot"
      ],
      "metadata": {
        "id": "fg6gOM4Jer-G"
      },
      "id": "fg6gOM4Jer-G"
    },
    {
      "cell_type": "code",
      "source": [
        "fig = plt.subplots( figsize=(15, 10))\n",
        "barWidth = 0.25\n",
        "\n",
        "nGramRangeA = [i for i in range(1,6)]\n",
        "nGramRangeB = [i + barWidth for i in nGramRangeA]\n",
        "nGramRangeC = [i + barWidth for i in nGramRangeB]\n",
        "\n",
        "#make plots\n",
        "plt.bar(nGramRangeA, lda_comparision_df[\"BOW_Precision\"], color = 'w', width = barWidth, edgecolor = 'grey', label = 'BOW_Precision', hatch=(\"---\"))\n",
        "plt.bar(nGramRangeB, lda_comparision_df[\"TF-IDF_Precision\"], color = 'k', width = barWidth, edgecolor = 'grey', label = 'TF-IDF_Precision')\n",
        "plt.bar(nGramRangeC, lda_comparision_df[\"W-Emb_Precision\"], color = 'w', width = barWidth, edgecolor = 'grey', label = 'W-Emb_Precision', hatch=(\"///\"))\n",
        "plt.legend(loc=\"best\")\n",
        "plt.xticks([1 + r + barWidth for r in range(len(nGramRangeC))], ['1-Gram', '2-Gram', '3-Gram', '4-Gram', '5-Gram'])\n",
        "plt.xlabel('N-Gram Co-Occurence', fontweight = 'bold', fontsize = 15)\n",
        "plt.ylabel('ROUGE-N Precision Score', fontweight = 'bold', fontsize = 15)\n",
        "plt.title(\"Comparision of ROUGE-N Precision scores for Summaries Generated Using LDA\", fontweight = 'bold', fontsize=17)\n",
        "plt.show()"
      ],
      "metadata": {
        "id": "Pao2XLTn8VlJ"
      },
      "id": "Pao2XLTn8VlJ",
      "execution_count": null,
      "outputs": []
    },
    {
      "cell_type": "code",
      "source": [
        ""
      ],
      "metadata": {
        "id": "AIaIRa5d8Wli"
      },
      "id": "AIaIRa5d8Wli",
      "execution_count": null,
      "outputs": []
    },
    {
      "cell_type": "markdown",
      "source": [
        "#### Recall Bar Plot"
      ],
      "metadata": {
        "id": "CneBEwfue86F"
      },
      "id": "CneBEwfue86F"
    },
    {
      "cell_type": "code",
      "source": [
        "fig = plt.subplots( figsize=(15, 10))\n",
        "barWidth = 0.25\n",
        "\n",
        "nGramRangeA = [i for i in range(1,6)]\n",
        "nGramRangeB = [i + barWidth for i in nGramRangeA]\n",
        "nGramRangeC = [i + barWidth for i in nGramRangeB]\n",
        "\n",
        "#make plots\n",
        "plt.bar(nGramRangeA, lda_comparision_df[\"BOW_Recall\"], color = 'w', width = barWidth, edgecolor = 'grey', label = 'BOW_Recall', hatch=(\"---\"))\n",
        "plt.bar(nGramRangeB, lda_comparision_df[\"TF-IDF_Recall\"], color = 'k', width = barWidth, edgecolor = 'grey', label = 'TF-IDF_Recall')\n",
        "plt.bar(nGramRangeC, lda_comparision_df[\"W-Emb_Recall\"], color = 'w', width = barWidth, edgecolor = 'grey', label = 'W-Emb_Recall', hatch=(\"///\"))\n",
        "plt.legend(loc=\"best\")\n",
        "plt.xticks([1 + r + barWidth for r in range(len(nGramRangeC))], ['1-Gram', '2-Gram', '3-Gram', '4-Gram', '5-Gram'])\n",
        "plt.xlabel('N-Gram Co-Occurence', fontweight = 'bold', fontsize = 15)\n",
        "plt.ylabel('ROUGE-N Recall Score', fontweight = 'bold', fontsize = 15)\n",
        "plt.title(\"Comparision of ROUGE-N Recall scores for Summaries Generated Using LDA\", fontweight = 'bold', fontsize=17)\n",
        "plt.show()\n"
      ],
      "metadata": {
        "id": "QVQV3QDAe8Id"
      },
      "id": "QVQV3QDAe8Id",
      "execution_count": null,
      "outputs": []
    },
    {
      "cell_type": "code",
      "source": [
        ""
      ],
      "metadata": {
        "id": "ChxLs4w6e8P3"
      },
      "id": "ChxLs4w6e8P3",
      "execution_count": null,
      "outputs": []
    },
    {
      "cell_type": "markdown",
      "source": [
        "#### F-Measure Plot"
      ],
      "metadata": {
        "id": "X_huDIrefHBO"
      },
      "id": "X_huDIrefHBO"
    },
    {
      "cell_type": "code",
      "source": [
        "fig = plt.subplots( figsize=(15, 10))\n",
        "barWidth = 0.25\n",
        "\n",
        "nGramRangeA = [i for i in range(1,6)]\n",
        "nGramRangeB = [i + barWidth for i in nGramRangeA]\n",
        "nGramRangeC = [i + barWidth for i in nGramRangeB]\n",
        "\n",
        "#make plots\n",
        "plt.bar(nGramRangeA, lda_comparision_df[\"BOW_Fmeasure\"], color = 'w', width = barWidth, edgecolor = 'grey', label = 'BOW_Fmeasure', hatch=(\"---\"))\n",
        "plt.bar(nGramRangeB, lda_comparision_df[\"TF-IDF_Fmeasure\"], color = 'k', width = barWidth, edgecolor = 'grey', label = 'TF-IDF_Fmeasure')\n",
        "plt.bar(nGramRangeC, lda_comparision_df[\"W-Emb_Fmeasure\"], color = 'w', width = barWidth, edgecolor = 'grey', label = 'W-Emb_Fmeasure', hatch=(\"///\"))\n",
        "plt.legend(loc=\"best\")\n",
        "plt.xticks([1 + r + barWidth for r in range(len(nGramRangeC))], ['1-Gram', '2-Gram', '3-Gram', '4-Gram', '5-Gram'])\n",
        "plt.xlabel('N-Gram Co-Occurence', fontweight = 'bold', fontsize = 15)\n",
        "plt.ylabel('ROUGE-N Fmeasure Score', fontweight = 'bold', fontsize = 15)\n",
        "plt.title(\"Comparision of ROUGE-N F-measure scores for Summaries Generated Using LDA\", fontweight = 'bold', fontsize=17)\n",
        "\n",
        "plt.show()"
      ],
      "metadata": {
        "id": "VCsVKC85e8TK"
      },
      "id": "VCsVKC85e8TK",
      "execution_count": null,
      "outputs": []
    },
    {
      "cell_type": "code",
      "source": [
        ""
      ],
      "metadata": {
        "id": "7nd52ZyffTqS"
      },
      "id": "7nd52ZyffTqS",
      "execution_count": null,
      "outputs": []
    },
    {
      "cell_type": "markdown",
      "source": [
        "### K-Means"
      ],
      "metadata": {
        "id": "gl-OqunCO_rl"
      },
      "id": "gl-OqunCO_rl"
    },
    {
      "cell_type": "markdown",
      "source": [
        "#### LSA"
      ],
      "metadata": {
        "id": "q9maZKB5PK9l"
      },
      "id": "q9maZKB5PK9l"
    },
    {
      "cell_type": "code",
      "source": [
        "klsa_comparision_df = pd.DataFrame()\n",
        "klsa_comparision_df[\"N-Gram Range\"] = [\"1-Gram\", \"2-Gram\", \"3-Gram\", \"4-Gram\", \"5-Gram\"]\n",
        "\n",
        "\n",
        "klsa_comparision_df[\"BOW_Recall\"] = [bow_lsa_kmeans_1gram_rouge.recall,\n",
        "                                     bow_lsa_kmeans_2gram_rouge.recall, \n",
        "                                     bow_lsa_kmeans_3gram_rouge.recall, \n",
        "                                     bow_lsa_kmeans_4gram_rouge.recall, \n",
        "                                     bow_lsa_kmeans_5gram_rouge.recall]\n",
        "\n",
        "klsa_comparision_df[\"TF-IDF_Recall\"] = [tfidf_lsa_kmeans_1gram_rouge.recall, \n",
        "                                        tfidf_lsa_kmeans_2gram_rouge.recall, \n",
        "                                        tfidf_lsa_kmeans_3gram_rouge.recall, \n",
        "                                        tfidf_lsa_kmeans_4gram_rouge.recall, \n",
        "                                        tfidf_lsa_kmeans_5gram_rouge.recall]\n",
        "\n",
        "klsa_comparision_df[\"W-Emb_Recall\"] = [wemb_lsa_kmeans_1gram_rouge.recall, \n",
        "                                       wemb_lsa_kmeans_2gram_rouge.recall, \n",
        "                                       wemb_lsa_kmeans_3gram_rouge.recall, \n",
        "                                       wemb_lsa_kmeans_4gram_rouge.recall, \n",
        "                                       wemb_lsa_kmeans_5gram_rouge.recall]\n",
        "\n",
        "\n",
        "\n",
        "\n",
        "klsa_comparision_df[\"BOW_Precision\"] = [bow_lsa_kmeans_1gram_rouge.precision, \n",
        "                                        bow_lsa_kmeans_2gram_rouge.precision, \n",
        "                                        bow_lsa_kmeans_3gram_rouge.precision, \n",
        "                                        bow_lsa_kmeans_4gram_rouge.precision, \n",
        "                                        bow_lsa_kmeans_5gram_rouge.precision]\n",
        "\n",
        "klsa_comparision_df[\"TF-IDF_Precision\"] = [tfidf_lsa_kmeans_1gram_rouge.precision, \n",
        "                                           tfidf_lsa_kmeans_2gram_rouge.precision, \n",
        "                                           tfidf_lsa_kmeans_3gram_rouge.precision, \n",
        "                                           tfidf_lsa_kmeans_4gram_rouge.precision, \n",
        "                                           tfidf_lsa_kmeans_5gram_rouge.precision]\n",
        "\n",
        "klsa_comparision_df[\"W-Emb_Precision\"] = [wemb_lsa_kmeans_1gram_rouge.precision, \n",
        "                                          wemb_lsa_kmeans_2gram_rouge.precision, \n",
        "                                          wemb_lsa_kmeans_3gram_rouge.precision, \n",
        "                                          wemb_lsa_kmeans_4gram_rouge.precision, \n",
        "                                          wemb_lsa_kmeans_5gram_rouge.precision]\n",
        "\n",
        "\n",
        "\n",
        "\n",
        "klsa_comparision_df[\"BOW_Fmeasure\"] = [bow_lsa_kmeans_1gram_rouge.fmeasure, \n",
        "                                       bow_lsa_kmeans_2gram_rouge.fmeasure, \n",
        "                                       bow_lsa_kmeans_3gram_rouge.fmeasure, \n",
        "                                       bow_lsa_kmeans_4gram_rouge.fmeasure, \n",
        "                                       bow_lsa_kmeans_5gram_rouge.fmeasure]\n",
        "\n",
        "klsa_comparision_df[\"TF-IDF_Fmeasure\"] = [tfidf_lsa_kmeans_1gram_rouge.fmeasure, \n",
        "                                          tfidf_lsa_kmeans_2gram_rouge.fmeasure, \n",
        "                                          tfidf_lsa_kmeans_3gram_rouge.fmeasure, \n",
        "                                          tfidf_lsa_kmeans_4gram_rouge.fmeasure, \n",
        "                                          tfidf_lsa_kmeans_5gram_rouge.fmeasure]\n",
        "\n",
        "klsa_comparision_df[\"W-Emb_Fmeasure\"] = [wemb_lsa_kmeans_1gram_rouge.fmeasure, \n",
        "                                         wemb_lsa_kmeans_2gram_rouge.fmeasure, \n",
        "                                         wemb_lsa_kmeans_3gram_rouge.fmeasure, \n",
        "                                         wemb_lsa_kmeans_4gram_rouge.fmeasure, \n",
        "                                         wemb_lsa_kmeans_5gram_rouge.fmeasure]\n",
        "\n",
        "klsa_comparision_df"
      ],
      "metadata": {
        "id": "CuV6dSbxPMp7"
      },
      "id": "CuV6dSbxPMp7",
      "execution_count": null,
      "outputs": []
    },
    {
      "cell_type": "code",
      "source": [
        ""
      ],
      "metadata": {
        "id": "T8d1adZtQ-Oi"
      },
      "id": "T8d1adZtQ-Oi",
      "execution_count": null,
      "outputs": []
    },
    {
      "cell_type": "markdown",
      "source": [
        "##### Precision Bar Plot"
      ],
      "metadata": {
        "id": "Psz0AXo_fZh0"
      },
      "id": "Psz0AXo_fZh0"
    },
    {
      "cell_type": "code",
      "source": [
        "fig = plt.subplots( figsize=(15, 10))\n",
        "barWidth = 0.25\n",
        "\n",
        "nGramRangeA = [i for i in range(1,6)]\n",
        "nGramRangeB = [i + barWidth for i in nGramRangeA]\n",
        "nGramRangeC = [i + barWidth for i in nGramRangeB]\n",
        "\n",
        "#make plots\n",
        "plt.bar(nGramRangeA, klsa_comparision_df[\"BOW_Precision\"], color = 'w', width = barWidth, edgecolor = 'grey', label = 'BOW_Precision', hatch=(\"---\"))\n",
        "plt.bar(nGramRangeB, klsa_comparision_df[\"TF-IDF_Precision\"], color = 'k', width = barWidth, edgecolor = 'grey', label = 'TF-IDF_Precision')\n",
        "plt.bar(nGramRangeC, klsa_comparision_df[\"W-Emb_Precision\"], color = 'w', width = barWidth, edgecolor = 'grey', label = 'W-Emb_Precision', hatch=(\"///\"))\n",
        "plt.legend(loc=\"best\")\n",
        "plt.xticks([1 + r + barWidth for r in range(len(nGramRangeC))], ['1-Gram', '2-Gram', '3-Gram', '4-Gram', '5-Gram'])\n",
        "plt.xlabel('N-Gram Co-Occurence', fontweight = 'bold', fontsize = 15)\n",
        "plt.ylabel('ROUGE-N Precision Score', fontweight = 'bold', fontsize = 15)\n",
        "plt.title(\"Comparision of ROUGE-N Precision scores for Summaries Generated Using K-means & LSA\", fontweight = 'bold', fontsize=15)\n",
        "plt.show()"
      ],
      "metadata": {
        "id": "PSMrXu7Jffks"
      },
      "id": "PSMrXu7Jffks",
      "execution_count": null,
      "outputs": []
    },
    {
      "cell_type": "code",
      "source": [
        ""
      ],
      "metadata": {
        "id": "gtGec2rUffyu"
      },
      "id": "gtGec2rUffyu",
      "execution_count": null,
      "outputs": []
    },
    {
      "cell_type": "markdown",
      "source": [
        "##### Recall Bar Plot"
      ],
      "metadata": {
        "id": "fTxKxj4df4Uc"
      },
      "id": "fTxKxj4df4Uc"
    },
    {
      "cell_type": "code",
      "source": [
        "\n",
        "fig = plt.subplots( figsize=(15, 10))\n",
        "barWidth = 0.25\n",
        "\n",
        "nGramRangeA = [i for i in range(1,6)]\n",
        "nGramRangeB = [i + barWidth for i in nGramRangeA]\n",
        "nGramRangeC = [i + barWidth for i in nGramRangeB]\n",
        "\n",
        "#make plots\n",
        "plt.bar(nGramRangeA, klsa_comparision_df[\"BOW_Recall\"], color = 'w', width = barWidth, edgecolor = 'grey', label = 'BOW_Recall', hatch=(\"---\"))\n",
        "plt.bar(nGramRangeB, klsa_comparision_df[\"TF-IDF_Recall\"], color = 'k', width = barWidth, edgecolor = 'grey', label = 'TF-IDF_Recall')\n",
        "plt.bar(nGramRangeC, klsa_comparision_df[\"W-Emb_Recall\"], color = 'w', width = barWidth, edgecolor = 'grey', label = 'W-Emb_Recall', hatch=(\"///\"))\n",
        "plt.legend(loc=\"best\")\n",
        "plt.xticks([1 + r + barWidth for r in range(len(nGramRangeC))], ['1-Gram', '2-Gram', '3-Gram', '4-Gram', '5-Gram'])\n",
        "plt.xlabel('N-Gram Co-Occurence', fontweight = 'bold', fontsize = 15)\n",
        "plt.ylabel('ROUGE-N Recall Score', fontweight = 'bold', fontsize = 15)\n",
        "plt.title(\"Comparision of ROUGE-N Recall scores for Summaries Generated Using K-means & LSA\", fontweight = 'bold', fontsize=15)\n",
        "plt.show()\n"
      ],
      "metadata": {
        "id": "Qi6VsMkvf69A"
      },
      "id": "Qi6VsMkvf69A",
      "execution_count": null,
      "outputs": []
    },
    {
      "cell_type": "code",
      "source": [
        ""
      ],
      "metadata": {
        "id": "y3_i_K0lff1b"
      },
      "id": "y3_i_K0lff1b",
      "execution_count": null,
      "outputs": []
    },
    {
      "cell_type": "markdown",
      "source": [
        "##### F-Measure Plot"
      ],
      "metadata": {
        "id": "28FWN5nNgIeH"
      },
      "id": "28FWN5nNgIeH"
    },
    {
      "cell_type": "code",
      "source": [
        "fig = plt.subplots( figsize=(15, 10))\n",
        "barWidth = 0.25\n",
        "\n",
        "nGramRangeA = [i for i in range(1,6)]\n",
        "nGramRangeB = [i + barWidth for i in nGramRangeA]\n",
        "nGramRangeC = [i + barWidth for i in nGramRangeB]\n",
        "\n",
        "#make plots\n",
        "plt.bar(nGramRangeA, klsa_comparision_df[\"BOW_Fmeasure\"], color = 'w', width = barWidth, edgecolor = 'grey', label = 'BOW_Fmeasure', hatch=(\"---\"))\n",
        "plt.bar(nGramRangeB, klsa_comparision_df[\"TF-IDF_Fmeasure\"], color = 'k', width = barWidth, edgecolor = 'grey', label = 'TF-IDF_Fmeasure')\n",
        "plt.bar(nGramRangeC, klsa_comparision_df[\"W-Emb_Fmeasure\"], color = 'w', width = barWidth, edgecolor = 'grey', label = 'W-Emb_Fmeasure', hatch=(\"///\"))\n",
        "plt.legend(loc=\"best\")\n",
        "plt.xticks([1 + r + barWidth for r in range(len(nGramRangeC))], ['1-Gram', '2-Gram', '3-Gram', '4-Gram', '5-Gram'])\n",
        "plt.xlabel('N-Gram Co-Occurence', fontweight = 'bold', fontsize = 15)\n",
        "plt.ylabel('ROUGE-N Fmeasure Score', fontweight = 'bold', fontsize = 15)\n",
        "plt.title(\"Comparision of ROUGE-N Fmeasure scores for Summaries Generated Using K-means & LSA\", fontweight = 'bold', fontsize=15)\n",
        "plt.show()"
      ],
      "metadata": {
        "id": "spSVBSu9gK3M"
      },
      "id": "spSVBSu9gK3M",
      "execution_count": null,
      "outputs": []
    },
    {
      "cell_type": "code",
      "source": [
        ""
      ],
      "metadata": {
        "id": "3AqGS4Usff4C"
      },
      "id": "3AqGS4Usff4C",
      "execution_count": null,
      "outputs": []
    },
    {
      "cell_type": "markdown",
      "source": [
        "#### LDA"
      ],
      "metadata": {
        "id": "uOYcQC3iPNN-"
      },
      "id": "uOYcQC3iPNN-"
    },
    {
      "cell_type": "code",
      "source": [
        "klda_comparision_df = pd.DataFrame()\n",
        "klda_comparision_df[\"N-Gram Range\"] = [\"1-Gram\", \"2-Gram\", \"3-Gram\", \"4-Gram\", \"5-Gram\"]\n",
        "\n",
        "\n",
        "klda_comparision_df[\"BOW_Recall\"] = [bow_lda_kmeans_1gram_rouge.recall,\n",
        "                                     bow_lda_kmeans_2gram_rouge.recall, \n",
        "                                     bow_lda_kmeans_3gram_rouge.recall, \n",
        "                                     bow_lda_kmeans_4gram_rouge.recall, \n",
        "                                     bow_lda_kmeans_5gram_rouge.recall]\n",
        "\n",
        "klda_comparision_df[\"TF-IDF_Recall\"] = [tfidf_lda_kmeans_1gram_rouge.recall, \n",
        "                                        tfidf_lda_kmeans_2gram_rouge.recall, \n",
        "                                        tfidf_lda_kmeans_3gram_rouge.recall, \n",
        "                                        tfidf_lda_kmeans_4gram_rouge.recall, \n",
        "                                        tfidf_lda_kmeans_5gram_rouge.recall]\n",
        "\n",
        "klda_comparision_df[\"W-Emb_Recall\"] = [wemb_lda_kmeans_1gram_rouge.recall, \n",
        "                                       wemb_lda_kmeans_2gram_rouge.recall, \n",
        "                                       wemb_lda_kmeans_3gram_rouge.recall, \n",
        "                                       wemb_lda_kmeans_4gram_rouge.recall, \n",
        "                                       wemb_lda_kmeans_5gram_rouge.recall]\n",
        "\n",
        "\n",
        "\n",
        "\n",
        "klda_comparision_df[\"BOW_Precision\"] = [bow_lda_kmeans_1gram_rouge.precision, \n",
        "                                        bow_lda_kmeans_2gram_rouge.precision, \n",
        "                                        bow_lda_kmeans_3gram_rouge.precision, \n",
        "                                        bow_lda_kmeans_4gram_rouge.precision, \n",
        "                                        bow_lda_kmeans_5gram_rouge.precision]\n",
        "\n",
        "klda_comparision_df[\"TF-IDF_Precision\"] = [tfidf_lda_kmeans_1gram_rouge.precision, \n",
        "                                           tfidf_lda_kmeans_2gram_rouge.precision, \n",
        "                                           tfidf_lda_kmeans_3gram_rouge.precision, \n",
        "                                           tfidf_lda_kmeans_4gram_rouge.precision, \n",
        "                                           tfidf_lda_kmeans_5gram_rouge.precision]\n",
        "\n",
        "klda_comparision_df[\"W-Emb_Precision\"] = [wemb_lda_kmeans_1gram_rouge.precision, \n",
        "                                          wemb_lda_kmeans_2gram_rouge.precision, \n",
        "                                          wemb_lda_kmeans_3gram_rouge.precision, \n",
        "                                          wemb_lda_kmeans_4gram_rouge.precision, \n",
        "                                          wemb_lda_kmeans_5gram_rouge.precision]\n",
        "\n",
        "\n",
        "\n",
        "\n",
        "klda_comparision_df[\"BOW_Fmeasure\"] = [bow_lda_kmeans_1gram_rouge.fmeasure, \n",
        "                                       bow_lda_kmeans_2gram_rouge.fmeasure, \n",
        "                                       bow_lda_kmeans_3gram_rouge.fmeasure, \n",
        "                                       bow_lda_kmeans_4gram_rouge.fmeasure, \n",
        "                                       bow_lda_kmeans_5gram_rouge.fmeasure]\n",
        "\n",
        "klda_comparision_df[\"TF-IDF_Fmeasure\"] = [tfidf_lda_kmeans_1gram_rouge.fmeasure, \n",
        "                                          tfidf_lda_kmeans_2gram_rouge.fmeasure, \n",
        "                                          tfidf_lda_kmeans_3gram_rouge.fmeasure, \n",
        "                                          tfidf_lda_kmeans_4gram_rouge.fmeasure, \n",
        "                                          tfidf_lda_kmeans_5gram_rouge.fmeasure]\n",
        "\n",
        "klda_comparision_df[\"W-Emb_Fmeasure\"] = [wemb_lda_kmeans_1gram_rouge.fmeasure, \n",
        "                                         wemb_lda_kmeans_2gram_rouge.fmeasure, \n",
        "                                         wemb_lda_kmeans_3gram_rouge.fmeasure, \n",
        "                                         wemb_lda_kmeans_4gram_rouge.fmeasure, \n",
        "                                         wemb_lda_kmeans_5gram_rouge.fmeasure]\n",
        "\n",
        "klda_comparision_df"
      ],
      "metadata": {
        "id": "OTFeDL__PHEy"
      },
      "id": "OTFeDL__PHEy",
      "execution_count": null,
      "outputs": []
    },
    {
      "cell_type": "code",
      "source": [
        ""
      ],
      "metadata": {
        "id": "A7DSxkHfRZ_m"
      },
      "id": "A7DSxkHfRZ_m",
      "execution_count": null,
      "outputs": []
    },
    {
      "cell_type": "markdown",
      "source": [
        "##### Precision Bar Plot"
      ],
      "metadata": {
        "id": "W7jHHbJbgzJh"
      },
      "id": "W7jHHbJbgzJh"
    },
    {
      "cell_type": "code",
      "source": [
        "fig = plt.subplots( figsize=(15, 10))\n",
        "barWidth = 0.25\n",
        "\n",
        "nGramRangeA = [i for i in range(1,6)]\n",
        "nGramRangeB = [i + barWidth for i in nGramRangeA]\n",
        "nGramRangeC = [i + barWidth for i in nGramRangeB]\n",
        "\n",
        "#make plots\n",
        "plt.bar(nGramRangeA, klda_comparision_df[\"BOW_Precision\"], color = 'w', width = barWidth, edgecolor = 'grey', label = 'BOW_Precision', hatch=(\"---\"))\n",
        "plt.bar(nGramRangeB, klda_comparision_df[\"TF-IDF_Precision\"], color = 'k', width = barWidth, edgecolor = 'grey', label = 'TF-IDF_Precision')\n",
        "plt.bar(nGramRangeC, klda_comparision_df[\"W-Emb_Precision\"], color = 'w', width = barWidth, edgecolor = 'grey', label = 'W-Emb_Precision', hatch=(\"///\"))\n",
        "plt.legend(loc=\"best\")\n",
        "plt.xticks([1 + r + barWidth for r in range(len(nGramRangeC))], ['1-Gram', '2-Gram', '3-Gram', '4-Gram', '5-Gram'])\n",
        "plt.xlabel('N-Gram Co-Occurence', fontweight = 'bold', fontsize = 15)\n",
        "plt.ylabel('ROUGE-N Precision Score', fontweight = 'bold', fontsize = 15)\n",
        "plt.title(\"Comparision of ROUGE-N Precision scores for Summaries Generated Using K-means & LDA\", fontweight = 'bold', fontsize=15)\n",
        "plt.show()"
      ],
      "metadata": {
        "id": "_CDvFWHNRaFH"
      },
      "id": "_CDvFWHNRaFH",
      "execution_count": null,
      "outputs": []
    },
    {
      "cell_type": "code",
      "source": [
        ""
      ],
      "metadata": {
        "id": "cjQh8SZxhEfm"
      },
      "id": "cjQh8SZxhEfm",
      "execution_count": null,
      "outputs": []
    },
    {
      "cell_type": "markdown",
      "source": [
        "##### Recall Bar Plot"
      ],
      "metadata": {
        "id": "wPMXjk76hnCM"
      },
      "id": "wPMXjk76hnCM"
    },
    {
      "cell_type": "code",
      "source": [
        "fig = plt.subplots( figsize=(15, 10))\n",
        "barWidth = 0.25\n",
        "\n",
        "nGramRangeA = [i for i in range(1,6)]\n",
        "nGramRangeB = [i + barWidth for i in nGramRangeA]\n",
        "nGramRangeC = [i + barWidth for i in nGramRangeB]\n",
        "\n",
        "#make plots\n",
        "plt.bar(nGramRangeA, klda_comparision_df[\"BOW_Recall\"], color = 'w', width = barWidth, edgecolor = 'grey', label = 'BOW_Recall', hatch=(\"---\"))\n",
        "plt.bar(nGramRangeB, klda_comparision_df[\"TF-IDF_Recall\"], color = 'k', width = barWidth, edgecolor = 'grey', label = 'TF-IDF_Recall')\n",
        "plt.bar(nGramRangeC, klda_comparision_df[\"W-Emb_Recall\"], color = 'w', width = barWidth, edgecolor = 'grey', label = 'W-Emb_Recall', hatch=(\"///\"))\n",
        "plt.legend(loc=\"best\")\n",
        "plt.xticks([1 + r + barWidth for r in range(len(nGramRangeC))], ['1-Gram', '2-Gram', '3-Gram', '4-Gram', '5-Gram'])\n",
        "plt.xlabel('N-Gram Co-Occurence', fontweight = 'bold', fontsize = 15)\n",
        "plt.ylabel('ROUGE-N Precision Score', fontweight = 'bold', fontsize = 15)\n",
        "plt.title(\"Comparision of ROUGE-N Recall scores for Summaries Generated Using K-means & LDA\", fontweight = 'bold', fontsize=15)\n",
        "plt.show()"
      ],
      "metadata": {
        "id": "uGS6RQenhEiK"
      },
      "id": "uGS6RQenhEiK",
      "execution_count": null,
      "outputs": []
    },
    {
      "cell_type": "code",
      "source": [
        ""
      ],
      "metadata": {
        "id": "tgrUc8-din9P"
      },
      "id": "tgrUc8-din9P",
      "execution_count": null,
      "outputs": []
    },
    {
      "cell_type": "code",
      "source": [
        ""
      ],
      "metadata": {
        "id": "-Yu3sEWoioAR"
      },
      "id": "-Yu3sEWoioAR",
      "execution_count": null,
      "outputs": []
    },
    {
      "cell_type": "markdown",
      "source": [
        "##### F-Measure Plot"
      ],
      "metadata": {
        "id": "_NgC4NzChs1v"
      },
      "id": "_NgC4NzChs1v"
    },
    {
      "cell_type": "code",
      "source": [
        "fig = plt.subplots( figsize=(15, 10))\n",
        "barWidth = 0.25\n",
        "\n",
        "nGramRangeA = [i for i in range(1,6)]\n",
        "nGramRangeB = [i + barWidth for i in nGramRangeA]\n",
        "nGramRangeC = [i + barWidth for i in nGramRangeB]\n",
        "\n",
        "#make plots\n",
        "plt.bar(nGramRangeA, klda_comparision_df[\"BOW_Fmeasure\"], color = 'w', width = barWidth, edgecolor = 'grey', label = 'BOW_Fmeasure', hatch=(\"---\"))\n",
        "plt.bar(nGramRangeB, klda_comparision_df[\"TF-IDF_Fmeasure\"], color = 'k', width = barWidth, edgecolor = 'grey', label = 'TF-IDF_Fmeasure')\n",
        "plt.bar(nGramRangeC, klda_comparision_df[\"W-Emb_Fmeasure\"], color = 'w', width = barWidth, edgecolor = 'grey', label = 'W-Emb_Fmeasure', hatch=(\"///\"))\n",
        "plt.legend(loc=\"best\")\n",
        "plt.xticks([1 + r + barWidth for r in range(len(nGramRangeC))], ['1-Gram', '2-Gram', '3-Gram', '4-Gram', '5-Gram'])\n",
        "plt.xlabel('N-Gram Co-Occurence', fontweight = 'bold', fontsize = 15)\n",
        "plt.ylabel('ROUGE-N Recall Score', fontweight = 'bold', fontsize = 15)\n",
        "plt.title(\"Comparision of ROUGE-N F-measure scores for Summaries Generated Using K-means & LDA\", fontweight = 'bold', fontsize=15)\n",
        "plt.show()\n"
      ],
      "metadata": {
        "id": "IvZXffjEhzkC"
      },
      "id": "IvZXffjEhzkC",
      "execution_count": null,
      "outputs": []
    },
    {
      "cell_type": "code",
      "source": [
        ""
      ],
      "metadata": {
        "id": "t1Sa_m8zhzmv"
      },
      "id": "t1Sa_m8zhzmv",
      "execution_count": null,
      "outputs": []
    },
    {
      "cell_type": "code",
      "source": [
        ""
      ],
      "metadata": {
        "id": "c7LLAHyChzpm"
      },
      "id": "c7LLAHyChzpm",
      "execution_count": null,
      "outputs": []
    },
    {
      "cell_type": "markdown",
      "source": [
        "## Overall (F-Measure)"
      ],
      "metadata": {
        "id": "BPPAj7gWhHZ9"
      },
      "id": "BPPAj7gWhHZ9"
    },
    {
      "cell_type": "code",
      "source": [
        "fm_comparision_df = pd.DataFrame()\n",
        "fm_comparision_df[\"LSA_TF-IDF_Fmeasure\"] = [tfidf_lsa_1gram_rouge.fmeasure, tfidf_lsa_2gram_rouge.fmeasure, tfidf_lsa_3gram_rouge.fmeasure, tfidf_lsa_4gram_rouge.fmeasure, tfidf_lsa_5gram_rouge.fmeasure]\n",
        "fm_comparision_df[\"LDA_BOW_Fmeasure\"] = [bow_lda_1gram_rouge.fmeasure, bow_lda_2gram_rouge.fmeasure, bow_lda_3gram_rouge.fmeasure, bow_lda_4gram_rouge.fmeasure, bow_lda_5gram_rouge.fmeasure]\n",
        "fm_comparision_df[\"LSA_KM_TF-IDF_Fmeasure\"] = [tfidf_lsa_kmeans_1gram_rouge.fmeasure, tfidf_lsa_kmeans_2gram_rouge.fmeasure, tfidf_lsa_kmeans_3gram_rouge.fmeasure, tfidf_lsa_kmeans_4gram_rouge.fmeasure, tfidf_lsa_kmeans_5gram_rouge.fmeasure]\n",
        "fm_comparision_df[\"LDA_KM_BOW_Fmeasure\"] = [bow_lda_kmeans_1gram_rouge.fmeasure, bow_lda_kmeans_2gram_rouge.fmeasure, bow_lda_kmeans_3gram_rouge.fmeasure, bow_lda_kmeans_4gram_rouge.fmeasure, bow_lda_kmeans_5gram_rouge.fmeasure]\n",
        "fm_comparision_df\n"
      ],
      "metadata": {
        "id": "dO8PJW3GRaIC"
      },
      "id": "dO8PJW3GRaIC",
      "execution_count": null,
      "outputs": []
    },
    {
      "cell_type": "code",
      "source": [
        "fig = plt.subplots( figsize=(15, 10))\n",
        "barWidth = 0.2\n",
        "\n",
        "nGramRangeA = [i for i in range(1,6)]\n",
        "nGramRangeB = [i + barWidth for i in nGramRangeA]\n",
        "nGramRangeC = [i + barWidth for i in nGramRangeB]\n",
        "nGramRangeD = [i + barWidth for i in nGramRangeC]\n",
        "\n",
        "#make plots\n",
        "plt.bar(nGramRangeA,fm_comparision_df[\"LSA_TF-IDF_Fmeasure\"], color = 'w', width = barWidth, edgecolor = 'grey', label=\"LSA_TF-IDF\", hatch=(\"+++\"))\n",
        "plt.bar(nGramRangeB,fm_comparision_df[\"LDA_BOW_Fmeasure\"], color = 'k', width = barWidth, edgecolor = 'grey', label=\"LDA_BOW\")\n",
        "plt.bar(nGramRangeC,fm_comparision_df[\"LSA_KM_TF-IDF_Fmeasure\"], color = 'w', width = barWidth, edgecolor = 'grey', label=\"LSA_KM_TF-IDF\", hatch=(\"xxx\"))\n",
        "plt.bar(nGramRangeD,fm_comparision_df[\"LDA_KM_BOW_Fmeasure\"], color = 'w', width = barWidth, edgecolor = 'grey', label=\"LDA_KM_BOW\", hatch=(\"///\"))\n",
        "plt.legend()\n",
        "plt.xticks([1 + r + barWidth for r in range(len(nGramRangeC))], ['1-Gram', '2-Gram', '3-Gram', '4-Gram', '5-Gram'])\n",
        "plt.xlabel('N-Gram Co-Occurence', fontweight = 'bold', fontsize = 15)\n",
        "plt.ylabel('ROUGE-N F-measure Score', fontweight = 'bold', fontsize = 15)\n",
        "plt.title(\"Comparision of Higest ROUGE-N F-measure scores for Summaries Generated Using Different Techniques\", fontweight = 'bold', fontsize=15)\n",
        "plt.show()\n"
      ],
      "metadata": {
        "id": "b0uHpQUPjTZX"
      },
      "id": "b0uHpQUPjTZX",
      "execution_count": null,
      "outputs": []
    },
    {
      "cell_type": "code",
      "source": [
        ""
      ],
      "metadata": {
        "id": "xngyUPvW6AoQ"
      },
      "id": "xngyUPvW6AoQ",
      "execution_count": null,
      "outputs": []
    },
    {
      "cell_type": "code",
      "source": [
        ""
      ],
      "metadata": {
        "id": "smUhb_Jh6Aqo"
      },
      "id": "smUhb_Jh6Aqo",
      "execution_count": null,
      "outputs": []
    },
    {
      "cell_type": "markdown",
      "source": [
        "#### Timing Plots"
      ],
      "metadata": {
        "id": "9NKsibpBKKHS"
      },
      "id": "9NKsibpBKKHS"
    },
    {
      "cell_type": "code",
      "source": [
        "averageTimingDf = pd.DataFrame()\n",
        "\n",
        "#BOW \n",
        "averageTimingDf[\"BOW_LSA\"] = [bow_lsa_1gram_tt,  bow_lsa_2gram_tt, bow_lsa_3gram_tt, bow_lsa_4gram_tt, bow_lsa_5gram_tt]\n",
        "averageTimingDf[\"BOW_LDA\"] = [bow_lda_1gram_tt,  bow_lda_2gram_tt, bow_lda_3gram_tt, bow_lda_4gram_tt, bow_lda_5gram_tt]\n",
        "\n",
        "#BOW & K-means\n",
        "averageTimingDf[\"BOW_KLSA\"] = [bow_lsa_kmeans_1gram_tt,  bow_lsa_kmeans_2gram_tt, bow_lsa_kmeans_3gram_tt, bow_lsa_kmeans_4gram_tt, bow_lsa_kmeans_5gram_tt]\n",
        "averageTimingDf[\"BOW_KLDA\"] = [bow_lda_kmeans_1gram_tt,  bow_lda_kmeans_2gram_tt, bow_lda_kmeans_3gram_tt, bow_lda_kmeans_4gram_tt, bow_lda_kmeans_5gram_tt]\n",
        "\n",
        "#TF-IDF\n",
        "averageTimingDf[\"TF_IDF_LSA\"] = [tfidf_lsa_1gram_tt,  tfidf_lsa_2gram_tt, tfidf_lsa_3gram_tt, tfidf_lsa_4gram_tt, tfidf_lsa_5gram_tt]\n",
        "averageTimingDf[\"TF_IDF_LDA\"] = [tfidf_lda_1gram_tt,  tfidf_lda_2gram_tt, tfidf_lda_3gram_tt, tfidf_lda_4gram_tt, tfidf_lda_5gram_tt]\n",
        "\n",
        "#TF-IDF & K - means\n",
        "averageTimingDf[\"TF_IDF_KLSA\"] = [tfidf_lsa_kmeans_1gram_tt,  tfidf_lsa_kmeans_2gram_tt, tfidf_lsa_kmeans_3gram_tt, tfidf_lsa_kmeans_4gram_tt, tfidf_lsa_kmeans_5gram_tt]\n",
        "averageTimingDf[\"TF_IDF_KLDA\"] = [tfidf_lda_kmeans_1gram_tt,  tfidf_lda_kmeans_2gram_tt, tfidf_lda_kmeans_3gram_tt, tfidf_lda_kmeans_4gram_tt, tfidf_lda_kmeans_5gram_tt]\n",
        "\n",
        "#W-Emb \n",
        "averageTimingDf[\"WEMB_LSA\"] = [wemb_lsa_1gram_tt,  wemb_lsa_2gram_tt, wemb_lsa_3gram_tt, wemb_lsa_4gram_tt, wemb_lsa_5gram_tt]\n",
        "averageTimingDf[\"WEMB_LDA\"] = [wemb_lda_1gram_tt,  wemb_lda_2gram_tt, wemb_lda_3gram_tt, wemb_lda_4gram_tt, wemb_lda_5gram_tt]\n",
        "\n",
        "#W-Emb & K - means\n",
        "averageTimingDf[\"WEMB_KLSA\"] = [wemb_lsa_kmeans_1gram_tt,  wemb_lsa_kmeans_2gram_tt, wemb_lsa_kmeans_3gram_tt, wemb_lsa_kmeans_4gram_tt, wemb_lsa_kmeans_5gram_tt]\n",
        "averageTimingDf[\"WEMB_KLDA\"] = [wemb_lda_kmeans_1gram_tt,  wemb_lda_kmeans_2gram_tt, wemb_lda_kmeans_3gram_tt, wemb_lda_kmeans_4gram_tt, wemb_lda_kmeans_5gram_tt]\n",
        "\n",
        "averageTimingDf"
      ],
      "metadata": {
        "id": "d4G22IIYKYPJ"
      },
      "id": "d4G22IIYKYPJ",
      "execution_count": null,
      "outputs": []
    },
    {
      "cell_type": "code",
      "source": [
        ""
      ],
      "metadata": {
        "id": "BEMgFF6Pe2yi"
      },
      "id": "BEMgFF6Pe2yi",
      "execution_count": null,
      "outputs": []
    },
    {
      "cell_type": "code",
      "source": [
        "timingsDf = pd.DataFrame()\n",
        "\n",
        "timingsDf[\"Labels\"]  = [\"BOW_LSA\", \n",
        "                        \"BOW_LDA\", \n",
        "                        \n",
        "                        \"BOW_LSA_K-means\", \n",
        "                        \"BOW_LDA_K-means\",\n",
        "                        \n",
        "                        \"TF_IDF_LSA\", \n",
        "                        \"TF_IDF_LDA\", \n",
        "\n",
        "                        \"TF_IDF_LSA_K-means\", \n",
        "                        \"TF_IDF_LDA_K-means\",\n",
        "                        \n",
        "                        \"WEMB_LSA\", \n",
        "                        \"WEMB_LDA\",\n",
        "\n",
        "                        \"WEMB_LSA_K-means\", \n",
        "                        \"WEMB_LDA_K-means\"]\n",
        "\n",
        "\n",
        "#final Averages\n",
        "timingsDf[\"Median\"] = [averageTimingDf[\"BOW_LSA\"].median(),\n",
        "                            averageTimingDf[\"BOW_LDA\"].median(),\n",
        "                            \n",
        "                            averageTimingDf[\"BOW_KLSA\"].median(),\n",
        "                            averageTimingDf[\"BOW_KLDA\"].median(),\n",
        "                            \n",
        "                            averageTimingDf[\"TF_IDF_LSA\"].median(),\n",
        "                            averageTimingDf[\"TF_IDF_LDA\"].median(),\n",
        "                            \n",
        "                            averageTimingDf[\"TF_IDF_KLSA\"].median(),\n",
        "                            averageTimingDf[\"TF_IDF_KLDA\"].median(),\n",
        "                            \n",
        "                            averageTimingDf[\"WEMB_LSA\"].median(),\n",
        "                            averageTimingDf[\"WEMB_LDA\"].median(),\n",
        "                            \n",
        "                            averageTimingDf[\"WEMB_KLSA\"].median(),\n",
        "                            averageTimingDf[\"WEMB_KLDA\"].median()]\n",
        "\n",
        "timingsDf"
      ],
      "metadata": {
        "id": "otpRuxkbe3iq"
      },
      "id": "otpRuxkbe3iq",
      "execution_count": null,
      "outputs": []
    },
    {
      "cell_type": "code",
      "source": [
        ""
      ],
      "metadata": {
        "id": "Y7_5_-tcFfQa"
      },
      "id": "Y7_5_-tcFfQa",
      "execution_count": null,
      "outputs": []
    },
    {
      "cell_type": "code",
      "source": [
        "fig, ax = plt.subplots(figsize=(16, 9))\n",
        "plt.barh(timingsDf[\"Labels\"], timingsDf[\"Median\"], color = \"w\", hatch=(\"///\"))\n",
        "plt.xlabel(\"Time Taken (ms)\", fontweight = 'bold', fontsize = 15)\n",
        "plt.ylabel(\"Model Type\", fontweight = 'bold', fontsize = 15)\n",
        "plt.title(\"End to End Execution Time of All Models\", fontweight = 'bold', fontsize = 20)\n",
        "plt.show()"
      ],
      "metadata": {
        "id": "C1yklzBqFfUR"
      },
      "id": "C1yklzBqFfUR",
      "execution_count": null,
      "outputs": []
    },
    {
      "cell_type": "code",
      "source": [
        ""
      ],
      "metadata": {
        "id": "_vPaH2KaLVS4"
      },
      "id": "_vPaH2KaLVS4",
      "execution_count": null,
      "outputs": []
    },
    {
      "cell_type": "code",
      "source": [
        ""
      ],
      "metadata": {
        "id": "kloE0MBQMUqr"
      },
      "id": "kloE0MBQMUqr",
      "execution_count": null,
      "outputs": []
    },
    {
      "cell_type": "code",
      "source": [
        ""
      ],
      "metadata": {
        "id": "gTd_1SPRinFW"
      },
      "id": "gTd_1SPRinFW",
      "execution_count": null,
      "outputs": []
    },
    {
      "cell_type": "code",
      "source": [
        ""
      ],
      "metadata": {
        "id": "Nlw97N5fsNuL"
      },
      "id": "Nlw97N5fsNuL",
      "execution_count": null,
      "outputs": []
    },
    {
      "cell_type": "code",
      "source": [
        ""
      ],
      "metadata": {
        "id": "f67rHsLWsNw-"
      },
      "id": "f67rHsLWsNw-",
      "execution_count": null,
      "outputs": []
    }
  ],
  "metadata": {
    "kernelspec": {
      "display_name": "Python 3",
      "language": "python",
      "name": "python3"
    },
    "language_info": {
      "codemirror_mode": {
        "name": "ipython",
        "version": 3
      },
      "file_extension": ".py",
      "mimetype": "text/x-python",
      "name": "python",
      "nbconvert_exporter": "python",
      "pygments_lexer": "ipython3",
      "version": "3.8.8"
    },
    "colab": {
      "name": "ExTs.ipynb",
      "provenance": [],
      "toc_visible": true,
      "include_colab_link": true
    }
  },
  "nbformat": 4,
  "nbformat_minor": 5
}